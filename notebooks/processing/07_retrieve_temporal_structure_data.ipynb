{
 "cells": [
  {
   "cell_type": "markdown",
   "id": "1d5853d4-97fd-4600-bed4-ff3b8ae90c80",
   "metadata": {
    "tags": []
   },
   "source": [
    "# 7. Retrieve temporal metadata from SAbDab"
   ]
  },
  {
   "cell_type": "markdown",
   "id": "ce8ba5f6-9ee6-43e9-a28a-bfd264a2c8e8",
   "metadata": {
    "tags": []
   },
   "source": [
    "## Setup"
   ]
  },
  {
   "cell_type": "code",
   "execution_count": 47,
   "id": "b89f9571-eec0-4100-ac9e-2e90158d9c66",
   "metadata": {},
   "outputs": [],
   "source": [
    "import os\n",
    "import pickle\n",
    "import re\n",
    "import sys; sys.path.append('../..')\n",
    "\n",
    "import matplotlib.pyplot as plt\n",
    "import pandas as pd\n",
    "import seaborn as sns; sns.set_theme()\n",
    "from matplotlib.patches import Rectangle\n",
    "\n",
    "import bin.params as p\n",
    "import bin.utils as u"
   ]
  },
  {
   "cell_type": "code",
   "execution_count": 92,
   "id": "4965ef46-eeef-4377-b517-4f62f93dcf50",
   "metadata": {},
   "outputs": [
    {
     "data": {
      "text/plain": [
       "('../../data/csv/fasta_aligned_cleaned',\n",
       " '../../data/png/numberOfStructuresUploadedPerYear.png',\n",
       " '../../data/png/temporal_split.png',\n",
       " '../../data/csv/metadata',\n",
       " '../../data/pdb',\n",
       " 70,\n",
       " 83)"
      ]
     },
     "execution_count": 92,
     "metadata": {},
     "output_type": "execute_result"
    }
   ],
   "source": [
    "DATASET = 'test' # DO NOT FORGET TO CHANGE IF NECESSARY\n",
    "\n",
    "# july2024\n",
    "FASTA_ALIGNED_CLEANED_DIR_PATH = f'{p.DATA_DIR}/csv/fasta_aligned_cleanedJuly2024'\n",
    "STRUCTURE_UPLOADED_PER_YEAR_PNG_PATH = f'{p.DATA_DIR}/png/structureUploadedPerYearJuly2024.png'\n",
    "TEMPORAL_SPLIT_CUMULATIVE_WITH_SETS = f'{p.DATA_DIR}/png/temporal_splitJuly2024.png'\n",
    "METADATA_DIR_PATH = f'{p.DATA_DIR}/csv/metadataJuly2024'\n",
    "\n",
    "# old\n",
    "FASTA_ALIGNED_CLEANED_DIR_PATH = f'{p.DATA_DIR}/csv/fasta_aligned_cleaned'\n",
    "STRUCTURE_UPLOADED_PER_YEAR_PNG_PATH  = f'{p.DATA_DIR}/png/numberOfStructuresUploadedPerYear.png'\n",
    "TEMPORAL_SPLIT_CUMULATIVE_WITH_SETS = f'{p.DATA_DIR}/png/temporal_split.png'\n",
    "METADATA_DIR_PATH = f'{p.DATA_DIR}/csv/metadata' \n",
    "\n",
    "# common\n",
    "TRAIN_CUM_PERCENTAGE = 70\n",
    "VALID_CUM_PERCENTAGE = 83\n",
    "PDB_DIR = f'{p.DATA_DIR}/pdb'\n",
    "\n",
    "# show\n",
    "(FASTA_ALIGNED_CLEANED_DIR_PATH, \n",
    " STRUCTURE_UPLOADED_PER_YEAR_PNG_PATH, \n",
    " TEMPORAL_SPLIT_CUMULATIVE_WITH_SETS, \n",
    " METADATA_DIR_PATH, \n",
    " PDB_DIR, TRAIN_CUM_PERCENTAGE, VALID_CUM_PERCENTAGE)"
   ]
  },
  {
   "cell_type": "markdown",
   "id": "d681e7d4-c44e-463b-81b5-6d745b84b449",
   "metadata": {},
   "source": [
    "**Load the FASTA dataset:**"
   ]
  },
  {
   "cell_type": "code",
   "execution_count": 4,
   "id": "f191b85b-f843-4c06-b397-ac8bdaf3c783",
   "metadata": {},
   "outputs": [
    {
     "name": "stdout",
     "output_type": "stream",
     "text": [
      "fasta.shape: (6572, 317)\n"
     ]
    }
   ],
   "source": [
    "fasta = pd.read_csv(f'{FASTA_ALIGNED_CLEANED_DIR_PATH}/fasta_{p.FINAL_NUMBERING_SCHEME}_all.csv', index_col=0)\n",
    "print('fasta.shape:', fasta.shape)"
   ]
  },
  {
   "cell_type": "markdown",
   "id": "542b64e8-5656-4946-8fac-715e6709316f",
   "metadata": {},
   "source": [
    "**Helper functions:**"
   ]
  },
  {
   "cell_type": "code",
   "execution_count": 98,
   "id": "fc80b3f0-30bf-40bb-a9d4-bbe6cf41dc32",
   "metadata": {},
   "outputs": [],
   "source": [
    "def get_summary_file_path(dataset):\n",
    "    # temporary fix for July2024\n",
    "    if dataset == 'test_new_234':\n",
    "        summary_file_path = 'all_structures_2024/sabdab_summary_all.tsv'\n",
    "    else:\n",
    "        # get sabdab tsv file \n",
    "        summary_file_paths = [fn for fn in os.listdir(PDB_DIR) if fn.endswith('_summary.tsv')]\n",
    "        assert len(summary_file_paths) == 1, f'multiple summary files?? {list(summary_file_paths)}'\n",
    "        summary_file_path = summary_file_paths[0]\n",
    "    \n",
    "    summary_file_path_complete = f'{PDB_DIR}/{summary_file_path}'\n",
    "    print('complete summary file path:', summary_file_path_complete) \n",
    "    return summary_file_path_complete\n",
    "\n",
    "def load_metadata(dataset):\n",
    "    path = get_summary_file_path(dataset)\n",
    "    summaries_df = pd.read_csv(path, sep='\\t')\n",
    "    print(f'loaded {dataset} | shape: {summaries_df.shape} | columns: {list(summaries_df.columns)}')\n",
    "    return summaries_df\n",
    "\n",
    "def generate_short_metadata_df(summaries_df, interesting_columns = []):\n",
    "    date_uploaded_df = summaries_df[ summaries_df['pdb'].isin(fasta_keys) ].drop_duplicates(subset=['pdb', 'date'])[interesting_columns]\n",
    "    date_uploaded_df.index = date_uploaded_df['pdb']\n",
    "    date_uploaded_df.sort_index(inplace=True)\n",
    "    date_uploaded_df['date'] = date_uploaded_df['date'].astype('datetime64[ns]')\n",
    "    date_uploaded_df['year'] = date_uploaded_df['date'].dt.year\n",
    "    date_uploaded_df.drop(columns='pdb', errors='ignore', inplace=True)\n",
    "    print(f'short metadata df | shape: {date_uploaded_df.shape} | columns: {list(date_uploaded_df.columns)}')\n",
    "    return date_uploaded_df"
   ]
  },
  {
   "cell_type": "markdown",
   "id": "43588299-582c-49db-8e64-6eb8a9d6a9d4",
   "metadata": {},
   "source": [
    "**Load summary `tsv` file downloaded from `SAbDab`:**"
   ]
  },
  {
   "cell_type": "code",
   "execution_count": 77,
   "id": "21c61d85-2454-45c0-bfe3-0914b3a7e950",
   "metadata": {},
   "outputs": [
    {
     "name": "stdout",
     "output_type": "stream",
     "text": [
      "complete summary file path: ../../data/pdb/20220601_0621156_summary.tsv\n",
      "loaded test | shape: (7580, 30) | columns: ['pdb', 'Hchain', 'Lchain', 'model', 'antigen_chain', 'antigen_type', 'antigen_het_name', 'antigen_name', 'short_header', 'date', 'compound', 'organism', 'heavy_species', 'light_species', 'antigen_species', 'authors', 'resolution', 'method', 'r_free', 'r_factor', 'scfv', 'engineered', 'heavy_subclass', 'light_subclass', 'light_ctype', 'affinity', 'delta_g', 'affinity_method', 'temperature', 'pmid']\n"
     ]
    }
   ],
   "source": [
    "summaries_df = load_metadata(DATASET)"
   ]
  },
  {
   "cell_type": "code",
   "execution_count": 78,
   "id": "5badcb9f-6c9b-43a0-bf98-b40be53a0dad",
   "metadata": {},
   "outputs": [
    {
     "data": {
      "text/html": [
       "<div>\n",
       "<style scoped>\n",
       "    .dataframe tbody tr th:only-of-type {\n",
       "        vertical-align: middle;\n",
       "    }\n",
       "\n",
       "    .dataframe tbody tr th {\n",
       "        vertical-align: top;\n",
       "    }\n",
       "\n",
       "    .dataframe thead th {\n",
       "        text-align: right;\n",
       "    }\n",
       "</style>\n",
       "<table border=\"1\" class=\"dataframe\">\n",
       "  <thead>\n",
       "    <tr style=\"text-align: right;\">\n",
       "      <th></th>\n",
       "      <th>pdb</th>\n",
       "      <th>Hchain</th>\n",
       "      <th>Lchain</th>\n",
       "      <th>model</th>\n",
       "      <th>antigen_chain</th>\n",
       "      <th>antigen_type</th>\n",
       "      <th>antigen_het_name</th>\n",
       "      <th>antigen_name</th>\n",
       "      <th>short_header</th>\n",
       "      <th>date</th>\n",
       "      <th>...</th>\n",
       "      <th>scfv</th>\n",
       "      <th>engineered</th>\n",
       "      <th>heavy_subclass</th>\n",
       "      <th>light_subclass</th>\n",
       "      <th>light_ctype</th>\n",
       "      <th>affinity</th>\n",
       "      <th>delta_g</th>\n",
       "      <th>affinity_method</th>\n",
       "      <th>temperature</th>\n",
       "      <th>pmid</th>\n",
       "    </tr>\n",
       "  </thead>\n",
       "  <tbody>\n",
       "    <tr>\n",
       "      <th>0</th>\n",
       "      <td>1mhp</td>\n",
       "      <td>H</td>\n",
       "      <td>L</td>\n",
       "      <td>0</td>\n",
       "      <td>A</td>\n",
       "      <td>protein</td>\n",
       "      <td>NaN</td>\n",
       "      <td>integrin alpha 1, (residues 169-360)</td>\n",
       "      <td>IMMUNE SYSTEM</td>\n",
       "      <td>08/20/02</td>\n",
       "      <td>...</td>\n",
       "      <td>False</td>\n",
       "      <td>True</td>\n",
       "      <td>IGHV3</td>\n",
       "      <td>IGKV1D</td>\n",
       "      <td>Kappa</td>\n",
       "      <td>None</td>\n",
       "      <td>None</td>\n",
       "      <td>None</td>\n",
       "      <td>None</td>\n",
       "      <td>None</td>\n",
       "    </tr>\n",
       "    <tr>\n",
       "      <th>1</th>\n",
       "      <td>1mhp</td>\n",
       "      <td>X</td>\n",
       "      <td>Y</td>\n",
       "      <td>0</td>\n",
       "      <td>B</td>\n",
       "      <td>protein</td>\n",
       "      <td>NaN</td>\n",
       "      <td>integrin alpha 1, (residues 169-360)</td>\n",
       "      <td>IMMUNE SYSTEM</td>\n",
       "      <td>08/20/02</td>\n",
       "      <td>...</td>\n",
       "      <td>False</td>\n",
       "      <td>True</td>\n",
       "      <td>IGHV3</td>\n",
       "      <td>IGKV1D</td>\n",
       "      <td>Kappa</td>\n",
       "      <td>None</td>\n",
       "      <td>None</td>\n",
       "      <td>None</td>\n",
       "      <td>None</td>\n",
       "      <td>None</td>\n",
       "    </tr>\n",
       "  </tbody>\n",
       "</table>\n",
       "<p>2 rows × 30 columns</p>\n",
       "</div>"
      ],
      "text/plain": [
       "    pdb Hchain Lchain  model antigen_chain antigen_type antigen_het_name  \\\n",
       "0  1mhp      H      L      0             A      protein              NaN   \n",
       "1  1mhp      X      Y      0             B      protein              NaN   \n",
       "\n",
       "                           antigen_name   short_header      date  ...   scfv  \\\n",
       "0  integrin alpha 1, (residues 169-360)  IMMUNE SYSTEM  08/20/02  ...  False   \n",
       "1  integrin alpha 1, (residues 169-360)  IMMUNE SYSTEM  08/20/02  ...  False   \n",
       "\n",
       "  engineered heavy_subclass light_subclass light_ctype affinity  delta_g  \\\n",
       "0       True          IGHV3         IGKV1D       Kappa     None     None   \n",
       "1       True          IGHV3         IGKV1D       Kappa     None     None   \n",
       "\n",
       "  affinity_method temperature  pmid  \n",
       "0            None        None  None  \n",
       "1            None        None  None  \n",
       "\n",
       "[2 rows x 30 columns]"
      ]
     },
     "execution_count": 78,
     "metadata": {},
     "output_type": "execute_result"
    }
   ],
   "source": [
    "summaries_df = pd.read_csv(summary_file_path_complete, sep='\\t')\n",
    "summaries_df.head(n=2)"
   ]
  },
  {
   "cell_type": "markdown",
   "id": "d9b8c0e2-356b-4ad8-8e0b-e8c2f28d6c5b",
   "metadata": {},
   "source": [
    "---"
   ]
  },
  {
   "cell_type": "markdown",
   "id": "1dbe8d7c-b312-4c70-a472-62453e786aa0",
   "metadata": {},
   "source": [
    "## Temporal data processing and visualization"
   ]
  },
  {
   "cell_type": "markdown",
   "id": "307a3406-703c-43e5-97f6-e8a7dab9a433",
   "metadata": {},
   "source": [
    "**Extract only `pdb structure code` and `date` from the summary dataframe, remove duplicates and alter the index:**"
   ]
  },
  {
   "cell_type": "code",
   "execution_count": 80,
   "id": "9b6aece6-7140-41b8-989c-7294ef04fc1d",
   "metadata": {},
   "outputs": [
    {
     "name": "stdout",
     "output_type": "stream",
     "text": [
      "fasta keys length: 6572 | examples: ['12e8', '12e8', '15c8', '15c8', '1a0q']\n"
     ]
    }
   ],
   "source": [
    "fasta_keys = fasta.index.map(lambda k: k.lower()[:4])\n",
    "interesting_columns = ['pdb', 'resolution', 'method', 'r_factor', 'date']\n",
    "print('fasta keys length:', len(fasta_keys), '| examples:', list(fasta_keys[:5]))"
   ]
  },
  {
   "cell_type": "code",
   "execution_count": 81,
   "id": "85b4bba5-e0ce-45b2-82c5-907ff36a4971",
   "metadata": {},
   "outputs": [
    {
     "name": "stdout",
     "output_type": "stream",
     "text": [
      "short metadata df | shape: (3286, 5) | columns: ['resolution', 'method', 'r_factor', 'date', 'year']\n"
     ]
    },
    {
     "data": {
      "text/html": [
       "<div>\n",
       "<style scoped>\n",
       "    .dataframe tbody tr th:only-of-type {\n",
       "        vertical-align: middle;\n",
       "    }\n",
       "\n",
       "    .dataframe tbody tr th {\n",
       "        vertical-align: top;\n",
       "    }\n",
       "\n",
       "    .dataframe thead th {\n",
       "        text-align: right;\n",
       "    }\n",
       "</style>\n",
       "<table border=\"1\" class=\"dataframe\">\n",
       "  <thead>\n",
       "    <tr style=\"text-align: right;\">\n",
       "      <th></th>\n",
       "      <th>resolution</th>\n",
       "      <th>method</th>\n",
       "      <th>r_factor</th>\n",
       "      <th>date</th>\n",
       "      <th>year</th>\n",
       "    </tr>\n",
       "    <tr>\n",
       "      <th>pdb</th>\n",
       "      <th></th>\n",
       "      <th></th>\n",
       "      <th></th>\n",
       "      <th></th>\n",
       "      <th></th>\n",
       "    </tr>\n",
       "  </thead>\n",
       "  <tbody>\n",
       "    <tr>\n",
       "      <th>12e8</th>\n",
       "      <td>1.9</td>\n",
       "      <td>X-RAY DIFFRACTION</td>\n",
       "      <td>0.221</td>\n",
       "      <td>1998-03-14</td>\n",
       "      <td>1998</td>\n",
       "    </tr>\n",
       "    <tr>\n",
       "      <th>15c8</th>\n",
       "      <td>2.5</td>\n",
       "      <td>X-RAY DIFFRACTION</td>\n",
       "      <td>0.190</td>\n",
       "      <td>1998-03-18</td>\n",
       "      <td>1998</td>\n",
       "    </tr>\n",
       "  </tbody>\n",
       "</table>\n",
       "</div>"
      ],
      "text/plain": [
       "      resolution             method r_factor       date  year\n",
       "pdb                                                          \n",
       "12e8         1.9  X-RAY DIFFRACTION    0.221 1998-03-14  1998\n",
       "15c8         2.5  X-RAY DIFFRACTION    0.190 1998-03-18  1998"
      ]
     },
     "execution_count": 81,
     "metadata": {},
     "output_type": "execute_result"
    }
   ],
   "source": [
    "date_uploaded_df = generate_short_metadata_df(summaries_df, interesting_columns)\n",
    "date_uploaded_df.head(n=2)"
   ]
  },
  {
   "cell_type": "code",
   "execution_count": 24,
   "id": "1b394a0f-b415-4a21-bb33-9a28ec67278d",
   "metadata": {},
   "outputs": [
    {
     "data": {
      "text/html": [
       "<div>\n",
       "<style scoped>\n",
       "    .dataframe tbody tr th:only-of-type {\n",
       "        vertical-align: middle;\n",
       "    }\n",
       "\n",
       "    .dataframe tbody tr th {\n",
       "        vertical-align: top;\n",
       "    }\n",
       "\n",
       "    .dataframe thead th {\n",
       "        text-align: right;\n",
       "    }\n",
       "</style>\n",
       "<table border=\"1\" class=\"dataframe\">\n",
       "  <thead>\n",
       "    <tr style=\"text-align: right;\">\n",
       "      <th></th>\n",
       "      <th>resolution</th>\n",
       "      <th>r_factor</th>\n",
       "      <th>date</th>\n",
       "      <th>year</th>\n",
       "    </tr>\n",
       "    <tr>\n",
       "      <th>method</th>\n",
       "      <th></th>\n",
       "      <th></th>\n",
       "      <th></th>\n",
       "      <th></th>\n",
       "    </tr>\n",
       "  </thead>\n",
       "  <tbody>\n",
       "    <tr>\n",
       "      <th>ELECTRON MICROSCOPY</th>\n",
       "      <td>88</td>\n",
       "      <td>0</td>\n",
       "      <td>88</td>\n",
       "      <td>88</td>\n",
       "    </tr>\n",
       "    <tr>\n",
       "      <th>X-RAY DIFFRACTION</th>\n",
       "      <td>3198</td>\n",
       "      <td>3198</td>\n",
       "      <td>3198</td>\n",
       "      <td>3198</td>\n",
       "    </tr>\n",
       "  </tbody>\n",
       "</table>\n",
       "</div>"
      ],
      "text/plain": [
       "                     resolution  r_factor  date  year\n",
       "method                                               \n",
       "ELECTRON MICROSCOPY          88         0    88    88\n",
       "X-RAY DIFFRACTION          3198      3198  3198  3198"
      ]
     },
     "execution_count": 24,
     "metadata": {},
     "output_type": "execute_result"
    }
   ],
   "source": [
    "date_uploaded_df.groupby('method').count()"
   ]
  },
  {
   "cell_type": "code",
   "execution_count": 26,
   "id": "3adb7743-db82-4a9a-903b-0a1ea1a8387f",
   "metadata": {},
   "outputs": [
    {
     "data": {
      "text/plain": [
       "method               year\n",
       "ELECTRON MICROSCOPY  2009    2.750000\n",
       "                     2017    2.500000\n",
       "                     2018    2.800000\n",
       "                     2019    2.840000\n",
       "                     2020    2.814286\n",
       "                     2021    2.757857\n",
       "                     2022    2.836875\n",
       "X-RAY DIFFRACTION    1984    2.700000\n",
       "                     1988    3.000000\n",
       "                     1989    2.387500\n",
       "                     1990    2.500000\n",
       "                     1991    2.375000\n",
       "                     1992    2.560526\n",
       "                     1993    2.398571\n",
       "                     1994    2.716667\n",
       "                     1995    2.515625\n",
       "                     1996    2.301667\n",
       "                     1997    2.367647\n",
       "                     1998    2.251778\n",
       "                     1999    2.423659\n",
       "                     2000    2.361163\n",
       "                     2001    2.319250\n",
       "                     2002    2.093800\n",
       "                     2003    2.142500\n",
       "                     2004    2.308036\n",
       "                     2005    2.286131\n",
       "                     2006    2.304810\n",
       "                     2007    2.368224\n",
       "                     2008    2.225070\n",
       "                     2009    2.300825\n",
       "                     2010    2.220811\n",
       "                     2011    2.204032\n",
       "                     2012    2.304102\n",
       "                     2013    2.296612\n",
       "                     2014    2.267172\n",
       "                     2015    2.281629\n",
       "                     2016    2.275938\n",
       "                     2017    2.225973\n",
       "                     2018    2.290127\n",
       "                     2019    2.224502\n",
       "                     2020    2.267364\n",
       "                     2021    2.315064\n",
       "                     2022    2.328707\n",
       "Name: resolution, dtype: float64"
      ]
     },
     "execution_count": 26,
     "metadata": {},
     "output_type": "execute_result"
    }
   ],
   "source": [
    "dud = date_uploaded_df\n",
    "dud.groupby(['method', 'year'])['resolution'].mean()"
   ]
  },
  {
   "cell_type": "code",
   "execution_count": 83,
   "id": "a77f9f4e-2720-4b67-bbb4-abf2ec5f3dfc",
   "metadata": {},
   "outputs": [
    {
     "data": {
      "text/plain": [
       "Text(0.5, 1.0, 'train+val dataset: mean resolution per year')"
      ]
     },
     "execution_count": 83,
     "metadata": {},
     "output_type": "execute_result"
    },
    {
     "data": {
      "image/png": "[encoded data removed]",
      "text/plain": [
       "<Figure size 640x480 with 1 Axes>"
      ]
     },
     "metadata": {},
     "output_type": "display_data"
    }
   ],
   "source": [
    "res_by_method_year_df = dud[dud['year'] >= 2017].groupby(['method', 'year'])['resolution'].mean().reset_index().round(2)\n",
    "#res_by_method_year_df.plot.bar(x='year', y='resolution', color='method')\n",
    "#res_by_method_year_df\n",
    "r_plot = sns.barplot(data=res_by_method_year_df, x='year', y='resolution', hue='method')\n",
    "r_plot.set_title('train+val dataset: mean resolution per year')\n",
    "#res_by_method_year_df"
   ]
  },
  {
   "cell_type": "markdown",
   "id": "36e70f9d-7136-40ed-a9b0-1058aca67dea",
   "metadata": {},
   "source": [
    "**Check if we have summaries for all the structures:**"
   ]
  },
  {
   "cell_type": "code",
   "execution_count": 84,
   "id": "ee815e2d-81f0-4ab3-877e-28b2e89f50db",
   "metadata": {},
   "outputs": [
    {
     "name": "stdout",
     "output_type": "stream",
     "text": [
      "3286.0 3286\n"
     ]
    }
   ],
   "source": [
    "print(fasta.shape[0] / 2, date_uploaded_df.shape[0])\n",
    "# FASTA df size = 2*date_uploaded_df size\n",
    "# in FASTA, every structure has 2 lines (1 for each chain). In data uploaded, 1 line per structure\n",
    "assert fasta.shape[0] / 2 == date_uploaded_df.shape[0]"
   ]
  },
  {
   "cell_type": "markdown",
   "id": "f34bf759-9500-4429-8ef3-766ceb86b360",
   "metadata": {},
   "source": [
    "**Group by year (we will use that in visualizations):**"
   ]
  },
  {
   "cell_type": "code",
   "execution_count": 85,
   "id": "702a536d-91fb-452e-85a4-c51dd403dc6e",
   "metadata": {},
   "outputs": [
    {
     "data": {
      "text/html": [
       "<div>\n",
       "<style scoped>\n",
       "    .dataframe tbody tr th:only-of-type {\n",
       "        vertical-align: middle;\n",
       "    }\n",
       "\n",
       "    .dataframe tbody tr th {\n",
       "        vertical-align: top;\n",
       "    }\n",
       "\n",
       "    .dataframe thead th {\n",
       "        text-align: right;\n",
       "    }\n",
       "</style>\n",
       "<table border=\"1\" class=\"dataframe\">\n",
       "  <thead>\n",
       "    <tr style=\"text-align: right;\">\n",
       "      <th></th>\n",
       "      <th>structures_number</th>\n",
       "    </tr>\n",
       "    <tr>\n",
       "      <th>year</th>\n",
       "      <th></th>\n",
       "    </tr>\n",
       "  </thead>\n",
       "  <tbody>\n",
       "    <tr>\n",
       "      <th>2018</th>\n",
       "      <td>216</td>\n",
       "    </tr>\n",
       "    <tr>\n",
       "      <th>2019</th>\n",
       "      <td>230</td>\n",
       "    </tr>\n",
       "    <tr>\n",
       "      <th>2020</th>\n",
       "      <td>201</td>\n",
       "    </tr>\n",
       "    <tr>\n",
       "      <th>2021</th>\n",
       "      <td>309</td>\n",
       "    </tr>\n",
       "    <tr>\n",
       "      <th>2022</th>\n",
       "      <td>133</td>\n",
       "    </tr>\n",
       "  </tbody>\n",
       "</table>\n",
       "</div>"
      ],
      "text/plain": [
       "      structures_number\n",
       "year                   \n",
       "2018                216\n",
       "2019                230\n",
       "2020                201\n",
       "2021                309\n",
       "2022                133"
      ]
     },
     "execution_count": 85,
     "metadata": {},
     "output_type": "execute_result"
    }
   ],
   "source": [
    "group_by_year_df = date_uploaded_df.groupby([date_uploaded_df['date'].dt.year]).count()[['date']]\n",
    "group_by_year_df.columns = ['structures_number']\n",
    "group_by_year_df.index.name = 'year'\n",
    "group_by_year_df.tail()"
   ]
  },
  {
   "cell_type": "markdown",
   "id": "d88a38fd-a096-453e-819f-d654d4a234ba",
   "metadata": {},
   "source": [
    "**Show number of uploaded structures per year barplot:**"
   ]
  },
  {
   "cell_type": "code",
   "execution_count": 86,
   "id": "eb818aa5-c9be-401d-896a-2dec21f14f6f",
   "metadata": {},
   "outputs": [
    {
     "data": {
      "image/png": "[encoded data removed]",
      "text/plain": [
       "<Figure size 1500x400 with 1 Axes>"
      ]
     },
     "metadata": {},
     "output_type": "display_data"
    }
   ],
   "source": [
    "sns.set(rc={'figure.figsize':(15, 4)})\n",
    "by_year_plot = sns.barplot(data=group_by_year_df, \n",
    "                           x=group_by_year_df.index, \n",
    "                           y='structures_number')\n",
    "by_year_plot.set(title='Number of SAbDab structures per year (uploaded)', ylabel='Number of structures uploaded')\n",
    "for item in by_year_plot.get_xticklabels(): item.set_rotation(90)\n",
    "for i in by_year_plot.containers: by_year_plot.bar_label(i,) # display numerical values at the top of bars\n",
    "by_year_plot.figure.savefig(STRUCTURE_UPLOADED_PER_YEAR_PNG_PATH)"
   ]
  },
  {
   "cell_type": "markdown",
   "id": "7cd073ff-aef4-45a4-959f-2bc84b9b6af9",
   "metadata": {},
   "source": [
    "**Cumulative percentage of structure uploads per year:**"
   ]
  },
  {
   "cell_type": "code",
   "execution_count": 87,
   "id": "69fc6d50-10b7-4dab-9f69-d5c61d9d4abe",
   "metadata": {},
   "outputs": [
    {
     "data": {
      "text/html": [
       "<div>\n",
       "<style scoped>\n",
       "    .dataframe tbody tr th:only-of-type {\n",
       "        vertical-align: middle;\n",
       "    }\n",
       "\n",
       "    .dataframe tbody tr th {\n",
       "        vertical-align: top;\n",
       "    }\n",
       "\n",
       "    .dataframe thead th {\n",
       "        text-align: right;\n",
       "    }\n",
       "</style>\n",
       "<table border=\"1\" class=\"dataframe\">\n",
       "  <thead>\n",
       "    <tr style=\"text-align: right;\">\n",
       "      <th></th>\n",
       "      <th>uploads_cum_percentage</th>\n",
       "    </tr>\n",
       "    <tr>\n",
       "      <th>year</th>\n",
       "      <th></th>\n",
       "    </tr>\n",
       "  </thead>\n",
       "  <tbody>\n",
       "    <tr>\n",
       "      <th>2018</th>\n",
       "      <td>73.43</td>\n",
       "    </tr>\n",
       "    <tr>\n",
       "      <th>2019</th>\n",
       "      <td>80.43</td>\n",
       "    </tr>\n",
       "    <tr>\n",
       "      <th>2020</th>\n",
       "      <td>86.55</td>\n",
       "    </tr>\n",
       "    <tr>\n",
       "      <th>2021</th>\n",
       "      <td>95.95</td>\n",
       "    </tr>\n",
       "    <tr>\n",
       "      <th>2022</th>\n",
       "      <td>100.00</td>\n",
       "    </tr>\n",
       "  </tbody>\n",
       "</table>\n",
       "</div>"
      ],
      "text/plain": [
       "      uploads_cum_percentage\n",
       "year                        \n",
       "2018                   73.43\n",
       "2019                   80.43\n",
       "2020                   86.55\n",
       "2021                   95.95\n",
       "2022                  100.00"
      ]
     },
     "execution_count": 87,
     "metadata": {},
     "output_type": "execute_result"
    }
   ],
   "source": [
    "data_length = group_by_year_df.sum()\n",
    "uploads_cumperc_df = (group_by_year_df / data_length * 100).cumsum().round(2)\n",
    "uploads_cumperc_df.columns = ['uploads_cum_percentage']\n",
    "uploads_cumperc_df.tail()"
   ]
  },
  {
   "cell_type": "markdown",
   "id": "edae346e-016c-4aaf-9284-076647eb56ce",
   "metadata": {},
   "source": [
    "**Show temporal split distribution (train/val/test) barplot:**"
   ]
  },
  {
   "cell_type": "code",
   "execution_count": 97,
   "id": "1fb800c9-6cb5-472c-8298-46b35410667c",
   "metadata": {},
   "outputs": [
    {
     "name": "stdout",
     "output_type": "stream",
     "text": [
      "saving to: ../../data/png/temporal_split.png\n"
     ]
    },
    {
     "data": {
      "image/png": "[encoded data removed]",
      "text/plain": [
       "<Figure size 1500x600 with 1 Axes>"
      ]
     },
     "metadata": {},
     "output_type": "display_data"
    }
   ],
   "source": [
    "ALPHA = 0.2\n",
    "FONTSIZE = 10\n",
    "TEXT_BOTTOM_MARGIN = 4\n",
    "\n",
    "# draw plot\n",
    "sns.set(rc={'figure.figsize':(15, 6)})\n",
    "year_cumperc_plot = sns.barplot(data=uploads_cumperc_df, \n",
    "                           x=uploads_cumperc_df.index, \n",
    "                           y='uploads_cum_percentage')\n",
    "year_cumperc_plot.set_ylabel('Cumulative percentage of uploads')\n",
    "year_cumperc_plot.set_xlabel('Year')\n",
    "year_cumperc_plot.set(title='SAbDab: Cumulative percentage of uploaded structures per year')\n",
    "for item in year_cumperc_plot.get_xticklabels(): item.set_rotation(90)\n",
    "\n",
    "# draw dataset areas (rectangles)\n",
    "colors = ['green', 'orange', 'red']\n",
    "texts = ['training set', 'validation set', 'test set']\n",
    "y_bottom_left = [0, TRAIN_CUM_PERCENTAGE, VALID_CUM_PERCENTAGE]\n",
    "y_size = [TRAIN_CUM_PERCENTAGE, VALID_CUM_PERCENTAGE-TRAIN_CUM_PERCENTAGE, 105-VALID_CUM_PERCENTAGE]\n",
    "currentAxis = plt.gca()\n",
    "for i in range(3):\n",
    "    currentAxis.add_patch(Rectangle((-0.5, y_bottom_left[i]), \n",
    "                                    100, y_size[i], facecolor=colors[i], alpha=ALPHA))\n",
    "    currentAxis.text(0, y_bottom_left[i] + TEXT_BOTTOM_MARGIN, texts[i], fontsize=FONTSIZE)\n",
    "\n",
    "#plt.xlim(0, np.max(fpr) + 0.05)\n",
    "plt.ylim(0, 100)\n",
    "\n",
    "print('saving to:', TEMPORAL_SPLIT_CUMULATIVE_WITH_SETS)\n",
    "year_cumperc_plot.figure.savefig(TEMPORAL_SPLIT_CUMULATIVE_WITH_SETS)"
   ]
  },
  {
   "cell_type": "markdown",
   "id": "d48385bd-3d23-45e2-8953-7a83a0f1d25b",
   "metadata": {},
   "source": [
    "---"
   ]
  },
  {
   "cell_type": "markdown",
   "id": "5dd39ae7-d0d7-4dd9-9043-5814621df062",
   "metadata": {
    "tags": []
   },
   "source": [
    "## Add summary-file metadata to `metadata` dataset"
   ]
  },
  {
   "cell_type": "markdown",
   "id": "81c166d0-4355-42d9-a305-a61ce54f092a",
   "metadata": {},
   "source": [
    "**Firstly, transform `date_uploaded_df` to have the same index as `metadata`, `fasta` or `sasa` dataframes have:**\n",
    "\n",
    "- duplicate each row\n",
    "- the first of the newly made duplicates will have `:L` appended to the index key\n",
    "- the second will have `:H` appended to the index key"
   ]
  },
  {
   "cell_type": "code",
   "execution_count": 93,
   "id": "d20f2f37-3551-49b0-88fd-3ded9c039c09",
   "metadata": {},
   "outputs": [
    {
     "data": {
      "text/html": [
       "<div>\n",
       "<style scoped>\n",
       "    .dataframe tbody tr th:only-of-type {\n",
       "        vertical-align: middle;\n",
       "    }\n",
       "\n",
       "    .dataframe tbody tr th {\n",
       "        vertical-align: top;\n",
       "    }\n",
       "\n",
       "    .dataframe thead th {\n",
       "        text-align: right;\n",
       "    }\n",
       "</style>\n",
       "<table border=\"1\" class=\"dataframe\">\n",
       "  <thead>\n",
       "    <tr style=\"text-align: right;\">\n",
       "      <th></th>\n",
       "      <th>resolution</th>\n",
       "      <th>method</th>\n",
       "      <th>r_factor</th>\n",
       "      <th>date</th>\n",
       "    </tr>\n",
       "  </thead>\n",
       "  <tbody>\n",
       "    <tr>\n",
       "      <th>7DF1:H</th>\n",
       "      <td>2.806</td>\n",
       "      <td>X-RAY DIFFRACTION</td>\n",
       "      <td>0.217</td>\n",
       "      <td>2022-12-07</td>\n",
       "    </tr>\n",
       "    <tr>\n",
       "      <th>7DF1:L</th>\n",
       "      <td>2.806</td>\n",
       "      <td>X-RAY DIFFRACTION</td>\n",
       "      <td>0.217</td>\n",
       "      <td>2022-12-07</td>\n",
       "    </tr>\n",
       "    <tr>\n",
       "      <th>7E9O:H</th>\n",
       "      <td>0</td>\n",
       "      <td>ELECTRON MICROSCOPY</td>\n",
       "      <td>NaN</td>\n",
       "      <td>2022-03-09</td>\n",
       "    </tr>\n",
       "    <tr>\n",
       "      <th>7E9O:L</th>\n",
       "      <td>0</td>\n",
       "      <td>ELECTRON MICROSCOPY</td>\n",
       "      <td>NaN</td>\n",
       "      <td>2022-03-09</td>\n",
       "    </tr>\n",
       "    <tr>\n",
       "      <th>7FGJ:H</th>\n",
       "      <td>1.89</td>\n",
       "      <td>X-RAY DIFFRACTION</td>\n",
       "      <td>0.196</td>\n",
       "      <td>2022-07-27</td>\n",
       "    </tr>\n",
       "  </tbody>\n",
       "</table>\n",
       "</div>"
      ],
      "text/plain": [
       "       resolution               method r_factor       date\n",
       "7DF1:H      2.806    X-RAY DIFFRACTION    0.217 2022-12-07\n",
       "7DF1:L      2.806    X-RAY DIFFRACTION    0.217 2022-12-07\n",
       "7E9O:H          0  ELECTRON MICROSCOPY      NaN 2022-03-09\n",
       "7E9O:L          0  ELECTRON MICROSCOPY      NaN 2022-03-09\n",
       "7FGJ:H       1.89    X-RAY DIFFRACTION    0.196 2022-07-27"
      ]
     },
     "execution_count": 93,
     "metadata": {},
     "output_type": "execute_result"
    }
   ],
   "source": [
    "# 1. generate :L copies\n",
    "date_uploaded_df_l = date_uploaded_df.copy(deep=True)\n",
    "new_index_l = [code.upper() + ':L' for code in date_uploaded_df.index if code.upper() + ':L' in fasta.index]\n",
    "date_uploaded_df_l.index = new_index_l\n",
    "\n",
    "# 2. generate :H copies\n",
    "date_uploaded_df_h = date_uploaded_df.copy(deep=True)\n",
    "new_index_h = [code.upper() + ':H' for code in date_uploaded_df.index if code.upper() + ':H' in fasta.index]\n",
    "date_uploaded_df_h.index = new_index_h\n",
    "\n",
    "# merge them\n",
    "date_uploaded_new_df = pd.concat([date_uploaded_df_l, date_uploaded_df_h])\n",
    "date_uploaded_new_df.sort_index(inplace=True)\n",
    "\n",
    "# view\n",
    "date_uploaded_new_df.head()"
   ]
  },
  {
   "cell_type": "markdown",
   "id": "e254c798-e8f1-42bb-a673-5eff8ebd2ead",
   "metadata": {},
   "source": [
    "**Add `year` and `dataset` columns.**"
   ]
  },
  {
   "cell_type": "markdown",
   "id": "f7cc3f04-4f3d-45b9-8264-992b1b8a31d7",
   "metadata": {},
   "source": [
    "**`dataset` column value will be one of `train`, `val`, `test` and will be determined based on `year` column.**"
   ]
  },
  {
   "cell_type": "code",
   "execution_count": 96,
   "id": "d3a8809c-3d4a-42bd-a1e1-1425e1fff472",
   "metadata": {},
   "outputs": [
    {
     "data": {
      "text/html": [
       "<div>\n",
       "<style scoped>\n",
       "    .dataframe tbody tr th:only-of-type {\n",
       "        vertical-align: middle;\n",
       "    }\n",
       "\n",
       "    .dataframe tbody tr th {\n",
       "        vertical-align: top;\n",
       "    }\n",
       "\n",
       "    .dataframe thead th {\n",
       "        text-align: right;\n",
       "    }\n",
       "</style>\n",
       "<table border=\"1\" class=\"dataframe\">\n",
       "  <thead>\n",
       "    <tr style=\"text-align: right;\">\n",
       "      <th></th>\n",
       "      <th>resolution</th>\n",
       "      <th>method</th>\n",
       "      <th>r_factor</th>\n",
       "      <th>date</th>\n",
       "      <th>year</th>\n",
       "      <th>dataset</th>\n",
       "    </tr>\n",
       "  </thead>\n",
       "  <tbody>\n",
       "    <tr>\n",
       "      <th>8YX1:L</th>\n",
       "      <td>2.7</td>\n",
       "      <td>X-RAY DIFFRACTION</td>\n",
       "      <td>0.204</td>\n",
       "      <td>2024-05-08</td>\n",
       "      <td>2024</td>\n",
       "      <td>test_new_234</td>\n",
       "    </tr>\n",
       "    <tr>\n",
       "      <th>8YX9:H</th>\n",
       "      <td>2.8</td>\n",
       "      <td>X-RAY DIFFRACTION</td>\n",
       "      <td>0.209</td>\n",
       "      <td>2024-05-08</td>\n",
       "      <td>2024</td>\n",
       "      <td>test_new_234</td>\n",
       "    </tr>\n",
       "    <tr>\n",
       "      <th>8YX9:L</th>\n",
       "      <td>2.8</td>\n",
       "      <td>X-RAY DIFFRACTION</td>\n",
       "      <td>0.209</td>\n",
       "      <td>2024-05-08</td>\n",
       "      <td>2024</td>\n",
       "      <td>test_new_234</td>\n",
       "    </tr>\n",
       "  </tbody>\n",
       "</table>\n",
       "</div>"
      ],
      "text/plain": [
       "       resolution             method r_factor       date  year       dataset\n",
       "8YX1:L        2.7  X-RAY DIFFRACTION    0.204 2024-05-08  2024  test_new_234\n",
       "8YX9:H        2.8  X-RAY DIFFRACTION    0.209 2024-05-08  2024  test_new_234\n",
       "8YX9:L        2.8  X-RAY DIFFRACTION    0.209 2024-05-08  2024  test_new_234"
      ]
     },
     "execution_count": 96,
     "metadata": {},
     "output_type": "execute_result"
    }
   ],
   "source": [
    "date_uploaded_new_df['year'] = date_uploaded_new_df['date'].dt.year\n",
    "\n",
    "def trainvaltest_divide(v):\n",
    "    if v in range(1984, 2018):\n",
    "        return 'train'\n",
    "    elif v in range(2018, 2020):\n",
    "        return 'val'\n",
    "    else:\n",
    "        return 'test'\n",
    "\n",
    "if DATASET == 'test_new_234':\n",
    "    date_uploaded_new_df['dataset'] = DATASET\n",
    "else:\n",
    "    date_uploaded_new_df['dataset'] = date_uploaded_new_df['year'].apply(trainvaltest_divide)\n",
    "    \n",
    "date_uploaded_new_df.tail(n=3)"
   ]
  },
  {
   "cell_type": "markdown",
   "id": "10870c27-cfa3-448a-ad7b-a1577241cd85",
   "metadata": {},
   "source": [
    "**Merge new dataframe with the `metadata` dataframe:**"
   ]
  },
  {
   "cell_type": "code",
   "execution_count": 97,
   "id": "1d9025de-87f4-4679-950b-cf142db5e429",
   "metadata": {},
   "outputs": [
    {
     "data": {
      "text/html": [
       "<div>\n",
       "<style scoped>\n",
       "    .dataframe tbody tr th:only-of-type {\n",
       "        vertical-align: middle;\n",
       "    }\n",
       "\n",
       "    .dataframe tbody tr th {\n",
       "        vertical-align: top;\n",
       "    }\n",
       "\n",
       "    .dataframe thead th {\n",
       "        text-align: right;\n",
       "    }\n",
       "</style>\n",
       "<table border=\"1\" class=\"dataframe\">\n",
       "  <thead>\n",
       "    <tr style=\"text-align: right;\">\n",
       "      <th></th>\n",
       "      <th>domain_no</th>\n",
       "      <th>hmm_species</th>\n",
       "      <th>chain_type</th>\n",
       "      <th>e-value</th>\n",
       "      <th>score</th>\n",
       "      <th>seqstart_index</th>\n",
       "      <th>seqend_index</th>\n",
       "      <th>identity_species</th>\n",
       "      <th>v_gene</th>\n",
       "      <th>v_identity</th>\n",
       "      <th>j_gene</th>\n",
       "      <th>j_identity</th>\n",
       "      <th>unaligned_len</th>\n",
       "      <th>resolution</th>\n",
       "      <th>method</th>\n",
       "      <th>r_factor</th>\n",
       "      <th>date</th>\n",
       "      <th>year</th>\n",
       "      <th>dataset</th>\n",
       "    </tr>\n",
       "  </thead>\n",
       "  <tbody>\n",
       "    <tr>\n",
       "      <th>7DF1:H</th>\n",
       "      <td>0</td>\n",
       "      <td>human</td>\n",
       "      <td>H</td>\n",
       "      <td>2.300000e-58</td>\n",
       "      <td>187.0</td>\n",
       "      <td>0</td>\n",
       "      <td>122</td>\n",
       "      <td>NaN</td>\n",
       "      <td>NaN</td>\n",
       "      <td>0.0</td>\n",
       "      <td>NaN</td>\n",
       "      <td>0.0</td>\n",
       "      <td>123</td>\n",
       "      <td>2.806</td>\n",
       "      <td>X-RAY DIFFRACTION</td>\n",
       "      <td>0.217</td>\n",
       "      <td>2022-12-07</td>\n",
       "      <td>2022</td>\n",
       "      <td>test_new_234</td>\n",
       "    </tr>\n",
       "    <tr>\n",
       "      <th>7DF1:L</th>\n",
       "      <td>0</td>\n",
       "      <td>human</td>\n",
       "      <td>K</td>\n",
       "      <td>6.100000e-61</td>\n",
       "      <td>195.1</td>\n",
       "      <td>0</td>\n",
       "      <td>111</td>\n",
       "      <td>NaN</td>\n",
       "      <td>NaN</td>\n",
       "      <td>0.0</td>\n",
       "      <td>NaN</td>\n",
       "      <td>0.0</td>\n",
       "      <td>112</td>\n",
       "      <td>2.806</td>\n",
       "      <td>X-RAY DIFFRACTION</td>\n",
       "      <td>0.217</td>\n",
       "      <td>2022-12-07</td>\n",
       "      <td>2022</td>\n",
       "      <td>test_new_234</td>\n",
       "    </tr>\n",
       "    <tr>\n",
       "      <th>7E9O:H</th>\n",
       "      <td>0</td>\n",
       "      <td>alpaca</td>\n",
       "      <td>H</td>\n",
       "      <td>1.300000e-58</td>\n",
       "      <td>187.9</td>\n",
       "      <td>0</td>\n",
       "      <td>126</td>\n",
       "      <td>NaN</td>\n",
       "      <td>NaN</td>\n",
       "      <td>0.0</td>\n",
       "      <td>NaN</td>\n",
       "      <td>0.0</td>\n",
       "      <td>226</td>\n",
       "      <td>0</td>\n",
       "      <td>ELECTRON MICROSCOPY</td>\n",
       "      <td>NaN</td>\n",
       "      <td>2022-03-09</td>\n",
       "      <td>2022</td>\n",
       "      <td>test_new_234</td>\n",
       "    </tr>\n",
       "    <tr>\n",
       "      <th>7E9O:L</th>\n",
       "      <td>0</td>\n",
       "      <td>rhesus</td>\n",
       "      <td>K</td>\n",
       "      <td>8.300000e-58</td>\n",
       "      <td>185.2</td>\n",
       "      <td>0</td>\n",
       "      <td>112</td>\n",
       "      <td>NaN</td>\n",
       "      <td>NaN</td>\n",
       "      <td>0.0</td>\n",
       "      <td>NaN</td>\n",
       "      <td>0.0</td>\n",
       "      <td>218</td>\n",
       "      <td>0</td>\n",
       "      <td>ELECTRON MICROSCOPY</td>\n",
       "      <td>NaN</td>\n",
       "      <td>2022-03-09</td>\n",
       "      <td>2022</td>\n",
       "      <td>test_new_234</td>\n",
       "    </tr>\n",
       "    <tr>\n",
       "      <th>7FGJ:H</th>\n",
       "      <td>0</td>\n",
       "      <td>mouse</td>\n",
       "      <td>H</td>\n",
       "      <td>1.200000e-55</td>\n",
       "      <td>178.1</td>\n",
       "      <td>0</td>\n",
       "      <td>117</td>\n",
       "      <td>NaN</td>\n",
       "      <td>NaN</td>\n",
       "      <td>0.0</td>\n",
       "      <td>NaN</td>\n",
       "      <td>0.0</td>\n",
       "      <td>216</td>\n",
       "      <td>1.89</td>\n",
       "      <td>X-RAY DIFFRACTION</td>\n",
       "      <td>0.196</td>\n",
       "      <td>2022-07-27</td>\n",
       "      <td>2022</td>\n",
       "      <td>test_new_234</td>\n",
       "    </tr>\n",
       "  </tbody>\n",
       "</table>\n",
       "</div>"
      ],
      "text/plain": [
       "        domain_no hmm_species chain_type       e-value  score  seqstart_index  \\\n",
       "7DF1:H          0       human          H  2.300000e-58  187.0               0   \n",
       "7DF1:L          0       human          K  6.100000e-61  195.1               0   \n",
       "7E9O:H          0      alpaca          H  1.300000e-58  187.9               0   \n",
       "7E9O:L          0      rhesus          K  8.300000e-58  185.2               0   \n",
       "7FGJ:H          0       mouse          H  1.200000e-55  178.1               0   \n",
       "\n",
       "        seqend_index  identity_species  v_gene  v_identity  j_gene  \\\n",
       "7DF1:H           122               NaN     NaN         0.0     NaN   \n",
       "7DF1:L           111               NaN     NaN         0.0     NaN   \n",
       "7E9O:H           126               NaN     NaN         0.0     NaN   \n",
       "7E9O:L           112               NaN     NaN         0.0     NaN   \n",
       "7FGJ:H           117               NaN     NaN         0.0     NaN   \n",
       "\n",
       "        j_identity  unaligned_len resolution               method r_factor  \\\n",
       "7DF1:H         0.0            123      2.806    X-RAY DIFFRACTION    0.217   \n",
       "7DF1:L         0.0            112      2.806    X-RAY DIFFRACTION    0.217   \n",
       "7E9O:H         0.0            226          0  ELECTRON MICROSCOPY      NaN   \n",
       "7E9O:L         0.0            218          0  ELECTRON MICROSCOPY      NaN   \n",
       "7FGJ:H         0.0            216       1.89    X-RAY DIFFRACTION    0.196   \n",
       "\n",
       "             date  year       dataset  \n",
       "7DF1:H 2022-12-07  2022  test_new_234  \n",
       "7DF1:L 2022-12-07  2022  test_new_234  \n",
       "7E9O:H 2022-03-09  2022  test_new_234  \n",
       "7E9O:L 2022-03-09  2022  test_new_234  \n",
       "7FGJ:H 2022-07-27  2022  test_new_234  "
      ]
     },
     "execution_count": 97,
     "metadata": {},
     "output_type": "execute_result"
    }
   ],
   "source": [
    "metadata_df = pd.read_csv(f'{METADATA_DIR_PATH}/metadata_all.csv', index_col=0)\n",
    "columns = interesting_columns + ['date', 'year', 'dataset'] \n",
    "metadata_df.drop(columns=columns, inplace=True, errors='ignore')\n",
    "\n",
    "metadata_extended_df = pd.concat([metadata_df, date_uploaded_new_df], axis=1)\n",
    "metadata_extended_df.to_csv(f'{METADATA_DIR_PATH}/metadata_all.csv')\n",
    "metadata_extended_df.head()"
   ]
  },
  {
   "cell_type": "markdown",
   "id": "fa27a97e-d88f-4e18-823b-37d63d4f2635",
   "metadata": {},
   "source": [
    "**Split `metadata_df` dataframe into `metadata_df_L` and `metadata_df_H` dataframes and export them:**"
   ]
  },
  {
   "cell_type": "code",
   "execution_count": 101,
   "id": "acc395d3-9f18-401f-ae9b-781216c38859",
   "metadata": {},
   "outputs": [],
   "source": [
    "metadata_df = pd.read_csv(f'{METADATA_DIR_PATH}/metadata_all.csv', index_col=0)\n",
    "u.select_only_chain_sequences(metadata_df, 'L').to_csv(f'{METADATA_DIR_PATH}/metadata_L.csv')\n",
    "u.select_only_chain_sequences(metadata_df, 'H').to_csv(f'{METADATA_DIR_PATH}/metadata_H.csv')"
   ]
  },
  {
   "cell_type": "code",
   "execution_count": null,
   "id": "460a9777-26bf-45ef-8827-cf83e0e7c75d",
   "metadata": {},
   "outputs": [],
   "source": []
  }
 ],
 "metadata": {
  "kernelspec": {
   "display_name": "Python 3 (ipykernel)",
   "language": "python",
   "name": "python3"
  },
  "language_info": {
   "codemirror_mode": {
    "name": "ipython",
    "version": 3
   },
   "file_extension": ".py",
   "mimetype": "text/x-python",
   "name": "python",
   "nbconvert_exporter": "python",
   "pygments_lexer": "ipython3",
   "version": "3.10.14"
  }
 },
 "nbformat": 4,
 "nbformat_minor": 5
}
