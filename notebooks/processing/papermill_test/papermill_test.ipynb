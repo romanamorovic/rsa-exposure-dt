{
 "cells": [
  {
   "cell_type": "markdown",
   "id": "2bf6ad2a",
   "metadata": {
    "tags": [
     "papermill-error-cell-tag"
    ]
   },
   "source": [
    "<span style=\"color:red; font-family:Helvetica Neue, Helvetica, Arial, sans-serif; font-size:2em;\">An Exception was encountered at '<a href=\"#papermill-error-cell\">In [5]</a>'.</span>"
   ]
  },
  {
   "cell_type": "code",
   "execution_count": 1,
   "id": "1a8af7ea-74a4-4bd4-89eb-a2bee92fee43",
   "metadata": {
    "execution": {
     "iopub.execute_input": "2022-03-11T12:58:53.466996Z",
     "iopub.status.busy": "2022-03-11T12:58:53.466671Z",
     "iopub.status.idle": "2022-03-11T12:58:53.508349Z",
     "shell.execute_reply": "2022-03-11T12:58:53.507659Z"
    },
    "papermill": {
     "duration": 0.154393,
     "end_time": "2022-03-11T12:58:53.527664",
     "exception": false,
     "start_time": "2022-03-11T12:58:53.373271",
     "status": "completed"
    },
    "tags": [
     "parameters"
    ]
   },
   "outputs": [],
   "source": [
    "A=7\n",
    "B='ahoj'"
   ]
  },
  {
   "cell_type": "code",
   "execution_count": 2,
   "id": "a5951b91",
   "metadata": {
    "execution": {
     "iopub.execute_input": "2022-03-11T12:58:53.619779Z",
     "iopub.status.busy": "2022-03-11T12:58:53.619489Z",
     "iopub.status.idle": "2022-03-11T12:58:53.631328Z",
     "shell.execute_reply": "2022-03-11T12:58:53.630657Z"
    },
    "papermill": {
     "duration": 0.069202,
     "end_time": "2022-03-11T12:58:53.639429",
     "exception": false,
     "start_time": "2022-03-11T12:58:53.570227",
     "status": "completed"
    },
    "tags": [
     "injected-parameters"
    ]
   },
   "outputs": [],
   "source": [
    "# Parameters\n",
    "A = 15\n",
    "B = \"\\u2018DIMITRY\\u2019\"\n"
   ]
  },
  {
   "cell_type": "code",
   "execution_count": 3,
   "id": "d7ef4afb-09b3-40b7-af2c-848139b77a27",
   "metadata": {
    "execution": {
     "iopub.execute_input": "2022-03-11T12:58:53.764853Z",
     "iopub.status.busy": "2022-03-11T12:58:53.764543Z",
     "iopub.status.idle": "2022-03-11T12:58:53.810360Z",
     "shell.execute_reply": "2022-03-11T12:58:53.809662Z"
    },
    "papermill": {
     "duration": 0.114336,
     "end_time": "2022-03-11T12:58:53.813332",
     "exception": false,
     "start_time": "2022-03-11T12:58:53.698996",
     "status": "completed"
    },
    "tags": []
   },
   "outputs": [
    {
     "data": {
      "text/plain": [
       "30"
      ]
     },
     "execution_count": 3,
     "metadata": {},
     "output_type": "execute_result"
    }
   ],
   "source": [
    "A*2"
   ]
  },
  {
   "cell_type": "code",
   "execution_count": 4,
   "id": "cffdf456-744d-454e-8f6b-56c3221ba679",
   "metadata": {
    "execution": {
     "iopub.execute_input": "2022-03-11T12:58:53.942018Z",
     "iopub.status.busy": "2022-03-11T12:58:53.941730Z",
     "iopub.status.idle": "2022-03-11T12:58:53.957667Z",
     "shell.execute_reply": "2022-03-11T12:58:53.956724Z"
    },
    "papermill": {
     "duration": 0.078208,
     "end_time": "2022-03-11T12:58:53.960228",
     "exception": false,
     "start_time": "2022-03-11T12:58:53.882020",
     "status": "completed"
    },
    "tags": []
   },
   "outputs": [
    {
     "data": {
      "text/plain": [
       "'‘DIMITRY’‘DIMITRY’'"
      ]
     },
     "execution_count": 4,
     "metadata": {},
     "output_type": "execute_result"
    }
   ],
   "source": [
    "B*2"
   ]
  },
  {
   "cell_type": "markdown",
   "id": "01e9c503",
   "metadata": {
    "tags": [
     "papermill-error-cell-tag"
    ]
   },
   "source": [
    "<span id=\"papermill-error-cell\" style=\"color:red; font-family:Helvetica Neue, Helvetica, Arial, sans-serif; font-size:2em;\">Execution using papermill encountered an exception here and stopped:</span>"
   ]
  },
  {
   "cell_type": "code",
   "execution_count": 5,
   "id": "06a4d40a-0dce-49a8-abdc-226fb0174b03",
   "metadata": {
    "execution": {
     "iopub.execute_input": "2022-03-11T12:58:54.100801Z",
     "iopub.status.busy": "2022-03-11T12:58:54.100513Z",
     "iopub.status.idle": "2022-03-11T12:58:55.898229Z",
     "shell.execute_reply": "2022-03-11T12:58:55.896425Z"
    },
    "papermill": {
     "duration": 1.87791,
     "end_time": "2022-03-11T12:58:55.899939",
     "exception": true,
     "start_time": "2022-03-11T12:58:54.022029",
     "status": "failed"
    },
    "tags": []
   },
   "outputs": [
    {
     "ename": "ModuleNotFoundError",
     "evalue": "No module named 'catboost'",
     "output_type": "error",
     "traceback": [
      "\u001b[0;31m---------------------------------------------------------------------------\u001b[0m",
      "\u001b[0;31mModuleNotFoundError\u001b[0m                       Traceback (most recent call last)",
      "Input \u001b[0;32mIn [5]\u001b[0m, in \u001b[0;36m<module>\u001b[0;34m\u001b[0m\n\u001b[0;32m----> 1\u001b[0m \u001b[38;5;28;01mimport\u001b[39;00m \u001b[38;5;21;01mcatboost\u001b[39;00m\n",
      "\u001b[0;31mModuleNotFoundError\u001b[0m: No module named 'catboost'"
     ]
    }
   ],
   "source": [
    "import catboost"
   ]
  },
  {
   "cell_type": "code",
   "execution_count": null,
   "id": "8c23fb7a-b705-437f-b271-3eb3d59affc3",
   "metadata": {
    "papermill": {
     "duration": null,
     "end_time": null,
     "exception": null,
     "start_time": null,
     "status": "pending"
    },
    "tags": []
   },
   "outputs": [],
   "source": []
  }
 ],
 "metadata": {
  "kernelspec": {
   "display_name": "Python 3 (ipykernel)",
   "language": "python",
   "name": "python3"
  },
  "language_info": {
   "codemirror_mode": {
    "name": "ipython",
    "version": 3
   },
   "file_extension": ".py",
   "mimetype": "text/x-python",
   "name": "python",
   "nbconvert_exporter": "python",
   "pygments_lexer": "ipython3",
   "version": "3.8.12"
  },
  "papermill": {
   "default_parameters": {},
   "duration": 80.919964,
   "end_time": "2022-03-11T12:58:56.768248",
   "environment_variables": {},
   "exception": true,
   "input_path": "notebooks/processing/09_papermill_test.ipynb",
   "output_path": "notebooks/processing/papermill_test/papermill_test.ipynb",
   "parameters": {
    "A": 15,
    "B": "‘DIMITRY’"
   },
   "start_time": "2022-03-11T12:57:35.848284",
   "version": "2.3.4"
  }
 },
 "nbformat": 4,
 "nbformat_minor": 5
}