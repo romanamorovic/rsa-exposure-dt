{
 "cells": [
  {
   "cell_type": "markdown",
   "id": "be3668b1-2d63-4834-9117-011db8591acf",
   "metadata": {},
   "source": [
    "## 5. FASTA alignment"
   ]
  },
  {
   "cell_type": "markdown",
   "id": "2b1f07b8-bb00-40c1-ac10-48f02eb5c316",
   "metadata": {},
   "source": [
    "We use ANARCI tool to generate CSV files containing numbered FASTA sequences using defined numbering scheme."
   ]
  },
  {
   "cell_type": "markdown",
   "id": "a4001a49-b39c-4365-9852-66227829e322",
   "metadata": {},
   "source": [
    "Then the metadata are extracted, columns sorted and some minor post-processing steps performed."
   ]
  },
  {
   "cell_type": "markdown",
   "id": "810f78da-1c7e-4a94-8d21-b5fd1becea27",
   "metadata": {},
   "source": [
    "---"
   ]
  },
  {
   "cell_type": "markdown",
   "id": "a184c192-1b3d-43cd-a9fc-c6ad8804add7",
   "metadata": {
    "tags": []
   },
   "source": [
    "## Run ANARCI"
   ]
  },
  {
   "cell_type": "markdown",
   "id": "c4c168b9-173d-45c4-ab07-9ecff2341aad",
   "metadata": {},
   "source": [
    "Run all the commands below."
   ]
  },
  {
   "cell_type": "markdown",
   "id": "284dc107-3f68-4ae5-a393-8b9babd9322d",
   "metadata": {},
   "source": [
    "**I advise you to run them in a separate terminal window.\n",
    "They might take too much time to run if run them right in this notebook.**"
   ]
  },
  {
   "cell_type": "markdown",
   "id": "6b3fa53f-b54e-4f37-8830-4cbf44447d01",
   "metadata": {},
   "source": [
    "In any case, running them will probable take up a few minutes."
   ]
  },
  {
   "cell_type": "code",
   "execution_count": 1,
   "id": "96d45401-eb70-49aa-8104-494d0cc9f782",
   "metadata": {},
   "outputs": [
    {
     "data": {
      "text/plain": [
       "('../../data/sequences/incremental-converted-fixbug',\n",
       " '../../data/csv/fasta_aligned_fixbug')"
      ]
     },
     "execution_count": 1,
     "metadata": {},
     "output_type": "execute_result"
    }
   ],
   "source": [
    "import sys; sys.path.append('../..')\n",
    "import bin.params as p\n",
    "\n",
    "# FASTA_UNALIGNED_DIR = f\"{p.DATA_DIR}/sequences/incremental-converted\" # old\n",
    "FASTA_UNALIGNED_DIR = f\"{p.DATA_DIR}/sequences/incremental-convertedJuly2024\" #july2024\n",
    "# FASTA_ALIGNED_DIR = f\"{p.DATA_DIR}../../csv/fasta_aligned\" # old\n",
    "FASTA_ALIGNED_DIR = f\"{p.DATA_DIR}/csv/fasta_alignedJuly2024\" # july2024\n",
    "\n",
    "# IB july2024\n",
    "FASTA_UNALIGNED_DIR = f'{p.DATA_DIR}/sequences/incremental-convertedIB2July2024'\n",
    "FASTA_ALIGNED_DIR = f\"{p.DATA_DIR}/csv/fasta_alignedIB2July2024\"\n",
    "\n",
    "# FIXBUG\n",
    "FASTA_UNALIGNED_DIR = f'{p.DATA_DIR}/sequences/incremental-converted-fixbug'\n",
    "FASTA_ALIGNED_DIR = f\"{p.DATA_DIR}/csv/fasta_aligned_fixbug\"\n",
    "\n",
    "FASTA_UNALIGNED_DIR, FASTA_ALIGNED_DIR"
   ]
  },
  {
   "cell_type": "code",
   "execution_count": 2,
   "id": "48373607-c6ad-44a8-942a-57e5da648445",
   "metadata": {},
   "outputs": [],
   "source": [
    "command = f'mkdir -p {FASTA_ALIGNED_DIR}'\n",
    "! $command"
   ]
  },
  {
   "cell_type": "markdown",
   "id": "9f0394bf-ec6d-4f68-8f6d-c91391f26250",
   "metadata": {},
   "source": [
    "**Run the following cell, copy the output and run that output in terminal:**"
   ]
  },
  {
   "cell_type": "code",
   "execution_count": 3,
   "id": "5e4d9f93-b7c2-45ab-8fd1-b6da04f9af86",
   "metadata": {},
   "outputs": [
    {
     "name": "stdout",
     "output_type": "stream",
     "text": [
      "\n",
      "## NOTE: commands assume that your current working directory is notebooks/processing\n",
      "\n",
      "# ONLY IN CASE YOU HAVE NOT DONE SO YET, activate virtual environment \n",
      "# conda activate proto-moto\n",
      "\n",
      "# go to directory containing unaligned FASTA sequences\n",
      "cd ../../data/sequences/incremental-converted-fixbug\n",
      "\n",
      "# merge them all into one file called all.fasta\n",
      "cat *.fasta > all.fasta\n",
      "\n",
      "# Let the anarci generate two aligned FASTA .csv files\n",
      "# one called fasta_<SCHEME>_H.csv and one fasta_<SCHEME>_KL.csv\n",
      "# This command will take about 5 minutes to run \n",
      "mkdir -p ../../../data/csv/fasta_aligned_fixbug\n",
      "anarci -i all.fasta -o ../../../data/csv/fasta_aligned_fixbug/fasta_aho --csv --scheme=aho\n",
      "\n",
      "# cleanup\n",
      "# remove temporarily created all.fasta\n",
      "rm -rf all.fasta\n",
      "# rename KL to L as that is more convenient\n",
      "mv ../../../data/csv/fasta_aligned_fixbug/fasta_aho_KL.csv ../../../data/csv/fasta_aligned_fixbug/fasta_aho_L.csv\n",
      "\n"
     ]
    }
   ],
   "source": [
    "command = f\"\"\"\n",
    "## NOTE: commands assume that your current working directory is notebooks/processing\n",
    "\n",
    "# ONLY IN CASE YOU HAVE NOT DONE SO YET, activate virtual environment \n",
    "# conda activate proto-moto\n",
    "\n",
    "# go to directory containing unaligned FASTA sequences\n",
    "cd {FASTA_UNALIGNED_DIR}\n",
    "\n",
    "# merge them all into one file called all.fasta\n",
    "cat *.fasta > all.fasta\n",
    "\n",
    "# Let the anarci generate two aligned FASTA .csv files\n",
    "# one called fasta_<SCHEME>_H.csv and one fasta_<SCHEME>_KL.csv\n",
    "# This command will take about 5 minutes to run \n",
    "mkdir -p ../{FASTA_ALIGNED_DIR}\n",
    "anarci -i all.fasta -o ../{FASTA_ALIGNED_DIR}/fasta_{p.FINAL_NUMBERING_SCHEME} --csv --scheme={p.FINAL_NUMBERING_SCHEME}\n",
    "\n",
    "# cleanup\n",
    "# remove temporarily created all.fasta\n",
    "rm -rf all.fasta\n",
    "# rename KL to L as that is more convenient\n",
    "mv ../{FASTA_ALIGNED_DIR}/fasta_{p.FINAL_NUMBERING_SCHEME}_KL.csv ../{FASTA_ALIGNED_DIR}/fasta_{p.FINAL_NUMBERING_SCHEME}_L.csv\n",
    "\"\"\"\n",
    "\n",
    "print(command)"
   ]
  },
  {
   "cell_type": "markdown",
   "id": "909a33d5-805b-4ad1-ab08-49e25929722d",
   "metadata": {},
   "source": [
    "**Two `.csv` files containing aligned (renumbered) sequences were created in `data/csv/fasta_aligned` directory - one for L chains and another one for H chains. Check that you see the two .csv files in the following command's output:**"
   ]
  },
  {
   "cell_type": "code",
   "execution_count": 4,
   "id": "9ff820bd-8c44-4c97-b5e2-93da829b841f",
   "metadata": {},
   "outputs": [
    {
     "name": "stdout",
     "output_type": "stream",
     "text": [
      "total 6032\n",
      "-rw-r--r--  1 rbeno  staff  1608241 Jul 24 20:08 fasta_aho_H.csv\n",
      "-rw-r--r--  1 rbeno  staff  1474834 Jul 24 20:08 fasta_aho_L.csv\n"
     ]
    }
   ],
   "source": [
    "command = f\"ls -l {FASTA_ALIGNED_DIR}\"\n",
    "! $command"
   ]
  },
  {
   "cell_type": "markdown",
   "id": "e24dad2d-005d-4e68-b26a-4d2a948558b0",
   "metadata": {},
   "source": [
    "---"
   ]
  },
  {
   "cell_type": "markdown",
   "id": "a074167b-1eb4-47cc-be5c-80273e392ce0",
   "metadata": {
    "tags": []
   },
   "source": [
    "## Setup"
   ]
  },
  {
   "cell_type": "code",
   "execution_count": 7,
   "id": "b00082e3-8688-4950-881a-16b0e884b228",
   "metadata": {},
   "outputs": [],
   "source": [
    "import collections\n",
    "import sys; sys.path.append('../..')\n",
    "import pandas as pd\n",
    "import seaborn as sns\n",
    "\n",
    "import bin.params as p\n",
    "import bin.utils as u"
   ]
  },
  {
   "cell_type": "code",
   "execution_count": 118,
   "id": "04caa490-b81e-408c-a77a-db609b0ece13",
   "metadata": {},
   "outputs": [],
   "source": [
    "sns.set_theme()\n",
    "sns.set(rc = {'figure.figsize':(12,6)})"
   ]
  },
  {
   "cell_type": "code",
   "execution_count": 27,
   "id": "f8585154-6f98-4bc1-9763-2408eb9f500b",
   "metadata": {},
   "outputs": [
    {
     "data": {
      "text/plain": [
       "('../../data/csv/metadataIB2July2024',\n",
       " '../../data/csv/fasta_aligned_cleaned_fixbug',\n",
       " '../../data/csv/uneven_fasta_sasa_lengthsIB2July2024',\n",
       " '../../data/csv/fasta_unalignedIB2July2024',\n",
       " '../../data/csv/sasa_relative_unalignedIBJuly2024',\n",
       " '../../data/png/fasta_sasa_length_diffs_histIB2July2024.png')"
      ]
     },
     "execution_count": 27,
     "metadata": {},
     "output_type": "execute_result"
    }
   ],
   "source": [
    "METADATA_DIR_PATH = f'{p.DATA_DIR}/csv/metadataJuly2024' # july2024\n",
    "# METADATA_DIR_PATH = f'{p.DATA_DIR}/csv/metadata' # old\n",
    "FASTA_ALIGNED_CLEANED_DIR_PATH = f'{p.DATA_DIR}/csv/fasta_aligned_cleanedJuly2024' # july2024\n",
    "# FASTA_ALIGNED_CLEANED_DIR_PATH = f'{p.DATA_DIR}/csv/fasta_aligned_cleaned' # old\n",
    "UNEVEN_FASTA_SASA_LENGTHS_DIR_PATH = f'{p.DATA_DIR}/csv/uneven_fasta_sasa_lengthsJuly2024' # july2024\n",
    "# UNEVEN_FASTA_SASA_LENGTHS_DIR_PATH = f'{p.DATA_DIR}/csv/uneven_fasta_sasa_lengths' # old\n",
    "FASTA_UNALIGNED_CSV_DIR = f'{p.DATA_DIR}/csv/fasta_unalignedJuly2024' #july2024\n",
    "# FASTA_UNALIGNED_CSV_DIR = f'{p.DATA_DIR}/csv/fasta_unaligned'# old\n",
    "SASA_RELATIVE_UNALIGNED_CSV_DIR = f'{p.DATA_DIR}/csv/sasa_relative_unalignedJuly2024' # july2024\n",
    "# SASA_RELATIVE_UNALIGNED_CSV_DIR = f'{p.DATA_DIR}/csv/sasa_relative_unaligned' # old\n",
    "FASTA_SASA_LENGTH_DIFFS_HISTOGRAM_PATH = f'{p.DATA_DIR}/png/fasta_sasa_length_diffs_histJuly2024.png' # july2024\n",
    "# FASTA_SASA_LENGTH_DIFFS_HISTOGRAM_PATH = f'{p.DATA_DIR}/png/fasta_sasa_length_diffs_hist.png' # old\n",
    "\n",
    "METADATA_DIR_PATH = f'{p.DATA_DIR}/csv/metadataIB2July2024'\n",
    "FASTA_ALIGNED_CLEANED_DIR_PATH = f'{p.DATA_DIR}/csv/fasta_aligned_cleanedIB2July2024'\n",
    "UNEVEN_FASTA_SASA_LENGTHS_DIR_PATH = f'{p.DATA_DIR}/csv/uneven_fasta_sasa_lengthsIB2July2024'\n",
    "FASTA_UNALIGNED_CSV_DIR = f'{p.DATA_DIR}/csv/fasta_unalignedIB2July2024'\n",
    "SASA_RELATIVE_UNALIGNED_CSV_DIR = f'{p.DATA_DIR}/csv/sasa_relative_unalignedIBJuly2024'\n",
    "FASTA_SASA_LENGTH_DIFFS_HISTOGRAM_PATH = f'{p.DATA_DIR}/png/fasta_sasa_length_diffs_histIB2July2024.png' \n",
    "\n",
    "#fixbug\n",
    "FASTA_ALIGNED_CLEANED_DIR_PATH = f'{p.DATA_DIR}/csv/fasta_aligned_cleaned_fixbug'\n",
    "\n",
    "(METADATA_DIR_PATH, FASTA_ALIGNED_CLEANED_DIR_PATH, UNEVEN_FASTA_SASA_LENGTHS_DIR_PATH, \n",
    " FASTA_UNALIGNED_CSV_DIR, SASA_RELATIVE_UNALIGNED_CSV_DIR, \n",
    " FASTA_SASA_LENGTH_DIFFS_HISTOGRAM_PATH)"
   ]
  },
  {
   "cell_type": "code",
   "execution_count": 28,
   "id": "efd17462-80c8-4933-9b64-a9867dc8ef08",
   "metadata": {
    "tags": []
   },
   "outputs": [],
   "source": [
    "command = f'mkdir -p {METADATA_DIR_PATH} {FASTA_ALIGNED_CLEANED_DIR_PATH} {UNEVEN_FASTA_SASA_LENGTHS_DIR_PATH}'\n",
    "! $command"
   ]
  },
  {
   "cell_type": "markdown",
   "id": "44c0a1db-ec38-423a-aad9-f656722fea17",
   "metadata": {
    "tags": []
   },
   "source": [
    "## Create merged `fasta_aligned_all.csv` dataset"
   ]
  },
  {
   "cell_type": "markdown",
   "id": "2709e9c4-c203-440c-87e6-37ff5a7bc956",
   "metadata": {},
   "source": [
    "**Let us create merged file that contains all the aligned sequences:**"
   ]
  },
  {
   "cell_type": "markdown",
   "id": "d6c47dab-5452-40c2-8911-8a1070dd1778",
   "metadata": {},
   "source": [
    "(note: this dataframe will be transformed later on)"
   ]
  },
  {
   "cell_type": "code",
   "execution_count": 10,
   "id": "fbe2b65b-6e96-4799-8ac5-9387eab63584",
   "metadata": {},
   "outputs": [
    {
     "name": "stdout",
     "output_type": "stream",
     "text": [
      "fasta aligned dir ../../data/csv/fasta_aligned_fixbug\n"
     ]
    }
   ],
   "source": [
    "fasta_L_df = pd.read_csv(f'{FASTA_ALIGNED_DIR}/fasta_{p.FINAL_NUMBERING_SCHEME}_L.csv', index_col=0)\n",
    "fasta_H_df = pd.read_csv(f'{FASTA_ALIGNED_DIR}/fasta_{p.FINAL_NUMBERING_SCHEME}_H.csv', index_col=0)\n",
    "print('fasta aligned dir', FASTA_ALIGNED_DIR)\n",
    "fasta_all_df = pd.concat([fasta_L_df, fasta_H_df]).sort_index()\n",
    "fasta_all_df.to_csv(f'{FASTA_ALIGNED_DIR}/fasta_{p.FINAL_NUMBERING_SCHEME}_all.csv')"
   ]
  },
  {
   "cell_type": "code",
   "execution_count": 11,
   "id": "9b157b0d-cba9-4174-ad12-c68ac118713d",
   "metadata": {},
   "outputs": [
    {
     "data": {
      "text/html": [
       "<div>\n",
       "<style scoped>\n",
       "    .dataframe tbody tr th:only-of-type {\n",
       "        vertical-align: middle;\n",
       "    }\n",
       "\n",
       "    .dataframe tbody tr th {\n",
       "        vertical-align: top;\n",
       "    }\n",
       "\n",
       "    .dataframe thead th {\n",
       "        text-align: right;\n",
       "    }\n",
       "</style>\n",
       "<table border=\"1\" class=\"dataframe\">\n",
       "  <thead>\n",
       "    <tr style=\"text-align: right;\">\n",
       "      <th></th>\n",
       "      <th>domain_no</th>\n",
       "      <th>hmm_species</th>\n",
       "      <th>chain_type</th>\n",
       "      <th>e-value</th>\n",
       "      <th>score</th>\n",
       "      <th>seqstart_index</th>\n",
       "      <th>seqend_index</th>\n",
       "      <th>identity_species</th>\n",
       "      <th>v_gene</th>\n",
       "      <th>v_identity</th>\n",
       "      <th>...</th>\n",
       "      <th>140</th>\n",
       "      <th>141</th>\n",
       "      <th>142</th>\n",
       "      <th>143</th>\n",
       "      <th>144</th>\n",
       "      <th>145</th>\n",
       "      <th>146</th>\n",
       "      <th>147</th>\n",
       "      <th>148</th>\n",
       "      <th>149</th>\n",
       "    </tr>\n",
       "    <tr>\n",
       "      <th>Id</th>\n",
       "      <th></th>\n",
       "      <th></th>\n",
       "      <th></th>\n",
       "      <th></th>\n",
       "      <th></th>\n",
       "      <th></th>\n",
       "      <th></th>\n",
       "      <th></th>\n",
       "      <th></th>\n",
       "      <th></th>\n",
       "      <th></th>\n",
       "      <th></th>\n",
       "      <th></th>\n",
       "      <th></th>\n",
       "      <th></th>\n",
       "      <th></th>\n",
       "      <th></th>\n",
       "      <th></th>\n",
       "      <th></th>\n",
       "      <th></th>\n",
       "      <th></th>\n",
       "    </tr>\n",
       "  </thead>\n",
       "  <tbody>\n",
       "    <tr>\n",
       "      <th>12E8:L</th>\n",
       "      <td>0</td>\n",
       "      <td>mouse</td>\n",
       "      <td>K</td>\n",
       "      <td>3.400000e-53</td>\n",
       "      <td>170.2</td>\n",
       "      <td>0</td>\n",
       "      <td>107</td>\n",
       "      <td>NaN</td>\n",
       "      <td>NaN</td>\n",
       "      <td>0.0</td>\n",
       "      <td>...</td>\n",
       "      <td>G</td>\n",
       "      <td>A</td>\n",
       "      <td>G</td>\n",
       "      <td>T</td>\n",
       "      <td>K</td>\n",
       "      <td>L</td>\n",
       "      <td>E</td>\n",
       "      <td>L</td>\n",
       "      <td>K</td>\n",
       "      <td>R</td>\n",
       "    </tr>\n",
       "    <tr>\n",
       "      <th>15C8:L</th>\n",
       "      <td>0</td>\n",
       "      <td>mouse</td>\n",
       "      <td>K</td>\n",
       "      <td>4.700000e-56</td>\n",
       "      <td>179.5</td>\n",
       "      <td>0</td>\n",
       "      <td>108</td>\n",
       "      <td>NaN</td>\n",
       "      <td>NaN</td>\n",
       "      <td>0.0</td>\n",
       "      <td>...</td>\n",
       "      <td>G</td>\n",
       "      <td>G</td>\n",
       "      <td>G</td>\n",
       "      <td>T</td>\n",
       "      <td>K</td>\n",
       "      <td>L</td>\n",
       "      <td>E</td>\n",
       "      <td>I</td>\n",
       "      <td>K</td>\n",
       "      <td>R</td>\n",
       "    </tr>\n",
       "    <tr>\n",
       "      <th>1A0Q:L</th>\n",
       "      <td>0</td>\n",
       "      <td>rat</td>\n",
       "      <td>K</td>\n",
       "      <td>3.900000e-47</td>\n",
       "      <td>150.6</td>\n",
       "      <td>0</td>\n",
       "      <td>105</td>\n",
       "      <td>NaN</td>\n",
       "      <td>NaN</td>\n",
       "      <td>0.0</td>\n",
       "      <td>...</td>\n",
       "      <td>G</td>\n",
       "      <td>G</td>\n",
       "      <td>G</td>\n",
       "      <td>T</td>\n",
       "      <td>K</td>\n",
       "      <td>L</td>\n",
       "      <td>E</td>\n",
       "      <td>I</td>\n",
       "      <td>K</td>\n",
       "      <td>R</td>\n",
       "    </tr>\n",
       "    <tr>\n",
       "      <th>1A14:L</th>\n",
       "      <td>0</td>\n",
       "      <td>mouse</td>\n",
       "      <td>K</td>\n",
       "      <td>8.100000e-48</td>\n",
       "      <td>152.8</td>\n",
       "      <td>0</td>\n",
       "      <td>101</td>\n",
       "      <td>NaN</td>\n",
       "      <td>NaN</td>\n",
       "      <td>0.0</td>\n",
       "      <td>...</td>\n",
       "      <td>G</td>\n",
       "      <td>G</td>\n",
       "      <td>G</td>\n",
       "      <td>T</td>\n",
       "      <td>-</td>\n",
       "      <td>-</td>\n",
       "      <td>-</td>\n",
       "      <td>-</td>\n",
       "      <td>-</td>\n",
       "      <td>-</td>\n",
       "    </tr>\n",
       "    <tr>\n",
       "      <th>1A2Y:L</th>\n",
       "      <td>0</td>\n",
       "      <td>mouse</td>\n",
       "      <td>K</td>\n",
       "      <td>6.200000e-52</td>\n",
       "      <td>166.1</td>\n",
       "      <td>0</td>\n",
       "      <td>106</td>\n",
       "      <td>NaN</td>\n",
       "      <td>NaN</td>\n",
       "      <td>0.0</td>\n",
       "      <td>...</td>\n",
       "      <td>G</td>\n",
       "      <td>G</td>\n",
       "      <td>G</td>\n",
       "      <td>T</td>\n",
       "      <td>K</td>\n",
       "      <td>L</td>\n",
       "      <td>E</td>\n",
       "      <td>I</td>\n",
       "      <td>K</td>\n",
       "      <td>-</td>\n",
       "    </tr>\n",
       "    <tr>\n",
       "      <th>...</th>\n",
       "      <td>...</td>\n",
       "      <td>...</td>\n",
       "      <td>...</td>\n",
       "      <td>...</td>\n",
       "      <td>...</td>\n",
       "      <td>...</td>\n",
       "      <td>...</td>\n",
       "      <td>...</td>\n",
       "      <td>...</td>\n",
       "      <td>...</td>\n",
       "      <td>...</td>\n",
       "      <td>...</td>\n",
       "      <td>...</td>\n",
       "      <td>...</td>\n",
       "      <td>...</td>\n",
       "      <td>...</td>\n",
       "      <td>...</td>\n",
       "      <td>...</td>\n",
       "      <td>...</td>\n",
       "      <td>...</td>\n",
       "      <td>...</td>\n",
       "    </tr>\n",
       "    <tr>\n",
       "      <th>8Y6A:L</th>\n",
       "      <td>0</td>\n",
       "      <td>human</td>\n",
       "      <td>K</td>\n",
       "      <td>8.200000e-56</td>\n",
       "      <td>178.5</td>\n",
       "      <td>0</td>\n",
       "      <td>107</td>\n",
       "      <td>NaN</td>\n",
       "      <td>NaN</td>\n",
       "      <td>0.0</td>\n",
       "      <td>...</td>\n",
       "      <td>G</td>\n",
       "      <td>G</td>\n",
       "      <td>G</td>\n",
       "      <td>T</td>\n",
       "      <td>K</td>\n",
       "      <td>V</td>\n",
       "      <td>E</td>\n",
       "      <td>I</td>\n",
       "      <td>K</td>\n",
       "      <td>R</td>\n",
       "    </tr>\n",
       "    <tr>\n",
       "      <th>8Y6H:L</th>\n",
       "      <td>0</td>\n",
       "      <td>rhesus</td>\n",
       "      <td>K</td>\n",
       "      <td>1.600000e-54</td>\n",
       "      <td>174.6</td>\n",
       "      <td>0</td>\n",
       "      <td>110</td>\n",
       "      <td>NaN</td>\n",
       "      <td>NaN</td>\n",
       "      <td>0.0</td>\n",
       "      <td>...</td>\n",
       "      <td>G</td>\n",
       "      <td>G</td>\n",
       "      <td>G</td>\n",
       "      <td>T</td>\n",
       "      <td>K</td>\n",
       "      <td>L</td>\n",
       "      <td>D</td>\n",
       "      <td>I</td>\n",
       "      <td>K</td>\n",
       "      <td>R</td>\n",
       "    </tr>\n",
       "    <tr>\n",
       "      <th>8Y6I:L</th>\n",
       "      <td>0</td>\n",
       "      <td>rhesus</td>\n",
       "      <td>K</td>\n",
       "      <td>8.600000e-58</td>\n",
       "      <td>185.1</td>\n",
       "      <td>0</td>\n",
       "      <td>113</td>\n",
       "      <td>NaN</td>\n",
       "      <td>NaN</td>\n",
       "      <td>0.0</td>\n",
       "      <td>...</td>\n",
       "      <td>G</td>\n",
       "      <td>G</td>\n",
       "      <td>G</td>\n",
       "      <td>T</td>\n",
       "      <td>K</td>\n",
       "      <td>L</td>\n",
       "      <td>D</td>\n",
       "      <td>I</td>\n",
       "      <td>K</td>\n",
       "      <td>R</td>\n",
       "    </tr>\n",
       "    <tr>\n",
       "      <th>8YX1:L</th>\n",
       "      <td>0</td>\n",
       "      <td>human</td>\n",
       "      <td>K</td>\n",
       "      <td>1.000000e-57</td>\n",
       "      <td>184.7</td>\n",
       "      <td>0</td>\n",
       "      <td>106</td>\n",
       "      <td>NaN</td>\n",
       "      <td>NaN</td>\n",
       "      <td>0.0</td>\n",
       "      <td>...</td>\n",
       "      <td>G</td>\n",
       "      <td>Q</td>\n",
       "      <td>G</td>\n",
       "      <td>T</td>\n",
       "      <td>K</td>\n",
       "      <td>V</td>\n",
       "      <td>E</td>\n",
       "      <td>I</td>\n",
       "      <td>K</td>\n",
       "      <td>R</td>\n",
       "    </tr>\n",
       "    <tr>\n",
       "      <th>8YX9:L</th>\n",
       "      <td>0</td>\n",
       "      <td>rhesus</td>\n",
       "      <td>K</td>\n",
       "      <td>1.500000e-62</td>\n",
       "      <td>200.5</td>\n",
       "      <td>0</td>\n",
       "      <td>112</td>\n",
       "      <td>NaN</td>\n",
       "      <td>NaN</td>\n",
       "      <td>0.0</td>\n",
       "      <td>...</td>\n",
       "      <td>G</td>\n",
       "      <td>Q</td>\n",
       "      <td>G</td>\n",
       "      <td>T</td>\n",
       "      <td>K</td>\n",
       "      <td>V</td>\n",
       "      <td>E</td>\n",
       "      <td>I</td>\n",
       "      <td>K</td>\n",
       "      <td>R</td>\n",
       "    </tr>\n",
       "  </tbody>\n",
       "</table>\n",
       "<p>4142 rows × 165 columns</p>\n",
       "</div>"
      ],
      "text/plain": [
       "        domain_no hmm_species chain_type       e-value  score  seqstart_index  \\\n",
       "Id                                                                              \n",
       "12E8:L          0       mouse          K  3.400000e-53  170.2               0   \n",
       "15C8:L          0       mouse          K  4.700000e-56  179.5               0   \n",
       "1A0Q:L          0         rat          K  3.900000e-47  150.6               0   \n",
       "1A14:L          0       mouse          K  8.100000e-48  152.8               0   \n",
       "1A2Y:L          0       mouse          K  6.200000e-52  166.1               0   \n",
       "...           ...         ...        ...           ...    ...             ...   \n",
       "8Y6A:L          0       human          K  8.200000e-56  178.5               0   \n",
       "8Y6H:L          0      rhesus          K  1.600000e-54  174.6               0   \n",
       "8Y6I:L          0      rhesus          K  8.600000e-58  185.1               0   \n",
       "8YX1:L          0       human          K  1.000000e-57  184.7               0   \n",
       "8YX9:L          0      rhesus          K  1.500000e-62  200.5               0   \n",
       "\n",
       "        seqend_index  identity_species  v_gene  v_identity  ...  140  141 142  \\\n",
       "Id                                                          ...                 \n",
       "12E8:L           107               NaN     NaN         0.0  ...    G    A   G   \n",
       "15C8:L           108               NaN     NaN         0.0  ...    G    G   G   \n",
       "1A0Q:L           105               NaN     NaN         0.0  ...    G    G   G   \n",
       "1A14:L           101               NaN     NaN         0.0  ...    G    G   G   \n",
       "1A2Y:L           106               NaN     NaN         0.0  ...    G    G   G   \n",
       "...              ...               ...     ...         ...  ...  ...  ...  ..   \n",
       "8Y6A:L           107               NaN     NaN         0.0  ...    G    G   G   \n",
       "8Y6H:L           110               NaN     NaN         0.0  ...    G    G   G   \n",
       "8Y6I:L           113               NaN     NaN         0.0  ...    G    G   G   \n",
       "8YX1:L           106               NaN     NaN         0.0  ...    G    Q   G   \n",
       "8YX9:L           112               NaN     NaN         0.0  ...    G    Q   G   \n",
       "\n",
       "       143 144 145 146 147 148 149  \n",
       "Id                                  \n",
       "12E8:L   T   K   L   E   L   K   R  \n",
       "15C8:L   T   K   L   E   I   K   R  \n",
       "1A0Q:L   T   K   L   E   I   K   R  \n",
       "1A14:L   T   -   -   -   -   -   -  \n",
       "1A2Y:L   T   K   L   E   I   K   -  \n",
       "...     ..  ..  ..  ..  ..  ..  ..  \n",
       "8Y6A:L   T   K   V   E   I   K   R  \n",
       "8Y6H:L   T   K   L   D   I   K   R  \n",
       "8Y6I:L   T   K   L   D   I   K   R  \n",
       "8YX1:L   T   K   V   E   I   K   R  \n",
       "8YX9:L   T   K   V   E   I   K   R  \n",
       "\n",
       "[4142 rows x 165 columns]"
      ]
     },
     "execution_count": 11,
     "metadata": {},
     "output_type": "execute_result"
    }
   ],
   "source": [
    "def nondash_counts_columns(df):\n",
    "    all_counts = df.count(axis=0)\n",
    "    gap_counts = df.apply(lambda x: x.str.contains('-').sum(), axis=0)\n",
    "    return all_counts - gap_counts\n",
    "\n",
    "fasta_L_df"
   ]
  },
  {
   "cell_type": "code",
   "execution_count": 12,
   "id": "7fd7238b-c0ec-42d6-b100-b9f28b3b188d",
   "metadata": {},
   "outputs": [
    {
     "name": "stdout",
     "output_type": "stream",
     "text": [
      "fasta_all_df.shape (8284, 183)\n"
     ]
    },
    {
     "data": {
      "text/html": [
       "<div>\n",
       "<style scoped>\n",
       "    .dataframe tbody tr th:only-of-type {\n",
       "        vertical-align: middle;\n",
       "    }\n",
       "\n",
       "    .dataframe tbody tr th {\n",
       "        vertical-align: top;\n",
       "    }\n",
       "\n",
       "    .dataframe thead th {\n",
       "        text-align: right;\n",
       "    }\n",
       "</style>\n",
       "<table border=\"1\" class=\"dataframe\">\n",
       "  <thead>\n",
       "    <tr style=\"text-align: right;\">\n",
       "      <th></th>\n",
       "      <th>domain_no</th>\n",
       "      <th>hmm_species</th>\n",
       "      <th>chain_type</th>\n",
       "      <th>e-value</th>\n",
       "      <th>score</th>\n",
       "      <th>seqstart_index</th>\n",
       "      <th>seqend_index</th>\n",
       "      <th>identity_species</th>\n",
       "      <th>v_gene</th>\n",
       "      <th>v_identity</th>\n",
       "      <th>...</th>\n",
       "      <th>85D</th>\n",
       "      <th>85E</th>\n",
       "      <th>85F</th>\n",
       "      <th>85G</th>\n",
       "      <th>85H</th>\n",
       "      <th>123A</th>\n",
       "      <th>123B</th>\n",
       "      <th>123C</th>\n",
       "      <th>123D</th>\n",
       "      <th>143A</th>\n",
       "    </tr>\n",
       "    <tr>\n",
       "      <th>Id</th>\n",
       "      <th></th>\n",
       "      <th></th>\n",
       "      <th></th>\n",
       "      <th></th>\n",
       "      <th></th>\n",
       "      <th></th>\n",
       "      <th></th>\n",
       "      <th></th>\n",
       "      <th></th>\n",
       "      <th></th>\n",
       "      <th></th>\n",
       "      <th></th>\n",
       "      <th></th>\n",
       "      <th></th>\n",
       "      <th></th>\n",
       "      <th></th>\n",
       "      <th></th>\n",
       "      <th></th>\n",
       "      <th></th>\n",
       "      <th></th>\n",
       "      <th></th>\n",
       "    </tr>\n",
       "  </thead>\n",
       "  <tbody>\n",
       "    <tr>\n",
       "      <th>12E8:H</th>\n",
       "      <td>0</td>\n",
       "      <td>mouse</td>\n",
       "      <td>H</td>\n",
       "      <td>1.100000e-53</td>\n",
       "      <td>171.7</td>\n",
       "      <td>0</td>\n",
       "      <td>119</td>\n",
       "      <td>NaN</td>\n",
       "      <td>NaN</td>\n",
       "      <td>0.0</td>\n",
       "      <td>...</td>\n",
       "      <td>-</td>\n",
       "      <td>-</td>\n",
       "      <td>-</td>\n",
       "      <td>-</td>\n",
       "      <td>-</td>\n",
       "      <td>-</td>\n",
       "      <td>-</td>\n",
       "      <td>-</td>\n",
       "      <td>-</td>\n",
       "      <td>-</td>\n",
       "    </tr>\n",
       "  </tbody>\n",
       "</table>\n",
       "<p>1 rows × 183 columns</p>\n",
       "</div>"
      ],
      "text/plain": [
       "        domain_no hmm_species chain_type       e-value  score  seqstart_index  \\\n",
       "Id                                                                              \n",
       "12E8:H          0       mouse          H  1.100000e-53  171.7               0   \n",
       "\n",
       "        seqend_index  identity_species  v_gene  v_identity  ...  85D  85E 85F  \\\n",
       "Id                                                          ...                 \n",
       "12E8:H           119               NaN     NaN         0.0  ...    -    -   -   \n",
       "\n",
       "       85G 85H 123A 123B 123C 123D 143A  \n",
       "Id                                       \n",
       "12E8:H   -   -    -    -    -    -    -  \n",
       "\n",
       "[1 rows x 183 columns]"
      ]
     },
     "execution_count": 12,
     "metadata": {},
     "output_type": "execute_result"
    }
   ],
   "source": [
    "fasta_all_df = pd.read_csv(f'{FASTA_ALIGNED_DIR}/fasta_{p.FINAL_NUMBERING_SCHEME}_all.csv', index_col=0)\n",
    "print('fasta_all_df.shape', fasta_all_df.shape)\n",
    "fasta_all_df.head(n=1)"
   ]
  },
  {
   "cell_type": "markdown",
   "id": "63a04df2-8350-49e5-abae-0a0707e60af1",
   "metadata": {},
   "source": [
    "---"
   ]
  },
  {
   "cell_type": "markdown",
   "id": "52ab5581-c2dd-4af3-8472-e8d2a838bbb8",
   "metadata": {
    "tags": []
   },
   "source": [
    "## Load the data"
   ]
  },
  {
   "cell_type": "code",
   "execution_count": 16,
   "id": "504ecdac-1dbe-4672-a606-94cbc94a4b1a",
   "metadata": {},
   "outputs": [
    {
     "name": "stdout",
     "output_type": "stream",
     "text": [
      "../../data/csv/sasa_relative_unalignedIBJuly2024 ../../data/csv/fasta_unalignedIB2July2024 ../../data/csv/fasta_aligned_fixbug\n",
      "(1760, 134) (1758, 156) (879, 156) (879, 156) (8284, 183) (4142, 165) (4142, 181)\n"
     ]
    }
   ],
   "source": [
    "sasa_unaligned_df = pd.read_csv(f'{SASA_RELATIVE_UNALIGNED_CSV_DIR}/sasa_all.csv', index_col=0)\n",
    "fasta_unaligned_df = pd.read_csv(f'{FASTA_UNALIGNED_CSV_DIR}/fasta_all.csv', index_col=0)\n",
    "fasta_unaligned_L_df = pd.read_csv(f'{FASTA_UNALIGNED_CSV_DIR}/fasta_L.csv', index_col=0)\n",
    "fasta_unaligned_H_df = pd.read_csv(f'{FASTA_UNALIGNED_CSV_DIR}/fasta_H.csv', index_col=0)\n",
    "fasta_aligned_df = pd.read_csv(f'{FASTA_ALIGNED_DIR}/fasta_{p.FINAL_NUMBERING_SCHEME}_all.csv', index_col=0)\n",
    "fasta_aligned_L_df = pd.read_csv(f'{FASTA_ALIGNED_DIR}/fasta_{p.FINAL_NUMBERING_SCHEME}_L.csv', index_col=0)\n",
    "fasta_aligned_H_df = pd.read_csv(f'{FASTA_ALIGNED_DIR}/fasta_{p.FINAL_NUMBERING_SCHEME}_H.csv', index_col=0)\n",
    "\n",
    "print(SASA_RELATIVE_UNALIGNED_CSV_DIR, FASTA_UNALIGNED_CSV_DIR, FASTA_ALIGNED_DIR)\n",
    "print(sasa_unaligned_df.shape, fasta_unaligned_df.shape, fasta_unaligned_L_df.shape, \n",
    "      fasta_unaligned_H_df.shape, fasta_aligned_df.shape, fasta_aligned_L_df.shape, fasta_aligned_H_df.shape)"
   ]
  },
  {
   "cell_type": "markdown",
   "id": "3343ca42-38ae-4245-b8e9-ff29fcc1ece2",
   "metadata": {
    "tags": []
   },
   "source": [
    "## Extract metadata generated by ANARCI"
   ]
  },
  {
   "cell_type": "markdown",
   "id": "1b464c25-fea7-4e52-a722-efe53f693269",
   "metadata": {},
   "source": [
    "Right now, the metadata are stored in dataframes generated from ANARCI renumbering - \n",
    "`fasta_aligned_L_df` and `fasta_aligned_H_df`."
   ]
  },
  {
   "cell_type": "markdown",
   "id": "ea6edcc3-d3af-420d-ad5d-1d52583dff39",
   "metadata": {},
   "source": [
    "**1. Compute `unaligned_len`, this is the sequence length **before** ANARCI renumbering took place. May be used in further analyses.**"
   ]
  },
  {
   "cell_type": "code",
   "execution_count": 124,
   "id": "a1e46927-6eb0-461f-bae5-727b14b76598",
   "metadata": {},
   "outputs": [
    {
     "name": "stdout",
     "output_type": "stream",
     "text": [
      "unaligned_lengths shape: (1758, 1)\n"
     ]
    },
    {
     "data": {
      "text/html": [
       "<div>\n",
       "<style scoped>\n",
       "    .dataframe tbody tr th:only-of-type {\n",
       "        vertical-align: middle;\n",
       "    }\n",
       "\n",
       "    .dataframe tbody tr th {\n",
       "        vertical-align: top;\n",
       "    }\n",
       "\n",
       "    .dataframe thead th {\n",
       "        text-align: right;\n",
       "    }\n",
       "</style>\n",
       "<table border=\"1\" class=\"dataframe\">\n",
       "  <thead>\n",
       "    <tr style=\"text-align: right;\">\n",
       "      <th></th>\n",
       "      <th>unaligned_len</th>\n",
       "    </tr>\n",
       "  </thead>\n",
       "  <tbody>\n",
       "    <tr>\n",
       "      <th>7DF1:H</th>\n",
       "      <td>147</td>\n",
       "    </tr>\n",
       "  </tbody>\n",
       "</table>\n",
       "</div>"
      ],
      "text/plain": [
       "        unaligned_len\n",
       "7DF1:H            147"
      ]
     },
     "execution_count": 124,
     "metadata": {},
     "output_type": "execute_result"
    }
   ],
   "source": [
    "unaligned_lengths = pd.DataFrame({'unaligned_len': u.nondash_counts(fasta_unaligned_df)})\n",
    "print('unaligned_lengths shape:', unaligned_lengths.shape)\n",
    "unaligned_lengths.head(n=1)"
   ]
  },
  {
   "cell_type": "markdown",
   "id": "55a49ed0-b942-4e1a-91ce-f5baddc29630",
   "metadata": {},
   "source": [
    "**2. Select metadata columns in `fasta_aligned` dataframe and copy them to separate `metadata` dataframe, appending previously computed `unaligned_length` data there as well:**"
   ]
  },
  {
   "cell_type": "code",
   "execution_count": 17,
   "id": "faeee7f3-e3b2-4898-b000-104952689beb",
   "metadata": {},
   "outputs": [],
   "source": [
    "metadata_columns = ['domain_no', 'hmm_species', 'chain_type', 'e-value', 'score', \n",
    "                'seqstart_index', 'seqend_index', 'identity_species', 'v_gene', \n",
    "                'v_identity', 'j_gene', 'j_identity']"
   ]
  },
  {
   "cell_type": "code",
   "execution_count": 18,
   "id": "b2851795-3059-4274-be36-a25ef13f0349",
   "metadata": {},
   "outputs": [],
   "source": [
    "# sanity check\n",
    "for metadata_col in metadata_columns:\n",
    "    assert metadata_col in fasta_aligned_df.columns\n",
    "    assert metadata_col in fasta_aligned_L_df.columns\n",
    "    assert metadata_col in fasta_aligned_H_df.columns"
   ]
  },
  {
   "cell_type": "code",
   "execution_count": 19,
   "id": "949616bf-b06f-4883-915d-2cf1823866ad",
   "metadata": {},
   "outputs": [
    {
     "ename": "NameError",
     "evalue": "name 'unaligned_lengths' is not defined",
     "output_type": "error",
     "traceback": [
      "\u001b[0;31m---------------------------------------------------------------------------\u001b[0m",
      "\u001b[0;31mNameError\u001b[0m                                 Traceback (most recent call last)",
      "Cell \u001b[0;32mIn[19], line 3\u001b[0m\n\u001b[1;32m      1\u001b[0m metadata_df \u001b[38;5;241m=\u001b[39m fasta_aligned_df[metadata_columns]\n\u001b[1;32m      2\u001b[0m metadata_df\u001b[38;5;241m.\u001b[39mindex \u001b[38;5;241m=\u001b[39m fasta_aligned_df\u001b[38;5;241m.\u001b[39mindex\n\u001b[0;32m----> 3\u001b[0m metadata_df \u001b[38;5;241m=\u001b[39m pd\u001b[38;5;241m.\u001b[39mconcat([metadata_df, \u001b[43munaligned_lengths\u001b[49m], axis\u001b[38;5;241m=\u001b[39m\u001b[38;5;241m1\u001b[39m)\n",
      "\u001b[0;31mNameError\u001b[0m: name 'unaligned_lengths' is not defined"
     ]
    }
   ],
   "source": [
    "metadata_df = fasta_aligned_df[metadata_columns]\n",
    "metadata_df.index = fasta_aligned_df.index\n",
    "metadata_df = pd.concat([metadata_df, unaligned_lengths], axis=1)"
   ]
  },
  {
   "cell_type": "code",
   "execution_count": 128,
   "id": "f3ec7bda-b738-4cd3-a922-8cfa8b32ff5c",
   "metadata": {},
   "outputs": [
    {
     "data": {
      "text/html": [
       "<div>\n",
       "<style scoped>\n",
       "    .dataframe tbody tr th:only-of-type {\n",
       "        vertical-align: middle;\n",
       "    }\n",
       "\n",
       "    .dataframe tbody tr th {\n",
       "        vertical-align: top;\n",
       "    }\n",
       "\n",
       "    .dataframe thead th {\n",
       "        text-align: right;\n",
       "    }\n",
       "</style>\n",
       "<table border=\"1\" class=\"dataframe\">\n",
       "  <thead>\n",
       "    <tr style=\"text-align: right;\">\n",
       "      <th></th>\n",
       "      <th>domain_no</th>\n",
       "      <th>hmm_species</th>\n",
       "      <th>chain_type</th>\n",
       "      <th>e-value</th>\n",
       "      <th>score</th>\n",
       "      <th>seqstart_index</th>\n",
       "      <th>seqend_index</th>\n",
       "      <th>identity_species</th>\n",
       "      <th>v_gene</th>\n",
       "      <th>v_identity</th>\n",
       "      <th>j_gene</th>\n",
       "      <th>j_identity</th>\n",
       "      <th>unaligned_len</th>\n",
       "    </tr>\n",
       "  </thead>\n",
       "  <tbody>\n",
       "    <tr>\n",
       "      <th>7DF1:H</th>\n",
       "      <td>0</td>\n",
       "      <td>human</td>\n",
       "      <td>H</td>\n",
       "      <td>3.500000e-46</td>\n",
       "      <td>147.7</td>\n",
       "      <td>0</td>\n",
       "      <td>146</td>\n",
       "      <td>NaN</td>\n",
       "      <td>NaN</td>\n",
       "      <td>0.0</td>\n",
       "      <td>NaN</td>\n",
       "      <td>0.0</td>\n",
       "      <td>147</td>\n",
       "    </tr>\n",
       "  </tbody>\n",
       "</table>\n",
       "</div>"
      ],
      "text/plain": [
       "        domain_no hmm_species chain_type       e-value  score  seqstart_index  \\\n",
       "7DF1:H          0       human          H  3.500000e-46  147.7               0   \n",
       "\n",
       "        seqend_index  identity_species  v_gene  v_identity  j_gene  \\\n",
       "7DF1:H           146               NaN     NaN         0.0     NaN   \n",
       "\n",
       "        j_identity  unaligned_len  \n",
       "7DF1:H         0.0            147  "
      ]
     },
     "execution_count": 128,
     "metadata": {},
     "output_type": "execute_result"
    }
   ],
   "source": [
    "metadata_df.head(n=1)"
   ]
  },
  {
   "cell_type": "markdown",
   "id": "194650cc-a573-4583-b4da-66cfa9f4a0c7",
   "metadata": {},
   "source": [
    "**3. Store metadata to the `.csv` files:**"
   ]
  },
  {
   "cell_type": "code",
   "execution_count": 129,
   "id": "81a62827-0018-4d47-9c48-d9c4aef36010",
   "metadata": {},
   "outputs": [
    {
     "name": "stdout",
     "output_type": "stream",
     "text": [
      "metadata_df.shape (1758, 13) metadata_L_df.shape (879, 13) metadata_H_df.shape (879, 13)\n"
     ]
    }
   ],
   "source": [
    "metadata_df.to_csv(f'{METADATA_DIR_PATH}/metadata_all.csv')\n",
    "metadata_L_df = u.select_only_chain_sequences(metadata_df, 'L')\n",
    "metadata_L_df.to_csv(f'{METADATA_DIR_PATH}/metadata_L.csv')\n",
    "metadata_H_df = u.select_only_chain_sequences(metadata_df, 'H')\n",
    "metadata_H_df.to_csv(f'{METADATA_DIR_PATH}/metadata_H.csv')\n",
    "print('metadata_df.shape', metadata_df.shape, 'metadata_L_df.shape', metadata_L_df.shape, 'metadata_H_df.shape', metadata_H_df.shape)"
   ]
  },
  {
   "cell_type": "markdown",
   "id": "03f79329-daed-4f4c-af3e-032b6939644b",
   "metadata": {
    "tags": []
   },
   "source": [
    "## Cleanup the aligned dataframes"
   ]
  },
  {
   "cell_type": "markdown",
   "id": "52384bc5-16cb-4b91-afd3-143e9de7a14b",
   "metadata": {},
   "source": [
    "**1. Drop metadata columns:**"
   ]
  },
  {
   "cell_type": "code",
   "execution_count": 20,
   "id": "f1673b8f-3660-4a54-8483-c26da83217e2",
   "metadata": {},
   "outputs": [
    {
     "name": "stdout",
     "output_type": "stream",
     "text": [
      "fac_df.shape (8284, 171) fac_L_df.shape (4142, 153) fac_H_df.shape (4142, 169)\n"
     ]
    }
   ],
   "source": [
    "fac_df = fasta_aligned_df.drop(metadata_columns, axis=1)\n",
    "fac_L_df = fasta_aligned_L_df.drop(metadata_columns, axis=1)\n",
    "fac_H_df = fasta_aligned_H_df.drop(metadata_columns, axis=1)\n",
    "print('fac_df.shape', fac_df.shape, 'fac_L_df.shape', fac_L_df.shape, 'fac_H_df.shape', fac_H_df.shape)"
   ]
  },
  {
   "cell_type": "markdown",
   "id": "5de3b531-aa5b-4a72-87a0-064e7300c33b",
   "metadata": {},
   "source": [
    "**2. Reorder columns:**"
   ]
  },
  {
   "cell_type": "markdown",
   "id": "efe5bc3b-aed1-4037-8b10-f5d938ffe0f0",
   "metadata": {},
   "source": [
    "Run the cell below to see columns of newly created dataframes:"
   ]
  },
  {
   "cell_type": "code",
   "execution_count": 24,
   "id": "402156c0-f355-4825-a291-1892b4500926",
   "metadata": {},
   "outputs": [
    {
     "name": "stdout",
     "output_type": "stream",
     "text": [
      "['1', '2', '3', '4', '5', '6', '7', '8', '9', '10', '11', '12', '13', '14', '15', '16', '17', '18', '19', '20', '21', '22', '23', '24', '25', '26', '27', '28', '29', '30', '31', '32', '33', '34', '35', '36', '37', '38', '39', '40', '41', '42', '43', '44', '45', '46', '46A', '47', '47A', '48', '49', '50', '51', '52', '53', '54', '55', '56', '57', '58', '59', '60', '61', '62', '63', '64', '65', '66', '67', '68', '69', '70', '71', '72', '73', '74', '75', '76', '77', '78', '79', '80', '81', '82', '83', '84', '85', '85A', '85B', '86', '87', '88', '89', '90', '91', '92', '93', '94', '95', '96', '97', '98', '99', '100', '101', '102', '103', '104', '105', '106', '107', '108', '109', '110', '111', '112', '113', '114', '115', '116', '117', '118', '119', '120', '121', '122', '123', '124', '125', '126', '127', '128', '129', '130', '131', '132', '133', '134', '135', '136', '137', '138', '139', '140', '141', '142', '143', '144', '145', '146', '147', '148', '149']\n"
     ]
    }
   ],
   "source": [
    "print(list(fac_L_df.columns))"
   ]
  },
  {
   "cell_type": "markdown",
   "id": "a1303567-cd1f-4f14-8a95-ee4949edbcd5",
   "metadata": {},
   "source": [
    "The problem is that all columns that contain subpositions (e.g. `123B`, `85E` ...) are grouped at the end. That, of course, makes no sense. Let us fix it:"
   ]
  },
  {
   "cell_type": "code",
   "execution_count": 26,
   "id": "e19cfe9c-b02b-4a26-b219-f589e5b34970",
   "metadata": {},
   "outputs": [
    {
     "name": "stdout",
     "output_type": "stream",
     "text": [
      "after sort-renumbering-columns: fac_df.shape (8284, 171) fac_L_df.shape (4142, 153) fac_H_df.shape (4142, 169)\n"
     ]
    }
   ],
   "source": [
    "fac_df = u.sort_numbering_columns(fac_df)\n",
    "fac_L_df = u.sort_numbering_columns(fac_L_df)\n",
    "fac_H_df = u.sort_numbering_columns(fac_H_df)\n",
    "print('after sort-renumbering-columns: fac_df.shape', fac_df.shape, 'fac_L_df.shape', fac_L_df.shape, 'fac_H_df.shape', fac_H_df.shape)"
   ]
  },
  {
   "cell_type": "code",
   "execution_count": 25,
   "id": "2f92bd7f-6bc7-41ac-99a8-a5e17c5be5e9",
   "metadata": {},
   "outputs": [
    {
     "name": "stdout",
     "output_type": "stream",
     "text": [
      "['1', '2', '3', '4', '5', '6', '7', '8', '9', '10', '11', '12', '13', '14', '15', '16', '17', '18', '19', '20', '21', '22', '23', '24', '25', '26', '27', '28', '29', '30', '31', '32', '33', '34', '35', '36', '37', '38', '39', '40', '41', '42', '43', '44', '45', '46', '46A', '47', '47A', '48', '49', '50', '51', '52', '53', '54', '55', '56', '57', '58', '59', '60', '61', '62', '63', '64', '65', '66', '67', '68', '69', '70', '71', '72', '73', '74', '75', '76', '77', '78', '79', '80', '81', '82', '83', '84', '85', '85A', '85B', '86', '87', '88', '89', '90', '91', '92', '93', '94', '95', '96', '97', '98', '99', '100', '101', '102', '103', '104', '105', '106', '107', '108', '109', '110', '111', '112', '113', '114', '115', '116', '117', '118', '119', '120', '121', '122', '123', '124', '125', '126', '127', '128', '129', '130', '131', '132', '133', '134', '135', '136', '137', '138', '139', '140', '141', '142', '143', '144', '145', '146', '147', '148', '149']\n"
     ]
    }
   ],
   "source": [
    "print(list(fac_L_df.columns))"
   ]
  },
  {
   "cell_type": "markdown",
   "id": "80a3d278-19cc-4a98-8829-08c1cf32f566",
   "metadata": {},
   "source": [
    "**3. Transform merged aligned FASTA dataframe:**"
   ]
  },
  {
   "cell_type": "markdown",
   "id": "c1226f46-4585-49d7-ace9-5a8ceb1d701c",
   "metadata": {},
   "source": [
    "We would like to merge `L` and `H` aligned fasta dataframes so they contain ANARCI positions from both chains.\n",
    "This will be useful later on in ML experiments performed on all-chain-types data."
   ]
  },
  {
   "cell_type": "code",
   "execution_count": 135,
   "id": "2aa7c5bd-7a4e-41f8-8d83-a9ce3772b5ab",
   "metadata": {},
   "outputs": [],
   "source": [
    "def prefix_df_columns(prefix: str, df: pd.DataFrame) -> pd.DataFrame:\n",
    "    rename_dict = dict()\n",
    "    for c in df.columns:\n",
    "        rename_dict[c] = prefix + c\n",
    "    return df.rename(columns=rename_dict)"
   ]
  },
  {
   "cell_type": "code",
   "execution_count": 136,
   "id": "5e6dbc06-3d5b-47fd-a8fb-e63ff5acb390",
   "metadata": {},
   "outputs": [
    {
     "name": "stdout",
     "output_type": "stream",
     "text": [
      "fac_df.shape (1758, 317)\n"
     ]
    },
    {
     "data": {
      "text/html": [
       "<div>\n",
       "<style scoped>\n",
       "    .dataframe tbody tr th:only-of-type {\n",
       "        vertical-align: middle;\n",
       "    }\n",
       "\n",
       "    .dataframe tbody tr th {\n",
       "        vertical-align: top;\n",
       "    }\n",
       "\n",
       "    .dataframe thead th {\n",
       "        text-align: right;\n",
       "    }\n",
       "</style>\n",
       "<table border=\"1\" class=\"dataframe\">\n",
       "  <thead>\n",
       "    <tr style=\"text-align: right;\">\n",
       "      <th></th>\n",
       "      <th>h_1</th>\n",
       "      <th>h_2</th>\n",
       "      <th>h_3</th>\n",
       "      <th>h_4</th>\n",
       "      <th>h_5</th>\n",
       "      <th>h_6</th>\n",
       "      <th>h_7</th>\n",
       "      <th>h_8</th>\n",
       "      <th>h_9</th>\n",
       "      <th>h_10</th>\n",
       "      <th>...</th>\n",
       "      <th>l_140</th>\n",
       "      <th>l_141</th>\n",
       "      <th>l_142</th>\n",
       "      <th>l_143</th>\n",
       "      <th>l_144</th>\n",
       "      <th>l_145</th>\n",
       "      <th>l_146</th>\n",
       "      <th>l_147</th>\n",
       "      <th>l_148</th>\n",
       "      <th>l_149</th>\n",
       "    </tr>\n",
       "    <tr>\n",
       "      <th>Id</th>\n",
       "      <th></th>\n",
       "      <th></th>\n",
       "      <th></th>\n",
       "      <th></th>\n",
       "      <th></th>\n",
       "      <th></th>\n",
       "      <th></th>\n",
       "      <th></th>\n",
       "      <th></th>\n",
       "      <th></th>\n",
       "      <th></th>\n",
       "      <th></th>\n",
       "      <th></th>\n",
       "      <th></th>\n",
       "      <th></th>\n",
       "      <th></th>\n",
       "      <th></th>\n",
       "      <th></th>\n",
       "      <th></th>\n",
       "      <th></th>\n",
       "      <th></th>\n",
       "    </tr>\n",
       "  </thead>\n",
       "  <tbody>\n",
       "    <tr>\n",
       "      <th>7DF1:H</th>\n",
       "      <td>-</td>\n",
       "      <td>V</td>\n",
       "      <td>Q</td>\n",
       "      <td>L</td>\n",
       "      <td>V</td>\n",
       "      <td>Q</td>\n",
       "      <td>S</td>\n",
       "      <td>X</td>\n",
       "      <td>G</td>\n",
       "      <td>A</td>\n",
       "      <td>...</td>\n",
       "      <td>-</td>\n",
       "      <td>-</td>\n",
       "      <td>-</td>\n",
       "      <td>-</td>\n",
       "      <td>-</td>\n",
       "      <td>-</td>\n",
       "      <td>-</td>\n",
       "      <td>-</td>\n",
       "      <td>-</td>\n",
       "      <td>-</td>\n",
       "    </tr>\n",
       "  </tbody>\n",
       "</table>\n",
       "<p>1 rows × 317 columns</p>\n",
       "</div>"
      ],
      "text/plain": [
       "       h_1 h_2 h_3 h_4 h_5 h_6 h_7 h_8 h_9 h_10  ... l_140 l_141 l_142 l_143  \\\n",
       "Id                                               ...                           \n",
       "7DF1:H   -   V   Q   L   V   Q   S   X   G    A  ...     -     -     -     -   \n",
       "\n",
       "       l_144 l_145 l_146 l_147 l_148 l_149  \n",
       "Id                                          \n",
       "7DF1:H     -     -     -     -     -     -  \n",
       "\n",
       "[1 rows x 317 columns]"
      ]
     },
     "execution_count": 136,
     "metadata": {},
     "output_type": "execute_result"
    }
   ],
   "source": [
    "fasta_aligned_prefH_df = prefix_df_columns('h_', fac_H_df)\n",
    "fasta_aligned_prefL_df = prefix_df_columns('l_', fac_L_df)\n",
    "fac_df = pd.concat([fasta_aligned_prefH_df, fasta_aligned_prefL_df], axis=1).fillna('-').sort_index()\n",
    "print('fac_df.shape', fac_df.shape)\n",
    "fac_df.head(n=1)"
   ]
  },
  {
   "cell_type": "code",
   "execution_count": 137,
   "id": "ddd9d572-dbc9-485a-9471-a3900fefc615",
   "metadata": {},
   "outputs": [
    {
     "data": {
      "text/html": [
       "<div>\n",
       "<style scoped>\n",
       "    .dataframe tbody tr th:only-of-type {\n",
       "        vertical-align: middle;\n",
       "    }\n",
       "\n",
       "    .dataframe tbody tr th {\n",
       "        vertical-align: top;\n",
       "    }\n",
       "\n",
       "    .dataframe thead th {\n",
       "        text-align: right;\n",
       "    }\n",
       "</style>\n",
       "<table border=\"1\" class=\"dataframe\">\n",
       "  <thead>\n",
       "    <tr style=\"text-align: right;\">\n",
       "      <th></th>\n",
       "      <th>1</th>\n",
       "      <th>2</th>\n",
       "      <th>3</th>\n",
       "      <th>4</th>\n",
       "      <th>5</th>\n",
       "      <th>6</th>\n",
       "      <th>7</th>\n",
       "      <th>8</th>\n",
       "      <th>9</th>\n",
       "      <th>10</th>\n",
       "      <th>...</th>\n",
       "      <th>140</th>\n",
       "      <th>141</th>\n",
       "      <th>142</th>\n",
       "      <th>143</th>\n",
       "      <th>144</th>\n",
       "      <th>145</th>\n",
       "      <th>146</th>\n",
       "      <th>147</th>\n",
       "      <th>148</th>\n",
       "      <th>149</th>\n",
       "    </tr>\n",
       "    <tr>\n",
       "      <th>Id</th>\n",
       "      <th></th>\n",
       "      <th></th>\n",
       "      <th></th>\n",
       "      <th></th>\n",
       "      <th></th>\n",
       "      <th></th>\n",
       "      <th></th>\n",
       "      <th></th>\n",
       "      <th></th>\n",
       "      <th></th>\n",
       "      <th></th>\n",
       "      <th></th>\n",
       "      <th></th>\n",
       "      <th></th>\n",
       "      <th></th>\n",
       "      <th></th>\n",
       "      <th></th>\n",
       "      <th></th>\n",
       "      <th></th>\n",
       "      <th></th>\n",
       "      <th></th>\n",
       "    </tr>\n",
       "  </thead>\n",
       "  <tbody>\n",
       "    <tr>\n",
       "      <th>7DF1:L</th>\n",
       "      <td>D</td>\n",
       "      <td>I</td>\n",
       "      <td>V</td>\n",
       "      <td>M</td>\n",
       "      <td>T</td>\n",
       "      <td>Q</td>\n",
       "      <td>S</td>\n",
       "      <td>P</td>\n",
       "      <td>D</td>\n",
       "      <td>S</td>\n",
       "      <td>...</td>\n",
       "      <td>G</td>\n",
       "      <td>Q</td>\n",
       "      <td>G</td>\n",
       "      <td>T</td>\n",
       "      <td>R</td>\n",
       "      <td>L</td>\n",
       "      <td>E</td>\n",
       "      <td>I</td>\n",
       "      <td>-</td>\n",
       "      <td>-</td>\n",
       "    </tr>\n",
       "  </tbody>\n",
       "</table>\n",
       "<p>1 rows × 153 columns</p>\n",
       "</div>"
      ],
      "text/plain": [
       "        1  2  3  4  5  6  7  8  9 10  ... 140 141 142 143 144 145 146 147 148  \\\n",
       "Id                                    ...                                       \n",
       "7DF1:L  D  I  V  M  T  Q  S  P  D  S  ...   G   Q   G   T   R   L   E   I   -   \n",
       "\n",
       "       149  \n",
       "Id          \n",
       "7DF1:L   -  \n",
       "\n",
       "[1 rows x 153 columns]"
      ]
     },
     "execution_count": 137,
     "metadata": {},
     "output_type": "execute_result"
    }
   ],
   "source": [
    "fac_L_df.head(n=1)"
   ]
  },
  {
   "cell_type": "code",
   "execution_count": 138,
   "id": "c386c589-c1aa-490d-8a74-4656d51730a5",
   "metadata": {},
   "outputs": [
    {
     "data": {
      "text/html": [
       "<div>\n",
       "<style scoped>\n",
       "    .dataframe tbody tr th:only-of-type {\n",
       "        vertical-align: middle;\n",
       "    }\n",
       "\n",
       "    .dataframe tbody tr th {\n",
       "        vertical-align: top;\n",
       "    }\n",
       "\n",
       "    .dataframe thead th {\n",
       "        text-align: right;\n",
       "    }\n",
       "</style>\n",
       "<table border=\"1\" class=\"dataframe\">\n",
       "  <thead>\n",
       "    <tr style=\"text-align: right;\">\n",
       "      <th></th>\n",
       "      <th>1</th>\n",
       "      <th>2</th>\n",
       "      <th>3</th>\n",
       "      <th>4</th>\n",
       "      <th>5</th>\n",
       "      <th>6</th>\n",
       "      <th>7</th>\n",
       "      <th>8</th>\n",
       "      <th>9</th>\n",
       "      <th>10</th>\n",
       "      <th>...</th>\n",
       "      <th>140</th>\n",
       "      <th>141</th>\n",
       "      <th>142</th>\n",
       "      <th>143</th>\n",
       "      <th>144</th>\n",
       "      <th>145</th>\n",
       "      <th>146</th>\n",
       "      <th>147</th>\n",
       "      <th>148</th>\n",
       "      <th>149</th>\n",
       "    </tr>\n",
       "    <tr>\n",
       "      <th>Id</th>\n",
       "      <th></th>\n",
       "      <th></th>\n",
       "      <th></th>\n",
       "      <th></th>\n",
       "      <th></th>\n",
       "      <th></th>\n",
       "      <th></th>\n",
       "      <th></th>\n",
       "      <th></th>\n",
       "      <th></th>\n",
       "      <th></th>\n",
       "      <th></th>\n",
       "      <th></th>\n",
       "      <th></th>\n",
       "      <th></th>\n",
       "      <th></th>\n",
       "      <th></th>\n",
       "      <th></th>\n",
       "      <th></th>\n",
       "      <th></th>\n",
       "      <th></th>\n",
       "    </tr>\n",
       "  </thead>\n",
       "  <tbody>\n",
       "    <tr>\n",
       "      <th>7DF1:H</th>\n",
       "      <td>-</td>\n",
       "      <td>V</td>\n",
       "      <td>Q</td>\n",
       "      <td>L</td>\n",
       "      <td>V</td>\n",
       "      <td>Q</td>\n",
       "      <td>S</td>\n",
       "      <td>X</td>\n",
       "      <td>G</td>\n",
       "      <td>A</td>\n",
       "      <td>...</td>\n",
       "      <td>G</td>\n",
       "      <td>Q</td>\n",
       "      <td>G</td>\n",
       "      <td>T</td>\n",
       "      <td>M</td>\n",
       "      <td>V</td>\n",
       "      <td>T</td>\n",
       "      <td>V</td>\n",
       "      <td>S</td>\n",
       "      <td>-</td>\n",
       "    </tr>\n",
       "  </tbody>\n",
       "</table>\n",
       "<p>1 rows × 164 columns</p>\n",
       "</div>"
      ],
      "text/plain": [
       "        1  2  3  4  5  6  7  8  9 10  ... 140 141 142 143 144 145 146 147 148  \\\n",
       "Id                                    ...                                       \n",
       "7DF1:H  -  V  Q  L  V  Q  S  X  G  A  ...   G   Q   G   T   M   V   T   V   S   \n",
       "\n",
       "       149  \n",
       "Id          \n",
       "7DF1:H   -  \n",
       "\n",
       "[1 rows x 164 columns]"
      ]
     },
     "execution_count": 138,
     "metadata": {},
     "output_type": "execute_result"
    }
   ],
   "source": [
    "fac_H_df.head(n=1)"
   ]
  },
  {
   "cell_type": "markdown",
   "id": "9275db68-f085-4979-aa39-6572cfe71d86",
   "metadata": {},
   "source": [
    "**4. Store cleaned dataframes:**"
   ]
  },
  {
   "cell_type": "code",
   "execution_count": null,
   "id": "4067bfe8-d66f-4cb6-a648-98252c09b08d",
   "metadata": {},
   "outputs": [],
   "source": [
    "fac_df.to_csv(f'{FASTA_ALIGNED_CLEANED_DIR_PATH}/fasta_{p.FINAL_NUMBERING_SCHEME}_all.csv')"
   ]
  },
  {
   "cell_type": "code",
   "execution_count": 29,
   "id": "072fe66e-cb20-4bec-9aa7-fbc2dc5f6d43",
   "metadata": {},
   "outputs": [],
   "source": [
    "fac_L_df.to_csv(f'{FASTA_ALIGNED_CLEANED_DIR_PATH}/fasta_{p.FINAL_NUMBERING_SCHEME}_L.csv')\n",
    "fac_H_df.to_csv(f'{FASTA_ALIGNED_CLEANED_DIR_PATH}/fasta_{p.FINAL_NUMBERING_SCHEME}_H.csv')"
   ]
  },
  {
   "cell_type": "markdown",
   "id": "36632492-2d11-42d2-a86f-d50c02c77758",
   "metadata": {
    "tags": []
   },
   "source": [
    "## What chains have different SASA and FASTA length?"
   ]
  },
  {
   "cell_type": "markdown",
   "id": "5e7cfb7d-54c8-4b5f-9326-4d78abe40646",
   "metadata": {},
   "source": [
    "### Setup"
   ]
  },
  {
   "cell_type": "code",
   "execution_count": 140,
   "id": "733e91ed-9079-444c-b2ca-f2e13c0632cb",
   "metadata": {},
   "outputs": [],
   "source": [
    "def get_ulrs(fasta_df: pd.DataFrame, sasa_df: pd.DataFrame):\n",
    "    fasta_lengths = u.nondash_counts(fasta_df)\n",
    "    uneven_length_removals = collections.defaultdict(list)\n",
    "\n",
    "    for sasa_index, sasa_row in sasa_df.iterrows():\n",
    "        fasta_row = fasta_df.loc[sasa_index]    \n",
    "        sasa_len = sasa_row.count()\n",
    "        fasta_len = fasta_lengths[sasa_index]\n",
    "        len_diff = abs(sasa_len - fasta_len)\n",
    "\n",
    "        if len_diff > 0:\n",
    "            uneven_length_removals['index'].append(sasa_index)\n",
    "            uneven_length_removals['fasta_len'].append(fasta_len)\n",
    "            uneven_length_removals['sasa_len'].append(sasa_len)\n",
    "            uneven_length_removals['len_diff'].append(len_diff)   \n",
    "    \n",
    "    ulr_df = pd.DataFrame(uneven_length_removals)\n",
    "    return ulr_df\n",
    "\n",
    "def process_ulrs(fasta_df: pd.DataFrame, sasa_df: pd.DataFrame, fn_suffix: str, suffix: str = 'all'):\n",
    "    ulrs_df = get_ulrs(fasta_df, sasa_df)\n",
    "    filename = f'{UNEVEN_FASTA_SASA_LENGTHS_DIR_PATH}/ufsl_{fn_suffix}.csv'\n",
    "    print('saving ulrs to', filename)\n",
    "    ulrs_df.to_csv(filename)\n",
    "    ulrs_hist = ulrs_df['len_diff'].plot.hist()\n",
    "    u.annotate_plot(plot=ulrs_hist,\n",
    "        show_bar_values = True, bar_decimals = 0, \n",
    "        title=f'SASA vs. FASTA sequence length differences - {suffix}',\n",
    "        xlabel='abs(SASAlength - FASTAlength)',\n",
    "        ylabel='number of structures')\n",
    "    ulrs_hist.figure.savefig(FASTA_SASA_LENGTH_DIFFS_HISTOGRAM_PATH.replace('.png', f'_{suffix}.png'))\n",
    "    return ulrs_df"
   ]
  },
  {
   "cell_type": "markdown",
   "id": "e0bc63f7-2fb1-4f54-87f6-e7fd770f9a8c",
   "metadata": {},
   "source": [
    "### UnalignedFASTA vs unalignedSASA (both chains)"
   ]
  },
  {
   "cell_type": "code",
   "execution_count": 141,
   "id": "dace4d7d-59ca-4e95-9c01-7da4e69ba67b",
   "metadata": {},
   "outputs": [
    {
     "name": "stdout",
     "output_type": "stream",
     "text": [
      "saving ulrs to ../../data/csv/uneven_fasta_sasa_lengthsIB2July2024/ufsl_uu_all.csv\n"
     ]
    },
    {
     "data": {
      "image/png": "[encoded data removed]",
      "text/plain": [
       "<Figure size 1200x600 with 1 Axes>"
      ]
     },
     "metadata": {},
     "output_type": "display_data"
    }
   ],
   "source": [
    "una_vs_una_df = process_ulrs(fasta_unaligned_df, sasa_unaligned_df, 'uu_all', \n",
    "             'unalignedFASTA_vs_unalignedSASA_all_chains')"
   ]
  },
  {
   "cell_type": "code",
   "execution_count": 142,
   "id": "88be094b-712c-4be7-b0ed-47a9cccf9308",
   "metadata": {},
   "outputs": [
    {
     "name": "stdout",
     "output_type": "stream",
     "text": [
      "avg len diff UNALIGNED FASTA VS UNALIGNED SASA 45.015358361774744\n"
     ]
    }
   ],
   "source": [
    "print('avg len diff UNALIGNED FASTA VS UNALIGNED SASA', una_vs_una_df['len_diff'].mean())"
   ]
  },
  {
   "cell_type": "markdown",
   "id": "d4cc700b-9802-413a-8778-b817d21c5c88",
   "metadata": {},
   "source": [
    "**We see there are only 11 sequences that have non-zero difference, and all of those have the difference very small - not greater than 2 residues!**"
   ]
  },
  {
   "cell_type": "markdown",
   "id": "fbffd745-6c47-4c66-80bb-aa01527710d7",
   "metadata": {},
   "source": [
    "**Therefore, we will not discard any of the sequences because of non-match FASTA-SASA sequence length.**"
   ]
  },
  {
   "cell_type": "code",
   "execution_count": 143,
   "id": "2a88fd59-4095-4fd5-996c-2bd259020b12",
   "metadata": {},
   "outputs": [
    {
     "data": {
      "text/html": [
       "<div>\n",
       "<style scoped>\n",
       "    .dataframe tbody tr th:only-of-type {\n",
       "        vertical-align: middle;\n",
       "    }\n",
       "\n",
       "    .dataframe tbody tr th {\n",
       "        vertical-align: top;\n",
       "    }\n",
       "\n",
       "    .dataframe thead th {\n",
       "        text-align: right;\n",
       "    }\n",
       "</style>\n",
       "<table border=\"1\" class=\"dataframe\">\n",
       "  <thead>\n",
       "    <tr style=\"text-align: right;\">\n",
       "      <th></th>\n",
       "      <th>index</th>\n",
       "      <th>fasta_len</th>\n",
       "      <th>sasa_len</th>\n",
       "      <th>len_diff</th>\n",
       "    </tr>\n",
       "  </thead>\n",
       "  <tbody>\n",
       "    <tr>\n",
       "      <th>0</th>\n",
       "      <td>7DF1:H</td>\n",
       "      <td>147</td>\n",
       "      <td>110</td>\n",
       "      <td>37</td>\n",
       "    </tr>\n",
       "    <tr>\n",
       "      <th>1</th>\n",
       "      <td>7DF1:L</td>\n",
       "      <td>147</td>\n",
       "      <td>104</td>\n",
       "      <td>43</td>\n",
       "    </tr>\n",
       "    <tr>\n",
       "      <th>2</th>\n",
       "      <td>7E9O:H</td>\n",
       "      <td>149</td>\n",
       "      <td>111</td>\n",
       "      <td>38</td>\n",
       "    </tr>\n",
       "    <tr>\n",
       "      <th>3</th>\n",
       "      <td>7E9O:L</td>\n",
       "      <td>149</td>\n",
       "      <td>102</td>\n",
       "      <td>47</td>\n",
       "    </tr>\n",
       "    <tr>\n",
       "      <th>4</th>\n",
       "      <td>7FGJ:H</td>\n",
       "      <td>148</td>\n",
       "      <td>106</td>\n",
       "      <td>42</td>\n",
       "    </tr>\n",
       "    <tr>\n",
       "      <th>...</th>\n",
       "      <td>...</td>\n",
       "      <td>...</td>\n",
       "      <td>...</td>\n",
       "      <td>...</td>\n",
       "    </tr>\n",
       "    <tr>\n",
       "      <th>1753</th>\n",
       "      <td>8Y6I:L</td>\n",
       "      <td>149</td>\n",
       "      <td>103</td>\n",
       "      <td>46</td>\n",
       "    </tr>\n",
       "    <tr>\n",
       "      <th>1754</th>\n",
       "      <td>8YX1:H</td>\n",
       "      <td>148</td>\n",
       "      <td>106</td>\n",
       "      <td>42</td>\n",
       "    </tr>\n",
       "    <tr>\n",
       "      <th>1755</th>\n",
       "      <td>8YX1:L</td>\n",
       "      <td>149</td>\n",
       "      <td>98</td>\n",
       "      <td>51</td>\n",
       "    </tr>\n",
       "    <tr>\n",
       "      <th>1756</th>\n",
       "      <td>8YX9:H</td>\n",
       "      <td>149</td>\n",
       "      <td>99</td>\n",
       "      <td>50</td>\n",
       "    </tr>\n",
       "    <tr>\n",
       "      <th>1757</th>\n",
       "      <td>8YX9:L</td>\n",
       "      <td>149</td>\n",
       "      <td>104</td>\n",
       "      <td>45</td>\n",
       "    </tr>\n",
       "  </tbody>\n",
       "</table>\n",
       "<p>1758 rows × 4 columns</p>\n",
       "</div>"
      ],
      "text/plain": [
       "       index  fasta_len  sasa_len  len_diff\n",
       "0     7DF1:H        147       110        37\n",
       "1     7DF1:L        147       104        43\n",
       "2     7E9O:H        149       111        38\n",
       "3     7E9O:L        149       102        47\n",
       "4     7FGJ:H        148       106        42\n",
       "...      ...        ...       ...       ...\n",
       "1753  8Y6I:L        149       103        46\n",
       "1754  8YX1:H        148       106        42\n",
       "1755  8YX1:L        149        98        51\n",
       "1756  8YX9:H        149        99        50\n",
       "1757  8YX9:L        149       104        45\n",
       "\n",
       "[1758 rows x 4 columns]"
      ]
     },
     "execution_count": 143,
     "metadata": {},
     "output_type": "execute_result"
    }
   ],
   "source": [
    "uu_all_df = pd.read_csv(f'{UNEVEN_FASTA_SASA_LENGTHS_DIR_PATH}/ufsl_uu_all.csv', index_col=0)\n",
    "uu_all_df"
   ]
  },
  {
   "cell_type": "markdown",
   "id": "cf38f716-ba53-46bb-87de-8c1c1085b2b5",
   "metadata": {},
   "source": [
    "### AlignedFASTA vs unalignedSASA (LIGHT chain)"
   ]
  },
  {
   "cell_type": "code",
   "execution_count": 144,
   "id": "b0f28721-1e38-4542-afef-e8cc5afee702",
   "metadata": {
    "scrolled": true
   },
   "outputs": [
    {
     "name": "stdout",
     "output_type": "stream",
     "text": [
      "saving ulrs to ../../data/csv/uneven_fasta_sasa_lengthsIB2July2024/ufsl_au_L.csv\n"
     ]
    },
    {
     "data": {
      "image/png": "[encoded data removed]",
      "text/plain": [
       "<Figure size 1200x600 with 1 Axes>"
      ]
     },
     "metadata": {},
     "output_type": "display_data"
    }
   ],
   "source": [
    "ufsl_au_L_df = process_ulrs(fasta_aligned_L_df, u.select_only_chain_sequences(sasa_unaligned_df, 'L'), \n",
    "             'au_L', 'alignedFASTA_vs_unalignedSASA_L_chains')"
   ]
  },
  {
   "cell_type": "code",
   "execution_count": 145,
   "id": "6270236b-c3ca-44f9-93e5-79b61d4f8911",
   "metadata": {},
   "outputs": [
    {
     "name": "stdout",
     "output_type": "stream",
     "text": [
      "aligned FASTA vs unaligned SASA L chains len diff 56.70648464163823\n"
     ]
    }
   ],
   "source": [
    "print('aligned FASTA vs unaligned SASA L chains len diff', ufsl_au_L_df['len_diff'].mean())"
   ]
  },
  {
   "cell_type": "markdown",
   "id": "f018c580-56eb-4acf-85b0-75b1e2464f8c",
   "metadata": {},
   "source": [
    "### AlignedFASTA vs unalignedSASA (HEAVY chain)"
   ]
  },
  {
   "cell_type": "code",
   "execution_count": 146,
   "id": "c9b80f69-734c-480d-b69f-39d0d2dc5aed",
   "metadata": {
    "scrolled": true
   },
   "outputs": [
    {
     "name": "stdout",
     "output_type": "stream",
     "text": [
      "saving ulrs to ../../data/csv/uneven_fasta_sasa_lengthsIB2July2024/ufsl_au_H.csv\n"
     ]
    },
    {
     "data": {
      "image/png": "[encoded data removed]",
      "text/plain": [
       "<Figure size 1200x600 with 1 Axes>"
      ]
     },
     "metadata": {},
     "output_type": "display_data"
    }
   ],
   "source": [
    "df = process_ulrs(fasta_aligned_H_df, u.select_only_chain_sequences(sasa_unaligned_df, 'H'), \n",
    "                  'au_H', 'alignedFASTA_vs_unalignedSASA_H_chains')"
   ]
  },
  {
   "cell_type": "code",
   "execution_count": 147,
   "id": "fe47eb69-f8b8-4c0d-9b07-aa2d67b5e24e",
   "metadata": {},
   "outputs": [
    {
     "name": "stdout",
     "output_type": "stream",
     "text": [
      "aligned FASTA vs unaligned SASA H chains len diff 48.58361774744027\n"
     ]
    }
   ],
   "source": [
    "print('aligned FASTA vs unaligned SASA H chains len diff', df['len_diff'].mean())"
   ]
  },
  {
   "cell_type": "code",
   "execution_count": 148,
   "id": "f7f7d061-b0a2-460a-8208-08524f3fa798",
   "metadata": {},
   "outputs": [
    {
     "name": "stdout",
     "output_type": "stream",
     "text": [
      "over_hundred_df.shape (len_diff > 100) (0, 4)\n"
     ]
    }
   ],
   "source": [
    "over_hundred_df = df[ df['len_diff'] > 100]\n",
    "print('over_hundred_df.shape (len_diff > 100)', over_hundred_df.shape)"
   ]
  },
  {
   "cell_type": "code",
   "execution_count": 149,
   "id": "ed45a5af-c530-4e6f-a261-38e9a896c316",
   "metadata": {},
   "outputs": [
    {
     "data": {
      "text/html": [
       "<div>\n",
       "<style scoped>\n",
       "    .dataframe tbody tr th:only-of-type {\n",
       "        vertical-align: middle;\n",
       "    }\n",
       "\n",
       "    .dataframe tbody tr th {\n",
       "        vertical-align: top;\n",
       "    }\n",
       "\n",
       "    .dataframe thead th {\n",
       "        text-align: right;\n",
       "    }\n",
       "</style>\n",
       "<table border=\"1\" class=\"dataframe\">\n",
       "  <thead>\n",
       "    <tr style=\"text-align: right;\">\n",
       "      <th></th>\n",
       "      <th>index</th>\n",
       "      <th>fasta_len</th>\n",
       "      <th>sasa_len</th>\n",
       "      <th>len_diff</th>\n",
       "    </tr>\n",
       "  </thead>\n",
       "  <tbody>\n",
       "  </tbody>\n",
       "</table>\n",
       "</div>"
      ],
      "text/plain": [
       "Empty DataFrame\n",
       "Columns: [index, fasta_len, sasa_len, len_diff]\n",
       "Index: []"
      ]
     },
     "execution_count": 149,
     "metadata": {},
     "output_type": "execute_result"
    }
   ],
   "source": [
    "over_hundred_df"
   ]
  },
  {
   "cell_type": "code",
   "execution_count": null,
   "id": "0da6267e-53a6-4ee4-8c72-4d36d6a7c585",
   "metadata": {},
   "outputs": [],
   "source": []
  }
 ],
 "metadata": {
  "kernelspec": {
   "display_name": "Python 3 (ipykernel)",
   "language": "python",
   "name": "python3"
  },
  "language_info": {
   "codemirror_mode": {
    "name": "ipython",
    "version": 3
   },
   "file_extension": ".py",
   "mimetype": "text/x-python",
   "name": "python",
   "nbconvert_exporter": "python",
   "pygments_lexer": "ipython3",
   "version": "3.10.14"
  }
 },
 "nbformat": 4,
 "nbformat_minor": 5
}
