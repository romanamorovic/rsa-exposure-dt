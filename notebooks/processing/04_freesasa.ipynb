{
 "cells": [
  {
   "cell_type": "markdown",
   "id": "b7ce4a64-7842-4349-add8-f9eebe006534",
   "metadata": {},
   "source": [
    "# 4. Generate Relative SASA (RSA) data"
   ]
  },
  {
   "cell_type": "markdown",
   "id": "fb17efc8-8253-4396-9dcb-ebe1f127d4c1",
   "metadata": {},
   "source": [
    "Generate SASA sequences for chains contained in PDB files."
   ]
  },
  {
   "cell_type": "markdown",
   "id": "40272210-e0fe-47ca-9b08-89b431fbbaed",
   "metadata": {},
   "source": [
    "For this, we will use `freesasa` tool (https://freesasa.github.io)"
   ]
  },
  {
   "cell_type": "markdown",
   "id": "73c01783-1c41-4c91-ae3e-699c848add16",
   "metadata": {},
   "source": [
    "If you wish to start generating SASA sequences anew, make sure you delete `data/csv/freesasa_status.csv` file first (given it exists)."
   ]
  },
  {
   "cell_type": "markdown",
   "id": "90d34cc4-9efc-4332-b0c6-394d9689fba5",
   "metadata": {},
   "source": [
    "---"
   ]
  },
  {
   "cell_type": "markdown",
   "id": "6b3abb56-5312-43e8-9ace-1fb7674c4718",
   "metadata": {},
   "source": [
    "## Installing FreeSASA"
   ]
  },
  {
   "cell_type": "code",
   "execution_count": 12,
   "id": "080419a3-74e2-4b17-9949-6c6f37d779e6",
   "metadata": {},
   "outputs": [],
   "source": [
    "import sys; sys.path.append('../..')\n",
    "import bin.params as p"
   ]
  },
  {
   "cell_type": "markdown",
   "id": "e5ed8d12-dc17-4a0a-b2ee-580ca38da93e",
   "metadata": {},
   "source": [
    "Altough the Python `freesasa` module is out there, it does not provide residue-depth freesasa values, which we need. "
   ]
  },
  {
   "cell_type": "markdown",
   "id": "e671f9f5-5196-426f-98c5-7b4bf9f6f6ad",
   "metadata": {},
   "source": [
    "Therefore we will install the package and use the tool it from `bash`."
   ]
  },
  {
   "cell_type": "markdown",
   "id": "cd1a7432-e9f6-499c-9ec7-3d6a8d6719be",
   "metadata": {},
   "source": [
    "**Note**: check the freesasa.github.io, there may be newer version of freesasa available and the current one may give error 404."
   ]
  },
  {
   "cell_type": "code",
   "execution_count": null,
   "id": "68a6ca8e-bf26-48f6-b29f-3a6786585c95",
   "metadata": {},
   "outputs": [],
   "source": [
    "command = f\"\"\"\n",
    "echo 'Installing prerequisite: JSON-C ...'\n",
    "brew install json-c\n",
    "\n",
    "echo 'Downloading freesasa ...'\n",
    "cd {p.BIN_DIR}\n",
    "wget https://freesasa.github.io/freesasa-2.1.1.zip\n",
    "\n",
    "echo 'Unzipping ...'\n",
    "unzip -qq freesasa-2.1.1.zip\n",
    "\n",
    "echo 'Installing ...'\n",
    "cd freesasa-2.1.1\n",
    "./configure \n",
    "make \n",
    "make install\n",
    "\"\"\"\n",
    "print(command)"
   ]
  },
  {
   "cell_type": "markdown",
   "id": "ddf5e433-88b3-434f-9664-b782c3a0dc8a",
   "metadata": {},
   "source": [
    "---"
   ]
  },
  {
   "cell_type": "markdown",
   "id": "d9462ddc-c8ea-4c14-969d-53db38c50360",
   "metadata": {
    "tags": []
   },
   "source": [
    "## Setup"
   ]
  },
  {
   "cell_type": "code",
   "execution_count": 61,
   "id": "2c76a349-8f8d-473d-a5e4-e3c465523eac",
   "metadata": {},
   "outputs": [],
   "source": [
    "import collections\n",
    "import os\n",
    "import pickle\n",
    "import re\n",
    "import subprocess\n",
    "import sys; sys.path.append('../..')\n",
    "import time\n",
    "\n",
    "import numpy as np\n",
    "import pandas as pd\n",
    "from Bio.Data.IUPACData import protein_letters_3to1\n",
    "from tqdm.notebook import tqdm\n",
    "\n",
    "import bin.params as p\n",
    "import bin.utils as u"
   ]
  },
  {
   "cell_type": "code",
   "execution_count": 53,
   "id": "ed409537-db7d-41a5-ab6e-06073ec4684b",
   "metadata": {},
   "outputs": [
    {
     "data": {
      "text/plain": [
       "('../../data/csv/fasta_unalignedIB2July2024/fasta_all.csv',\n",
       " '../../data/csv/freesasa_statusIBJuly2024.csv',\n",
       " '../../data/csv/sasa_relative_unalignedIB2July2024',\n",
       " '../../data/pdb/immunobuilderJuly2024_aho',\n",
       " '../../data/csv/fasta_alignedIB2July2024',\n",
       " '../../data/csv/sasa_alignedIB2July2024')"
      ]
     },
     "execution_count": 53,
     "metadata": {},
     "output_type": "execute_result"
    }
   ],
   "source": [
    "# old\n",
    "FASTA_UNALIGNED_CSV_PATH = f'{p.DATA_DIR}/csv/fasta_unaligned/fasta_all.csv'\n",
    "FREESASA_STATUS_PATH = f'{p.DATA_DIR}/csv/freesasa_status.csv'\n",
    "SASA_RELATIVE_UNALIGNED_DIR = f'{p.DATA_DIR}/csv/sasa_relative_unaligned'\n",
    "CLEANED_PDB_DIR = f'{p.DATA_DIR}/pdb/incremental' \n",
    "\n",
    "# july2024\n",
    "CLEANED_PDB_DIR = f'{p.DATA_DIR}/pdb/incrementalJuly2024'\n",
    "SASA_RELATIVE_UNALIGNED_DIR = f'{p.DATA_DIR}/csv/sasa_relative_unalignedJuly2024'\n",
    "FREESASA_STATUS_PATH = f'{p.DATA_DIR}/csv/freesasa_statusJuly2024.csv'\n",
    "FASTA_UNALIGNED_CSV_PATH = f'{p.DATA_DIR}/csv/fasta_unalignedJuly2024/fasta_all.csv'\n",
    "\n",
    "# IB3 july2024\n",
    "FASTA_UNALIGNED_CSV_PATH = f'{p.DATA_DIR}/csv/fasta_unalignedIB3July2024/fasta_all.csv'\n",
    "FREESASA_STATUS_PATH = f'{p.DATA_DIR}/csv/freesasa_statusIB3July2024.csv'\n",
    "SASA_RELATIVE_UNALIGNED_DIR = f'{p.DATA_DIR}/csv/sasa_relative_unalignedIB3July2024'\n",
    "CLEANED_PDB_DIR = f'{p.DATA_DIR}/pdb/immunobuilder3July2024_raw'\n",
    "\n",
    "# FIXBUG\n",
    "FASTA_UNALIGNED_CSV_PATH = f'{p.DATA_DIR}/csv/fasta_unaligned_fixbug/fasta_all.csv'\n",
    "FREESASA_STATUS_PATH = f'{p.DATA_DIR}/csv/freesasa_status.csv'\n",
    "SASA_RELATIVE_UNALIGNED_DIR = f'{p.DATA_DIR}/csv/sasa_relative_unaligned'\n",
    "CLEANED_PDB_DIR = f'{p.DATA_DIR}/pdb/incremental' \n",
    "\n",
    "# IB 2 july2024\n",
    "FASTA_UNALIGNED_CSV_PATH = f'{p.DATA_DIR}/csv/fasta_unalignedIB2July2024/fasta_all.csv'\n",
    "FREESASA_STATUS_PATH = f'{p.DATA_DIR}/csv/freesasa_statusIBJuly2024.csv'\n",
    "SASA_RELATIVE_UNALIGNED_DIR = f'{p.DATA_DIR}/csv/sasa_relative_unalignedIB2July2024'\n",
    "CLEANED_PDB_DIR = f'{p.DATA_DIR}/pdb/immunobuilderJuly2024_{p.FINAL_NUMBERING_SCHEME}'\n",
    "FASTA_ALIGNED_DIR = f\"{p.DATA_DIR}/csv/fasta_alignedIB2July2024\" # used only if AHO PDB files were employed\n",
    "SASA_ALIGNED_DIR_PATH = f'{p.DATA_DIR}/csv/sasa_alignedIB2July2024' # used only if AHO PDB files were employed\n",
    "\n",
    "(FASTA_UNALIGNED_CSV_PATH, FREESASA_STATUS_PATH, SASA_RELATIVE_UNALIGNED_DIR, \n",
    " CLEANED_PDB_DIR, FASTA_ALIGNED_DIR, SASA_ALIGNED_DIR_PATH)"
   ]
  },
  {
   "cell_type": "code",
   "execution_count": 54,
   "id": "57e11998-5591-4b09-866a-6aff50ef9213",
   "metadata": {},
   "outputs": [
    {
     "name": "stdout",
     "output_type": "stream",
     "text": [
      "creating freesasa status anew ../../data/csv/freesasa_statusIBJuly2024.csv\n"
     ]
    }
   ],
   "source": [
    "if os.path.exists(FREESASA_STATUS_PATH):\n",
    "    freesasa_status_df = pd.read_csv(FREESASA_STATUS_PATH, index_col=0)\n",
    "    print('loading freesasa status from file', FREESASA_STATUS_PATH)\n",
    "else:\n",
    "    freesasa_status_df = pd.DataFrame(columns=['structure_code', 'status'])\n",
    "    print('creating freesasa status anew', FREESASA_STATUS_PATH)"
   ]
  },
  {
   "cell_type": "code",
   "execution_count": 55,
   "id": "91adb8ef-7e02-4658-bf6a-36392fb53e21",
   "metadata": {},
   "outputs": [
    {
     "name": "stdout",
     "output_type": "stream",
     "text": [
      "mkdir: ../../data/csv/fasta_unalignedIB2July2024/fasta_all.csv: File exists\n"
     ]
    }
   ],
   "source": [
    "command = f'mkdir -p {SASA_RELATIVE_UNALIGNED_DIR} {FASTA_UNALIGNED_CSV_PATH}'\n",
    "! $command"
   ]
  },
  {
   "cell_type": "code",
   "execution_count": 56,
   "id": "a20ec3c0-a343-471c-89cf-487485d63234",
   "metadata": {},
   "outputs": [
    {
     "name": "stdout",
     "output_type": "stream",
     "text": [
      "no sasa loaded yet\n"
     ]
    }
   ],
   "source": [
    "sasa_path = f'{SASA_RELATIVE_UNALIGNED_DIR}/sasa_all.csv'\n",
    "if os.path.exists(sasa_path):\n",
    "    old_sasa_df = pd.read_csv(sasa_path, index_col=0) \n",
    "    print('loading sasa from file:', sasa_path)\n",
    "else:\n",
    "    print('no sasa loaded yet')\n",
    "    old_sasa_df = None"
   ]
  },
  {
   "cell_type": "markdown",
   "id": "e333dda8-23ce-4ea7-a1d2-c2f7b0b7ee5e",
   "metadata": {},
   "source": [
    "----"
   ]
  },
  {
   "cell_type": "markdown",
   "id": "1616e423-9eed-4b06-95f0-01eaa79f42e8",
   "metadata": {
    "tags": []
   },
   "source": [
    "## Generate SASA "
   ]
  },
  {
   "cell_type": "markdown",
   "id": "fe179b72-6b6f-43e6-be2c-3d1b02a58aee",
   "metadata": {},
   "source": [
    "**Experimental: join the FASTAS of new test sequences with the old ones. Do the same for FASTA (to be removed)**"
   ]
  },
  {
   "cell_type": "code",
   "execution_count": 57,
   "id": "2b957bd2-379e-43d3-9565-0b33cb4d736c",
   "metadata": {},
   "outputs": [],
   "source": [
    "! mkdir -p ../../data/csv/fasta_unaligned_fixbug ../../data/csv/sasa_relative_unaligned_fixbug"
   ]
  },
  {
   "cell_type": "code",
   "execution_count": 53,
   "id": "e7ee668e-13a6-434b-8937-5bcb79cfa8f6",
   "metadata": {
    "scrolled": true
   },
   "outputs": [
    {
     "name": "stdout",
     "output_type": "stream",
     "text": [
      "fasta_unaligned_old_df.shape (6572, 444) fasta_unaligned_new_df.shape (1776, 595)\n",
      "len(common_sequences) 64 common sequences: ['7QU1:H', '7QU1:L', '7QU2:H', '7QU2:L', '7R40:H', '7R40:L', '7S5P:H', '7S5P:L', '7S5Q:H', '7S5Q:L', '7S5R:H', '7S5R:L', '7TE4:H', '7TE4:L', '7TLY:H', '7TLY:L', '7TN0:H', '7TN0:L', '7TOW:H', '7TOW:L', '7TP3:H', '7TP3:L', '7TP4:H', '7TP4:L', '7TQA:H', '7TQA:L', '7TTM:H', '7TTM:L', '7TTX:H', '7TTX:L', '7TUY:H', '7TUY:L', '7U2D:H', '7U2D:L', '7U2E:H', '7U2E:L', '7UAP:H', '7UAP:L', '7URQ:H', '7URQ:L', '7URS:H', '7URS:L', '7WKX:H', '7WKX:L', '7WLZ:H', '7WLZ:L', '7WPE:H', '7WPE:L', '7WPF:H', '7WPF:L', '7WPH:H', '7WPH:L', '7WPV:H', '7WPV:L', '7WRV:H', '7WRV:L', '7X08:H', '7X08:L', '7X9E:H', '7X9E:L', '7Z0X:H', '7Z0X:L', '7Z0Y:H', '7Z0Y:L']\n",
      "8284 1712 6572 64\n",
      "(4142, 595) (4142, 595)\n"
     ]
    }
   ],
   "source": [
    "# load old-test and the new test\n",
    "fasta_unaligned_old_df = pd.read_csv(f'{p.DATA_DIR}/csv/fasta_unaligned/fasta_all.csv', index_col=0)\n",
    "fasta_unaligned_new_df = pd.read_csv(f'{p.DATA_DIR}/csv/fasta_unalignedJuly2024/fasta_all.csv', index_col=0)\n",
    "print('fasta_unaligned_old_df.shape', fasta_unaligned_old_df.shape, 'fasta_unaligned_new_df.shape', fasta_unaligned_new_df.shape)\n",
    "\n",
    "# find common sequences\n",
    "common_sequences = list(fasta_unaligned_old_df.index.intersection(fasta_unaligned_new_df.index))\n",
    "print('len(common_sequences)', len(common_sequences), 'common sequences:', common_sequences)\n",
    "\n",
    "#common_old_df, common_new_df = fasta_unaligned_old_df.loc[common_sequences], fasta_unaligned_new_df.loc[common_sequences]\n",
    "# common_old_df.equals(common_new_df) -> False\n",
    "#c_old, c_new = u.nondash_counts_columns(common_old_df), u.nondash_counts_columns(common_new_df)\n",
    "#(c_old-c_new).describe()\n",
    "#for k, v in c_old.items():\n",
    "#    print(k, v)\n",
    "\n",
    "# remove common sequences from fasta_unaligned\n",
    "fasta_unaligned_new_df_duprems = fasta_unaligned_new_df.drop(index=common_sequences)\n",
    "# join the old and new. The common (duplicate) sequences were removed and the one copy of them remains there\n",
    "fasta_unaligned_fixbug_df = pd.concat([fasta_unaligned_new_df_duprems, fasta_unaligned_old_df], axis=0).sort_index().replace(np.nan, '-')\n",
    "assert len(fasta_unaligned_fixbug_df.columns) == max(len(fasta_unaligned_old_df.columns), len(fasta_unaligned_new_df_duprems.columns))\n",
    "print(fasta_unaligned_fixbug_df.shape[0], fasta_unaligned_new_df_duprems.shape[0], fasta_unaligned_old_df.shape[0], len(common_sequences))\n",
    "assert fasta_unaligned_fixbug_df.shape[0] == (fasta_unaligned_new_df.shape[0] + fasta_unaligned_old_df.shape[0] - len(common_sequences))\n",
    "\n",
    "fasta_unaligned_fixbug_df.to_csv(f'{p.DATA_DIR}/csv/fasta_unaligned_fixbug/fasta_all.csv')\n",
    "fasta_unaligned_fixbug_L_df = u.select_only_chain_sequences(fasta_unaligned_fixbug_df, 'L')\n",
    "fasta_unaligned_fixbug_L_df.to_csv(f'{p.DATA_DIR}/csv/fasta_unaligned_fixbug/fasta_L.csv')\n",
    "fasta_unaligned_fixbug_H_df = u.select_only_chain_sequences(fasta_unaligned_fixbug_df, 'H')\n",
    "fasta_unaligned_fixbug_H_df.to_csv(f'{p.DATA_DIR}/csv/fasta_unaligned_fixbug/fasta_H.csv')\n",
    "\n",
    "assert (fasta_unaligned_fixbug_L_df.shape[0] + fasta_unaligned_fixbug_H_df.shape[0]) == fasta_unaligned_fixbug_df.shape[0]\n",
    "print(fasta_unaligned_fixbug_L_df.shape, fasta_unaligned_fixbug_H_df.shape)"
   ]
  },
  {
   "cell_type": "code",
   "execution_count": 59,
   "id": "678d9f75-77b7-497f-92d0-fedb652c6220",
   "metadata": {},
   "outputs": [
    {
     "name": "stdout",
     "output_type": "stream",
     "text": [
      "len(common_sequences) 64 common sequences: ['7QU1:H', '7QU1:L', '7QU2:H', '7QU2:L', '7R40:H', '7R40:L', '7S5P:H', '7S5P:L', '7S5Q:H', '7S5Q:L', '7S5R:H', '7S5R:L', '7TE4:H', '7TE4:L', '7TLY:H', '7TLY:L', '7TN0:H', '7TN0:L', '7TOW:H', '7TOW:L', '7TP3:H', '7TP3:L', '7TP4:H', '7TP4:L', '7TQA:H', '7TQA:L', '7TTM:H', '7TTM:L', '7TTX:H', '7TTX:L', '7TUY:H', '7TUY:L', '7U2D:H', '7U2D:L', '7U2E:H', '7U2E:L', '7UAP:H', '7UAP:L', '7URQ:H', '7URQ:L', '7URS:H', '7URS:L', '7WKX:H', '7WKX:L', '7WLZ:H', '7WLZ:L', '7WPE:H', '7WPE:L', '7WPF:H', '7WPF:L', '7WPH:H', '7WPH:L', '7WPV:H', '7WPV:L', '7WRV:H', '7WRV:L', '7X08:H', '7X08:L', '7X9E:H', '7X9E:L', '7Z0X:H', '7Z0X:L', '7Z0Y:H', '7Z0Y:L']\n",
      "8284 1712 6572 64\n",
      "(4142, 595) (4142, 595)\n"
     ]
    }
   ],
   "source": [
    "sasa_unaligned_old_df = pd.read_csv(f'{p.DATA_DIR}/csv/sasa_relative_unaligned/sasa_all.csv', index_col=0)\n",
    "sasa_unaligned_new_df = pd.read_csv(f'{p.DATA_DIR}/csv/sasa_relative_unalignedJuly2024/sasa_all.csv', index_col=0)\n",
    "\n",
    "common_sequences = list(sasa_unaligned_old_df.index.intersection(sasa_unaligned_new_df.index))\n",
    "print('len(common_sequences)', len(common_sequences), 'common sequences:', common_sequences)\n",
    "\n",
    "sasa_unaligned_new_df_duprems = sasa_unaligned_new_df.drop(index=common_sequences)\n",
    "sasa_unaligned_fixbug_df = pd.concat([sasa_unaligned_new_df_duprems, sasa_unaligned_old_df], axis=0).sort_index()\n",
    "\n",
    "assert len(sasa_unaligned_fixbug_df.columns) == max(len(sasa_unaligned_old_df.columns), len(sasa_unaligned_new_df_duprems.columns))\n",
    "print(sasa_unaligned_fixbug_df.shape[0], sasa_unaligned_new_df_duprems.shape[0], sasa_unaligned_old_df.shape[0], len(common_sequences))\n",
    "assert sasa_unaligned_fixbug_df.shape[0] == (sasa_unaligned_new_df.shape[0] + sasa_unaligned_old_df.shape[0] - len(common_sequences))\n",
    "\n",
    "sasa_unaligned_fixbug_df.to_csv(f'{p.DATA_DIR}/csv/sasa_relative_unaligned_fixbug/sasa_all.csv')\n",
    "sasa_unaligned_fixbug_L_df = u.select_only_chain_sequences(sasa_unaligned_fixbug_df, 'L')\n",
    "sasa_unaligned_fixbug_L_df.to_csv(f'{p.DATA_DIR}/csv/sasa_relative_unaligned_fixbug/sasa_L.csv')\n",
    "sasa_unaligned_fixbug_H_df = u.select_only_chain_sequences(sasa_unaligned_fixbug_df, 'H')\n",
    "sasa_unaligned_fixbug_H_df.to_csv(f'{p.DATA_DIR}/csv/sasa_relative_unaligned_fixbug/sasa_H.csv')\n",
    "\n",
    "assert (sasa_unaligned_fixbug_L_df.shape[0] + sasa_unaligned_fixbug_H_df.shape[0]) == sasa_unaligned_fixbug_df.shape[0]\n",
    "print(sasa_unaligned_fixbug_L_df.shape, sasa_unaligned_fixbug_H_df.shape)"
   ]
  },
  {
   "cell_type": "markdown",
   "id": "15c7d784-f332-4c1f-9b6c-94004a4349a7",
   "metadata": {},
   "source": [
    "----"
   ]
  },
  {
   "cell_type": "markdown",
   "id": "a6305ec2-2d14-4328-a092-d9361584b713",
   "metadata": {},
   "source": [
    "**Load the unaligned FASTA csv dataset:**"
   ]
  },
  {
   "cell_type": "code",
   "execution_count": 57,
   "id": "c013602a-79ab-48fd-be18-85450ab4631b",
   "metadata": {},
   "outputs": [
    {
     "name": "stdout",
     "output_type": "stream",
     "text": [
      "fasta unaligned path: ../../data/csv/fasta_unalignedIB2July2024/fasta_all.csv\n",
      "fasta_unaligned_df.shape (1758, 156)\n"
     ]
    },
    {
     "data": {
      "text/html": [
       "<div>\n",
       "<style scoped>\n",
       "    .dataframe tbody tr th:only-of-type {\n",
       "        vertical-align: middle;\n",
       "    }\n",
       "\n",
       "    .dataframe tbody tr th {\n",
       "        vertical-align: top;\n",
       "    }\n",
       "\n",
       "    .dataframe thead th {\n",
       "        text-align: right;\n",
       "    }\n",
       "</style>\n",
       "<table border=\"1\" class=\"dataframe\">\n",
       "  <thead>\n",
       "    <tr style=\"text-align: right;\">\n",
       "      <th></th>\n",
       "      <th>0</th>\n",
       "      <th>1</th>\n",
       "      <th>2</th>\n",
       "      <th>3</th>\n",
       "      <th>4</th>\n",
       "      <th>5</th>\n",
       "      <th>6</th>\n",
       "      <th>7</th>\n",
       "      <th>8</th>\n",
       "      <th>9</th>\n",
       "      <th>...</th>\n",
       "      <th>146</th>\n",
       "      <th>147</th>\n",
       "      <th>148</th>\n",
       "      <th>149</th>\n",
       "      <th>150</th>\n",
       "      <th>151</th>\n",
       "      <th>152</th>\n",
       "      <th>153</th>\n",
       "      <th>154</th>\n",
       "      <th>155</th>\n",
       "    </tr>\n",
       "  </thead>\n",
       "  <tbody>\n",
       "    <tr>\n",
       "      <th>7DF1:H</th>\n",
       "      <td>V</td>\n",
       "      <td>Q</td>\n",
       "      <td>L</td>\n",
       "      <td>V</td>\n",
       "      <td>Q</td>\n",
       "      <td>S</td>\n",
       "      <td>X</td>\n",
       "      <td>G</td>\n",
       "      <td>A</td>\n",
       "      <td>E</td>\n",
       "      <td>...</td>\n",
       "      <td>S</td>\n",
       "      <td>-</td>\n",
       "      <td>-</td>\n",
       "      <td>-</td>\n",
       "      <td>-</td>\n",
       "      <td>-</td>\n",
       "      <td>-</td>\n",
       "      <td>-</td>\n",
       "      <td>-</td>\n",
       "      <td>-</td>\n",
       "    </tr>\n",
       "    <tr>\n",
       "      <th>7DF1:L</th>\n",
       "      <td>D</td>\n",
       "      <td>I</td>\n",
       "      <td>V</td>\n",
       "      <td>M</td>\n",
       "      <td>T</td>\n",
       "      <td>Q</td>\n",
       "      <td>S</td>\n",
       "      <td>P</td>\n",
       "      <td>D</td>\n",
       "      <td>S</td>\n",
       "      <td>...</td>\n",
       "      <td>I</td>\n",
       "      <td>-</td>\n",
       "      <td>-</td>\n",
       "      <td>-</td>\n",
       "      <td>-</td>\n",
       "      <td>-</td>\n",
       "      <td>-</td>\n",
       "      <td>-</td>\n",
       "      <td>-</td>\n",
       "      <td>-</td>\n",
       "    </tr>\n",
       "    <tr>\n",
       "      <th>7E9O:H</th>\n",
       "      <td>Q</td>\n",
       "      <td>V</td>\n",
       "      <td>Q</td>\n",
       "      <td>L</td>\n",
       "      <td>L</td>\n",
       "      <td>E</td>\n",
       "      <td>S</td>\n",
       "      <td>X</td>\n",
       "      <td>G</td>\n",
       "      <td>G</td>\n",
       "      <td>...</td>\n",
       "      <td>V</td>\n",
       "      <td>S</td>\n",
       "      <td>S</td>\n",
       "      <td>-</td>\n",
       "      <td>-</td>\n",
       "      <td>-</td>\n",
       "      <td>-</td>\n",
       "      <td>-</td>\n",
       "      <td>-</td>\n",
       "      <td>-</td>\n",
       "    </tr>\n",
       "    <tr>\n",
       "      <th>7E9O:L</th>\n",
       "      <td>D</td>\n",
       "      <td>I</td>\n",
       "      <td>V</td>\n",
       "      <td>M</td>\n",
       "      <td>T</td>\n",
       "      <td>Q</td>\n",
       "      <td>S</td>\n",
       "      <td>P</td>\n",
       "      <td>L</td>\n",
       "      <td>S</td>\n",
       "      <td>...</td>\n",
       "      <td>I</td>\n",
       "      <td>K</td>\n",
       "      <td>R</td>\n",
       "      <td>-</td>\n",
       "      <td>-</td>\n",
       "      <td>-</td>\n",
       "      <td>-</td>\n",
       "      <td>-</td>\n",
       "      <td>-</td>\n",
       "      <td>-</td>\n",
       "    </tr>\n",
       "    <tr>\n",
       "      <th>7FGJ:H</th>\n",
       "      <td>V</td>\n",
       "      <td>Q</td>\n",
       "      <td>L</td>\n",
       "      <td>Q</td>\n",
       "      <td>Q</td>\n",
       "      <td>S</td>\n",
       "      <td>X</td>\n",
       "      <td>G</td>\n",
       "      <td>A</td>\n",
       "      <td>A</td>\n",
       "      <td>...</td>\n",
       "      <td>S</td>\n",
       "      <td>S</td>\n",
       "      <td>-</td>\n",
       "      <td>-</td>\n",
       "      <td>-</td>\n",
       "      <td>-</td>\n",
       "      <td>-</td>\n",
       "      <td>-</td>\n",
       "      <td>-</td>\n",
       "      <td>-</td>\n",
       "    </tr>\n",
       "  </tbody>\n",
       "</table>\n",
       "<p>5 rows × 156 columns</p>\n",
       "</div>"
      ],
      "text/plain": [
       "       0   1   2   3   4   5   6   7   8   9    ... 146 147 148 149 150 151  \\\n",
       "7DF1:H   V   Q   L   V   Q   S   X   G   A   E  ...   S   -   -   -   -   -   \n",
       "7DF1:L   D   I   V   M   T   Q   S   P   D   S  ...   I   -   -   -   -   -   \n",
       "7E9O:H   Q   V   Q   L   L   E   S   X   G   G  ...   V   S   S   -   -   -   \n",
       "7E9O:L   D   I   V   M   T   Q   S   P   L   S  ...   I   K   R   -   -   -   \n",
       "7FGJ:H   V   Q   L   Q   Q   S   X   G   A   A  ...   S   S   -   -   -   -   \n",
       "\n",
       "       152 153 154 155  \n",
       "7DF1:H   -   -   -   -  \n",
       "7DF1:L   -   -   -   -  \n",
       "7E9O:H   -   -   -   -  \n",
       "7E9O:L   -   -   -   -  \n",
       "7FGJ:H   -   -   -   -  \n",
       "\n",
       "[5 rows x 156 columns]"
      ]
     },
     "execution_count": 57,
     "metadata": {},
     "output_type": "execute_result"
    }
   ],
   "source": [
    "fasta_unaligned_df = pd.read_csv(FASTA_UNALIGNED_CSV_PATH, index_col=0)\n",
    "print(f'fasta unaligned path: {FASTA_UNALIGNED_CSV_PATH}')\n",
    "\n",
    "fasta_unaligned_df.columns = [int(c) for c in fasta_unaligned_df.columns]\n",
    "print('fasta_unaligned_df.shape', fasta_unaligned_df.shape)\n",
    "fasta_unaligned_df.head()"
   ]
  },
  {
   "cell_type": "code",
   "execution_count": 58,
   "id": "e4db68ed-453c-49a7-af0c-2d0b0c291930",
   "metadata": {},
   "outputs": [],
   "source": [
    "def get_sasa(structure_code, output_lines):\n",
    "    matches = []\n",
    "    sasa_dict = collections.defaultdict(list)\n",
    "    for line in output_lines:\n",
    "        tokens = re.split(' +', line)\n",
    "        if tokens[0] != 'RES':\n",
    "            continue\n",
    "        chain = tokens[2]\n",
    "        chain_id = f\"{structure_code.upper()}:{chain}\"\n",
    "        total_side_rel_rsa = tokens[7] # 'Total-Side REL column'\n",
    "        sasa_dict[chain_id].append(total_side_rel_rsa)\n",
    "        matches.append(True)\n",
    "    return sasa_dict, matches\n",
    "\n",
    "# ---------------------------\n",
    "\n",
    "def get_sasa_aho(structure_code, output_lines):\n",
    "    matches = []\n",
    "    sasa_L_dict = collections.defaultdict(dict)\n",
    "    sasa_H_dict = collections.defaultdict(dict)\n",
    "    fasta_L_dict = collections.defaultdict(dict)\n",
    "    fasta_H_dict = collections.defaultdict(dict)\n",
    "    for line in output_lines:\n",
    "        tokens = re.split(' +', line)\n",
    "        if tokens[0] != 'RES':\n",
    "            continue\n",
    "            \n",
    "        aa = protein_letters_3to1[tokens[1].capitalize()]\n",
    "        chain = tokens[2]\n",
    "        chain_id = f\"{structure_code.upper()}:{chain}\"\n",
    "        position = tokens[3] \n",
    "        total_side_rel_rsa = tokens[7] # 'Total-Side REL column'\n",
    "        \n",
    "        if total_side_rel_rsa == 'N/A':\n",
    "            total_side_rel_rsa = np.nan\n",
    "            \n",
    "        if chain == 'L':\n",
    "            fasta_L_dict[chain_id][position] = aa\n",
    "            sasa_L_dict[chain_id][position] = total_side_rel_rsa\n",
    "        elif chain == 'H':\n",
    "            fasta_H_dict[chain_id][position] = aa\n",
    "            sasa_H_dict[chain_id][position] = total_side_rel_rsa\n",
    "        else:\n",
    "            raise ValueError('invalid chain type')\n",
    "        matches.append(True)\n",
    "    return sasa_L_dict, sasa_H_dict, fasta_L_dict, fasta_H_dict, matches"
   ]
  },
  {
   "cell_type": "code",
   "execution_count": null,
   "id": "7520440b-aef6-40b4-bc28-ba61d5053baf",
   "metadata": {},
   "outputs": [],
   "source": [
    "# freesasa 7df1.pdb --depth residue --format rsa"
   ]
  },
  {
   "cell_type": "code",
   "execution_count": null,
   "id": "b820d521-7ed0-4b2b-bf54-3dcf406949c8",
   "metadata": {},
   "outputs": [],
   "source": [
    "# ! cat ../../data/pdb/immunobuilderJuly2024_aho/8QH0.pdb"
   ]
  },
  {
   "cell_type": "code",
   "execution_count": null,
   "id": "628525f4-e337-4493-87e8-5592f011321c",
   "metadata": {},
   "outputs": [],
   "source": [
    "# INVESTIGATION ONLY \n",
    "# comparison of numbers of output lines in incremental folder PDBs vs IB predictions\n",
    "CLEANED_PDB_IB_DIR = f'{p.DATA_DIR}/pdb/immunobuilder2July2024_{p.FINAL_NUMBERING_SCHEME}'\n",
    "CLEANED_PDB_IB_DIR = f'{p.DATA_DIR}/pdb/immunobuilder3July2024_raw'\n",
    "\n",
    "CLEANED_PDB_CLASSIC_DIR = f'{p.DATA_DIR}/pdb/incrementalJuly2024'\n",
    "filenames = [fn for fn in os.listdir(CLEANED_PDB_IB_DIR) if fn.endswith('.pdb') and fn[:4] not in fidf.index]\n",
    "\n",
    "for filename in tqdm(filenames, desc='Computing SASA for PDB files..'):\n",
    "    structure_code = filename.split('.')[0] \n",
    "    #print(subprocess.check_output([\"ls\", \"../..\"]).decode(sys.stdout.encoding).split(os.linesep))\n",
    "    f_command_ib = ['freesasa', f\"{CLEANED_PDB_IB_DIR}/{structure_code.upper()}.pdb\", '--depth', 'residue', '--format', 'rsa']\n",
    "    print(' '.join(f_command_ib))\n",
    "    print(' '.join(f_command_classic))\n",
    "    f_command_classic = ['freesasa', f\"{CLEANED_PDB_CLASSIC_DIR}/{structure_code.upper()}.pdb\", '--depth', 'residue', '--format', 'rsa']\n",
    "    ib_output_lines_no = len(subprocess.check_output(f_command_ib).decode(sys.stdout.encoding).split(os.linesep))\n",
    "    classic_output_lines_no = len(subprocess.check_output(f_command_classic).decode(sys.stdout.encoding).split(os.linesep))\n",
    "    print('IB output lines', ib_output_lines_no, '| Classic output lines', classic_output_lines_no)\n",
    "    break\n",
    "    "
   ]
  },
  {
   "cell_type": "code",
   "execution_count": 62,
   "id": "a7598ae8-6b1c-4180-99b6-f68864dc4a85",
   "metadata": {},
   "outputs": [
    {
     "name": "stdout",
     "output_type": "stream",
     "text": [
      "input dir path: ../../data/pdb/immunobuilderJuly2024_aho\n"
     ]
    },
    {
     "data": {
      "application/vnd.jupyter.widget-view+json": {
       "model_id": "cfeb68933c0740f4ab0b780972192ae8",
       "version_major": 2,
       "version_minor": 0
      },
      "text/plain": [
       "Computing SASA for PDB files..:   0%|          | 0/879 [00:00<?, ?it/s]"
      ]
     },
     "metadata": {},
     "output_type": "display_data"
    }
   ],
   "source": [
    "new_status_data = collections.defaultdict(list)\n",
    "df_dict, sasa_dict = dict(), dict()\n",
    "df_sasa_L_dict, df_sasa_H_dict = dict(), dict() # used only on AHO PDBs, otherwise neskodne\n",
    "df_fasta_L_dict, df_fasta_H_dict = dict(), dict() # used only on AHO PDBs, otherwise neskodne\n",
    "\n",
    "fidf = freesasa_status_df.copy(); fidf.index = fidf['structure_code']\n",
    "filenames = [fn for fn in os.listdir(CLEANED_PDB_DIR) if fn.endswith('.pdb') and fn[:4] not in fidf.index]\n",
    "print('input dir path:',  CLEANED_PDB_DIR)\n",
    "\n",
    "for filename in tqdm(filenames, desc='Computing SASA for PDB files..'):\n",
    "    structure_code = filename.split('.')[0] \n",
    "    freesasa_command = ['freesasa', os.path.join(CLEANED_PDB_DIR, filename), \n",
    "                        '--depth', 'residue', \n",
    "                        '--format', 'rsa']    \n",
    "    try:\n",
    "        time_start = time.time()\n",
    "        output_bytes = subprocess.check_output(freesasa_command)\n",
    "        output_lines = output_bytes.decode(sys.stdout.encoding).split(os.linesep)\n",
    "        time_end = time.time()\n",
    "        time_diff = time_end - time_start\n",
    "        new_status_data['freesasa_time'] = time_diff\n",
    "        # print(\"\\n\".join(output_lines))\n",
    "        # sasa_dict, matches = get_sasa_aho(structure_code, output_lines); print(sasa_dict); break # todo remove this line later\n",
    "    except IOError:\n",
    "        print('problem', filename, ' '.join(freesasa_command))\n",
    "        new_status_data['structure_code'].append(structure_code); new_status_data['status'] = 'freesasa-error'\n",
    "        continue\n",
    "\n",
    "    light_sasa, heavy_sasa = [], []\n",
    "    fasta_L_dict, fasta_H_dict = dict(), dict()\n",
    "    if 'aho' in CLEANED_PDB_DIR:\n",
    "        sasa_L_dict, sasa_H_dict,fasta_L_dict, fasta_H_dict, matches = get_sasa_aho(structure_code, output_lines)\n",
    "    else:\n",
    "        sasa_dict, matches = get_sasa(structure_code, output_lines)\n",
    "\n",
    "    if not sasa_dict and not matches:\n",
    "        print(f'Structure {structure_code} is missing some chain in unaligned_fasta dataset')\n",
    "        new_status_data['structure_code'].append(structure_code); new_status_data['status'] = 'chain-missing'\n",
    "        continue\n",
    "\n",
    "    # report any mismatches between FASTA sequence and FREESASA-generated RSA aminoacid records\n",
    "    if matches.count(True) != len(matches):\n",
    "        print(f'{len(matches) - matches.count(True)} mismatches at {structure_code}')\n",
    "        new_status_data['structure_code'].append(structure_code); new_status_data['status'] = 'fasta-sasa-mismatch'\n",
    "        continue\n",
    "\n",
    "    # this is like df_dict += sasa_dict\n",
    "    # we want to add up all the small dicts to the big one \n",
    "    if 'aho' in CLEANED_PDB_DIR: \n",
    "        df_sasa_L_dict = {**df_sasa_L_dict, **sasa_L_dict}\n",
    "        df_sasa_H_dict = {**df_sasa_H_dict, **sasa_H_dict}\n",
    "        df_fasta_L_dict = {**df_fasta_L_dict, **fasta_L_dict}\n",
    "        df_fasta_H_dict = {**df_fasta_H_dict, **fasta_H_dict}\n",
    "    else:\n",
    "        df_dict = {**df_dict, **sasa_dict}\n",
    "\n",
    "    # save progress\n",
    "    new_status_data['structure_code'].append(structure_code); new_status_data['status'] = 'ok'"
   ]
  },
  {
   "cell_type": "markdown",
   "id": "08ef4f5c-4dcb-44d8-92fc-1756f6718286",
   "metadata": {},
   "source": [
    "**There are no mismatches between FASTA and FREESASA-generated aminoacid sequences, nor any other `freesasa` related problems.**"
   ]
  },
  {
   "cell_type": "markdown",
   "id": "c412b74b-dd66-4207-9431-52c7add2884f",
   "metadata": {},
   "source": [
    "**View summary and store the whole status dataframe to `.csv` file:**"
   ]
  },
  {
   "cell_type": "code",
   "execution_count": 64,
   "id": "393e2663-42ef-4247-95de-3237b598abc1",
   "metadata": {},
   "outputs": [
    {
     "name": "stdout",
     "output_type": "stream",
     "text": [
      "storing to: ../../data/csv/freesasa_statusIBJuly2024.csv\n",
      "ok    879\n",
      "Name: status, dtype: int64\n"
     ]
    },
    {
     "data": {
      "text/html": [
       "<div>\n",
       "<style scoped>\n",
       "    .dataframe tbody tr th:only-of-type {\n",
       "        vertical-align: middle;\n",
       "    }\n",
       "\n",
       "    .dataframe tbody tr th {\n",
       "        vertical-align: top;\n",
       "    }\n",
       "\n",
       "    .dataframe thead th {\n",
       "        text-align: right;\n",
       "    }\n",
       "</style>\n",
       "<table border=\"1\" class=\"dataframe\">\n",
       "  <thead>\n",
       "    <tr style=\"text-align: right;\">\n",
       "      <th></th>\n",
       "      <th>structure_code</th>\n",
       "      <th>status</th>\n",
       "      <th>freesasa_time</th>\n",
       "    </tr>\n",
       "  </thead>\n",
       "  <tbody>\n",
       "    <tr>\n",
       "      <th>0</th>\n",
       "      <td>8QH0</td>\n",
       "      <td>ok</td>\n",
       "      <td>0.035746</td>\n",
       "    </tr>\n",
       "  </tbody>\n",
       "</table>\n",
       "</div>"
      ],
      "text/plain": [
       "  structure_code status  freesasa_time\n",
       "0           8QH0     ok       0.035746"
      ]
     },
     "execution_count": 64,
     "metadata": {},
     "output_type": "execute_result"
    }
   ],
   "source": [
    "new_freesasa_status_df = pd.DataFrame(new_status_data)\n",
    "freesasa_status_df = pd.concat([freesasa_status_df, new_freesasa_status_df]).drop_duplicates()\n",
    "freesasa_status_df.index = np.arange(0, len(freesasa_status_df))\n",
    "print('storing to:', FREESASA_STATUS_PATH)\n",
    "freesasa_status_df.to_csv(FREESASA_STATUS_PATH)\n",
    "print(freesasa_status_df['status'].value_counts())\n",
    "freesasa_status_df.head(n=1)"
   ]
  },
  {
   "cell_type": "code",
   "execution_count": 66,
   "id": "dd4b6c78-924f-445f-95a8-794f64c38905",
   "metadata": {},
   "outputs": [
    {
     "data": {
      "text/plain": [
       "count    879.000000\n",
       "mean       0.035746\n",
       "std        0.000000\n",
       "min        0.035746\n",
       "25%        0.035746\n",
       "50%        0.035746\n",
       "75%        0.035746\n",
       "max        0.035746\n",
       "Name: freesasa_time, dtype: float64"
      ]
     },
     "execution_count": 66,
     "metadata": {},
     "output_type": "execute_result"
    }
   ],
   "source": [
    "freesasa_status_df['freesasa_time'].describe()"
   ]
  },
  {
   "cell_type": "markdown",
   "id": "9db4151a-2ea1-429c-b528-757f697f3bcd",
   "metadata": {},
   "source": [
    "----\n",
    "\n",
    "### IB-AHO comparison with our results"
   ]
  },
  {
   "cell_type": "code",
   "execution_count": 67,
   "id": "35eb5721-93e2-4a76-b10b-5f46e0faa510",
   "metadata": {},
   "outputs": [
    {
     "name": "stdout",
     "output_type": "stream",
     "text": [
      "saving to dir: ../../data/csv/fasta_alignedIB2July2024\n",
      "new_fasta_H_df (879, 154)         1  2  3  4  5  6  7  9 10 11  ... 36E 85A 85B 85C 85D 85E 85F 85G 63  \\\n",
      "7DF1:H  -  V  Q  L  V  Q  S  G  A  E  ...   -   -   -   -   -   -   -   -  -   \n",
      "7E9O:H  Q  V  Q  L  L  E  S  G  G  G  ...   -   -   -   -   -   -   -   -  -   \n",
      "7FGJ:H  -  V  Q  L  Q  Q  S  G  A  A  ...   -   -   -   -   -   -   -   -  -   \n",
      "7FGK:H  Q  V  Q  L  Q  Q  S  G  A  A  ...   -   -   -   -   -   -   -   -  -   \n",
      "7FGL:H  Q  V  Q  L  Q  Q  S  G  A  A  ...   -   -   -   -   -   -   -   -  -   \n",
      "...    .. .. .. .. .. .. .. .. .. ..  ...  ..  ..  ..  ..  ..  ..  ..  .. ..   \n",
      "8Y6A:H  Q  V  Q  L  V  Q  S  G  A  E  ...   -   -   -   -   -   -   -   -  -   \n",
      "8Y6H:H  E  V  Q  L  Q  E  S  G  P  E  ...   -   -   -   -   -   -   -   -  -   \n",
      "8Y6I:H  E  V  Q  L  Q  E  S  G  P  E  ...   -   -   -   -   -   -   -   -  -   \n",
      "8YX1:H  -  L  Q  L  Q  E  S  G  P  G  ...   -   -   -   -   -   -   -   -  -   \n",
      "8YX9:H  E  V  Q  L  V  E  S  G  G  G  ...   -   -   -   -   -   -   -   -  -   \n",
      "\n",
      "       63A  \n",
      "7DF1:H   -  \n",
      "7E9O:H   -  \n",
      "7FGJ:H   -  \n",
      "7FGK:H   -  \n",
      "7FGL:H   -  \n",
      "...     ..  \n",
      "8Y6A:H   -  \n",
      "8Y6H:H   -  \n",
      "8Y6I:H   -  \n",
      "8YX1:H   -  \n",
      "8YX9:H   -  \n",
      "\n",
      "[879 rows x 154 columns]\n",
      "new_fasta_L_df (879, 129)         2  3  4  5  6  7  8  9 10 11  ... 37 36 59 60 65 66 114 115 132 47A\n",
      "7DF1:L  I  V  M  T  Q  S  P  D  S  L  ...  N  N  -  -  -  -   -   -   -   -\n",
      "7E9O:L  I  V  M  T  Q  S  P  L  S  L  ...  G  -  -  -  -  -   -   -   -   -\n",
      "7FGJ:L  L  V  L  T  Q  S  -  S  S  A  ...  -  -  K  K  D  G   -   -   -   -\n",
      "7FGK:L  L  V  L  T  Q  S  -  S  S  A  ...  -  -  K  K  D  G   -   -   -   -\n",
      "7FGL:L  L  V  L  T  Q  S  -  S  S  A  ...  -  -  K  K  D  G   -   -   -   -\n",
      "...    .. .. .. .. .. .. .. .. .. ..  ... .. .. .. .. .. ..  ..  ..  ..  ..\n",
      "8Y6A:L  I  V  L  T  Q  S  P  G  T  L  ...  -  -  -  -  -  -   -   -   -   -\n",
      "8Y6H:L  V  V  M  T  Q  S  P  L  S  L  ...  G  -  -  -  -  -   -   -   -   -\n",
      "8Y6I:L  V  V  M  T  Q  S  P  L  S  L  ...  G  -  -  -  -  -   -   -   -   -\n",
      "8YX1:L  I  Q  L  T  Q  S  P  S  S  L  ...  -  -  -  -  -  -   -   -   -   -\n",
      "8YX9:L  I  Q  M  T  Q  S  P  S  S  L  ...  G  -  -  -  -  -   -   -   -   -\n",
      "\n",
      "[879 rows x 129 columns]\n",
      "saving to dir: ../../data/csv/sasa_alignedIB2July2024\n",
      "new_sasa_H_df (879, 154)             1     2     3    4     5    6     7    9    10    11  ...  36E  \\\n",
      "7DF1:H    NaN  47.3  78.8  0.0  72.2  0.0  27.0  NaN  73.9  32.4  ...  NaN   \n",
      "7E9O:H  108.6  43.1  67.9  0.0  66.9  0.0  68.3  NaN   NaN   NaN  ...  NaN   \n",
      "7FGJ:H    NaN  13.1  80.3  0.1  79.9  0.0  34.6  NaN  74.2  27.2  ...  NaN   \n",
      "7FGK:H   86.4  11.9  72.0  0.1  79.8  0.0  33.6  NaN  76.0  26.4  ...  NaN   \n",
      "7FGL:H   87.1  11.7  71.9  0.1  79.7  0.0  33.2  NaN  75.9  26.3  ...  NaN   \n",
      "...       ...   ...   ...  ...   ...  ...   ...  ...   ...   ...  ...  ...   \n",
      "8Y6A:H  111.4  23.0  75.4  0.1  65.2  0.0  31.8  NaN  65.4  36.2  ...  NaN   \n",
      "8Y6H:H   76.2  16.9  52.9  0.0  76.0  0.0  22.6  NaN  83.5  35.5  ...  NaN   \n",
      "8Y6I:H   74.9  16.4  57.9  0.0  76.6  0.0  29.0  NaN  85.0  25.2  ...  NaN   \n",
      "8YX1:H    NaN  17.0  81.3  1.1  60.3  0.0  64.2  NaN  37.4   NaN  ...  NaN   \n",
      "8YX9:H   75.5  13.7  59.0  0.0  76.8  1.0  67.7  NaN   NaN   NaN  ...  NaN   \n",
      "\n",
      "        85A  85B  85C  85D  85E  85F  85G   63  63A  \n",
      "7DF1:H  NaN  NaN  NaN  NaN  NaN  NaN  NaN  NaN  NaN  \n",
      "7E9O:H  NaN  NaN  NaN  NaN  NaN  NaN  NaN  NaN  NaN  \n",
      "7FGJ:H  NaN  NaN  NaN  NaN  NaN  NaN  NaN  NaN  NaN  \n",
      "7FGK:H  NaN  NaN  NaN  NaN  NaN  NaN  NaN  NaN  NaN  \n",
      "7FGL:H  NaN  NaN  NaN  NaN  NaN  NaN  NaN  NaN  NaN  \n",
      "...     ...  ...  ...  ...  ...  ...  ...  ...  ...  \n",
      "8Y6A:H  NaN  NaN  NaN  NaN  NaN  NaN  NaN  NaN  NaN  \n",
      "8Y6H:H  NaN  NaN  NaN  NaN  NaN  NaN  NaN  NaN  NaN  \n",
      "8Y6I:H  NaN  NaN  NaN  NaN  NaN  NaN  NaN  NaN  NaN  \n",
      "8YX1:H  NaN  NaN  NaN  NaN  NaN  NaN  NaN  NaN  NaN  \n",
      "8YX9:H  NaN  NaN  NaN  NaN  NaN  NaN  NaN  NaN  NaN  \n",
      "\n",
      "[879 rows x 154 columns]\n",
      "new_sasa_L_df (879, 129)           2     3    4     5    6     7     8      9    10    11  ...    37  \\\n",
      "7DF1:L  0.0  88.4  0.0  69.3  0.0  79.9  45.0   82.4  46.8  28.5  ...  84.8   \n",
      "7E9O:L  0.0  87.4  0.0  72.5  0.0  72.4  46.9   69.6  54.7  22.0  ...   NaN   \n",
      "7FGJ:L  1.5  64.0  0.0  74.3  0.6  58.1   NaN  104.8  80.8  16.5  ...   NaN   \n",
      "7FGK:L  1.8  63.0  0.0  77.6  0.5  59.3   NaN  104.6  83.8  16.8  ...   NaN   \n",
      "7FGL:L  1.7  63.0  0.0  76.2  0.7  63.0   NaN  106.6  79.4  15.8  ...   NaN   \n",
      "...     ...   ...  ...   ...  ...   ...   ...    ...   ...   ...  ...   ...   \n",
      "8Y6A:L  1.7  83.9  0.0  80.2  0.7  71.7  45.3    NaN  43.3  21.6  ...   NaN   \n",
      "8Y6H:L  1.0  81.6  0.0  78.7  0.0  63.3  45.1   84.1  50.7  20.6  ...   NaN   \n",
      "8Y6I:L  0.6  82.1  0.0  78.9  0.0  73.2  43.6   86.8  57.7  21.9  ...   NaN   \n",
      "8YX1:L  6.5  85.5  0.0  84.4  0.0  75.5  49.9   76.3  63.7  17.6  ...   NaN   \n",
      "8YX9:L  2.4  82.2  0.0  80.1  0.0  75.6  48.2   67.0  73.8  16.5  ...   NaN   \n",
      "\n",
      "          36    59    60    65   66  114 115  132  47A  \n",
      "7DF1:L  41.5   NaN   NaN   NaN  NaN  NaN NaN  NaN  NaN  \n",
      "7E9O:L   NaN   NaN   NaN   NaN  NaN  NaN NaN  NaN  NaN  \n",
      "7FGJ:L   NaN  44.5  64.3  55.3  NaN  NaN NaN  NaN  NaN  \n",
      "7FGK:L   NaN  29.5  65.5  53.0  NaN  NaN NaN  NaN  NaN  \n",
      "7FGL:L   NaN  29.8  66.3  52.0  NaN  NaN NaN  NaN  NaN  \n",
      "...      ...   ...   ...   ...  ...  ...  ..  ...  ...  \n",
      "8Y6A:L   NaN   NaN   NaN   NaN  NaN  NaN NaN  NaN  NaN  \n",
      "8Y6H:L   NaN   NaN   NaN   NaN  NaN  NaN NaN  NaN  NaN  \n",
      "8Y6I:L   NaN   NaN   NaN   NaN  NaN  NaN NaN  NaN  NaN  \n",
      "8YX1:L   NaN   NaN   NaN   NaN  NaN  NaN NaN  NaN  NaN  \n",
      "8YX9:L   NaN   NaN   NaN   NaN  NaN  NaN NaN  NaN  NaN  \n",
      "\n",
      "[879 rows x 129 columns]\n"
     ]
    }
   ],
   "source": [
    "if 'aho' in CLEANED_PDB_DIR and 'immunobuilder' in CLEANED_PDB_DIR:\n",
    "    # fasta\n",
    "    new_fasta_H_df = pd.DataFrame(list(df_fasta_H_dict.values()), index=list(df_fasta_H_dict.keys())).sort_index().replace(np.nan, '-')\n",
    "    new_fasta_L_df = pd.DataFrame(list(df_fasta_L_dict.values()), index=list(df_fasta_L_dict.keys())).sort_index().replace(np.nan, '-')\n",
    "    new_fasta_H_df.to_csv(f\"{FASTA_ALIGNED_DIR}/fasta_aho_H.csv\")\n",
    "    new_fasta_L_df.to_csv(f\"{FASTA_ALIGNED_DIR}/fasta_aho_L.csv\")\n",
    "    print('saving to dir:', FASTA_ALIGNED_DIR)\n",
    "    print('new_fasta_H_df', new_fasta_H_df.shape, new_fasta_H_df)\n",
    "    print('new_fasta_L_df', new_fasta_L_df.shape, new_fasta_L_df)\n",
    "    \n",
    "    # sasa\n",
    "    new_sasa_H_df = pd.DataFrame(list(df_sasa_H_dict.values()), index=list(df_sasa_H_dict.keys())).sort_index()\n",
    "    new_sasa_L_df = pd.DataFrame(list(df_sasa_L_dict.values()), index=list(df_sasa_L_dict.keys())).sort_index()\n",
    "    new_sasa_H_df.to_csv(f\"{SASA_ALIGNED_DIR_PATH}/sasa_H.csv\")\n",
    "    new_sasa_L_df.to_csv(f\"{SASA_ALIGNED_DIR_PATH}/sasa_L.csv\")\n",
    "    print('saving to dir:', SASA_ALIGNED_DIR_PATH)\n",
    "    print('new_sasa_H_df', new_sasa_H_df.shape, new_sasa_H_df)\n",
    "    print('new_sasa_L_df', new_sasa_L_df.shape, new_sasa_L_df)\n",
    "    # and now skip to results viz (TODO) copy the sasa to test results Y + do some transformations\n",
    "    # TODO veci z notebooku 5 atd"
   ]
  },
  {
   "cell_type": "code",
   "execution_count": 50,
   "id": "eadd6753-52cb-4965-9f88-a6c8eb0ed930",
   "metadata": {},
   "outputs": [
    {
     "name": "stdout",
     "output_type": "stream",
     "text": [
      "../../data/csv/fasta_alignedIB2July2024/fasta_aho_H.csv (879, 154) Index(['1', '2', '3', '4', '5', '6', '7', '9', '10', '11',\n",
      "       ...\n",
      "       '140', '141', '142', '143', '144', '145', '146', '147', '148', '149'],\n",
      "      dtype='object', length=154)\n",
      "-----------------------------\n",
      "\n",
      "../../data/csv/fasta_alignedIB2July2024/fasta_aho_L.csv (879, 129) Index(['1', '2', '3', '4', '5', '6', '7', '8', '9', '10',\n",
      "       ...\n",
      "       '140', '141', '142', '143', '144', '145', '146', '147', '148', '149'],\n",
      "      dtype='object', length=129)\n",
      "-----------------------------\n",
      "\n",
      "../../data/csv/sasa_alignedIB2July2024/sasa_H.csv (879, 154) Index(['1', '2', '3', '4', '5', '6', '7', '9', '10', '11',\n",
      "       ...\n",
      "       '140', '141', '142', '143', '144', '145', '146', '147', '148', '149'],\n",
      "      dtype='object', length=154)\n",
      "-----------------------------\n",
      "\n",
      "../../data/csv/sasa_alignedIB2July2024/sasa_L.csv (879, 129) Index(['1', '2', '3', '4', '5', '6', '7', '8', '9', '10',\n",
      "       ...\n",
      "       '140', '141', '142', '143', '144', '145', '146', '147', '148', '149'],\n",
      "      dtype='object', length=129)\n",
      "-----------------------------\n",
      "\n"
     ]
    }
   ],
   "source": [
    "def renumber_columns(df_path):\n",
    "    df = pd.read_csv(df_path, index_col=0)\n",
    "    df = u.sort_numbering_columns(df)\n",
    "    print(df_path, df.shape, df.columns)\n",
    "    print('-----------------------------')\n",
    "    print()\n",
    "    df.to_csv(df_path)\n",
    "    return df\n",
    "\n",
    "fasta_H_df = renumber_columns(f\"{FASTA_ALIGNED_DIR}/fasta_aho_H.csv\")\n",
    "fasta_L_df = renumber_columns(f\"{FASTA_ALIGNED_DIR}/fasta_aho_L.csv\")\n",
    "sasa_H_df = renumber_columns(f\"{SASA_ALIGNED_DIR_PATH}/sasa_H.csv\")\n",
    "sasa_L_df = renumber_columns(f\"{SASA_ALIGNED_DIR_PATH}/sasa_L.csv\")"
   ]
  },
  {
   "cell_type": "code",
   "execution_count": 51,
   "id": "71be46c4-ae14-4376-ab17-59ef6e72ade7",
   "metadata": {},
   "outputs": [
    {
     "name": "stdout",
     "output_type": "stream",
     "text": [
      "load_dataset: test_new_234, metadata file path: ../../data/csv/metadataJuly2024/metadata_H.csv, chains: H, shape: (888, 19)\n",
      "load_dataset: test_new_234, X file path: ../../data/csv/fasta_aligned_cleaned_dlJuly2024/fasta_aho_H.csv, chains: H, shape: (888, 165)\n",
      "load_dataset: test_new_234, Y file path: ../../data/csv/sasa_aligned_dlJuly2024/sasa_H.csv, chains: H, shape: (888, 165)\n",
      "sequences missing in sabdab data set()\n",
      "sequences missing in IB data {'7YAR:H', '7X08:H', '8HHY:H', '8VZO:H', '7UL3:H', '8DGV:H', '8G2M:H', '8SVE:H', '8IV0:H'}\n"
     ]
    }
   ],
   "source": [
    "fasta_test_new_234_H, sasa_test_new_234_H = u.load_dataset('test_new_234', chains='H')\n",
    "fasta_test_new_234_H.index = fasta_test_new_234_H['Id']\n",
    "fasta_test_new_234_H = fasta_test_new_234_H.drop(columns=['Id'])\n",
    "\n",
    "ib_seqs = set(fasta_H_df.index)\n",
    "classic_seqs = set(fasta_test_new_234_H.index)\n",
    "missing_in_classic, missing_in_ib = ib_seqs.difference(classic_seqs), classic_seqs.difference(ib_seqs)\n",
    "print('sequences missing in sabdab data', missing_in_classic)\n",
    "print('sequences missing in IB data', missing_in_ib)"
   ]
  },
  {
   "cell_type": "code",
   "execution_count": 5,
   "id": "23a9dad0-0108-4466-9b28-97c6e112ee1c",
   "metadata": {},
   "outputs": [
    {
     "data": {
      "text/html": [
       "<div>\n",
       "<style scoped>\n",
       "    .dataframe tbody tr th:only-of-type {\n",
       "        vertical-align: middle;\n",
       "    }\n",
       "\n",
       "    .dataframe tbody tr th {\n",
       "        vertical-align: top;\n",
       "    }\n",
       "\n",
       "    .dataframe thead th {\n",
       "        text-align: right;\n",
       "    }\n",
       "</style>\n",
       "<table border=\"1\" class=\"dataframe\">\n",
       "  <thead>\n",
       "    <tr style=\"text-align: right;\">\n",
       "      <th></th>\n",
       "      <th>1</th>\n",
       "      <th>2</th>\n",
       "      <th>3</th>\n",
       "      <th>4</th>\n",
       "      <th>5</th>\n",
       "      <th>6</th>\n",
       "      <th>7</th>\n",
       "      <th>8</th>\n",
       "      <th>9</th>\n",
       "      <th>10</th>\n",
       "      <th>...</th>\n",
       "      <th>141</th>\n",
       "      <th>142</th>\n",
       "      <th>143</th>\n",
       "      <th>143A</th>\n",
       "      <th>144</th>\n",
       "      <th>145</th>\n",
       "      <th>146</th>\n",
       "      <th>147</th>\n",
       "      <th>148</th>\n",
       "      <th>149</th>\n",
       "    </tr>\n",
       "    <tr>\n",
       "      <th>Id</th>\n",
       "      <th></th>\n",
       "      <th></th>\n",
       "      <th></th>\n",
       "      <th></th>\n",
       "      <th></th>\n",
       "      <th></th>\n",
       "      <th></th>\n",
       "      <th></th>\n",
       "      <th></th>\n",
       "      <th></th>\n",
       "      <th></th>\n",
       "      <th></th>\n",
       "      <th></th>\n",
       "      <th></th>\n",
       "      <th></th>\n",
       "      <th></th>\n",
       "      <th></th>\n",
       "      <th></th>\n",
       "      <th></th>\n",
       "      <th></th>\n",
       "      <th></th>\n",
       "    </tr>\n",
       "  </thead>\n",
       "  <tbody>\n",
       "    <tr>\n",
       "      <th>7DF1:H</th>\n",
       "      <td>-</td>\n",
       "      <td>V</td>\n",
       "      <td>Q</td>\n",
       "      <td>L</td>\n",
       "      <td>V</td>\n",
       "      <td>Q</td>\n",
       "      <td>S</td>\n",
       "      <td>-</td>\n",
       "      <td>G</td>\n",
       "      <td>A</td>\n",
       "      <td>...</td>\n",
       "      <td>Q</td>\n",
       "      <td>G</td>\n",
       "      <td>T</td>\n",
       "      <td>-</td>\n",
       "      <td>M</td>\n",
       "      <td>V</td>\n",
       "      <td>T</td>\n",
       "      <td>V</td>\n",
       "      <td>S</td>\n",
       "      <td>-</td>\n",
       "    </tr>\n",
       "  </tbody>\n",
       "</table>\n",
       "<p>1 rows × 164 columns</p>\n",
       "</div>"
      ],
      "text/plain": [
       "        1  2  3  4  5  6  7  8  9 10  ... 141 142 143 143A 144 145 146 147  \\\n",
       "Id                                    ...                                    \n",
       "7DF1:H  -  V  Q  L  V  Q  S  -  G  A  ...   Q   G   T    -   M   V   T   V   \n",
       "\n",
       "       148 149  \n",
       "Id              \n",
       "7DF1:H   S   -  \n",
       "\n",
       "[1 rows x 164 columns]"
      ]
     },
     "execution_count": 5,
     "metadata": {},
     "output_type": "execute_result"
    }
   ],
   "source": [
    "fasta_test_new_234_H.head(n=1)"
   ]
  },
  {
   "cell_type": "code",
   "execution_count": 6,
   "id": "96c33b17-d1ad-43e7-9c08-b41d8ce2295f",
   "metadata": {},
   "outputs": [
    {
     "name": "stdout",
     "output_type": "stream",
     "text": [
      "missing in classic columns {'36E', '36C', '36B', '36D', '36A'}\n",
      "missing in IB columns {'123', '123D', '120', '123C', '63B', '8', '122', '125', '123A', '124', '85H', '143A', '126', '121', '123B'}\n"
     ]
    }
   ],
   "source": [
    "ib_seqs_c = set(fasta_H_df.columns)\n",
    "classic_seqs_c = set(fasta_test_new_234_H.columns)\n",
    "missing_in_classic_c = ib_seqs_c.difference(classic_seqs_c)\n",
    "missing_in_ib_c = classic_seqs_c.difference(ib_seqs_c)\n",
    "print('missing in classic columns', missing_in_classic_c)\n",
    "print('missing in IB columns', missing_in_ib_c)"
   ]
  },
  {
   "cell_type": "code",
   "execution_count": 7,
   "id": "09ffefe0-4e0f-4ff8-af92-73101be3643a",
   "metadata": {},
   "outputs": [],
   "source": [
    "# add columns from CLASSIC to IB and make them empty\n",
    "add_columns = list(missing_in_ib_c)\n",
    "fasta_H_df[add_columns] = '-'\n",
    "sasa_H_df[add_columns] = np.nan\n",
    "\n",
    "# remove columns from IB that are not in CLASSIC\n",
    "fasta_H_df = fasta_H_df.drop(columns=missing_in_classic_c)\n",
    "sasa_H_df = sasa_H_df.drop(columns=missing_in_classic_c)"
   ]
  },
  {
   "cell_type": "code",
   "execution_count": 11,
   "id": "40381d35-39bc-4240-b0d1-e3c2d49f7f14",
   "metadata": {},
   "outputs": [],
   "source": [
    "fasta_H_df = u.sort_numbering_columns(fasta_H_df)\n",
    "sasa_H_df = u.sort_numbering_columns(sasa_H_df)\n",
    "assert list(sasa_H_df.columns) == list(fasta_H_df.columns)\n",
    "assert list(fasta_test_new_234_H.columns) == list(fasta_H_df.columns)"
   ]
  },
  {
   "cell_type": "code",
   "execution_count": 12,
   "id": "b2492fa0-0954-4a44-b5e6-6399bc393fa4",
   "metadata": {},
   "outputs": [
    {
     "data": {
      "text/html": [
       "<div>\n",
       "<style scoped>\n",
       "    .dataframe tbody tr th:only-of-type {\n",
       "        vertical-align: middle;\n",
       "    }\n",
       "\n",
       "    .dataframe tbody tr th {\n",
       "        vertical-align: top;\n",
       "    }\n",
       "\n",
       "    .dataframe thead th {\n",
       "        text-align: right;\n",
       "    }\n",
       "</style>\n",
       "<table border=\"1\" class=\"dataframe\">\n",
       "  <thead>\n",
       "    <tr style=\"text-align: right;\">\n",
       "      <th></th>\n",
       "      <th>1</th>\n",
       "      <th>2</th>\n",
       "      <th>3</th>\n",
       "      <th>4</th>\n",
       "      <th>5</th>\n",
       "      <th>6</th>\n",
       "      <th>7</th>\n",
       "      <th>8</th>\n",
       "      <th>9</th>\n",
       "      <th>10</th>\n",
       "      <th>...</th>\n",
       "      <th>141</th>\n",
       "      <th>142</th>\n",
       "      <th>143</th>\n",
       "      <th>143A</th>\n",
       "      <th>144</th>\n",
       "      <th>145</th>\n",
       "      <th>146</th>\n",
       "      <th>147</th>\n",
       "      <th>148</th>\n",
       "      <th>149</th>\n",
       "    </tr>\n",
       "  </thead>\n",
       "  <tbody>\n",
       "    <tr>\n",
       "      <th>7DF1:H</th>\n",
       "      <td>-</td>\n",
       "      <td>V</td>\n",
       "      <td>Q</td>\n",
       "      <td>L</td>\n",
       "      <td>V</td>\n",
       "      <td>Q</td>\n",
       "      <td>S</td>\n",
       "      <td>-</td>\n",
       "      <td>G</td>\n",
       "      <td>A</td>\n",
       "      <td>...</td>\n",
       "      <td>Q</td>\n",
       "      <td>G</td>\n",
       "      <td>T</td>\n",
       "      <td>-</td>\n",
       "      <td>M</td>\n",
       "      <td>V</td>\n",
       "      <td>T</td>\n",
       "      <td>V</td>\n",
       "      <td>S</td>\n",
       "      <td>-</td>\n",
       "    </tr>\n",
       "  </tbody>\n",
       "</table>\n",
       "<p>1 rows × 164 columns</p>\n",
       "</div>"
      ],
      "text/plain": [
       "        1  2  3  4  5  6  7  8  9 10  ... 141 142 143 143A 144 145 146 147  \\\n",
       "7DF1:H  -  V  Q  L  V  Q  S  -  G  A  ...   Q   G   T    -   M   V   T   V   \n",
       "\n",
       "       148 149  \n",
       "7DF1:H   S   -  \n",
       "\n",
       "[1 rows x 164 columns]"
      ]
     },
     "execution_count": 12,
     "metadata": {},
     "output_type": "execute_result"
    }
   ],
   "source": [
    "fasta_H_df.head(n=1)"
   ]
  },
  {
   "cell_type": "code",
   "execution_count": 13,
   "id": "290bd653-9773-416e-8b2f-dd2177c08a43",
   "metadata": {},
   "outputs": [
    {
     "data": {
      "text/html": [
       "<div>\n",
       "<style scoped>\n",
       "    .dataframe tbody tr th:only-of-type {\n",
       "        vertical-align: middle;\n",
       "    }\n",
       "\n",
       "    .dataframe tbody tr th {\n",
       "        vertical-align: top;\n",
       "    }\n",
       "\n",
       "    .dataframe thead th {\n",
       "        text-align: right;\n",
       "    }\n",
       "</style>\n",
       "<table border=\"1\" class=\"dataframe\">\n",
       "  <thead>\n",
       "    <tr style=\"text-align: right;\">\n",
       "      <th></th>\n",
       "      <th>1</th>\n",
       "      <th>2</th>\n",
       "      <th>3</th>\n",
       "      <th>4</th>\n",
       "      <th>5</th>\n",
       "      <th>6</th>\n",
       "      <th>7</th>\n",
       "      <th>8</th>\n",
       "      <th>9</th>\n",
       "      <th>10</th>\n",
       "      <th>...</th>\n",
       "      <th>141</th>\n",
       "      <th>142</th>\n",
       "      <th>143</th>\n",
       "      <th>143A</th>\n",
       "      <th>144</th>\n",
       "      <th>145</th>\n",
       "      <th>146</th>\n",
       "      <th>147</th>\n",
       "      <th>148</th>\n",
       "      <th>149</th>\n",
       "    </tr>\n",
       "  </thead>\n",
       "  <tbody>\n",
       "    <tr>\n",
       "      <th>7DF1:H</th>\n",
       "      <td>NaN</td>\n",
       "      <td>47.3</td>\n",
       "      <td>78.8</td>\n",
       "      <td>0.0</td>\n",
       "      <td>72.2</td>\n",
       "      <td>0.0</td>\n",
       "      <td>27.0</td>\n",
       "      <td>NaN</td>\n",
       "      <td>NaN</td>\n",
       "      <td>73.9</td>\n",
       "      <td>...</td>\n",
       "      <td>54.3</td>\n",
       "      <td>NaN</td>\n",
       "      <td>0.0</td>\n",
       "      <td>NaN</td>\n",
       "      <td>41.7</td>\n",
       "      <td>0.0</td>\n",
       "      <td>50.1</td>\n",
       "      <td>0.0</td>\n",
       "      <td>83.8</td>\n",
       "      <td>NaN</td>\n",
       "    </tr>\n",
       "  </tbody>\n",
       "</table>\n",
       "<p>1 rows × 164 columns</p>\n",
       "</div>"
      ],
      "text/plain": [
       "         1     2     3    4     5    6     7   8   9    10  ...   141  142  \\\n",
       "7DF1:H NaN  47.3  78.8  0.0  72.2  0.0  27.0 NaN NaN  73.9  ...  54.3  NaN   \n",
       "\n",
       "        143  143A   144  145   146  147   148  149  \n",
       "7DF1:H  0.0   NaN  41.7  0.0  50.1  0.0  83.8  NaN  \n",
       "\n",
       "[1 rows x 164 columns]"
      ]
     },
     "execution_count": 13,
     "metadata": {},
     "output_type": "execute_result"
    }
   ],
   "source": [
    "sasa_H_df.head(n=1)"
   ]
  },
  {
   "cell_type": "code",
   "execution_count": 14,
   "id": "bc36b671-d535-4504-82eb-5c63353730ba",
   "metadata": {},
   "outputs": [],
   "source": [
    "TEST_PREDICTIONS_RAW_DIR_PATH = f'{p.DATA_DIR}/csv/test/raw_predictions'\n",
    "TEST_PREDICTIONS_DIR_PATH = f'{p.DATA_DIR}/csv/test/predictions'\n",
    "FEATURES = 'whole_sequence_all_H'\n",
    "MODEL_NAME = 'IB'\n",
    "raw_preds_path = f'{TEST_PREDICTIONS_RAW_DIR_PATH}/{FEATURES}_{MODEL_NAME}.csv'\n",
    "preds_path = f'{TEST_PREDICTIONS_DIR_PATH}/{FEATURES}_{MODEL_NAME}.csv'"
   ]
  },
  {
   "cell_type": "code",
   "execution_count": 15,
   "id": "bc1cf4ba-c0a4-41da-a1b8-449feb097e28",
   "metadata": {},
   "outputs": [
    {
     "name": "stdout",
     "output_type": "stream",
     "text": [
      "raw_preds_path ../../data/csv/test/raw_predictions/whole_sequence_all_H_IB.csv\n",
      "sasa_H_df.shape (879, 164)\n"
     ]
    }
   ],
   "source": [
    "print('raw_preds_path', raw_preds_path)\n",
    "print('sasa_H_df.shape', sasa_H_df.shape)\n",
    "sasa_H_df.to_csv(raw_preds_path)"
   ]
  },
  {
   "cell_type": "code",
   "execution_count": 16,
   "id": "720677ff-41e8-468b-b4b8-6377df3ba761",
   "metadata": {},
   "outputs": [
    {
     "data": {
      "text/html": [
       "<div>\n",
       "<style scoped>\n",
       "    .dataframe tbody tr th:only-of-type {\n",
       "        vertical-align: middle;\n",
       "    }\n",
       "\n",
       "    .dataframe tbody tr th {\n",
       "        vertical-align: top;\n",
       "    }\n",
       "\n",
       "    .dataframe thead th {\n",
       "        text-align: right;\n",
       "    }\n",
       "</style>\n",
       "<table border=\"1\" class=\"dataframe\">\n",
       "  <thead>\n",
       "    <tr style=\"text-align: right;\">\n",
       "      <th></th>\n",
       "      <th>1</th>\n",
       "      <th>2</th>\n",
       "      <th>3</th>\n",
       "      <th>4</th>\n",
       "      <th>5</th>\n",
       "      <th>6</th>\n",
       "      <th>7</th>\n",
       "      <th>8</th>\n",
       "      <th>9</th>\n",
       "      <th>10</th>\n",
       "      <th>...</th>\n",
       "      <th>141</th>\n",
       "      <th>142</th>\n",
       "      <th>143</th>\n",
       "      <th>143A</th>\n",
       "      <th>144</th>\n",
       "      <th>145</th>\n",
       "      <th>146</th>\n",
       "      <th>147</th>\n",
       "      <th>148</th>\n",
       "      <th>149</th>\n",
       "    </tr>\n",
       "  </thead>\n",
       "  <tbody>\n",
       "    <tr>\n",
       "      <th>7DF1:H</th>\n",
       "      <td>NaN</td>\n",
       "      <td>47.3</td>\n",
       "      <td>78.8</td>\n",
       "      <td>0.0</td>\n",
       "      <td>72.2</td>\n",
       "      <td>0.0</td>\n",
       "      <td>27.0</td>\n",
       "      <td>NaN</td>\n",
       "      <td>NaN</td>\n",
       "      <td>73.9</td>\n",
       "      <td>...</td>\n",
       "      <td>54.3</td>\n",
       "      <td>NaN</td>\n",
       "      <td>0.0</td>\n",
       "      <td>NaN</td>\n",
       "      <td>41.7</td>\n",
       "      <td>0.0</td>\n",
       "      <td>50.1</td>\n",
       "      <td>0.0</td>\n",
       "      <td>83.8</td>\n",
       "      <td>NaN</td>\n",
       "    </tr>\n",
       "  </tbody>\n",
       "</table>\n",
       "<p>1 rows × 164 columns</p>\n",
       "</div>"
      ],
      "text/plain": [
       "         1     2     3    4     5    6     7   8   9    10  ...   141  142  \\\n",
       "7DF1:H NaN  47.3  78.8  0.0  72.2  0.0  27.0 NaN NaN  73.9  ...  54.3  NaN   \n",
       "\n",
       "        143  143A   144  145   146  147   148  149  \n",
       "7DF1:H  0.0   NaN  41.7  0.0  50.1  0.0  83.8  NaN  \n",
       "\n",
       "[1 rows x 164 columns]"
      ]
     },
     "execution_count": 16,
     "metadata": {},
     "output_type": "execute_result"
    }
   ],
   "source": [
    "sasa_H_df = pd.read_csv(raw_preds_path, index_col=0)\n",
    "sasa_H_df.head(n=1)"
   ]
  },
  {
   "cell_type": "code",
   "execution_count": 18,
   "id": "8559746d-5495-4853-ab07-2e8788c49eaa",
   "metadata": {},
   "outputs": [
    {
     "name": "stdout",
     "output_type": "stream",
     "text": [
      "positionized SASA shape (144156, 3) | number of unique sequence_ids in res_sasa_H_df 879 | number of unique positions 164\n",
      "saving to ../../data/csv/test/predictions/whole_sequence_all_H_IB.csv\n"
     ]
    },
    {
     "data": {
      "text/html": [
       "<div>\n",
       "<style scoped>\n",
       "    .dataframe tbody tr th:only-of-type {\n",
       "        vertical-align: middle;\n",
       "    }\n",
       "\n",
       "    .dataframe tbody tr th {\n",
       "        vertical-align: top;\n",
       "    }\n",
       "\n",
       "    .dataframe thead th {\n",
       "        text-align: right;\n",
       "    }\n",
       "</style>\n",
       "<table border=\"1\" class=\"dataframe\">\n",
       "  <thead>\n",
       "    <tr style=\"text-align: right;\">\n",
       "      <th></th>\n",
       "      <th>sequence_id</th>\n",
       "      <th>position</th>\n",
       "      <th>prediction</th>\n",
       "    </tr>\n",
       "  </thead>\n",
       "  <tbody>\n",
       "    <tr>\n",
       "      <th>0</th>\n",
       "      <td>7DF1:H</td>\n",
       "      <td>1</td>\n",
       "      <td>NaN</td>\n",
       "    </tr>\n",
       "    <tr>\n",
       "      <th>1</th>\n",
       "      <td>7E9O:H</td>\n",
       "      <td>1</td>\n",
       "      <td>108.6</td>\n",
       "    </tr>\n",
       "    <tr>\n",
       "      <th>2</th>\n",
       "      <td>7FGJ:H</td>\n",
       "      <td>1</td>\n",
       "      <td>NaN</td>\n",
       "    </tr>\n",
       "  </tbody>\n",
       "</table>\n",
       "</div>"
      ],
      "text/plain": [
       "  sequence_id position  prediction\n",
       "0      7DF1:H        1         NaN\n",
       "1      7E9O:H        1       108.6\n",
       "2      7FGJ:H        1         NaN"
      ]
     },
     "execution_count": 18,
     "metadata": {},
     "output_type": "execute_result"
    }
   ],
   "source": [
    "res_sasa_H_ids = sasa_H_df.index.to_series().reset_index(drop=True).rename('sequence_id')\n",
    "res_sasa_H_df = u.positionize_sasa_df(sasa_H_df, res_sasa_H_ids)\n",
    "res_sasa_H_df['position'] = res_sasa_H_df['position'].astype('string')\n",
    "res_sasa_H_df['position'] = res_sasa_H_df['position'].apply(lambda x: str(x))\n",
    "assert list(res_sasa_H_df['sequence_id'].unique()) == list(sasa_H_df.index)\n",
    "print('positionized SASA shape', res_sasa_H_df.shape, \n",
    "      '| number of unique sequence_ids in res_sasa_H_df', res_sasa_H_df['sequence_id'].nunique(),\n",
    "      '| number of unique positions', res_sasa_H_df['position'].nunique())\n",
    "print('saving to', preds_path)\n",
    "res_sasa_H_df.to_csv(preds_path)\n",
    "res_sasa_H_df.head(n=3)"
   ]
  },
  {
   "cell_type": "code",
   "execution_count": 19,
   "id": "257a21b4-522c-472a-a8bc-de7c6b1e1d92",
   "metadata": {},
   "outputs": [
    {
     "data": {
      "text/html": [
       "<div>\n",
       "<style scoped>\n",
       "    .dataframe tbody tr th:only-of-type {\n",
       "        vertical-align: middle;\n",
       "    }\n",
       "\n",
       "    .dataframe tbody tr th {\n",
       "        vertical-align: top;\n",
       "    }\n",
       "\n",
       "    .dataframe thead th {\n",
       "        text-align: right;\n",
       "    }\n",
       "</style>\n",
       "<table border=\"1\" class=\"dataframe\">\n",
       "  <thead>\n",
       "    <tr style=\"text-align: right;\">\n",
       "      <th></th>\n",
       "      <th>sequence_id</th>\n",
       "      <th>position</th>\n",
       "      <th>prediction</th>\n",
       "    </tr>\n",
       "  </thead>\n",
       "  <tbody>\n",
       "    <tr>\n",
       "      <th>0</th>\n",
       "      <td>7DF1:H</td>\n",
       "      <td>1</td>\n",
       "      <td>NaN</td>\n",
       "    </tr>\n",
       "  </tbody>\n",
       "</table>\n",
       "</div>"
      ],
      "text/plain": [
       "  sequence_id position  prediction\n",
       "0      7DF1:H        1         NaN"
      ]
     },
     "execution_count": 19,
     "metadata": {},
     "output_type": "execute_result"
    }
   ],
   "source": [
    "res_sasa_H_df = pd.read_csv(preds_path, index_col=0, low_memory=False)\n",
    "res_sasa_H_df.head(n=1)"
   ]
  },
  {
   "cell_type": "markdown",
   "id": "14639d89-2781-489a-adda-40b44a7eacf5",
   "metadata": {},
   "source": [
    "----"
   ]
  },
  {
   "cell_type": "markdown",
   "id": "27808ce5-993d-4507-b499-5be265fb12e2",
   "metadata": {},
   "source": [
    "### Continueing with the classic processing"
   ]
  },
  {
   "cell_type": "markdown",
   "id": "4f5c4e53-5114-4afe-a948-2184fc4ffa44",
   "metadata": {},
   "source": [
    "**View and store `sasa` dataframe:**"
   ]
  },
  {
   "cell_type": "code",
   "execution_count": null,
   "id": "e1173a6e-4045-47af-be1b-1041b74cc5fe",
   "metadata": {},
   "outputs": [],
   "source": [
    "# do not execute these cells if you are running IB predictions now, skip\n",
    "new_sasa_df = pd.DataFrame(list(df_dict.values()), index=list(df_dict.keys())).sort_index()\n",
    "sasa_df = new_sasa_df if old_sasa_df is None else pd.concat([old_sasa_df, new_sasa_df])\n",
    "print('freesasa results unaligned | sasa_df shape:', sasa_df.shape, 'fasta unaligned shape:', fasta_unaligned_df.shape)\n",
    "sasa_df.to_csv(f'{SASA_RELATIVE_UNALIGNED_DIR}/sasa_all.csv')\n",
    "sasa_df.head()"
   ]
  },
  {
   "cell_type": "code",
   "execution_count": null,
   "id": "c10418c6-e381-4bb9-a00e-baa8a4e370d6",
   "metadata": {},
   "outputs": [],
   "source": [
    "sasa_df.count(axis=0)"
   ]
  },
  {
   "cell_type": "markdown",
   "id": "2fa585a9-1203-40e5-99de-ba95975e903a",
   "metadata": {},
   "source": [
    "**Check the numbers of SASA and FASTA values:**"
   ]
  },
  {
   "cell_type": "code",
   "execution_count": null,
   "id": "1f0f019e-5748-4f30-be32-aec9a0d78314",
   "metadata": {},
   "outputs": [],
   "source": [
    "# suddenly we are missing many SASA values... - investigating\n",
    "# SASA_RELATIVE_UNALIGNED_DIR = f'{p.DATA_DIR}/csv/sasa_relative_unalignedJuly2024'\n",
    "fasta_unaligned_older_df = pd.read_csv(f'{p.DATA_DIR}/csv/fasta_unalignedJuly2024/fasta_all.csv', index_col=0)\n",
    "fasta_unaligned_ib1_df = pd.read_csv(f'{p.DATA_DIR}/csv/fasta_unalignedIBJuly2024/fasta_all.csv', index_col=0)\n",
    "fasta_unaligned_ib2_df = pd.read_csv(f'{p.DATA_DIR}/csv/fasta_unalignedIB2July2024/fasta_all.csv', index_col=0)\n",
    "fasta_unaligned_ib3_df = pd.read_csv(f'{p.DATA_DIR}/csv/fasta_unalignedIB3July2024/fasta_all.csv', index_col=0)\n",
    "print('mean # unaligned-FASTA values per test_new_234 sequence - classic:', u.nondash_counts(fasta_unaligned_older_df).mean(),\n",
    "     'IB method 1:', u.nondash_counts(fasta_unaligned_ib1_df).mean(), \n",
    "     'IB method 2:', u.nondash_counts(fasta_unaligned_ib2_df).mean(),\n",
    "     'IB method 3:', u.nondash_counts(fasta_unaligned_ib3_df).mean())\n",
    "\n",
    "sasa_older_df = pd.read_csv(f'{p.DATA_DIR}/csv/sasa_relative_unalignedJuly2024/sasa_all.csv', index_col=0)\n",
    "sasa_ib1_df = pd.read_csv(f'{p.DATA_DIR}/csv/sasa_relative_unalignedIBJuly2024/sasa_all.csv', index_col=0)\n",
    "sasa_ib2_df = pd.read_csv(f'{p.DATA_DIR}/csv/sasa_relative_unalignedIB2July2024/sasa_all.csv', index_col=0)\n",
    "sasa_ib3_df = pd.read_csv(f'{p.DATA_DIR}/csv/sasa_relative_unalignedIB3July2024/sasa_all.csv', index_col=0)\n",
    "print('mean # SASA values per test_new_234 sequence - classic:', sasa_older_df.count(axis=1).mean(),\n",
    "     'IB method 1:', sasa_ib1_df.count(axis=1).mean(), \n",
    "     'IB method 2:', sasa_ib2_df.count(axis=1).mean(),\n",
    "     'IB method 3:', sasa_ib2_df.count(axis=1).mean())"
   ]
  },
  {
   "cell_type": "markdown",
   "id": "1ec308a2-b45c-426c-b45d-bf0dc145370d",
   "metadata": {},
   "source": [
    "**Create L and H separate dataframes as well:**"
   ]
  },
  {
   "cell_type": "code",
   "execution_count": null,
   "id": "75cfff16-89fc-4e8b-86c1-24198193eb65",
   "metadata": {},
   "outputs": [],
   "source": [
    "sasa_df = pd.read_csv(f'{SASA_RELATIVE_UNALIGNED_DIR}/sasa_all.csv', index_col=0)\n",
    "sasa_L_df = u.select_only_chain_sequences(sasa_df, 'L')\n",
    "sasa_L_df.to_csv(f'{SASA_RELATIVE_UNALIGNED_DIR}/sasa_L.csv')\n",
    "sasa_H_df = u.select_only_chain_sequences(sasa_df, 'H')\n",
    "sasa_H_df.to_csv(f'{SASA_RELATIVE_UNALIGNED_DIR}/sasa_H.csv')\n",
    "print('sasa_df.shape', sasa_df.shape, 'sasa_L_df.shape', sasa_L_df.shape, 'sasa_H_df.shape', sasa_H_df.shape)"
   ]
  },
  {
   "cell_type": "markdown",
   "id": "497997d7-7913-4b42-87f9-052729ca5a85",
   "metadata": {
    "tags": []
   },
   "source": [
    "## Sanity check"
   ]
  },
  {
   "cell_type": "markdown",
   "id": "c29acb00-29fd-4a6e-91eb-64e6c78bffa5",
   "metadata": {},
   "source": [
    "**Check if both `fasta` and `sasa` datasets contain exactly the same sets of keys:**"
   ]
  },
  {
   "cell_type": "code",
   "execution_count": null,
   "id": "1931b932-da22-4b35-ba0c-20fc5952051f",
   "metadata": {},
   "outputs": [],
   "source": [
    "fasta_df = pd.read_csv(FASTA_UNALIGNED_CSV_PATH, index_col=0)\n",
    "sasa_df  = pd.read_csv(f'{SASA_RELATIVE_UNALIGNED_DIR}/sasa_all.csv', index_col=0)\n",
    "print('FASTA_UNALIGNED_CSV_PATH:', FASTA_UNALIGNED_CSV_PATH, 'SASA_RELATIVE_UNALIGNED_DIR:', SASA_RELATIVE_UNALIGNED_DIR)"
   ]
  },
  {
   "cell_type": "code",
   "execution_count": null,
   "id": "7a63ae1e-edc6-46b0-adcc-c34ca265a705",
   "metadata": {},
   "outputs": [],
   "source": [
    "fasta_abundant = fasta_df.index.difference(sasa_df.index)\n",
    "sasa_abundant  = sasa_df.index.difference(fasta_df.index)\n",
    "assert fasta_abundant.empty and sasa_abundant.empty # .empty is just a boolean property"
   ]
  },
  {
   "cell_type": "markdown",
   "id": "8065b1de-548a-43e6-a5c3-eb08da9096ed",
   "metadata": {},
   "source": [
    "**It appears they do :)**"
   ]
  }
 ],
 "metadata": {
  "kernelspec": {
   "display_name": "Python 3 (ipykernel)",
   "language": "python",
   "name": "python3"
  },
  "language_info": {
   "codemirror_mode": {
    "name": "ipython",
    "version": 3
   },
   "file_extension": ".py",
   "mimetype": "text/x-python",
   "name": "python",
   "nbconvert_exporter": "python",
   "pygments_lexer": "ipython3",
   "version": "3.10.14"
  }
 },
 "nbformat": 4,
 "nbformat_minor": 5
}
