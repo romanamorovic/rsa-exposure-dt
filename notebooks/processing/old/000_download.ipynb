{
 "cells": [
  {
   "cell_type": "markdown",
   "id": "bfec1776-d7a6-4b18-a54c-f880ce0ba9b0",
   "metadata": {},
   "source": [
    "Download PDB structure files.\n",
    "\n",
    "TODO"
   ]
  },
  {
   "cell_type": "code",
   "execution_count": null,
   "id": "d6399f0f-347b-4c37-9df7-550ff59e1676",
   "metadata": {},
   "outputs": [],
   "source": []
  }
 ],
 "metadata": {
  "kernelspec": {
   "display_name": "Python 3 (ipykernel)",
   "language": "python",
   "name": "python3"
  },
  "language_info": {
   "codemirror_mode": {
    "name": "ipython",
    "version": 3
   },
   "file_extension": ".py",
   "mimetype": "text/x-python",
   "name": "python",
   "nbconvert_exporter": "python",
   "pygments_lexer": "ipython3",
   "version": "3.8.12"
  }
 },
 "nbformat": 4,
 "nbformat_minor": 5
}
