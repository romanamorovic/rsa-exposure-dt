{
 "cells": [
  {
   "cell_type": "code",
   "execution_count": 2,
   "id": "5d8f1f76-6b09-4f2a-9262-d929739c93d9",
   "metadata": {},
   "outputs": [],
   "source": [
    "import os\n",
    "import subprocess\n",
    "import sys\n",
    "\n",
    "import matplotlib.pyplot as plt\n",
    "import numpy as np\n",
    "import pandas as pd\n",
    "import seaborn as sns\n",
    "import warnings\n",
    "from Bio import SeqIO\n",
    "from Bio.PDB.PDBExceptions import PDBConstructionWarning\n",
    "from tqdm.notebook import tqdm\n",
    "\n",
    "import _file_paths as fp    "
   ]
  },
  {
   "cell_type": "code",
   "execution_count": 25,
   "id": "ae177358-ee16-4ee9-9d09-bc772cfee0cb",
   "metadata": {},
   "outputs": [
    {
     "data": {
      "application/vnd.jupyter.widget-view+json": {
       "model_id": "1a835c25f7d8414aafcda6b679833a98",
       "version_major": 2,
       "version_minor": 0
      },
      "text/plain": [
       "Generating length distribution plots..:   0%|          | 0/4228 [00:00<?, ?it/s]"
      ]
     },
     "metadata": {},
     "output_type": "display_data"
    }
   ],
   "source": [
    "# plantaznik version\n",
    "chain_dir_path = os.path.join(fp.POSITIONS_ALIGNED_DIR_PATH, 'merged')\n",
    "file_names = os.listdir(chain_dir_path)\n",
    "chain_lengths = dict(L=[], H=[])\n",
    "for file_name in tqdm(file_names, desc='Generating length distribution plots..'):\n",
    "    with open(os.path.join(chain_dir_path, file_name)) as input_file:\n",
    "        l, h = input_file.readlines()\n",
    "        chain_lengths['L'].append(len(l.split()))\n",
    "        chain_lengths['H'].append(len(h.split()))"
   ]
  },
  {
   "cell_type": "code",
   "execution_count": 14,
   "id": "ae55c612-b3ab-41fc-b3fa-1e8bf0b0cbde",
   "metadata": {},
   "outputs": [],
   "source": [
    "# dataframe version \n",
    "fasta_aligned_df = pd.read_csv('../../data/csv/fasta_aligned.csv', index_col=0, dtype=object)\n",
    "fasta_unaligned_df = pd.read_csv('../../data/csv/fasta_merged.csv', index_col=0)\n",
    "aligned_lengths = list(fasta_aligned_df.count(axis=1))\n",
    "unaligned_lengths = list(fasta_unaligned_df.count(axis=1))"
   ]
  },
  {
   "cell_type": "code",
   "execution_count": 15,
   "id": "fe78aba7-e8bd-4f69-b968-62b88a71843e",
   "metadata": {},
   "outputs": [
    {
     "data": {
      "text/plain": [
       "<AxesSubplot:ylabel='Count'>"
      ]
     },
     "execution_count": 15,
     "metadata": {},
     "output_type": "execute_result"
    },
    {
     "data": {
      "image/png": "[encoded data removed]",
      "text/plain": [
       "<Figure size 432x288 with 1 Axes>"
      ]
     },
     "metadata": {
      "needs_background": "light"
     },
     "output_type": "display_data"
    }
   ],
   "source": [
    "sns.histplot(data=aligned_lengths)"
   ]
  },
  {
   "cell_type": "code",
   "execution_count": 27,
   "id": "06d1374c-8b8c-4482-81a0-2ecb077a7dcc",
   "metadata": {},
   "outputs": [
    {
     "data": {
      "text/plain": [
       "<AxesSubplot:ylabel='Count'>"
      ]
     },
     "execution_count": 27,
     "metadata": {},
     "output_type": "execute_result"
    },
    {
     "data": {
      "image/png": "[encoded data removed]",
      "text/plain": [
       "<Figure size 432x288 with 1 Axes>"
      ]
     },
     "metadata": {
      "needs_background": "light"
     },
     "output_type": "display_data"
    }
   ],
   "source": [
    "sns.histplot(data=unaligned_lengths)"
   ]
  }
 ],
 "metadata": {
  "kernelspec": {
   "display_name": "Python 3 (ipykernel)",
   "language": "python",
   "name": "python3"
  },
  "language_info": {
   "codemirror_mode": {
    "name": "ipython",
    "version": 3
   },
   "file_extension": ".py",
   "mimetype": "text/x-python",
   "name": "python",
   "nbconvert_exporter": "python",
   "pygments_lexer": "ipython3",
   "version": "3.8.12"
  }
 },
 "nbformat": 4,
 "nbformat_minor": 5
}
