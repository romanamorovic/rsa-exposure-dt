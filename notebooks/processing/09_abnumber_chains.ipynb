{
 "cells": [
  {
   "cell_type": "markdown",
   "id": "f5fea908-f7fe-4d1c-8dc9-b913e19c2611",
   "metadata": {},
   "source": [
    "# 9. Generate abnumber chains"
   ]
  },
  {
   "cell_type": "code",
   "execution_count": 9,
   "id": "ed666f18-9fce-44f8-b14f-185c0a313b08",
   "metadata": {},
   "outputs": [],
   "source": [
    "import pandas as pd\n",
    "\n",
    "import bin.params as p\n",
    "import bin.utils as utils"
   ]
  },
  {
   "cell_type": "code",
   "execution_count": 10,
   "id": "c1045d93-1159-4fe3-8e27-956f23e9fcc0",
   "metadata": {},
   "outputs": [],
   "source": [
    "data_df_L, _ = utils.load_dataset(['train', 'val', 'test'], chains='L')\n",
    "data_df_H, _ = utils.load_dataset(['train', 'val', 'test'], chains='H')"
   ]
  },
  {
   "cell_type": "code",
   "execution_count": 11,
   "id": "1f4cd5df-fb9a-411d-bcae-3fb5e42df0e8",
   "metadata": {},
   "outputs": [
    {
     "name": "stdout",
     "output_type": "stream",
     "text": [
      "not from file\n"
     ]
    },
    {
     "data": {
      "application/vnd.jupyter.widget-view+json": {
       "model_id": "a5f0e44b7ea3466787138b4eb5e7c85a",
       "version_major": 2,
       "version_minor": 0
      },
      "text/plain": [
       "Generating abnumber chains L...:   0%|          | 0/3286 [00:00<?, ?it/s]"
      ]
     },
     "metadata": {},
     "output_type": "display_data"
    },
    {
     "data": {
      "application/vnd.jupyter.widget-view+json": {
       "model_id": "165fba8442a3416eb6b8b93f2d640d2c",
       "version_major": 2,
       "version_minor": 0
      },
      "text/plain": [
       "Generating abnumber chains H...:   0%|          | 0/3286 [00:00<?, ?it/s]"
      ]
     },
     "metadata": {},
     "output_type": "display_data"
    }
   ],
   "source": [
    "chains_dict = utils.generate_abnumber_chains(f'{p.DATA_DIR}/pickles/abnumber_chains.p', \n",
    "                                            [data_df_L, data_df_H])"
   ]
  },
  {
   "cell_type": "code",
   "execution_count": 15,
   "id": "05db31e4-0e26-42d6-a8ae-fa010d4385e4",
   "metadata": {},
   "outputs": [
    {
     "data": {
      "text/plain": [
       "6572"
      ]
     },
     "execution_count": 15,
     "metadata": {},
     "output_type": "execute_result"
    }
   ],
   "source": [
    "len(chains_dict)"
   ]
  },
  {
   "cell_type": "code",
   "execution_count": 18,
   "id": "62884d2a-c80e-41ee-b527-082b4c61e882",
   "metadata": {},
   "outputs": [
    {
     "data": {
      "text/plain": [
       "(['7X08:H', '7X9E:H', '7Z0X:H', '7Z0Y:H', '8FAB:H'],\n",
       " ['12E8:L', '15C8:L', '1A0Q:L', '1A14:L', '1A2Y:L'])"
      ]
     },
     "execution_count": 18,
     "metadata": {},
     "output_type": "execute_result"
    }
   ],
   "source": [
    "list(chains_dict.keys())[-5:], list(chains_dict.keys())[:5]"
   ]
  },
  {
   "cell_type": "code",
   "execution_count": null,
   "id": "9a6e3629-7aac-4de4-93ca-89f243b13c42",
   "metadata": {},
   "outputs": [],
   "source": []
  }
 ],
 "metadata": {
  "kernelspec": {
   "display_name": "Python 3 (ipykernel)",
   "language": "python",
   "name": "python3"
  },
  "language_info": {
   "codemirror_mode": {
    "name": "ipython",
    "version": 3
   },
   "file_extension": ".py",
   "mimetype": "text/x-python",
   "name": "python",
   "nbconvert_exporter": "python",
   "pygments_lexer": "ipython3",
   "version": "3.8.12"
  }
 },
 "nbformat": 4,
 "nbformat_minor": 5
}
