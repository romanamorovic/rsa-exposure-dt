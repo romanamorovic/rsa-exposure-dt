{
 "cells": [
  {
   "cell_type": "markdown",
   "id": "3487d0e8-eee9-4b52-a022-cd95b8c45095",
   "metadata": {},
   "source": [
    "# Ideas\n",
    "\n",
    "* [000_download] Automated structure downloader of sabdab structures. Some summary about what changed compared to the previously downloaded version would be nice\n",
    "* [001_renumber] Anarci: It is OK to use -r option to ignore TCRs? Will it make the work easier for the renumberer script?\n",
    "* [001_renumber] Analyze what to do with Concatenate error affected structures. Maybe we could save them.\n",
    "* [004_chain_alignment] clustermap - col_cluster=False\n",
    "* [004_chain_alignment] one file for all - cez dataframy, NaN namiesto 0 \n",
    "\n",
    "* freesasa na RAW ocislovany pdb subor\n",
    "* FASTA, SASA na RAW pdb\n",
    "* raw fasta -> anarci aho csv -> podla toho p \n",
    "* ako sa lisi polovicna sasa vs cela? 2 priemerne\n",
    "\n",
    "* feature na ci je kratka alebo dlha\n",
    "\n",
    "\n",
    "# Implemented ideas\n",
    "* [general] Move all file paths to one file that will be imported by every jupyter notebook. Sometimes\n",
    "we are using some particular path in multiple notebooks and we have to redefine it multiple times\n",
    "* [002_pdb2fasta] PDB to FASTA conversion - fix errors. There is ~0.5% only of them but still, we are losing valuable data.\n",
    "* [004_chain_alignment] Create summary heatmap, averaging SASA for each residue number. May be interesting to see."
   ]
  },
  {
   "cell_type": "markdown",
   "id": "db5d4877-41ab-45a1-ad60-2c4afd748d52",
   "metadata": {},
   "source": [
    "* regenerate graphs with RELATIVE SASA [# per residue, heatmap, clustermap]\n",
    "* add FLAG that says short/not short \n",
    "* generate average heatmap for Light short vs Light not short, Heavy short vs Heavy not short, Light difference, Heavy difference\n",
    "* "
   ]
  }
 ],
 "metadata": {
  "kernelspec": {
   "display_name": "Python 3 (ipykernel)",
   "language": "python",
   "name": "python3"
  },
  "language_info": {
   "codemirror_mode": {
    "name": "ipython",
    "version": 3
   },
   "file_extension": ".py",
   "mimetype": "text/x-python",
   "name": "python",
   "nbconvert_exporter": "python",
   "pygments_lexer": "ipython3",
   "version": "3.8.12"
  }
 },
 "nbformat": 4,
 "nbformat_minor": 5
}
