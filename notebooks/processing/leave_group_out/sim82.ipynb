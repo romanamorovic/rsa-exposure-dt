{
 "cells": [
  {
   "cell_type": "markdown",
   "id": "1cf93eb9-c946-4677-a711-8391c795df81",
   "metadata": {
    "papermill": {
     "duration": 0.022897,
     "end_time": "2022-03-01T15:43:02.438052",
     "exception": false,
     "start_time": "2022-03-01T15:43:02.415155",
     "status": "completed"
    },
    "tags": []
   },
   "source": [
    "# One-group-out baseline runs"
   ]
  },
  {
   "cell_type": "code",
   "execution_count": 1,
   "id": "737896fc-f3fd-4d89-a0bc-590436e2b294",
   "metadata": {
    "execution": {
     "iopub.execute_input": "2022-03-01T15:43:02.478547Z",
     "iopub.status.busy": "2022-03-01T15:43:02.477988Z",
     "iopub.status.idle": "2022-03-01T15:43:05.586796Z",
     "shell.execute_reply": "2022-03-01T15:43:05.585974Z"
    },
    "papermill": {
     "duration": 3.131515,
     "end_time": "2022-03-01T15:43:05.588976",
     "exception": false,
     "start_time": "2022-03-01T15:43:02.457461",
     "status": "completed"
    },
    "tags": []
   },
   "outputs": [],
   "source": [
    "import pandas as pd\n",
    "import numpy as np\n",
    "import seaborn as sns\n",
    "from collections import defaultdict\n",
    "from sklearn.model_selection import LeaveOneGroupOut\n",
    "import concurrent\n",
    "from sklearn.base import clone\n",
    "import bin.baseline_models as bm"
   ]
  },
  {
   "cell_type": "code",
   "execution_count": 2,
   "id": "388846d2-8b22-42ae-b31f-f98c2fdaa0c0",
   "metadata": {
    "execution": {
     "iopub.execute_input": "2022-03-01T15:43:05.632726Z",
     "iopub.status.busy": "2022-03-01T15:43:05.632491Z",
     "iopub.status.idle": "2022-03-01T15:43:05.636464Z",
     "shell.execute_reply": "2022-03-01T15:43:05.635695Z"
    },
    "papermill": {
     "duration": 0.026125,
     "end_time": "2022-03-01T15:43:05.638063",
     "exception": false,
     "start_time": "2022-03-01T15:43:05.611938",
     "status": "completed"
    },
    "tags": [
     "parameters"
    ]
   },
   "outputs": [],
   "source": [
    "# edit this value\n",
    "INPUT_CLUSTER_FILE = f'../../data/csv/clustered_splits/sim80.csv'\n",
    "OUTPUT_FILE = f'../../data/csv/leave_cluster_out/sim80.csv'\n",
    "SIMILARITY = 80"
   ]
  },
  {
   "cell_type": "code",
   "execution_count": 3,
   "id": "461d358c",
   "metadata": {
    "execution": {
     "iopub.execute_input": "2022-03-01T15:43:05.677877Z",
     "iopub.status.busy": "2022-03-01T15:43:05.677666Z",
     "iopub.status.idle": "2022-03-01T15:43:05.681659Z",
     "shell.execute_reply": "2022-03-01T15:43:05.680883Z"
    },
    "papermill": {
     "duration": 0.026113,
     "end_time": "2022-03-01T15:43:05.683267",
     "exception": false,
     "start_time": "2022-03-01T15:43:05.657154",
     "status": "completed"
    },
    "tags": [
     "injected-parameters"
    ]
   },
   "outputs": [],
   "source": [
    "# Parameters\n",
    "INPUT_CLUSTER_FILE = (\n",
    "    \"/SFS/user/wp/benor/test/proto-moto/data/csv/clustered_splits/sim82.csv\"\n",
    ")\n",
    "OUTPUT_FILE = \"/SFS/user/wp/benor/test/proto-moto/data/csv/leave_cluster_out/sim82.csv\"\n",
    "SIMILARITY = 82\n"
   ]
  },
  {
   "cell_type": "code",
   "execution_count": 4,
   "id": "33792a23-de14-481e-b4a5-3ebadcb92633",
   "metadata": {
    "execution": {
     "iopub.execute_input": "2022-03-01T15:43:05.723429Z",
     "iopub.status.busy": "2022-03-01T15:43:05.723203Z",
     "iopub.status.idle": "2022-03-01T15:43:05.726626Z",
     "shell.execute_reply": "2022-03-01T15:43:05.726005Z"
    },
    "papermill": {
     "duration": 0.025753,
     "end_time": "2022-03-01T15:43:05.728309",
     "exception": false,
     "start_time": "2022-03-01T15:43:05.702556",
     "status": "completed"
    },
    "tags": []
   },
   "outputs": [],
   "source": [
    "DISTANCE = 100 - SIMILARITY\n",
    "EXPERIMENT_NAME = f'sim{SIMILARITY}'"
   ]
  },
  {
   "cell_type": "code",
   "execution_count": 5,
   "id": "787c9141-43f1-4c9d-8f44-2dd8f1826a12",
   "metadata": {
    "execution": {
     "iopub.execute_input": "2022-03-01T15:43:05.770180Z",
     "iopub.status.busy": "2022-03-01T15:43:05.769824Z",
     "iopub.status.idle": "2022-03-01T15:43:05.790951Z",
     "shell.execute_reply": "2022-03-01T15:43:05.790267Z"
    },
    "papermill": {
     "duration": 0.043699,
     "end_time": "2022-03-01T15:43:05.792602",
     "exception": false,
     "start_time": "2022-03-01T15:43:05.748903",
     "status": "completed"
    },
    "tags": []
   },
   "outputs": [
    {
     "data": {
      "text/html": [
       "<div>\n",
       "<style scoped>\n",
       "    .dataframe tbody tr th:only-of-type {\n",
       "        vertical-align: middle;\n",
       "    }\n",
       "\n",
       "    .dataframe tbody tr th {\n",
       "        vertical-align: top;\n",
       "    }\n",
       "\n",
       "    .dataframe thead th {\n",
       "        text-align: right;\n",
       "    }\n",
       "</style>\n",
       "<table border=\"1\" class=\"dataframe\">\n",
       "  <thead>\n",
       "    <tr style=\"text-align: right;\">\n",
       "      <th></th>\n",
       "      <th>sequence_id</th>\n",
       "      <th>cluster</th>\n",
       "    </tr>\n",
       "  </thead>\n",
       "  <tbody>\n",
       "    <tr>\n",
       "      <th>0</th>\n",
       "      <td>12E8:L</td>\n",
       "      <td>1</td>\n",
       "    </tr>\n",
       "    <tr>\n",
       "      <th>1</th>\n",
       "      <td>15C8:L</td>\n",
       "      <td>1</td>\n",
       "    </tr>\n",
       "    <tr>\n",
       "      <th>2</th>\n",
       "      <td>1A0Q:L</td>\n",
       "      <td>1</td>\n",
       "    </tr>\n",
       "    <tr>\n",
       "      <th>3</th>\n",
       "      <td>1A14:L</td>\n",
       "      <td>1</td>\n",
       "    </tr>\n",
       "    <tr>\n",
       "      <th>4</th>\n",
       "      <td>1A2Y:L</td>\n",
       "      <td>1</td>\n",
       "    </tr>\n",
       "  </tbody>\n",
       "</table>\n",
       "</div>"
      ],
      "text/plain": [
       "  sequence_id  cluster\n",
       "0      12E8:L        1\n",
       "1      15C8:L        1\n",
       "2      1A0Q:L        1\n",
       "3      1A14:L        1\n",
       "4      1A2Y:L        1"
      ]
     },
     "execution_count": 5,
     "metadata": {},
     "output_type": "execute_result"
    }
   ],
   "source": [
    "clusters_df = pd.read_csv(INPUT_CLUSTER_FILE, index_col=0)\n",
    "clusters_df.head()"
   ]
  },
  {
   "cell_type": "code",
   "execution_count": 6,
   "id": "d7779b75-c3d8-4aed-a125-577f21cf9fc4",
   "metadata": {
    "execution": {
     "iopub.execute_input": "2022-03-01T15:43:05.836617Z",
     "iopub.status.busy": "2022-03-01T15:43:05.835962Z",
     "iopub.status.idle": "2022-03-01T15:43:05.999354Z",
     "shell.execute_reply": "2022-03-01T15:43:05.998562Z"
    },
    "papermill": {
     "duration": 0.188234,
     "end_time": "2022-03-01T15:43:06.001950",
     "exception": false,
     "start_time": "2022-03-01T15:43:05.813716",
     "status": "completed"
    },
    "tags": []
   },
   "outputs": [],
   "source": [
    "models = [\n",
    "    ('knn_for_position', lambda: bm.KNNWholeSequence(n_neighbors=3)),\n",
    "    ('average_for_position', lambda: bm.AverageForResidueAtPosition()),\n",
    "    ('mean_for_sameres_position', lambda: bm.StatisticForSameResidueAtPosition(statistic='mean')),\n",
    "    ('median_for_sameres_position', lambda: bm.StatisticForSameResidueAtPosition(statistic='median')),  \n",
    "]\n",
    "X_light = pd.read_csv('../../data/csv/fasta_aho_L.csv')\n",
    "Y_light = pd.read_csv('../../data/csv/sasa_aligned_L.csv').rename(columns={'Unnamed: 0':'Id'})  "
   ]
  },
  {
   "cell_type": "code",
   "execution_count": 7,
   "id": "8fc93634-9668-4b80-9d42-56924e8f9bb3",
   "metadata": {
    "execution": {
     "iopub.execute_input": "2022-03-01T15:43:06.045474Z",
     "iopub.status.busy": "2022-03-01T15:43:06.044970Z",
     "iopub.status.idle": "2022-03-01T15:43:06.064397Z",
     "shell.execute_reply": "2022-03-01T15:43:06.063614Z"
    },
    "papermill": {
     "duration": 0.043104,
     "end_time": "2022-03-01T15:43:06.066136",
     "exception": false,
     "start_time": "2022-03-01T15:43:06.023032",
     "status": "completed"
    },
    "tags": []
   },
   "outputs": [
    {
     "name": "stdout",
     "output_type": "stream",
     "text": [
      "keys removed [4236]\n"
     ]
    }
   ],
   "source": [
    "# remove those sequences that do not have any cluster assigned\n",
    "keys_to_remove = X_light[~X_light['Id'].isin(clusters_df['sequence_id'])].index.to_list()\n",
    "X_light.drop(index=keys_to_remove, inplace=True)\n",
    "Y_light.drop(index=keys_to_remove, inplace=True)\n",
    "print(f'keys removed {keys_to_remove}')"
   ]
  },
  {
   "cell_type": "code",
   "execution_count": 8,
   "id": "bca9ec3b-0e9c-498b-9e40-0cf89b0e23fa",
   "metadata": {
    "execution": {
     "iopub.execute_input": "2022-03-01T15:43:06.111497Z",
     "iopub.status.busy": "2022-03-01T15:43:06.111253Z",
     "iopub.status.idle": "2022-03-01T15:43:06.124841Z",
     "shell.execute_reply": "2022-03-01T15:43:06.124012Z"
    },
    "papermill": {
     "duration": 0.038078,
     "end_time": "2022-03-01T15:43:06.126477",
     "exception": false,
     "start_time": "2022-03-01T15:43:06.088399",
     "status": "completed"
    },
    "tags": []
   },
   "outputs": [],
   "source": [
    "X_light.drop(columns='Id', inplace=True, errors='ignore')\n",
    "Y_light.drop(columns='Id', inplace=True, errors='ignore')"
   ]
  },
  {
   "cell_type": "code",
   "execution_count": 9,
   "id": "ade4cbf1-d924-4fe4-ab71-84e68c88319b",
   "metadata": {
    "execution": {
     "iopub.execute_input": "2022-03-01T15:43:06.172247Z",
     "iopub.status.busy": "2022-03-01T15:43:06.172017Z",
     "iopub.status.idle": "2022-03-01T15:43:06.193046Z",
     "shell.execute_reply": "2022-03-01T15:43:06.192339Z"
    },
    "papermill": {
     "duration": 0.045677,
     "end_time": "2022-03-01T15:43:06.194633",
     "exception": false,
     "start_time": "2022-03-01T15:43:06.148956",
     "status": "completed"
    },
    "tags": []
   },
   "outputs": [
    {
     "data": {
      "text/html": [
       "<div>\n",
       "<style scoped>\n",
       "    .dataframe tbody tr th:only-of-type {\n",
       "        vertical-align: middle;\n",
       "    }\n",
       "\n",
       "    .dataframe tbody tr th {\n",
       "        vertical-align: top;\n",
       "    }\n",
       "\n",
       "    .dataframe thead th {\n",
       "        text-align: right;\n",
       "    }\n",
       "</style>\n",
       "<table border=\"1\" class=\"dataframe\">\n",
       "  <thead>\n",
       "    <tr style=\"text-align: right;\">\n",
       "      <th></th>\n",
       "      <th>1</th>\n",
       "      <th>2</th>\n",
       "      <th>3</th>\n",
       "      <th>4</th>\n",
       "      <th>5</th>\n",
       "      <th>6</th>\n",
       "      <th>7</th>\n",
       "      <th>8</th>\n",
       "      <th>9</th>\n",
       "      <th>10</th>\n",
       "      <th>...</th>\n",
       "      <th>140</th>\n",
       "      <th>141</th>\n",
       "      <th>142</th>\n",
       "      <th>143</th>\n",
       "      <th>144</th>\n",
       "      <th>145</th>\n",
       "      <th>146</th>\n",
       "      <th>147</th>\n",
       "      <th>148</th>\n",
       "      <th>149</th>\n",
       "    </tr>\n",
       "  </thead>\n",
       "  <tbody>\n",
       "    <tr>\n",
       "      <th>0</th>\n",
       "      <td>D</td>\n",
       "      <td>I</td>\n",
       "      <td>V</td>\n",
       "      <td>M</td>\n",
       "      <td>T</td>\n",
       "      <td>Q</td>\n",
       "      <td>S</td>\n",
       "      <td>Q</td>\n",
       "      <td>K</td>\n",
       "      <td>F</td>\n",
       "      <td>...</td>\n",
       "      <td>G</td>\n",
       "      <td>A</td>\n",
       "      <td>G</td>\n",
       "      <td>T</td>\n",
       "      <td>K</td>\n",
       "      <td>L</td>\n",
       "      <td>E</td>\n",
       "      <td>L</td>\n",
       "      <td>K</td>\n",
       "      <td>R</td>\n",
       "    </tr>\n",
       "    <tr>\n",
       "      <th>1</th>\n",
       "      <td>D</td>\n",
       "      <td>I</td>\n",
       "      <td>V</td>\n",
       "      <td>L</td>\n",
       "      <td>T</td>\n",
       "      <td>Q</td>\n",
       "      <td>S</td>\n",
       "      <td>P</td>\n",
       "      <td>A</td>\n",
       "      <td>I</td>\n",
       "      <td>...</td>\n",
       "      <td>G</td>\n",
       "      <td>G</td>\n",
       "      <td>G</td>\n",
       "      <td>T</td>\n",
       "      <td>K</td>\n",
       "      <td>L</td>\n",
       "      <td>E</td>\n",
       "      <td>I</td>\n",
       "      <td>K</td>\n",
       "      <td>R</td>\n",
       "    </tr>\n",
       "    <tr>\n",
       "      <th>2</th>\n",
       "      <td>-</td>\n",
       "      <td>I</td>\n",
       "      <td>E</td>\n",
       "      <td>L</td>\n",
       "      <td>T</td>\n",
       "      <td>Q</td>\n",
       "      <td>S</td>\n",
       "      <td>P</td>\n",
       "      <td>S</td>\n",
       "      <td>S</td>\n",
       "      <td>...</td>\n",
       "      <td>G</td>\n",
       "      <td>G</td>\n",
       "      <td>G</td>\n",
       "      <td>T</td>\n",
       "      <td>K</td>\n",
       "      <td>L</td>\n",
       "      <td>E</td>\n",
       "      <td>I</td>\n",
       "      <td>K</td>\n",
       "      <td>R</td>\n",
       "    </tr>\n",
       "    <tr>\n",
       "      <th>3</th>\n",
       "      <td>D</td>\n",
       "      <td>I</td>\n",
       "      <td>E</td>\n",
       "      <td>L</td>\n",
       "      <td>T</td>\n",
       "      <td>Q</td>\n",
       "      <td>T</td>\n",
       "      <td>T</td>\n",
       "      <td>S</td>\n",
       "      <td>S</td>\n",
       "      <td>...</td>\n",
       "      <td>G</td>\n",
       "      <td>G</td>\n",
       "      <td>G</td>\n",
       "      <td>T</td>\n",
       "      <td>-</td>\n",
       "      <td>-</td>\n",
       "      <td>-</td>\n",
       "      <td>-</td>\n",
       "      <td>-</td>\n",
       "      <td>-</td>\n",
       "    </tr>\n",
       "    <tr>\n",
       "      <th>4</th>\n",
       "      <td>D</td>\n",
       "      <td>I</td>\n",
       "      <td>V</td>\n",
       "      <td>L</td>\n",
       "      <td>T</td>\n",
       "      <td>Q</td>\n",
       "      <td>S</td>\n",
       "      <td>P</td>\n",
       "      <td>A</td>\n",
       "      <td>S</td>\n",
       "      <td>...</td>\n",
       "      <td>G</td>\n",
       "      <td>G</td>\n",
       "      <td>G</td>\n",
       "      <td>T</td>\n",
       "      <td>K</td>\n",
       "      <td>L</td>\n",
       "      <td>E</td>\n",
       "      <td>I</td>\n",
       "      <td>K</td>\n",
       "      <td>-</td>\n",
       "    </tr>\n",
       "  </tbody>\n",
       "</table>\n",
       "<p>5 rows × 155 columns</p>\n",
       "</div>"
      ],
      "text/plain": [
       "   1  2  3  4  5  6  7  8  9 10  ... 140 141 142 143 144 145 146 147 148 149\n",
       "0  D  I  V  M  T  Q  S  Q  K  F  ...   G   A   G   T   K   L   E   L   K   R\n",
       "1  D  I  V  L  T  Q  S  P  A  I  ...   G   G   G   T   K   L   E   I   K   R\n",
       "2  -  I  E  L  T  Q  S  P  S  S  ...   G   G   G   T   K   L   E   I   K   R\n",
       "3  D  I  E  L  T  Q  T  T  S  S  ...   G   G   G   T   -   -   -   -   -   -\n",
       "4  D  I  V  L  T  Q  S  P  A  S  ...   G   G   G   T   K   L   E   I   K   -\n",
       "\n",
       "[5 rows x 155 columns]"
      ]
     },
     "execution_count": 9,
     "metadata": {},
     "output_type": "execute_result"
    }
   ],
   "source": [
    "X_light.head()"
   ]
  },
  {
   "cell_type": "code",
   "execution_count": 10,
   "id": "20026dec-51fe-4845-8274-ad2ce1c24d1e",
   "metadata": {
    "execution": {
     "iopub.execute_input": "2022-03-01T15:43:06.240936Z",
     "iopub.status.busy": "2022-03-01T15:43:06.240720Z",
     "iopub.status.idle": "2022-03-01T15:43:06.269839Z",
     "shell.execute_reply": "2022-03-01T15:43:06.269120Z"
    },
    "papermill": {
     "duration": 0.054134,
     "end_time": "2022-03-01T15:43:06.271444",
     "exception": false,
     "start_time": "2022-03-01T15:43:06.217310",
     "status": "completed"
    },
    "tags": []
   },
   "outputs": [
    {
     "data": {
      "text/html": [
       "<div>\n",
       "<style scoped>\n",
       "    .dataframe tbody tr th:only-of-type {\n",
       "        vertical-align: middle;\n",
       "    }\n",
       "\n",
       "    .dataframe tbody tr th {\n",
       "        vertical-align: top;\n",
       "    }\n",
       "\n",
       "    .dataframe thead th {\n",
       "        text-align: right;\n",
       "    }\n",
       "</style>\n",
       "<table border=\"1\" class=\"dataframe\">\n",
       "  <thead>\n",
       "    <tr style=\"text-align: right;\">\n",
       "      <th></th>\n",
       "      <th>1</th>\n",
       "      <th>2</th>\n",
       "      <th>3</th>\n",
       "      <th>4</th>\n",
       "      <th>5</th>\n",
       "      <th>6</th>\n",
       "      <th>7</th>\n",
       "      <th>8</th>\n",
       "      <th>9</th>\n",
       "      <th>10</th>\n",
       "      <th>...</th>\n",
       "      <th>140</th>\n",
       "      <th>141</th>\n",
       "      <th>142</th>\n",
       "      <th>143</th>\n",
       "      <th>144</th>\n",
       "      <th>145</th>\n",
       "      <th>146</th>\n",
       "      <th>147</th>\n",
       "      <th>148</th>\n",
       "      <th>149</th>\n",
       "    </tr>\n",
       "  </thead>\n",
       "  <tbody>\n",
       "    <tr>\n",
       "      <th>0</th>\n",
       "      <td>82.1</td>\n",
       "      <td>6.0</td>\n",
       "      <td>58.1</td>\n",
       "      <td>4.6</td>\n",
       "      <td>46.3</td>\n",
       "      <td>4.0</td>\n",
       "      <td>70.0</td>\n",
       "      <td>51.8</td>\n",
       "      <td>56.7</td>\n",
       "      <td>41.9</td>\n",
       "      <td>...</td>\n",
       "      <td>1.5</td>\n",
       "      <td>43.9</td>\n",
       "      <td>14.6</td>\n",
       "      <td>1.0</td>\n",
       "      <td>39.2</td>\n",
       "      <td>3.4</td>\n",
       "      <td>9.0</td>\n",
       "      <td>26.7</td>\n",
       "      <td>55.3</td>\n",
       "      <td>29.9</td>\n",
       "    </tr>\n",
       "    <tr>\n",
       "      <th>1</th>\n",
       "      <td>73.7</td>\n",
       "      <td>2.1</td>\n",
       "      <td>56.3</td>\n",
       "      <td>7.6</td>\n",
       "      <td>54.9</td>\n",
       "      <td>9.3</td>\n",
       "      <td>50.0</td>\n",
       "      <td>38.1</td>\n",
       "      <td>64.1</td>\n",
       "      <td>38.6</td>\n",
       "      <td>...</td>\n",
       "      <td>3.5</td>\n",
       "      <td>82.4</td>\n",
       "      <td>6.1</td>\n",
       "      <td>0.0</td>\n",
       "      <td>44.5</td>\n",
       "      <td>2.4</td>\n",
       "      <td>2.9</td>\n",
       "      <td>15.8</td>\n",
       "      <td>47.7</td>\n",
       "      <td>26.2</td>\n",
       "    </tr>\n",
       "    <tr>\n",
       "      <th>2</th>\n",
       "      <td>NaN</td>\n",
       "      <td>27.3</td>\n",
       "      <td>64.2</td>\n",
       "      <td>10.8</td>\n",
       "      <td>64.3</td>\n",
       "      <td>12.8</td>\n",
       "      <td>49.7</td>\n",
       "      <td>33.6</td>\n",
       "      <td>63.7</td>\n",
       "      <td>60.7</td>\n",
       "      <td>...</td>\n",
       "      <td>3.9</td>\n",
       "      <td>58.6</td>\n",
       "      <td>2.2</td>\n",
       "      <td>0.9</td>\n",
       "      <td>50.2</td>\n",
       "      <td>6.3</td>\n",
       "      <td>19.2</td>\n",
       "      <td>0.0</td>\n",
       "      <td>41.4</td>\n",
       "      <td>28.1</td>\n",
       "    </tr>\n",
       "    <tr>\n",
       "      <th>3</th>\n",
       "      <td>88.6</td>\n",
       "      <td>2.2</td>\n",
       "      <td>65.7</td>\n",
       "      <td>5.5</td>\n",
       "      <td>44.0</td>\n",
       "      <td>7.8</td>\n",
       "      <td>43.5</td>\n",
       "      <td>49.8</td>\n",
       "      <td>75.7</td>\n",
       "      <td>64.3</td>\n",
       "      <td>...</td>\n",
       "      <td>4.6</td>\n",
       "      <td>80.7</td>\n",
       "      <td>8.5</td>\n",
       "      <td>1.5</td>\n",
       "      <td>NaN</td>\n",
       "      <td>NaN</td>\n",
       "      <td>NaN</td>\n",
       "      <td>NaN</td>\n",
       "      <td>NaN</td>\n",
       "      <td>NaN</td>\n",
       "    </tr>\n",
       "    <tr>\n",
       "      <th>4</th>\n",
       "      <td>74.1</td>\n",
       "      <td>22.6</td>\n",
       "      <td>58.7</td>\n",
       "      <td>8.4</td>\n",
       "      <td>67.2</td>\n",
       "      <td>11.9</td>\n",
       "      <td>47.3</td>\n",
       "      <td>40.3</td>\n",
       "      <td>76.3</td>\n",
       "      <td>52.7</td>\n",
       "      <td>...</td>\n",
       "      <td>3.1</td>\n",
       "      <td>83.5</td>\n",
       "      <td>16.2</td>\n",
       "      <td>3.8</td>\n",
       "      <td>45.1</td>\n",
       "      <td>7.1</td>\n",
       "      <td>37.3</td>\n",
       "      <td>61.3</td>\n",
       "      <td>77.0</td>\n",
       "      <td>NaN</td>\n",
       "    </tr>\n",
       "  </tbody>\n",
       "</table>\n",
       "<p>5 rows × 155 columns</p>\n",
       "</div>"
      ],
      "text/plain": [
       "      1     2     3     4     5     6     7     8     9    10  ...  140   141  \\\n",
       "0  82.1   6.0  58.1   4.6  46.3   4.0  70.0  51.8  56.7  41.9  ...  1.5  43.9   \n",
       "1  73.7   2.1  56.3   7.6  54.9   9.3  50.0  38.1  64.1  38.6  ...  3.5  82.4   \n",
       "2   NaN  27.3  64.2  10.8  64.3  12.8  49.7  33.6  63.7  60.7  ...  3.9  58.6   \n",
       "3  88.6   2.2  65.7   5.5  44.0   7.8  43.5  49.8  75.7  64.3  ...  4.6  80.7   \n",
       "4  74.1  22.6  58.7   8.4  67.2  11.9  47.3  40.3  76.3  52.7  ...  3.1  83.5   \n",
       "\n",
       "    142  143   144  145   146   147   148   149  \n",
       "0  14.6  1.0  39.2  3.4   9.0  26.7  55.3  29.9  \n",
       "1   6.1  0.0  44.5  2.4   2.9  15.8  47.7  26.2  \n",
       "2   2.2  0.9  50.2  6.3  19.2   0.0  41.4  28.1  \n",
       "3   8.5  1.5   NaN  NaN   NaN   NaN   NaN   NaN  \n",
       "4  16.2  3.8  45.1  7.1  37.3  61.3  77.0   NaN  \n",
       "\n",
       "[5 rows x 155 columns]"
      ]
     },
     "execution_count": 10,
     "metadata": {},
     "output_type": "execute_result"
    }
   ],
   "source": [
    "Y_light.head()"
   ]
  },
  {
   "cell_type": "code",
   "execution_count": 11,
   "id": "551588b7-4c35-4ef8-84ca-c58d546f8735",
   "metadata": {
    "execution": {
     "iopub.execute_input": "2022-03-01T15:43:06.320219Z",
     "iopub.status.busy": "2022-03-01T15:43:06.319997Z",
     "iopub.status.idle": "2022-03-01T15:43:06.327040Z",
     "shell.execute_reply": "2022-03-01T15:43:06.326395Z"
    },
    "papermill": {
     "duration": 0.033688,
     "end_time": "2022-03-01T15:43:06.328764",
     "exception": false,
     "start_time": "2022-03-01T15:43:06.295076",
     "status": "completed"
    },
    "tags": []
   },
   "outputs": [
    {
     "data": {
      "text/plain": [
       "sequence_id\n",
       "12E8:L     1\n",
       "15C8:L     1\n",
       "1A0Q:L     1\n",
       "1A14:L     1\n",
       "1A2Y:L     1\n",
       "          ..\n",
       "7RNJ:L    41\n",
       "7RSN:L    41\n",
       "7RSO:L     1\n",
       "7RTH:L     1\n",
       "7RW2:L     1\n",
       "Name: cluster, Length: 4236, dtype: int64"
      ]
     },
     "execution_count": 11,
     "metadata": {},
     "output_type": "execute_result"
    }
   ],
   "source": [
    "cluster_series = clusters_df['cluster'].copy()\n",
    "cluster_series.index = clusters_df['sequence_id']\n",
    "cluster_series"
   ]
  },
  {
   "cell_type": "code",
   "execution_count": 12,
   "id": "747944b6-7e75-4868-ba8b-71cba23d676c",
   "metadata": {
    "execution": {
     "iopub.execute_input": "2022-03-01T15:43:06.377697Z",
     "iopub.status.busy": "2022-03-01T15:43:06.377480Z",
     "iopub.status.idle": "2022-03-01T15:43:06.382089Z",
     "shell.execute_reply": "2022-03-01T15:43:06.381444Z"
    },
    "papermill": {
     "duration": 0.030872,
     "end_time": "2022-03-01T15:43:06.383783",
     "exception": false,
     "start_time": "2022-03-01T15:43:06.352911",
     "status": "completed"
    },
    "tags": []
   },
   "outputs": [],
   "source": [
    "def avg_deviations(actual, predictions):\n",
    "    actual = actual.fillna(0)\n",
    "    predictions = predictions.fillna(0) \n",
    "    minus = actual.subtract(predictions)\n",
    "    total = actual.count(axis=1)\n",
    "    deviations = minus.abs().sum(axis=1) / total\n",
    "    return deviations"
   ]
  },
  {
   "cell_type": "code",
   "execution_count": 13,
   "id": "bed10e72-ec23-42f8-9910-de536414b1a7",
   "metadata": {
    "execution": {
     "iopub.execute_input": "2022-03-01T15:43:06.432105Z",
     "iopub.status.busy": "2022-03-01T15:43:06.431890Z",
     "iopub.status.idle": "2022-03-01T15:43:06.436810Z",
     "shell.execute_reply": "2022-03-01T15:43:06.436056Z"
    },
    "papermill": {
     "duration": 0.030898,
     "end_time": "2022-03-01T15:43:06.438490",
     "exception": false,
     "start_time": "2022-03-01T15:43:06.407592",
     "status": "completed"
    },
    "tags": []
   },
   "outputs": [
    {
     "data": {
      "text/plain": [
       "((4236, 155), (4236, 155), (4236,))"
      ]
     },
     "execution_count": 13,
     "metadata": {},
     "output_type": "execute_result"
    }
   ],
   "source": [
    "X_light.shape, Y_light.shape, cluster_series.shape"
   ]
  },
  {
   "cell_type": "code",
   "execution_count": 14,
   "id": "811e931f-c54d-4ed1-8fe7-f9278514ef6d",
   "metadata": {
    "execution": {
     "iopub.execute_input": "2022-03-01T15:43:06.488244Z",
     "iopub.status.busy": "2022-03-01T15:43:06.488012Z",
     "iopub.status.idle": "2022-03-01T15:44:43.403653Z",
     "shell.execute_reply": "2022-03-01T15:44:43.402577Z"
    },
    "papermill": {
     "duration": 96.94293,
     "end_time": "2022-03-01T15:44:43.405955",
     "exception": false,
     "start_time": "2022-03-01T15:43:06.463025",
     "status": "completed"
    },
    "tags": []
   },
   "outputs": [
    {
     "name": "stdout",
     "output_type": "stream",
     "text": [
      "submitting...\n"
     ]
    },
    {
     "name": "stdout",
     "output_type": "stream",
     "text": [
      "waiting for results...\n"
     ]
    }
   ],
   "source": [
    "def predict(x_train, y_train, x_valid, y_valid, model):\n",
    "    model = model()\n",
    "    #print('fitting...')\n",
    "    model.fit(x_train, y_train)\n",
    "    #print('predicting...')\n",
    "    predicts = model.predict(x_valid)\n",
    "    #print('validating...')\n",
    "    return avg_deviations(y_valid, predicts).mean()\n",
    "\n",
    "results = []\n",
    "splitter = LeaveOneGroupOut()\n",
    "split = splitter.split(X_light, Y_light, groups=cluster_series)\n",
    "\n",
    "with concurrent.futures.ThreadPoolExecutor(max_workers=8) as executor:\n",
    "    print('submitting...')\n",
    "    futures = []\n",
    "    for train_is, valid_is in split:\n",
    "        x_train, y_train = X_light.iloc[train_is, :], Y_light.iloc[train_is, :]\n",
    "        x_valid, y_valid = X_light.iloc[valid_is, :], Y_light.iloc[valid_is, :]\n",
    "\n",
    "        for model_name, model in models:\n",
    "            future = executor.submit(\n",
    "                predict, \n",
    "                x_train=x_train,\n",
    "                y_train=y_train,\n",
    "                x_valid=x_valid,\n",
    "                y_valid=y_valid,\n",
    "                model=model\n",
    "            )\n",
    "            futures.append(future)\n",
    "            \n",
    "        if len(futures) > 10:\n",
    "            # FIXME\n",
    "            # FIXME\n",
    "            # FIXME\n",
    "            # FIXME\n",
    "            # FIXME\n",
    "            # FIXME\n",
    "            # FIXME\n",
    "            # FIXME\n",
    "            # FIXME\n",
    "            break\n",
    "            \n",
    "    print('waiting for results...')     \n",
    "    scores = []\n",
    "    for future in concurrent.futures.as_completed(futures):\n",
    "        scores.append(future.result())\n",
    "    error = np.mean(scores)\n",
    "\n",
    "    for score in scores:\n",
    "        results.append((DISTANCE, error, score, model_name))"
   ]
  },
  {
   "cell_type": "code",
   "execution_count": 15,
   "id": "3fe5d6bc-e57f-4907-a3f6-505f35096f83",
   "metadata": {
    "execution": {
     "iopub.execute_input": "2022-03-01T15:44:43.469075Z",
     "iopub.status.busy": "2022-03-01T15:44:43.468395Z",
     "iopub.status.idle": "2022-03-01T15:44:43.487838Z",
     "shell.execute_reply": "2022-03-01T15:44:43.487158Z"
    },
    "papermill": {
     "duration": 0.049669,
     "end_time": "2022-03-01T15:44:43.489496",
     "exception": false,
     "start_time": "2022-03-01T15:44:43.439827",
     "status": "completed"
    },
    "tags": []
   },
   "outputs": [
    {
     "data": {
      "text/html": [
       "<div>\n",
       "<style scoped>\n",
       "    .dataframe tbody tr th:only-of-type {\n",
       "        vertical-align: middle;\n",
       "    }\n",
       "\n",
       "    .dataframe tbody tr th {\n",
       "        vertical-align: top;\n",
       "    }\n",
       "\n",
       "    .dataframe thead th {\n",
       "        text-align: right;\n",
       "    }\n",
       "</style>\n",
       "<table border=\"1\" class=\"dataframe\">\n",
       "  <thead>\n",
       "    <tr style=\"text-align: right;\">\n",
       "      <th></th>\n",
       "      <th>number_of_clusters</th>\n",
       "      <th>distance</th>\n",
       "      <th>similarity</th>\n",
       "      <th>model</th>\n",
       "      <th>mean_error</th>\n",
       "      <th>errors</th>\n",
       "    </tr>\n",
       "  </thead>\n",
       "  <tbody>\n",
       "    <tr>\n",
       "      <th>0</th>\n",
       "      <td>421</td>\n",
       "      <td>0.18</td>\n",
       "      <td>0.82</td>\n",
       "      <td>median_for_sameres_position</td>\n",
       "      <td>6.693386</td>\n",
       "      <td>11.664080</td>\n",
       "    </tr>\n",
       "    <tr>\n",
       "      <th>1</th>\n",
       "      <td>421</td>\n",
       "      <td>0.18</td>\n",
       "      <td>0.82</td>\n",
       "      <td>median_for_sameres_position</td>\n",
       "      <td>6.693386</td>\n",
       "      <td>6.430699</td>\n",
       "    </tr>\n",
       "    <tr>\n",
       "      <th>2</th>\n",
       "      <td>421</td>\n",
       "      <td>0.18</td>\n",
       "      <td>0.82</td>\n",
       "      <td>median_for_sameres_position</td>\n",
       "      <td>6.693386</td>\n",
       "      <td>4.640177</td>\n",
       "    </tr>\n",
       "    <tr>\n",
       "      <th>3</th>\n",
       "      <td>421</td>\n",
       "      <td>0.18</td>\n",
       "      <td>0.82</td>\n",
       "      <td>median_for_sameres_position</td>\n",
       "      <td>6.693386</td>\n",
       "      <td>5.017423</td>\n",
       "    </tr>\n",
       "    <tr>\n",
       "      <th>4</th>\n",
       "      <td>421</td>\n",
       "      <td>0.18</td>\n",
       "      <td>0.82</td>\n",
       "      <td>median_for_sameres_position</td>\n",
       "      <td>6.693386</td>\n",
       "      <td>12.813435</td>\n",
       "    </tr>\n",
       "    <tr>\n",
       "      <th>5</th>\n",
       "      <td>421</td>\n",
       "      <td>0.18</td>\n",
       "      <td>0.82</td>\n",
       "      <td>median_for_sameres_position</td>\n",
       "      <td>6.693386</td>\n",
       "      <td>7.387823</td>\n",
       "    </tr>\n",
       "    <tr>\n",
       "      <th>6</th>\n",
       "      <td>421</td>\n",
       "      <td>0.18</td>\n",
       "      <td>0.82</td>\n",
       "      <td>median_for_sameres_position</td>\n",
       "      <td>6.693386</td>\n",
       "      <td>6.008119</td>\n",
       "    </tr>\n",
       "    <tr>\n",
       "      <th>7</th>\n",
       "      <td>421</td>\n",
       "      <td>0.18</td>\n",
       "      <td>0.82</td>\n",
       "      <td>median_for_sameres_position</td>\n",
       "      <td>6.693386</td>\n",
       "      <td>5.791342</td>\n",
       "    </tr>\n",
       "    <tr>\n",
       "      <th>8</th>\n",
       "      <td>421</td>\n",
       "      <td>0.18</td>\n",
       "      <td>0.82</td>\n",
       "      <td>median_for_sameres_position</td>\n",
       "      <td>6.693386</td>\n",
       "      <td>5.892177</td>\n",
       "    </tr>\n",
       "    <tr>\n",
       "      <th>9</th>\n",
       "      <td>421</td>\n",
       "      <td>0.18</td>\n",
       "      <td>0.82</td>\n",
       "      <td>median_for_sameres_position</td>\n",
       "      <td>6.693386</td>\n",
       "      <td>4.675270</td>\n",
       "    </tr>\n",
       "    <tr>\n",
       "      <th>10</th>\n",
       "      <td>421</td>\n",
       "      <td>0.18</td>\n",
       "      <td>0.82</td>\n",
       "      <td>median_for_sameres_position</td>\n",
       "      <td>6.693386</td>\n",
       "      <td>5.521977</td>\n",
       "    </tr>\n",
       "    <tr>\n",
       "      <th>11</th>\n",
       "      <td>421</td>\n",
       "      <td>0.18</td>\n",
       "      <td>0.82</td>\n",
       "      <td>median_for_sameres_position</td>\n",
       "      <td>6.693386</td>\n",
       "      <td>4.478105</td>\n",
       "    </tr>\n",
       "  </tbody>\n",
       "</table>\n",
       "</div>"
      ],
      "text/plain": [
       "    number_of_clusters  distance  similarity                        model  \\\n",
       "0                  421      0.18        0.82  median_for_sameres_position   \n",
       "1                  421      0.18        0.82  median_for_sameres_position   \n",
       "2                  421      0.18        0.82  median_for_sameres_position   \n",
       "3                  421      0.18        0.82  median_for_sameres_position   \n",
       "4                  421      0.18        0.82  median_for_sameres_position   \n",
       "5                  421      0.18        0.82  median_for_sameres_position   \n",
       "6                  421      0.18        0.82  median_for_sameres_position   \n",
       "7                  421      0.18        0.82  median_for_sameres_position   \n",
       "8                  421      0.18        0.82  median_for_sameres_position   \n",
       "9                  421      0.18        0.82  median_for_sameres_position   \n",
       "10                 421      0.18        0.82  median_for_sameres_position   \n",
       "11                 421      0.18        0.82  median_for_sameres_position   \n",
       "\n",
       "    mean_error     errors  \n",
       "0     6.693386  11.664080  \n",
       "1     6.693386   6.430699  \n",
       "2     6.693386   4.640177  \n",
       "3     6.693386   5.017423  \n",
       "4     6.693386  12.813435  \n",
       "5     6.693386   7.387823  \n",
       "6     6.693386   6.008119  \n",
       "7     6.693386   5.791342  \n",
       "8     6.693386   5.892177  \n",
       "9     6.693386   4.675270  \n",
       "10    6.693386   5.521977  \n",
       "11    6.693386   4.478105  "
      ]
     },
     "execution_count": 15,
     "metadata": {},
     "output_type": "execute_result"
    }
   ],
   "source": [
    "res_dict = defaultdict(list)\n",
    "clusters_max = cluster_series.max()\n",
    "for result in results:\n",
    "    res_dict['number_of_clusters'].append(clusters_max)\n",
    "    res_dict['distance'].append(result[0] / 100)\n",
    "    res_dict['similarity'].append(1-(result[0] / 100))\n",
    "    res_dict['model'].append(result[3])\n",
    "    res_dict['mean_error'].append(result[1])\n",
    "    res_dict['errors'].append(result[2])\n",
    "df = pd.DataFrame(res_dict)\n",
    "df"
   ]
  },
  {
   "cell_type": "code",
   "execution_count": 16,
   "id": "9bafc380-8063-444b-aef2-20c0205c062c",
   "metadata": {
    "execution": {
     "iopub.execute_input": "2022-03-01T15:44:43.545719Z",
     "iopub.status.busy": "2022-03-01T15:44:43.545320Z",
     "iopub.status.idle": "2022-03-01T15:44:43.559069Z",
     "shell.execute_reply": "2022-03-01T15:44:43.558521Z"
    },
    "papermill": {
     "duration": 0.044159,
     "end_time": "2022-03-01T15:44:43.560921",
     "exception": false,
     "start_time": "2022-03-01T15:44:43.516762",
     "status": "completed"
    },
    "tags": []
   },
   "outputs": [],
   "source": [
    "df.to_csv(OUTPUT_FILE)"
   ]
  },
  {
   "cell_type": "code",
   "execution_count": 17,
   "id": "cfe1aeaa-c927-444b-af92-26503458279e",
   "metadata": {
    "execution": {
     "iopub.execute_input": "2022-03-01T15:44:43.621134Z",
     "iopub.status.busy": "2022-03-01T15:44:43.620806Z",
     "iopub.status.idle": "2022-03-01T15:44:43.624603Z",
     "shell.execute_reply": "2022-03-01T15:44:43.623958Z"
    },
    "papermill": {
     "duration": 0.034789,
     "end_time": "2022-03-01T15:44:43.626637",
     "exception": false,
     "start_time": "2022-03-01T15:44:43.591848",
     "status": "completed"
    },
    "tags": []
   },
   "outputs": [],
   "source": [
    "# viz_df = dict(model=[], error=[])\n",
    "# for i, r in df.iterrows():\n",
    "#     for error in r['errors']:\n",
    "#         viz_df['model'].append(r['model'])\n",
    "#         viz_df['error'].append(error)\n",
    "# viz_df = pd.DataFrame(viz_df)\n",
    "# sns.set(rc={'figure.figsize': (8, 4)})\n",
    "# sns.violinplot(data=viz_df, x='model', y='error')"
   ]
  },
  {
   "cell_type": "code",
   "execution_count": null,
   "id": "19abcca1-0028-4a5a-bc54-8bbe190deba1",
   "metadata": {
    "papermill": {
     "duration": 0.027376,
     "end_time": "2022-03-01T15:44:43.680659",
     "exception": false,
     "start_time": "2022-03-01T15:44:43.653283",
     "status": "completed"
    },
    "tags": []
   },
   "outputs": [],
   "source": []
  }
 ],
 "metadata": {
  "kernelspec": {
   "display_name": "Python 3 (ipykernel)",
   "language": "python",
   "name": "python3"
  },
  "language_info": {
   "codemirror_mode": {
    "name": "ipython",
    "version": 3
   },
   "file_extension": ".py",
   "mimetype": "text/x-python",
   "name": "python",
   "nbconvert_exporter": "python",
   "pygments_lexer": "ipython3",
   "version": "3.8.12"
  },
  "papermill": {
   "default_parameters": {},
   "duration": 104.304331,
   "end_time": "2022-03-01T15:44:44.129423",
   "environment_variables": {},
   "exception": null,
   "input_path": "notebooks/processing/07_baseline_leave_group_out.ipynb",
   "output_path": "notebooks/processing/leave_group_out/sim82.ipynb",
   "parameters": {
    "INPUT_CLUSTER_FILE": "/SFS/user/wp/benor/test/proto-moto/data/csv/clustered_splits/sim82.csv",
    "OUTPUT_FILE": "/SFS/user/wp/benor/test/proto-moto/data/csv/leave_cluster_out/sim82.csv",
    "SIMILARITY": 82
   },
   "start_time": "2022-03-01T15:42:59.825092",
   "version": "2.3.4"
  }
 },
 "nbformat": 4,
 "nbformat_minor": 5
}