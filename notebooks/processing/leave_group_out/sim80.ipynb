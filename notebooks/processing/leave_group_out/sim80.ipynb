{
 "cells": [
  {
   "cell_type": "markdown",
   "id": "47ba35d4",
   "metadata": {
    "tags": [
     "papermill-error-cell-tag"
    ]
   },
   "source": [
    "<span style=\"color:red; font-family:Helvetica Neue, Helvetica, Arial, sans-serif; font-size:2em;\">An Exception was encountered at '<a href=\"#papermill-error-cell\">In [17]</a>'.</span>"
   ]
  },
  {
   "cell_type": "markdown",
   "id": "1cf93eb9-c946-4677-a711-8391c795df81",
   "metadata": {
    "papermill": {
     "duration": 0.032287,
     "end_time": "2022-03-11T13:34:56.270063",
     "exception": false,
     "start_time": "2022-03-11T13:34:56.237776",
     "status": "completed"
    },
    "tags": []
   },
   "source": [
    "# One-group-out baseline runs"
   ]
  },
  {
   "cell_type": "code",
   "execution_count": 1,
   "id": "737896fc-f3fd-4d89-a0bc-590436e2b294",
   "metadata": {
    "execution": {
     "iopub.execute_input": "2022-03-11T13:34:56.329948Z",
     "iopub.status.busy": "2022-03-11T13:34:56.329073Z",
     "iopub.status.idle": "2022-03-11T13:35:18.094062Z",
     "shell.execute_reply": "2022-03-11T13:35:18.093196Z"
    },
    "papermill": {
     "duration": 21.797428,
     "end_time": "2022-03-11T13:35:18.096352",
     "exception": false,
     "start_time": "2022-03-11T13:34:56.298924",
     "status": "completed"
    },
    "tags": []
   },
   "outputs": [],
   "source": [
    "import pandas as pd\n",
    "import numpy as np\n",
    "import seaborn as sns\n",
    "from collections import defaultdict\n",
    "from sklearn.model_selection import LeaveOneGroupOut\n",
    "import concurrent\n",
    "from sklearn.base import clone\n",
    "import bin.baseline_models as bm"
   ]
  },
  {
   "cell_type": "code",
   "execution_count": 2,
   "id": "388846d2-8b22-42ae-b31f-f98c2fdaa0c0",
   "metadata": {
    "execution": {
     "iopub.execute_input": "2022-03-11T13:35:18.163014Z",
     "iopub.status.busy": "2022-03-11T13:35:18.162731Z",
     "iopub.status.idle": "2022-03-11T13:35:18.166628Z",
     "shell.execute_reply": "2022-03-11T13:35:18.165936Z"
    },
    "papermill": {
     "duration": 0.036618,
     "end_time": "2022-03-11T13:35:18.168482",
     "exception": false,
     "start_time": "2022-03-11T13:35:18.131864",
     "status": "completed"
    },
    "tags": [
     "parameters"
    ]
   },
   "outputs": [],
   "source": [
    "# edit this value\n",
    "INPUT_CLUSTER_FILE = f'../../data/csv/clustered_splits/sim80.csv'\n",
    "OUTPUT_FILE = f'../../data/csv/leave_cluster_out/sim80.csv'\n",
    "SIMILARITY = 80"
   ]
  },
  {
   "cell_type": "code",
   "execution_count": 3,
   "id": "78220aea",
   "metadata": {
    "execution": {
     "iopub.execute_input": "2022-03-11T13:35:18.229508Z",
     "iopub.status.busy": "2022-03-11T13:35:18.229232Z",
     "iopub.status.idle": "2022-03-11T13:35:18.232876Z",
     "shell.execute_reply": "2022-03-11T13:35:18.232232Z"
    },
    "papermill": {
     "duration": 0.036476,
     "end_time": "2022-03-11T13:35:18.234575",
     "exception": false,
     "start_time": "2022-03-11T13:35:18.198099",
     "status": "completed"
    },
    "tags": [
     "injected-parameters"
    ]
   },
   "outputs": [],
   "source": [
    "# Parameters\n",
    "INPUT_CLUSTER_FILE = \"../../data/csv/clustered_splits/sim80.csv\"\n",
    "OUTPUT_FILE = \"../../data/csv/leave_cluster_out/sim80.csv\"\n",
    "SIMILARITY = 80\n"
   ]
  },
  {
   "cell_type": "code",
   "execution_count": 4,
   "id": "33792a23-de14-481e-b4a5-3ebadcb92633",
   "metadata": {
    "execution": {
     "iopub.execute_input": "2022-03-11T13:35:18.296424Z",
     "iopub.status.busy": "2022-03-11T13:35:18.296137Z",
     "iopub.status.idle": "2022-03-11T13:35:18.300009Z",
     "shell.execute_reply": "2022-03-11T13:35:18.299347Z"
    },
    "papermill": {
     "duration": 0.037042,
     "end_time": "2022-03-11T13:35:18.301784",
     "exception": false,
     "start_time": "2022-03-11T13:35:18.264742",
     "status": "completed"
    },
    "tags": []
   },
   "outputs": [],
   "source": [
    "DISTANCE = 100 - SIMILARITY\n",
    "EXPERIMENT_NAME = f'sim{SIMILARITY}'"
   ]
  },
  {
   "cell_type": "code",
   "execution_count": 5,
   "id": "787c9141-43f1-4c9d-8f44-2dd8f1826a12",
   "metadata": {
    "execution": {
     "iopub.execute_input": "2022-03-11T13:35:18.366044Z",
     "iopub.status.busy": "2022-03-11T13:35:18.365734Z",
     "iopub.status.idle": "2022-03-11T13:35:18.443676Z",
     "shell.execute_reply": "2022-03-11T13:35:18.443045Z"
    },
    "papermill": {
     "duration": 0.112701,
     "end_time": "2022-03-11T13:35:18.445683",
     "exception": false,
     "start_time": "2022-03-11T13:35:18.332982",
     "status": "completed"
    },
    "tags": []
   },
   "outputs": [
    {
     "data": {
      "text/html": [
       "<div>\n",
       "<style scoped>\n",
       "    .dataframe tbody tr th:only-of-type {\n",
       "        vertical-align: middle;\n",
       "    }\n",
       "\n",
       "    .dataframe tbody tr th {\n",
       "        vertical-align: top;\n",
       "    }\n",
       "\n",
       "    .dataframe thead th {\n",
       "        text-align: right;\n",
       "    }\n",
       "</style>\n",
       "<table border=\"1\" class=\"dataframe\">\n",
       "  <thead>\n",
       "    <tr style=\"text-align: right;\">\n",
       "      <th></th>\n",
       "      <th>sequence_id</th>\n",
       "      <th>cluster</th>\n",
       "    </tr>\n",
       "  </thead>\n",
       "  <tbody>\n",
       "    <tr>\n",
       "      <th>0</th>\n",
       "      <td>12E8:L</td>\n",
       "      <td>2</td>\n",
       "    </tr>\n",
       "    <tr>\n",
       "      <th>1</th>\n",
       "      <td>15C8:L</td>\n",
       "      <td>2</td>\n",
       "    </tr>\n",
       "    <tr>\n",
       "      <th>2</th>\n",
       "      <td>1A0Q:L</td>\n",
       "      <td>2</td>\n",
       "    </tr>\n",
       "    <tr>\n",
       "      <th>3</th>\n",
       "      <td>1A14:L</td>\n",
       "      <td>2</td>\n",
       "    </tr>\n",
       "    <tr>\n",
       "      <th>4</th>\n",
       "      <td>1A2Y:L</td>\n",
       "      <td>2</td>\n",
       "    </tr>\n",
       "  </tbody>\n",
       "</table>\n",
       "</div>"
      ],
      "text/plain": [
       "  sequence_id  cluster\n",
       "0      12E8:L        2\n",
       "1      15C8:L        2\n",
       "2      1A0Q:L        2\n",
       "3      1A14:L        2\n",
       "4      1A2Y:L        2"
      ]
     },
     "execution_count": 5,
     "metadata": {},
     "output_type": "execute_result"
    }
   ],
   "source": [
    "clusters_df = pd.read_csv(INPUT_CLUSTER_FILE, index_col=0)\n",
    "clusters_df.head()"
   ]
  },
  {
   "cell_type": "code",
   "execution_count": 6,
   "id": "d7779b75-c3d8-4aed-a125-577f21cf9fc4",
   "metadata": {
    "execution": {
     "iopub.execute_input": "2022-03-11T13:35:18.510404Z",
     "iopub.status.busy": "2022-03-11T13:35:18.510126Z",
     "iopub.status.idle": "2022-03-11T13:35:18.717997Z",
     "shell.execute_reply": "2022-03-11T13:35:18.717283Z"
    },
    "papermill": {
     "duration": 0.243052,
     "end_time": "2022-03-11T13:35:18.720291",
     "exception": false,
     "start_time": "2022-03-11T13:35:18.477239",
     "status": "completed"
    },
    "tags": []
   },
   "outputs": [],
   "source": [
    "models = [\n",
    "    ('knn_for_position', lambda: bm.KNNWholeSequence(n_neighbors=3)),\n",
    "    ('average_for_position', lambda: bm.AverageForResidueAtPosition()),\n",
    "    ('mean_for_sameres_position', lambda: bm.StatisticForSameResidueAtPosition(statistic='mean')),\n",
    "    ('median_for_sameres_position', lambda: bm.StatisticForSameResidueAtPosition(statistic='median')),  \n",
    "]\n",
    "X_light = pd.read_csv('../../data/csv/fasta_aho_L.csv')\n",
    "Y_light = pd.read_csv('../../data/csv/sasa_aligned_L.csv').rename(columns={'Unnamed: 0':'Id'})  "
   ]
  },
  {
   "cell_type": "code",
   "execution_count": 7,
   "id": "8fc93634-9668-4b80-9d42-56924e8f9bb3",
   "metadata": {
    "execution": {
     "iopub.execute_input": "2022-03-11T13:35:18.785533Z",
     "iopub.status.busy": "2022-03-11T13:35:18.785260Z",
     "iopub.status.idle": "2022-03-11T13:35:18.805469Z",
     "shell.execute_reply": "2022-03-11T13:35:18.804603Z"
    },
    "papermill": {
     "duration": 0.055206,
     "end_time": "2022-03-11T13:35:18.807453",
     "exception": false,
     "start_time": "2022-03-11T13:35:18.752247",
     "status": "completed"
    },
    "tags": []
   },
   "outputs": [
    {
     "name": "stdout",
     "output_type": "stream",
     "text": [
      "keys removed [4236]\n"
     ]
    }
   ],
   "source": [
    "# remove those sequences that do not have any cluster assigned\n",
    "keys_to_remove = X_light[~X_light['Id'].isin(clusters_df['sequence_id'])].index.to_list()\n",
    "X_light.drop(index=keys_to_remove, inplace=True)\n",
    "Y_light.drop(index=keys_to_remove, inplace=True)\n",
    "print(f'keys removed {keys_to_remove}')"
   ]
  },
  {
   "cell_type": "code",
   "execution_count": 8,
   "id": "bca9ec3b-0e9c-498b-9e40-0cf89b0e23fa",
   "metadata": {
    "execution": {
     "iopub.execute_input": "2022-03-11T13:35:18.876006Z",
     "iopub.status.busy": "2022-03-11T13:35:18.875469Z",
     "iopub.status.idle": "2022-03-11T13:35:18.891272Z",
     "shell.execute_reply": "2022-03-11T13:35:18.890231Z"
    },
    "papermill": {
     "duration": 0.053199,
     "end_time": "2022-03-11T13:35:18.893774",
     "exception": false,
     "start_time": "2022-03-11T13:35:18.840575",
     "status": "completed"
    },
    "tags": []
   },
   "outputs": [],
   "source": [
    "X_light.drop(columns='Id', inplace=True, errors='ignore')\n",
    "Y_light.drop(columns='Id', inplace=True, errors='ignore')"
   ]
  },
  {
   "cell_type": "code",
   "execution_count": 9,
   "id": "ade4cbf1-d924-4fe4-ab71-84e68c88319b",
   "metadata": {
    "execution": {
     "iopub.execute_input": "2022-03-11T13:35:18.960257Z",
     "iopub.status.busy": "2022-03-11T13:35:18.959979Z",
     "iopub.status.idle": "2022-03-11T13:35:18.983892Z",
     "shell.execute_reply": "2022-03-11T13:35:18.983155Z"
    },
    "papermill": {
     "duration": 0.059969,
     "end_time": "2022-03-11T13:35:18.986213",
     "exception": false,
     "start_time": "2022-03-11T13:35:18.926244",
     "status": "completed"
    },
    "tags": []
   },
   "outputs": [
    {
     "data": {
      "text/html": [
       "<div>\n",
       "<style scoped>\n",
       "    .dataframe tbody tr th:only-of-type {\n",
       "        vertical-align: middle;\n",
       "    }\n",
       "\n",
       "    .dataframe tbody tr th {\n",
       "        vertical-align: top;\n",
       "    }\n",
       "\n",
       "    .dataframe thead th {\n",
       "        text-align: right;\n",
       "    }\n",
       "</style>\n",
       "<table border=\"1\" class=\"dataframe\">\n",
       "  <thead>\n",
       "    <tr style=\"text-align: right;\">\n",
       "      <th></th>\n",
       "      <th>1</th>\n",
       "      <th>2</th>\n",
       "      <th>3</th>\n",
       "      <th>4</th>\n",
       "      <th>5</th>\n",
       "      <th>6</th>\n",
       "      <th>7</th>\n",
       "      <th>8</th>\n",
       "      <th>9</th>\n",
       "      <th>10</th>\n",
       "      <th>...</th>\n",
       "      <th>140</th>\n",
       "      <th>141</th>\n",
       "      <th>142</th>\n",
       "      <th>143</th>\n",
       "      <th>144</th>\n",
       "      <th>145</th>\n",
       "      <th>146</th>\n",
       "      <th>147</th>\n",
       "      <th>148</th>\n",
       "      <th>149</th>\n",
       "    </tr>\n",
       "  </thead>\n",
       "  <tbody>\n",
       "    <tr>\n",
       "      <th>0</th>\n",
       "      <td>D</td>\n",
       "      <td>I</td>\n",
       "      <td>V</td>\n",
       "      <td>M</td>\n",
       "      <td>T</td>\n",
       "      <td>Q</td>\n",
       "      <td>S</td>\n",
       "      <td>Q</td>\n",
       "      <td>K</td>\n",
       "      <td>F</td>\n",
       "      <td>...</td>\n",
       "      <td>G</td>\n",
       "      <td>A</td>\n",
       "      <td>G</td>\n",
       "      <td>T</td>\n",
       "      <td>K</td>\n",
       "      <td>L</td>\n",
       "      <td>E</td>\n",
       "      <td>L</td>\n",
       "      <td>K</td>\n",
       "      <td>R</td>\n",
       "    </tr>\n",
       "    <tr>\n",
       "      <th>1</th>\n",
       "      <td>D</td>\n",
       "      <td>I</td>\n",
       "      <td>V</td>\n",
       "      <td>L</td>\n",
       "      <td>T</td>\n",
       "      <td>Q</td>\n",
       "      <td>S</td>\n",
       "      <td>P</td>\n",
       "      <td>A</td>\n",
       "      <td>I</td>\n",
       "      <td>...</td>\n",
       "      <td>G</td>\n",
       "      <td>G</td>\n",
       "      <td>G</td>\n",
       "      <td>T</td>\n",
       "      <td>K</td>\n",
       "      <td>L</td>\n",
       "      <td>E</td>\n",
       "      <td>I</td>\n",
       "      <td>K</td>\n",
       "      <td>R</td>\n",
       "    </tr>\n",
       "    <tr>\n",
       "      <th>2</th>\n",
       "      <td>-</td>\n",
       "      <td>I</td>\n",
       "      <td>E</td>\n",
       "      <td>L</td>\n",
       "      <td>T</td>\n",
       "      <td>Q</td>\n",
       "      <td>S</td>\n",
       "      <td>P</td>\n",
       "      <td>S</td>\n",
       "      <td>S</td>\n",
       "      <td>...</td>\n",
       "      <td>G</td>\n",
       "      <td>G</td>\n",
       "      <td>G</td>\n",
       "      <td>T</td>\n",
       "      <td>K</td>\n",
       "      <td>L</td>\n",
       "      <td>E</td>\n",
       "      <td>I</td>\n",
       "      <td>K</td>\n",
       "      <td>R</td>\n",
       "    </tr>\n",
       "    <tr>\n",
       "      <th>3</th>\n",
       "      <td>D</td>\n",
       "      <td>I</td>\n",
       "      <td>E</td>\n",
       "      <td>L</td>\n",
       "      <td>T</td>\n",
       "      <td>Q</td>\n",
       "      <td>T</td>\n",
       "      <td>T</td>\n",
       "      <td>S</td>\n",
       "      <td>S</td>\n",
       "      <td>...</td>\n",
       "      <td>G</td>\n",
       "      <td>G</td>\n",
       "      <td>G</td>\n",
       "      <td>T</td>\n",
       "      <td>-</td>\n",
       "      <td>-</td>\n",
       "      <td>-</td>\n",
       "      <td>-</td>\n",
       "      <td>-</td>\n",
       "      <td>-</td>\n",
       "    </tr>\n",
       "    <tr>\n",
       "      <th>4</th>\n",
       "      <td>D</td>\n",
       "      <td>I</td>\n",
       "      <td>V</td>\n",
       "      <td>L</td>\n",
       "      <td>T</td>\n",
       "      <td>Q</td>\n",
       "      <td>S</td>\n",
       "      <td>P</td>\n",
       "      <td>A</td>\n",
       "      <td>S</td>\n",
       "      <td>...</td>\n",
       "      <td>G</td>\n",
       "      <td>G</td>\n",
       "      <td>G</td>\n",
       "      <td>T</td>\n",
       "      <td>K</td>\n",
       "      <td>L</td>\n",
       "      <td>E</td>\n",
       "      <td>I</td>\n",
       "      <td>K</td>\n",
       "      <td>-</td>\n",
       "    </tr>\n",
       "  </tbody>\n",
       "</table>\n",
       "<p>5 rows × 155 columns</p>\n",
       "</div>"
      ],
      "text/plain": [
       "   1  2  3  4  5  6  7  8  9 10  ... 140 141 142 143 144 145 146 147 148 149\n",
       "0  D  I  V  M  T  Q  S  Q  K  F  ...   G   A   G   T   K   L   E   L   K   R\n",
       "1  D  I  V  L  T  Q  S  P  A  I  ...   G   G   G   T   K   L   E   I   K   R\n",
       "2  -  I  E  L  T  Q  S  P  S  S  ...   G   G   G   T   K   L   E   I   K   R\n",
       "3  D  I  E  L  T  Q  T  T  S  S  ...   G   G   G   T   -   -   -   -   -   -\n",
       "4  D  I  V  L  T  Q  S  P  A  S  ...   G   G   G   T   K   L   E   I   K   -\n",
       "\n",
       "[5 rows x 155 columns]"
      ]
     },
     "execution_count": 9,
     "metadata": {},
     "output_type": "execute_result"
    }
   ],
   "source": [
    "X_light.head()"
   ]
  },
  {
   "cell_type": "code",
   "execution_count": 10,
   "id": "20026dec-51fe-4845-8274-ad2ce1c24d1e",
   "metadata": {
    "execution": {
     "iopub.execute_input": "2022-03-11T13:35:19.056450Z",
     "iopub.status.busy": "2022-03-11T13:35:19.056181Z",
     "iopub.status.idle": "2022-03-11T13:35:19.086650Z",
     "shell.execute_reply": "2022-03-11T13:35:19.085959Z"
    },
    "papermill": {
     "duration": 0.06789,
     "end_time": "2022-03-11T13:35:19.088419",
     "exception": false,
     "start_time": "2022-03-11T13:35:19.020529",
     "status": "completed"
    },
    "tags": []
   },
   "outputs": [
    {
     "data": {
      "text/html": [
       "<div>\n",
       "<style scoped>\n",
       "    .dataframe tbody tr th:only-of-type {\n",
       "        vertical-align: middle;\n",
       "    }\n",
       "\n",
       "    .dataframe tbody tr th {\n",
       "        vertical-align: top;\n",
       "    }\n",
       "\n",
       "    .dataframe thead th {\n",
       "        text-align: right;\n",
       "    }\n",
       "</style>\n",
       "<table border=\"1\" class=\"dataframe\">\n",
       "  <thead>\n",
       "    <tr style=\"text-align: right;\">\n",
       "      <th></th>\n",
       "      <th>1</th>\n",
       "      <th>2</th>\n",
       "      <th>3</th>\n",
       "      <th>4</th>\n",
       "      <th>5</th>\n",
       "      <th>6</th>\n",
       "      <th>7</th>\n",
       "      <th>8</th>\n",
       "      <th>9</th>\n",
       "      <th>10</th>\n",
       "      <th>...</th>\n",
       "      <th>140</th>\n",
       "      <th>141</th>\n",
       "      <th>142</th>\n",
       "      <th>143</th>\n",
       "      <th>144</th>\n",
       "      <th>145</th>\n",
       "      <th>146</th>\n",
       "      <th>147</th>\n",
       "      <th>148</th>\n",
       "      <th>149</th>\n",
       "    </tr>\n",
       "  </thead>\n",
       "  <tbody>\n",
       "    <tr>\n",
       "      <th>0</th>\n",
       "      <td>82.1</td>\n",
       "      <td>6.0</td>\n",
       "      <td>58.1</td>\n",
       "      <td>4.6</td>\n",
       "      <td>46.3</td>\n",
       "      <td>4.0</td>\n",
       "      <td>70.0</td>\n",
       "      <td>51.8</td>\n",
       "      <td>56.7</td>\n",
       "      <td>41.9</td>\n",
       "      <td>...</td>\n",
       "      <td>1.5</td>\n",
       "      <td>43.9</td>\n",
       "      <td>14.6</td>\n",
       "      <td>1.0</td>\n",
       "      <td>39.2</td>\n",
       "      <td>3.4</td>\n",
       "      <td>9.0</td>\n",
       "      <td>26.7</td>\n",
       "      <td>55.3</td>\n",
       "      <td>29.9</td>\n",
       "    </tr>\n",
       "    <tr>\n",
       "      <th>1</th>\n",
       "      <td>73.7</td>\n",
       "      <td>2.1</td>\n",
       "      <td>56.3</td>\n",
       "      <td>7.6</td>\n",
       "      <td>54.9</td>\n",
       "      <td>9.3</td>\n",
       "      <td>50.0</td>\n",
       "      <td>38.1</td>\n",
       "      <td>64.1</td>\n",
       "      <td>38.6</td>\n",
       "      <td>...</td>\n",
       "      <td>3.5</td>\n",
       "      <td>82.4</td>\n",
       "      <td>6.1</td>\n",
       "      <td>0.0</td>\n",
       "      <td>44.5</td>\n",
       "      <td>2.4</td>\n",
       "      <td>2.9</td>\n",
       "      <td>15.8</td>\n",
       "      <td>47.7</td>\n",
       "      <td>26.2</td>\n",
       "    </tr>\n",
       "    <tr>\n",
       "      <th>2</th>\n",
       "      <td>NaN</td>\n",
       "      <td>27.3</td>\n",
       "      <td>64.2</td>\n",
       "      <td>10.8</td>\n",
       "      <td>64.3</td>\n",
       "      <td>12.8</td>\n",
       "      <td>49.7</td>\n",
       "      <td>33.6</td>\n",
       "      <td>63.7</td>\n",
       "      <td>60.7</td>\n",
       "      <td>...</td>\n",
       "      <td>3.9</td>\n",
       "      <td>58.6</td>\n",
       "      <td>2.2</td>\n",
       "      <td>0.9</td>\n",
       "      <td>50.2</td>\n",
       "      <td>6.3</td>\n",
       "      <td>19.2</td>\n",
       "      <td>0.0</td>\n",
       "      <td>41.4</td>\n",
       "      <td>28.1</td>\n",
       "    </tr>\n",
       "    <tr>\n",
       "      <th>3</th>\n",
       "      <td>88.6</td>\n",
       "      <td>2.2</td>\n",
       "      <td>65.7</td>\n",
       "      <td>5.5</td>\n",
       "      <td>44.0</td>\n",
       "      <td>7.8</td>\n",
       "      <td>43.5</td>\n",
       "      <td>49.8</td>\n",
       "      <td>75.7</td>\n",
       "      <td>64.3</td>\n",
       "      <td>...</td>\n",
       "      <td>4.6</td>\n",
       "      <td>80.7</td>\n",
       "      <td>8.5</td>\n",
       "      <td>1.5</td>\n",
       "      <td>NaN</td>\n",
       "      <td>NaN</td>\n",
       "      <td>NaN</td>\n",
       "      <td>NaN</td>\n",
       "      <td>NaN</td>\n",
       "      <td>NaN</td>\n",
       "    </tr>\n",
       "    <tr>\n",
       "      <th>4</th>\n",
       "      <td>74.1</td>\n",
       "      <td>22.6</td>\n",
       "      <td>58.7</td>\n",
       "      <td>8.4</td>\n",
       "      <td>67.2</td>\n",
       "      <td>11.9</td>\n",
       "      <td>47.3</td>\n",
       "      <td>40.3</td>\n",
       "      <td>76.3</td>\n",
       "      <td>52.7</td>\n",
       "      <td>...</td>\n",
       "      <td>3.1</td>\n",
       "      <td>83.5</td>\n",
       "      <td>16.2</td>\n",
       "      <td>3.8</td>\n",
       "      <td>45.1</td>\n",
       "      <td>7.1</td>\n",
       "      <td>37.3</td>\n",
       "      <td>61.3</td>\n",
       "      <td>77.0</td>\n",
       "      <td>NaN</td>\n",
       "    </tr>\n",
       "  </tbody>\n",
       "</table>\n",
       "<p>5 rows × 155 columns</p>\n",
       "</div>"
      ],
      "text/plain": [
       "      1     2     3     4     5     6     7     8     9    10  ...  140   141  \\\n",
       "0  82.1   6.0  58.1   4.6  46.3   4.0  70.0  51.8  56.7  41.9  ...  1.5  43.9   \n",
       "1  73.7   2.1  56.3   7.6  54.9   9.3  50.0  38.1  64.1  38.6  ...  3.5  82.4   \n",
       "2   NaN  27.3  64.2  10.8  64.3  12.8  49.7  33.6  63.7  60.7  ...  3.9  58.6   \n",
       "3  88.6   2.2  65.7   5.5  44.0   7.8  43.5  49.8  75.7  64.3  ...  4.6  80.7   \n",
       "4  74.1  22.6  58.7   8.4  67.2  11.9  47.3  40.3  76.3  52.7  ...  3.1  83.5   \n",
       "\n",
       "    142  143   144  145   146   147   148   149  \n",
       "0  14.6  1.0  39.2  3.4   9.0  26.7  55.3  29.9  \n",
       "1   6.1  0.0  44.5  2.4   2.9  15.8  47.7  26.2  \n",
       "2   2.2  0.9  50.2  6.3  19.2   0.0  41.4  28.1  \n",
       "3   8.5  1.5   NaN  NaN   NaN   NaN   NaN   NaN  \n",
       "4  16.2  3.8  45.1  7.1  37.3  61.3  77.0   NaN  \n",
       "\n",
       "[5 rows x 155 columns]"
      ]
     },
     "execution_count": 10,
     "metadata": {},
     "output_type": "execute_result"
    }
   ],
   "source": [
    "Y_light.head()"
   ]
  },
  {
   "cell_type": "code",
   "execution_count": 11,
   "id": "551588b7-4c35-4ef8-84ca-c58d546f8735",
   "metadata": {
    "execution": {
     "iopub.execute_input": "2022-03-11T13:35:19.159433Z",
     "iopub.status.busy": "2022-03-11T13:35:19.159141Z",
     "iopub.status.idle": "2022-03-11T13:35:19.167588Z",
     "shell.execute_reply": "2022-03-11T13:35:19.166978Z"
    },
    "papermill": {
     "duration": 0.046939,
     "end_time": "2022-03-11T13:35:19.169443",
     "exception": false,
     "start_time": "2022-03-11T13:35:19.122504",
     "status": "completed"
    },
    "tags": []
   },
   "outputs": [
    {
     "data": {
      "text/plain": [
       "sequence_id\n",
       "12E8:L     2\n",
       "15C8:L     2\n",
       "1A0Q:L     2\n",
       "1A14:L     2\n",
       "1A2Y:L     2\n",
       "          ..\n",
       "7RNJ:L    82\n",
       "7RSN:L    82\n",
       "7RSO:L     2\n",
       "7RTH:L     2\n",
       "7RW2:L     2\n",
       "Name: cluster, Length: 4236, dtype: int64"
      ]
     },
     "execution_count": 11,
     "metadata": {},
     "output_type": "execute_result"
    }
   ],
   "source": [
    "cluster_series = clusters_df['cluster'].copy()\n",
    "cluster_series.index = clusters_df['sequence_id']\n",
    "cluster_series"
   ]
  },
  {
   "cell_type": "code",
   "execution_count": 12,
   "id": "747944b6-7e75-4868-ba8b-71cba23d676c",
   "metadata": {
    "execution": {
     "iopub.execute_input": "2022-03-11T13:35:19.243889Z",
     "iopub.status.busy": "2022-03-11T13:35:19.243189Z",
     "iopub.status.idle": "2022-03-11T13:35:19.248600Z",
     "shell.execute_reply": "2022-03-11T13:35:19.247779Z"
    },
    "papermill": {
     "duration": 0.045334,
     "end_time": "2022-03-11T13:35:19.250461",
     "exception": false,
     "start_time": "2022-03-11T13:35:19.205127",
     "status": "completed"
    },
    "tags": []
   },
   "outputs": [],
   "source": [
    "def avg_deviations(actual, predictions):\n",
    "    actual = actual.fillna(0)\n",
    "    predictions = predictions.fillna(0) \n",
    "    minus = actual.subtract(predictions)\n",
    "    total = actual.count(axis=1)\n",
    "    deviations = minus.abs().sum(axis=1) / total\n",
    "    return deviations"
   ]
  },
  {
   "cell_type": "code",
   "execution_count": 13,
   "id": "bed10e72-ec23-42f8-9910-de536414b1a7",
   "metadata": {
    "execution": {
     "iopub.execute_input": "2022-03-11T13:35:19.323595Z",
     "iopub.status.busy": "2022-03-11T13:35:19.322971Z",
     "iopub.status.idle": "2022-03-11T13:35:19.329100Z",
     "shell.execute_reply": "2022-03-11T13:35:19.328315Z"
    },
    "papermill": {
     "duration": 0.045361,
     "end_time": "2022-03-11T13:35:19.331051",
     "exception": false,
     "start_time": "2022-03-11T13:35:19.285690",
     "status": "completed"
    },
    "tags": []
   },
   "outputs": [
    {
     "data": {
      "text/plain": [
       "((4236, 155), (4236, 155), (4236,))"
      ]
     },
     "execution_count": 13,
     "metadata": {},
     "output_type": "execute_result"
    }
   ],
   "source": [
    "X_light.shape, Y_light.shape, cluster_series.shape"
   ]
  },
  {
   "cell_type": "code",
   "execution_count": 14,
   "id": "811e931f-c54d-4ed1-8fe7-f9278514ef6d",
   "metadata": {
    "execution": {
     "iopub.execute_input": "2022-03-11T13:35:19.404548Z",
     "iopub.status.busy": "2022-03-11T13:35:19.404054Z",
     "iopub.status.idle": "2022-03-11T14:59:51.163237Z",
     "shell.execute_reply": "2022-03-11T14:59:51.162044Z"
    },
    "papermill": {
     "duration": 5071.799824,
     "end_time": "2022-03-11T14:59:51.166839",
     "exception": false,
     "start_time": "2022-03-11T13:35:19.367015",
     "status": "completed"
    },
    "tags": []
   },
   "outputs": [],
   "source": [
    "def predict(x_train, y_train, x_valid, y_valid, model, model_name, split_index):\n",
    "    model = model()\n",
    "    #print('fitting...')\n",
    "    model.fit(x_train, y_train)\n",
    "    #print('predicting...')\n",
    "    predicts = model.predict(x_valid)\n",
    "    #print('validating...')\n",
    "    avg_deviation = avg_deviations(y_valid, predicts).mean()\n",
    "    return (DISTANCE, model_name, split_index, avg_deviation)\n",
    "\n",
    "results = []\n",
    "splitter = LeaveOneGroupOut()\n",
    "split = splitter.split(X_light, Y_light, groups=cluster_series)\n",
    "\n",
    "with concurrent.futures.ThreadPoolExecutor(max_workers=8) as executor:\n",
    "    futures = []\n",
    "    for split_index, (train_is, valid_is) in enumerate(split):\n",
    "        x_train, y_train = X_light.iloc[train_is, :], Y_light.iloc[train_is, :]\n",
    "        x_valid, y_valid = X_light.iloc[valid_is, :], Y_light.iloc[valid_is, :]\n",
    "\n",
    "        for model_name, model in models:\n",
    "            future = executor.submit(\n",
    "                predict, \n",
    "                x_train=x_train,\n",
    "                y_train=y_train,\n",
    "                x_valid=x_valid,\n",
    "                y_valid=y_valid,\n",
    "                model=model,\n",
    "                model_name=model_name,\n",
    "                split_index=split_index,\n",
    "            )\n",
    "            futures.append(future)         \n",
    "            \n",
    "    scores = []\n",
    "    for future in concurrent.futures.as_completed(futures):\n",
    "        scores.append(future.result())"
   ]
  },
  {
   "cell_type": "code",
   "execution_count": 15,
   "id": "3fe5d6bc-e57f-4907-a3f6-505f35096f83",
   "metadata": {
    "execution": {
     "iopub.execute_input": "2022-03-11T14:59:51.289295Z",
     "iopub.status.busy": "2022-03-11T14:59:51.288956Z",
     "iopub.status.idle": "2022-03-11T14:59:51.302687Z",
     "shell.execute_reply": "2022-03-11T14:59:51.301846Z"
    },
    "papermill": {
     "duration": 0.056503,
     "end_time": "2022-03-11T14:59:51.304635",
     "exception": false,
     "start_time": "2022-03-11T14:59:51.248132",
     "status": "completed"
    },
    "tags": []
   },
   "outputs": [
    {
     "data": {
      "text/html": [
       "<div>\n",
       "<style scoped>\n",
       "    .dataframe tbody tr th:only-of-type {\n",
       "        vertical-align: middle;\n",
       "    }\n",
       "\n",
       "    .dataframe tbody tr th {\n",
       "        vertical-align: top;\n",
       "    }\n",
       "\n",
       "    .dataframe thead th {\n",
       "        text-align: right;\n",
       "    }\n",
       "</style>\n",
       "<table border=\"1\" class=\"dataframe\">\n",
       "  <thead>\n",
       "    <tr style=\"text-align: right;\">\n",
       "      <th></th>\n",
       "    </tr>\n",
       "  </thead>\n",
       "  <tbody>\n",
       "  </tbody>\n",
       "</table>\n",
       "</div>"
      ],
      "text/plain": [
       "Empty DataFrame\n",
       "Columns: []\n",
       "Index: []"
      ]
     },
     "execution_count": 15,
     "metadata": {},
     "output_type": "execute_result"
    }
   ],
   "source": [
    "res_dict = defaultdict(list)\n",
    "clusters_max = cluster_series.max()\n",
    "for result in results:\n",
    "    res_dict['number_of_clusters'].append(clusters_max)\n",
    "    res_dict['distance'].append(result[0]/100)\n",
    "    res_dict['similarity'].append(1-(result[0]/100))\n",
    "    res_dict['model'].append(result[1])\n",
    "    res_dict['error'].append(result[2])\n",
    "    res_dict['split_index'].append(result[3])\n",
    "df = pd.DataFrame(res_dict)\n",
    "df"
   ]
  },
  {
   "cell_type": "code",
   "execution_count": 16,
   "id": "9bafc380-8063-444b-aef2-20c0205c062c",
   "metadata": {
    "execution": {
     "iopub.execute_input": "2022-03-11T14:59:51.383133Z",
     "iopub.status.busy": "2022-03-11T14:59:51.382821Z",
     "iopub.status.idle": "2022-03-11T14:59:51.490514Z",
     "shell.execute_reply": "2022-03-11T14:59:51.489654Z"
    },
    "papermill": {
     "duration": 0.148986,
     "end_time": "2022-03-11T14:59:51.492805",
     "exception": false,
     "start_time": "2022-03-11T14:59:51.343819",
     "status": "completed"
    },
    "tags": []
   },
   "outputs": [],
   "source": [
    "df.to_csv(OUTPUT_FILE)"
   ]
  },
  {
   "cell_type": "markdown",
   "id": "34560d46",
   "metadata": {
    "tags": [
     "papermill-error-cell-tag"
    ]
   },
   "source": [
    "<span id=\"papermill-error-cell\" style=\"color:red; font-family:Helvetica Neue, Helvetica, Arial, sans-serif; font-size:2em;\">Execution using papermill encountered an exception here and stopped:</span>"
   ]
  },
  {
   "cell_type": "code",
   "execution_count": 17,
   "id": "cfe1aeaa-c927-444b-af92-26503458279e",
   "metadata": {
    "execution": {
     "iopub.execute_input": "2022-03-11T14:59:51.568276Z",
     "iopub.status.busy": "2022-03-11T14:59:51.567965Z",
     "iopub.status.idle": "2022-03-11T14:59:52.362413Z",
     "shell.execute_reply": "2022-03-11T14:59:52.361546Z"
    },
    "papermill": {
     "duration": 0.833999,
     "end_time": "2022-03-11T14:59:52.363998",
     "exception": true,
     "start_time": "2022-03-11T14:59:51.529999",
     "status": "failed"
    },
    "tags": []
   },
   "outputs": [
    {
     "ename": "NameError",
     "evalue": "name 'viz_df' is not defined",
     "output_type": "error",
     "traceback": [
      "\u001b[0;31m---------------------------------------------------------------------------\u001b[0m",
      "\u001b[0;31mNameError\u001b[0m                                 Traceback (most recent call last)",
      "Input \u001b[0;32mIn [17]\u001b[0m, in \u001b[0;36m<module>\u001b[0;34m\u001b[0m\n\u001b[1;32m      1\u001b[0m sns\u001b[38;5;241m.\u001b[39mset(rc\u001b[38;5;241m=\u001b[39m{\u001b[38;5;124m'\u001b[39m\u001b[38;5;124mfigure.figsize\u001b[39m\u001b[38;5;124m'\u001b[39m: (\u001b[38;5;241m8\u001b[39m, \u001b[38;5;241m4\u001b[39m)})\n\u001b[0;32m----> 2\u001b[0m sns\u001b[38;5;241m.\u001b[39mviolinplot(data\u001b[38;5;241m=\u001b[39m\u001b[43mviz_df\u001b[49m, x\u001b[38;5;241m=\u001b[39m\u001b[38;5;124m'\u001b[39m\u001b[38;5;124mmodel\u001b[39m\u001b[38;5;124m'\u001b[39m, y\u001b[38;5;241m=\u001b[39m\u001b[38;5;124m'\u001b[39m\u001b[38;5;124merror\u001b[39m\u001b[38;5;124m'\u001b[39m)\n",
      "\u001b[0;31mNameError\u001b[0m: name 'viz_df' is not defined"
     ]
    }
   ],
   "source": [
    "sns.set(rc={'figure.figsize': (8, 4)})\n",
    "sns.violinplot(data=viz_df, x='model', y='error')"
   ]
  },
  {
   "cell_type": "code",
   "execution_count": null,
   "id": "19abcca1-0028-4a5a-bc54-8bbe190deba1",
   "metadata": {
    "papermill": {
     "duration": null,
     "end_time": null,
     "exception": null,
     "start_time": null,
     "status": "pending"
    },
    "tags": []
   },
   "outputs": [],
   "source": []
  }
 ],
 "metadata": {
  "kernelspec": {
   "display_name": "Python 3 (ipykernel)",
   "language": "python",
   "name": "python3"
  },
  "language_info": {
   "codemirror_mode": {
    "name": "ipython",
    "version": 3
   },
   "file_extension": ".py",
   "mimetype": "text/x-python",
   "name": "python",
   "nbconvert_exporter": "python",
   "pygments_lexer": "ipython3",
   "version": "3.8.12"
  },
  "papermill": {
   "default_parameters": {},
   "duration": 5121.620346,
   "end_time": "2022-03-11T14:59:52.936010",
   "environment_variables": {},
   "exception": true,
   "input_path": "notebooks/processing/07_baseline_leave_group_out.ipynb",
   "output_path": "notebooks/processing/leave_group_out/sim80.ipynb",
   "parameters": {
    "INPUT_CLUSTER_FILE": "../../data/csv/clustered_splits/sim80.csv",
    "OUTPUT_FILE": "../../data/csv/leave_cluster_out/sim80.csv",
    "SIMILARITY": 80
   },
   "start_time": "2022-03-11T13:34:31.315664",
   "version": "2.3.4"
  }
 },
 "nbformat": 4,
 "nbformat_minor": 5
}