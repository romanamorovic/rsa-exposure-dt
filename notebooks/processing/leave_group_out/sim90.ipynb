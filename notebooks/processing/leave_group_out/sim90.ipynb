{
 "cells": [
  {
   "cell_type": "markdown",
   "id": "1cf93eb9-c946-4677-a711-8391c795df81",
   "metadata": {
    "papermill": {
     "duration": 0.054552,
     "end_time": "2022-03-01T15:43:43.696986",
     "exception": false,
     "start_time": "2022-03-01T15:43:43.642434",
     "status": "completed"
    },
    "tags": []
   },
   "source": [
    "# One-group-out baseline runs"
   ]
  },
  {
   "cell_type": "code",
   "execution_count": 1,
   "id": "737896fc-f3fd-4d89-a0bc-590436e2b294",
   "metadata": {
    "execution": {
     "iopub.execute_input": "2022-03-01T15:43:43.788896Z",
     "iopub.status.busy": "2022-03-01T15:43:43.787881Z",
     "iopub.status.idle": "2022-03-01T15:44:04.496494Z",
     "shell.execute_reply": "2022-03-01T15:44:04.494558Z"
    },
    "papermill": {
     "duration": 20.760465,
     "end_time": "2022-03-01T15:44:04.501560",
     "exception": false,
     "start_time": "2022-03-01T15:43:43.741095",
     "status": "completed"
    },
    "tags": []
   },
   "outputs": [],
   "source": [
    "import pandas as pd\n",
    "import numpy as np\n",
    "import seaborn as sns\n",
    "from collections import defaultdict\n",
    "from sklearn.model_selection import LeaveOneGroupOut\n",
    "import concurrent\n",
    "from sklearn.base import clone\n",
    "import bin.baseline_models as bm"
   ]
  },
  {
   "cell_type": "code",
   "execution_count": 2,
   "id": "388846d2-8b22-42ae-b31f-f98c2fdaa0c0",
   "metadata": {
    "execution": {
     "iopub.execute_input": "2022-03-01T15:44:04.613699Z",
     "iopub.status.busy": "2022-03-01T15:44:04.613151Z",
     "iopub.status.idle": "2022-03-01T15:44:04.621056Z",
     "shell.execute_reply": "2022-03-01T15:44:04.619595Z"
    },
    "papermill": {
     "duration": 0.061952,
     "end_time": "2022-03-01T15:44:04.625792",
     "exception": false,
     "start_time": "2022-03-01T15:44:04.563840",
     "status": "completed"
    },
    "tags": [
     "parameters"
    ]
   },
   "outputs": [],
   "source": [
    "# edit this value\n",
    "INPUT_CLUSTER_FILE = f'../../data/csv/clustered_splits/sim80.csv'\n",
    "OUTPUT_FILE = f'../../data/csv/leave_cluster_out/sim80.csv'\n",
    "SIMILARITY = 80"
   ]
  },
  {
   "cell_type": "code",
   "execution_count": 3,
   "id": "d4b94f64",
   "metadata": {
    "execution": {
     "iopub.execute_input": "2022-03-01T15:44:04.726330Z",
     "iopub.status.busy": "2022-03-01T15:44:04.725818Z",
     "iopub.status.idle": "2022-03-01T15:44:04.733200Z",
     "shell.execute_reply": "2022-03-01T15:44:04.731755Z"
    },
    "papermill": {
     "duration": 0.059868,
     "end_time": "2022-03-01T15:44:04.737380",
     "exception": false,
     "start_time": "2022-03-01T15:44:04.677512",
     "status": "completed"
    },
    "tags": [
     "injected-parameters"
    ]
   },
   "outputs": [],
   "source": [
    "# Parameters\n",
    "INPUT_CLUSTER_FILE = (\n",
    "    \"/SFS/user/wp/benor/test/proto-moto/data/csv/clustered_splits/sim90.csv\"\n",
    ")\n",
    "OUTPUT_FILE = \"/SFS/user/wp/benor/test/proto-moto/data/csv/leave_cluster_out/sim90.csv\"\n",
    "SIMILARITY = 90\n"
   ]
  },
  {
   "cell_type": "code",
   "execution_count": 4,
   "id": "33792a23-de14-481e-b4a5-3ebadcb92633",
   "metadata": {
    "execution": {
     "iopub.execute_input": "2022-03-01T15:44:04.839471Z",
     "iopub.status.busy": "2022-03-01T15:44:04.838942Z",
     "iopub.status.idle": "2022-03-01T15:44:04.846182Z",
     "shell.execute_reply": "2022-03-01T15:44:04.844744Z"
    },
    "papermill": {
     "duration": 0.058507,
     "end_time": "2022-03-01T15:44:04.849372",
     "exception": false,
     "start_time": "2022-03-01T15:44:04.790865",
     "status": "completed"
    },
    "tags": []
   },
   "outputs": [],
   "source": [
    "DISTANCE = 100 - SIMILARITY\n",
    "EXPERIMENT_NAME = f'sim{SIMILARITY}'"
   ]
  },
  {
   "cell_type": "code",
   "execution_count": 5,
   "id": "787c9141-43f1-4c9d-8f44-2dd8f1826a12",
   "metadata": {
    "execution": {
     "iopub.execute_input": "2022-03-01T15:44:04.932823Z",
     "iopub.status.busy": "2022-03-01T15:44:04.932326Z",
     "iopub.status.idle": "2022-03-01T15:44:05.014383Z",
     "shell.execute_reply": "2022-03-01T15:44:05.013280Z"
    },
    "papermill": {
     "duration": 0.125616,
     "end_time": "2022-03-01T15:44:05.017292",
     "exception": false,
     "start_time": "2022-03-01T15:44:04.891676",
     "status": "completed"
    },
    "tags": []
   },
   "outputs": [
    {
     "data": {
      "text/html": [
       "<div>\n",
       "<style scoped>\n",
       "    .dataframe tbody tr th:only-of-type {\n",
       "        vertical-align: middle;\n",
       "    }\n",
       "\n",
       "    .dataframe tbody tr th {\n",
       "        vertical-align: top;\n",
       "    }\n",
       "\n",
       "    .dataframe thead th {\n",
       "        text-align: right;\n",
       "    }\n",
       "</style>\n",
       "<table border=\"1\" class=\"dataframe\">\n",
       "  <thead>\n",
       "    <tr style=\"text-align: right;\">\n",
       "      <th></th>\n",
       "      <th>sequence_id</th>\n",
       "      <th>cluster</th>\n",
       "    </tr>\n",
       "  </thead>\n",
       "  <tbody>\n",
       "    <tr>\n",
       "      <th>0</th>\n",
       "      <td>12E8:L</td>\n",
       "      <td>121</td>\n",
       "    </tr>\n",
       "    <tr>\n",
       "      <th>1</th>\n",
       "      <td>15C8:L</td>\n",
       "      <td>388</td>\n",
       "    </tr>\n",
       "    <tr>\n",
       "      <th>2</th>\n",
       "      <td>1A0Q:L</td>\n",
       "      <td>490</td>\n",
       "    </tr>\n",
       "    <tr>\n",
       "      <th>3</th>\n",
       "      <td>1A14:L</td>\n",
       "      <td>233</td>\n",
       "    </tr>\n",
       "    <tr>\n",
       "      <th>4</th>\n",
       "      <td>1A2Y:L</td>\n",
       "      <td>159</td>\n",
       "    </tr>\n",
       "  </tbody>\n",
       "</table>\n",
       "</div>"
      ],
      "text/plain": [
       "  sequence_id  cluster\n",
       "0      12E8:L      121\n",
       "1      15C8:L      388\n",
       "2      1A0Q:L      490\n",
       "3      1A14:L      233\n",
       "4      1A2Y:L      159"
      ]
     },
     "execution_count": 5,
     "metadata": {},
     "output_type": "execute_result"
    }
   ],
   "source": [
    "clusters_df = pd.read_csv(INPUT_CLUSTER_FILE, index_col=0)\n",
    "clusters_df.head()"
   ]
  },
  {
   "cell_type": "code",
   "execution_count": 6,
   "id": "d7779b75-c3d8-4aed-a125-577f21cf9fc4",
   "metadata": {
    "execution": {
     "iopub.execute_input": "2022-03-01T15:44:05.096582Z",
     "iopub.status.busy": "2022-03-01T15:44:05.096048Z",
     "iopub.status.idle": "2022-03-01T15:44:05.411598Z",
     "shell.execute_reply": "2022-03-01T15:44:05.410216Z"
    },
    "papermill": {
     "duration": 0.35817,
     "end_time": "2022-03-01T15:44:05.415661",
     "exception": false,
     "start_time": "2022-03-01T15:44:05.057491",
     "status": "completed"
    },
    "tags": []
   },
   "outputs": [],
   "source": [
    "models = [\n",
    "    ('knn_for_position', lambda: bm.KNNWholeSequence(n_neighbors=3)),\n",
    "    ('average_for_position', lambda: bm.AverageForResidueAtPosition()),\n",
    "    ('mean_for_sameres_position', lambda: bm.StatisticForSameResidueAtPosition(statistic='mean')),\n",
    "    ('median_for_sameres_position', lambda: bm.StatisticForSameResidueAtPosition(statistic='median')),  \n",
    "]\n",
    "X_light = pd.read_csv('../../data/csv/fasta_aho_L.csv')\n",
    "Y_light = pd.read_csv('../../data/csv/sasa_aligned_L.csv').rename(columns={'Unnamed: 0':'Id'})  "
   ]
  },
  {
   "cell_type": "code",
   "execution_count": 7,
   "id": "8fc93634-9668-4b80-9d42-56924e8f9bb3",
   "metadata": {
    "execution": {
     "iopub.execute_input": "2022-03-01T15:44:05.510005Z",
     "iopub.status.busy": "2022-03-01T15:44:05.509758Z",
     "iopub.status.idle": "2022-03-01T15:44:05.532707Z",
     "shell.execute_reply": "2022-03-01T15:44:05.531435Z"
    },
    "papermill": {
     "duration": 0.070962,
     "end_time": "2022-03-01T15:44:05.535893",
     "exception": false,
     "start_time": "2022-03-01T15:44:05.464931",
     "status": "completed"
    },
    "tags": []
   },
   "outputs": [
    {
     "name": "stdout",
     "output_type": "stream",
     "text": [
      "keys removed [4236]\n"
     ]
    }
   ],
   "source": [
    "# remove those sequences that do not have any cluster assigned\n",
    "keys_to_remove = X_light[~X_light['Id'].isin(clusters_df['sequence_id'])].index.to_list()\n",
    "X_light.drop(index=keys_to_remove, inplace=True)\n",
    "Y_light.drop(index=keys_to_remove, inplace=True)\n",
    "print(f'keys removed {keys_to_remove}')"
   ]
  },
  {
   "cell_type": "code",
   "execution_count": 8,
   "id": "bca9ec3b-0e9c-498b-9e40-0cf89b0e23fa",
   "metadata": {
    "execution": {
     "iopub.execute_input": "2022-03-01T15:44:05.625344Z",
     "iopub.status.busy": "2022-03-01T15:44:05.625081Z",
     "iopub.status.idle": "2022-03-01T15:44:05.641023Z",
     "shell.execute_reply": "2022-03-01T15:44:05.639706Z"
    },
    "papermill": {
     "duration": 0.062229,
     "end_time": "2022-03-01T15:44:05.643982",
     "exception": false,
     "start_time": "2022-03-01T15:44:05.581753",
     "status": "completed"
    },
    "tags": []
   },
   "outputs": [],
   "source": [
    "X_light.drop(columns='Id', inplace=True, errors='ignore')\n",
    "Y_light.drop(columns='Id', inplace=True, errors='ignore')"
   ]
  },
  {
   "cell_type": "code",
   "execution_count": 9,
   "id": "ade4cbf1-d924-4fe4-ab71-84e68c88319b",
   "metadata": {
    "execution": {
     "iopub.execute_input": "2022-03-01T15:44:05.723062Z",
     "iopub.status.busy": "2022-03-01T15:44:05.722827Z",
     "iopub.status.idle": "2022-03-01T15:44:05.749977Z",
     "shell.execute_reply": "2022-03-01T15:44:05.748827Z"
    },
    "papermill": {
     "duration": 0.06865,
     "end_time": "2022-03-01T15:44:05.752192",
     "exception": false,
     "start_time": "2022-03-01T15:44:05.683542",
     "status": "completed"
    },
    "tags": []
   },
   "outputs": [
    {
     "data": {
      "text/html": [
       "<div>\n",
       "<style scoped>\n",
       "    .dataframe tbody tr th:only-of-type {\n",
       "        vertical-align: middle;\n",
       "    }\n",
       "\n",
       "    .dataframe tbody tr th {\n",
       "        vertical-align: top;\n",
       "    }\n",
       "\n",
       "    .dataframe thead th {\n",
       "        text-align: right;\n",
       "    }\n",
       "</style>\n",
       "<table border=\"1\" class=\"dataframe\">\n",
       "  <thead>\n",
       "    <tr style=\"text-align: right;\">\n",
       "      <th></th>\n",
       "      <th>1</th>\n",
       "      <th>2</th>\n",
       "      <th>3</th>\n",
       "      <th>4</th>\n",
       "      <th>5</th>\n",
       "      <th>6</th>\n",
       "      <th>7</th>\n",
       "      <th>8</th>\n",
       "      <th>9</th>\n",
       "      <th>10</th>\n",
       "      <th>...</th>\n",
       "      <th>140</th>\n",
       "      <th>141</th>\n",
       "      <th>142</th>\n",
       "      <th>143</th>\n",
       "      <th>144</th>\n",
       "      <th>145</th>\n",
       "      <th>146</th>\n",
       "      <th>147</th>\n",
       "      <th>148</th>\n",
       "      <th>149</th>\n",
       "    </tr>\n",
       "  </thead>\n",
       "  <tbody>\n",
       "    <tr>\n",
       "      <th>0</th>\n",
       "      <td>D</td>\n",
       "      <td>I</td>\n",
       "      <td>V</td>\n",
       "      <td>M</td>\n",
       "      <td>T</td>\n",
       "      <td>Q</td>\n",
       "      <td>S</td>\n",
       "      <td>Q</td>\n",
       "      <td>K</td>\n",
       "      <td>F</td>\n",
       "      <td>...</td>\n",
       "      <td>G</td>\n",
       "      <td>A</td>\n",
       "      <td>G</td>\n",
       "      <td>T</td>\n",
       "      <td>K</td>\n",
       "      <td>L</td>\n",
       "      <td>E</td>\n",
       "      <td>L</td>\n",
       "      <td>K</td>\n",
       "      <td>R</td>\n",
       "    </tr>\n",
       "    <tr>\n",
       "      <th>1</th>\n",
       "      <td>D</td>\n",
       "      <td>I</td>\n",
       "      <td>V</td>\n",
       "      <td>L</td>\n",
       "      <td>T</td>\n",
       "      <td>Q</td>\n",
       "      <td>S</td>\n",
       "      <td>P</td>\n",
       "      <td>A</td>\n",
       "      <td>I</td>\n",
       "      <td>...</td>\n",
       "      <td>G</td>\n",
       "      <td>G</td>\n",
       "      <td>G</td>\n",
       "      <td>T</td>\n",
       "      <td>K</td>\n",
       "      <td>L</td>\n",
       "      <td>E</td>\n",
       "      <td>I</td>\n",
       "      <td>K</td>\n",
       "      <td>R</td>\n",
       "    </tr>\n",
       "    <tr>\n",
       "      <th>2</th>\n",
       "      <td>-</td>\n",
       "      <td>I</td>\n",
       "      <td>E</td>\n",
       "      <td>L</td>\n",
       "      <td>T</td>\n",
       "      <td>Q</td>\n",
       "      <td>S</td>\n",
       "      <td>P</td>\n",
       "      <td>S</td>\n",
       "      <td>S</td>\n",
       "      <td>...</td>\n",
       "      <td>G</td>\n",
       "      <td>G</td>\n",
       "      <td>G</td>\n",
       "      <td>T</td>\n",
       "      <td>K</td>\n",
       "      <td>L</td>\n",
       "      <td>E</td>\n",
       "      <td>I</td>\n",
       "      <td>K</td>\n",
       "      <td>R</td>\n",
       "    </tr>\n",
       "    <tr>\n",
       "      <th>3</th>\n",
       "      <td>D</td>\n",
       "      <td>I</td>\n",
       "      <td>E</td>\n",
       "      <td>L</td>\n",
       "      <td>T</td>\n",
       "      <td>Q</td>\n",
       "      <td>T</td>\n",
       "      <td>T</td>\n",
       "      <td>S</td>\n",
       "      <td>S</td>\n",
       "      <td>...</td>\n",
       "      <td>G</td>\n",
       "      <td>G</td>\n",
       "      <td>G</td>\n",
       "      <td>T</td>\n",
       "      <td>-</td>\n",
       "      <td>-</td>\n",
       "      <td>-</td>\n",
       "      <td>-</td>\n",
       "      <td>-</td>\n",
       "      <td>-</td>\n",
       "    </tr>\n",
       "    <tr>\n",
       "      <th>4</th>\n",
       "      <td>D</td>\n",
       "      <td>I</td>\n",
       "      <td>V</td>\n",
       "      <td>L</td>\n",
       "      <td>T</td>\n",
       "      <td>Q</td>\n",
       "      <td>S</td>\n",
       "      <td>P</td>\n",
       "      <td>A</td>\n",
       "      <td>S</td>\n",
       "      <td>...</td>\n",
       "      <td>G</td>\n",
       "      <td>G</td>\n",
       "      <td>G</td>\n",
       "      <td>T</td>\n",
       "      <td>K</td>\n",
       "      <td>L</td>\n",
       "      <td>E</td>\n",
       "      <td>I</td>\n",
       "      <td>K</td>\n",
       "      <td>-</td>\n",
       "    </tr>\n",
       "  </tbody>\n",
       "</table>\n",
       "<p>5 rows × 155 columns</p>\n",
       "</div>"
      ],
      "text/plain": [
       "   1  2  3  4  5  6  7  8  9 10  ... 140 141 142 143 144 145 146 147 148 149\n",
       "0  D  I  V  M  T  Q  S  Q  K  F  ...   G   A   G   T   K   L   E   L   K   R\n",
       "1  D  I  V  L  T  Q  S  P  A  I  ...   G   G   G   T   K   L   E   I   K   R\n",
       "2  -  I  E  L  T  Q  S  P  S  S  ...   G   G   G   T   K   L   E   I   K   R\n",
       "3  D  I  E  L  T  Q  T  T  S  S  ...   G   G   G   T   -   -   -   -   -   -\n",
       "4  D  I  V  L  T  Q  S  P  A  S  ...   G   G   G   T   K   L   E   I   K   -\n",
       "\n",
       "[5 rows x 155 columns]"
      ]
     },
     "execution_count": 9,
     "metadata": {},
     "output_type": "execute_result"
    }
   ],
   "source": [
    "X_light.head()"
   ]
  },
  {
   "cell_type": "code",
   "execution_count": 10,
   "id": "20026dec-51fe-4845-8274-ad2ce1c24d1e",
   "metadata": {
    "execution": {
     "iopub.execute_input": "2022-03-01T15:44:05.829309Z",
     "iopub.status.busy": "2022-03-01T15:44:05.829073Z",
     "iopub.status.idle": "2022-03-01T15:44:05.865709Z",
     "shell.execute_reply": "2022-03-01T15:44:05.864578Z"
    },
    "papermill": {
     "duration": 0.077783,
     "end_time": "2022-03-01T15:44:05.868263",
     "exception": false,
     "start_time": "2022-03-01T15:44:05.790480",
     "status": "completed"
    },
    "tags": []
   },
   "outputs": [
    {
     "data": {
      "text/html": [
       "<div>\n",
       "<style scoped>\n",
       "    .dataframe tbody tr th:only-of-type {\n",
       "        vertical-align: middle;\n",
       "    }\n",
       "\n",
       "    .dataframe tbody tr th {\n",
       "        vertical-align: top;\n",
       "    }\n",
       "\n",
       "    .dataframe thead th {\n",
       "        text-align: right;\n",
       "    }\n",
       "</style>\n",
       "<table border=\"1\" class=\"dataframe\">\n",
       "  <thead>\n",
       "    <tr style=\"text-align: right;\">\n",
       "      <th></th>\n",
       "      <th>1</th>\n",
       "      <th>2</th>\n",
       "      <th>3</th>\n",
       "      <th>4</th>\n",
       "      <th>5</th>\n",
       "      <th>6</th>\n",
       "      <th>7</th>\n",
       "      <th>8</th>\n",
       "      <th>9</th>\n",
       "      <th>10</th>\n",
       "      <th>...</th>\n",
       "      <th>140</th>\n",
       "      <th>141</th>\n",
       "      <th>142</th>\n",
       "      <th>143</th>\n",
       "      <th>144</th>\n",
       "      <th>145</th>\n",
       "      <th>146</th>\n",
       "      <th>147</th>\n",
       "      <th>148</th>\n",
       "      <th>149</th>\n",
       "    </tr>\n",
       "  </thead>\n",
       "  <tbody>\n",
       "    <tr>\n",
       "      <th>0</th>\n",
       "      <td>82.1</td>\n",
       "      <td>6.0</td>\n",
       "      <td>58.1</td>\n",
       "      <td>4.6</td>\n",
       "      <td>46.3</td>\n",
       "      <td>4.0</td>\n",
       "      <td>70.0</td>\n",
       "      <td>51.8</td>\n",
       "      <td>56.7</td>\n",
       "      <td>41.9</td>\n",
       "      <td>...</td>\n",
       "      <td>1.5</td>\n",
       "      <td>43.9</td>\n",
       "      <td>14.6</td>\n",
       "      <td>1.0</td>\n",
       "      <td>39.2</td>\n",
       "      <td>3.4</td>\n",
       "      <td>9.0</td>\n",
       "      <td>26.7</td>\n",
       "      <td>55.3</td>\n",
       "      <td>29.9</td>\n",
       "    </tr>\n",
       "    <tr>\n",
       "      <th>1</th>\n",
       "      <td>73.7</td>\n",
       "      <td>2.1</td>\n",
       "      <td>56.3</td>\n",
       "      <td>7.6</td>\n",
       "      <td>54.9</td>\n",
       "      <td>9.3</td>\n",
       "      <td>50.0</td>\n",
       "      <td>38.1</td>\n",
       "      <td>64.1</td>\n",
       "      <td>38.6</td>\n",
       "      <td>...</td>\n",
       "      <td>3.5</td>\n",
       "      <td>82.4</td>\n",
       "      <td>6.1</td>\n",
       "      <td>0.0</td>\n",
       "      <td>44.5</td>\n",
       "      <td>2.4</td>\n",
       "      <td>2.9</td>\n",
       "      <td>15.8</td>\n",
       "      <td>47.7</td>\n",
       "      <td>26.2</td>\n",
       "    </tr>\n",
       "    <tr>\n",
       "      <th>2</th>\n",
       "      <td>NaN</td>\n",
       "      <td>27.3</td>\n",
       "      <td>64.2</td>\n",
       "      <td>10.8</td>\n",
       "      <td>64.3</td>\n",
       "      <td>12.8</td>\n",
       "      <td>49.7</td>\n",
       "      <td>33.6</td>\n",
       "      <td>63.7</td>\n",
       "      <td>60.7</td>\n",
       "      <td>...</td>\n",
       "      <td>3.9</td>\n",
       "      <td>58.6</td>\n",
       "      <td>2.2</td>\n",
       "      <td>0.9</td>\n",
       "      <td>50.2</td>\n",
       "      <td>6.3</td>\n",
       "      <td>19.2</td>\n",
       "      <td>0.0</td>\n",
       "      <td>41.4</td>\n",
       "      <td>28.1</td>\n",
       "    </tr>\n",
       "    <tr>\n",
       "      <th>3</th>\n",
       "      <td>88.6</td>\n",
       "      <td>2.2</td>\n",
       "      <td>65.7</td>\n",
       "      <td>5.5</td>\n",
       "      <td>44.0</td>\n",
       "      <td>7.8</td>\n",
       "      <td>43.5</td>\n",
       "      <td>49.8</td>\n",
       "      <td>75.7</td>\n",
       "      <td>64.3</td>\n",
       "      <td>...</td>\n",
       "      <td>4.6</td>\n",
       "      <td>80.7</td>\n",
       "      <td>8.5</td>\n",
       "      <td>1.5</td>\n",
       "      <td>NaN</td>\n",
       "      <td>NaN</td>\n",
       "      <td>NaN</td>\n",
       "      <td>NaN</td>\n",
       "      <td>NaN</td>\n",
       "      <td>NaN</td>\n",
       "    </tr>\n",
       "    <tr>\n",
       "      <th>4</th>\n",
       "      <td>74.1</td>\n",
       "      <td>22.6</td>\n",
       "      <td>58.7</td>\n",
       "      <td>8.4</td>\n",
       "      <td>67.2</td>\n",
       "      <td>11.9</td>\n",
       "      <td>47.3</td>\n",
       "      <td>40.3</td>\n",
       "      <td>76.3</td>\n",
       "      <td>52.7</td>\n",
       "      <td>...</td>\n",
       "      <td>3.1</td>\n",
       "      <td>83.5</td>\n",
       "      <td>16.2</td>\n",
       "      <td>3.8</td>\n",
       "      <td>45.1</td>\n",
       "      <td>7.1</td>\n",
       "      <td>37.3</td>\n",
       "      <td>61.3</td>\n",
       "      <td>77.0</td>\n",
       "      <td>NaN</td>\n",
       "    </tr>\n",
       "  </tbody>\n",
       "</table>\n",
       "<p>5 rows × 155 columns</p>\n",
       "</div>"
      ],
      "text/plain": [
       "      1     2     3     4     5     6     7     8     9    10  ...  140   141  \\\n",
       "0  82.1   6.0  58.1   4.6  46.3   4.0  70.0  51.8  56.7  41.9  ...  1.5  43.9   \n",
       "1  73.7   2.1  56.3   7.6  54.9   9.3  50.0  38.1  64.1  38.6  ...  3.5  82.4   \n",
       "2   NaN  27.3  64.2  10.8  64.3  12.8  49.7  33.6  63.7  60.7  ...  3.9  58.6   \n",
       "3  88.6   2.2  65.7   5.5  44.0   7.8  43.5  49.8  75.7  64.3  ...  4.6  80.7   \n",
       "4  74.1  22.6  58.7   8.4  67.2  11.9  47.3  40.3  76.3  52.7  ...  3.1  83.5   \n",
       "\n",
       "    142  143   144  145   146   147   148   149  \n",
       "0  14.6  1.0  39.2  3.4   9.0  26.7  55.3  29.9  \n",
       "1   6.1  0.0  44.5  2.4   2.9  15.8  47.7  26.2  \n",
       "2   2.2  0.9  50.2  6.3  19.2   0.0  41.4  28.1  \n",
       "3   8.5  1.5   NaN  NaN   NaN   NaN   NaN   NaN  \n",
       "4  16.2  3.8  45.1  7.1  37.3  61.3  77.0   NaN  \n",
       "\n",
       "[5 rows x 155 columns]"
      ]
     },
     "execution_count": 10,
     "metadata": {},
     "output_type": "execute_result"
    }
   ],
   "source": [
    "Y_light.head()"
   ]
  },
  {
   "cell_type": "code",
   "execution_count": 11,
   "id": "551588b7-4c35-4ef8-84ca-c58d546f8735",
   "metadata": {
    "execution": {
     "iopub.execute_input": "2022-03-01T15:44:05.951994Z",
     "iopub.status.busy": "2022-03-01T15:44:05.951768Z",
     "iopub.status.idle": "2022-03-01T15:44:05.960949Z",
     "shell.execute_reply": "2022-03-01T15:44:05.959934Z"
    },
    "papermill": {
     "duration": 0.054074,
     "end_time": "2022-03-01T15:44:05.963922",
     "exception": false,
     "start_time": "2022-03-01T15:44:05.909848",
     "status": "completed"
    },
    "tags": []
   },
   "outputs": [
    {
     "data": {
      "text/plain": [
       "sequence_id\n",
       "12E8:L     121\n",
       "15C8:L     388\n",
       "1A0Q:L     490\n",
       "1A14:L     233\n",
       "1A2Y:L     159\n",
       "          ... \n",
       "7RNJ:L     435\n",
       "7RSN:L     507\n",
       "7RSO:L     906\n",
       "7RTH:L     825\n",
       "7RW2:L    1593\n",
       "Name: cluster, Length: 4236, dtype: int64"
      ]
     },
     "execution_count": 11,
     "metadata": {},
     "output_type": "execute_result"
    }
   ],
   "source": [
    "cluster_series = clusters_df['cluster'].copy()\n",
    "cluster_series.index = clusters_df['sequence_id']\n",
    "cluster_series"
   ]
  },
  {
   "cell_type": "code",
   "execution_count": 12,
   "id": "747944b6-7e75-4868-ba8b-71cba23d676c",
   "metadata": {
    "execution": {
     "iopub.execute_input": "2022-03-01T15:44:06.043812Z",
     "iopub.status.busy": "2022-03-01T15:44:06.043226Z",
     "iopub.status.idle": "2022-03-01T15:44:06.050198Z",
     "shell.execute_reply": "2022-03-01T15:44:06.049060Z"
    },
    "papermill": {
     "duration": 0.050475,
     "end_time": "2022-03-01T15:44:06.053980",
     "exception": false,
     "start_time": "2022-03-01T15:44:06.003505",
     "status": "completed"
    },
    "tags": []
   },
   "outputs": [],
   "source": [
    "def avg_deviations(actual, predictions):\n",
    "    actual = actual.fillna(0)\n",
    "    predictions = predictions.fillna(0) \n",
    "    minus = actual.subtract(predictions)\n",
    "    total = actual.count(axis=1)\n",
    "    deviations = minus.abs().sum(axis=1) / total\n",
    "    return deviations"
   ]
  },
  {
   "cell_type": "code",
   "execution_count": 13,
   "id": "bed10e72-ec23-42f8-9910-de536414b1a7",
   "metadata": {
    "execution": {
     "iopub.execute_input": "2022-03-01T15:44:06.167023Z",
     "iopub.status.busy": "2022-03-01T15:44:06.166736Z",
     "iopub.status.idle": "2022-03-01T15:44:06.173948Z",
     "shell.execute_reply": "2022-03-01T15:44:06.172975Z"
    },
    "papermill": {
     "duration": 0.063411,
     "end_time": "2022-03-01T15:44:06.176841",
     "exception": false,
     "start_time": "2022-03-01T15:44:06.113430",
     "status": "completed"
    },
    "tags": []
   },
   "outputs": [
    {
     "data": {
      "text/plain": [
       "((4236, 155), (4236, 155), (4236,))"
      ]
     },
     "execution_count": 13,
     "metadata": {},
     "output_type": "execute_result"
    }
   ],
   "source": [
    "X_light.shape, Y_light.shape, cluster_series.shape"
   ]
  },
  {
   "cell_type": "code",
   "execution_count": 14,
   "id": "811e931f-c54d-4ed1-8fe7-f9278514ef6d",
   "metadata": {
    "execution": {
     "iopub.execute_input": "2022-03-01T15:44:06.273605Z",
     "iopub.status.busy": "2022-03-01T15:44:06.273298Z",
     "iopub.status.idle": "2022-03-01T15:47:08.162837Z",
     "shell.execute_reply": "2022-03-01T15:47:08.160003Z"
    },
    "papermill": {
     "duration": 181.941763,
     "end_time": "2022-03-01T15:47:08.167692",
     "exception": false,
     "start_time": "2022-03-01T15:44:06.225929",
     "status": "completed"
    },
    "tags": []
   },
   "outputs": [
    {
     "name": "stdout",
     "output_type": "stream",
     "text": [
      "submitting...\n"
     ]
    },
    {
     "name": "stdout",
     "output_type": "stream",
     "text": [
      "waiting for results...\n"
     ]
    }
   ],
   "source": [
    "def predict(x_train, y_train, x_valid, y_valid, model):\n",
    "    model = model()\n",
    "    #print('fitting...')\n",
    "    model.fit(x_train, y_train)\n",
    "    #print('predicting...')\n",
    "    predicts = model.predict(x_valid)\n",
    "    #print('validating...')\n",
    "    return avg_deviations(y_valid, predicts).mean()\n",
    "\n",
    "results = []\n",
    "splitter = LeaveOneGroupOut()\n",
    "split = splitter.split(X_light, Y_light, groups=cluster_series)\n",
    "\n",
    "with concurrent.futures.ThreadPoolExecutor(max_workers=8) as executor:\n",
    "    print('submitting...')\n",
    "    futures = []\n",
    "    for train_is, valid_is in split:\n",
    "        x_train, y_train = X_light.iloc[train_is, :], Y_light.iloc[train_is, :]\n",
    "        x_valid, y_valid = X_light.iloc[valid_is, :], Y_light.iloc[valid_is, :]\n",
    "\n",
    "        for model_name, model in models:\n",
    "            future = executor.submit(\n",
    "                predict, \n",
    "                x_train=x_train,\n",
    "                y_train=y_train,\n",
    "                x_valid=x_valid,\n",
    "                y_valid=y_valid,\n",
    "                model=model\n",
    "            )\n",
    "            futures.append(future)\n",
    "            \n",
    "        if len(futures) > 10:\n",
    "            # FIXME\n",
    "            # FIXME\n",
    "            # FIXME\n",
    "            # FIXME\n",
    "            # FIXME\n",
    "            # FIXME\n",
    "            # FIXME\n",
    "            # FIXME\n",
    "            # FIXME\n",
    "            break\n",
    "            \n",
    "    print('waiting for results...')     \n",
    "    scores = []\n",
    "    for future in concurrent.futures.as_completed(futures):\n",
    "        scores.append(future.result())\n",
    "    error = np.mean(scores)\n",
    "\n",
    "    for score in scores:\n",
    "        results.append((DISTANCE, error, score, model_name))"
   ]
  },
  {
   "cell_type": "code",
   "execution_count": 15,
   "id": "3fe5d6bc-e57f-4907-a3f6-505f35096f83",
   "metadata": {
    "execution": {
     "iopub.execute_input": "2022-03-01T15:47:08.295539Z",
     "iopub.status.busy": "2022-03-01T15:47:08.294917Z",
     "iopub.status.idle": "2022-03-01T15:47:08.337277Z",
     "shell.execute_reply": "2022-03-01T15:47:08.335769Z"
    },
    "papermill": {
     "duration": 0.103088,
     "end_time": "2022-03-01T15:47:08.340618",
     "exception": false,
     "start_time": "2022-03-01T15:47:08.237530",
     "status": "completed"
    },
    "tags": []
   },
   "outputs": [
    {
     "data": {
      "text/html": [
       "<div>\n",
       "<style scoped>\n",
       "    .dataframe tbody tr th:only-of-type {\n",
       "        vertical-align: middle;\n",
       "    }\n",
       "\n",
       "    .dataframe tbody tr th {\n",
       "        vertical-align: top;\n",
       "    }\n",
       "\n",
       "    .dataframe thead th {\n",
       "        text-align: right;\n",
       "    }\n",
       "</style>\n",
       "<table border=\"1\" class=\"dataframe\">\n",
       "  <thead>\n",
       "    <tr style=\"text-align: right;\">\n",
       "      <th></th>\n",
       "      <th>number_of_clusters</th>\n",
       "      <th>distance</th>\n",
       "      <th>similarity</th>\n",
       "      <th>model</th>\n",
       "      <th>mean_error</th>\n",
       "      <th>errors</th>\n",
       "    </tr>\n",
       "  </thead>\n",
       "  <tbody>\n",
       "    <tr>\n",
       "      <th>0</th>\n",
       "      <td>2192</td>\n",
       "      <td>0.1</td>\n",
       "      <td>0.9</td>\n",
       "      <td>median_for_sameres_position</td>\n",
       "      <td>6.428293</td>\n",
       "      <td>7.878759</td>\n",
       "    </tr>\n",
       "    <tr>\n",
       "      <th>1</th>\n",
       "      <td>2192</td>\n",
       "      <td>0.1</td>\n",
       "      <td>0.9</td>\n",
       "      <td>median_for_sameres_position</td>\n",
       "      <td>6.428293</td>\n",
       "      <td>7.105841</td>\n",
       "    </tr>\n",
       "    <tr>\n",
       "      <th>2</th>\n",
       "      <td>2192</td>\n",
       "      <td>0.1</td>\n",
       "      <td>0.9</td>\n",
       "      <td>median_for_sameres_position</td>\n",
       "      <td>6.428293</td>\n",
       "      <td>11.410593</td>\n",
       "    </tr>\n",
       "    <tr>\n",
       "      <th>3</th>\n",
       "      <td>2192</td>\n",
       "      <td>0.1</td>\n",
       "      <td>0.9</td>\n",
       "      <td>median_for_sameres_position</td>\n",
       "      <td>6.428293</td>\n",
       "      <td>4.605090</td>\n",
       "    </tr>\n",
       "    <tr>\n",
       "      <th>4</th>\n",
       "      <td>2192</td>\n",
       "      <td>0.1</td>\n",
       "      <td>0.9</td>\n",
       "      <td>median_for_sameres_position</td>\n",
       "      <td>6.428293</td>\n",
       "      <td>7.763011</td>\n",
       "    </tr>\n",
       "    <tr>\n",
       "      <th>5</th>\n",
       "      <td>2192</td>\n",
       "      <td>0.1</td>\n",
       "      <td>0.9</td>\n",
       "      <td>median_for_sameres_position</td>\n",
       "      <td>6.428293</td>\n",
       "      <td>4.133692</td>\n",
       "    </tr>\n",
       "    <tr>\n",
       "      <th>6</th>\n",
       "      <td>2192</td>\n",
       "      <td>0.1</td>\n",
       "      <td>0.9</td>\n",
       "      <td>median_for_sameres_position</td>\n",
       "      <td>6.428293</td>\n",
       "      <td>6.187587</td>\n",
       "    </tr>\n",
       "    <tr>\n",
       "      <th>7</th>\n",
       "      <td>2192</td>\n",
       "      <td>0.1</td>\n",
       "      <td>0.9</td>\n",
       "      <td>median_for_sameres_position</td>\n",
       "      <td>6.428293</td>\n",
       "      <td>6.695557</td>\n",
       "    </tr>\n",
       "    <tr>\n",
       "      <th>8</th>\n",
       "      <td>2192</td>\n",
       "      <td>0.1</td>\n",
       "      <td>0.9</td>\n",
       "      <td>median_for_sameres_position</td>\n",
       "      <td>6.428293</td>\n",
       "      <td>4.308422</td>\n",
       "    </tr>\n",
       "    <tr>\n",
       "      <th>9</th>\n",
       "      <td>2192</td>\n",
       "      <td>0.1</td>\n",
       "      <td>0.9</td>\n",
       "      <td>median_for_sameres_position</td>\n",
       "      <td>6.428293</td>\n",
       "      <td>6.238656</td>\n",
       "    </tr>\n",
       "    <tr>\n",
       "      <th>10</th>\n",
       "      <td>2192</td>\n",
       "      <td>0.1</td>\n",
       "      <td>0.9</td>\n",
       "      <td>median_for_sameres_position</td>\n",
       "      <td>6.428293</td>\n",
       "      <td>4.173548</td>\n",
       "    </tr>\n",
       "    <tr>\n",
       "      <th>11</th>\n",
       "      <td>2192</td>\n",
       "      <td>0.1</td>\n",
       "      <td>0.9</td>\n",
       "      <td>median_for_sameres_position</td>\n",
       "      <td>6.428293</td>\n",
       "      <td>6.638756</td>\n",
       "    </tr>\n",
       "  </tbody>\n",
       "</table>\n",
       "</div>"
      ],
      "text/plain": [
       "    number_of_clusters  distance  similarity                        model  \\\n",
       "0                 2192       0.1         0.9  median_for_sameres_position   \n",
       "1                 2192       0.1         0.9  median_for_sameres_position   \n",
       "2                 2192       0.1         0.9  median_for_sameres_position   \n",
       "3                 2192       0.1         0.9  median_for_sameres_position   \n",
       "4                 2192       0.1         0.9  median_for_sameres_position   \n",
       "5                 2192       0.1         0.9  median_for_sameres_position   \n",
       "6                 2192       0.1         0.9  median_for_sameres_position   \n",
       "7                 2192       0.1         0.9  median_for_sameres_position   \n",
       "8                 2192       0.1         0.9  median_for_sameres_position   \n",
       "9                 2192       0.1         0.9  median_for_sameres_position   \n",
       "10                2192       0.1         0.9  median_for_sameres_position   \n",
       "11                2192       0.1         0.9  median_for_sameres_position   \n",
       "\n",
       "    mean_error     errors  \n",
       "0     6.428293   7.878759  \n",
       "1     6.428293   7.105841  \n",
       "2     6.428293  11.410593  \n",
       "3     6.428293   4.605090  \n",
       "4     6.428293   7.763011  \n",
       "5     6.428293   4.133692  \n",
       "6     6.428293   6.187587  \n",
       "7     6.428293   6.695557  \n",
       "8     6.428293   4.308422  \n",
       "9     6.428293   6.238656  \n",
       "10    6.428293   4.173548  \n",
       "11    6.428293   6.638756  "
      ]
     },
     "execution_count": 15,
     "metadata": {},
     "output_type": "execute_result"
    }
   ],
   "source": [
    "res_dict = defaultdict(list)\n",
    "clusters_max = cluster_series.max()\n",
    "for result in results:\n",
    "    res_dict['number_of_clusters'].append(clusters_max)\n",
    "    res_dict['distance'].append(result[0] / 100)\n",
    "    res_dict['similarity'].append(1-(result[0] / 100))\n",
    "    res_dict['model'].append(result[3])\n",
    "    res_dict['mean_error'].append(result[1])\n",
    "    res_dict['errors'].append(result[2])\n",
    "df = pd.DataFrame(res_dict)\n",
    "df"
   ]
  },
  {
   "cell_type": "code",
   "execution_count": 16,
   "id": "9bafc380-8063-444b-aef2-20c0205c062c",
   "metadata": {
    "execution": {
     "iopub.execute_input": "2022-03-01T15:47:08.447798Z",
     "iopub.status.busy": "2022-03-01T15:47:08.447410Z",
     "iopub.status.idle": "2022-03-01T15:47:08.475308Z",
     "shell.execute_reply": "2022-03-01T15:47:08.473574Z"
    },
    "papermill": {
     "duration": 0.082268,
     "end_time": "2022-03-01T15:47:08.478184",
     "exception": false,
     "start_time": "2022-03-01T15:47:08.395916",
     "status": "completed"
    },
    "tags": []
   },
   "outputs": [],
   "source": [
    "df.to_csv(OUTPUT_FILE)"
   ]
  },
  {
   "cell_type": "code",
   "execution_count": 17,
   "id": "cfe1aeaa-c927-444b-af92-26503458279e",
   "metadata": {
    "execution": {
     "iopub.execute_input": "2022-03-01T15:47:08.576428Z",
     "iopub.status.busy": "2022-03-01T15:47:08.576000Z",
     "iopub.status.idle": "2022-03-01T15:47:08.582374Z",
     "shell.execute_reply": "2022-03-01T15:47:08.580658Z"
    },
    "papermill": {
     "duration": 0.05763,
     "end_time": "2022-03-01T15:47:08.585185",
     "exception": false,
     "start_time": "2022-03-01T15:47:08.527555",
     "status": "completed"
    },
    "tags": []
   },
   "outputs": [],
   "source": [
    "# viz_df = dict(model=[], error=[])\n",
    "# for i, r in df.iterrows():\n",
    "#     for error in r['errors']:\n",
    "#         viz_df['model'].append(r['model'])\n",
    "#         viz_df['error'].append(error)\n",
    "# viz_df = pd.DataFrame(viz_df)\n",
    "# sns.set(rc={'figure.figsize': (8, 4)})\n",
    "# sns.violinplot(data=viz_df, x='model', y='error')"
   ]
  },
  {
   "cell_type": "code",
   "execution_count": null,
   "id": "19abcca1-0028-4a5a-bc54-8bbe190deba1",
   "metadata": {
    "papermill": {
     "duration": 0.043889,
     "end_time": "2022-03-01T15:47:08.674962",
     "exception": false,
     "start_time": "2022-03-01T15:47:08.631073",
     "status": "completed"
    },
    "tags": []
   },
   "outputs": [],
   "source": []
  }
 ],
 "metadata": {
  "kernelspec": {
   "display_name": "Python 3 (ipykernel)",
   "language": "python",
   "name": "python3"
  },
  "language_info": {
   "codemirror_mode": {
    "name": "ipython",
    "version": 3
   },
   "file_extension": ".py",
   "mimetype": "text/x-python",
   "name": "python",
   "nbconvert_exporter": "python",
   "pygments_lexer": "ipython3",
   "version": "3.8.12"
  },
  "papermill": {
   "default_parameters": {},
   "duration": 230.888406,
   "end_time": "2022-03-01T15:47:09.346807",
   "environment_variables": {},
   "exception": null,
   "input_path": "notebooks/processing/07_baseline_leave_group_out.ipynb",
   "output_path": "notebooks/processing/leave_group_out/sim90.ipynb",
   "parameters": {
    "INPUT_CLUSTER_FILE": "/SFS/user/wp/benor/test/proto-moto/data/csv/clustered_splits/sim90.csv",
    "OUTPUT_FILE": "/SFS/user/wp/benor/test/proto-moto/data/csv/leave_cluster_out/sim90.csv",
    "SIMILARITY": 90
   },
   "start_time": "2022-03-01T15:43:18.458401",
   "version": "2.3.4"
  }
 },
 "nbformat": 4,
 "nbformat_minor": 5
}