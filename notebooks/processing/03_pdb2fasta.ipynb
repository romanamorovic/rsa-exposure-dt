{
 "cells": [
  {
   "cell_type": "markdown",
   "id": "c1bcf10b-f597-483d-afaa-f89aa58cac3d",
   "metadata": {},
   "source": [
    "# 3. Generate FASTA data"
   ]
  },
  {
   "cell_type": "markdown",
   "id": "c11be555-efb3-403a-9865-541f263da7d1",
   "metadata": {},
   "source": [
    "Convert cleaned PDB files into FASTA aminoacid sequence files. \\\n",
    "Each generated FASTA file contains light chain sequence\n",
    "and heavy chain sequence."
   ]
  },
  {
   "cell_type": "markdown",
   "id": "7fc6ba4a-79fd-4c72-84b6-e6daf05f5e38",
   "metadata": {},
   "source": [
    "Then, generate `.csv` files out of the FASTA sequences so the sequences could be used conveniently in DataFrames."
   ]
  },
  {
   "cell_type": "markdown",
   "id": "fea336ab-3e13-4185-9def-6db8feef35a2",
   "metadata": {},
   "source": [
    "---"
   ]
  },
  {
   "cell_type": "markdown",
   "id": "f37106ec-dccd-4207-8c34-f4e5bab488c1",
   "metadata": {
    "tags": []
   },
   "source": [
    "## Setup"
   ]
  },
  {
   "cell_type": "code",
   "execution_count": 64,
   "id": "56218f98-b06e-416f-bdd0-f609b74a043d",
   "metadata": {},
   "outputs": [],
   "source": [
    "import os\n",
    "import subprocess\n",
    "import sys; sys.path.append('../..')\n",
    "\n",
    "import pandas as pd\n",
    "import warnings\n",
    "from Bio import SeqIO\n",
    "from Bio.PDB.PDBExceptions import PDBConstructionWarning\n",
    "from tqdm.notebook import tqdm\n",
    "\n",
    "import bin.params as p\n",
    "import bin.utils as utils\n",
    "import _file_paths as fp                "
   ]
  },
  {
   "cell_type": "code",
   "execution_count": 69,
   "id": "25044d6d-aef0-446e-9255-6445c0cf38d2",
   "metadata": {},
   "outputs": [],
   "source": [
    "def pdb2fasta(input_file_path, output_file_path):\n",
    "    SeqIO.convert(input_file_path, 'pdb-atom', output_file_path, 'fasta')"
   ]
  },
  {
   "cell_type": "code",
   "execution_count": 70,
   "id": "b07d9082-dd65-4221-96f1-283cb58ef38f",
   "metadata": {},
   "outputs": [
    {
     "data": {
      "text/plain": [
       "('../../data/pdb/immunobuilder3July2024_raw',\n",
       " '../../data/sequences/incremental-convertedIB3July2024',\n",
       " '../../data/csv/fasta_unalignedIB3July2024')"
      ]
     },
     "execution_count": 70,
     "metadata": {},
     "output_type": "execute_result"
    }
   ],
   "source": [
    "# CLEANED_PDB_DIR = f'{p.DATA_DIR}/pdb/incremental'\n",
    "CLEANED_PDB_DIR = f'{p.DATA_DIR}/pdb/incrementalJuly2024' # July2024\n",
    "# CONVERTED_FASTA_DIR = f'{p.DATA_DIR}/sequences/incremental-converted' # old\n",
    "CONVERTED_FASTA_DIR = f'{p.DATA_DIR}/sequences/incremental-convertedJuly2024' #july2024\n",
    "# FASTA_UNALIGNED_CSV_DIR = f'{p.DATA_DIR}/csv/fasta_unaligned' # old\n",
    "FASTA_UNALIGNED_CSV_DIR = f'{p.DATA_DIR}/csv/fasta_unalignedJuly2024' #july2024\n",
    "\n",
    "# IB july2024\n",
    "CLEANED_PDB_DIR = f'{p.DATA_DIR}/pdb/immunobuilderJuly2024_{p.FINAL_NUMBERING_SCHEME}'\n",
    "CONVERTED_FASTA_DIR = f'{p.DATA_DIR}/sequences/incremental-convertedIB2July2024'\n",
    "FASTA_UNALIGNED_CSV_DIR = f'{p.DATA_DIR}/csv/fasta_unalignedIB2July2024'\n",
    "\n",
    "# IB3 july2024\n",
    "CLEANED_PDB_DIR = f'{p.DATA_DIR}/pdb/immunobuilder3July2024_raw'\n",
    "CONVERTED_FASTA_DIR = f'{p.DATA_DIR}/sequences/incremental-convertedIB3July2024'\n",
    "FASTA_UNALIGNED_CSV_DIR = f'{p.DATA_DIR}/csv/fasta_unalignedIB3July2024'\n",
    "\n",
    "# FIXBUG\n",
    "\n",
    "(CLEANED_PDB_DIR, CONVERTED_FASTA_DIR, FASTA_UNALIGNED_CSV_DIR)"
   ]
  },
  {
   "cell_type": "code",
   "execution_count": 71,
   "id": "010e88b3-451f-4ef1-aef8-481c031681b9",
   "metadata": {},
   "outputs": [],
   "source": [
    "command = f'mkdir -p {CONVERTED_FASTA_DIR} {FASTA_UNALIGNED_CSV_DIR}'\n",
    "! $command"
   ]
  },
  {
   "cell_type": "markdown",
   "id": "8e928971-09bc-48d5-85c1-a5a4dee08563",
   "metadata": {},
   "source": [
    "---"
   ]
  },
  {
   "cell_type": "markdown",
   "id": "9289e7a3-a5c6-4cc3-9cd0-50c7442d07ef",
   "metadata": {
    "tags": []
   },
   "source": [
    "## PDB -> FASTA"
   ]
  },
  {
   "cell_type": "markdown",
   "id": "714012d3-e7d0-4dfb-b3e2-59e4c2b30f64",
   "metadata": {},
   "source": [
    "**Export one short FASTA file per PDB structure:**"
   ]
  },
  {
   "cell_type": "code",
   "execution_count": 72,
   "id": "07aa3fb0-699f-4b67-844a-cd30494e2dc0",
   "metadata": {},
   "outputs": [
    {
     "data": {
      "text/plain": [
       "879"
      ]
     },
     "execution_count": 72,
     "metadata": {},
     "output_type": "execute_result"
    }
   ],
   "source": [
    "error_file_names = []\n",
    "filenames = [fn for fn in os.listdir(CLEANED_PDB_DIR) if fn.endswith('.pdb')]\n",
    "len(filenames)"
   ]
  },
  {
   "cell_type": "code",
   "execution_count": 73,
   "id": "e5f87e18-2e05-49a3-9436-834fdce4f9fd",
   "metadata": {},
   "outputs": [
    {
     "data": {
      "application/vnd.jupyter.widget-view+json": {
       "model_id": "046711a02668444a98c0a5a2dd5d4269",
       "version_major": 2,
       "version_minor": 0
      },
      "text/plain": [
       "Converting PDB to FASTA...:   0%|          | 0/879 [00:00<?, ?it/s]"
      ]
     },
     "metadata": {},
     "output_type": "display_data"
    },
    {
     "name": "stdout",
     "output_type": "stream",
     "text": [
      "0 errors out of 879 files\n"
     ]
    }
   ],
   "source": [
    "for filename in tqdm(filenames, desc='Converting PDB to FASTA...'):    \n",
    "    input_file_path = os.path.join(CLEANED_PDB_DIR, filename)\n",
    "    structure_code = filename[-8:-4]\n",
    "    output_file_path = os.path.join(CONVERTED_FASTA_DIR, structure_code + '.fasta')\n",
    "    try:\n",
    "        with warnings.catch_warnings():\n",
    "            warnings.simplefilter('ignore', PDBConstructionWarning) \n",
    "            pdb2fasta(input_file_path, output_file_path)  \n",
    "    except Exception as e:\n",
    "        error_file_names.append(error_file_names)\n",
    "        print(file_name, 'error', e, type(e))\n",
    "\n",
    "print(f'{len(error_file_names)} errors out of {len(filenames)} files') "
   ]
  },
  {
   "cell_type": "markdown",
   "id": "b057c89e-0337-4018-b4c8-44c633aba937",
   "metadata": {},
   "source": [
    "**Check how many `.fasta` files have been created:** (the number should match the upper limit in the progressbar above)"
   ]
  },
  {
   "cell_type": "code",
   "execution_count": 74,
   "id": "82be56a3-031e-43a2-8374-87b76c17d091",
   "metadata": {},
   "outputs": [
    {
     "name": "stdout",
     "output_type": "stream",
     "text": [
      "../../data/sequences/incremental-convertedIB3July2024\n",
      "     879\n"
     ]
    }
   ],
   "source": [
    "# `tail -n +2` will skip the first line of `ls` output (that one is just a summary line)\n",
    "print(CONVERTED_FASTA_DIR)\n",
    "command = f\"ls -l {CONVERTED_FASTA_DIR} | tail -n +2 | wc -l\"\n",
    "! $command"
   ]
  },
  {
   "cell_type": "markdown",
   "id": "c92ec208-2ad8-493c-883d-35194cc422c7",
   "metadata": {
    "tags": []
   },
   "source": [
    "## FASTA -> DataFrame"
   ]
  },
  {
   "cell_type": "markdown",
   "id": "62a1459e-1c1c-4954-b340-579fe60269c3",
   "metadata": {},
   "source": [
    "**Check for badly generated FASTA sequences and put all that are OK to the Python dictionary:**"
   ]
  },
  {
   "cell_type": "code",
   "execution_count": 75,
   "id": "6352a3e6-17aa-40f6-ab73-16293536640c",
   "metadata": {},
   "outputs": [],
   "source": [
    "filenames = [fn for fn in os.listdir(CONVERTED_FASTA_DIR) if fn.endswith('.fasta')]\n",
    "df_dict = dict()\n",
    "problems = []"
   ]
  },
  {
   "cell_type": "code",
   "execution_count": 76,
   "id": "436aa73b-114d-4932-a6a9-20d3331c177c",
   "metadata": {},
   "outputs": [
    {
     "data": {
      "application/vnd.jupyter.widget-view+json": {
       "model_id": "096d2ab8a37e4c3ba82c9fab8e804ea3",
       "version_major": 2,
       "version_minor": 0
      },
      "text/plain": [
       "Converting PDB to FASTA...:   0%|          | 0/879 [00:00<?, ?it/s]"
      ]
     },
     "metadata": {},
     "output_type": "display_data"
    }
   ],
   "source": [
    "for filename in tqdm(filenames, desc='Converting PDB to FASTA...'):\n",
    "    input_file_path = os.path.join(CONVERTED_FASTA_DIR, filename)\n",
    "    fasta_sequences = list(SeqIO.parse(open(input_file_path, 'r', encoding='utf-8'), 'fasta'))\n",
    "    pdb_code = filename[:4]\n",
    "    \n",
    "    # check again - maybe there was problem with parsing the sequence but the file exists\n",
    "    if len(fasta_sequences) != 2:\n",
    "        print(\n",
    "            f'PROBLEM: File {file_name} only has {len(fasta_sequences)} sequences, ' + \n",
    "            f' should have 2 (renumber script failed somehow)')\n",
    "        problems.append(file_name)\n",
    "        # problematic structures will not be included in the further analysis\n",
    "        # throw it away\n",
    "        continue\n",
    "        \n",
    "    for seq in fasta_sequences:\n",
    "        seq_id = pdb_code + seq.id[4:]\n",
    "        assert len(seq_id) == 6\n",
    "        assert not seq.id.startswith('????') # or seq.id[:4] == pdb_code\n",
    "        df_dict[seq_id] = list(str(seq.seq)) # ['a', 'b', 'c' ... ]"
   ]
  },
  {
   "cell_type": "code",
   "execution_count": 78,
   "id": "e558286b-fa7c-44b2-bec6-bcd8f5b997a5",
   "metadata": {},
   "outputs": [
    {
     "name": "stdout",
     "output_type": "stream",
     "text": [
      "average len of a chain:  128.31968145620021\n"
     ]
    }
   ],
   "source": [
    "print('average len of a chain: ', pd.Series([len(v) for k, v in df_dict.items()]).mean())"
   ]
  },
  {
   "cell_type": "markdown",
   "id": "875d0f15-bf9c-44fb-8559-128dea7c1b14",
   "metadata": {},
   "source": [
    "**Apparently there were no problems.**"
   ]
  },
  {
   "cell_type": "markdown",
   "id": "ebbd1f29-833b-4e51-9697-db97f1b83301",
   "metadata": {},
   "source": [
    "**Create dataframe from the dictionary and export it to CSV:**"
   ]
  },
  {
   "cell_type": "code",
   "execution_count": 79,
   "id": "2fdab224-82c4-4c1a-9a8f-99cdfb708c42",
   "metadata": {
    "tags": []
   },
   "outputs": [
    {
     "name": "stdout",
     "output_type": "stream",
     "text": [
      "fasta_df.shape (1758, 144)\n"
     ]
    },
    {
     "data": {
      "text/html": [
       "<div>\n",
       "<style scoped>\n",
       "    .dataframe tbody tr th:only-of-type {\n",
       "        vertical-align: middle;\n",
       "    }\n",
       "\n",
       "    .dataframe tbody tr th {\n",
       "        vertical-align: top;\n",
       "    }\n",
       "\n",
       "    .dataframe thead th {\n",
       "        text-align: right;\n",
       "    }\n",
       "</style>\n",
       "<table border=\"1\" class=\"dataframe\">\n",
       "  <thead>\n",
       "    <tr style=\"text-align: right;\">\n",
       "      <th></th>\n",
       "      <th>0</th>\n",
       "      <th>1</th>\n",
       "      <th>2</th>\n",
       "      <th>3</th>\n",
       "      <th>4</th>\n",
       "      <th>5</th>\n",
       "      <th>6</th>\n",
       "      <th>7</th>\n",
       "      <th>8</th>\n",
       "      <th>9</th>\n",
       "      <th>...</th>\n",
       "      <th>134</th>\n",
       "      <th>135</th>\n",
       "      <th>136</th>\n",
       "      <th>137</th>\n",
       "      <th>138</th>\n",
       "      <th>139</th>\n",
       "      <th>140</th>\n",
       "      <th>141</th>\n",
       "      <th>142</th>\n",
       "      <th>143</th>\n",
       "    </tr>\n",
       "  </thead>\n",
       "  <tbody>\n",
       "    <tr>\n",
       "      <th>7DF1:H</th>\n",
       "      <td>V</td>\n",
       "      <td>Q</td>\n",
       "      <td>L</td>\n",
       "      <td>V</td>\n",
       "      <td>Q</td>\n",
       "      <td>S</td>\n",
       "      <td>G</td>\n",
       "      <td>A</td>\n",
       "      <td>X</td>\n",
       "      <td>E</td>\n",
       "      <td>...</td>\n",
       "      <td>-</td>\n",
       "      <td>-</td>\n",
       "      <td>-</td>\n",
       "      <td>-</td>\n",
       "      <td>-</td>\n",
       "      <td>-</td>\n",
       "      <td>-</td>\n",
       "      <td>-</td>\n",
       "      <td>-</td>\n",
       "      <td>-</td>\n",
       "    </tr>\n",
       "    <tr>\n",
       "      <th>7DF1:L</th>\n",
       "      <td>D</td>\n",
       "      <td>I</td>\n",
       "      <td>V</td>\n",
       "      <td>M</td>\n",
       "      <td>T</td>\n",
       "      <td>Q</td>\n",
       "      <td>S</td>\n",
       "      <td>P</td>\n",
       "      <td>D</td>\n",
       "      <td>S</td>\n",
       "      <td>...</td>\n",
       "      <td>-</td>\n",
       "      <td>-</td>\n",
       "      <td>-</td>\n",
       "      <td>-</td>\n",
       "      <td>-</td>\n",
       "      <td>-</td>\n",
       "      <td>-</td>\n",
       "      <td>-</td>\n",
       "      <td>-</td>\n",
       "      <td>-</td>\n",
       "    </tr>\n",
       "  </tbody>\n",
       "</table>\n",
       "<p>2 rows × 144 columns</p>\n",
       "</div>"
      ],
      "text/plain": [
       "       0   1   2   3   4   5   6   7   8   9    ... 134 135 136 137 138 139  \\\n",
       "7DF1:H   V   Q   L   V   Q   S   G   A   X   E  ...   -   -   -   -   -   -   \n",
       "7DF1:L   D   I   V   M   T   Q   S   P   D   S  ...   -   -   -   -   -   -   \n",
       "\n",
       "       140 141 142 143  \n",
       "7DF1:H   -   -   -   -  \n",
       "7DF1:L   -   -   -   -  \n",
       "\n",
       "[2 rows x 144 columns]"
      ]
     },
     "execution_count": 79,
     "metadata": {},
     "output_type": "execute_result"
    }
   ],
   "source": [
    "fasta_df = pd.DataFrame(list(df_dict.values()), index=list(df_dict.keys())).fillna('-').sort_index()\n",
    "print('fasta_df.shape', fasta_df.shape)\n",
    "fasta_df.to_csv(f'{FASTA_UNALIGNED_CSV_DIR}/fasta_all.csv')  \n",
    "fasta_df.head(n=2)"
   ]
  },
  {
   "cell_type": "markdown",
   "id": "ae89bfe0-a437-440b-936e-bfde8abf166a",
   "metadata": {},
   "source": [
    "**Split merged dataframe onto two smaller ones, one containing only L rows, the other one \\\n",
    "containing only H rows:**"
   ]
  },
  {
   "cell_type": "code",
   "execution_count": 80,
   "id": "7c3a0c67-d5ab-45ea-ae38-429cdf7f9d94",
   "metadata": {},
   "outputs": [
    {
     "name": "stdout",
     "output_type": "stream",
     "text": [
      "fasta_L_df.shape (879, 144)\n"
     ]
    },
    {
     "data": {
      "text/html": [
       "<div>\n",
       "<style scoped>\n",
       "    .dataframe tbody tr th:only-of-type {\n",
       "        vertical-align: middle;\n",
       "    }\n",
       "\n",
       "    .dataframe tbody tr th {\n",
       "        vertical-align: top;\n",
       "    }\n",
       "\n",
       "    .dataframe thead th {\n",
       "        text-align: right;\n",
       "    }\n",
       "</style>\n",
       "<table border=\"1\" class=\"dataframe\">\n",
       "  <thead>\n",
       "    <tr style=\"text-align: right;\">\n",
       "      <th></th>\n",
       "      <th>0</th>\n",
       "      <th>1</th>\n",
       "      <th>2</th>\n",
       "      <th>3</th>\n",
       "      <th>4</th>\n",
       "      <th>5</th>\n",
       "      <th>6</th>\n",
       "      <th>7</th>\n",
       "      <th>8</th>\n",
       "      <th>9</th>\n",
       "      <th>...</th>\n",
       "      <th>134</th>\n",
       "      <th>135</th>\n",
       "      <th>136</th>\n",
       "      <th>137</th>\n",
       "      <th>138</th>\n",
       "      <th>139</th>\n",
       "      <th>140</th>\n",
       "      <th>141</th>\n",
       "      <th>142</th>\n",
       "      <th>143</th>\n",
       "    </tr>\n",
       "  </thead>\n",
       "  <tbody>\n",
       "    <tr>\n",
       "      <th>7DF1:L</th>\n",
       "      <td>D</td>\n",
       "      <td>I</td>\n",
       "      <td>V</td>\n",
       "      <td>M</td>\n",
       "      <td>T</td>\n",
       "      <td>Q</td>\n",
       "      <td>S</td>\n",
       "      <td>P</td>\n",
       "      <td>D</td>\n",
       "      <td>S</td>\n",
       "      <td>...</td>\n",
       "      <td>-</td>\n",
       "      <td>-</td>\n",
       "      <td>-</td>\n",
       "      <td>-</td>\n",
       "      <td>-</td>\n",
       "      <td>-</td>\n",
       "      <td>-</td>\n",
       "      <td>-</td>\n",
       "      <td>-</td>\n",
       "      <td>-</td>\n",
       "    </tr>\n",
       "    <tr>\n",
       "      <th>7E9O:L</th>\n",
       "      <td>D</td>\n",
       "      <td>I</td>\n",
       "      <td>V</td>\n",
       "      <td>M</td>\n",
       "      <td>T</td>\n",
       "      <td>Q</td>\n",
       "      <td>S</td>\n",
       "      <td>P</td>\n",
       "      <td>L</td>\n",
       "      <td>S</td>\n",
       "      <td>...</td>\n",
       "      <td>-</td>\n",
       "      <td>-</td>\n",
       "      <td>-</td>\n",
       "      <td>-</td>\n",
       "      <td>-</td>\n",
       "      <td>-</td>\n",
       "      <td>-</td>\n",
       "      <td>-</td>\n",
       "      <td>-</td>\n",
       "      <td>-</td>\n",
       "    </tr>\n",
       "  </tbody>\n",
       "</table>\n",
       "<p>2 rows × 144 columns</p>\n",
       "</div>"
      ],
      "text/plain": [
       "       0   1   2   3   4   5   6   7   8   9    ... 134 135 136 137 138 139  \\\n",
       "7DF1:L   D   I   V   M   T   Q   S   P   D   S  ...   -   -   -   -   -   -   \n",
       "7E9O:L   D   I   V   M   T   Q   S   P   L   S  ...   -   -   -   -   -   -   \n",
       "\n",
       "       140 141 142 143  \n",
       "7DF1:L   -   -   -   -  \n",
       "7E9O:L   -   -   -   -  \n",
       "\n",
       "[2 rows x 144 columns]"
      ]
     },
     "execution_count": 80,
     "metadata": {},
     "output_type": "execute_result"
    }
   ],
   "source": [
    "fasta_L_df = utils.select_only_chain_sequences(fasta_df, 'L')\n",
    "print('fasta_L_df.shape', fasta_L_df.shape)\n",
    "fasta_L_df.to_csv(f'{FASTA_UNALIGNED_CSV_DIR}/fasta_L.csv')    \n",
    "fasta_L_df.head(n=2)"
   ]
  },
  {
   "cell_type": "code",
   "execution_count": 81,
   "id": "2f1754ee-a072-4480-a097-48d6c0a992c4",
   "metadata": {},
   "outputs": [
    {
     "name": "stdout",
     "output_type": "stream",
     "text": [
      "fasta_H_df.shape (879, 144)\n"
     ]
    },
    {
     "data": {
      "text/html": [
       "<div>\n",
       "<style scoped>\n",
       "    .dataframe tbody tr th:only-of-type {\n",
       "        vertical-align: middle;\n",
       "    }\n",
       "\n",
       "    .dataframe tbody tr th {\n",
       "        vertical-align: top;\n",
       "    }\n",
       "\n",
       "    .dataframe thead th {\n",
       "        text-align: right;\n",
       "    }\n",
       "</style>\n",
       "<table border=\"1\" class=\"dataframe\">\n",
       "  <thead>\n",
       "    <tr style=\"text-align: right;\">\n",
       "      <th></th>\n",
       "      <th>0</th>\n",
       "      <th>1</th>\n",
       "      <th>2</th>\n",
       "      <th>3</th>\n",
       "      <th>4</th>\n",
       "      <th>5</th>\n",
       "      <th>6</th>\n",
       "      <th>7</th>\n",
       "      <th>8</th>\n",
       "      <th>9</th>\n",
       "      <th>...</th>\n",
       "      <th>134</th>\n",
       "      <th>135</th>\n",
       "      <th>136</th>\n",
       "      <th>137</th>\n",
       "      <th>138</th>\n",
       "      <th>139</th>\n",
       "      <th>140</th>\n",
       "      <th>141</th>\n",
       "      <th>142</th>\n",
       "      <th>143</th>\n",
       "    </tr>\n",
       "  </thead>\n",
       "  <tbody>\n",
       "    <tr>\n",
       "      <th>7DF1:H</th>\n",
       "      <td>V</td>\n",
       "      <td>Q</td>\n",
       "      <td>L</td>\n",
       "      <td>V</td>\n",
       "      <td>Q</td>\n",
       "      <td>S</td>\n",
       "      <td>G</td>\n",
       "      <td>A</td>\n",
       "      <td>X</td>\n",
       "      <td>E</td>\n",
       "      <td>...</td>\n",
       "      <td>-</td>\n",
       "      <td>-</td>\n",
       "      <td>-</td>\n",
       "      <td>-</td>\n",
       "      <td>-</td>\n",
       "      <td>-</td>\n",
       "      <td>-</td>\n",
       "      <td>-</td>\n",
       "      <td>-</td>\n",
       "      <td>-</td>\n",
       "    </tr>\n",
       "    <tr>\n",
       "      <th>7E9O:H</th>\n",
       "      <td>Q</td>\n",
       "      <td>V</td>\n",
       "      <td>Q</td>\n",
       "      <td>L</td>\n",
       "      <td>L</td>\n",
       "      <td>E</td>\n",
       "      <td>S</td>\n",
       "      <td>G</td>\n",
       "      <td>G</td>\n",
       "      <td>X</td>\n",
       "      <td>...</td>\n",
       "      <td>S</td>\n",
       "      <td>-</td>\n",
       "      <td>-</td>\n",
       "      <td>-</td>\n",
       "      <td>-</td>\n",
       "      <td>-</td>\n",
       "      <td>-</td>\n",
       "      <td>-</td>\n",
       "      <td>-</td>\n",
       "      <td>-</td>\n",
       "    </tr>\n",
       "  </tbody>\n",
       "</table>\n",
       "<p>2 rows × 144 columns</p>\n",
       "</div>"
      ],
      "text/plain": [
       "       0   1   2   3   4   5   6   7   8   9    ... 134 135 136 137 138 139  \\\n",
       "7DF1:H   V   Q   L   V   Q   S   G   A   X   E  ...   -   -   -   -   -   -   \n",
       "7E9O:H   Q   V   Q   L   L   E   S   G   G   X  ...   S   -   -   -   -   -   \n",
       "\n",
       "       140 141 142 143  \n",
       "7DF1:H   -   -   -   -  \n",
       "7E9O:H   -   -   -   -  \n",
       "\n",
       "[2 rows x 144 columns]"
      ]
     },
     "execution_count": 81,
     "metadata": {},
     "output_type": "execute_result"
    }
   ],
   "source": [
    "fasta_H_df = utils.select_only_chain_sequences(fasta_df, 'H')\n",
    "print('fasta_H_df.shape', fasta_H_df.shape)\n",
    "fasta_H_df.to_csv(f'{FASTA_UNALIGNED_CSV_DIR}/fasta_H.csv')   \n",
    "fasta_H_df.head(n=2)"
   ]
  }
 ],
 "metadata": {
  "kernelspec": {
   "display_name": "Python 3 (ipykernel)",
   "language": "python",
   "name": "python3"
  },
  "language_info": {
   "codemirror_mode": {
    "name": "ipython",
    "version": 3
   },
   "file_extension": ".py",
   "mimetype": "text/x-python",
   "name": "python",
   "nbconvert_exporter": "python",
   "pygments_lexer": "ipython3",
   "version": "3.10.14"
  }
 },
 "nbformat": 4,
 "nbformat_minor": 5
}
