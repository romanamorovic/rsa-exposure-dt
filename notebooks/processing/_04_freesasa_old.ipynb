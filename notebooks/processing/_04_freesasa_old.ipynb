{
 "cells": [
  {
   "cell_type": "markdown",
   "id": "b7ce4a64-7842-4349-add8-f9eebe006534",
   "metadata": {},
   "source": [
    "# 4. Generate Relative SASA (RSA) data"
   ]
  },
  {
   "cell_type": "markdown",
   "id": "fb17efc8-8253-4396-9dcb-ebe1f127d4c1",
   "metadata": {},
   "source": [
    "Generate SASA sequences for chains contained in PDB files."
   ]
  },
  {
   "cell_type": "markdown",
   "id": "40272210-e0fe-47ca-9b08-89b431fbbaed",
   "metadata": {},
   "source": [
    "For this, we will use `freesasa` tool (https://freesasa.github.io)"
   ]
  },
  {
   "cell_type": "markdown",
   "id": "73c01783-1c41-4c91-ae3e-699c848add16",
   "metadata": {},
   "source": [
    "If you wish to start generating SASA sequences anew, make sure you delete `data/csv/freesasa_status.csv` file first (given it exists)."
   ]
  },
  {
   "cell_type": "markdown",
   "id": "90d34cc4-9efc-4332-b0c6-394d9689fba5",
   "metadata": {},
   "source": [
    "---"
   ]
  },
  {
   "cell_type": "markdown",
   "id": "6b3abb56-5312-43e8-9ace-1fb7674c4718",
   "metadata": {},
   "source": [
    "## Installing FreeSASA"
   ]
  },
  {
   "cell_type": "code",
   "execution_count": 3,
   "id": "080419a3-74e2-4b17-9949-6c6f37d779e6",
   "metadata": {},
   "outputs": [],
   "source": [
    "import sys; sys.path.append('../..')\n",
    "import bin.params as p"
   ]
  },
  {
   "cell_type": "markdown",
   "id": "e5ed8d12-dc17-4a0a-b2ee-580ca38da93e",
   "metadata": {},
   "source": [
    "Altough the Python `freesasa` module is out there, it does not provide residue-depth freesasa values, which we need. "
   ]
  },
  {
   "cell_type": "markdown",
   "id": "e671f9f5-5196-426f-98c5-7b4bf9f6f6ad",
   "metadata": {},
   "source": [
    "Therefore we will install the package and use the tool it from `bash`."
   ]
  },
  {
   "cell_type": "markdown",
   "id": "cd1a7432-e9f6-499c-9ec7-3d6a8d6719be",
   "metadata": {},
   "source": [
    "**Note**: check the freesasa.github.io, there may be newer version of freesasa available and the current one may give error 404."
   ]
  },
  {
   "cell_type": "code",
   "execution_count": 4,
   "id": "68a6ca8e-bf26-48f6-b29f-3a6786585c95",
   "metadata": {},
   "outputs": [
    {
     "name": "stdout",
     "output_type": "stream",
     "text": [
      "\n",
      "echo 'Downloading freesasa ...'\n",
      "cd ../../bin\n",
      "wget https://freesasa.github.io/freesasa-2.1.1.zip\n",
      "\n",
      "echo 'Unzipping ...'\n",
      "unzip -qq freesasa-2.1.1.zip\n",
      "\n",
      "echo 'Installing ...'\n",
      "cd freesasa-2.1.1\n",
      "./configure \n",
      "make \n",
      "make install\n",
      "\n"
     ]
    }
   ],
   "source": [
    "command = f\"\"\"\n",
    "echo 'Installing prerequisite: JSON-C ...'\n",
    "brew install json-c\n",
    "\n",
    "echo 'Downloading freesasa ...'\n",
    "cd {p.BIN_DIR}\n",
    "wget https://freesasa.github.io/freesasa-2.1.1.zip\n",
    "\n",
    "echo 'Unzipping ...'\n",
    "unzip -qq freesasa-2.1.1.zip\n",
    "\n",
    "echo 'Installing ...'\n",
    "cd freesasa-2.1.1\n",
    "./configure \n",
    "make \n",
    "make install\n",
    "\"\"\"\n",
    "print(command)"
   ]
  },
  {
   "cell_type": "markdown",
   "id": "ddf5e433-88b3-434f-9664-b782c3a0dc8a",
   "metadata": {},
   "source": [
    "---"
   ]
  },
  {
   "cell_type": "markdown",
   "id": "d9462ddc-c8ea-4c14-969d-53db38c50360",
   "metadata": {
    "tags": []
   },
   "source": [
    "## Setup"
   ]
  },
  {
   "cell_type": "code",
   "execution_count": 24,
   "id": "2c76a349-8f8d-473d-a5e4-e3c465523eac",
   "metadata": {},
   "outputs": [],
   "source": [
    "import collections\n",
    "import os\n",
    "import pickle\n",
    "import re\n",
    "import subprocess\n",
    "import sys; sys.path.append('../..')\n",
    "\n",
    "import numpy as np\n",
    "import pandas as pd\n",
    "from Bio.Data.IUPACData import protein_letters_3to1\n",
    "from tqdm.notebook import tqdm\n",
    "\n",
    "import bin.params as p\n",
    "import bin.utils as u"
   ]
  },
  {
   "cell_type": "code",
   "execution_count": 15,
   "id": "ed409537-db7d-41a5-ab6e-06073ec4684b",
   "metadata": {},
   "outputs": [
    {
     "data": {
      "text/plain": [
       "('../../data/csv/fasta_unalignedJuly2024/fasta_all.csv',\n",
       " '../../data/csv/freesasa_statusJuly2024.csv',\n",
       " '../../data/csv/sasa_relative_unalignedJuly2024',\n",
       " '../../data/pdb/incrementalJuly2024')"
      ]
     },
     "execution_count": 15,
     "metadata": {},
     "output_type": "execute_result"
    }
   ],
   "source": [
    "FASTA_UNALIGNED_CSV_PATH = f'{p.DATA_DIR}/csv/fasta_unalignedJuly2024/fasta_all.csv' # july2024\n",
    "# FASTA_UNALIGNED_CSV_PATH = f'{p.DATA_DIR}/csv/fasta_unaligned/fasta_all.csv' # old\n",
    "FREESASA_STATUS_PATH = f'{p.DATA_DIR}/csv/freesasa_statusJuly2024.csv' # july2024\n",
    "# FREESASA_STATUS_PATH = f'{p.DATA_DIR}/csv/freesasa_status.csv' # old\n",
    "SASA_RELATIVE_UNALIGNED_DIR = f'{p.DATA_DIR}/csv/sasa_relative_unalignedJuly2024' # july2024\n",
    "# SASA_RELATIVE_UNALIGNED_DIR = f'{p.DATA_DIR}/csv/sasa_relative_unaligned' # old\n",
    "CLEANED_PDB_DIR = f'{p.DATA_DIR}/pdb/incrementalJuly2024' # july2024\n",
    "#CLEANED_PDB_DIR = f'{p.DATA_DIR}/pdb/incremental' # old\n",
    "\n",
    "FASTA_UNALIGNED_CSV_PATH, FREESASA_STATUS_PATH, SASA_RELATIVE_UNALIGNED_DIR, CLEANED_PDB_DIR"
   ]
  },
  {
   "cell_type": "code",
   "execution_count": 11,
   "id": "57e11998-5591-4b09-866a-6aff50ef9213",
   "metadata": {},
   "outputs": [
    {
     "name": "stdout",
     "output_type": "stream",
     "text": [
      "creating freesasa status anew\n"
     ]
    }
   ],
   "source": [
    "if os.path.exists(FREESASA_STATUS_PATH):\n",
    "    freesasa_status_df = pd.read_csv(FREESASA_STATUS_PATH, index_col=0)\n",
    "    print('loading freesasa status from file')\n",
    "else:\n",
    "    freesasa_status_df = pd.DataFrame(columns=['structure_code', 'status'])\n",
    "    print('creating freesasa status anew')"
   ]
  },
  {
   "cell_type": "code",
   "execution_count": 33,
   "id": "91adb8ef-7e02-4658-bf6a-36392fb53e21",
   "metadata": {},
   "outputs": [],
   "source": [
    "command = f'mkdir -p {SASA_RELATIVE_UNALIGNED_DIR}'\n",
    "! $command"
   ]
  },
  {
   "cell_type": "code",
   "execution_count": 34,
   "id": "a20ec3c0-a343-471c-89cf-487485d63234",
   "metadata": {},
   "outputs": [
    {
     "name": "stdout",
     "output_type": "stream",
     "text": [
      "no sasa loaded yet\n"
     ]
    }
   ],
   "source": [
    "if os.path.exists(f'{SASA_RELATIVE_UNALIGNED_DIR}/sasa_all.csv'):\n",
    "    old_sasa_df = pd.read_csv(f'{SASA_RELATIVE_UNALIGNED_DIR}/sasa_all.csv', index_col=0) \n",
    "    print('loading sasa from file')\n",
    "else:\n",
    "    print('no sasa loaded yet')\n",
    "    old_sasa_df = None"
   ]
  },
  {
   "cell_type": "markdown",
   "id": "1616e423-9eed-4b06-95f0-01eaa79f42e8",
   "metadata": {
    "tags": []
   },
   "source": [
    "## Generate SASA "
   ]
  },
  {
   "cell_type": "markdown",
   "id": "a6305ec2-2d14-4328-a092-d9361584b713",
   "metadata": {},
   "source": [
    "**Load the unaligned FASTA csv dataset:**"
   ]
  },
  {
   "cell_type": "code",
   "execution_count": 13,
   "id": "c013602a-79ab-48fd-be18-85450ab4631b",
   "metadata": {
    "scrolled": true
   },
   "outputs": [
    {
     "data": {
      "text/html": [
       "<div>\n",
       "<style scoped>\n",
       "    .dataframe tbody tr th:only-of-type {\n",
       "        vertical-align: middle;\n",
       "    }\n",
       "\n",
       "    .dataframe tbody tr th {\n",
       "        vertical-align: top;\n",
       "    }\n",
       "\n",
       "    .dataframe thead th {\n",
       "        text-align: right;\n",
       "    }\n",
       "</style>\n",
       "<table border=\"1\" class=\"dataframe\">\n",
       "  <thead>\n",
       "    <tr style=\"text-align: right;\">\n",
       "      <th></th>\n",
       "      <th>0</th>\n",
       "      <th>1</th>\n",
       "      <th>2</th>\n",
       "      <th>3</th>\n",
       "      <th>4</th>\n",
       "      <th>5</th>\n",
       "      <th>6</th>\n",
       "      <th>7</th>\n",
       "      <th>8</th>\n",
       "      <th>9</th>\n",
       "      <th>...</th>\n",
       "      <th>585</th>\n",
       "      <th>586</th>\n",
       "      <th>587</th>\n",
       "      <th>588</th>\n",
       "      <th>589</th>\n",
       "      <th>590</th>\n",
       "      <th>591</th>\n",
       "      <th>592</th>\n",
       "      <th>593</th>\n",
       "      <th>594</th>\n",
       "    </tr>\n",
       "  </thead>\n",
       "  <tbody>\n",
       "    <tr>\n",
       "      <th>7DF1:H</th>\n",
       "      <td>V</td>\n",
       "      <td>Q</td>\n",
       "      <td>L</td>\n",
       "      <td>V</td>\n",
       "      <td>Q</td>\n",
       "      <td>S</td>\n",
       "      <td>G</td>\n",
       "      <td>A</td>\n",
       "      <td>E</td>\n",
       "      <td>V</td>\n",
       "      <td>...</td>\n",
       "      <td>-</td>\n",
       "      <td>-</td>\n",
       "      <td>-</td>\n",
       "      <td>-</td>\n",
       "      <td>-</td>\n",
       "      <td>-</td>\n",
       "      <td>-</td>\n",
       "      <td>-</td>\n",
       "      <td>-</td>\n",
       "      <td>-</td>\n",
       "    </tr>\n",
       "    <tr>\n",
       "      <th>7DF1:L</th>\n",
       "      <td>D</td>\n",
       "      <td>I</td>\n",
       "      <td>V</td>\n",
       "      <td>M</td>\n",
       "      <td>T</td>\n",
       "      <td>Q</td>\n",
       "      <td>S</td>\n",
       "      <td>P</td>\n",
       "      <td>D</td>\n",
       "      <td>S</td>\n",
       "      <td>...</td>\n",
       "      <td>-</td>\n",
       "      <td>-</td>\n",
       "      <td>-</td>\n",
       "      <td>-</td>\n",
       "      <td>-</td>\n",
       "      <td>-</td>\n",
       "      <td>-</td>\n",
       "      <td>-</td>\n",
       "      <td>-</td>\n",
       "      <td>-</td>\n",
       "    </tr>\n",
       "    <tr>\n",
       "      <th>7E9O:H</th>\n",
       "      <td>Q</td>\n",
       "      <td>V</td>\n",
       "      <td>Q</td>\n",
       "      <td>L</td>\n",
       "      <td>L</td>\n",
       "      <td>E</td>\n",
       "      <td>S</td>\n",
       "      <td>G</td>\n",
       "      <td>G</td>\n",
       "      <td>G</td>\n",
       "      <td>...</td>\n",
       "      <td>-</td>\n",
       "      <td>-</td>\n",
       "      <td>-</td>\n",
       "      <td>-</td>\n",
       "      <td>-</td>\n",
       "      <td>-</td>\n",
       "      <td>-</td>\n",
       "      <td>-</td>\n",
       "      <td>-</td>\n",
       "      <td>-</td>\n",
       "    </tr>\n",
       "    <tr>\n",
       "      <th>7E9O:L</th>\n",
       "      <td>D</td>\n",
       "      <td>I</td>\n",
       "      <td>V</td>\n",
       "      <td>M</td>\n",
       "      <td>T</td>\n",
       "      <td>Q</td>\n",
       "      <td>S</td>\n",
       "      <td>P</td>\n",
       "      <td>L</td>\n",
       "      <td>S</td>\n",
       "      <td>...</td>\n",
       "      <td>-</td>\n",
       "      <td>-</td>\n",
       "      <td>-</td>\n",
       "      <td>-</td>\n",
       "      <td>-</td>\n",
       "      <td>-</td>\n",
       "      <td>-</td>\n",
       "      <td>-</td>\n",
       "      <td>-</td>\n",
       "      <td>-</td>\n",
       "    </tr>\n",
       "    <tr>\n",
       "      <th>7FGJ:H</th>\n",
       "      <td>V</td>\n",
       "      <td>Q</td>\n",
       "      <td>L</td>\n",
       "      <td>Q</td>\n",
       "      <td>Q</td>\n",
       "      <td>S</td>\n",
       "      <td>G</td>\n",
       "      <td>A</td>\n",
       "      <td>A</td>\n",
       "      <td>L</td>\n",
       "      <td>...</td>\n",
       "      <td>-</td>\n",
       "      <td>-</td>\n",
       "      <td>-</td>\n",
       "      <td>-</td>\n",
       "      <td>-</td>\n",
       "      <td>-</td>\n",
       "      <td>-</td>\n",
       "      <td>-</td>\n",
       "      <td>-</td>\n",
       "      <td>-</td>\n",
       "    </tr>\n",
       "  </tbody>\n",
       "</table>\n",
       "<p>5 rows × 595 columns</p>\n",
       "</div>"
      ],
      "text/plain": [
       "       0   1   2   3   4   5   6   7   8   9    ... 585 586 587 588 589 590  \\\n",
       "7DF1:H   V   Q   L   V   Q   S   G   A   E   V  ...   -   -   -   -   -   -   \n",
       "7DF1:L   D   I   V   M   T   Q   S   P   D   S  ...   -   -   -   -   -   -   \n",
       "7E9O:H   Q   V   Q   L   L   E   S   G   G   G  ...   -   -   -   -   -   -   \n",
       "7E9O:L   D   I   V   M   T   Q   S   P   L   S  ...   -   -   -   -   -   -   \n",
       "7FGJ:H   V   Q   L   Q   Q   S   G   A   A   L  ...   -   -   -   -   -   -   \n",
       "\n",
       "       591 592 593 594  \n",
       "7DF1:H   -   -   -   -  \n",
       "7DF1:L   -   -   -   -  \n",
       "7E9O:H   -   -   -   -  \n",
       "7E9O:L   -   -   -   -  \n",
       "7FGJ:H   -   -   -   -  \n",
       "\n",
       "[5 rows x 595 columns]"
      ]
     },
     "execution_count": 13,
     "metadata": {},
     "output_type": "execute_result"
    }
   ],
   "source": [
    "fasta_unaligned_df = pd.read_csv(FASTA_UNALIGNED_CSV_PATH, index_col=0)\n",
    "fasta_unaligned_df.columns = [int(c) for c in fasta_unaligned_df.columns]\n",
    "fasta_unaligned_df.head()"
   ]
  },
  {
   "cell_type": "code",
   "execution_count": 28,
   "id": "e4db68ed-453c-49a7-af0c-2d0b0c291930",
   "metadata": {},
   "outputs": [],
   "source": [
    "def get_sasa(structure_code, output_lines):\n",
    "    matches = []\n",
    "    sasa_dict = collections.defaultdict(list)\n",
    "    for line in output_lines:\n",
    "        tokens = re.split(' +', line)\n",
    "        if tokens[0] != 'RES':\n",
    "            continue\n",
    "        chain = tokens[2]\n",
    "        chain_id = f\"{structure_code.upper()}:{chain}\"\n",
    "        total_side_rel_rsa = tokens[7]\n",
    "        sasa_dict[chain_id].append(total_side_rel_rsa)\n",
    "        matches.append(True)\n",
    "    return sasa_dict, matches"
   ]
  },
  {
   "cell_type": "code",
   "execution_count": 30,
   "id": "a7598ae8-6b1c-4180-99b6-f68864dc4a85",
   "metadata": {},
   "outputs": [
    {
     "data": {
      "application/vnd.jupyter.widget-view+json": {
       "model_id": "945355b3c3b34b71aabbd0c9c2b6668c",
       "version_major": 2,
       "version_minor": 0
      },
      "text/plain": [
       "Computing SASA for PDB files..:   0%|          | 0/888 [00:00<?, ?it/s]"
      ]
     },
     "metadata": {},
     "output_type": "display_data"
    }
   ],
   "source": [
    "df_dict, new_status_data = dict(), collections.defaultdict(list)\n",
    "fidf = freesasa_status_df.copy(); fidf.index = fidf['structure_code']\n",
    "filenames = [fn for fn in os.listdir(CLEANED_PDB_DIR) if fn.endswith('.pdb') and fn[:4] not in fidf.index]\n",
    "\n",
    "for filename in tqdm(filenames, desc='Computing SASA for PDB files..'):\n",
    "    structure_code = filename.split('.')[0] \n",
    "    freesasa_command = ['freesasa', os.path.join(CLEANED_PDB_DIR, filename), \n",
    "                        '--depth', 'residue', \n",
    "                        '--format', 'rsa']    \n",
    "    try:\n",
    "        output_bytes = subprocess.check_output(freesasa_command)\n",
    "        output_lines = output_bytes.decode(sys.stdout.encoding).split(os.linesep)\n",
    "        # print(\"\\n\".join(output_lines))\n",
    "    except IOError:\n",
    "        print('problem', filename, ' '.join(freesasa_command))\n",
    "        new_status_data['structure_code'].append(structure_code); new_status_data['status'] = 'freesasa-error'\n",
    "        continue\n",
    "\n",
    "    light_sasa, heavy_sasa = [], []\n",
    "    sasa_dict, matches = get_sasa(structure_code, output_lines)\n",
    "\n",
    "    if not sasa_dict and not matches:\n",
    "        print(f'Structure {structure_code} is missing some chain in unaligned_fasta dataset')\n",
    "        new_status_data['structure_code'].append(structure_code); new_status_data['status'] = 'chain-missing'\n",
    "        continue\n",
    "\n",
    "    # report any mismatches between FASTA sequence and FREESASA-generated RSA aminoacid records\n",
    "    if matches.count(True) != len(matches):\n",
    "        print(f'{len(matches) - matches.count(True)} mismatches at {structure_code}')\n",
    "        new_status_data['structure_code'].append(structure_code); new_status_data['status'] = 'fasta-sasa-mismatch'\n",
    "        continue\n",
    "\n",
    "    # this is like df_dict += sasa_dict\n",
    "    # we want to add up all the small dicts to the big one \n",
    "    df_dict = {**df_dict, **sasa_dict}\n",
    "\n",
    "    # save progress\n",
    "    new_status_data['structure_code'].append(structure_code); new_status_data['status'] = 'ok'"
   ]
  },
  {
   "cell_type": "markdown",
   "id": "08ef4f5c-4dcb-44d8-92fc-1756f6718286",
   "metadata": {},
   "source": [
    "**There are no mismatches between FASTA and FREESASA-generated aminoacid sequences, nor any other `freesasa` related problems.**"
   ]
  },
  {
   "cell_type": "markdown",
   "id": "c412b74b-dd66-4207-9431-52c7add2884f",
   "metadata": {},
   "source": [
    "**View summary and store the whole status dataframe to `.csv` file:**"
   ]
  },
  {
   "cell_type": "code",
   "execution_count": 31,
   "id": "393e2663-42ef-4247-95de-3237b598abc1",
   "metadata": {},
   "outputs": [
    {
     "data": {
      "text/plain": [
       "ok    888\n",
       "Name: status, dtype: int64"
      ]
     },
     "execution_count": 31,
     "metadata": {},
     "output_type": "execute_result"
    }
   ],
   "source": [
    "new_freesasa_status_df = pd.DataFrame(new_status_data)\n",
    "freesasa_status_df = pd.concat([freesasa_status_df, new_freesasa_status_df]).drop_duplicates()\n",
    "freesasa_status_df.index = np.arange(0, len(freesasa_status_df))\n",
    "freesasa_status_df.to_csv(FREESASA_STATUS_PATH)\n",
    "freesasa_status_df['status'].value_counts()"
   ]
  },
  {
   "cell_type": "markdown",
   "id": "4f5c4e53-5114-4afe-a948-2184fc4ffa44",
   "metadata": {},
   "source": [
    "**View and store `sasa` dataframe:**"
   ]
  },
  {
   "cell_type": "code",
   "execution_count": 35,
   "id": "e1173a6e-4045-47af-be1b-1041b74cc5fe",
   "metadata": {},
   "outputs": [
    {
     "data": {
      "text/html": [
       "<div>\n",
       "<style scoped>\n",
       "    .dataframe tbody tr th:only-of-type {\n",
       "        vertical-align: middle;\n",
       "    }\n",
       "\n",
       "    .dataframe tbody tr th {\n",
       "        vertical-align: top;\n",
       "    }\n",
       "\n",
       "    .dataframe thead th {\n",
       "        text-align: right;\n",
       "    }\n",
       "</style>\n",
       "<table border=\"1\" class=\"dataframe\">\n",
       "  <thead>\n",
       "    <tr style=\"text-align: right;\">\n",
       "      <th></th>\n",
       "      <th>0</th>\n",
       "      <th>1</th>\n",
       "      <th>2</th>\n",
       "      <th>3</th>\n",
       "      <th>4</th>\n",
       "      <th>5</th>\n",
       "      <th>6</th>\n",
       "      <th>7</th>\n",
       "      <th>8</th>\n",
       "      <th>9</th>\n",
       "      <th>...</th>\n",
       "      <th>585</th>\n",
       "      <th>586</th>\n",
       "      <th>587</th>\n",
       "      <th>588</th>\n",
       "      <th>589</th>\n",
       "      <th>590</th>\n",
       "      <th>591</th>\n",
       "      <th>592</th>\n",
       "      <th>593</th>\n",
       "      <th>594</th>\n",
       "    </tr>\n",
       "  </thead>\n",
       "  <tbody>\n",
       "    <tr>\n",
       "      <th>7DF1:H</th>\n",
       "      <td>62.1</td>\n",
       "      <td>74.7</td>\n",
       "      <td>0.0</td>\n",
       "      <td>55.9</td>\n",
       "      <td>0.0</td>\n",
       "      <td>29.8</td>\n",
       "      <td>N/A</td>\n",
       "      <td>69.3</td>\n",
       "      <td>30.9</td>\n",
       "      <td>82.2</td>\n",
       "      <td>...</td>\n",
       "      <td>None</td>\n",
       "      <td>None</td>\n",
       "      <td>None</td>\n",
       "      <td>None</td>\n",
       "      <td>None</td>\n",
       "      <td>None</td>\n",
       "      <td>None</td>\n",
       "      <td>None</td>\n",
       "      <td>None</td>\n",
       "      <td>None</td>\n",
       "    </tr>\n",
       "    <tr>\n",
       "      <th>7DF1:L</th>\n",
       "      <td>74.7</td>\n",
       "      <td>3.9</td>\n",
       "      <td>78.1</td>\n",
       "      <td>0.0</td>\n",
       "      <td>75.8</td>\n",
       "      <td>0.0</td>\n",
       "      <td>78.1</td>\n",
       "      <td>41.7</td>\n",
       "      <td>87.4</td>\n",
       "      <td>73.2</td>\n",
       "      <td>...</td>\n",
       "      <td>None</td>\n",
       "      <td>None</td>\n",
       "      <td>None</td>\n",
       "      <td>None</td>\n",
       "      <td>None</td>\n",
       "      <td>None</td>\n",
       "      <td>None</td>\n",
       "      <td>None</td>\n",
       "      <td>None</td>\n",
       "      <td>None</td>\n",
       "    </tr>\n",
       "    <tr>\n",
       "      <th>7E9O:H</th>\n",
       "      <td>93.4</td>\n",
       "      <td>38.7</td>\n",
       "      <td>58.4</td>\n",
       "      <td>1.1</td>\n",
       "      <td>72.5</td>\n",
       "      <td>19.0</td>\n",
       "      <td>75.6</td>\n",
       "      <td>N/A</td>\n",
       "      <td>N/A</td>\n",
       "      <td>N/A</td>\n",
       "      <td>...</td>\n",
       "      <td>None</td>\n",
       "      <td>None</td>\n",
       "      <td>None</td>\n",
       "      <td>None</td>\n",
       "      <td>None</td>\n",
       "      <td>None</td>\n",
       "      <td>None</td>\n",
       "      <td>None</td>\n",
       "      <td>None</td>\n",
       "      <td>None</td>\n",
       "    </tr>\n",
       "    <tr>\n",
       "      <th>7E9O:L</th>\n",
       "      <td>88.5</td>\n",
       "      <td>16.0</td>\n",
       "      <td>82.5</td>\n",
       "      <td>0.1</td>\n",
       "      <td>67.6</td>\n",
       "      <td>0.5</td>\n",
       "      <td>46.2</td>\n",
       "      <td>55.8</td>\n",
       "      <td>73.9</td>\n",
       "      <td>45.6</td>\n",
       "      <td>...</td>\n",
       "      <td>None</td>\n",
       "      <td>None</td>\n",
       "      <td>None</td>\n",
       "      <td>None</td>\n",
       "      <td>None</td>\n",
       "      <td>None</td>\n",
       "      <td>None</td>\n",
       "      <td>None</td>\n",
       "      <td>None</td>\n",
       "      <td>None</td>\n",
       "    </tr>\n",
       "    <tr>\n",
       "      <th>7FGJ:H</th>\n",
       "      <td>28.6</td>\n",
       "      <td>74.3</td>\n",
       "      <td>0.2</td>\n",
       "      <td>53.6</td>\n",
       "      <td>0.0</td>\n",
       "      <td>33.5</td>\n",
       "      <td>N/A</td>\n",
       "      <td>25.7</td>\n",
       "      <td>25.8</td>\n",
       "      <td>14.4</td>\n",
       "      <td>...</td>\n",
       "      <td>None</td>\n",
       "      <td>None</td>\n",
       "      <td>None</td>\n",
       "      <td>None</td>\n",
       "      <td>None</td>\n",
       "      <td>None</td>\n",
       "      <td>None</td>\n",
       "      <td>None</td>\n",
       "      <td>None</td>\n",
       "      <td>None</td>\n",
       "    </tr>\n",
       "  </tbody>\n",
       "</table>\n",
       "<p>5 rows × 595 columns</p>\n",
       "</div>"
      ],
      "text/plain": [
       "         0     1     2     3     4     5     6     7     8     9    ...   585  \\\n",
       "7DF1:H  62.1  74.7   0.0  55.9   0.0  29.8   N/A  69.3  30.9  82.2  ...  None   \n",
       "7DF1:L  74.7   3.9  78.1   0.0  75.8   0.0  78.1  41.7  87.4  73.2  ...  None   \n",
       "7E9O:H  93.4  38.7  58.4   1.1  72.5  19.0  75.6   N/A   N/A   N/A  ...  None   \n",
       "7E9O:L  88.5  16.0  82.5   0.1  67.6   0.5  46.2  55.8  73.9  45.6  ...  None   \n",
       "7FGJ:H  28.6  74.3   0.2  53.6   0.0  33.5   N/A  25.7  25.8  14.4  ...  None   \n",
       "\n",
       "         586   587   588   589   590   591   592   593   594  \n",
       "7DF1:H  None  None  None  None  None  None  None  None  None  \n",
       "7DF1:L  None  None  None  None  None  None  None  None  None  \n",
       "7E9O:H  None  None  None  None  None  None  None  None  None  \n",
       "7E9O:L  None  None  None  None  None  None  None  None  None  \n",
       "7FGJ:H  None  None  None  None  None  None  None  None  None  \n",
       "\n",
       "[5 rows x 595 columns]"
      ]
     },
     "execution_count": 35,
     "metadata": {},
     "output_type": "execute_result"
    }
   ],
   "source": [
    "new_sasa_df = pd.DataFrame(list(df_dict.values()), index=list(df_dict.keys())).sort_index()\n",
    "sasa_df = new_sasa_df if old_sasa_df is None else pd.concat([old_sasa_df, new_sasa_df])\n",
    "sasa_df.to_csv(f'{SASA_RELATIVE_UNALIGNED_DIR}/sasa_all.csv')\n",
    "sasa_df.head()"
   ]
  },
  {
   "cell_type": "code",
   "execution_count": 36,
   "id": "4c57aa2a-91c6-4588-89ff-3cdef448eb9b",
   "metadata": {},
   "outputs": [
    {
     "data": {
      "text/plain": [
       "((1776, 595), (1776, 595))"
      ]
     },
     "execution_count": 36,
     "metadata": {},
     "output_type": "execute_result"
    }
   ],
   "source": [
    "sasa_df.shape, fasta_unaligned_df.shape"
   ]
  },
  {
   "cell_type": "markdown",
   "id": "1ec308a2-b45c-426c-b45d-bf0dc145370d",
   "metadata": {},
   "source": [
    "**Create L and H separate dataframes as well:**"
   ]
  },
  {
   "cell_type": "code",
   "execution_count": 38,
   "id": "75cfff16-89fc-4e8b-86c1-24198193eb65",
   "metadata": {},
   "outputs": [],
   "source": [
    "sasa_df = pd.read_csv(f'{SASA_RELATIVE_UNALIGNED_DIR}/sasa_all.csv', index_col=0)\n",
    "u.select_only_chain_sequences(sasa_df, 'L').to_csv(f'{SASA_RELATIVE_UNALIGNED_DIR}/sasa_L.csv')\n",
    "u.select_only_chain_sequences(sasa_df, 'H').to_csv(f'{SASA_RELATIVE_UNALIGNED_DIR}/sasa_H.csv')"
   ]
  },
  {
   "cell_type": "markdown",
   "id": "497997d7-7913-4b42-87f9-052729ca5a85",
   "metadata": {
    "tags": []
   },
   "source": [
    "## Sanity check"
   ]
  },
  {
   "cell_type": "markdown",
   "id": "c29acb00-29fd-4a6e-91eb-64e6c78bffa5",
   "metadata": {},
   "source": [
    "**Check if both `fasta` and `sasa` datasets contain exactly the same sets of keys:**"
   ]
  },
  {
   "cell_type": "code",
   "execution_count": 39,
   "id": "1931b932-da22-4b35-ba0c-20fc5952051f",
   "metadata": {},
   "outputs": [],
   "source": [
    "fasta_df = pd.read_csv(FASTA_UNALIGNED_CSV_PATH, index_col=0)\n",
    "sasa_df  = pd.read_csv(f'{SASA_RELATIVE_UNALIGNED_DIR}/sasa_all.csv', index_col=0)"
   ]
  },
  {
   "cell_type": "code",
   "execution_count": 40,
   "id": "7a63ae1e-edc6-46b0-adcc-c34ca265a705",
   "metadata": {},
   "outputs": [
    {
     "data": {
      "text/plain": [
       "Index([], dtype='object')"
      ]
     },
     "execution_count": 40,
     "metadata": {},
     "output_type": "execute_result"
    }
   ],
   "source": [
    "fasta_abundant = fasta_df.index.difference(sasa_df.index)\n",
    "fasta_abundant"
   ]
  },
  {
   "cell_type": "code",
   "execution_count": 41,
   "id": "1498cb09-3407-417a-8dcd-160f88857bac",
   "metadata": {},
   "outputs": [
    {
     "data": {
      "text/plain": [
       "Index([], dtype='object')"
      ]
     },
     "execution_count": 41,
     "metadata": {},
     "output_type": "execute_result"
    }
   ],
   "source": [
    "sasa_abundant  = sasa_df.index.difference(fasta_df.index)\n",
    "sasa_abundant"
   ]
  },
  {
   "cell_type": "markdown",
   "id": "8065b1de-548a-43e6-a5c3-eb08da9096ed",
   "metadata": {},
   "source": [
    "**It appears they do :)**"
   ]
  }
 ],
 "metadata": {
  "kernelspec": {
   "display_name": "Python 3 (ipykernel)",
   "language": "python",
   "name": "python3"
  },
  "language_info": {
   "codemirror_mode": {
    "name": "ipython",
    "version": 3
   },
   "file_extension": ".py",
   "mimetype": "text/x-python",
   "name": "python",
   "nbconvert_exporter": "python",
   "pygments_lexer": "ipython3",
   "version": "3.10.14"
  }
 },
 "nbformat": 4,
 "nbformat_minor": 5
}
