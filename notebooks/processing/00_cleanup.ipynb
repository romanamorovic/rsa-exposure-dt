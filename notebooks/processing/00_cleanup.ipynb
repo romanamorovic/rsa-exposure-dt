{
 "cells": [
  {
   "cell_type": "markdown",
   "id": "978e99cf-652e-4a0a-b4ef-20bb61348e7c",
   "metadata": {},
   "source": [
    "# 0. Cleanup"
   ]
  },
  {
   "cell_type": "markdown",
   "id": "6a5db0b6-364e-4fb2-9e79-400263841163",
   "metadata": {},
   "source": [
    "To obtain coherent results and visualizations, it is advised to make sure \\\n",
    "all the data directories are empty before going through the notebooks in order."
   ]
  },
  {
   "cell_type": "markdown",
   "id": "83ff591a-0844-42e8-b1f6-f7b9643c6673",
   "metadata": {},
   "source": [
    "**To cleanup the data directories, run the following commands (they may take a while to run):**"
   ]
  },
  {
   "cell_type": "code",
   "execution_count": 3,
   "id": "65d5d3fd-ceaa-4e1e-b799-2e669f6688aa",
   "metadata": {},
   "outputs": [],
   "source": [
    "import bin.params as params"
   ]
  },
  {
   "cell_type": "code",
   "execution_count": 11,
   "id": "828cad4f-13c2-428b-9b82-50df6bf55a48",
   "metadata": {},
   "outputs": [
    {
     "name": "stdout",
     "output_type": "stream",
     "text": [
      "Done. \n",
      "\n",
      "DATA directory: /SFS/user/wp/benor/test/proto-moto/data\n",
      "Its contents: \n",
      "------------------------------\n",
      "backups  csv  pdb  pickles  png  sequences\n"
     ]
    }
   ],
   "source": [
    "command = f\"\"\"\n",
    "# create directories if they do not exist\n",
    "cd {params.DATA_DIR}\n",
    "mkdir -p backups csv pdb pickles png sequences\n",
    "\n",
    "# remove their contents if there is any (except for 'backups' directory)\n",
    "rm -rf csv/* pdb/* pickles/* png/* sequences/*\n",
    "\n",
    "echo 'Done. '\n",
    "echo \n",
    "\n",
    "# output the data directory contents\n",
    "echo 'DATA directory:' $(pwd)\n",
    "echo 'Its contents: '\n",
    "echo '------------------------------'\n",
    "ls\n",
    "\"\"\"\n",
    "! $command"
   ]
  },
  {
   "cell_type": "code",
   "execution_count": null,
   "id": "0509dbbf-2f43-44f0-b246-b958bcd87a21",
   "metadata": {},
   "outputs": [],
   "source": []
  }
 ],
 "metadata": {
  "kernelspec": {
   "display_name": "Python 3 (ipykernel)",
   "language": "python",
   "name": "python3"
  },
  "language_info": {
   "codemirror_mode": {
    "name": "ipython",
    "version": 3
   },
   "file_extension": ".py",
   "mimetype": "text/x-python",
   "name": "python",
   "nbconvert_exporter": "python",
   "pygments_lexer": "ipython3",
   "version": "3.11.5"
  }
 },
 "nbformat": 4,
 "nbformat_minor": 5
}
