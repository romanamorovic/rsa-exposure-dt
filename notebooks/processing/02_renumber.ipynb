{
 "cells": [
  {
   "cell_type": "markdown",
   "id": "95c27d5c-99f4-4973-b866-f64bd737adfe",
   "metadata": {
    "tags": []
   },
   "source": [
    "# 2. Cleanup and renumber PDB files"
   ]
  },
  {
   "cell_type": "markdown",
   "id": "49b0c726-341d-4bc0-a41e-22501c06e6a0",
   "metadata": {},
   "source": [
    "1. we would like to renumber antibody chain from `CHOTHIA` antibody numbering scheme to the incremental one, i.e. each residue will be assigned unique number, starting with 1\n",
    "2. residues that are located in the constant region will be filtered out\n",
    "3. only one pair of HL chains will be kept; based on file metadata\n",
    "4. all files that do not contain suitable HL pair will be filtered out\n",
    "\n",
    "We perform these steps using `cleanup_mAb_renumberer.py` script. The aim is to make data as much convenient for subsequent analyses and experiment as possible.\n",
    "\n",
    "Example script usage:\n",
    "\n",
    "> `python cleanup_mAb_renumberer.py input_dir/1xnx.pdb chothia output_dir/1xnx.pdb` "
   ]
  },
  {
   "cell_type": "markdown",
   "id": "49bd2072-6bbb-48c6-a1a5-65d86c8c171c",
   "metadata": {},
   "source": [
    "___"
   ]
  },
  {
   "cell_type": "markdown",
   "id": "4e3777e3-f6f3-4be9-ad35-c1043855353c",
   "metadata": {
    "tags": []
   },
   "source": [
    "## Setup"
   ]
  },
  {
   "cell_type": "code",
   "execution_count": 22,
   "id": "c860a2d8-cf73-4287-8735-1f604d2b946e",
   "metadata": {},
   "outputs": [],
   "source": [
    "import sys; sys.path.append('../..')\n",
    "import math\n",
    "import os\n",
    "import pickle\n",
    "import subprocess\n",
    "from collections import defaultdict\n",
    "\n",
    "import numpy as np\n",
    "import pandas as pd\n",
    "import seaborn as sns\n",
    "from tqdm.notebook import tqdm\n",
    "\n",
    "import bin.params as p\n",
    "import bin.utils as u\n",
    "import _file_paths as fp\n",
    "import _renumber\n",
    "\n",
    "sns.set_theme()\n",
    "sns.set(rc = {'figure.figsize':(12,6)})"
   ]
  },
  {
   "cell_type": "code",
   "execution_count": 23,
   "id": "9986fb30-7b2b-4275-b8dc-eb612f7b6917",
   "metadata": {},
   "outputs": [
    {
     "data": {
      "text/plain": [
       "('../../data/csv/renumber_status_test.csv',\n",
       " '../../data/pdb/all_structures_2024/chothia',\n",
       " '../../data/pdb/incremental_test',\n",
       " '../../data/png/renumber_status_barplot_test.png')"
      ]
     },
     "execution_count": 23,
     "metadata": {},
     "output_type": "execute_result"
    }
   ],
   "source": [
    "# July2024\n",
    "DATASET = 'test_new_234'\n",
    "RENUMBER_STATUS_PATH = f'{p.DATA_DIR}/csv/renumber_status_July2024.csv' # July2024\n",
    "INPUT_PDB_DIR = f'{p.DATA_DIR}/pdb/all_structures_2024/{p.INITIAL_NUMBERING_SCHEME}' # july2024\n",
    "INCREMENTAL_SCHEME_DIR = f'{p.DATA_DIR}/pdb/incrementalJuly2024'\n",
    "\n",
    "# IB july2024\n",
    "RENUMBER_STATUS_PATH = f'{p.DATA_DIR}/csv/renumber_status_IBJuly2024.csv' # July2024\n",
    "INPUT_PDB_DIR = f'{p.DATA_DIR}/pdb/immunobuilderJuly2024_aho' # july2024\n",
    "INCREMENTAL_SCHEME_DIR = f'{p.DATA_DIR}/pdb/incrementalIBJuly2024'\n",
    "RENUMBER_HISTOGRAM_PATH = f\"{p.DATA_DIR}/png/renumber_status_barplotIBJuly2024.png\"\n",
    "\n",
    "# old\n",
    "DATASET = 'test'\n",
    "RENUMBER_STATUS_PATH = f'{p.DATA_DIR}/csv/renumber_status_{DATASET}.csv' \n",
    "INPUT_PDB_DIR = f'{p.DATA_DIR}/pdb/all_structures_2024/{p.INITIAL_NUMBERING_SCHEME}'\n",
    "INCREMENTAL_SCHEME_DIR = f'{p.DATA_DIR}/pdb/incremental_{DATASET}'\n",
    "RENUMBER_HISTOGRAM_PATH = f\"{p.DATA_DIR}/png/renumber_status_barplot_{DATASET}.png\"\n",
    "\n",
    "(RENUMBER_STATUS_PATH, INPUT_PDB_DIR, INCREMENTAL_SCHEME_DIR, RENUMBER_HISTOGRAM_PATH)"
   ]
  },
  {
   "cell_type": "markdown",
   "id": "a9d8b5db-4909-40e2-b447-885c563578dd",
   "metadata": {},
   "source": [
    "**Create the directory to store renumbered PDBs in:**"
   ]
  },
  {
   "cell_type": "code",
   "execution_count": 24,
   "id": "c7004998-a358-469f-b019-baaa523b30bf",
   "metadata": {},
   "outputs": [
    {
     "name": "stdout",
     "output_type": "stream",
     "text": [
      "command: mkdir -p ../../data/pdb/incremental_test\n"
     ]
    }
   ],
   "source": [
    "command = f'mkdir -p {INCREMENTAL_SCHEME_DIR}'\n",
    "print('command:', command)\n",
    "! $command"
   ]
  },
  {
   "cell_type": "markdown",
   "id": "bbb42c5e-b035-440c-b250-593305b5cd90",
   "metadata": {},
   "source": [
    "---"
   ]
  },
  {
   "cell_type": "markdown",
   "id": "20aceda6-7fca-4583-a4ba-e19f73bbdee9",
   "metadata": {
    "tags": []
   },
   "source": [
    "## Renumber"
   ]
  },
  {
   "cell_type": "markdown",
   "id": "8ccd91c1-73e4-4be6-8100-bb5d2cb7682e",
   "metadata": {},
   "source": [
    "**Load the renumbering-status dataframe so we can continue with renumbering \n",
    "without losing the progress that has been achieved already:**"
   ]
  },
  {
   "cell_type": "code",
   "execution_count": 29,
   "id": "c4327704-396b-4dff-9851-724735a611af",
   "metadata": {},
   "outputs": [
    {
     "name": "stdout",
     "output_type": "stream",
     "text": [
      "total number of structures: 1524\n"
     ]
    },
    {
     "data": {
      "text/plain": [
       "ok                    888\n",
       "hl-not-paired         373\n",
       "single-chain          254\n",
       "chain-not-numbered      7\n",
       "other-error             1\n",
       "alignment-failed        1\n",
       "Name: status, dtype: int64"
      ]
     },
     "execution_count": 29,
     "metadata": {},
     "output_type": "execute_result"
    }
   ],
   "source": [
    "old_renumber_status_df = pd.read_csv(f'{p.DATA_DIR}/csv/renumber_status_July2024.csv', index_col=0)\n",
    "print('total number of structures:', old_renumber_status_df.shape[0])\n",
    "old_renumber_status_df['status'].value_counts()"
   ]
  },
  {
   "cell_type": "code",
   "execution_count": 25,
   "id": "2a191756-1cef-4e13-9551-583fe0075dc5",
   "metadata": {},
   "outputs": [
    {
     "name": "stdout",
     "output_type": "stream",
     "text": [
      "generating status anew\n"
     ]
    }
   ],
   "source": [
    "old_renumber_status_df, renumbered_structures = None, set()\n",
    "\n",
    "if os.path.exists(RENUMBER_STATUS_PATH):\n",
    "    print('loading renumber status from:', RENUMBER_STATUS_PATH)\n",
    "    old_renumber_status_df = pd.read_csv(RENUMBER_STATUS_PATH, index_col=0)\n",
    "    renumbered_structures = set(old_renumber_status_df['structure_code'])\n",
    "else:\n",
    "    print('generating status anew')"
   ]
  },
  {
   "cell_type": "code",
   "execution_count": null,
   "id": "12ddd7bb-8715-436e-bd39-14ee06bea87e",
   "metadata": {},
   "outputs": [],
   "source": [
    "print('total number of structures:', old_renumber_status_df)\n",
    "old_renumber_status_df['status'].value_counts()"
   ]
  },
  {
   "cell_type": "code",
   "execution_count": 21,
   "id": "8f13a043-6e56-440e-a290-deca86d872ab",
   "metadata": {},
   "outputs": [
    {
     "name": "stdout",
     "output_type": "stream",
     "text": [
      "load_dataset: test, metadata file path: ../../data/csv/metadata/metadata_L.csv, chains: L, shape: (643, 19)\n",
      "load_dataset: test, X file path: ../../data/csv/fasta_aligned_cleaned/fasta_aho_L.csv, chains: L, shape: (643, 154)\n",
      "load_dataset: test, Y file path: ../../data/csv/sasa_aligned/sasa_L.csv, chains: L, shape: (643, 154)\n",
      "input PDB dir path: ../../data/pdb/all_structures_2024/chothia\n",
      "filtered filenames length: 32\n"
     ]
    },
    {
     "ename": "AssertionError",
     "evalue": "",
     "output_type": "error",
     "traceback": [
      "\u001b[0;31m---------------------------------------------------------------------------\u001b[0m",
      "\u001b[0;31mAssertionError\u001b[0m                            Traceback (most recent call last)",
      "Cell \u001b[0;32mIn[21], line 8\u001b[0m\n\u001b[1;32m      6\u001b[0m filenames \u001b[38;5;241m=\u001b[39m [x \u001b[38;5;28;01mfor\u001b[39;00m x \u001b[38;5;129;01min\u001b[39;00m os\u001b[38;5;241m.\u001b[39mlistdir(INPUT_PDB_DIR) \u001b[38;5;28;01mif\u001b[39;00m x\u001b[38;5;241m.\u001b[39mendswith(\u001b[38;5;124m'\u001b[39m\u001b[38;5;124m.pdb\u001b[39m\u001b[38;5;124m'\u001b[39m) \u001b[38;5;129;01mand\u001b[39;00m x[:\u001b[38;5;241m4\u001b[39m]\u001b[38;5;241m.\u001b[39mupper() \u001b[38;5;129;01min\u001b[39;00m structures]\n\u001b[1;32m      7\u001b[0m \u001b[38;5;28mprint\u001b[39m(\u001b[38;5;124m'\u001b[39m\u001b[38;5;124mfiltered filenames length:\u001b[39m\u001b[38;5;124m'\u001b[39m, \u001b[38;5;28mlen\u001b[39m(filenames))\n\u001b[0;32m----> 8\u001b[0m \u001b[38;5;28;01massert\u001b[39;00m fasta_test_df\u001b[38;5;241m.\u001b[39mshape[\u001b[38;5;241m0\u001b[39m] \u001b[38;5;241m==\u001b[39m \u001b[38;5;28mlen\u001b[39m(filenames)\n",
      "\u001b[0;31mAssertionError\u001b[0m: "
     ]
    }
   ],
   "source": [
    "if DATASET == 'test':\n",
    "    fasta_test_df, sasa_test_df = u.load_dataset('test', chains='L')\n",
    "    assert fasta_test_df.shape == sasa_test_df.shape\n",
    "    structures = set(ch[:4] for ch in fasta_test_df['Id'])\n",
    "    print('input PDB dir path:', INPUT_PDB_DIR)\n",
    "    filenames = [x for x in os.listdir(INPUT_PDB_DIR) if x.endswith('.pdb') and x[:4].upper() in structures]\n",
    "    print('filtered filenames length:', len(filenames))\n",
    "    assert fasta_test_df.shape[0] == len(filenames)"
   ]
  },
  {
   "cell_type": "markdown",
   "id": "7e9f4023-dd45-4ae5-a7b9-9323875dd92d",
   "metadata": {},
   "source": [
    "**Do the actual renumbering:**"
   ]
  },
  {
   "cell_type": "code",
   "execution_count": 16,
   "id": "2b468160-3b6e-41df-b6be-0e27d320964f",
   "metadata": {},
   "outputs": [],
   "source": [
    "filenames = [x for x in os.listdir(INPUT_PDB_DIR) if x.endswith('.pdb')]"
   ]
  },
  {
   "cell_type": "code",
   "execution_count": 38,
   "id": "b16fb01f-0f80-4071-a9eb-c62c27398148",
   "metadata": {},
   "outputs": [
    {
     "data": {
      "application/vnd.jupyter.widget-view+json": {
       "model_id": "72437a2cea0b4b69beedc09675eb8906",
       "version_major": 2,
       "version_minor": 0
      },
      "text/plain": [
       "Cleaning raw PDB data...:   0%|          | 0/881 [00:00<?, ?it/s]"
      ]
     },
     "metadata": {},
     "output_type": "display_data"
    },
    {
     "ename": "KeyboardInterrupt",
     "evalue": "",
     "output_type": "error",
     "traceback": [
      "\u001b[0;31m---------------------------------------------------------------------------\u001b[0m",
      "\u001b[0;31mKeyboardInterrupt\u001b[0m                         Traceback (most recent call last)",
      "Cell \u001b[0;32mIn[38], line 11\u001b[0m\n\u001b[1;32m      8\u001b[0m     \u001b[38;5;28;01mcontinue\u001b[39;00m\n\u001b[1;32m     10\u001b[0m \u001b[38;5;66;03m# renumber\u001b[39;00m\n\u001b[0;32m---> 11\u001b[0m result \u001b[38;5;241m=\u001b[39m \u001b[43m_renumber\u001b[49m\u001b[38;5;241;43m.\u001b[39;49m\u001b[43mrenumber\u001b[49m\u001b[43m(\u001b[49m\n\u001b[1;32m     12\u001b[0m \u001b[43m    \u001b[49m\u001b[43minput_dir_path\u001b[49m\u001b[38;5;241;43m=\u001b[39;49m\u001b[43mINPUT_PDB_DIR\u001b[49m\u001b[43m,\u001b[49m\u001b[43m \u001b[49m\n\u001b[1;32m     13\u001b[0m \u001b[43m    \u001b[49m\u001b[43mfilename\u001b[49m\u001b[38;5;241;43m=\u001b[39;49m\u001b[43mfilename\u001b[49m\u001b[43m,\u001b[49m\n\u001b[1;32m     14\u001b[0m \u001b[43m    \u001b[49m\u001b[43moutput_dir_path\u001b[49m\u001b[38;5;241;43m=\u001b[39;49m\u001b[43mINCREMENTAL_SCHEME_DIR\u001b[49m\u001b[43m,\u001b[49m\n\u001b[1;32m     15\u001b[0m \u001b[43m    \u001b[49m\u001b[43mfinal_numbering_scheme\u001b[49m\u001b[38;5;241;43m=\u001b[39;49m\u001b[38;5;124;43m'\u001b[39;49m\u001b[38;5;124;43mincremental\u001b[39;49m\u001b[38;5;124;43m'\u001b[39;49m\u001b[43m)\u001b[49m\n\u001b[1;32m     17\u001b[0m \u001b[38;5;66;03m# add to the results structure\u001b[39;00m\n\u001b[1;32m     18\u001b[0m new_renumber_status_data[\u001b[38;5;124m'\u001b[39m\u001b[38;5;124mstructure_code\u001b[39m\u001b[38;5;124m'\u001b[39m]\u001b[38;5;241m.\u001b[39mappend(result[\u001b[38;5;124m'\u001b[39m\u001b[38;5;124mstructure_code\u001b[39m\u001b[38;5;124m'\u001b[39m])\n",
      "File \u001b[0;32m~/diplomecka/romanbackups/notebooks/processing/_renumber.py:37\u001b[0m, in \u001b[0;36mrenumber\u001b[0;34m(input_dir_path, filename, output_dir_path, final_numbering_scheme)\u001b[0m\n\u001b[1;32m     34\u001b[0m output_file_path \u001b[38;5;241m=\u001b[39m os\u001b[38;5;241m.\u001b[39mpath\u001b[38;5;241m.\u001b[39mjoin(output_dir_path, filename)\n\u001b[1;32m     35\u001b[0m cleanup_command \u001b[38;5;241m=\u001b[39m [\u001b[38;5;124m'\u001b[39m\u001b[38;5;124mpython\u001b[39m\u001b[38;5;124m'\u001b[39m, fp\u001b[38;5;241m.\u001b[39mPDB_CLEANUP_SCRIPT_PATH,\n\u001b[1;32m     36\u001b[0m                    input_file_path, final_numbering_scheme, output_file_path]\n\u001b[0;32m---> 37\u001b[0m result_code \u001b[38;5;241m=\u001b[39m \u001b[43msubprocess\u001b[49m\u001b[38;5;241;43m.\u001b[39;49m\u001b[43mcall\u001b[49m\u001b[43m(\u001b[49m\u001b[43mcleanup_command\u001b[49m\u001b[43m,\u001b[49m\u001b[43m \u001b[49m\n\u001b[1;32m     38\u001b[0m \u001b[43m                              \u001b[49m\u001b[43mstdout\u001b[49m\u001b[38;5;241;43m=\u001b[39;49m\u001b[43msubprocess\u001b[49m\u001b[38;5;241;43m.\u001b[39;49m\u001b[43mDEVNULL\u001b[49m\u001b[43m)\u001b[49m\n\u001b[1;32m     40\u001b[0m status \u001b[38;5;241m=\u001b[39m RESULT_CODE_TO_STATUS_MAPPING\u001b[38;5;241m.\u001b[39mget(result_code, \u001b[38;5;124m'\u001b[39m\u001b[38;5;124mother-error\u001b[39m\u001b[38;5;124m'\u001b[39m)\n\u001b[1;32m     42\u001b[0m \u001b[38;5;28;01mif\u001b[39;00m status \u001b[38;5;241m==\u001b[39m \u001b[38;5;124m'\u001b[39m\u001b[38;5;124mother-error\u001b[39m\u001b[38;5;124m'\u001b[39m:\n",
      "File \u001b[0;32m~/anaconda3/envs/mamba/lib/python3.10/subprocess.py:347\u001b[0m, in \u001b[0;36mcall\u001b[0;34m(timeout, *popenargs, **kwargs)\u001b[0m\n\u001b[1;32m    345\u001b[0m \u001b[38;5;28;01mwith\u001b[39;00m Popen(\u001b[38;5;241m*\u001b[39mpopenargs, \u001b[38;5;241m*\u001b[39m\u001b[38;5;241m*\u001b[39mkwargs) \u001b[38;5;28;01mas\u001b[39;00m p:\n\u001b[1;32m    346\u001b[0m     \u001b[38;5;28;01mtry\u001b[39;00m:\n\u001b[0;32m--> 347\u001b[0m         \u001b[38;5;28;01mreturn\u001b[39;00m \u001b[43mp\u001b[49m\u001b[38;5;241;43m.\u001b[39;49m\u001b[43mwait\u001b[49m\u001b[43m(\u001b[49m\u001b[43mtimeout\u001b[49m\u001b[38;5;241;43m=\u001b[39;49m\u001b[43mtimeout\u001b[49m\u001b[43m)\u001b[49m\n\u001b[1;32m    348\u001b[0m     \u001b[38;5;28;01mexcept\u001b[39;00m:  \u001b[38;5;66;03m# Including KeyboardInterrupt, wait handled that.\u001b[39;00m\n\u001b[1;32m    349\u001b[0m         p\u001b[38;5;241m.\u001b[39mkill()\n",
      "File \u001b[0;32m~/anaconda3/envs/mamba/lib/python3.10/subprocess.py:1209\u001b[0m, in \u001b[0;36mPopen.wait\u001b[0;34m(self, timeout)\u001b[0m\n\u001b[1;32m   1207\u001b[0m     endtime \u001b[38;5;241m=\u001b[39m _time() \u001b[38;5;241m+\u001b[39m timeout\n\u001b[1;32m   1208\u001b[0m \u001b[38;5;28;01mtry\u001b[39;00m:\n\u001b[0;32m-> 1209\u001b[0m     \u001b[38;5;28;01mreturn\u001b[39;00m \u001b[38;5;28;43mself\u001b[39;49m\u001b[38;5;241;43m.\u001b[39;49m\u001b[43m_wait\u001b[49m\u001b[43m(\u001b[49m\u001b[43mtimeout\u001b[49m\u001b[38;5;241;43m=\u001b[39;49m\u001b[43mtimeout\u001b[49m\u001b[43m)\u001b[49m\n\u001b[1;32m   1210\u001b[0m \u001b[38;5;28;01mexcept\u001b[39;00m \u001b[38;5;167;01mKeyboardInterrupt\u001b[39;00m:\n\u001b[1;32m   1211\u001b[0m     \u001b[38;5;66;03m# https://bugs.python.org/issue25942\u001b[39;00m\n\u001b[1;32m   1212\u001b[0m     \u001b[38;5;66;03m# The first keyboard interrupt waits briefly for the child to\u001b[39;00m\n\u001b[1;32m   1213\u001b[0m     \u001b[38;5;66;03m# exit under the common assumption that it also received the ^C\u001b[39;00m\n\u001b[1;32m   1214\u001b[0m     \u001b[38;5;66;03m# generated SIGINT and will exit rapidly.\u001b[39;00m\n\u001b[1;32m   1215\u001b[0m     \u001b[38;5;28;01mif\u001b[39;00m timeout \u001b[38;5;129;01mis\u001b[39;00m \u001b[38;5;129;01mnot\u001b[39;00m \u001b[38;5;28;01mNone\u001b[39;00m:\n",
      "File \u001b[0;32m~/anaconda3/envs/mamba/lib/python3.10/subprocess.py:1959\u001b[0m, in \u001b[0;36mPopen._wait\u001b[0;34m(self, timeout)\u001b[0m\n\u001b[1;32m   1957\u001b[0m \u001b[38;5;28;01mif\u001b[39;00m \u001b[38;5;28mself\u001b[39m\u001b[38;5;241m.\u001b[39mreturncode \u001b[38;5;129;01mis\u001b[39;00m \u001b[38;5;129;01mnot\u001b[39;00m \u001b[38;5;28;01mNone\u001b[39;00m:\n\u001b[1;32m   1958\u001b[0m     \u001b[38;5;28;01mbreak\u001b[39;00m  \u001b[38;5;66;03m# Another thread waited.\u001b[39;00m\n\u001b[0;32m-> 1959\u001b[0m (pid, sts) \u001b[38;5;241m=\u001b[39m \u001b[38;5;28;43mself\u001b[39;49m\u001b[38;5;241;43m.\u001b[39;49m\u001b[43m_try_wait\u001b[49m\u001b[43m(\u001b[49m\u001b[38;5;241;43m0\u001b[39;49m\u001b[43m)\u001b[49m\n\u001b[1;32m   1960\u001b[0m \u001b[38;5;66;03m# Check the pid and loop as waitpid has been known to\u001b[39;00m\n\u001b[1;32m   1961\u001b[0m \u001b[38;5;66;03m# return 0 even without WNOHANG in odd situations.\u001b[39;00m\n\u001b[1;32m   1962\u001b[0m \u001b[38;5;66;03m# http://bugs.python.org/issue14396.\u001b[39;00m\n\u001b[1;32m   1963\u001b[0m \u001b[38;5;28;01mif\u001b[39;00m pid \u001b[38;5;241m==\u001b[39m \u001b[38;5;28mself\u001b[39m\u001b[38;5;241m.\u001b[39mpid:\n",
      "File \u001b[0;32m~/anaconda3/envs/mamba/lib/python3.10/subprocess.py:1917\u001b[0m, in \u001b[0;36mPopen._try_wait\u001b[0;34m(self, wait_flags)\u001b[0m\n\u001b[1;32m   1915\u001b[0m \u001b[38;5;250m\u001b[39m\u001b[38;5;124;03m\"\"\"All callers to this function MUST hold self._waitpid_lock.\"\"\"\u001b[39;00m\n\u001b[1;32m   1916\u001b[0m \u001b[38;5;28;01mtry\u001b[39;00m:\n\u001b[0;32m-> 1917\u001b[0m     (pid, sts) \u001b[38;5;241m=\u001b[39m \u001b[43mos\u001b[49m\u001b[38;5;241;43m.\u001b[39;49m\u001b[43mwaitpid\u001b[49m\u001b[43m(\u001b[49m\u001b[38;5;28;43mself\u001b[39;49m\u001b[38;5;241;43m.\u001b[39;49m\u001b[43mpid\u001b[49m\u001b[43m,\u001b[49m\u001b[43m \u001b[49m\u001b[43mwait_flags\u001b[49m\u001b[43m)\u001b[49m\n\u001b[1;32m   1918\u001b[0m \u001b[38;5;28;01mexcept\u001b[39;00m \u001b[38;5;167;01mChildProcessError\u001b[39;00m:\n\u001b[1;32m   1919\u001b[0m     \u001b[38;5;66;03m# This happens if SIGCLD is set to be ignored or waiting\u001b[39;00m\n\u001b[1;32m   1920\u001b[0m     \u001b[38;5;66;03m# for child processes has otherwise been disabled for our\u001b[39;00m\n\u001b[1;32m   1921\u001b[0m     \u001b[38;5;66;03m# process.  This child is dead, we can't get the status.\u001b[39;00m\n\u001b[1;32m   1922\u001b[0m     pid \u001b[38;5;241m=\u001b[39m \u001b[38;5;28mself\u001b[39m\u001b[38;5;241m.\u001b[39mpid\n",
      "\u001b[0;31mKeyboardInterrupt\u001b[0m: "
     ]
    }
   ],
   "source": [
    "new_renumber_status_data = defaultdict(list)\n",
    "for filename in tqdm(filenames, desc='Cleaning raw PDB data...'):\n",
    "    structure_code = filename.split('.')[0]\n",
    "    if not filename.endswith('.pdb'): continue\n",
    "    if old_renumber_status_df is not None and structure_code in renumbered_structures:\n",
    "        # no need to process the structure again, processed already\n",
    "        continue\n",
    "       \n",
    "    # renumber\n",
    "    result = _renumber.renumber(\n",
    "        input_dir_path=INPUT_PDB_DIR, \n",
    "        filename=filename,\n",
    "        output_dir_path=INCREMENTAL_SCHEME_DIR,\n",
    "        final_numbering_scheme='incremental')\n",
    "    \n",
    "    # add to the results structure\n",
    "    new_renumber_status_data['structure_code'].append(result['structure_code'])\n",
    "    new_renumber_status_data['status'].append(result['status'])"
   ]
  },
  {
   "cell_type": "code",
   "execution_count": 39,
   "id": "09c0c215-5fc4-4ad0-8101-0667b5d95201",
   "metadata": {},
   "outputs": [
    {
     "data": {
      "text/plain": [
       "defaultdict(list,\n",
       "            {'structure_code': ['8QH0',\n",
       "              '8DS5',\n",
       "              '8HEC',\n",
       "              '7UL1',\n",
       "              '8XN9',\n",
       "              '7UVI',\n",
       "              '8OXX',\n",
       "              '8DIM',\n",
       "              '8DKE',\n",
       "              '8SDG',\n",
       "              '8HPU',\n",
       "              '7XDA',\n",
       "              '8E8Y',\n",
       "              '8UKY',\n",
       "              '8U08',\n",
       "              '8IUY',\n",
       "              '7QT3',\n",
       "              '7Z3W',\n",
       "              '7THO',\n",
       "              '8IB1',\n",
       "              '8BSE',\n",
       "              '8GAS',\n",
       "              '7XRZ',\n",
       "              '8EUU',\n",
       "              '7TJQ',\n",
       "              '7QT2',\n",
       "              '7ZQT',\n",
       "              '8GY5',\n",
       "              '8E8X',\n",
       "              '8SDF',\n",
       "              '8CBZ',\n",
       "              '7WCK',\n",
       "              '8DF5',\n",
       "              '8OXY',\n",
       "              '7UVH',\n",
       "              '7U64',\n",
       "              '7RE9',\n",
       "              '8A99',\n",
       "              '8CT6',\n",
       "              '7UL0',\n",
       "              '8TUI',\n",
       "              '8HEB',\n",
       "              '8QH1',\n",
       "              '7WWL',\n",
       "              '8TV1',\n",
       "              '7U9O',\n",
       "              '8SSZ',\n",
       "              '8ACI',\n",
       "              '7YV1',\n",
       "              '8SIT',\n",
       "              '8AWL',\n",
       "              '8VUI',\n",
       "              '8SIC',\n",
       "              '7WN8',\n",
       "              '8DKF',\n",
       "              '8HPV',\n",
       "              '7WBZ',\n",
       "              '8CBX',\n",
       "              '8T7I',\n",
       "              '7TR4',\n",
       "              '7XDB',\n",
       "              '7STS',\n",
       "              '8IUZ',\n",
       "              '8GZZ',\n",
       "              '8EUW',\n",
       "              '7QT0',\n",
       "              '8BSF',\n",
       "              '7Z0X',\n",
       "              '8P6I',\n",
       "              '7T3M',\n",
       "              '8P6H',\n",
       "              '8G4M',\n",
       "              '7TD8',\n",
       "              '8EZ8',\n",
       "              '8G8N',\n",
       "              '7Z0Y',\n",
       "              '7SL5',\n",
       "              '8EUV',\n",
       "              '8BF0',\n",
       "              '7STR',\n",
       "              '8EOO',\n",
       "              '7XEG',\n",
       "              '8CBY',\n",
       "              '8D1T',\n",
       "              '8HRH',\n",
       "              '8C67',\n",
       "              '8D01',\n",
       "              '8D29',\n",
       "              '8SGI',\n",
       "              '8V4F',\n",
       "              '8FG0',\n",
       "              '8CW9',\n",
       "              '8FJA',\n",
       "              '8DPM',\n",
       "              '8DS7',\n",
       "              '7WVI',\n",
       "              '7WUR',\n",
       "              '7WWM',\n",
       "              '7WWI',\n",
       "              '8CWK',\n",
       "              '7UM3',\n",
       "              '7U63',\n",
       "              '7UCY',\n",
       "              '8DJG',\n",
       "              '8JEP',\n",
       "              '8SIQ',\n",
       "              '7UVO',\n",
       "              '8C7V',\n",
       "              '8CAF',\n",
       "              '8DGW',\n",
       "              '7WBH',\n",
       "              '7SUE',\n",
       "              '8ELP',\n",
       "              '8UIW',\n",
       "              '8U32',\n",
       "              '7VGS',\n",
       "              '7QU1',\n",
       "              '8G9Y',\n",
       "              '8GBY',\n",
       "              '8GB8',\n",
       "              '7T17',\n",
       "              '7SA6',\n",
       "              '7XS8',\n",
       "              '8GAT',\n",
       "              '7SBZ',\n",
       "              '8GBX',\n",
       "              '8G9X',\n",
       "              '7QT4',\n",
       "              '8BG1',\n",
       "              '7VGR'],\n",
       "             'status': ['hl-not-paired',\n",
       "              'hl-not-paired',\n",
       "              'hl-not-paired',\n",
       "              'hl-not-paired',\n",
       "              'hl-not-paired',\n",
       "              'hl-not-paired',\n",
       "              'hl-not-paired',\n",
       "              'hl-not-paired',\n",
       "              'hl-not-paired',\n",
       "              'hl-not-paired',\n",
       "              'hl-not-paired',\n",
       "              'hl-not-paired',\n",
       "              'hl-not-paired',\n",
       "              'hl-not-paired',\n",
       "              'hl-not-paired',\n",
       "              'hl-not-paired',\n",
       "              'hl-not-paired',\n",
       "              'hl-not-paired',\n",
       "              'hl-not-paired',\n",
       "              'hl-not-paired',\n",
       "              'hl-not-paired',\n",
       "              'hl-not-paired',\n",
       "              'hl-not-paired',\n",
       "              'hl-not-paired',\n",
       "              'hl-not-paired',\n",
       "              'hl-not-paired',\n",
       "              'hl-not-paired',\n",
       "              'hl-not-paired',\n",
       "              'hl-not-paired',\n",
       "              'hl-not-paired',\n",
       "              'hl-not-paired',\n",
       "              'hl-not-paired',\n",
       "              'hl-not-paired',\n",
       "              'hl-not-paired',\n",
       "              'hl-not-paired',\n",
       "              'hl-not-paired',\n",
       "              'hl-not-paired',\n",
       "              'hl-not-paired',\n",
       "              'hl-not-paired',\n",
       "              'hl-not-paired',\n",
       "              'hl-not-paired',\n",
       "              'hl-not-paired',\n",
       "              'hl-not-paired',\n",
       "              'hl-not-paired',\n",
       "              'hl-not-paired',\n",
       "              'hl-not-paired',\n",
       "              'hl-not-paired',\n",
       "              'hl-not-paired',\n",
       "              'hl-not-paired',\n",
       "              'hl-not-paired',\n",
       "              'hl-not-paired',\n",
       "              'hl-not-paired',\n",
       "              'hl-not-paired',\n",
       "              'hl-not-paired',\n",
       "              'hl-not-paired',\n",
       "              'hl-not-paired',\n",
       "              'hl-not-paired',\n",
       "              'hl-not-paired',\n",
       "              'hl-not-paired',\n",
       "              'hl-not-paired',\n",
       "              'hl-not-paired',\n",
       "              'hl-not-paired',\n",
       "              'hl-not-paired',\n",
       "              'hl-not-paired',\n",
       "              'hl-not-paired',\n",
       "              'hl-not-paired',\n",
       "              'hl-not-paired',\n",
       "              'hl-not-paired',\n",
       "              'hl-not-paired',\n",
       "              'hl-not-paired',\n",
       "              'hl-not-paired',\n",
       "              'hl-not-paired',\n",
       "              'hl-not-paired',\n",
       "              'hl-not-paired',\n",
       "              'hl-not-paired',\n",
       "              'hl-not-paired',\n",
       "              'hl-not-paired',\n",
       "              'hl-not-paired',\n",
       "              'hl-not-paired',\n",
       "              'hl-not-paired',\n",
       "              'hl-not-paired',\n",
       "              'hl-not-paired',\n",
       "              'hl-not-paired',\n",
       "              'hl-not-paired',\n",
       "              'hl-not-paired',\n",
       "              'hl-not-paired',\n",
       "              'hl-not-paired',\n",
       "              'hl-not-paired',\n",
       "              'hl-not-paired',\n",
       "              'hl-not-paired',\n",
       "              'hl-not-paired',\n",
       "              'hl-not-paired',\n",
       "              'hl-not-paired',\n",
       "              'hl-not-paired',\n",
       "              'hl-not-paired',\n",
       "              'hl-not-paired',\n",
       "              'hl-not-paired',\n",
       "              'hl-not-paired',\n",
       "              'hl-not-paired',\n",
       "              'hl-not-paired',\n",
       "              'hl-not-paired',\n",
       "              'hl-not-paired',\n",
       "              'hl-not-paired',\n",
       "              'hl-not-paired',\n",
       "              'hl-not-paired',\n",
       "              'hl-not-paired',\n",
       "              'hl-not-paired',\n",
       "              'hl-not-paired',\n",
       "              'hl-not-paired',\n",
       "              'hl-not-paired',\n",
       "              'hl-not-paired',\n",
       "              'hl-not-paired',\n",
       "              'hl-not-paired',\n",
       "              'hl-not-paired',\n",
       "              'hl-not-paired',\n",
       "              'hl-not-paired',\n",
       "              'hl-not-paired',\n",
       "              'hl-not-paired',\n",
       "              'hl-not-paired',\n",
       "              'hl-not-paired',\n",
       "              'hl-not-paired',\n",
       "              'hl-not-paired',\n",
       "              'hl-not-paired',\n",
       "              'hl-not-paired',\n",
       "              'hl-not-paired',\n",
       "              'hl-not-paired',\n",
       "              'hl-not-paired',\n",
       "              'hl-not-paired',\n",
       "              'hl-not-paired',\n",
       "              'hl-not-paired']})"
      ]
     },
     "execution_count": 39,
     "metadata": {},
     "output_type": "execute_result"
    }
   ],
   "source": [
    "new_renumber_status_data"
   ]
  },
  {
   "cell_type": "markdown",
   "id": "55eec98c-2297-4767-9e19-cc5d00a17d0a",
   "metadata": {},
   "source": [
    "**Store the results to `.csv` file:**"
   ]
  },
  {
   "cell_type": "code",
   "execution_count": 24,
   "id": "6d212eab-68fa-4c63-b42c-92be6716265b",
   "metadata": {},
   "outputs": [
    {
     "name": "stdout",
     "output_type": "stream",
     "text": [
      "total_renumber_status_df.shape: (880, 2)\n"
     ]
    }
   ],
   "source": [
    "new_renumber_status_df = pd.DataFrame(new_renumber_status_data)\n",
    "\n",
    "if old_renumber_status_df is not None:\n",
    "    total_renumber_status_df = pd.concat([old_renumber_status_df, new_renumber_status_df]).reset_index()\n",
    "    print('concating...')\n",
    "else: \n",
    "    total_renumber_status_df = new_renumber_status_df\n",
    "\n",
    "total_renumber_status_df = total_renumber_status_df.drop(columns=['level_0', 'index'], errors='ignore')\n",
    "print('total_renumber_status_df.shape:', total_renumber_status_df.shape)\n",
    "total_renumber_status_df.to_csv(RENUMBER_STATUS_PATH)"
   ]
  },
  {
   "cell_type": "markdown",
   "id": "419f727b-e442-4247-affa-b7ea8b595b07",
   "metadata": {
    "tags": []
   },
   "source": [
    "## Sanity check"
   ]
  },
  {
   "cell_type": "markdown",
   "id": "c3e877ea-108b-4c52-9a90-84b12bf16cc1",
   "metadata": {
    "tags": []
   },
   "source": [
    "Does the number of files we have in `data/pdb/incremental` directory match the number of `ok` records in `renumber_status` dataframe?"
   ]
  },
  {
   "cell_type": "markdown",
   "id": "93bb186b-3d77-4199-b2cc-90369b53d741",
   "metadata": {},
   "source": [
    "**1. Number of files in the directory:**"
   ]
  },
  {
   "cell_type": "code",
   "execution_count": 29,
   "id": "8b373983-cc3e-468f-9ce3-82a0d36ec71b",
   "metadata": {},
   "outputs": [
    {
     "name": "stdout",
     "output_type": "stream",
     "text": [
      "total 0\n"
     ]
    }
   ],
   "source": [
    "ls -l ../../data/pdb/incrementalIBJuly2024"
   ]
  },
  {
   "cell_type": "code",
   "execution_count": 28,
   "id": "bb13c220-ace9-4130-a858-c67b5edb9056",
   "metadata": {},
   "outputs": [
    {
     "name": "stdout",
     "output_type": "stream",
     "text": [
      "../../data/pdb/incrementalIBJuly2024\n",
      "       0\n"
     ]
    }
   ],
   "source": [
    "# `tail -n +2` will skip the first line of `ls` output (that one is just a summary line)\n",
    "print(INCREMENTAL_SCHEME_DIR)\n",
    "command = f\"ls -l {INCREMENTAL_SCHEME_DIR} | tail -n +2 | wc -l\"\n",
    "! $command"
   ]
  },
  {
   "cell_type": "markdown",
   "id": "748abd4e-51a4-4707-9945-eaa77fa2e4c2",
   "metadata": {},
   "source": [
    "**2. Number of `ok` records in the dataframe:**"
   ]
  },
  {
   "cell_type": "code",
   "execution_count": 38,
   "id": "c937437d-0baa-4fdf-bbb7-53e53d24b170",
   "metadata": {},
   "outputs": [
    {
     "data": {
      "text/plain": [
       "888"
      ]
     },
     "execution_count": 38,
     "metadata": {},
     "output_type": "execute_result"
    }
   ],
   "source": [
    "ok_records = total_renumber_status_df[ total_renumber_status_df['status'] == 'ok' ]\n",
    "ok_records.shape[0]"
   ]
  },
  {
   "cell_type": "markdown",
   "id": "ea4ce632-3625-4340-982d-efca8a5d6933",
   "metadata": {},
   "source": [
    "**If the counts do not match, which files are missing in the directory?**"
   ]
  },
  {
   "cell_type": "code",
   "execution_count": 39,
   "id": "65a57927-af5b-41bc-8815-f9102a49612a",
   "metadata": {},
   "outputs": [
    {
     "data": {
      "text/plain": [
       "(set(), set())"
      ]
     },
     "execution_count": 39,
     "metadata": {},
     "output_type": "execute_result"
    }
   ],
   "source": [
    "dataframe_structures = set(ok_records['structure_code'].values)\n",
    "directory_structures = set(f[:-4] for f in os.listdir(INCREMENTAL_SCHEME_DIR) if f.endswith('.pdb'))\n",
    "dataframe_structures.difference(directory_structures), directory_structures.difference(dataframe_structures)"
   ]
  },
  {
   "cell_type": "markdown",
   "id": "366d3c74-fb54-4d3d-a50f-f7bd5adac1aa",
   "metadata": {},
   "source": [
    "**If none are missing, then it is problem with dataframe duplicates, drop them:**\n"
   ]
  },
  {
   "cell_type": "code",
   "execution_count": 41,
   "id": "f5b77a36-8476-476d-b229-9cbce3c42356",
   "metadata": {},
   "outputs": [
    {
     "data": {
      "text/plain": [
       "(1524, 2)"
      ]
     },
     "execution_count": 41,
     "metadata": {},
     "output_type": "execute_result"
    }
   ],
   "source": [
    "new_total_df = total_renumber_status_df.drop_duplicates()\n",
    "new_total_df.shape"
   ]
  },
  {
   "cell_type": "markdown",
   "id": "064092e2-129a-42fb-87ad-83fdbfa592d1",
   "metadata": {},
   "source": [
    "**Save the corrected dataframe:**"
   ]
  },
  {
   "cell_type": "code",
   "execution_count": 42,
   "id": "a615b1c3-1c02-417a-84d7-1ec3d8cc234c",
   "metadata": {
    "tags": []
   },
   "outputs": [],
   "source": [
    "new_total_df.to_csv(RENUMBER_STATUS_PATH)"
   ]
  },
  {
   "cell_type": "markdown",
   "id": "60a9e636-4d96-41d6-b982-6e88948bf823",
   "metadata": {},
   "source": [
    "---"
   ]
  },
  {
   "cell_type": "markdown",
   "id": "f095e218-9489-458f-bd99-8a1e855533c2",
   "metadata": {
    "tags": []
   },
   "source": [
    "## Visualize the renumbering results"
   ]
  },
  {
   "cell_type": "markdown",
   "id": "12127ac4-e708-4288-994f-8be13303bfba",
   "metadata": {},
   "source": [
    "**Show what the renumbering status DF looks like:**"
   ]
  },
  {
   "cell_type": "code",
   "execution_count": 43,
   "id": "e956745a-32b0-466e-9b6e-c22c2cb2f68f",
   "metadata": {},
   "outputs": [
    {
     "data": {
      "text/html": [
       "<div>\n",
       "<style scoped>\n",
       "    .dataframe tbody tr th:only-of-type {\n",
       "        vertical-align: middle;\n",
       "    }\n",
       "\n",
       "    .dataframe tbody tr th {\n",
       "        vertical-align: top;\n",
       "    }\n",
       "\n",
       "    .dataframe thead th {\n",
       "        text-align: right;\n",
       "    }\n",
       "</style>\n",
       "<table border=\"1\" class=\"dataframe\">\n",
       "  <thead>\n",
       "    <tr style=\"text-align: right;\">\n",
       "      <th></th>\n",
       "      <th>structure_code</th>\n",
       "      <th>status</th>\n",
       "    </tr>\n",
       "  </thead>\n",
       "  <tbody>\n",
       "    <tr>\n",
       "      <th>0</th>\n",
       "      <td>7um5</td>\n",
       "      <td>single-chain</td>\n",
       "    </tr>\n",
       "    <tr>\n",
       "      <th>1</th>\n",
       "      <td>8qh0</td>\n",
       "      <td>ok</td>\n",
       "    </tr>\n",
       "    <tr>\n",
       "      <th>2</th>\n",
       "      <td>8spu</td>\n",
       "      <td>single-chain</td>\n",
       "    </tr>\n",
       "  </tbody>\n",
       "</table>\n",
       "</div>"
      ],
      "text/plain": [
       "  structure_code        status\n",
       "0           7um5  single-chain\n",
       "1           8qh0            ok\n",
       "2           8spu  single-chain"
      ]
     },
     "execution_count": 43,
     "metadata": {},
     "output_type": "execute_result"
    }
   ],
   "source": [
    "total_renumber_status_df = pd.read_csv(RENUMBER_STATUS_PATH, index_col=0)\n",
    "total_renumber_status_df.head(n=3)"
   ]
  },
  {
   "cell_type": "markdown",
   "id": "c88a3287-0d90-41f8-ab62-dadc25ae1f54",
   "metadata": {},
   "source": [
    "**Visualize:** "
   ]
  },
  {
   "cell_type": "code",
   "execution_count": 44,
   "id": "4d8c1028-4129-4118-8595-f17046961c04",
   "metadata": {},
   "outputs": [
    {
     "data": {
      "image/png": "[encoded data removed]",
      "text/plain": [
       "<Figure size 1200x600 with 1 Axes>"
      ]
     },
     "metadata": {},
     "output_type": "display_data"
    }
   ],
   "source": [
    "status_counts = total_renumber_status_df.groupby('status').count()\n",
    "status_counts.columns = ['structure_count']\n",
    "status_counts.sort_values(by='structure_count', ascending=False, inplace=True)\n",
    "sc_plot = status_counts.plot.bar(legend=False)\n",
    "u.show_barplot_values(sc_plot)\n",
    "u.annotate_plot(plot=sc_plot,\n",
    "    show_bar_values = True, bar_decimals = 0, \n",
    "    title=f'renumbering procedure results histogram', \n",
    "    xlabel='Renumbering result',\n",
    "    ylabel='Number of structures')\n",
    "sc_plot.figure.savefig(RENUMBER_HISTOGRAM_PATH)"
   ]
  },
  {
   "cell_type": "code",
   "execution_count": null,
   "id": "4fe61263-eb98-45ff-b248-0d8d1d30f067",
   "metadata": {},
   "outputs": [],
   "source": [
    "# remove the structures that do not have sidechains\n",
    "# add missing hydrogens\n",
    "# compute number of missing atoms"
   ]
  }
 ],
 "metadata": {
  "kernelspec": {
   "display_name": "Python 3 (ipykernel)",
   "language": "python",
   "name": "python3"
  },
  "language_info": {
   "codemirror_mode": {
    "name": "ipython",
    "version": 3
   },
   "file_extension": ".py",
   "mimetype": "text/x-python",
   "name": "python",
   "nbconvert_exporter": "python",
   "pygments_lexer": "ipython3",
   "version": "3.10.14"
  }
 },
 "nbformat": 4,
 "nbformat_minor": 5
}
