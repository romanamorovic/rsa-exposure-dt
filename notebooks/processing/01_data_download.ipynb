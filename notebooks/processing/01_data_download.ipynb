{
 "cells": [
  {
   "cell_type": "markdown",
   "id": "49b2c5e8-7f0c-4baf-9054-1c08bb391e86",
   "metadata": {},
   "source": [
    "# 1. Data description and retrieval"
   ]
  },
  {
   "cell_type": "code",
   "execution_count": 5,
   "id": "3201ab68-25ae-4bc4-b86e-ee44443354d5",
   "metadata": {},
   "outputs": [],
   "source": [
    "import bin.params as params\n",
    "from IPython.display import Markdown as md"
   ]
  },
  {
   "cell_type": "markdown",
   "id": "b384a154-2871-4170-8d37-ad6207b4147f",
   "metadata": {
    "tags": []
   },
   "source": [
    "## Data"
   ]
  },
  {
   "cell_type": "markdown",
   "id": "100404ad-1ef2-44e3-9a7a-7dc1efcfad6f",
   "metadata": {},
   "source": [
    "We use **P**rotein**D**ata**B**ank (`.pdb`) files downloaded from \n",
    "`SAbDab - The Structural Antibody Database` project website (http://opig.stats.ox.ac.uk/webapps/newsabdab/sabdab/)."
   ]
  },
  {
   "cell_type": "markdown",
   "id": "ce10e80c-8cd3-42b0-bbf8-dbfe21b693ec",
   "metadata": {
    "tags": []
   },
   "source": [
    "PDB file stored there describe common antibody structures, their spatial organisation, chemical properties and more."
   ]
  },
  {
   "cell_type": "code",
   "execution_count": 5,
   "id": "57cc1d58-39c5-421c-a426-f3be3999f506",
   "metadata": {
    "tags": [
     "hide-input"
    ]
   },
   "outputs": [
    {
     "data": {
      "text/markdown": [
       "We use only structures that have **resolution value less (=better) than 3.0 Angstroms** (using top navbar `SAbDab > Structure search > Search structures by attribute > Resolution cutoff = 3.0`)."
      ],
      "text/plain": [
       "<IPython.core.display.Markdown object>"
      ]
     },
     "execution_count": 5,
     "metadata": {},
     "output_type": "execute_result"
    }
   ],
   "source": [
    "md(f\"We use only structures that have **resolution value less (=better) than {params.RESOLUTION_CUTOFF} Angstroms** (using top navbar `SAbDab > Structure search > Search structures by attribute > Resolution cutoff = {params.RESOLUTION_CUTOFF}`).\")"
   ]
  },
  {
   "cell_type": "markdown",
   "id": "e9a6fa11-fcc8-4af6-879b-51749b58da55",
   "metadata": {},
   "source": [
    "---"
   ]
  },
  {
   "cell_type": "markdown",
   "id": "0508a100-23e4-4522-b7e6-44aa10dc8dcf",
   "metadata": {
    "tags": []
   },
   "source": [
    "## PDB file format"
   ]
  },
  {
   "cell_type": "markdown",
   "id": "dd7c8807-6931-48aa-a990-da3e12547ee8",
   "metadata": {},
   "source": [
    "Detailed description: https://www.cgl.ucsf.edu/chimera/docs/UsersGuide/tutorials/pdbintro.html"
   ]
  },
  {
   "cell_type": "markdown",
   "id": "b17ca15d-ff10-406b-a933-a48442a51b23",
   "metadata": {},
   "source": [
    "Concise formal description: "
   ]
  },
  {
   "cell_type": "raw",
   "id": "8005f04a-7e19-4ae4-a6c6-d6a751b437e7",
   "metadata": {},
   "source": [
    "POS     COLUMN_NAME                      JUSTIF DATA TYPE\n",
    "------  -------------------------------  -----  ---------\n",
    "\n",
    "1-4     ATOM                             none   character\n",
    "7-11    Atom serial number               right  integer\n",
    "13-16   Atom name                        left*  character\n",
    "17      Alternate location indicator     none   character\n",
    "18-20   Residue name                     right  character\n",
    "22      Chain identifier                 none   character\n",
    "23-26   Residue sequence number          right  integer\n",
    "27      Code for insertions of residues  none   character\n",
    "31-38   X orthogonal Å coordinate        right  real (8.3)\n",
    "39-46   Y orthogonal Å coordinate        right  real (8.3)\n",
    "47-54   Z orthogonal Å coordinate        right  real (8.3)\n",
    "55-60   Occupancy                        right  real (6.2)\n",
    "61-66   Temperature factor               right  real (6.2)\n",
    "73-76   Segment identifier               left   character\n",
    "77-78   Element symbol                   right  character"
   ]
  },
  {
   "cell_type": "markdown",
   "id": "d8635660-8df1-4df1-8aaf-497e63149ccb",
   "metadata": {},
   "source": [
    "---"
   ]
  },
  {
   "cell_type": "markdown",
   "id": "a4312aa0-6ae2-4515-bd60-18def7749717",
   "metadata": {
    "tags": []
   },
   "source": [
    "## Downloading the data"
   ]
  },
  {
   "cell_type": "markdown",
   "id": "e1bbdbc0-8cd0-41d3-a865-5f389b31d028",
   "metadata": {},
   "source": [
    "This process consists of several steps:"
   ]
  },
  {
   "cell_type": "markdown",
   "id": "f887863c-15d3-4314-8bd9-8646bfee6640",
   "metadata": {},
   "source": [
    "### a) Getting the database accession code"
   ]
  },
  {
   "cell_type": "markdown",
   "id": "21da66f9-6408-44a6-b0de-cf5cceca1f00",
   "metadata": {},
   "source": [
    "1. Run the cell bellow and follow the link it generates:"
   ]
  },
  {
   "cell_type": "code",
   "execution_count": 17,
   "id": "eaa92b39-acf1-4d45-a05c-73f176c104e9",
   "metadata": {},
   "outputs": [
    {
     "name": "stdout",
     "output_type": "stream",
     "text": [
      "http://opig.stats.ox.ac.uk/webapps/newsabdab/sabdab/search/?ABtype=All&method=All&species=All&resolution=3.0&rfactor=&antigen=All&ltype=All&constantregion=All&affinity=All&isin_covabdab=All&isin_therasabdab=All&chothiapos=&restype=ALA&field_0=Antigens&keyword_0=#downloads\n"
     ]
    }
   ],
   "source": [
    "link = f'http://opig.stats.ox.ac.uk/webapps/newsabdab/sabdab/search/?ABtype=All&method=All&species=All&resolution={params.RESOLUTION_CUTOFF}&rfactor=&antigen=All&ltype=All&constantregion=All&affinity=All&isin_covabdab=All&isin_therasabdab=All&chothiapos=&restype=ALA&field_0=Antigens&keyword_0=#downloads'\n",
    "print(link)"
   ]
  },
  {
   "cell_type": "markdown",
   "id": "bcb1c8ea-6410-4909-95ea-24233de3b16f",
   "metadata": {},
   "source": [
    "The link will take you to the **Download results** section immediately."
   ]
  },
  {
   "cell_type": "markdown",
   "id": "60b84208-d5d2-4601-91e5-e57c7d91a759",
   "metadata": {},
   "source": [
    "2. You will see a couple of links there, **right-click** the one that prompts you to download **an archived zip file** and select **Inspect** option from the dropdown menu that occurs. Web developer console should open in one part of your browser window (usually at the bottom part)."
   ]
  },
  {
   "cell_type": "markdown",
   "id": "4f1bdc97-4fdc-4e96-ba23-44340f81706e",
   "metadata": {},
   "source": [
    "4. Check the highlighted line in the displayed web developer console. It should look like this:\n",
    "\n",
    "> &lt;a href=\"/webapps/newsabdab/sabdab/archive/**20220601_0200368**/\">zip file&lt;/a>"
   ]
  },
  {
   "cell_type": "markdown",
   "id": "22cf111f-d3a4-4d80-aa03-9065754ac440",
   "metadata": {},
   "source": [
    "5. See the numerical part of the link - that is actually highlighted in **bold**? That is your accession code. You probably have the different digits in your code, but that is actually expected. Copy **your code** to the cell bellow, replacing some old accession code that is already there and run the cell."
   ]
  },
  {
   "cell_type": "code",
   "execution_count": 6,
   "id": "ff120e35-1b7e-4ee6-960e-072015897a28",
   "metadata": {},
   "outputs": [],
   "source": [
    "DATABASE_ACCESSION_CODE = '20220601_0621156'"
   ]
  },
  {
   "cell_type": "markdown",
   "id": "f18c5bd2-d0c3-4e74-8f2d-a90bce4c3554",
   "metadata": {},
   "source": [
    "6. Hooray! :) You have it done."
   ]
  },
  {
   "cell_type": "markdown",
   "id": "408d7121-29be-41d7-b6cd-d5fcde90edbc",
   "metadata": {},
   "source": [
    "**Proceed right onto the next section, since your accession code will not be valid forever!** (and you will need to obtain it again when your first one expires)"
   ]
  },
  {
   "cell_type": "markdown",
   "id": "962b7238-30a0-440d-9e09-8f7c72ae9879",
   "metadata": {},
   "source": [
    "### b) Downloading the actual data"
   ]
  },
  {
   "cell_type": "markdown",
   "id": "2ecaaba1-7811-47de-a2be-9bc1757e7fd9",
   "metadata": {},
   "source": [
    "Run the following cell to download the zipped structure directory. The zip archive is ~4GB big, so the download will take a while:"
   ]
  },
  {
   "cell_type": "code",
   "execution_count": 12,
   "id": "589ba70a-b3c5-4495-9bb9-3bad7d2da8ca",
   "metadata": {},
   "outputs": [
    {
     "name": "stdout",
     "output_type": "stream",
     "text": [
      "downloading the SAbDab data to /SFS/user/wp/benor/test/proto-moto/data/pdb ...\n"
     ]
    }
   ],
   "source": [
    "command = f\"\"\"\n",
    "cd {params.DATA_DIR} \n",
    "mkdir -p {params.DATA_DIR}/pdb\n",
    "cd pdb\n",
    "echo 'downloading the SAbDab data to'  $(pwd) '...'\n",
    "wget http://opig.stats.ox.ac.uk/webapps/newsabdab/sabdab/archive/{DATABASE_ACCESSION_CODE}/ -o sabdab_download.log\n",
    "\"\"\"\n",
    "! $command"
   ]
  },
  {
   "cell_type": "markdown",
   "id": "2be18722-b614-4f95-983b-d5039ce5e845",
   "metadata": {},
   "source": [
    "**Note: Check the `sabdab_download.log` file in your `data/pdb` directory to see the progress of your download. There may be for example `Internal Server Error` in case your accession code expired - meaning you need to obtain new accession code and start the download again.**"
   ]
  },
  {
   "cell_type": "markdown",
   "id": "d32b436a-cba7-4f53-8ecc-49306dae1116",
   "metadata": {},
   "source": [
    "### c) Unzip and reorganize the downloaded data"
   ]
  },
  {
   "cell_type": "markdown",
   "id": "14d03ec3-99b1-423a-b084-081bbc7a7771",
   "metadata": {},
   "source": [
    "Unzip and reorganize the subdirectories -  this may again take a while due to the zip archive downloaded size:"
   ]
  },
  {
   "cell_type": "code",
   "execution_count": 11,
   "id": "0b8ea32f-5076-4bb1-ad5d-5591234589ab",
   "metadata": {},
   "outputs": [],
   "source": [
    "command = f\"\"\"\n",
    "echo 'Creating required directory structure...'\n",
    "cd {params.DATA_DIR}/pdb\n",
    "mkdir -p raw chothia imgt\n",
    "\n",
    "# the data was downloaded into 'index.html' file (that is weird, I know)\n",
    "# move it to the zipfile and unzip it\n",
    "echo 'Renaming and unzipping the downloaded file...'\n",
    "mv index.html sabdab_chothia.zip\n",
    "unzip -qq sabdab_chothia.zip\n",
    "\n",
    "echo 'Moving raw .pdb files ...'\n",
    "mv *.pdb raw \n",
    "\n",
    "echo 'Removing the original .zip file\n",
    "rm -rf sabdab_chothia.zip\n",
    "\"\"\"\n",
    "\n",
    "! $command"
   ]
  },
  {
   "cell_type": "markdown",
   "id": "c3678ece-2851-4d24-bfd1-423066d795b9",
   "metadata": {},
   "source": [
    "**Sanity check -** output the number of downloaded structures:"
   ]
  },
  {
   "cell_type": "code",
   "execution_count": 10,
   "id": "47c2ca2e-b8bf-452d-9980-f20da05b787a",
   "metadata": {},
   "outputs": [
    {
     "name": "stdout",
     "output_type": "stream",
     "text": [
      "4326\n"
     ]
    }
   ],
   "source": [
    "command = f\"\"\"\n",
    "cd {params.DATA_DIR}/pdb/chothia\n",
    "ls -l | wc -l \n",
    "\"\"\"\n",
    "\n",
    "! $command"
   ]
  },
  {
   "cell_type": "markdown",
   "id": "715ee1dc-1f43-4d79-bf43-ee29b532e4f6",
   "metadata": {},
   "source": [
    "**All done :)**"
   ]
  }
 ],
 "metadata": {
  "kernelspec": {
   "display_name": "Python 3 (ipykernel)",
   "language": "python",
   "name": "python3"
  },
  "language_info": {
   "codemirror_mode": {
    "name": "ipython",
    "version": 3
   },
   "file_extension": ".py",
   "mimetype": "text/x-python",
   "name": "python",
   "nbconvert_exporter": "python",
   "pygments_lexer": "ipython3",
   "version": "3.10.14"
  }
 },
 "nbformat": 4,
 "nbformat_minor": 5
}
