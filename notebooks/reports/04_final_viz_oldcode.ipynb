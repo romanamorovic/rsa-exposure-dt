{
 "cells": [
  {
   "cell_type": "code",
   "execution_count": null,
   "id": "3c957554-2fdb-4e43-9eb8-af384be565a9",
   "metadata": {},
   "outputs": [],
   "source": [
    "Y['49'].mean()\n",
    "Xr_trainval, Yr_trainval = u.load_dataset(['train', 'val'], chains='H')\n",
    "Xr_test, Yr_test = u.load_dataset('test', chains='H')\n",
    "Xr_test_new_234, Yr_test_new_234 = u.load_dataset('test_new_234', chains='H')\n",
    "print('trainval 49:', Yr_trainval['49'].mean(), \n",
    "      '| test 49:', Yr_test['49'].mean(), \n",
    "      '| test_new_234 49:', Yr_test_new_234['49'].mean())"
   ]
  },
  {
   "cell_type": "code",
   "execution_count": null,
   "id": "db477608-4f32-4844-8672-01ae5ffc3e25",
   "metadata": {},
   "outputs": [],
   "source": [
    "positions = ['49', '48', '35', '50']\n",
    "d = data[data['position'].isin(positions)]\n",
    "print(positions)\n",
    "print('sasa', d.groupby('position')['sasa'].mean())\n",
    "print('prediction', d.groupby('position')['prediction'].mean())\n",
    "print('counts', d.groupby('position')['sasa'].count())\n",
    "# position 76. 888 SASA occurences. AVG SASA 24.29, AVG prediction 90.27 why?\n",
    "# todo check what was the SASA and prediction of this position in old test set"
   ]
  },
  {
   "cell_type": "code",
   "execution_count": null,
   "id": "5dbe94d6-8b89-473d-8305-64df868bd10b",
   "metadata": {},
   "outputs": [],
   "source": [
    "H_df, Y_H_df = u.load_dataset('test_new_234', chains='H')\n",
    "Y_H_df['76'].mean()"
   ]
  },
  {
   "cell_type": "code",
   "execution_count": null,
   "id": "b54d940a-23d7-4a10-b1ba-eeb0799b2c5c",
   "metadata": {},
   "outputs": [],
   "source": [
    "data[data['position'] == '76']['sasa'].mean()"
   ]
  },
  {
   "cell_type": "code",
   "execution_count": null,
   "id": "9af64408-f8b0-440c-8ab1-bc02bb43649c",
   "metadata": {},
   "outputs": [],
   "source": [
    "results_df[results_df['position'] == '76'].groupby('scenario')['sasa'].mean()"
   ]
  },
  {
   "cell_type": "code",
   "execution_count": null,
   "id": "77ca9843-a69e-4c5e-838a-6014ca91f405",
   "metadata": {},
   "outputs": [],
   "source": [
    "lppd = results_df\n",
    "data = lppd[(lppd['scenario'].isin(scenarios)) & (lppd['position'].isin(['76', '125'])) & (lppd['abs_error'] > 0)]\n",
    "#data['abs_error'].hist(bins=100)\n",
    "#data['prediction'].hist(bins=100)\n",
    "data['sasa'].hist(bins=100)"
   ]
  },
  {
   "cell_type": "code",
   "execution_count": null,
   "id": "a5ddde4b-1500-4a22-8d39-9b2ecbc4dc33",
   "metadata": {},
   "outputs": [],
   "source": [
    "scenarios = [\n",
    "    get_s(sm[ml_mask].iloc[0]),\n",
    "    get_s(sm[bl_mask].iloc[0]),\n",
    "    get_s(sm[ib_mask].iloc[0]),\n",
    "    get_s(sm[random_mask].iloc[0])\n",
    "]\n",
    "\n",
    "#scenarios = loss_per_position_df['scenario'].unique()\n",
    "#scenarios = list(loss_per_position_df['scenario'].unique())[:-1]\n",
    "print(len(scenarios), scenarios)\n",
    "cols = list(Y.columns)\n",
    "cols = [c for c in cols if not c.startswith('85') or len(c) <= 2]\n",
    "#lppd = loss_per_position_df\n",
    "lppd = results_df\n",
    "data = lppd[(lppd['scenario'].isin(scenarios)) & (lppd['position'].isin(cols))]\n",
    "#a = data.groupby('position')['abs_error'].mean()\n",
    "print('positions with MAE > 60:')\n",
    "#print(a[a>60])\n",
    "print(data['abs_error'].mean())\n",
    "data.to_csv('7DF1:H.csv')\n",
    "data['color'] = data['scenario'].apply(lambda s: 'statistical' if 'BL' in s else 'ML')\n",
    "data = data.sort_values(by='position', key=lambda s: s.apply(u.anarci_column_sorter))\n",
    "plot = sns.lineplot(data=data, x='position', y='abs_error', hue='scenario', sort=False,\n",
    "                   #palette=['#a83232', '#a84232', '#a84232', '#a88b32', '#a88b32', \n",
    "                   #         '#66FFFF', '#00CCFF', '#0099FF', '#3399FF', '#006699'])\n",
    "                   #palette=['#0099FF', '#3399FF', '#006699']\n",
    "                   )\n",
    "_=u.annotate_plot(plot, x_rotation = 90, \n",
    "                  title=u.wrap(f'Mean MAE per position'), \n",
    "                  xlabel=f'{p.FINAL_NUMBERING_SCHEME} position',\n",
    "                  ylabel='MAE',\n",
    "                  clean_ax_settings=dict(ax='x', nth_label_only=5))\n",
    "u.show_cdr_regions(cols, plot, CHAINS, \n",
    "                    p.FINAL_NUMBERING_SCHEME, cdr_label_coord=data['abs_error'].max()-20, \n",
    "                   position_ax='x', text_offsets = [3, 2, 14])\n",
    "plot.figure.savefig(f'{TEST_PNG_DIR_PATH}/mae_per_position_all_line_{EXPERIMENT_SETTINGS}.png')\n",
    "#print(data['abs_error'].max())\n",
    "data"
   ]
  },
  {
   "cell_type": "code",
   "execution_count": null,
   "id": "b244860e-54e6-469a-ac5c-f8d7c50e4081",
   "metadata": {},
   "outputs": [],
   "source": [
    "#sasa_df = u.positionize_sasa_df(Y.loc[seqs, :], pd.Series(Y.index)).rename(columns={'prediction': 'sasa'})\n",
    "#print('after positionize_sasa_df | sasa_df.shape:', sasa_df.shape)\n",
    "#print(sasa_df[sasa_df['position']=='76']['sasa'].mean())\n",
    "\n",
    "#unique_scenarios_count = predictions_df['scenario'].nunique()\n",
    "#sasa_df = pd.concat([sasa_df] * unique_scenarios_count).reset_index(drop=True)"
   ]
  },
  {
   "cell_type": "code",
   "execution_count": null,
   "id": "4383fea5-39cc-466a-9171-e90700c1bba3",
   "metadata": {},
   "outputs": [],
   "source": [
    "#print(sasa_df[sasa_df['position']=='76']['sasa'].mean())\n",
    "#print('seqs length:', len(sasa_df_big['sequence_id'].unique()))\n",
    "#print('sasa_df.shape', sasa_df_big.shape)"
   ]
  }
 ],
 "metadata": {
  "kernelspec": {
   "display_name": "Python 3 (ipykernel)",
   "language": "python",
   "name": "python3"
  },
  "language_info": {
   "codemirror_mode": {
    "name": "ipython",
    "version": 3
   },
   "file_extension": ".py",
   "mimetype": "text/x-python",
   "name": "python",
   "nbconvert_exporter": "python",
   "pygments_lexer": "ipython3",
   "version": "3.10.14"
  }
 },
 "nbformat": 4,
 "nbformat_minor": 5
}
