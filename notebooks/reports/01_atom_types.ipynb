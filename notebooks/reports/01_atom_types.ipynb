{
 "cells": [
  {
   "cell_type": "markdown",
   "id": "d8cec3a6-49c8-443b-9854-8101852ac24b",
   "metadata": {},
   "source": [
    "# Atom types"
   ]
  },
  {
   "cell_type": "markdown",
   "id": "477392cc-7063-41ff-9a0b-e13aa764f09f",
   "metadata": {},
   "source": [
    "In this notebook, we explore **atom types** frequencies in cleaned, incremental-scheme, PDB files."
   ]
  },
  {
   "cell_type": "markdown",
   "id": "2561763a-10da-404e-9fe2-55bd1202670e",
   "metadata": {},
   "source": [
    "By atom types we mean **element symbols** (this is the name of the column in the official PDB format description), for example `N` for nitrogen, `C` for carbon etc."
   ]
  },
  {
   "cell_type": "markdown",
   "id": "3e8ddd95-7d06-4c1d-9a31-946eaed64b64",
   "metadata": {},
   "source": [
    "To run this notebook, you need to run through `processing` notebooks `00`, `01`, `02` and `03` (`pdb2fasta`) first - so you would have the unaligned FASTA datasets generated."
   ]
  },
  {
   "cell_type": "markdown",
   "id": "4f7b01eb-b79f-4cdd-95b0-3e38f101eccf",
   "metadata": {},
   "source": [
    "---"
   ]
  },
  {
   "cell_type": "markdown",
   "id": "ed29d813-9324-45ea-b24d-250d6aef0c6c",
   "metadata": {
    "tags": []
   },
   "source": [
    "## Setup"
   ]
  },
  {
   "cell_type": "code",
   "execution_count": 1,
   "id": "8e99782a-fc37-4b12-871f-c53bb08ba2ca",
   "metadata": {},
   "outputs": [],
   "source": [
    "import os\n",
    "\n",
    "import pandas as pd\n",
    "import seaborn as sns\n",
    "from biopandas.pdb import PandasPdb\n",
    "from tqdm.notebook import tqdm\n",
    "\n",
    "import bin.params as params\n",
    "import bin.utils as utils"
   ]
  },
  {
   "cell_type": "code",
   "execution_count": 2,
   "id": "96c2cea9-c584-4376-a8c0-a7b17d80434f",
   "metadata": {},
   "outputs": [],
   "source": [
    "sns.set_theme()\n",
    "sns.set(rc = {'figure.figsize':(12,6)})"
   ]
  },
  {
   "cell_type": "markdown",
   "id": "fef1d641-c57e-4487-991c-bbfa0dce334b",
   "metadata": {},
   "source": [
    "**Load unaligned FASTA dataset:**"
   ]
  },
  {
   "cell_type": "code",
   "execution_count": 3,
   "id": "44b6e097-227c-48da-803f-08203d7b37c1",
   "metadata": {},
   "outputs": [],
   "source": [
    "FASTA_UNALIGNED_CSV = f'{params.DATA_DIR}/csv/fasta_unaligned/fasta_all.csv'\n",
    "fasta_df = pd.read_csv(FASTA_UNALIGNED_CSV, index_col=0)"
   ]
  },
  {
   "cell_type": "markdown",
   "id": "cb9442c8-9a3e-423e-8ea0-68d1aedc2cec",
   "metadata": {},
   "source": [
    "**Create a directory to store the atom counts `.csv` datasets in (if it does not exist already):**"
   ]
  },
  {
   "cell_type": "code",
   "execution_count": 4,
   "id": "6d026779-fd0d-429d-af0f-8a3ab3f9a389",
   "metadata": {},
   "outputs": [],
   "source": [
    "ATOM_COUNTS_DIR = f'{params.DATA_DIR}/csv/atom_counts'\n",
    "command = f'mkdir -p {ATOM_COUNTS_DIR}'\n",
    "! $command"
   ]
  },
  {
   "cell_type": "markdown",
   "id": "7eb71a75-7387-49e4-8d06-cfae2fa1ef9d",
   "metadata": {},
   "source": [
    "## Theory"
   ]
  },
  {
   "cell_type": "markdown",
   "id": "b1da28ab-0b91-4ac5-a3cf-b6ca30b9a3ee",
   "metadata": {},
   "source": [
    "**We load cleaned PDB files into `biopandas` dataframes, which look like this:**"
   ]
  },
  {
   "cell_type": "code",
   "execution_count": 16,
   "id": "600914f5-43ff-4569-a297-04c75d5a4e57",
   "metadata": {
    "tags": []
   },
   "outputs": [
    {
     "data": {
      "text/html": [
       "<div>\n",
       "<style scoped>\n",
       "    .dataframe tbody tr th:only-of-type {\n",
       "        vertical-align: middle;\n",
       "    }\n",
       "\n",
       "    .dataframe tbody tr th {\n",
       "        vertical-align: top;\n",
       "    }\n",
       "\n",
       "    .dataframe thead th {\n",
       "        text-align: right;\n",
       "    }\n",
       "</style>\n",
       "<table border=\"1\" class=\"dataframe\">\n",
       "  <thead>\n",
       "    <tr style=\"text-align: right;\">\n",
       "      <th></th>\n",
       "      <th>record_name</th>\n",
       "      <th>atom_number</th>\n",
       "      <th>blank_1</th>\n",
       "      <th>atom_name</th>\n",
       "      <th>alt_loc</th>\n",
       "      <th>residue_name</th>\n",
       "      <th>blank_2</th>\n",
       "      <th>chain_id</th>\n",
       "      <th>residue_number</th>\n",
       "      <th>insertion</th>\n",
       "      <th>...</th>\n",
       "      <th>x_coord</th>\n",
       "      <th>y_coord</th>\n",
       "      <th>z_coord</th>\n",
       "      <th>occupancy</th>\n",
       "      <th>b_factor</th>\n",
       "      <th>blank_4</th>\n",
       "      <th>segment_id</th>\n",
       "      <th>element_symbol</th>\n",
       "      <th>charge</th>\n",
       "      <th>line_idx</th>\n",
       "    </tr>\n",
       "  </thead>\n",
       "  <tbody>\n",
       "    <tr>\n",
       "      <th>0</th>\n",
       "      <td>ATOM</td>\n",
       "      <td>1</td>\n",
       "      <td></td>\n",
       "      <td>N</td>\n",
       "      <td></td>\n",
       "      <td>GLN</td>\n",
       "      <td></td>\n",
       "      <td>H</td>\n",
       "      <td>1</td>\n",
       "      <td></td>\n",
       "      <td>...</td>\n",
       "      <td>-7.404</td>\n",
       "      <td>44.620</td>\n",
       "      <td>37.768</td>\n",
       "      <td>1.0</td>\n",
       "      <td>29.62</td>\n",
       "      <td></td>\n",
       "      <td></td>\n",
       "      <td>N</td>\n",
       "      <td>NaN</td>\n",
       "      <td>4</td>\n",
       "    </tr>\n",
       "    <tr>\n",
       "      <th>1</th>\n",
       "      <td>ATOM</td>\n",
       "      <td>2</td>\n",
       "      <td></td>\n",
       "      <td>CA</td>\n",
       "      <td></td>\n",
       "      <td>GLN</td>\n",
       "      <td></td>\n",
       "      <td>H</td>\n",
       "      <td>1</td>\n",
       "      <td></td>\n",
       "      <td>...</td>\n",
       "      <td>-8.563</td>\n",
       "      <td>43.726</td>\n",
       "      <td>37.825</td>\n",
       "      <td>1.0</td>\n",
       "      <td>25.50</td>\n",
       "      <td></td>\n",
       "      <td></td>\n",
       "      <td>C</td>\n",
       "      <td>NaN</td>\n",
       "      <td>5</td>\n",
       "    </tr>\n",
       "  </tbody>\n",
       "</table>\n",
       "<p>2 rows × 21 columns</p>\n",
       "</div>"
      ],
      "text/plain": [
       "  record_name  atom_number blank_1 atom_name alt_loc residue_name blank_2  \\\n",
       "0        ATOM            1                 N                  GLN           \n",
       "1        ATOM            2                CA                  GLN           \n",
       "\n",
       "  chain_id  residue_number insertion  ... x_coord  y_coord  z_coord  \\\n",
       "0        H               1            ...  -7.404   44.620   37.768   \n",
       "1        H               1            ...  -8.563   43.726   37.825   \n",
       "\n",
       "   occupancy  b_factor  blank_4 segment_id element_symbol charge  line_idx  \n",
       "0        1.0     29.62                                  N    NaN         4  \n",
       "1        1.0     25.50                                  C    NaN         5  \n",
       "\n",
       "[2 rows x 21 columns]"
      ]
     },
     "execution_count": 16,
     "metadata": {},
     "output_type": "execute_result"
    }
   ],
   "source": [
    "p = PandasPdb().read_pdb(f'{params.DATA_DIR}/pdb/chothia/1a7r.pdb')\n",
    "p.df['ATOM'].head(n=2)"
   ]
  },
  {
   "cell_type": "markdown",
   "id": "9b1a4aaf-30e0-4e72-8be5-8a87a91c1869",
   "metadata": {
    "tags": []
   },
   "source": [
    "## Compute atom type counts per PDB file"
   ]
  },
  {
   "cell_type": "code",
   "execution_count": 8,
   "id": "6bdbe6fa-3696-4197-b136-9e8b0d9b13c7",
   "metadata": {},
   "outputs": [],
   "source": [
    "AA_TO_NUMBER_OF_ATOMS_MAP = { # without hydrogens\n",
    "    'A': 6, 'C': 7, 'D': 9, 'E': 10,\n",
    "    'F': 12, 'G': 5, 'H': 11, 'I': 9, \n",
    "    'K': 10, 'L': 9, 'M': 9, 'N': 9, \n",
    "    'P': 8, 'Q': 10, 'R': 12, 'S': 7,      \n",
    "    'T': 8, 'V': 8, 'W': 15, 'Y': 13\n",
    "}"
   ]
  },
  {
   "cell_type": "code",
   "execution_count": 9,
   "id": "9cbf99e0-cdea-4259-aa42-271082ecc4a6",
   "metadata": {},
   "outputs": [],
   "source": [
    "def compute_aa_number_from_seq(seq: str) -> int:\n",
    "    return sum(AA_TO_NUMBER_OF_ATOMS_MAP[aa] for aa in seq)"
   ]
  },
  {
   "cell_type": "markdown",
   "id": "b757fbf6-07f6-4bb7-9990-be24f6203b67",
   "metadata": {},
   "source": [
    "**Compute atom frequencies (this may take a while):**"
   ]
  },
  {
   "cell_type": "code",
   "execution_count": 11,
   "id": "e44f0a25-5c48-4385-b769-ea3de64f8240",
   "metadata": {},
   "outputs": [
    {
     "data": {
      "application/vnd.jupyter.widget-view+json": {
       "model_id": "11ab864b784042d9919b6c86717695ed",
       "version_major": 2,
       "version_minor": 0
      },
      "text/plain": [
       "  0%|          | 0/6572 [00:00<?, ?it/s]"
      ]
     },
     "metadata": {},
     "output_type": "display_data"
    }
   ],
   "source": [
    "all_atom_types = set()\n",
    "chain_dicts = dict()\n",
    "fasta_records = list(fasta_df.iterrows())\n",
    "for chain_key, row in tqdm(fasta_records):\n",
    "    seq = row.sum().replace('-', '')\n",
    "    structure_code = chain_key[:4].lower()\n",
    "    \n",
    "    chain_ids = ['K', 'L'] if chain_key[:-1] == 'L' else ['H']\n",
    "    seq_df = PandasPdb().read_pdb(f'{params.DATA_DIR}/pdb/incremental/{structure_code}.pdb').df['ATOM']\n",
    "    chain_df = seq_df[ (seq_df['chain_id'].isin(chain_ids)) & (seq_df['element_symbol'] != 'H') ]\n",
    "    \n",
    "    chain_dict = dict(chain_df['element_symbol'].value_counts())\n",
    "    all_atom_types = all_atom_types.union(chain_dict.keys())\n",
    "    chain_dict['theoretical'] = compute_aa_number_from_seq(seq)\n",
    "    chain_dicts[chain_key] = chain_dict"
   ]
  },
  {
   "cell_type": "code",
   "execution_count": 12,
   "id": "5209f083-7952-490c-a1ab-85e9519e4237",
   "metadata": {},
   "outputs": [],
   "source": [
    "atom_counts_df = pd.DataFrame(0, index=chain_dicts.keys(), columns=list(all_atom_types) + ['theoretical'])"
   ]
  },
  {
   "cell_type": "code",
   "execution_count": 13,
   "id": "88034e37-0736-4220-8a77-f632f7ee8366",
   "metadata": {},
   "outputs": [],
   "source": [
    "for structure_code, structure_dict in chain_dicts.items():\n",
    "    for atom, count in structure_dict.items():\n",
    "        atom_counts_df.loc[structure_code, atom] = count"
   ]
  },
  {
   "cell_type": "markdown",
   "id": "dd0bce14-08bf-4542-9803-794b09672f41",
   "metadata": {},
   "source": [
    "**Store in `.csv` files:**"
   ]
  },
  {
   "cell_type": "code",
   "execution_count": 14,
   "id": "44d18b7c-be56-4d57-a6c9-1ea9ce4e6f4d",
   "metadata": {},
   "outputs": [],
   "source": [
    "atom_counts_df.to_csv(f'{ATOM_COUNTS_DIR}/atom_counts_all.csv')\n",
    "utils.select_only_chain_sequences(atom_counts_df, 'L').to_csv(f'{ATOM_COUNTS_DIR}/atom_counts_L.csv')\n",
    "utils.select_only_chain_sequences(atom_counts_df, 'H').to_csv(f'{ATOM_COUNTS_DIR}/atom_counts_H.csv')"
   ]
  },
  {
   "cell_type": "markdown",
   "id": "583dea7d-5cde-462e-8375-fa85060f8f57",
   "metadata": {
    "tags": []
   },
   "source": [
    "## Visualizations"
   ]
  },
  {
   "cell_type": "markdown",
   "id": "3e42c55d-5e34-4c94-8d42-e9797c9925a4",
   "metadata": {},
   "source": [
    "**Load the atom counts from csv file:**"
   ]
  },
  {
   "cell_type": "code",
   "execution_count": 5,
   "id": "28c45557-b2d1-45a2-b1d3-522ba2200197",
   "metadata": {},
   "outputs": [],
   "source": [
    "atom_counts_df = pd.read_csv(f'{ATOM_COUNTS_DIR}/atom_counts_all.csv', index_col=0)"
   ]
  },
  {
   "cell_type": "markdown",
   "id": "33e318af-64fe-430e-b7dc-ee40f45dff67",
   "metadata": {},
   "source": [
    "**Show the `atom_counts` dataframe:**"
   ]
  },
  {
   "cell_type": "code",
   "execution_count": 6,
   "id": "6440ee67-6243-47ae-aa90-dfe3bf53f326",
   "metadata": {},
   "outputs": [
    {
     "data": {
      "text/html": [
       "<div>\n",
       "<style scoped>\n",
       "    .dataframe tbody tr th:only-of-type {\n",
       "        vertical-align: middle;\n",
       "    }\n",
       "\n",
       "    .dataframe tbody tr th {\n",
       "        vertical-align: top;\n",
       "    }\n",
       "\n",
       "    .dataframe thead th {\n",
       "        text-align: right;\n",
       "    }\n",
       "</style>\n",
       "<table border=\"1\" class=\"dataframe\">\n",
       "  <thead>\n",
       "    <tr style=\"text-align: right;\">\n",
       "      <th></th>\n",
       "      <th>O</th>\n",
       "      <th>N</th>\n",
       "      <th>C</th>\n",
       "      <th>S</th>\n",
       "      <th>theoretical</th>\n",
       "    </tr>\n",
       "  </thead>\n",
       "  <tbody>\n",
       "    <tr>\n",
       "      <th>12E8:H</th>\n",
       "      <td>336</td>\n",
       "      <td>276</td>\n",
       "      <td>1064</td>\n",
       "      <td>6</td>\n",
       "      <td>1902</td>\n",
       "    </tr>\n",
       "    <tr>\n",
       "      <th>12E8:L</th>\n",
       "      <td>336</td>\n",
       "      <td>276</td>\n",
       "      <td>1064</td>\n",
       "      <td>6</td>\n",
       "      <td>1862</td>\n",
       "    </tr>\n",
       "    <tr>\n",
       "      <th>15C8:H</th>\n",
       "      <td>330</td>\n",
       "      <td>262</td>\n",
       "      <td>1028</td>\n",
       "      <td>6</td>\n",
       "      <td>1842</td>\n",
       "    </tr>\n",
       "  </tbody>\n",
       "</table>\n",
       "</div>"
      ],
      "text/plain": [
       "          O    N     C  S  theoretical\n",
       "12E8:H  336  276  1064  6         1902\n",
       "12E8:L  336  276  1064  6         1862\n",
       "15C8:H  330  262  1028  6         1842"
      ]
     },
     "execution_count": 6,
     "metadata": {},
     "output_type": "execute_result"
    }
   ],
   "source": [
    "atom_counts_df.head(n=3)"
   ]
  },
  {
   "cell_type": "markdown",
   "id": "3f4af29e-e8ec-408b-9269-72209c2b147f",
   "metadata": {
    "tags": []
   },
   "source": [
    "### Total number of atoms per chain"
   ]
  },
  {
   "cell_type": "markdown",
   "id": "9f4f6536-d5b8-495b-8cce-76daa3c398df",
   "metadata": {},
   "source": [
    "**Show the histogram:**"
   ]
  },
  {
   "cell_type": "code",
   "execution_count": 8,
   "id": "5bb94fc5-ab7f-42df-926f-a1ec147b186b",
   "metadata": {},
   "outputs": [
    {
     "data": {
      "image/png": "[encoded data removed]",
      "text/plain": [
       "<Figure size 864x432 with 1 Axes>"
      ]
     },
     "metadata": {},
     "output_type": "display_data"
    }
   ],
   "source": [
    "_=atom_counts_df.drop(columns='theoretical').sum(axis=1).plot.hist()\n",
    "utils.show_barplot_values(_)"
   ]
  },
  {
   "cell_type": "markdown",
   "id": "4fe5079c-39f0-4366-a155-57b08c2d0c1c",
   "metadata": {},
   "source": [
    "**We see that most of the chains have ~1500 atoms.**"
   ]
  },
  {
   "cell_type": "markdown",
   "id": "a9ec801d-5d2f-45e5-ab45-3b997df2c7a0",
   "metadata": {
    "tags": []
   },
   "source": [
    "### Total number of atoms per type"
   ]
  },
  {
   "cell_type": "markdown",
   "id": "b39d2bc9-7aa9-4687-a4b1-741b41cc2491",
   "metadata": {},
   "source": [
    "**Show the histogram:**"
   ]
  },
  {
   "cell_type": "code",
   "execution_count": 9,
   "id": "72a1c1e4-d3a6-4cbb-b586-6b8391341e7d",
   "metadata": {},
   "outputs": [
    {
     "data": {
      "image/png": "[encoded data removed]",
      "text/plain": [
       "<Figure size 864x432 with 1 Axes>"
      ]
     },
     "metadata": {},
     "output_type": "display_data"
    }
   ],
   "source": [
    "_=atom_counts_df.drop(columns='theoretical').sum(axis=0).plot.bar()\n",
    "utils.show_barplot_values(_)"
   ]
  },
  {
   "cell_type": "markdown",
   "id": "a8abd50c-45e8-4b41-8f8c-c2043354aafe",
   "metadata": {},
   "source": [
    "**We see the carbon is by far the most numerous atom type represented in the PDB files.**"
   ]
  },
  {
   "cell_type": "markdown",
   "id": "c8c9438d-66dc-4f96-9d4f-0d349f4fa818",
   "metadata": {},
   "source": [
    "**Obvious choice for that title would be hydrogen, however, there is in total only ~800 of them. This implies hydrogens are missing in the majority of files.**"
   ]
  },
  {
   "cell_type": "markdown",
   "id": "82a34b93-0751-4fed-8da8-89ba88573b75",
   "metadata": {
    "tags": []
   },
   "source": [
    "### Missing atoms per chain"
   ]
  },
  {
   "cell_type": "markdown",
   "id": "917af517-9460-4d2d-87a7-8179edd53e3e",
   "metadata": {},
   "source": [
    "TODO: Do we want to add them later on? If yes, https://www.google.com/search?client=safari&rls=en&q=biopandas+count+missing+atoms+in+pdb&ie=UTF-8&oe=UTF-8"
   ]
  },
  {
   "cell_type": "markdown",
   "id": "37b30e7f-4919-4ca5-a5c9-b8b905a2e2e3",
   "metadata": {},
   "source": [
    "**Compute:**"
   ]
  },
  {
   "cell_type": "code",
   "execution_count": 17,
   "id": "bb53d080-09d4-40f8-9675-3275f5a530e7",
   "metadata": {},
   "outputs": [
    {
     "data": {
      "text/plain": [
       "12E8:H    220\n",
       "12E8:L    180\n",
       "15C8:H    216\n",
       "dtype: int64"
      ]
     },
     "execution_count": 17,
     "metadata": {},
     "output_type": "execute_result"
    }
   ],
   "source": [
    "atom_pdb_sums = atom_counts_df.drop(columns='theoretical').sum(axis=1) \n",
    "missing = atom_counts_df['theoretical'] - atom_pdb_sums\n",
    "missing.head(n=3)"
   ]
  },
  {
   "cell_type": "markdown",
   "id": "96ea69f9-8878-4e6b-83a4-f455126697df",
   "metadata": {},
   "source": [
    "**Show the histogram:**"
   ]
  },
  {
   "cell_type": "code",
   "execution_count": 18,
   "id": "c69a8058-dead-4178-98a2-95f665337750",
   "metadata": {},
   "outputs": [
    {
     "data": {
      "image/png": "[encoded data removed]",
      "text/plain": [
       "<Figure size 864x432 with 1 Axes>"
      ]
     },
     "metadata": {},
     "output_type": "display_data"
    }
   ],
   "source": [
    "_ = missing.plot.hist()\n",
    "utils.show_barplot_values(_)"
   ]
  },
  {
   "cell_type": "markdown",
   "id": "dcfb95b5-5c39-4597-9361-1aeac0613a83",
   "metadata": {},
   "source": [
    "**We see most of the chains have ~250 atoms missing.**"
   ]
  },
  {
   "cell_type": "markdown",
   "id": "49782908-b685-4401-ad75-59ae37165529",
   "metadata": {},
   "source": [
    "**Interestingly, there are few sequences that have more atoms than the theoretical count!**"
   ]
  },
  {
   "cell_type": "code",
   "execution_count": 15,
   "id": "0a33ccd5-ee84-40f8-9e7e-d06bbe760ff9",
   "metadata": {},
   "outputs": [
    {
     "data": {
      "text/html": [
       "<div>\n",
       "<style scoped>\n",
       "    .dataframe tbody tr th:only-of-type {\n",
       "        vertical-align: middle;\n",
       "    }\n",
       "\n",
       "    .dataframe tbody tr th {\n",
       "        vertical-align: top;\n",
       "    }\n",
       "\n",
       "    .dataframe thead th {\n",
       "        text-align: right;\n",
       "    }\n",
       "</style>\n",
       "<table border=\"1\" class=\"dataframe\">\n",
       "  <thead>\n",
       "    <tr style=\"text-align: right;\">\n",
       "      <th></th>\n",
       "      <th>O</th>\n",
       "      <th>N</th>\n",
       "      <th>C</th>\n",
       "      <th>S</th>\n",
       "      <th>theoretical</th>\n",
       "    </tr>\n",
       "  </thead>\n",
       "  <tbody>\n",
       "    <tr>\n",
       "      <th>1A14:L</th>\n",
       "      <td>188</td>\n",
       "      <td>153</td>\n",
       "      <td>585</td>\n",
       "      <td>5</td>\n",
       "      <td>905</td>\n",
       "    </tr>\n",
       "    <tr>\n",
       "      <th>1A6U:L</th>\n",
       "      <td>182</td>\n",
       "      <td>153</td>\n",
       "      <td>593</td>\n",
       "      <td>4</td>\n",
       "      <td>909</td>\n",
       "    </tr>\n",
       "    <tr>\n",
       "      <th>1A6V:L</th>\n",
       "      <td>182</td>\n",
       "      <td>155</td>\n",
       "      <td>600</td>\n",
       "      <td>4</td>\n",
       "      <td>919</td>\n",
       "    </tr>\n",
       "    <tr>\n",
       "      <th>1A6W:L</th>\n",
       "      <td>182</td>\n",
       "      <td>148</td>\n",
       "      <td>598</td>\n",
       "      <td>4</td>\n",
       "      <td>919</td>\n",
       "    </tr>\n",
       "    <tr>\n",
       "      <th>1DQL:L</th>\n",
       "      <td>180</td>\n",
       "      <td>160</td>\n",
       "      <td>577</td>\n",
       "      <td>5</td>\n",
       "      <td>915</td>\n",
       "    </tr>\n",
       "    <tr>\n",
       "      <th>...</th>\n",
       "      <td>...</td>\n",
       "      <td>...</td>\n",
       "      <td>...</td>\n",
       "      <td>...</td>\n",
       "      <td>...</td>\n",
       "    </tr>\n",
       "    <tr>\n",
       "      <th>7TB8:L</th>\n",
       "      <td>186</td>\n",
       "      <td>169</td>\n",
       "      <td>614</td>\n",
       "      <td>4</td>\n",
       "      <td>920</td>\n",
       "    </tr>\n",
       "    <tr>\n",
       "      <th>7TLY:L</th>\n",
       "      <td>178</td>\n",
       "      <td>165</td>\n",
       "      <td>602</td>\n",
       "      <td>5</td>\n",
       "      <td>859</td>\n",
       "    </tr>\n",
       "    <tr>\n",
       "      <th>7UAP:L</th>\n",
       "      <td>191</td>\n",
       "      <td>170</td>\n",
       "      <td>631</td>\n",
       "      <td>5</td>\n",
       "      <td>949</td>\n",
       "    </tr>\n",
       "    <tr>\n",
       "      <th>7WLZ:L</th>\n",
       "      <td>185</td>\n",
       "      <td>171</td>\n",
       "      <td>605</td>\n",
       "      <td>6</td>\n",
       "      <td>955</td>\n",
       "    </tr>\n",
       "    <tr>\n",
       "      <th>7WRV:L</th>\n",
       "      <td>184</td>\n",
       "      <td>152</td>\n",
       "      <td>582</td>\n",
       "      <td>5</td>\n",
       "      <td>910</td>\n",
       "    </tr>\n",
       "  </tbody>\n",
       "</table>\n",
       "<p>110 rows × 5 columns</p>\n",
       "</div>"
      ],
      "text/plain": [
       "          O    N    C  S  theoretical\n",
       "1A14:L  188  153  585  5          905\n",
       "1A6U:L  182  153  593  4          909\n",
       "1A6V:L  182  155  600  4          919\n",
       "1A6W:L  182  148  598  4          919\n",
       "1DQL:L  180  160  577  5          915\n",
       "...     ...  ...  ... ..          ...\n",
       "7TB8:L  186  169  614  4          920\n",
       "7TLY:L  178  165  602  5          859\n",
       "7UAP:L  191  170  631  5          949\n",
       "7WLZ:L  185  171  605  6          955\n",
       "7WRV:L  184  152  582  5          910\n",
       "\n",
       "[110 rows x 5 columns]"
      ]
     },
     "execution_count": 15,
     "metadata": {},
     "output_type": "execute_result"
    }
   ],
   "source": [
    "atom_counts_df.loc[missing[missing < 0].index, :]"
   ]
  },
  {
   "cell_type": "code",
   "execution_count": null,
   "id": "20734ca5-7ab0-41d4-bb46-4bbfc98da964",
   "metadata": {},
   "outputs": [],
   "source": []
  }
 ],
 "metadata": {
  "kernelspec": {
   "display_name": "Python 3 (ipykernel)",
   "language": "python",
   "name": "python3"
  },
  "language_info": {
   "codemirror_mode": {
    "name": "ipython",
    "version": 3
   },
   "file_extension": ".py",
   "mimetype": "text/x-python",
   "name": "python",
   "nbconvert_exporter": "python",
   "pygments_lexer": "ipython3",
   "version": "3.8.12"
  }
 },
 "nbformat": 4,
 "nbformat_minor": 5
}
