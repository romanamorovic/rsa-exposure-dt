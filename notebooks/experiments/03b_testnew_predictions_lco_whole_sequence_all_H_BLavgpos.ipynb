{
 "cells": [
  {
   "cell_type": "markdown",
   "id": "78945a96-5d30-4992-be61-971f1f1bf11c",
   "metadata": {
    "papermill": {
     "duration": 0.039553,
     "end_time": "2022-07-17T19:56:24.785173",
     "exception": false,
     "start_time": "2022-07-17T19:56:24.745620",
     "status": "completed"
    },
    "tags": []
   },
   "source": [
    "# 3b. Predict on the TEST set"
   ]
  },
  {
   "cell_type": "markdown",
   "id": "5a9e4907-3dc0-4340-a947-357ac60d0f5b",
   "metadata": {
    "papermill": {
     "duration": 0.031827,
     "end_time": "2022-07-17T19:56:24.846246",
     "exception": false,
     "start_time": "2022-07-17T19:56:24.814419",
     "status": "completed"
    },
    "tags": []
   },
   "source": [
    "## Setup"
   ]
  },
  {
   "cell_type": "code",
   "execution_count": 192,
   "id": "90b7176e-dc96-4af8-bb22-dd933d1947a9",
   "metadata": {
    "papermill": {
     "duration": 13.817844,
     "end_time": "2022-07-17T19:56:38.699637",
     "exception": false,
     "start_time": "2022-07-17T19:56:24.881793",
     "status": "completed"
    },
    "tags": []
   },
   "outputs": [],
   "source": [
    "import sys\n",
    "sys.path.append('../..')\n",
    "import math\n",
    "import pickle\n",
    "import time\n",
    "\n",
    "#import abnumber\n",
    "import matplotlib.pyplot as plt\n",
    "import numpy as np\n",
    "import pandas as pd\n",
    "import seaborn as sns\n",
    "from tqdm.notebook import tqdm\n",
    "\n",
    "import bin.feature_generators as fg\n",
    "import bin.params as p\n",
    "import bin.utils as u"
   ]
  },
  {
   "cell_type": "code",
   "execution_count": 193,
   "id": "764d67e2-cf6b-4863-b809-d90c0f3f7130",
   "metadata": {
    "papermill": {
     "duration": 0.041683,
     "end_time": "2022-07-17T19:56:38.782402",
     "exception": false,
     "start_time": "2022-07-17T19:56:38.740719",
     "status": "completed"
    },
    "tags": []
   },
   "outputs": [],
   "source": [
    "sns.set_theme()"
   ]
  },
  {
   "cell_type": "markdown",
   "id": "e7030b23-5e09-4b34-bdfe-ca9e4d73980b",
   "metadata": {
    "papermill": {
     "duration": 0.028103,
     "end_time": "2022-07-17T19:56:38.841471",
     "exception": false,
     "start_time": "2022-07-17T19:56:38.813368",
     "status": "completed"
    },
    "tags": []
   },
   "source": [
    "**Papermill parameters:**"
   ]
  },
  {
   "cell_type": "code",
   "execution_count": 194,
   "id": "2e61d83e",
   "metadata": {
    "papermill": {
     "duration": 0.036571,
     "end_time": "2022-07-17T19:56:38.969896",
     "exception": false,
     "start_time": "2022-07-17T19:56:38.933325",
     "status": "completed"
    },
    "tags": [
     "injected-parameters"
    ]
   },
   "outputs": [],
   "source": [
    "# Parameters\n",
    "MODEL_NAME = \"BLavgpos\"\n",
    "FEATURES = \"lco_whole_sequence_all_H\"\n"
   ]
  },
  {
   "cell_type": "code",
   "execution_count": 195,
   "id": "25650b84-1f1d-497f-ae50-604afe3aa4e7",
   "metadata": {
    "papermill": {
     "duration": 0.040036,
     "end_time": "2022-07-17T19:56:39.036731",
     "exception": false,
     "start_time": "2022-07-17T19:56:38.996695",
     "status": "completed"
    },
    "tags": []
   },
   "outputs": [],
   "source": [
    "PARAMS = {\n",
    "    'compress': False,\n",
    "    'preserve_seq_ids': True,\n",
    "}"
   ]
  },
  {
   "cell_type": "markdown",
   "id": "5a12e9d5-f9f6-4030-afdb-a48e48feb4f3",
   "metadata": {
    "papermill": {
     "duration": 0.026275,
     "end_time": "2022-07-17T19:56:39.096531",
     "exception": false,
     "start_time": "2022-07-17T19:56:39.070256",
     "status": "completed"
    },
    "tags": []
   },
   "source": [
    "**Create directories to store results in:**"
   ]
  },
  {
   "cell_type": "code",
   "execution_count": 196,
   "id": "6b69afd5-972d-46f2-b8b3-7f0599e80111",
   "metadata": {},
   "outputs": [
    {
     "data": {
      "text/plain": [
       "('../../data/csv/test_test/raw_y',\n",
       " '../../data/csv/test_test/raw_predictions',\n",
       " '../../data/csv/test_test/predictions')"
      ]
     },
     "execution_count": 196,
     "metadata": {},
     "output_type": "execute_result"
    }
   ],
   "source": [
    "DATASET = 'test'\n",
    "TEST_Y_RAW_DIR_PATH = f'{p.DATA_DIR}/csv/test_{DATASET}/raw_y'\n",
    "TEST_PREDICTIONS_RAW_DIR_PATH = f'{p.DATA_DIR}/csv/test_{DATASET}/raw_predictions'\n",
    "TEST_PREDICTIONS_DIR_PATH = f'{p.DATA_DIR}/csv/test_{DATASET}/predictions'\n",
    "\n",
    "command = f'mkdir -p {TEST_Y_RAW_DIR_PATH} {TEST_PREDICTIONS_RAW_DIR_PATH} {TEST_PREDICTIONS_DIR_PATH}'\n",
    "! $command\n",
    "\n",
    "(TEST_Y_RAW_DIR_PATH, TEST_PREDICTIONS_RAW_DIR_PATH, TEST_PREDICTIONS_DIR_PATH)"
   ]
  },
  {
   "cell_type": "markdown",
   "id": "9ba91c66-a4ff-4b74-9355-d92ff0c05b63",
   "metadata": {
    "papermill": {
     "duration": 0.027573,
     "end_time": "2022-07-17T19:56:39.871979",
     "exception": false,
     "start_time": "2022-07-17T19:56:39.844406",
     "status": "completed"
    },
    "tags": []
   },
   "source": [
    "**Load the test dataset:**"
   ]
  },
  {
   "cell_type": "code",
   "execution_count": 197,
   "id": "1fcea967-59fd-4fd9-85f9-b932257320c3",
   "metadata": {
    "papermill": {
     "duration": 0.22723,
     "end_time": "2022-07-17T19:56:40.135018",
     "exception": false,
     "start_time": "2022-07-17T19:56:39.907788",
     "status": "completed"
    },
    "tags": []
   },
   "outputs": [
    {
     "name": "stdout",
     "output_type": "stream",
     "text": [
      "load_dataset: test, metadata file path: ../../data/csv/metadata/metadata_H.csv, chains: H, shape: (3286, 19)\n",
      "load_dataset: test, X file path: ../../data/csv/fasta_aligned_cleaned/fasta_aho_H.csv, chains: H, shape: (3205, 165)\n",
      "load_dataset: test, Y file path: ../../data/csv/sasa_aligned/sasa_H.csv, chains: H, shape: (3205, 165)\n"
     ]
    }
   ],
   "source": [
    "chains = FEATURES.split('_')[-1]\n",
    "X_orig, Y_orig = u.load_dataset(DATASET, chains=chains)\n",
    "X, Y = X_orig.copy(), Y_orig.copy()"
   ]
  },
  {
   "cell_type": "markdown",
   "id": "6d39cf90-129d-4c5a-8a90-63528313746f",
   "metadata": {
    "papermill": {
     "duration": 0.033364,
     "end_time": "2022-07-17T19:56:40.203860",
     "exception": false,
     "start_time": "2022-07-17T19:56:40.170496",
     "status": "completed"
    },
    "tags": []
   },
   "source": [
    "**Transform the data based on which feature representation did we choose:**"
   ]
  },
  {
   "cell_type": "code",
   "execution_count": 198,
   "id": "3aecec2c-6bc0-4378-ab38-887f79a5c081",
   "metadata": {
    "papermill": {
     "duration": 0.058621,
     "end_time": "2022-07-17T19:56:40.298663",
     "exception": false,
     "start_time": "2022-07-17T19:56:40.240042",
     "status": "completed"
    },
    "tags": []
   },
   "outputs": [
    {
     "name": "stdout",
     "output_type": "stream",
     "text": [
      "lco_whole_sequence_all_H\n",
      "X.shape (562, 165) Y.shape (562, 165)\n",
      "after non-data column drop: X.shape (562, 164) Y.shape (562, 164)\n",
      "[NOTE] Skipping one-hot encoding, since this is baseline model\n",
      "[FINAL] X.shape (562, 165) Y.shape (562, 164)\n"
     ]
    },
    {
     "data": {
      "text/plain": [
       "((562, 164), (562, 164), (562,))"
      ]
     },
     "execution_count": 198,
     "metadata": {},
     "output_type": "execute_result"
    }
   ],
   "source": [
    "X, Y, _ = fg.generate(X, Y, c=None, model_name=MODEL_NAME, \n",
    "                   features=FEATURES, params=PARAMS)\n",
    "ids = X[X.columns[-1]].reset_index(drop=True)\n",
    "X.drop(columns = X.columns[-1], inplace=True)\n",
    "X.shape, Y.shape, ids.shape"
   ]
  },
  {
   "cell_type": "code",
   "execution_count": 199,
   "id": "6cfd77f5-e36d-4cdd-a920-3f1cd2fc0b29",
   "metadata": {
    "papermill": {
     "duration": 0.047515,
     "end_time": "2022-07-17T19:56:40.378071",
     "exception": false,
     "start_time": "2022-07-17T19:56:40.330556",
     "status": "completed"
    },
    "tags": []
   },
   "outputs": [
    {
     "data": {
      "text/plain": [
       "(562, 164)"
      ]
     },
     "execution_count": 199,
     "metadata": {},
     "output_type": "execute_result"
    }
   ],
   "source": [
    "N_SEQUENCES = len(ids.unique())\n",
    "N_POSITIONS = len(X_orig.columns)-1 # -1 -> since ID column does not count\n",
    "N_SEQUENCES, N_POSITIONS"
   ]
  },
  {
   "cell_type": "code",
   "execution_count": 200,
   "id": "a548d092-8842-4295-bcc1-76007c5756c6",
   "metadata": {
    "papermill": {
     "duration": 0.086329,
     "end_time": "2022-07-17T19:56:40.497283",
     "exception": false,
     "start_time": "2022-07-17T19:56:40.410954",
     "status": "completed"
    },
    "tags": []
   },
   "outputs": [
    {
     "data": {
      "text/html": [
       "<div>\n",
       "<style scoped>\n",
       "    .dataframe tbody tr th:only-of-type {\n",
       "        vertical-align: middle;\n",
       "    }\n",
       "\n",
       "    .dataframe tbody tr th {\n",
       "        vertical-align: top;\n",
       "    }\n",
       "\n",
       "    .dataframe thead th {\n",
       "        text-align: right;\n",
       "    }\n",
       "</style>\n",
       "<table border=\"1\" class=\"dataframe\">\n",
       "  <thead>\n",
       "    <tr style=\"text-align: right;\">\n",
       "      <th></th>\n",
       "      <th>1</th>\n",
       "      <th>2</th>\n",
       "      <th>3</th>\n",
       "      <th>4</th>\n",
       "      <th>5</th>\n",
       "      <th>6</th>\n",
       "      <th>7</th>\n",
       "      <th>8</th>\n",
       "      <th>9</th>\n",
       "      <th>10</th>\n",
       "      <th>...</th>\n",
       "      <th>141</th>\n",
       "      <th>142</th>\n",
       "      <th>143</th>\n",
       "      <th>143A</th>\n",
       "      <th>144</th>\n",
       "      <th>145</th>\n",
       "      <th>146</th>\n",
       "      <th>147</th>\n",
       "      <th>148</th>\n",
       "      <th>149</th>\n",
       "    </tr>\n",
       "  </thead>\n",
       "  <tbody>\n",
       "    <tr>\n",
       "      <th>0</th>\n",
       "      <td>-</td>\n",
       "      <td>V</td>\n",
       "      <td>K</td>\n",
       "      <td>L</td>\n",
       "      <td>Q</td>\n",
       "      <td>Q</td>\n",
       "      <td>S</td>\n",
       "      <td>-</td>\n",
       "      <td>G</td>\n",
       "      <td>P</td>\n",
       "      <td>...</td>\n",
       "      <td>Q</td>\n",
       "      <td>G</td>\n",
       "      <td>T</td>\n",
       "      <td>-</td>\n",
       "      <td>T</td>\n",
       "      <td>V</td>\n",
       "      <td>T</td>\n",
       "      <td>V</td>\n",
       "      <td>C</td>\n",
       "      <td>S</td>\n",
       "    </tr>\n",
       "  </tbody>\n",
       "</table>\n",
       "<p>1 rows × 164 columns</p>\n",
       "</div>"
      ],
      "text/plain": [
       "   1  2  3  4  5  6  7  8  9 10  ... 141 142 143 143A 144 145 146 147 148 149\n",
       "0  -  V  K  L  Q  Q  S  -  G  P  ...   Q   G   T    -   T   V   T   V   C   S\n",
       "\n",
       "[1 rows x 164 columns]"
      ]
     },
     "execution_count": 200,
     "metadata": {},
     "output_type": "execute_result"
    }
   ],
   "source": [
    "X.head(n=1)"
   ]
  },
  {
   "cell_type": "code",
   "execution_count": 201,
   "id": "fb291e0e-c5ce-4b35-8bc3-62299f46f1da",
   "metadata": {
    "papermill": {
     "duration": 0.070238,
     "end_time": "2022-07-17T19:56:40.605977",
     "exception": false,
     "start_time": "2022-07-17T19:56:40.535739",
     "status": "completed"
    },
    "tags": []
   },
   "outputs": [
    {
     "data": {
      "text/html": [
       "<div>\n",
       "<style scoped>\n",
       "    .dataframe tbody tr th:only-of-type {\n",
       "        vertical-align: middle;\n",
       "    }\n",
       "\n",
       "    .dataframe tbody tr th {\n",
       "        vertical-align: top;\n",
       "    }\n",
       "\n",
       "    .dataframe thead th {\n",
       "        text-align: right;\n",
       "    }\n",
       "</style>\n",
       "<table border=\"1\" class=\"dataframe\">\n",
       "  <thead>\n",
       "    <tr style=\"text-align: right;\">\n",
       "      <th></th>\n",
       "      <th>1</th>\n",
       "      <th>2</th>\n",
       "      <th>3</th>\n",
       "      <th>4</th>\n",
       "      <th>5</th>\n",
       "      <th>6</th>\n",
       "      <th>7</th>\n",
       "      <th>8</th>\n",
       "      <th>9</th>\n",
       "      <th>10</th>\n",
       "      <th>...</th>\n",
       "      <th>141</th>\n",
       "      <th>142</th>\n",
       "      <th>143</th>\n",
       "      <th>143A</th>\n",
       "      <th>144</th>\n",
       "      <th>145</th>\n",
       "      <th>146</th>\n",
       "      <th>147</th>\n",
       "      <th>148</th>\n",
       "      <th>149</th>\n",
       "    </tr>\n",
       "  </thead>\n",
       "  <tbody>\n",
       "    <tr>\n",
       "      <th>0</th>\n",
       "      <td>-1.0</td>\n",
       "      <td>46.0</td>\n",
       "      <td>61.0</td>\n",
       "      <td>3.6</td>\n",
       "      <td>36.8</td>\n",
       "      <td>2.8</td>\n",
       "      <td>51.0</td>\n",
       "      <td>-1.0</td>\n",
       "      <td>51.2</td>\n",
       "      <td>55.2</td>\n",
       "      <td>...</td>\n",
       "      <td>54.0</td>\n",
       "      <td>14.6</td>\n",
       "      <td>10.4</td>\n",
       "      <td>-1.0</td>\n",
       "      <td>49.5</td>\n",
       "      <td>1.3</td>\n",
       "      <td>19.9</td>\n",
       "      <td>6.3</td>\n",
       "      <td>4.4</td>\n",
       "      <td>64.2</td>\n",
       "    </tr>\n",
       "  </tbody>\n",
       "</table>\n",
       "<p>1 rows × 164 columns</p>\n",
       "</div>"
      ],
      "text/plain": [
       "     1     2     3    4     5    6     7    8     9    10  ...   141   142  \\\n",
       "0 -1.0  46.0  61.0  3.6  36.8  2.8  51.0 -1.0  51.2  55.2  ...  54.0  14.6   \n",
       "\n",
       "    143  143A   144  145   146  147  148   149  \n",
       "0  10.4  -1.0  49.5  1.3  19.9  6.3  4.4  64.2  \n",
       "\n",
       "[1 rows x 164 columns]"
      ]
     },
     "execution_count": 201,
     "metadata": {},
     "output_type": "execute_result"
    }
   ],
   "source": [
    "Y if type(Y) is np.ndarray else Y.head(n=1)"
   ]
  },
  {
   "cell_type": "code",
   "execution_count": 202,
   "id": "938fbc1b-4670-489b-9c0c-c063b4aa5ab5",
   "metadata": {
    "papermill": {
     "duration": 0.048716,
     "end_time": "2022-07-17T19:56:40.686367",
     "exception": false,
     "start_time": "2022-07-17T19:56:40.637651",
     "status": "completed"
    },
    "tags": []
   },
   "outputs": [
    {
     "data": {
      "text/plain": [
       "0    6LCS:H\n",
       "1    6LDV:H\n",
       "2    6LDW:H\n",
       "Name: sequence_id, dtype: object"
      ]
     },
     "execution_count": 202,
     "metadata": {},
     "output_type": "execute_result"
    }
   ],
   "source": [
    "ids.head(n=3)"
   ]
  },
  {
   "cell_type": "markdown",
   "id": "acbc5ad4-57f7-4773-9764-8996a3f45d55",
   "metadata": {
    "papermill": {
     "duration": 0.037482,
     "end_time": "2022-07-17T19:56:40.756574",
     "exception": false,
     "start_time": "2022-07-17T19:56:40.719092",
     "status": "completed"
    },
    "tags": []
   },
   "source": [
    "**Load the trained model:**"
   ]
  },
  {
   "cell_type": "code",
   "execution_count": 203,
   "id": "eec2a1bd-685d-4b98-818e-402e95e0152d",
   "metadata": {
    "papermill": {
     "duration": 2.284313,
     "end_time": "2022-07-17T19:56:43.076756",
     "exception": false,
     "start_time": "2022-07-17T19:56:40.792443",
     "status": "completed"
    },
    "tags": []
   },
   "outputs": [],
   "source": [
    "with open(f'{p.DATA_DIR}/pickles/trained-test-models/{FEATURES}_{MODEL_NAME}.p', \n",
    "          'rb') as trained_model_file:\n",
    "    model = pickle.load(trained_model_file)"
   ]
  },
  {
   "cell_type": "markdown",
   "id": "b974c345-0532-4037-b811-f39bcf8171bb",
   "metadata": {
    "papermill": {
     "duration": 0.038818,
     "end_time": "2022-07-17T19:56:43.158178",
     "exception": false,
     "start_time": "2022-07-17T19:56:43.119360",
     "status": "completed"
    },
    "tags": []
   },
   "source": [
    "---"
   ]
  },
  {
   "cell_type": "markdown",
   "id": "f1b3bef6-94fe-4e74-9aef-31ba8408ae54",
   "metadata": {
    "papermill": {
     "duration": 0.034506,
     "end_time": "2022-07-17T19:56:43.231380",
     "exception": false,
     "start_time": "2022-07-17T19:56:43.196874",
     "status": "completed"
    },
    "tags": []
   },
   "source": [
    "## Predict"
   ]
  },
  {
   "cell_type": "code",
   "execution_count": 204,
   "id": "dbd66bbb-e5c5-436f-b43a-30d15bcea05f",
   "metadata": {
    "papermill": {
     "duration": 0.875977,
     "end_time": "2022-07-17T19:56:44.145142",
     "exception": false,
     "start_time": "2022-07-17T19:56:43.269165",
     "status": "completed"
    },
    "tags": []
   },
   "outputs": [
    {
     "name": "stdout",
     "output_type": "stream",
     "text": [
      "Prediction took 0.50s, the result datatype is <class 'pandas.core.frame.DataFrame'> and shape (562, 164)\n"
     ]
    }
   ],
   "source": [
    "predict_start = time.time()\n",
    "predictions = model.predict(X).round(2)\n",
    "predict_end = time.time()\n",
    "print(f'Prediction took {predict_end-predict_start:.2f}s, the result datatype is {type(predictions)} and shape {predictions.shape}')"
   ]
  },
  {
   "cell_type": "markdown",
   "id": "57cc5177-15b7-4b96-9da3-13c8a63e63aa",
   "metadata": {
    "papermill": {
     "duration": 0.039924,
     "end_time": "2022-07-17T19:56:44.218219",
     "exception": false,
     "start_time": "2022-07-17T19:56:44.178295",
     "status": "completed"
    },
    "tags": []
   },
   "source": [
    "**If predictions are stored in `np.array`, perform the conversion to the `whole_sequence`-like dataframe:**"
   ]
  },
  {
   "cell_type": "code",
   "execution_count": 205,
   "id": "4ce250b6-cfba-4b50-9739-18feec94a49a",
   "metadata": {
    "papermill": {
     "duration": 0.07541,
     "end_time": "2022-07-17T19:56:44.330115",
     "exception": false,
     "start_time": "2022-07-17T19:56:44.254705",
     "status": "completed"
    },
    "tags": []
   },
   "outputs": [
    {
     "data": {
      "text/html": [
       "<div>\n",
       "<style scoped>\n",
       "    .dataframe tbody tr th:only-of-type {\n",
       "        vertical-align: middle;\n",
       "    }\n",
       "\n",
       "    .dataframe tbody tr th {\n",
       "        vertical-align: top;\n",
       "    }\n",
       "\n",
       "    .dataframe thead th {\n",
       "        text-align: right;\n",
       "    }\n",
       "</style>\n",
       "<table border=\"1\" class=\"dataframe\">\n",
       "  <thead>\n",
       "    <tr style=\"text-align: right;\">\n",
       "      <th></th>\n",
       "      <th>1</th>\n",
       "      <th>2</th>\n",
       "      <th>3</th>\n",
       "      <th>4</th>\n",
       "      <th>5</th>\n",
       "      <th>6</th>\n",
       "      <th>7</th>\n",
       "      <th>8</th>\n",
       "      <th>9</th>\n",
       "      <th>10</th>\n",
       "      <th>...</th>\n",
       "      <th>141</th>\n",
       "      <th>142</th>\n",
       "      <th>143</th>\n",
       "      <th>143A</th>\n",
       "      <th>144</th>\n",
       "      <th>145</th>\n",
       "      <th>146</th>\n",
       "      <th>147</th>\n",
       "      <th>148</th>\n",
       "      <th>149</th>\n",
       "    </tr>\n",
       "  </thead>\n",
       "  <tbody>\n",
       "    <tr>\n",
       "      <th>0</th>\n",
       "      <td>NaN</td>\n",
       "      <td>32.11</td>\n",
       "      <td>53.66</td>\n",
       "      <td>6.07</td>\n",
       "      <td>51.41</td>\n",
       "      <td>7.87</td>\n",
       "      <td>42.1</td>\n",
       "      <td>NaN</td>\n",
       "      <td>53.53</td>\n",
       "      <td>47.72</td>\n",
       "      <td>...</td>\n",
       "      <td>62.77</td>\n",
       "      <td>19.15</td>\n",
       "      <td>8.61</td>\n",
       "      <td>NaN</td>\n",
       "      <td>34.08</td>\n",
       "      <td>1.65</td>\n",
       "      <td>18.04</td>\n",
       "      <td>5.16</td>\n",
       "      <td>21.96</td>\n",
       "      <td>69.77</td>\n",
       "    </tr>\n",
       "    <tr>\n",
       "      <th>1</th>\n",
       "      <td>NaN</td>\n",
       "      <td>32.11</td>\n",
       "      <td>53.66</td>\n",
       "      <td>6.07</td>\n",
       "      <td>51.41</td>\n",
       "      <td>7.87</td>\n",
       "      <td>42.1</td>\n",
       "      <td>NaN</td>\n",
       "      <td>53.53</td>\n",
       "      <td>47.72</td>\n",
       "      <td>...</td>\n",
       "      <td>62.77</td>\n",
       "      <td>19.15</td>\n",
       "      <td>8.61</td>\n",
       "      <td>NaN</td>\n",
       "      <td>34.08</td>\n",
       "      <td>1.65</td>\n",
       "      <td>18.04</td>\n",
       "      <td>5.16</td>\n",
       "      <td>21.96</td>\n",
       "      <td>69.77</td>\n",
       "    </tr>\n",
       "    <tr>\n",
       "      <th>2</th>\n",
       "      <td>NaN</td>\n",
       "      <td>32.11</td>\n",
       "      <td>53.66</td>\n",
       "      <td>6.07</td>\n",
       "      <td>51.41</td>\n",
       "      <td>7.87</td>\n",
       "      <td>42.1</td>\n",
       "      <td>NaN</td>\n",
       "      <td>53.53</td>\n",
       "      <td>47.72</td>\n",
       "      <td>...</td>\n",
       "      <td>62.77</td>\n",
       "      <td>19.15</td>\n",
       "      <td>8.61</td>\n",
       "      <td>NaN</td>\n",
       "      <td>34.08</td>\n",
       "      <td>1.65</td>\n",
       "      <td>18.04</td>\n",
       "      <td>5.16</td>\n",
       "      <td>21.96</td>\n",
       "      <td>69.77</td>\n",
       "    </tr>\n",
       "    <tr>\n",
       "      <th>3</th>\n",
       "      <td>75.84</td>\n",
       "      <td>32.11</td>\n",
       "      <td>53.66</td>\n",
       "      <td>6.07</td>\n",
       "      <td>51.41</td>\n",
       "      <td>7.87</td>\n",
       "      <td>42.1</td>\n",
       "      <td>NaN</td>\n",
       "      <td>53.53</td>\n",
       "      <td>47.72</td>\n",
       "      <td>...</td>\n",
       "      <td>62.77</td>\n",
       "      <td>19.15</td>\n",
       "      <td>8.61</td>\n",
       "      <td>NaN</td>\n",
       "      <td>34.08</td>\n",
       "      <td>1.65</td>\n",
       "      <td>18.04</td>\n",
       "      <td>5.16</td>\n",
       "      <td>21.96</td>\n",
       "      <td>69.77</td>\n",
       "    </tr>\n",
       "    <tr>\n",
       "      <th>4</th>\n",
       "      <td>NaN</td>\n",
       "      <td>32.11</td>\n",
       "      <td>53.66</td>\n",
       "      <td>6.07</td>\n",
       "      <td>51.41</td>\n",
       "      <td>7.87</td>\n",
       "      <td>42.1</td>\n",
       "      <td>NaN</td>\n",
       "      <td>53.53</td>\n",
       "      <td>47.72</td>\n",
       "      <td>...</td>\n",
       "      <td>62.77</td>\n",
       "      <td>19.15</td>\n",
       "      <td>8.61</td>\n",
       "      <td>NaN</td>\n",
       "      <td>34.08</td>\n",
       "      <td>1.65</td>\n",
       "      <td>18.04</td>\n",
       "      <td>5.16</td>\n",
       "      <td>21.96</td>\n",
       "      <td>69.77</td>\n",
       "    </tr>\n",
       "    <tr>\n",
       "      <th>...</th>\n",
       "      <td>...</td>\n",
       "      <td>...</td>\n",
       "      <td>...</td>\n",
       "      <td>...</td>\n",
       "      <td>...</td>\n",
       "      <td>...</td>\n",
       "      <td>...</td>\n",
       "      <td>...</td>\n",
       "      <td>...</td>\n",
       "      <td>...</td>\n",
       "      <td>...</td>\n",
       "      <td>...</td>\n",
       "      <td>...</td>\n",
       "      <td>...</td>\n",
       "      <td>...</td>\n",
       "      <td>...</td>\n",
       "      <td>...</td>\n",
       "      <td>...</td>\n",
       "      <td>...</td>\n",
       "      <td>...</td>\n",
       "      <td>...</td>\n",
       "    </tr>\n",
       "    <tr>\n",
       "      <th>557</th>\n",
       "      <td>75.84</td>\n",
       "      <td>32.11</td>\n",
       "      <td>53.66</td>\n",
       "      <td>6.07</td>\n",
       "      <td>51.41</td>\n",
       "      <td>7.87</td>\n",
       "      <td>42.1</td>\n",
       "      <td>NaN</td>\n",
       "      <td>53.53</td>\n",
       "      <td>47.72</td>\n",
       "      <td>...</td>\n",
       "      <td>62.77</td>\n",
       "      <td>19.15</td>\n",
       "      <td>8.61</td>\n",
       "      <td>NaN</td>\n",
       "      <td>34.08</td>\n",
       "      <td>1.65</td>\n",
       "      <td>18.04</td>\n",
       "      <td>5.16</td>\n",
       "      <td>21.96</td>\n",
       "      <td>NaN</td>\n",
       "    </tr>\n",
       "    <tr>\n",
       "      <th>558</th>\n",
       "      <td>NaN</td>\n",
       "      <td>NaN</td>\n",
       "      <td>NaN</td>\n",
       "      <td>NaN</td>\n",
       "      <td>NaN</td>\n",
       "      <td>NaN</td>\n",
       "      <td>NaN</td>\n",
       "      <td>NaN</td>\n",
       "      <td>NaN</td>\n",
       "      <td>NaN</td>\n",
       "      <td>...</td>\n",
       "      <td>62.77</td>\n",
       "      <td>19.15</td>\n",
       "      <td>8.61</td>\n",
       "      <td>NaN</td>\n",
       "      <td>34.08</td>\n",
       "      <td>1.65</td>\n",
       "      <td>18.04</td>\n",
       "      <td>5.16</td>\n",
       "      <td>21.96</td>\n",
       "      <td>69.77</td>\n",
       "    </tr>\n",
       "    <tr>\n",
       "      <th>559</th>\n",
       "      <td>NaN</td>\n",
       "      <td>32.11</td>\n",
       "      <td>53.66</td>\n",
       "      <td>6.07</td>\n",
       "      <td>51.41</td>\n",
       "      <td>7.87</td>\n",
       "      <td>42.1</td>\n",
       "      <td>NaN</td>\n",
       "      <td>53.53</td>\n",
       "      <td>47.72</td>\n",
       "      <td>...</td>\n",
       "      <td>62.77</td>\n",
       "      <td>19.15</td>\n",
       "      <td>8.61</td>\n",
       "      <td>NaN</td>\n",
       "      <td>34.08</td>\n",
       "      <td>1.65</td>\n",
       "      <td>18.04</td>\n",
       "      <td>5.16</td>\n",
       "      <td>21.96</td>\n",
       "      <td>69.77</td>\n",
       "    </tr>\n",
       "    <tr>\n",
       "      <th>560</th>\n",
       "      <td>75.84</td>\n",
       "      <td>32.11</td>\n",
       "      <td>53.66</td>\n",
       "      <td>6.07</td>\n",
       "      <td>51.41</td>\n",
       "      <td>7.87</td>\n",
       "      <td>42.1</td>\n",
       "      <td>NaN</td>\n",
       "      <td>53.53</td>\n",
       "      <td>47.72</td>\n",
       "      <td>...</td>\n",
       "      <td>62.77</td>\n",
       "      <td>19.15</td>\n",
       "      <td>8.61</td>\n",
       "      <td>NaN</td>\n",
       "      <td>34.08</td>\n",
       "      <td>1.65</td>\n",
       "      <td>18.04</td>\n",
       "      <td>5.16</td>\n",
       "      <td>21.96</td>\n",
       "      <td>69.77</td>\n",
       "    </tr>\n",
       "    <tr>\n",
       "      <th>561</th>\n",
       "      <td>NaN</td>\n",
       "      <td>32.11</td>\n",
       "      <td>53.66</td>\n",
       "      <td>6.07</td>\n",
       "      <td>51.41</td>\n",
       "      <td>7.87</td>\n",
       "      <td>42.1</td>\n",
       "      <td>NaN</td>\n",
       "      <td>53.53</td>\n",
       "      <td>47.72</td>\n",
       "      <td>...</td>\n",
       "      <td>62.77</td>\n",
       "      <td>19.15</td>\n",
       "      <td>8.61</td>\n",
       "      <td>NaN</td>\n",
       "      <td>34.08</td>\n",
       "      <td>1.65</td>\n",
       "      <td>18.04</td>\n",
       "      <td>5.16</td>\n",
       "      <td>21.96</td>\n",
       "      <td>69.77</td>\n",
       "    </tr>\n",
       "  </tbody>\n",
       "</table>\n",
       "<p>562 rows × 164 columns</p>\n",
       "</div>"
      ],
      "text/plain": [
       "         1      2      3     4      5     6     7   8      9     10  ...  \\\n",
       "0      NaN  32.11  53.66  6.07  51.41  7.87  42.1 NaN  53.53  47.72  ...   \n",
       "1      NaN  32.11  53.66  6.07  51.41  7.87  42.1 NaN  53.53  47.72  ...   \n",
       "2      NaN  32.11  53.66  6.07  51.41  7.87  42.1 NaN  53.53  47.72  ...   \n",
       "3    75.84  32.11  53.66  6.07  51.41  7.87  42.1 NaN  53.53  47.72  ...   \n",
       "4      NaN  32.11  53.66  6.07  51.41  7.87  42.1 NaN  53.53  47.72  ...   \n",
       "..     ...    ...    ...   ...    ...   ...   ...  ..    ...    ...  ...   \n",
       "557  75.84  32.11  53.66  6.07  51.41  7.87  42.1 NaN  53.53  47.72  ...   \n",
       "558    NaN    NaN    NaN   NaN    NaN   NaN   NaN NaN    NaN    NaN  ...   \n",
       "559    NaN  32.11  53.66  6.07  51.41  7.87  42.1 NaN  53.53  47.72  ...   \n",
       "560  75.84  32.11  53.66  6.07  51.41  7.87  42.1 NaN  53.53  47.72  ...   \n",
       "561    NaN  32.11  53.66  6.07  51.41  7.87  42.1 NaN  53.53  47.72  ...   \n",
       "\n",
       "       141    142   143  143A    144   145    146   147    148    149  \n",
       "0    62.77  19.15  8.61   NaN  34.08  1.65  18.04  5.16  21.96  69.77  \n",
       "1    62.77  19.15  8.61   NaN  34.08  1.65  18.04  5.16  21.96  69.77  \n",
       "2    62.77  19.15  8.61   NaN  34.08  1.65  18.04  5.16  21.96  69.77  \n",
       "3    62.77  19.15  8.61   NaN  34.08  1.65  18.04  5.16  21.96  69.77  \n",
       "4    62.77  19.15  8.61   NaN  34.08  1.65  18.04  5.16  21.96  69.77  \n",
       "..     ...    ...   ...   ...    ...   ...    ...   ...    ...    ...  \n",
       "557  62.77  19.15  8.61   NaN  34.08  1.65  18.04  5.16  21.96    NaN  \n",
       "558  62.77  19.15  8.61   NaN  34.08  1.65  18.04  5.16  21.96  69.77  \n",
       "559  62.77  19.15  8.61   NaN  34.08  1.65  18.04  5.16  21.96  69.77  \n",
       "560  62.77  19.15  8.61   NaN  34.08  1.65  18.04  5.16  21.96  69.77  \n",
       "561  62.77  19.15  8.61   NaN  34.08  1.65  18.04  5.16  21.96  69.77  \n",
       "\n",
       "[562 rows x 164 columns]"
      ]
     },
     "execution_count": 205,
     "metadata": {},
     "output_type": "execute_result"
    }
   ],
   "source": [
    "predictions"
   ]
  },
  {
   "cell_type": "code",
   "execution_count": 206,
   "id": "c89abbbe-808e-4f83-8c7f-9f73ef171d93",
   "metadata": {
    "papermill": {
     "duration": 0.054455,
     "end_time": "2022-07-17T19:56:44.420500",
     "exception": false,
     "start_time": "2022-07-17T19:56:44.366045",
     "status": "completed"
    },
    "tags": []
   },
   "outputs": [
    {
     "name": "stdout",
     "output_type": "stream",
     "text": [
      "prediction were not np.ndarray\n"
     ]
    }
   ],
   "source": [
    "if type(predictions) is np.ndarray:\n",
    "    print('predictions are np.ndarray')\n",
    "    # convert to dataframe\n",
    "    Y_pred = Y_orig.copy()\n",
    "    Y_pred.index = Y_orig['Id']\n",
    "    Y_pred.drop(columns='Id', inplace=True)\n",
    "    for i, p in tqdm(enumerate(predictions), total=len(predictions), \n",
    "                     desc='Processing individual predictions...'):\n",
    "        seq_id = ids.iloc[i % N_SEQUENCES]\n",
    "        x_index = math.floor(i / N_SEQUENCES)\n",
    "        pos_id = X_orig.columns[x_index+1] # starting from 1 as 0 is 'id'\n",
    "        Y_pred.loc[seq_id, pos_id] = predictions[i]\n",
    "    Y_pred = Y_pred.replace(-1, np.nan)\n",
    "    predictions = Y_pred\n",
    "else:\n",
    "    print('prediction were not np.ndarray')"
   ]
  },
  {
   "cell_type": "markdown",
   "id": "cf9475a3-dacf-4081-9998-99ddef42f490",
   "metadata": {
    "papermill": {
     "duration": 0.031633,
     "end_time": "2022-07-17T19:56:44.487121",
     "exception": false,
     "start_time": "2022-07-17T19:56:44.455488",
     "status": "completed"
    },
    "tags": []
   },
   "source": [
    "**Replace `-1` values by `np.nan`:**"
   ]
  },
  {
   "cell_type": "code",
   "execution_count": 207,
   "id": "ca96988e-d72a-4e71-a89e-314f786b9c26",
   "metadata": {
    "papermill": {
     "duration": 0.05508,
     "end_time": "2022-07-17T19:56:44.581555",
     "exception": false,
     "start_time": "2022-07-17T19:56:44.526475",
     "status": "completed"
    },
    "tags": []
   },
   "outputs": [],
   "source": [
    "predictions = predictions.replace(-1, np.nan)"
   ]
  },
  {
   "cell_type": "code",
   "execution_count": 208,
   "id": "ed6345b0-c234-4be1-8a35-78aef9bb4a5a",
   "metadata": {
    "papermill": {
     "duration": 0.059642,
     "end_time": "2022-07-17T19:56:44.678965",
     "exception": false,
     "start_time": "2022-07-17T19:56:44.619323",
     "status": "completed"
    },
    "tags": []
   },
   "outputs": [
    {
     "data": {
      "text/html": [
       "<div>\n",
       "<style scoped>\n",
       "    .dataframe tbody tr th:only-of-type {\n",
       "        vertical-align: middle;\n",
       "    }\n",
       "\n",
       "    .dataframe tbody tr th {\n",
       "        vertical-align: top;\n",
       "    }\n",
       "\n",
       "    .dataframe thead th {\n",
       "        text-align: right;\n",
       "    }\n",
       "</style>\n",
       "<table border=\"1\" class=\"dataframe\">\n",
       "  <thead>\n",
       "    <tr style=\"text-align: right;\">\n",
       "      <th></th>\n",
       "      <th>1</th>\n",
       "      <th>2</th>\n",
       "      <th>3</th>\n",
       "      <th>4</th>\n",
       "      <th>5</th>\n",
       "      <th>6</th>\n",
       "      <th>7</th>\n",
       "      <th>8</th>\n",
       "      <th>9</th>\n",
       "      <th>10</th>\n",
       "      <th>...</th>\n",
       "      <th>141</th>\n",
       "      <th>142</th>\n",
       "      <th>143</th>\n",
       "      <th>143A</th>\n",
       "      <th>144</th>\n",
       "      <th>145</th>\n",
       "      <th>146</th>\n",
       "      <th>147</th>\n",
       "      <th>148</th>\n",
       "      <th>149</th>\n",
       "    </tr>\n",
       "  </thead>\n",
       "  <tbody>\n",
       "    <tr>\n",
       "      <th>0</th>\n",
       "      <td>NaN</td>\n",
       "      <td>32.11</td>\n",
       "      <td>53.66</td>\n",
       "      <td>6.07</td>\n",
       "      <td>51.41</td>\n",
       "      <td>7.87</td>\n",
       "      <td>42.1</td>\n",
       "      <td>NaN</td>\n",
       "      <td>53.53</td>\n",
       "      <td>47.72</td>\n",
       "      <td>...</td>\n",
       "      <td>62.77</td>\n",
       "      <td>19.15</td>\n",
       "      <td>8.61</td>\n",
       "      <td>NaN</td>\n",
       "      <td>34.08</td>\n",
       "      <td>1.65</td>\n",
       "      <td>18.04</td>\n",
       "      <td>5.16</td>\n",
       "      <td>21.96</td>\n",
       "      <td>69.77</td>\n",
       "    </tr>\n",
       "    <tr>\n",
       "      <th>1</th>\n",
       "      <td>NaN</td>\n",
       "      <td>32.11</td>\n",
       "      <td>53.66</td>\n",
       "      <td>6.07</td>\n",
       "      <td>51.41</td>\n",
       "      <td>7.87</td>\n",
       "      <td>42.1</td>\n",
       "      <td>NaN</td>\n",
       "      <td>53.53</td>\n",
       "      <td>47.72</td>\n",
       "      <td>...</td>\n",
       "      <td>62.77</td>\n",
       "      <td>19.15</td>\n",
       "      <td>8.61</td>\n",
       "      <td>NaN</td>\n",
       "      <td>34.08</td>\n",
       "      <td>1.65</td>\n",
       "      <td>18.04</td>\n",
       "      <td>5.16</td>\n",
       "      <td>21.96</td>\n",
       "      <td>69.77</td>\n",
       "    </tr>\n",
       "  </tbody>\n",
       "</table>\n",
       "<p>2 rows × 164 columns</p>\n",
       "</div>"
      ],
      "text/plain": [
       "    1      2      3     4      5     6     7   8      9     10  ...    141  \\\n",
       "0 NaN  32.11  53.66  6.07  51.41  7.87  42.1 NaN  53.53  47.72  ...  62.77   \n",
       "1 NaN  32.11  53.66  6.07  51.41  7.87  42.1 NaN  53.53  47.72  ...  62.77   \n",
       "\n",
       "     142   143  143A    144   145    146   147    148    149  \n",
       "0  19.15  8.61   NaN  34.08  1.65  18.04  5.16  21.96  69.77  \n",
       "1  19.15  8.61   NaN  34.08  1.65  18.04  5.16  21.96  69.77  \n",
       "\n",
       "[2 rows x 164 columns]"
      ]
     },
     "execution_count": 208,
     "metadata": {},
     "output_type": "execute_result"
    }
   ],
   "source": [
    "predictions.head(n=2)"
   ]
  },
  {
   "cell_type": "markdown",
   "id": "e2ca1d56-e1a9-4092-949d-b3be05d3c64f",
   "metadata": {
    "papermill": {
     "duration": 0.032412,
     "end_time": "2022-07-17T19:56:44.747519",
     "exception": false,
     "start_time": "2022-07-17T19:56:44.715107",
     "status": "completed"
    },
    "tags": []
   },
   "source": [
    "**Save raw `y` and `predictions` objects so we can use the raw data in other notebooks:**"
   ]
  },
  {
   "cell_type": "code",
   "execution_count": 209,
   "id": "1076f89a-c5a4-44aa-b678-247bc27c4dba",
   "metadata": {
    "papermill": {
     "duration": 0.150078,
     "end_time": "2022-07-17T19:56:44.937598",
     "exception": false,
     "start_time": "2022-07-17T19:56:44.787520",
     "status": "completed"
    },
    "tags": []
   },
   "outputs": [],
   "source": [
    "raw_y_path = f'{TEST_Y_RAW_DIR_PATH}/{FEATURES}_{MODEL_NAME}.csv'\n",
    "Y_orig.to_csv(raw_y_path)"
   ]
  },
  {
   "cell_type": "code",
   "execution_count": 210,
   "id": "b4f8e152-e065-4fab-89c3-e56fa59f21d7",
   "metadata": {
    "papermill": {
     "duration": 0.172597,
     "end_time": "2022-07-17T19:56:45.150103",
     "exception": false,
     "start_time": "2022-07-17T19:56:44.977506",
     "status": "completed"
    },
    "tags": []
   },
   "outputs": [],
   "source": [
    "raw_preds_path = f'{TEST_PREDICTIONS_RAW_DIR_PATH}/{FEATURES}_{MODEL_NAME}.csv'\n",
    "predictions.to_csv(raw_preds_path)"
   ]
  },
  {
   "cell_type": "markdown",
   "id": "ee0c4fa7-0d79-4831-aef5-a36ec448f8a8",
   "metadata": {
    "papermill": {
     "duration": 0.03213,
     "end_time": "2022-07-17T19:56:45.221049",
     "exception": false,
     "start_time": "2022-07-17T19:56:45.188919",
     "status": "completed"
    },
    "tags": []
   },
   "source": [
    "**Generate `sequence/position/sasa_prediction` dataframe (very nice structure for processing the results later on):**"
   ]
  },
  {
   "cell_type": "code",
   "execution_count": 211,
   "id": "ccb1dd65-b2aa-4205-b04e-82d05161183d",
   "metadata": {},
   "outputs": [
    {
     "data": {
      "text/plain": [
       "0      6LCS:H\n",
       "1      6LDV:H\n",
       "2      6LDW:H\n",
       "3      6LDX:H\n",
       "4      6LDY:H\n",
       "        ...  \n",
       "557    7WRV:H\n",
       "558    7X08:H\n",
       "559    7X9E:H\n",
       "560    7Z0X:H\n",
       "561    7Z0Y:H\n",
       "Name: sequence_id, Length: 562, dtype: object"
      ]
     },
     "execution_count": 211,
     "metadata": {},
     "output_type": "execute_result"
    }
   ],
   "source": [
    "ids"
   ]
  },
  {
   "cell_type": "code",
   "execution_count": 212,
   "id": "c129c9f5-ac29-4e48-bc82-a290b09e4fd7",
   "metadata": {
    "papermill": {
     "duration": 0.064304,
     "end_time": "2022-07-17T19:56:45.317968",
     "exception": false,
     "start_time": "2022-07-17T19:56:45.253664",
     "status": "completed"
    },
    "tags": []
   },
   "outputs": [
    {
     "data": {
      "text/html": [
       "<div>\n",
       "<style scoped>\n",
       "    .dataframe tbody tr th:only-of-type {\n",
       "        vertical-align: middle;\n",
       "    }\n",
       "\n",
       "    .dataframe tbody tr th {\n",
       "        vertical-align: top;\n",
       "    }\n",
       "\n",
       "    .dataframe thead th {\n",
       "        text-align: right;\n",
       "    }\n",
       "</style>\n",
       "<table border=\"1\" class=\"dataframe\">\n",
       "  <thead>\n",
       "    <tr style=\"text-align: right;\">\n",
       "      <th></th>\n",
       "      <th>sequence_id</th>\n",
       "      <th>position</th>\n",
       "      <th>prediction</th>\n",
       "    </tr>\n",
       "  </thead>\n",
       "  <tbody>\n",
       "    <tr>\n",
       "      <th>0</th>\n",
       "      <td>6LCS:H</td>\n",
       "      <td>1</td>\n",
       "      <td>NaN</td>\n",
       "    </tr>\n",
       "    <tr>\n",
       "      <th>1</th>\n",
       "      <td>6LDV:H</td>\n",
       "      <td>1</td>\n",
       "      <td>NaN</td>\n",
       "    </tr>\n",
       "    <tr>\n",
       "      <th>2</th>\n",
       "      <td>6LDW:H</td>\n",
       "      <td>1</td>\n",
       "      <td>NaN</td>\n",
       "    </tr>\n",
       "    <tr>\n",
       "      <th>3</th>\n",
       "      <td>6LDX:H</td>\n",
       "      <td>1</td>\n",
       "      <td>75.84</td>\n",
       "    </tr>\n",
       "    <tr>\n",
       "      <th>4</th>\n",
       "      <td>6LDY:H</td>\n",
       "      <td>1</td>\n",
       "      <td>NaN</td>\n",
       "    </tr>\n",
       "    <tr>\n",
       "      <th>...</th>\n",
       "      <td>...</td>\n",
       "      <td>...</td>\n",
       "      <td>...</td>\n",
       "    </tr>\n",
       "    <tr>\n",
       "      <th>92163</th>\n",
       "      <td>7WRV:H</td>\n",
       "      <td>149</td>\n",
       "      <td>NaN</td>\n",
       "    </tr>\n",
       "    <tr>\n",
       "      <th>92164</th>\n",
       "      <td>7X08:H</td>\n",
       "      <td>149</td>\n",
       "      <td>69.77</td>\n",
       "    </tr>\n",
       "    <tr>\n",
       "      <th>92165</th>\n",
       "      <td>7X9E:H</td>\n",
       "      <td>149</td>\n",
       "      <td>69.77</td>\n",
       "    </tr>\n",
       "    <tr>\n",
       "      <th>92166</th>\n",
       "      <td>7Z0X:H</td>\n",
       "      <td>149</td>\n",
       "      <td>69.77</td>\n",
       "    </tr>\n",
       "    <tr>\n",
       "      <th>92167</th>\n",
       "      <td>7Z0Y:H</td>\n",
       "      <td>149</td>\n",
       "      <td>69.77</td>\n",
       "    </tr>\n",
       "  </tbody>\n",
       "</table>\n",
       "<p>92168 rows × 3 columns</p>\n",
       "</div>"
      ],
      "text/plain": [
       "      sequence_id position  prediction\n",
       "0          6LCS:H        1         NaN\n",
       "1          6LDV:H        1         NaN\n",
       "2          6LDW:H        1         NaN\n",
       "3          6LDX:H        1       75.84\n",
       "4          6LDY:H        1         NaN\n",
       "...           ...      ...         ...\n",
       "92163      7WRV:H      149         NaN\n",
       "92164      7X08:H      149       69.77\n",
       "92165      7X9E:H      149       69.77\n",
       "92166      7Z0X:H      149       69.77\n",
       "92167      7Z0Y:H      149       69.77\n",
       "\n",
       "[92168 rows x 3 columns]"
      ]
     },
     "execution_count": 212,
     "metadata": {},
     "output_type": "execute_result"
    }
   ],
   "source": [
    "res_df = u.positionize_sasa_df(predictions, ids)\n",
    "res_df"
   ]
  },
  {
   "cell_type": "markdown",
   "id": "591b847a-9c9f-46b6-8569-39c95fbece91",
   "metadata": {
    "papermill": {
     "duration": 0.032571,
     "end_time": "2022-07-17T19:56:45.385940",
     "exception": false,
     "start_time": "2022-07-17T19:56:45.353369",
     "status": "completed"
    },
    "tags": []
   },
   "source": [
    "**Store it:**"
   ]
  },
  {
   "cell_type": "code",
   "execution_count": 213,
   "id": "75ab4892-3e5e-4239-8e81-6dcc292ac586",
   "metadata": {
    "papermill": {
     "duration": 0.260377,
     "end_time": "2022-07-17T19:56:45.677843",
     "exception": false,
     "start_time": "2022-07-17T19:56:45.417466",
     "status": "completed"
    },
    "tags": []
   },
   "outputs": [
    {
     "name": "stdout",
     "output_type": "stream",
     "text": [
      "preds_path: ../../data/csv/test_test/predictions/lco_whole_sequence_all_H_BLavgpos.csv\n"
     ]
    }
   ],
   "source": [
    "preds_path = f'{TEST_PREDICTIONS_DIR_PATH}/{FEATURES}_{MODEL_NAME}.csv'\n",
    "print('preds_path:', preds_path)\n",
    "res_df.to_csv(preds_path)"
   ]
  },
  {
   "cell_type": "code",
   "execution_count": null,
   "id": "5b0bcc77-08fd-455e-a62b-52505f4c9a44",
   "metadata": {},
   "outputs": [],
   "source": []
  }
 ],
 "metadata": {
  "kernelspec": {
   "display_name": "Python 3 (ipykernel)",
   "language": "python",
   "name": "python3"
  },
  "language_info": {
   "codemirror_mode": {
    "name": "ipython",
    "version": 3
   },
   "file_extension": ".py",
   "mimetype": "text/x-python",
   "name": "python",
   "nbconvert_exporter": "python",
   "pygments_lexer": "ipython3",
   "version": "3.10.14"
  },
  "papermill": {
   "default_parameters": {},
   "duration": 37.326884,
   "end_time": "2022-07-17T19:56:46.201262",
   "environment_variables": {},
   "exception": null,
   "input_path": "notebooks/experiments/03b_test_predictions.ipynb",
   "output_path": "notebooks/experiments/test_predictions/03b_test_predictions_lco_whole_sequence_all_H_BLavgpos.ipynb",
   "parameters": {
    "FEATURES": "lco_whole_sequence_all_H",
    "MODEL_NAME": "BLavgpos"
   },
   "start_time": "2022-07-17T19:56:08.874378",
   "version": "2.3.4"
  }
 },
 "nbformat": 4,
 "nbformat_minor": 5
}
