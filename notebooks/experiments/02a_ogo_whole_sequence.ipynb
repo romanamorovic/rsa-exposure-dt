{
 "cells": [
  {
   "cell_type": "markdown",
   "id": "00d501be-4bfc-48bb-b8a0-ac05748591fb",
   "metadata": {},
   "source": [
    "# One-Cluster-Out: Whole Sequence"
   ]
  },
  {
   "cell_type": "markdown",
   "id": "fca09740-6d14-4be5-9163-752f641fcd61",
   "metadata": {},
   "source": [
    "## Setup"
   ]
  },
  {
   "cell_type": "code",
   "execution_count": 1,
   "id": "cbbcc35d-0e32-4eb0-afca-012cf4ccbe5b",
   "metadata": {},
   "outputs": [],
   "source": [
    "import logging\n",
    "import os\n",
    "import pickle\n",
    "import sys\n",
    "import warnings\n",
    "from collections import defaultdict\n",
    "\n",
    "import pandas as pd\n",
    "import numpy as np\n",
    "import seaborn as sns\n",
    "from sklearn.metrics import make_scorer, r2_score\n",
    "from sklearn.model_selection import cross_validate, LeaveOneGroupOut\n",
    "\n",
    "import bin.baseline_models as bm\n",
    "import bin.feature_generators as fg\n",
    "import bin.params as p\n",
    "import bin.utils as utils"
   ]
  },
  {
   "cell_type": "code",
   "execution_count": 2,
   "id": "9975c2e6-a9ff-48c5-a8d0-07173152eb7a",
   "metadata": {},
   "outputs": [],
   "source": [
    "# developer settings\n",
    "N_JOBS = -1 # parallel (production) \n",
    "# N_JOBS = 1 # sequential (development)\n",
    "VERBOSE = 0\n",
    "ERROR_SCORE = 'raise'\n",
    "RANDOM_STATE = 2"
   ]
  },
  {
   "cell_type": "code",
   "execution_count": 3,
   "id": "3a2ed305-3f5a-454b-81ad-d87d3ef4695c",
   "metadata": {
    "tags": [
     "parameters"
    ]
   },
   "outputs": [],
   "source": [
    "# parameters\n",
    "command = f'mkdir -p {p.DATA_DIR}/csv/garbage'\n",
    "! $command\n",
    "CHAINS = 'H'\n",
    "MODEL_NAME = 'randomforest2'\n",
    "INPUT_CLUSTER_FILE = f'{p.DATA_DIR}/csv/clustered_splits/sim80_all.csv'\n",
    "OUTPUT_FILE = f'{p.DATA_DIR}/csv/garbage/sim80_randomforest2_{CHAINS}.csv'"
   ]
  },
  {
   "cell_type": "code",
   "execution_count": 4,
   "id": "bfc4731b-713f-4189-a2c1-4e75028e17dc",
   "metadata": {},
   "outputs": [],
   "source": [
    "PARAMS = {'compress': False}\n",
    "FEATURES = 'lco_whole_sequence'"
   ]
  },
  {
   "cell_type": "code",
   "execution_count": 5,
   "id": "7315f89f-94be-4240-b1ed-c1c3f32974cf",
   "metadata": {
    "tags": []
   },
   "outputs": [
    {
     "data": {
      "text/plain": [
       "RandomForestRegressor(n_estimators=15, n_jobs=-1)"
      ]
     },
     "execution_count": 5,
     "metadata": {},
     "output_type": "execute_result"
    }
   ],
   "source": [
    "with open('../../data/pickles/models.p', 'rb') as models_file:\n",
    "    models = pickle.load(models_file)\n",
    "    model = models[MODEL_NAME]\n",
    "model"
   ]
  },
  {
   "cell_type": "code",
   "execution_count": 6,
   "id": "37f39a42-f7d4-420a-9553-fc0e2b53865c",
   "metadata": {},
   "outputs": [
    {
     "name": "stderr",
     "output_type": "stream",
     "text": [
      "INFO:papermill:model randomforest2 input: ../../data/csv/clustered_splits/sim80_all.csv output: ../../data/csv/garbage/sim80_randomforest2_H.csv\n"
     ]
    }
   ],
   "source": [
    "logger = utils.setup_logging(MODEL_NAME, INPUT_CLUSTER_FILE, OUTPUT_FILE)"
   ]
  },
  {
   "cell_type": "code",
   "execution_count": 7,
   "id": "ac6e2ad7-f884-4e4c-aa8f-5420896710e5",
   "metadata": {},
   "outputs": [
    {
     "data": {
      "text/html": [
       "<div>\n",
       "<style scoped>\n",
       "    .dataframe tbody tr th:only-of-type {\n",
       "        vertical-align: middle;\n",
       "    }\n",
       "\n",
       "    .dataframe tbody tr th {\n",
       "        vertical-align: top;\n",
       "    }\n",
       "\n",
       "    .dataframe thead th {\n",
       "        text-align: right;\n",
       "    }\n",
       "</style>\n",
       "<table border=\"1\" class=\"dataframe\">\n",
       "  <thead>\n",
       "    <tr style=\"text-align: right;\">\n",
       "      <th></th>\n",
       "      <th>sequence_id</th>\n",
       "      <th>cluster</th>\n",
       "    </tr>\n",
       "  </thead>\n",
       "  <tbody>\n",
       "    <tr>\n",
       "      <th>0</th>\n",
       "      <td>12E8:L</td>\n",
       "      <td>2</td>\n",
       "    </tr>\n",
       "    <tr>\n",
       "      <th>1</th>\n",
       "      <td>15C8:L</td>\n",
       "      <td>2</td>\n",
       "    </tr>\n",
       "  </tbody>\n",
       "</table>\n",
       "</div>"
      ],
      "text/plain": [
       "  sequence_id  cluster\n",
       "0      12E8:L        2\n",
       "1      15C8:L        2"
      ]
     },
     "execution_count": 7,
     "metadata": {},
     "output_type": "execute_result"
    }
   ],
   "source": [
    "clusters_df = pd.read_csv(INPUT_CLUSTER_FILE, index_col=0)\n",
    "clusters_df.head(n=2)"
   ]
  },
  {
   "cell_type": "code",
   "execution_count": 8,
   "id": "dc350728-59ee-4ace-aac6-e15fc7e33f74",
   "metadata": {},
   "outputs": [
    {
     "data": {
      "text/plain": [
       "2     4110\n",
       "1      932\n",
       "16     634\n",
       "Name: cluster, dtype: int64"
      ]
     },
     "execution_count": 8,
     "metadata": {},
     "output_type": "execute_result"
    }
   ],
   "source": [
    "clusters_df['cluster'].value_counts()[:3]"
   ]
  },
  {
   "cell_type": "code",
   "execution_count": 10,
   "id": "01047591-bdaa-4139-9164-f66dffa00909",
   "metadata": {},
   "outputs": [
    {
     "name": "stdout",
     "output_type": "stream",
     "text": [
      "before merge with clusters X.shape (2643, 165) Y.shape (2643, 165) c.shape (6572, 2)\n",
      "after merge with clusters X.shape (2643, 165) Y.shape (2643, 165) c.shape (2643, 2)\n",
      "whole sequence\n",
      "X.shape (2643, 165) Y.shape (2643, 165)\n",
      "after non-data column drop: X.shape (2643, 164) Y.shape (2643, 164)\n",
      "after one-hot encode: X.shape (2643, 3608) Y.shape (2643, 164)\n",
      "[FINAL] X.shape (2643, 3608) Y.shape (2643, 164)\n",
      "[FINAL] c.shape (2643, 2)\n"
     ]
    }
   ],
   "source": [
    "X, Y = utils.load_dataset(['train', 'val'], chains=CHAINS)\n",
    "X, Y, c = fg.generate(X, Y, c=clusters_df, model_name=MODEL_NAME, \n",
    "                      features=FEATURES, params=PARAMS)"
   ]
  },
  {
   "cell_type": "code",
   "execution_count": 11,
   "id": "fb54c9ff-6bec-4344-92f5-c01efff17f79",
   "metadata": {},
   "outputs": [
    {
     "data": {
      "text/html": [
       "<div>\n",
       "<style scoped>\n",
       "    .dataframe tbody tr th:only-of-type {\n",
       "        vertical-align: middle;\n",
       "    }\n",
       "\n",
       "    .dataframe tbody tr th {\n",
       "        vertical-align: top;\n",
       "    }\n",
       "\n",
       "    .dataframe thead th {\n",
       "        text-align: right;\n",
       "    }\n",
       "</style>\n",
       "<table border=\"1\" class=\"dataframe\">\n",
       "  <thead>\n",
       "    <tr style=\"text-align: right;\">\n",
       "      <th></th>\n",
       "      <th>0</th>\n",
       "      <th>1</th>\n",
       "      <th>2</th>\n",
       "      <th>3</th>\n",
       "      <th>4</th>\n",
       "      <th>5</th>\n",
       "      <th>6</th>\n",
       "      <th>7</th>\n",
       "      <th>8</th>\n",
       "      <th>9</th>\n",
       "      <th>...</th>\n",
       "      <th>3598</th>\n",
       "      <th>3599</th>\n",
       "      <th>3600</th>\n",
       "      <th>3601</th>\n",
       "      <th>3602</th>\n",
       "      <th>3603</th>\n",
       "      <th>3604</th>\n",
       "      <th>3605</th>\n",
       "      <th>3606</th>\n",
       "      <th>3607</th>\n",
       "    </tr>\n",
       "  </thead>\n",
       "  <tbody>\n",
       "    <tr>\n",
       "      <th>0</th>\n",
       "      <td>0</td>\n",
       "      <td>0</td>\n",
       "      <td>0</td>\n",
       "      <td>1</td>\n",
       "      <td>0</td>\n",
       "      <td>0</td>\n",
       "      <td>0</td>\n",
       "      <td>0</td>\n",
       "      <td>0</td>\n",
       "      <td>0</td>\n",
       "      <td>...</td>\n",
       "      <td>0</td>\n",
       "      <td>0</td>\n",
       "      <td>0</td>\n",
       "      <td>0</td>\n",
       "      <td>0</td>\n",
       "      <td>0</td>\n",
       "      <td>0</td>\n",
       "      <td>0</td>\n",
       "      <td>0</td>\n",
       "      <td>0</td>\n",
       "    </tr>\n",
       "    <tr>\n",
       "      <th>1</th>\n",
       "      <td>0</td>\n",
       "      <td>0</td>\n",
       "      <td>0</td>\n",
       "      <td>1</td>\n",
       "      <td>0</td>\n",
       "      <td>0</td>\n",
       "      <td>0</td>\n",
       "      <td>0</td>\n",
       "      <td>0</td>\n",
       "      <td>0</td>\n",
       "      <td>...</td>\n",
       "      <td>0</td>\n",
       "      <td>0</td>\n",
       "      <td>0</td>\n",
       "      <td>0</td>\n",
       "      <td>1</td>\n",
       "      <td>0</td>\n",
       "      <td>0</td>\n",
       "      <td>0</td>\n",
       "      <td>0</td>\n",
       "      <td>0</td>\n",
       "    </tr>\n",
       "  </tbody>\n",
       "</table>\n",
       "<p>2 rows × 3608 columns</p>\n",
       "</div>"
      ],
      "text/plain": [
       "   0     1     2     3     4     5     6     7     8     9     ...  3598  \\\n",
       "0     0     0     0     1     0     0     0     0     0     0  ...     0   \n",
       "1     0     0     0     1     0     0     0     0     0     0  ...     0   \n",
       "\n",
       "   3599  3600  3601  3602  3603  3604  3605  3606  3607  \n",
       "0     0     0     0     0     0     0     0     0     0  \n",
       "1     0     0     0     1     0     0     0     0     0  \n",
       "\n",
       "[2 rows x 3608 columns]"
      ]
     },
     "execution_count": 11,
     "metadata": {},
     "output_type": "execute_result"
    }
   ],
   "source": [
    "X.head(n=2)"
   ]
  },
  {
   "cell_type": "code",
   "execution_count": 11,
   "id": "ec707d38-35ff-4b48-8a0f-c288ad331c01",
   "metadata": {},
   "outputs": [
    {
     "data": {
      "text/html": [
       "<div>\n",
       "<style scoped>\n",
       "    .dataframe tbody tr th:only-of-type {\n",
       "        vertical-align: middle;\n",
       "    }\n",
       "\n",
       "    .dataframe tbody tr th {\n",
       "        vertical-align: top;\n",
       "    }\n",
       "\n",
       "    .dataframe thead th {\n",
       "        text-align: right;\n",
       "    }\n",
       "</style>\n",
       "<table border=\"1\" class=\"dataframe\">\n",
       "  <thead>\n",
       "    <tr style=\"text-align: right;\">\n",
       "      <th></th>\n",
       "      <th>1</th>\n",
       "      <th>2</th>\n",
       "      <th>3</th>\n",
       "      <th>4</th>\n",
       "      <th>5</th>\n",
       "      <th>6</th>\n",
       "      <th>7</th>\n",
       "      <th>8</th>\n",
       "      <th>9</th>\n",
       "      <th>10</th>\n",
       "      <th>...</th>\n",
       "      <th>141</th>\n",
       "      <th>142</th>\n",
       "      <th>143</th>\n",
       "      <th>143A</th>\n",
       "      <th>144</th>\n",
       "      <th>145</th>\n",
       "      <th>146</th>\n",
       "      <th>147</th>\n",
       "      <th>148</th>\n",
       "      <th>149</th>\n",
       "    </tr>\n",
       "  </thead>\n",
       "  <tbody>\n",
       "    <tr>\n",
       "      <th>0</th>\n",
       "      <td>100.0</td>\n",
       "      <td>36.0</td>\n",
       "      <td>50.1</td>\n",
       "      <td>4.4</td>\n",
       "      <td>51.9</td>\n",
       "      <td>3.5</td>\n",
       "      <td>28.8</td>\n",
       "      <td>-1.0</td>\n",
       "      <td>68.3</td>\n",
       "      <td>71.2</td>\n",
       "      <td>...</td>\n",
       "      <td>28.5</td>\n",
       "      <td>13.3</td>\n",
       "      <td>1.4</td>\n",
       "      <td>-1.0</td>\n",
       "      <td>30.0</td>\n",
       "      <td>2.2</td>\n",
       "      <td>19.3</td>\n",
       "      <td>4.3</td>\n",
       "      <td>14.3</td>\n",
       "      <td>75.0</td>\n",
       "    </tr>\n",
       "    <tr>\n",
       "      <th>1</th>\n",
       "      <td>100.0</td>\n",
       "      <td>23.3</td>\n",
       "      <td>51.7</td>\n",
       "      <td>4.5</td>\n",
       "      <td>54.8</td>\n",
       "      <td>5.1</td>\n",
       "      <td>27.2</td>\n",
       "      <td>-1.0</td>\n",
       "      <td>65.8</td>\n",
       "      <td>80.3</td>\n",
       "      <td>...</td>\n",
       "      <td>51.2</td>\n",
       "      <td>12.0</td>\n",
       "      <td>2.5</td>\n",
       "      <td>-1.0</td>\n",
       "      <td>46.4</td>\n",
       "      <td>4.6</td>\n",
       "      <td>26.7</td>\n",
       "      <td>7.4</td>\n",
       "      <td>18.3</td>\n",
       "      <td>61.4</td>\n",
       "    </tr>\n",
       "  </tbody>\n",
       "</table>\n",
       "<p>2 rows × 164 columns</p>\n",
       "</div>"
      ],
      "text/plain": [
       "       1     2     3    4     5    6     7    8     9    10  ...   141   142  \\\n",
       "0  100.0  36.0  50.1  4.4  51.9  3.5  28.8 -1.0  68.3  71.2  ...  28.5  13.3   \n",
       "1  100.0  23.3  51.7  4.5  54.8  5.1  27.2 -1.0  65.8  80.3  ...  51.2  12.0   \n",
       "\n",
       "   143  143A   144  145   146  147   148   149  \n",
       "0  1.4  -1.0  30.0  2.2  19.3  4.3  14.3  75.0  \n",
       "1  2.5  -1.0  46.4  4.6  26.7  7.4  18.3  61.4  \n",
       "\n",
       "[2 rows x 164 columns]"
      ]
     },
     "execution_count": 11,
     "metadata": {},
     "output_type": "execute_result"
    }
   ],
   "source": [
    "Y.head(n=2) if hasattr(Y, 'head') else Y"
   ]
  },
  {
   "cell_type": "code",
   "execution_count": 12,
   "id": "595076b7-7623-4f2f-845d-9892eb4a8f39",
   "metadata": {},
   "outputs": [
    {
     "data": {
      "text/html": [
       "<div>\n",
       "<style scoped>\n",
       "    .dataframe tbody tr th:only-of-type {\n",
       "        vertical-align: middle;\n",
       "    }\n",
       "\n",
       "    .dataframe tbody tr th {\n",
       "        vertical-align: top;\n",
       "    }\n",
       "\n",
       "    .dataframe thead th {\n",
       "        text-align: right;\n",
       "    }\n",
       "</style>\n",
       "<table border=\"1\" class=\"dataframe\">\n",
       "  <thead>\n",
       "    <tr style=\"text-align: right;\">\n",
       "      <th></th>\n",
       "      <th>c_sequence_id</th>\n",
       "      <th>c_cluster</th>\n",
       "    </tr>\n",
       "  </thead>\n",
       "  <tbody>\n",
       "    <tr>\n",
       "      <th>0</th>\n",
       "      <td>12E8:H</td>\n",
       "      <td>2</td>\n",
       "    </tr>\n",
       "    <tr>\n",
       "      <th>1</th>\n",
       "      <td>15C8:H</td>\n",
       "      <td>2</td>\n",
       "    </tr>\n",
       "  </tbody>\n",
       "</table>\n",
       "</div>"
      ],
      "text/plain": [
       "  c_sequence_id  c_cluster\n",
       "0        12E8:H          2\n",
       "1        15C8:H          2"
      ]
     },
     "execution_count": 12,
     "metadata": {},
     "output_type": "execute_result"
    }
   ],
   "source": [
    "c.head(n=2)"
   ]
  },
  {
   "cell_type": "code",
   "execution_count": 13,
   "id": "2b043998-fd4f-487d-b98b-059f2c0b7d65",
   "metadata": {
    "tags": []
   },
   "outputs": [
    {
     "data": {
      "text/plain": [
       "((2643, 2), (2643, 3608), (2643, 164))"
      ]
     },
     "execution_count": 13,
     "metadata": {},
     "output_type": "execute_result"
    }
   ],
   "source": [
    "assert c.shape[0] == X.shape[0] == Y.shape[0]\n",
    "c.shape, X.shape, Y.shape"
   ]
  },
  {
   "cell_type": "markdown",
   "id": "72ade974-80ce-4b5a-85cb-42c6ed2279fd",
   "metadata": {},
   "source": [
    "---"
   ]
  },
  {
   "cell_type": "markdown",
   "id": "085b5b59-6b9e-4e76-b9df-35e09d021304",
   "metadata": {},
   "source": [
    "## Clustered CV"
   ]
  },
  {
   "cell_type": "code",
   "execution_count": 12,
   "id": "a2b580b0-c80f-424b-b547-c4363e932f24",
   "metadata": {},
   "outputs": [],
   "source": [
    "loss = make_scorer(utils.avg_deviation, greater_is_better=False)"
   ]
  },
  {
   "cell_type": "code",
   "execution_count": 13,
   "id": "a6e05877-306c-48d1-95bb-910b5f8b1b00",
   "metadata": {},
   "outputs": [
    {
     "data": {
      "text/plain": [
       "(2643,)"
      ]
     },
     "execution_count": 13,
     "metadata": {},
     "output_type": "execute_result"
    }
   ],
   "source": [
    "groups = c.loc[X.index, 'c_cluster']\n",
    "groups.shape"
   ]
  },
  {
   "cell_type": "code",
   "execution_count": 59,
   "id": "cc9d4eed-fa70-49f9-9c67-efc98a09b02f",
   "metadata": {},
   "outputs": [],
   "source": [
    "#pipeline = Pipeline([('scaler', StandardScaler()), ('estimator', model),#])\n",
    "#pipeline = MultiOutputRegressor(estimator=pipeline)\n",
    "pipeline = model"
   ]
  },
  {
   "cell_type": "code",
   "execution_count": 60,
   "id": "94baa091-b8c2-4934-8952-989a69962750",
   "metadata": {},
   "outputs": [
    {
     "name": "stderr",
     "output_type": "stream",
     "text": [
      "INFO:papermill: CV start for model randomforest2\n"
     ]
    }
   ],
   "source": [
    "logger.info(f' CV start for model {MODEL_NAME}')"
   ]
  },
  {
   "cell_type": "code",
   "execution_count": 61,
   "id": "cd7bb862-ca98-49e3-aa21-87d28288aaa0",
   "metadata": {},
   "outputs": [],
   "source": [
    "splitter = LeaveOneGroupOut()\n",
    "split = splitter.split(X, Y, groups=groups)"
   ]
  },
  {
   "cell_type": "raw",
   "id": "93c30721-9b32-407c-9893-f9385baad23c",
   "metadata": {},
   "source": [
    "# testing (in case the model does not work)\n",
    "#model = MSVR()\n",
    "model = bm.KNNWholeSequence(n_neighbors=3)\n",
    "splitter = LeaveOneGroupOut()\n",
    "split = splitter.split(X, Y, groups=groups)\n",
    "split_number = 18 # 18, 19 (big), 22 (nan)\n",
    "\n",
    "train_i, test_i = list(split)[split_number]\n",
    "# MSVR needs the data as np.ndarrays\n",
    "# Xt_train, Yt_train = X.loc[train_i, :].to_numpy(), Y.loc[train_i, :].to_numpy()\n",
    "# Xt_test, Yt_test = X.loc[test_i, :].to_numpy(), Y.loc[test_i, :].to_numpy()\n",
    "Xt_train, Yt_train = X.loc[train_i, :], Y.loc[train_i, :]\n",
    "Xt_test, Yt_test = X.loc[test_i, :], Y.loc[test_i, :]\n",
    "print('shapes', Xt_train.shape, Xt_test.shape, Yt_train.shape, Yt_test.shape)\n",
    "model.fit(Xt_train, Yt_train)\n",
    "ps = model.predict(Xt_test)\n",
    "#score = r2_score(Y.loc[test_i, :], ps)\n",
    "#ps\n",
    "#Xt_test\n",
    "Xt_train.shape, Xt_test.shape, utils.avg_deviation(Yt_test, ps)"
   ]
  },
  {
   "cell_type": "code",
   "execution_count": 62,
   "id": "475de849-af64-4a52-b9c5-1001d604b657",
   "metadata": {
    "tags": []
   },
   "outputs": [],
   "source": [
    "if MODEL_NAME == 'svr':\n",
    "    X_copy = X\n",
    "    Y_copy = Y\n",
    "    X = X.to_numpy()\n",
    "    Y = Y.to_numpy()"
   ]
  },
  {
   "cell_type": "code",
   "execution_count": 63,
   "id": "3c105457-8a5e-4d83-b5d1-884580ae2208",
   "metadata": {
    "tags": []
   },
   "outputs": [
    {
     "data": {
      "text/plain": [
       "((2643, 3608), (2643, 164))"
      ]
     },
     "execution_count": 63,
     "metadata": {},
     "output_type": "execute_result"
    }
   ],
   "source": [
    "X.shape, Y.shape"
   ]
  },
  {
   "cell_type": "code",
   "execution_count": 64,
   "id": "4e9e92f0-5ccb-43a5-92d5-081e56e9a8e3",
   "metadata": {
    "tags": []
   },
   "outputs": [],
   "source": [
    "scores = cross_validate(pipeline, X, Y, groups=groups, \n",
    "                        scoring=loss, \n",
    "                        return_train_score=True, return_estimator=True,\n",
    "                        n_jobs=N_JOBS, verbose=VERBOSE,\n",
    "                        error_score=ERROR_SCORE,\n",
    "                        cv=split)"
   ]
  },
  {
   "cell_type": "markdown",
   "id": "c7d2154f-f0a6-4ffd-96c0-62e015964e3a",
   "metadata": {},
   "source": [
    "---"
   ]
  },
  {
   "cell_type": "markdown",
   "id": "e96eb1ef-9857-4cec-8b62-9510216f451c",
   "metadata": {},
   "source": [
    "## Store the results"
   ]
  },
  {
   "cell_type": "code",
   "execution_count": 67,
   "id": "6e24dc4b-2d12-414c-acec-f020880a8c90",
   "metadata": {
    "tags": []
   },
   "outputs": [],
   "source": [
    "scores_df = pd.DataFrame(scores).sort_index()\n",
    "\n",
    "# we have loss function for evaluating quality\n",
    "# https://stackoverflow.com/questions/21443865/scikit-learn-cross-validation-negative-values-with-mean-squared-error\n",
    "# using minus for loss metric is recommended way - otherwise all the scores will be negative!\n",
    "scores_df['train_score'] = -scores_df['train_score']\n",
    "scores_df['test_score'] = -scores_df['test_score']\n",
    "scores_df['cv_split_id'] = scores_df.index\n",
    "scores_df['model'] = MODEL_NAME\n",
    "scores_df.to_csv(OUTPUT_FILE)"
   ]
  },
  {
   "cell_type": "code",
   "execution_count": 1,
   "id": "50f3178c-53dd-4525-92ef-bc610d873d02",
   "metadata": {},
   "outputs": [
    {
     "ename": "NameError",
     "evalue": "name 'pd' is not defined",
     "output_type": "error",
     "traceback": [
      "\u001b[0;31m---------------------------------------------------------------------------\u001b[0m",
      "\u001b[0;31mNameError\u001b[0m                                 Traceback (most recent call last)",
      "Input \u001b[0;32mIn [1]\u001b[0m, in \u001b[0;36m<module>\u001b[0;34m\u001b[0m\n\u001b[0;32m----> 1\u001b[0m scores_df \u001b[38;5;241m=\u001b[39m \u001b[43mpd\u001b[49m\u001b[38;5;241m.\u001b[39mread_csv(OUTPUT_FILE, index_col\u001b[38;5;241m=\u001b[39m\u001b[38;5;241m0\u001b[39m)\n\u001b[1;32m      2\u001b[0m scores_df\u001b[38;5;241m.\u001b[39mhead(n\u001b[38;5;241m=\u001b[39m\u001b[38;5;241m3\u001b[39m)\n",
      "\u001b[0;31mNameError\u001b[0m: name 'pd' is not defined"
     ]
    }
   ],
   "source": [
    "scores_df = pd.read_csv(OUTPUT_FILE, index_col=0)\n",
    "scores_df.head(n=3)"
   ]
  },
  {
   "cell_type": "code",
   "execution_count": null,
   "id": "45e8750f-031c-46ab-9902-97b8aee36df5",
   "metadata": {},
   "outputs": [],
   "source": []
  }
 ],
 "metadata": {
  "kernelspec": {
   "display_name": "Python 3 (ipykernel)",
   "language": "python",
   "name": "python3"
  },
  "language_info": {
   "codemirror_mode": {
    "name": "ipython",
    "version": 3
   },
   "file_extension": ".py",
   "mimetype": "text/x-python",
   "name": "python",
   "nbconvert_exporter": "python",
   "pygments_lexer": "ipython3",
   "version": "3.10.14"
  }
 },
 "nbformat": 4,
 "nbformat_minor": 5
}
