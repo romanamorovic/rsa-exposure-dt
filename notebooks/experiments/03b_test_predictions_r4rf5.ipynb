{
 "cells": [
  {
   "cell_type": "markdown",
   "id": "78945a96-5d30-4992-be61-971f1f1bf11c",
   "metadata": {
    "tags": []
   },
   "source": [
    "# 3b. Predict on the TEST set"
   ]
  },
  {
   "cell_type": "markdown",
   "id": "5a9e4907-3dc0-4340-a947-357ac60d0f5b",
   "metadata": {
    "tags": []
   },
   "source": [
    "## Setup"
   ]
  },
  {
   "cell_type": "code",
   "execution_count": 1,
   "id": "90b7176e-dc96-4af8-bb22-dd933d1947a9",
   "metadata": {},
   "outputs": [],
   "source": [
    "import sys\n",
    "sys.path.append('../..')\n",
    "\n",
    "import math\n",
    "import pickle\n",
    "import time\n",
    "\n",
    "#import abnumber\n",
    "import matplotlib.pyplot as plt\n",
    "import numpy as np\n",
    "import pandas as pd\n",
    "import seaborn as sns\n",
    "from tqdm.notebook import tqdm\n",
    "\n",
    "import bin.feature_generators as fg\n",
    "import bin.params as p\n",
    "import bin.utils as u"
   ]
  },
  {
   "cell_type": "code",
   "execution_count": 2,
   "id": "764d67e2-cf6b-4863-b809-d90c0f3f7130",
   "metadata": {},
   "outputs": [],
   "source": [
    "sns.set_theme()"
   ]
  },
  {
   "cell_type": "markdown",
   "id": "e7030b23-5e09-4b34-bdfe-ca9e4d73980b",
   "metadata": {},
   "source": [
    "**Papermill parameters:**"
   ]
  },
  {
   "cell_type": "code",
   "execution_count": 3,
   "id": "bccf39bd-73ab-4d13-b224-6404c17d677c",
   "metadata": {
    "tags": [
     "parameters"
    ]
   },
   "outputs": [],
   "source": [
    "MODEL_NAME = 'randomForestN5'\n",
    "FEATURES = 'lco_cont_window_r4_all_H'"
   ]
  },
  {
   "cell_type": "code",
   "execution_count": 4,
   "id": "25650b84-1f1d-497f-ae50-604afe3aa4e7",
   "metadata": {},
   "outputs": [],
   "source": [
    "PARAMS = {\n",
    "    'compress': False,\n",
    "    'preserve_seq_ids': True,\n",
    "}"
   ]
  },
  {
   "cell_type": "markdown",
   "id": "5a12e9d5-f9f6-4030-afdb-a48e48feb4f3",
   "metadata": {},
   "source": [
    "**Create directories to store results in:**"
   ]
  },
  {
   "cell_type": "code",
   "execution_count": 5,
   "id": "22d6322a-f75e-45f1-8d05-b8143a49f47e",
   "metadata": {},
   "outputs": [],
   "source": [
    "TEST_Y_RAW_DIR_PATH = f'{p.DATA_DIR}/csv/test/raw_y'\n",
    "command = f'mkdir -p {TEST_Y_RAW_DIR_PATH}'\n",
    "! $command"
   ]
  },
  {
   "cell_type": "code",
   "execution_count": 6,
   "id": "b5bb9020-1434-4ccc-b350-1eedcbea1000",
   "metadata": {},
   "outputs": [],
   "source": [
    "TEST_PREDICTIONS_RAW_DIR_PATH = f'{p.DATA_DIR}/csv/test/raw_predictions'\n",
    "command = f'mkdir -p {TEST_PREDICTIONS_RAW_DIR_PATH}'\n",
    "! $command"
   ]
  },
  {
   "cell_type": "code",
   "execution_count": 7,
   "id": "67f9498b-88d3-46a0-a1f7-2feaad0cb790",
   "metadata": {},
   "outputs": [],
   "source": [
    "TEST_PREDICTIONS_DIR_PATH = f'{p.DATA_DIR}/csv/test/predictions'\n",
    "command = f'mkdir -p {TEST_PREDICTIONS_DIR_PATH}'\n",
    "! $command"
   ]
  },
  {
   "cell_type": "markdown",
   "id": "9ba91c66-a4ff-4b74-9355-d92ff0c05b63",
   "metadata": {},
   "source": [
    "**Load the test dataset:**"
   ]
  },
  {
   "cell_type": "code",
   "execution_count": 8,
   "id": "1fcea967-59fd-4fd9-85f9-b932257320c3",
   "metadata": {},
   "outputs": [],
   "source": [
    "chains = FEATURES.split('_')[-1]\n",
    "X_orig, Y_orig = u.load_dataset('test', chains=chains)\n",
    "X, Y = X_orig.copy(), Y_orig.copy()"
   ]
  },
  {
   "cell_type": "markdown",
   "id": "6d39cf90-129d-4c5a-8a90-63528313746f",
   "metadata": {},
   "source": [
    "**Transform the data based on which feature representation did we choose:**"
   ]
  },
  {
   "cell_type": "code",
   "execution_count": 9,
   "id": "3aecec2c-6bc0-4378-ab38-887f79a5c081",
   "metadata": {},
   "outputs": [
    {
     "name": "stdout",
     "output_type": "stream",
     "text": [
      "lco_cont_window_r4_all_H\n",
      "X.shape (643, 165) Y.shape (643, 165)\n",
      "after drop_nondata_columns: X.shape (643, 164) Y.shape (643, 164)\n",
      "after _add_sequence_end: X.shape (643, 172) Y.shape (643, 172)\n",
      "after window transforms: X_window.shape (105452, 11) Y_window.shape (105452, 1)\n",
      "[FINAL] X.shape (105452, 200) Y.shape (105452, 1)\n"
     ]
    },
    {
     "data": {
      "text/plain": [
       "((105452, 199), (105452,), (105452,))"
      ]
     },
     "execution_count": 9,
     "metadata": {},
     "output_type": "execute_result"
    }
   ],
   "source": [
    "X, Y, _ = fg.generate(X, Y, c=None, model_name=MODEL_NAME, \n",
    "                   features=FEATURES, params=PARAMS)\n",
    "ids = X[X.columns[-1]].reset_index(drop=True)\n",
    "X.drop(columns = X.columns[-1], inplace=True)\n",
    "X.shape, Y.shape, ids.shape"
   ]
  },
  {
   "cell_type": "code",
   "execution_count": 10,
   "id": "6cfd77f5-e36d-4cdd-a920-3f1cd2fc0b29",
   "metadata": {},
   "outputs": [
    {
     "data": {
      "text/plain": [
       "(643, 164)"
      ]
     },
     "execution_count": 10,
     "metadata": {},
     "output_type": "execute_result"
    }
   ],
   "source": [
    "N_SEQUENCES = len(ids.unique())\n",
    "N_POSITIONS = len(X_orig.columns)-1 # -1 -> since ID column does not count\n",
    "N_SEQUENCES, N_POSITIONS"
   ]
  },
  {
   "cell_type": "code",
   "execution_count": 11,
   "id": "a548d092-8842-4295-bcc1-76007c5756c6",
   "metadata": {},
   "outputs": [
    {
     "data": {
      "text/html": [
       "<div>\n",
       "<style scoped>\n",
       "    .dataframe tbody tr th:only-of-type {\n",
       "        vertical-align: middle;\n",
       "    }\n",
       "\n",
       "    .dataframe tbody tr th {\n",
       "        vertical-align: top;\n",
       "    }\n",
       "\n",
       "    .dataframe thead th {\n",
       "        text-align: right;\n",
       "    }\n",
       "</style>\n",
       "<table border=\"1\" class=\"dataframe\">\n",
       "  <thead>\n",
       "    <tr style=\"text-align: right;\">\n",
       "      <th></th>\n",
       "      <th>0</th>\n",
       "      <th>1</th>\n",
       "      <th>2</th>\n",
       "      <th>3</th>\n",
       "      <th>4</th>\n",
       "      <th>5</th>\n",
       "      <th>6</th>\n",
       "      <th>7</th>\n",
       "      <th>8</th>\n",
       "      <th>9</th>\n",
       "      <th>...</th>\n",
       "      <th>189</th>\n",
       "      <th>190</th>\n",
       "      <th>191</th>\n",
       "      <th>192</th>\n",
       "      <th>193</th>\n",
       "      <th>194</th>\n",
       "      <th>195</th>\n",
       "      <th>196</th>\n",
       "      <th>197</th>\n",
       "      <th>198</th>\n",
       "    </tr>\n",
       "  </thead>\n",
       "  <tbody>\n",
       "    <tr>\n",
       "      <th>0</th>\n",
       "      <td>0</td>\n",
       "      <td>0</td>\n",
       "      <td>0</td>\n",
       "      <td>0</td>\n",
       "      <td>0</td>\n",
       "      <td>0</td>\n",
       "      <td>0</td>\n",
       "      <td>0</td>\n",
       "      <td>0</td>\n",
       "      <td>0</td>\n",
       "      <td>...</td>\n",
       "      <td>0</td>\n",
       "      <td>1</td>\n",
       "      <td>0</td>\n",
       "      <td>0</td>\n",
       "      <td>0</td>\n",
       "      <td>0</td>\n",
       "      <td>0</td>\n",
       "      <td>0</td>\n",
       "      <td>0</td>\n",
       "      <td>0.0</td>\n",
       "    </tr>\n",
       "  </tbody>\n",
       "</table>\n",
       "<p>1 rows × 199 columns</p>\n",
       "</div>"
      ],
      "text/plain": [
       "   0    1    2    3    4    5    6    7    8    9    ...  189  190  191  192  \\\n",
       "0    0    0    0    0    0    0    0    0    0    0  ...    0    1    0    0   \n",
       "\n",
       "   193  194  195  196  197  198  \n",
       "0    0    0    0    0    0  0.0  \n",
       "\n",
       "[1 rows x 199 columns]"
      ]
     },
     "execution_count": 11,
     "metadata": {},
     "output_type": "execute_result"
    }
   ],
   "source": [
    "X.head(n=1)"
   ]
  },
  {
   "cell_type": "code",
   "execution_count": 12,
   "id": "fb291e0e-c5ce-4b35-8bc3-62299f46f1da",
   "metadata": {},
   "outputs": [
    {
     "data": {
      "text/plain": [
       "array([-1. , -1. , -1. , ..., 58.8, 73.3, 71.5])"
      ]
     },
     "execution_count": 12,
     "metadata": {},
     "output_type": "execute_result"
    }
   ],
   "source": [
    "Y if type(Y) is np.ndarray else Y.head(n=1)"
   ]
  },
  {
   "cell_type": "code",
   "execution_count": 13,
   "id": "938fbc1b-4670-489b-9c0c-c063b4aa5ab5",
   "metadata": {},
   "outputs": [
    {
     "data": {
      "text/plain": [
       "0    6LCS:H\n",
       "1    6LDV:H\n",
       "2    6LDW:H\n",
       "Name: 200, dtype: object"
      ]
     },
     "execution_count": 13,
     "metadata": {},
     "output_type": "execute_result"
    }
   ],
   "source": [
    "ids.head(n=3)"
   ]
  },
  {
   "cell_type": "markdown",
   "id": "acbc5ad4-57f7-4773-9764-8996a3f45d55",
   "metadata": {},
   "source": [
    "**Load the trained model:**"
   ]
  },
  {
   "cell_type": "code",
   "execution_count": 14,
   "id": "eec2a1bd-685d-4b98-818e-402e95e0152d",
   "metadata": {},
   "outputs": [],
   "source": [
    "with open(f'{p.DATA_DIR}/pickles/trained-test-models/{FEATURES}_{MODEL_NAME}.p', \n",
    "          'rb') as trained_model_file:\n",
    "    model = pickle.load(trained_model_file)"
   ]
  },
  {
   "cell_type": "markdown",
   "id": "b974c345-0532-4037-b811-f39bcf8171bb",
   "metadata": {},
   "source": [
    "---"
   ]
  },
  {
   "cell_type": "markdown",
   "id": "f1b3bef6-94fe-4e74-9aef-31ba8408ae54",
   "metadata": {
    "tags": []
   },
   "source": [
    "## Predict"
   ]
  },
  {
   "cell_type": "code",
   "execution_count": 15,
   "id": "dbd66bbb-e5c5-436f-b43a-30d15bcea05f",
   "metadata": {},
   "outputs": [
    {
     "name": "stdout",
     "output_type": "stream",
     "text": [
      "Prediction took 0.08s, the result datatype is <class 'numpy.ndarray'> and shape (105452,)\n"
     ]
    }
   ],
   "source": [
    "predict_start = time.time()\n",
    "predictions = model.predict(X).round(2)\n",
    "predict_end = time.time()\n",
    "print(f'Prediction took {predict_end-predict_start:.2f}s, the result datatype is {type(predictions)} and shape {predictions.shape}')"
   ]
  },
  {
   "cell_type": "markdown",
   "id": "57cc5177-15b7-4b96-9da3-13c8a63e63aa",
   "metadata": {},
   "source": [
    "**If predictions are stored in `np.array`, perform the conversion to the `whole_sequence`-like dataframe:**"
   ]
  },
  {
   "cell_type": "code",
   "execution_count": 16,
   "id": "4ce250b6-cfba-4b50-9739-18feec94a49a",
   "metadata": {},
   "outputs": [
    {
     "data": {
      "text/plain": [
       "array([-1.  , -1.  , -1.  , ..., 71.96, 71.96, 71.96])"
      ]
     },
     "execution_count": 16,
     "metadata": {},
     "output_type": "execute_result"
    }
   ],
   "source": [
    "predictions"
   ]
  },
  {
   "cell_type": "code",
   "execution_count": 17,
   "id": "c89abbbe-808e-4f83-8c7f-9f73ef171d93",
   "metadata": {},
   "outputs": [
    {
     "data": {
      "application/vnd.jupyter.widget-view+json": {
       "model_id": "d4a93bb885b8463ca96f4e24be6ff95d",
       "version_major": 2,
       "version_minor": 0
      },
      "text/plain": [
       "Processing individual predictions...:   0%|          | 0/105452 [00:00<?, ?it/s]"
      ]
     },
     "metadata": {},
     "output_type": "display_data"
    }
   ],
   "source": [
    "if type(predictions) is np.ndarray:\n",
    "    # convert to dataframe\n",
    "    Y_pred = Y_orig.copy()\n",
    "    Y_pred.index = Y_orig['Id']\n",
    "    Y_pred.drop(columns='Id', inplace=True)\n",
    "    for i, p in tqdm(enumerate(predictions), total=len(predictions), \n",
    "                     desc='Processing individual predictions...'):\n",
    "        seq_id = ids.iloc[i % N_SEQUENCES]\n",
    "        x_index = math.floor(i / N_SEQUENCES)\n",
    "        pos_id = X_orig.columns[x_index+1] # starting from 1 as 0 is 'id'\n",
    "        Y_pred.loc[seq_id, pos_id] = predictions[i]\n",
    "    Y_pred = Y_pred.replace(-1, np.nan)\n",
    "    predictions = Y_pred"
   ]
  },
  {
   "cell_type": "markdown",
   "id": "cf9475a3-dacf-4081-9998-99ddef42f490",
   "metadata": {},
   "source": [
    "**Replace `-1` values by `np.nan`:**"
   ]
  },
  {
   "cell_type": "code",
   "execution_count": 19,
   "id": "ca96988e-d72a-4e71-a89e-314f786b9c26",
   "metadata": {},
   "outputs": [],
   "source": [
    "predictions = predictions.replace(-1, np.nan)"
   ]
  },
  {
   "cell_type": "code",
   "execution_count": 20,
   "id": "ed6345b0-c234-4be1-8a35-78aef9bb4a5a",
   "metadata": {},
   "outputs": [
    {
     "data": {
      "text/html": [
       "<div>\n",
       "<style scoped>\n",
       "    .dataframe tbody tr th:only-of-type {\n",
       "        vertical-align: middle;\n",
       "    }\n",
       "\n",
       "    .dataframe tbody tr th {\n",
       "        vertical-align: top;\n",
       "    }\n",
       "\n",
       "    .dataframe thead th {\n",
       "        text-align: right;\n",
       "    }\n",
       "</style>\n",
       "<table border=\"1\" class=\"dataframe\">\n",
       "  <thead>\n",
       "    <tr style=\"text-align: right;\">\n",
       "      <th></th>\n",
       "      <th>1</th>\n",
       "      <th>2</th>\n",
       "      <th>3</th>\n",
       "      <th>4</th>\n",
       "      <th>5</th>\n",
       "      <th>6</th>\n",
       "      <th>7</th>\n",
       "      <th>8</th>\n",
       "      <th>9</th>\n",
       "      <th>10</th>\n",
       "      <th>...</th>\n",
       "      <th>141</th>\n",
       "      <th>142</th>\n",
       "      <th>143</th>\n",
       "      <th>143A</th>\n",
       "      <th>144</th>\n",
       "      <th>145</th>\n",
       "      <th>146</th>\n",
       "      <th>147</th>\n",
       "      <th>148</th>\n",
       "      <th>149</th>\n",
       "    </tr>\n",
       "    <tr>\n",
       "      <th>Id</th>\n",
       "      <th></th>\n",
       "      <th></th>\n",
       "      <th></th>\n",
       "      <th></th>\n",
       "      <th></th>\n",
       "      <th></th>\n",
       "      <th></th>\n",
       "      <th></th>\n",
       "      <th></th>\n",
       "      <th></th>\n",
       "      <th></th>\n",
       "      <th></th>\n",
       "      <th></th>\n",
       "      <th></th>\n",
       "      <th></th>\n",
       "      <th></th>\n",
       "      <th></th>\n",
       "      <th></th>\n",
       "      <th></th>\n",
       "      <th></th>\n",
       "      <th></th>\n",
       "    </tr>\n",
       "  </thead>\n",
       "  <tbody>\n",
       "    <tr>\n",
       "      <th>6LCS:H</th>\n",
       "      <td>NaN</td>\n",
       "      <td>13.15</td>\n",
       "      <td>52.34</td>\n",
       "      <td>6.22</td>\n",
       "      <td>50.64</td>\n",
       "      <td>4.71</td>\n",
       "      <td>47.20</td>\n",
       "      <td>NaN</td>\n",
       "      <td>50.9</td>\n",
       "      <td>48.37</td>\n",
       "      <td>...</td>\n",
       "      <td>61.30</td>\n",
       "      <td>18.52</td>\n",
       "      <td>8.13</td>\n",
       "      <td>NaN</td>\n",
       "      <td>29.90</td>\n",
       "      <td>0.66</td>\n",
       "      <td>18.12</td>\n",
       "      <td>5.26</td>\n",
       "      <td>7.02</td>\n",
       "      <td>55.11</td>\n",
       "    </tr>\n",
       "    <tr>\n",
       "      <th>6LDV:H</th>\n",
       "      <td>NaN</td>\n",
       "      <td>89.16</td>\n",
       "      <td>50.28</td>\n",
       "      <td>6.70</td>\n",
       "      <td>61.44</td>\n",
       "      <td>6.11</td>\n",
       "      <td>47.23</td>\n",
       "      <td>NaN</td>\n",
       "      <td>44.6</td>\n",
       "      <td>31.49</td>\n",
       "      <td>...</td>\n",
       "      <td>57.77</td>\n",
       "      <td>24.58</td>\n",
       "      <td>9.21</td>\n",
       "      <td>NaN</td>\n",
       "      <td>26.03</td>\n",
       "      <td>0.92</td>\n",
       "      <td>14.79</td>\n",
       "      <td>4.79</td>\n",
       "      <td>20.78</td>\n",
       "      <td>71.96</td>\n",
       "    </tr>\n",
       "  </tbody>\n",
       "</table>\n",
       "<p>2 rows × 164 columns</p>\n",
       "</div>"
      ],
      "text/plain": [
       "         1      2      3     4      5     6      7   8     9     10  ...  \\\n",
       "Id                                                                   ...   \n",
       "6LCS:H NaN  13.15  52.34  6.22  50.64  4.71  47.20 NaN  50.9  48.37  ...   \n",
       "6LDV:H NaN  89.16  50.28  6.70  61.44  6.11  47.23 NaN  44.6  31.49  ...   \n",
       "\n",
       "          141    142   143  143A    144   145    146   147    148    149  \n",
       "Id                                                                        \n",
       "6LCS:H  61.30  18.52  8.13   NaN  29.90  0.66  18.12  5.26   7.02  55.11  \n",
       "6LDV:H  57.77  24.58  9.21   NaN  26.03  0.92  14.79  4.79  20.78  71.96  \n",
       "\n",
       "[2 rows x 164 columns]"
      ]
     },
     "execution_count": 20,
     "metadata": {},
     "output_type": "execute_result"
    }
   ],
   "source": [
    "predictions.head(n=2)"
   ]
  },
  {
   "cell_type": "markdown",
   "id": "e2ca1d56-e1a9-4092-949d-b3be05d3c64f",
   "metadata": {},
   "source": [
    "**Save raw `y` and `predictions` objects so we can use the raw data in other notebooks:**"
   ]
  },
  {
   "cell_type": "code",
   "execution_count": 21,
   "id": "1076f89a-c5a4-44aa-b678-247bc27c4dba",
   "metadata": {},
   "outputs": [],
   "source": [
    "raw_y_path = f'{TEST_Y_RAW_DIR_PATH}/{FEATURES}_{MODEL_NAME}.csv'\n",
    "Y_orig.to_csv(raw_y_path)"
   ]
  },
  {
   "cell_type": "code",
   "execution_count": 22,
   "id": "b4f8e152-e065-4fab-89c3-e56fa59f21d7",
   "metadata": {},
   "outputs": [],
   "source": [
    "raw_preds_path = f'{TEST_PREDICTIONS_RAW_DIR_PATH}/{FEATURES}_{MODEL_NAME}.csv'\n",
    "predictions.to_csv(raw_preds_path)"
   ]
  },
  {
   "cell_type": "code",
   "execution_count": 26,
   "id": "79469736-e356-45c6-8414-c63b89c34129",
   "metadata": {},
   "outputs": [
    {
     "data": {
      "text/html": [
       "<div>\n",
       "<style scoped>\n",
       "    .dataframe tbody tr th:only-of-type {\n",
       "        vertical-align: middle;\n",
       "    }\n",
       "\n",
       "    .dataframe tbody tr th {\n",
       "        vertical-align: top;\n",
       "    }\n",
       "\n",
       "    .dataframe thead th {\n",
       "        text-align: right;\n",
       "    }\n",
       "</style>\n",
       "<table border=\"1\" class=\"dataframe\">\n",
       "  <thead>\n",
       "    <tr style=\"text-align: right;\">\n",
       "      <th></th>\n",
       "      <th>1</th>\n",
       "      <th>2</th>\n",
       "      <th>3</th>\n",
       "      <th>4</th>\n",
       "      <th>5</th>\n",
       "      <th>6</th>\n",
       "      <th>7</th>\n",
       "      <th>8</th>\n",
       "      <th>9</th>\n",
       "      <th>10</th>\n",
       "      <th>...</th>\n",
       "      <th>141</th>\n",
       "      <th>142</th>\n",
       "      <th>143</th>\n",
       "      <th>143A</th>\n",
       "      <th>144</th>\n",
       "      <th>145</th>\n",
       "      <th>146</th>\n",
       "      <th>147</th>\n",
       "      <th>148</th>\n",
       "      <th>149</th>\n",
       "    </tr>\n",
       "    <tr>\n",
       "      <th>Id</th>\n",
       "      <th></th>\n",
       "      <th></th>\n",
       "      <th></th>\n",
       "      <th></th>\n",
       "      <th></th>\n",
       "      <th></th>\n",
       "      <th></th>\n",
       "      <th></th>\n",
       "      <th></th>\n",
       "      <th></th>\n",
       "      <th></th>\n",
       "      <th></th>\n",
       "      <th></th>\n",
       "      <th></th>\n",
       "      <th></th>\n",
       "      <th></th>\n",
       "      <th></th>\n",
       "      <th></th>\n",
       "      <th></th>\n",
       "      <th></th>\n",
       "      <th></th>\n",
       "    </tr>\n",
       "  </thead>\n",
       "  <tbody>\n",
       "    <tr>\n",
       "      <th>6LCS:H</th>\n",
       "      <td>NaN</td>\n",
       "      <td>13.15</td>\n",
       "      <td>52.34</td>\n",
       "      <td>6.22</td>\n",
       "      <td>50.64</td>\n",
       "      <td>4.71</td>\n",
       "      <td>47.20</td>\n",
       "      <td>NaN</td>\n",
       "      <td>50.90</td>\n",
       "      <td>48.37</td>\n",
       "      <td>...</td>\n",
       "      <td>61.30</td>\n",
       "      <td>18.52</td>\n",
       "      <td>8.13</td>\n",
       "      <td>NaN</td>\n",
       "      <td>29.90</td>\n",
       "      <td>0.66</td>\n",
       "      <td>18.12</td>\n",
       "      <td>5.26</td>\n",
       "      <td>7.02</td>\n",
       "      <td>55.11</td>\n",
       "    </tr>\n",
       "    <tr>\n",
       "      <th>6LDV:H</th>\n",
       "      <td>NaN</td>\n",
       "      <td>89.16</td>\n",
       "      <td>50.28</td>\n",
       "      <td>6.70</td>\n",
       "      <td>61.44</td>\n",
       "      <td>6.11</td>\n",
       "      <td>47.23</td>\n",
       "      <td>NaN</td>\n",
       "      <td>44.60</td>\n",
       "      <td>31.49</td>\n",
       "      <td>...</td>\n",
       "      <td>57.77</td>\n",
       "      <td>24.58</td>\n",
       "      <td>9.21</td>\n",
       "      <td>NaN</td>\n",
       "      <td>26.03</td>\n",
       "      <td>0.92</td>\n",
       "      <td>14.79</td>\n",
       "      <td>4.79</td>\n",
       "      <td>20.78</td>\n",
       "      <td>71.96</td>\n",
       "    </tr>\n",
       "    <tr>\n",
       "      <th>6LDW:H</th>\n",
       "      <td>NaN</td>\n",
       "      <td>89.16</td>\n",
       "      <td>50.28</td>\n",
       "      <td>6.70</td>\n",
       "      <td>61.44</td>\n",
       "      <td>6.11</td>\n",
       "      <td>47.23</td>\n",
       "      <td>NaN</td>\n",
       "      <td>44.60</td>\n",
       "      <td>31.49</td>\n",
       "      <td>...</td>\n",
       "      <td>57.31</td>\n",
       "      <td>24.21</td>\n",
       "      <td>9.21</td>\n",
       "      <td>NaN</td>\n",
       "      <td>26.03</td>\n",
       "      <td>0.92</td>\n",
       "      <td>14.79</td>\n",
       "      <td>4.79</td>\n",
       "      <td>20.78</td>\n",
       "      <td>71.96</td>\n",
       "    </tr>\n",
       "    <tr>\n",
       "      <th>6LDX:H</th>\n",
       "      <td>96.45</td>\n",
       "      <td>87.73</td>\n",
       "      <td>52.74</td>\n",
       "      <td>5.31</td>\n",
       "      <td>63.85</td>\n",
       "      <td>6.08</td>\n",
       "      <td>48.50</td>\n",
       "      <td>NaN</td>\n",
       "      <td>44.60</td>\n",
       "      <td>31.49</td>\n",
       "      <td>...</td>\n",
       "      <td>57.77</td>\n",
       "      <td>24.58</td>\n",
       "      <td>9.21</td>\n",
       "      <td>NaN</td>\n",
       "      <td>26.03</td>\n",
       "      <td>0.92</td>\n",
       "      <td>14.79</td>\n",
       "      <td>4.79</td>\n",
       "      <td>20.78</td>\n",
       "      <td>71.96</td>\n",
       "    </tr>\n",
       "    <tr>\n",
       "      <th>6LDY:H</th>\n",
       "      <td>NaN</td>\n",
       "      <td>13.68</td>\n",
       "      <td>29.61</td>\n",
       "      <td>11.68</td>\n",
       "      <td>63.02</td>\n",
       "      <td>5.01</td>\n",
       "      <td>36.34</td>\n",
       "      <td>NaN</td>\n",
       "      <td>45.26</td>\n",
       "      <td>31.49</td>\n",
       "      <td>...</td>\n",
       "      <td>61.62</td>\n",
       "      <td>24.21</td>\n",
       "      <td>9.21</td>\n",
       "      <td>NaN</td>\n",
       "      <td>26.03</td>\n",
       "      <td>0.92</td>\n",
       "      <td>14.79</td>\n",
       "      <td>4.79</td>\n",
       "      <td>20.78</td>\n",
       "      <td>71.96</td>\n",
       "    </tr>\n",
       "    <tr>\n",
       "      <th>...</th>\n",
       "      <td>...</td>\n",
       "      <td>...</td>\n",
       "      <td>...</td>\n",
       "      <td>...</td>\n",
       "      <td>...</td>\n",
       "      <td>...</td>\n",
       "      <td>...</td>\n",
       "      <td>...</td>\n",
       "      <td>...</td>\n",
       "      <td>...</td>\n",
       "      <td>...</td>\n",
       "      <td>...</td>\n",
       "      <td>...</td>\n",
       "      <td>...</td>\n",
       "      <td>...</td>\n",
       "      <td>...</td>\n",
       "      <td>...</td>\n",
       "      <td>...</td>\n",
       "      <td>...</td>\n",
       "      <td>...</td>\n",
       "      <td>...</td>\n",
       "    </tr>\n",
       "    <tr>\n",
       "      <th>7WRV:H</th>\n",
       "      <td>94.01</td>\n",
       "      <td>30.03</td>\n",
       "      <td>53.58</td>\n",
       "      <td>6.17</td>\n",
       "      <td>50.85</td>\n",
       "      <td>6.11</td>\n",
       "      <td>31.33</td>\n",
       "      <td>NaN</td>\n",
       "      <td>60.83</td>\n",
       "      <td>57.86</td>\n",
       "      <td>...</td>\n",
       "      <td>62.04</td>\n",
       "      <td>19.43</td>\n",
       "      <td>9.77</td>\n",
       "      <td>NaN</td>\n",
       "      <td>34.47</td>\n",
       "      <td>0.72</td>\n",
       "      <td>35.94</td>\n",
       "      <td>4.05</td>\n",
       "      <td>75.82</td>\n",
       "      <td>NaN</td>\n",
       "    </tr>\n",
       "    <tr>\n",
       "      <th>7X08:H</th>\n",
       "      <td>NaN</td>\n",
       "      <td>NaN</td>\n",
       "      <td>NaN</td>\n",
       "      <td>NaN</td>\n",
       "      <td>NaN</td>\n",
       "      <td>NaN</td>\n",
       "      <td>NaN</td>\n",
       "      <td>NaN</td>\n",
       "      <td>NaN</td>\n",
       "      <td>14.22</td>\n",
       "      <td>...</td>\n",
       "      <td>57.97</td>\n",
       "      <td>23.15</td>\n",
       "      <td>13.50</td>\n",
       "      <td>NaN</td>\n",
       "      <td>34.18</td>\n",
       "      <td>1.77</td>\n",
       "      <td>14.37</td>\n",
       "      <td>4.81</td>\n",
       "      <td>19.48</td>\n",
       "      <td>71.96</td>\n",
       "    </tr>\n",
       "    <tr>\n",
       "      <th>7X9E:H</th>\n",
       "      <td>NaN</td>\n",
       "      <td>63.53</td>\n",
       "      <td>58.66</td>\n",
       "      <td>5.61</td>\n",
       "      <td>49.39</td>\n",
       "      <td>6.99</td>\n",
       "      <td>49.96</td>\n",
       "      <td>NaN</td>\n",
       "      <td>53.55</td>\n",
       "      <td>39.05</td>\n",
       "      <td>...</td>\n",
       "      <td>57.35</td>\n",
       "      <td>23.72</td>\n",
       "      <td>5.00</td>\n",
       "      <td>NaN</td>\n",
       "      <td>50.92</td>\n",
       "      <td>0.12</td>\n",
       "      <td>14.76</td>\n",
       "      <td>5.11</td>\n",
       "      <td>16.67</td>\n",
       "      <td>71.96</td>\n",
       "    </tr>\n",
       "    <tr>\n",
       "      <th>7Z0X:H</th>\n",
       "      <td>93.81</td>\n",
       "      <td>27.55</td>\n",
       "      <td>51.51</td>\n",
       "      <td>5.26</td>\n",
       "      <td>50.80</td>\n",
       "      <td>6.99</td>\n",
       "      <td>49.96</td>\n",
       "      <td>NaN</td>\n",
       "      <td>53.16</td>\n",
       "      <td>36.68</td>\n",
       "      <td>...</td>\n",
       "      <td>62.04</td>\n",
       "      <td>19.43</td>\n",
       "      <td>9.77</td>\n",
       "      <td>NaN</td>\n",
       "      <td>34.47</td>\n",
       "      <td>1.77</td>\n",
       "      <td>14.37</td>\n",
       "      <td>4.81</td>\n",
       "      <td>19.48</td>\n",
       "      <td>71.96</td>\n",
       "    </tr>\n",
       "    <tr>\n",
       "      <th>7Z0Y:H</th>\n",
       "      <td>NaN</td>\n",
       "      <td>63.53</td>\n",
       "      <td>58.66</td>\n",
       "      <td>5.61</td>\n",
       "      <td>49.39</td>\n",
       "      <td>6.99</td>\n",
       "      <td>49.96</td>\n",
       "      <td>NaN</td>\n",
       "      <td>53.55</td>\n",
       "      <td>39.05</td>\n",
       "      <td>...</td>\n",
       "      <td>51.11</td>\n",
       "      <td>26.21</td>\n",
       "      <td>9.77</td>\n",
       "      <td>NaN</td>\n",
       "      <td>34.47</td>\n",
       "      <td>1.77</td>\n",
       "      <td>14.37</td>\n",
       "      <td>4.81</td>\n",
       "      <td>19.48</td>\n",
       "      <td>71.96</td>\n",
       "    </tr>\n",
       "  </tbody>\n",
       "</table>\n",
       "<p>643 rows × 164 columns</p>\n",
       "</div>"
      ],
      "text/plain": [
       "            1      2      3      4      5     6      7   8      9     10  ...  \\\n",
       "Id                                                                        ...   \n",
       "6LCS:H    NaN  13.15  52.34   6.22  50.64  4.71  47.20 NaN  50.90  48.37  ...   \n",
       "6LDV:H    NaN  89.16  50.28   6.70  61.44  6.11  47.23 NaN  44.60  31.49  ...   \n",
       "6LDW:H    NaN  89.16  50.28   6.70  61.44  6.11  47.23 NaN  44.60  31.49  ...   \n",
       "6LDX:H  96.45  87.73  52.74   5.31  63.85  6.08  48.50 NaN  44.60  31.49  ...   \n",
       "6LDY:H    NaN  13.68  29.61  11.68  63.02  5.01  36.34 NaN  45.26  31.49  ...   \n",
       "...       ...    ...    ...    ...    ...   ...    ...  ..    ...    ...  ...   \n",
       "7WRV:H  94.01  30.03  53.58   6.17  50.85  6.11  31.33 NaN  60.83  57.86  ...   \n",
       "7X08:H    NaN    NaN    NaN    NaN    NaN   NaN    NaN NaN    NaN  14.22  ...   \n",
       "7X9E:H    NaN  63.53  58.66   5.61  49.39  6.99  49.96 NaN  53.55  39.05  ...   \n",
       "7Z0X:H  93.81  27.55  51.51   5.26  50.80  6.99  49.96 NaN  53.16  36.68  ...   \n",
       "7Z0Y:H    NaN  63.53  58.66   5.61  49.39  6.99  49.96 NaN  53.55  39.05  ...   \n",
       "\n",
       "          141    142    143  143A    144   145    146   147    148    149  \n",
       "Id                                                                         \n",
       "6LCS:H  61.30  18.52   8.13   NaN  29.90  0.66  18.12  5.26   7.02  55.11  \n",
       "6LDV:H  57.77  24.58   9.21   NaN  26.03  0.92  14.79  4.79  20.78  71.96  \n",
       "6LDW:H  57.31  24.21   9.21   NaN  26.03  0.92  14.79  4.79  20.78  71.96  \n",
       "6LDX:H  57.77  24.58   9.21   NaN  26.03  0.92  14.79  4.79  20.78  71.96  \n",
       "6LDY:H  61.62  24.21   9.21   NaN  26.03  0.92  14.79  4.79  20.78  71.96  \n",
       "...       ...    ...    ...   ...    ...   ...    ...   ...    ...    ...  \n",
       "7WRV:H  62.04  19.43   9.77   NaN  34.47  0.72  35.94  4.05  75.82    NaN  \n",
       "7X08:H  57.97  23.15  13.50   NaN  34.18  1.77  14.37  4.81  19.48  71.96  \n",
       "7X9E:H  57.35  23.72   5.00   NaN  50.92  0.12  14.76  5.11  16.67  71.96  \n",
       "7Z0X:H  62.04  19.43   9.77   NaN  34.47  1.77  14.37  4.81  19.48  71.96  \n",
       "7Z0Y:H  51.11  26.21   9.77   NaN  34.47  1.77  14.37  4.81  19.48  71.96  \n",
       "\n",
       "[643 rows x 164 columns]"
      ]
     },
     "execution_count": 26,
     "metadata": {},
     "output_type": "execute_result"
    }
   ],
   "source": [
    "predictions"
   ]
  },
  {
   "cell_type": "markdown",
   "id": "ee0c4fa7-0d79-4831-aef5-a36ec448f8a8",
   "metadata": {},
   "source": [
    "**Generate `sequence/position/sasa_prediction` dataframe (very nice structure for processing the results later on):**"
   ]
  },
  {
   "cell_type": "code",
   "execution_count": 24,
   "id": "c129c9f5-ac29-4e48-bc82-a290b09e4fd7",
   "metadata": {},
   "outputs": [
    {
     "data": {
      "text/html": [
       "<div>\n",
       "<style scoped>\n",
       "    .dataframe tbody tr th:only-of-type {\n",
       "        vertical-align: middle;\n",
       "    }\n",
       "\n",
       "    .dataframe tbody tr th {\n",
       "        vertical-align: top;\n",
       "    }\n",
       "\n",
       "    .dataframe thead th {\n",
       "        text-align: right;\n",
       "    }\n",
       "</style>\n",
       "<table border=\"1\" class=\"dataframe\">\n",
       "  <thead>\n",
       "    <tr style=\"text-align: right;\">\n",
       "      <th></th>\n",
       "      <th>sequence_id</th>\n",
       "      <th>position</th>\n",
       "      <th>prediction</th>\n",
       "    </tr>\n",
       "  </thead>\n",
       "  <tbody>\n",
       "    <tr>\n",
       "      <th>0</th>\n",
       "      <td>6LCS:H</td>\n",
       "      <td>1</td>\n",
       "      <td>NaN</td>\n",
       "    </tr>\n",
       "    <tr>\n",
       "      <th>1</th>\n",
       "      <td>6LDV:H</td>\n",
       "      <td>1</td>\n",
       "      <td>NaN</td>\n",
       "    </tr>\n",
       "    <tr>\n",
       "      <th>2</th>\n",
       "      <td>6LDW:H</td>\n",
       "      <td>1</td>\n",
       "      <td>NaN</td>\n",
       "    </tr>\n",
       "    <tr>\n",
       "      <th>3</th>\n",
       "      <td>6LDX:H</td>\n",
       "      <td>1</td>\n",
       "      <td>96.45</td>\n",
       "    </tr>\n",
       "    <tr>\n",
       "      <th>4</th>\n",
       "      <td>6LDY:H</td>\n",
       "      <td>1</td>\n",
       "      <td>NaN</td>\n",
       "    </tr>\n",
       "    <tr>\n",
       "      <th>...</th>\n",
       "      <td>...</td>\n",
       "      <td>...</td>\n",
       "      <td>...</td>\n",
       "    </tr>\n",
       "    <tr>\n",
       "      <th>105447</th>\n",
       "      <td>7WRV:H</td>\n",
       "      <td>149</td>\n",
       "      <td>NaN</td>\n",
       "    </tr>\n",
       "    <tr>\n",
       "      <th>105448</th>\n",
       "      <td>7X08:H</td>\n",
       "      <td>149</td>\n",
       "      <td>71.96</td>\n",
       "    </tr>\n",
       "    <tr>\n",
       "      <th>105449</th>\n",
       "      <td>7X9E:H</td>\n",
       "      <td>149</td>\n",
       "      <td>71.96</td>\n",
       "    </tr>\n",
       "    <tr>\n",
       "      <th>105450</th>\n",
       "      <td>7Z0X:H</td>\n",
       "      <td>149</td>\n",
       "      <td>71.96</td>\n",
       "    </tr>\n",
       "    <tr>\n",
       "      <th>105451</th>\n",
       "      <td>7Z0Y:H</td>\n",
       "      <td>149</td>\n",
       "      <td>71.96</td>\n",
       "    </tr>\n",
       "  </tbody>\n",
       "</table>\n",
       "<p>105452 rows × 3 columns</p>\n",
       "</div>"
      ],
      "text/plain": [
       "       sequence_id position  prediction\n",
       "0           6LCS:H        1         NaN\n",
       "1           6LDV:H        1         NaN\n",
       "2           6LDW:H        1         NaN\n",
       "3           6LDX:H        1       96.45\n",
       "4           6LDY:H        1         NaN\n",
       "...            ...      ...         ...\n",
       "105447      7WRV:H      149         NaN\n",
       "105448      7X08:H      149       71.96\n",
       "105449      7X9E:H      149       71.96\n",
       "105450      7Z0X:H      149       71.96\n",
       "105451      7Z0Y:H      149       71.96\n",
       "\n",
       "[105452 rows x 3 columns]"
      ]
     },
     "execution_count": 24,
     "metadata": {},
     "output_type": "execute_result"
    }
   ],
   "source": [
    "res_df = u.positionize_sasa_df(predictions, ids)\n",
    "res_df"
   ]
  },
  {
   "cell_type": "code",
   "execution_count": 25,
   "id": "095ec866-26f3-4f2e-a45f-8bd110c1a830",
   "metadata": {},
   "outputs": [
    {
     "data": {
      "text/plain": [
       "0         6LCS:H\n",
       "1         6LDV:H\n",
       "2         6LDW:H\n",
       "3         6LDX:H\n",
       "4         6LDY:H\n",
       "           ...  \n",
       "105447    7WRV:H\n",
       "105448    7X08:H\n",
       "105449    7X9E:H\n",
       "105450    7Z0X:H\n",
       "105451    7Z0Y:H\n",
       "Name: 200, Length: 105452, dtype: object"
      ]
     },
     "execution_count": 25,
     "metadata": {},
     "output_type": "execute_result"
    }
   ],
   "source": [
    "ids"
   ]
  },
  {
   "cell_type": "markdown",
   "id": "591b847a-9c9f-46b6-8569-39c95fbece91",
   "metadata": {},
   "source": [
    "**Store it:**"
   ]
  },
  {
   "cell_type": "code",
   "execution_count": 76,
   "id": "75ab4892-3e5e-4239-8e81-6dcc292ac586",
   "metadata": {},
   "outputs": [],
   "source": [
    "preds_path = f'{TEST_PREDICTIONS_DIR_PATH}/{FEATURES}_{MODEL_NAME}.csv'\n",
    "res_df.to_csv(preds_path)"
   ]
  },
  {
   "cell_type": "code",
   "execution_count": null,
   "id": "a4fc6977-7c24-4a83-a3af-c6ef7596eccd",
   "metadata": {},
   "outputs": [],
   "source": []
  }
 ],
 "metadata": {
  "kernelspec": {
   "display_name": "Python 3 (ipykernel)",
   "language": "python",
   "name": "python3"
  },
  "language_info": {
   "codemirror_mode": {
    "name": "ipython",
    "version": 3
   },
   "file_extension": ".py",
   "mimetype": "text/x-python",
   "name": "python",
   "nbconvert_exporter": "python",
   "pygments_lexer": "ipython3",
   "version": "3.10.14"
  }
 },
 "nbformat": 4,
 "nbformat_minor": 5
}
