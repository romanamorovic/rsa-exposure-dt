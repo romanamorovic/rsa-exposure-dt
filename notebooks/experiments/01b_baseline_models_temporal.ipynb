{
 "cells": [
  {
   "cell_type": "markdown",
   "id": "52d683ad-74cf-4f42-b2f6-1f8ec733c2a9",
   "metadata": {
    "tags": []
   },
   "source": [
    "# 1b. Baseline models - TEMPORAL split"
   ]
  },
  {
   "cell_type": "markdown",
   "id": "c82e5f11-ddd8-417c-a442-a138a6c8924a",
   "metadata": {},
   "source": [
    "**TODO** add short summary about what we do in this notebook"
   ]
  },
  {
   "cell_type": "markdown",
   "id": "964d64da-9821-4d03-9f88-f886bc46354e",
   "metadata": {
    "jp-MarkdownHeadingCollapsed": true,
    "tags": []
   },
   "source": [
    "## Setup"
   ]
  },
  {
   "cell_type": "code",
   "execution_count": 1,
   "id": "55cefe35-d7b8-45c7-a86a-975bdb382913",
   "metadata": {},
   "outputs": [],
   "source": [
    "import collections\n",
    "\n",
    "import matplotlib.pyplot as plt\n",
    "import numpy as np \n",
    "import pandas as pd\n",
    "import seaborn as sns\n",
    "import matplotlib.lines as mlines\n",
    "import matplotlib.transforms as mtransforms\n",
    "from sklearn.neighbors import KNeighborsRegressor\n",
    "from sklearn.preprocessing import OneHotEncoder\n",
    "\n",
    "import bin.baseline_models as bm\n",
    "import bin.feature_generators as fg\n",
    "import bin.params as p\n",
    "import bin.utils as u"
   ]
  },
  {
   "cell_type": "code",
   "execution_count": 2,
   "id": "ec1acb0b-445c-44e2-a20f-44e86ae1de40",
   "metadata": {},
   "outputs": [],
   "source": [
    "sns.set_style()"
   ]
  },
  {
   "cell_type": "code",
   "execution_count": 3,
   "id": "c7a7a8ce-5098-4c9e-a5d2-eaa8ee9c0a76",
   "metadata": {
    "tags": [
     "parameters"
    ]
   },
   "outputs": [],
   "source": [
    "CHAINS = p.CHAINS"
   ]
  },
  {
   "cell_type": "markdown",
   "id": "a5e4d82e-f7b1-4e53-a848-e4e88e6ab3c7",
   "metadata": {},
   "source": [
    "**Load the data:**"
   ]
  },
  {
   "cell_type": "code",
   "execution_count": 4,
   "id": "de39ca93-077c-4cb1-b440-4c3d6daddc60",
   "metadata": {},
   "outputs": [],
   "source": [
    "metadata_df = pd.read_csv(f'{p.DATA_DIR}/csv/metadata/metadata_{CHAINS}.csv', index_col=0)\n",
    "fasta_df = pd.read_csv(f'{p.DATA_DIR}/csv/fasta_aligned_cleaned/fasta_{p.FINAL_NUMBERING_SCHEME}_{CHAINS}.csv', index_col=0)\n",
    "sasa_df = pd.read_csv(f'{p.DATA_DIR}/csv/sasa_aligned/sasa_{CHAINS}.csv', index_col=0)"
   ]
  },
  {
   "cell_type": "markdown",
   "id": "c3313b00-4213-46c1-a037-c2ac19f45aef",
   "metadata": {},
   "source": [
    "**Baseline wrapper functions:**"
   ]
  },
  {
   "cell_type": "code",
   "execution_count": 5,
   "id": "021a0410-e9e6-443d-ad13-1e87c3bb735f",
   "metadata": {},
   "outputs": [],
   "source": [
    "def predict_avg_by_pos(x_train, y_train, x_test):\n",
    "    avg_by_pos = bm.AverageForResidueAtPosition()\n",
    "    avg_by_pos.fit(x_train, y_train)\n",
    "    avg_by_pos_predicts = avg_by_pos.predict(x_test)\n",
    "    return avg_by_pos_predicts"
   ]
  },
  {
   "cell_type": "code",
   "execution_count": 6,
   "id": "a8fdbb11-04ec-490f-9bd2-d2c13d4c259e",
   "metadata": {},
   "outputs": [],
   "source": [
    "def predict_avg_by_same_res_pos(x_train, y_train, x_test):\n",
    "    avg_by_sameres_pos = bm.StatisticForSameResidueAtPosition(statistic='mean')\n",
    "    avg_by_sameres_pos.fit(x_train, y_train)\n",
    "    avg_by_sameres_pos_predicts = avg_by_sameres_pos.predict(x_test)\n",
    "    return avg_by_sameres_pos_predicts"
   ]
  },
  {
   "cell_type": "code",
   "execution_count": 7,
   "id": "312d3bf6-fbc9-4572-9009-53a4dc372a6d",
   "metadata": {},
   "outputs": [],
   "source": [
    "def predict_median_by_same_res_pos(x_train, y_train, x_test):\n",
    "    avg_by_sameres_pos = bm.StatisticForSameResidueAtPosition(statistic='median')\n",
    "    avg_by_sameres_pos.fit(x_train, y_train)\n",
    "    avg_by_sameres_pos_predicts = avg_by_sameres_pos.predict(x_test)\n",
    "    return avg_by_sameres_pos_predicts"
   ]
  },
  {
   "cell_type": "code",
   "execution_count": 8,
   "id": "ef8bd5a4-446b-4497-947f-939ee32856e3",
   "metadata": {},
   "outputs": [],
   "source": [
    "def predict_knn(x_train, y_train, x_test):\n",
    "    onehot = OneHotEncoder(handle_unknown='ignore')\n",
    "    onehot.fit(x_train)\n",
    "    x_train_oh = onehot.transform(x_train)\n",
    "    x_test_oh = onehot.transform(x_test)\n",
    "    knn = KNeighborsRegressor(n_neighbors=3)\n",
    "    # knn cannot handle NaNs, so replace them with -1\n",
    "    knn.fit(x_train_oh, y_train.fillna(-1))\n",
    "    knn_predictions = pd.DataFrame(knn.predict(x_test_oh), columns=x_test.columns, index=x_test.index)\n",
    "    return knn_predictions"
   ]
  },
  {
   "cell_type": "markdown",
   "id": "c2d0d3ed-850f-495d-b879-b98694cc9db5",
   "metadata": {},
   "source": [
    "**Other functions:**"
   ]
  },
  {
   "cell_type": "code",
   "execution_count": 9,
   "id": "da3ea982-be6b-4411-88b8-fd134adde22b",
   "metadata": {},
   "outputs": [],
   "source": [
    "def generate_result_frame(x_train, y_train, x_test, y_test) -> pd.DataFrame:\n",
    "    data = collections.defaultdict(list)\n",
    "    \n",
    "    def append_model_results(model_name, predicts, actual):\n",
    "        for index, row in predicts.iterrows():\n",
    "            for column in predicts.columns:\n",
    "                if pd.isna(predicts.loc[index, column]) or pd.isna(actual.loc[index, column]):\n",
    "                    continue\n",
    "                data['id'].append(index)\n",
    "                data['model'].append(model_name)\n",
    "                data['chain'].append(index[-1])\n",
    "                data['position'].append(column)\n",
    "                data['region'].append('')\n",
    "                \n",
    "                sasa, predicted = actual.loc[index, column], predicts.loc[index, column]\n",
    "                data['sasa'].append(sasa)\n",
    "                data['predicted'].append(predicted)\n",
    "                data['error'].append(sasa-predicted)\n",
    "                data['abs_error'].append(abs(sasa-predicted))\n",
    "\n",
    "\n",
    "    append_model_results('avg_by_pos', predict_avg_by_pos(x_train, y_train, x_test), y_test)\n",
    "    append_model_results('avg_by_same_res_pos', predict_avg_by_same_res_pos(x_train, y_train, x_test), y_test)\n",
    "    append_model_results('median_by_same_res_pos', predict_median_by_same_res_pos(x_train, y_train, x_test), y_test)\n",
    "    append_model_results('knn', predict_knn(x_train, y_train, x_test), y_test)\n",
    "\n",
    "    result_df = pd.DataFrame(data, columns=data.keys())\n",
    "    return result_df"
   ]
  },
  {
   "cell_type": "code",
   "execution_count": 10,
   "id": "ec46213a-ab27-41b4-8f5a-8a02ed8b8e57",
   "metadata": {},
   "outputs": [],
   "source": [
    "def make_baseline_hist_grid(x_train, y_train, x_test, y_test) -> tuple:  \n",
    "    print('predicting avg by pos...')\n",
    "    avg_by_pos_dev = u.avg_deviations(y_test,\n",
    "                                    predict_avg_by_pos(x_train, y_train, x_test))\n",
    "    \n",
    "    print('predicting avg by same res pos...')\n",
    "    avg_by_same_res_pos_dev = u.avg_deviations(y_test,\n",
    "                                    predict_avg_by_same_res_pos(x_train, y_train, x_test))\n",
    "    \n",
    "    print('predicting median by same res pos...')\n",
    "    median_by_same_res_pos_dev = u.avg_deviations(y_test,\n",
    "                                    predict_median_by_same_res_pos(x_train, y_train, x_test))\n",
    "    \n",
    "    print('predicting knn...')\n",
    "    knn_dev = u.avg_deviations(y_test,\n",
    "                            predict_knn(x_train, y_train, x_test))\n",
    "\n",
    "    print('plotting grid... (this will take a while)')\n",
    "    fig, ax = plt.subplots(4, 4, sharex=True, sharey=True, figsize=(15, 10))\n",
    "    model_results = [avg_by_pos_dev, avg_by_same_res_pos_dev, median_by_same_res_pos_dev, knn_dev]\n",
    "    model_names = ['avg col', 'avg col-same-aa', 'med col-same-aa', 'knn']\n",
    "    for i in range(4):\n",
    "        print(f'prepare data for grid row {i+1} out of 4')\n",
    "        for j in range(4):\n",
    "            if i == j:\n",
    "                continue\n",
    "            data = model_results[i]-model_results[j]\n",
    "            ax[i,j].hist(data, bins=50)\n",
    "            ax[i,j].axvline(x=0, c='orange')\n",
    "            ax[i,j].set_title(f'{model_names[i]} X {model_names[j]}\\n Score: {data.sum():.2f}')\n",
    "    fig.tight_layout()\n",
    "    plt.show()\n",
    "    \n",
    "    return avg_by_pos_dev, avg_by_same_res_pos_dev, median_by_same_res_pos_dev, knn_dev"
   ]
  },
  {
   "cell_type": "code",
   "execution_count": 11,
   "id": "f6859738-6df8-442a-9a7a-ef67239de7e6",
   "metadata": {},
   "outputs": [],
   "source": [
    "def nice_sequence_bar_plot(data: pd.Series, xlabel='', ylabel='', title='', only_nth_ticklabels=5, ylogscale=False):\n",
    "    plt.figure(figsize = (15,5))\n",
    "    plot = sns.barplot(x=data.index, y=data)\n",
    "    plot.set_xlabel(xlabel)\n",
    "    plot.set_ylabel(ylabel)\n",
    "    plot.set_title(title)\n",
    "    u.show_only_nth_ticklabel(plot, n=only_nth_ticklabels)\n",
    "    if ylogscale:\n",
    "        plot.set_yscale('log')"
   ]
  },
  {
   "cell_type": "code",
   "execution_count": 12,
   "id": "95855ca9-165e-495a-82b9-60e0916621b3",
   "metadata": {},
   "outputs": [],
   "source": [
    "def get_deviations_per_position(data, model='', plot=False):\n",
    "    # computete average mean by position\n",
    "    rv = data\n",
    "    rv = rv.assign(diff=pd.Series(abs(rv['sasa'] - rv['predicted'])).values)\n",
    "    means_by_position = rv.groupby('position')['diff'].mean()\n",
    "\n",
    "    # resort the pandas series\n",
    "    sorted_labels = sorted(means_by_position.index, key=u.anarci_column_sorter)\n",
    "    sorted_values = [means_by_position[label] for label in sorted_labels]\n",
    "    sorted_deviations = pd.Series(sorted_values, index=sorted_labels)\n",
    "\n",
    "    if plot:\n",
    "        # plot\n",
    "        nice_sequence_bar_plot(sorted_deviations, \n",
    "                               xlabel='ANARCI position',\n",
    "                               ylabel='mean deviation',\n",
    "                               title=f'Mean relative sasa deviation per ANARCI position | {model}')\n",
    "\n",
    "    # cleanup\n",
    "    del rv['diff']\n",
    "    \n",
    "    return sorted_deviations"
   ]
  },
  {
   "cell_type": "code",
   "execution_count": 13,
   "id": "781fb4ed-39dc-4f2a-b9f9-76d84bacb0fe",
   "metadata": {},
   "outputs": [],
   "source": [
    "def get_dataset(dataset: str, chains: str):\n",
    "    raw_x, raw_y = u.load_dataset(dataset, chains=chains) \n",
    "    final_x, final_y, _ = fg.generate(raw_x, raw_y, None, '', 'lco_whole_sequence', dict(raw=True))\n",
    "    final_x.index = raw_x['Id']\n",
    "    final_y.index = raw_y['Id']\n",
    "    return final_x, final_y"
   ]
  },
  {
   "cell_type": "markdown",
   "id": "f33b0870-f41c-4761-9781-9eea0b7812b4",
   "metadata": {},
   "source": [
    "---"
   ]
  },
  {
   "cell_type": "markdown",
   "id": "7cb0d6f3-0579-49ed-9ea7-1d6bae6e3d41",
   "metadata": {
    "jp-MarkdownHeadingCollapsed": true,
    "tags": []
   },
   "source": [
    "## Temporal split"
   ]
  },
  {
   "cell_type": "code",
   "execution_count": null,
   "id": "da551d8f-b617-4daf-9883-5ccea617b299",
   "metadata": {},
   "outputs": [],
   "source": [
    "train_x, train_y = get_dataset('train', CHAINS)\n",
    "print(f'TRAIN sets generated, X.shape: {train_x.shape} Y.shape: {train_y.shape}\\n----')\n",
    "val_x, val_y = get_dataset('val', CHAINS)\n",
    "print(f'VAL sets generated, X.shape: {val_x.shape} Y.shape: {val_y.shape}\\n----')\n",
    "test_x, test_y = get_dataset('test', CHAINS)\n",
    "print(f'TEST sets generated, X.shape: {test_x.shape} Y.shape: {test_y.shape}')"
   ]
  },
  {
   "cell_type": "code",
   "execution_count": null,
   "id": "017bd4c4-b573-48e6-b60a-2c3890921dd4",
   "metadata": {},
   "outputs": [],
   "source": [
    "train_x.head(n=3)"
   ]
  },
  {
   "cell_type": "code",
   "execution_count": null,
   "id": "e8830828-f4c1-4fb1-a45b-0f8f07220ac7",
   "metadata": {},
   "outputs": [],
   "source": [
    "train_y_boxplot = train_y.boxplot(figsize=(15, 3))\n",
    "u.show_only_nth_ticklabel(train_y_boxplot, n=5)"
   ]
  },
  {
   "cell_type": "markdown",
   "id": "f4caf805-36c5-4a43-b059-724f672b0086",
   "metadata": {},
   "source": [
    "---"
   ]
  },
  {
   "cell_type": "markdown",
   "id": "caf666f2-ddc4-4b71-bff4-5c0bfd3de10f",
   "metadata": {
    "tags": []
   },
   "source": [
    "## TRAIN vs. VAL"
   ]
  },
  {
   "cell_type": "markdown",
   "id": "5f502a90-ca51-4244-a1a2-397d54890b61",
   "metadata": {
    "jp-MarkdownHeadingCollapsed": true,
    "tags": []
   },
   "source": [
    "### Generate predictions and comparison grid"
   ]
  },
  {
   "cell_type": "markdown",
   "id": "bdbe939f-b894-4b63-a31d-37fa2efdbe42",
   "metadata": {},
   "source": [
    "**Generate baseline model comparison grid (running this cell may take a while):**"
   ]
  },
  {
   "cell_type": "code",
   "execution_count": null,
   "id": "67787deb-5970-478e-8046-33af375fac81",
   "metadata": {},
   "outputs": [],
   "source": [
    "a_dev, asr_dev, asr_med_dev, knn_dev = make_baseline_hist_grid(train_x, train_y, val_x, val_y)"
   ]
  },
  {
   "cell_type": "markdown",
   "id": "3c1ea233-3611-4ff7-8a67-e61c980462a7",
   "metadata": {},
   "source": [
    "**Show result dataframe:**"
   ]
  },
  {
   "cell_type": "code",
   "execution_count": null,
   "id": "0418e680-2b71-4c01-831d-2e7f63d104c8",
   "metadata": {},
   "outputs": [],
   "source": [
    "results_val_df = generate_result_frame(train_x, train_y, val_x, val_y)\n",
    "results_val_df"
   ]
  },
  {
   "cell_type": "markdown",
   "id": "447127fe-d20a-42c9-9175-025c99217af6",
   "metadata": {
    "tags": []
   },
   "source": [
    "### Groundtruth vs. Prediction plots"
   ]
  },
  {
   "cell_type": "markdown",
   "id": "f0eabf83-5163-4f42-bc87-8d9d0b72e7cf",
   "metadata": {},
   "source": [
    "**Generating each of the following plots may take a while:**"
   ]
  },
  {
   "cell_type": "code",
   "execution_count": null,
   "id": "fe33308b-80eb-4d4a-a1ee-3869d87fc630",
   "metadata": {},
   "outputs": [],
   "source": [
    "sns.set(rc={'figure.figsize': (15, 10)})\n",
    "sns.relplot(data=results_val_df, x='predicted', y='sasa', hue='model', col='model', s=5)"
   ]
  },
  {
   "cell_type": "code",
   "execution_count": null,
   "id": "c9de8f0d-9dbe-4744-a148-ae3e94df2419",
   "metadata": {},
   "outputs": [],
   "source": [
    "sns.set(rc={'figure.figsize': (12, 8)})\n",
    "sns.scatterplot(data=results_val_df, x='predicted', y='sasa', hue='model', s=5)"
   ]
  },
  {
   "cell_type": "code",
   "execution_count": null,
   "id": "93469878-f821-4ea0-8bd1-115d73cac547",
   "metadata": {},
   "outputs": [],
   "source": [
    "sns.set(rc={'figure.figsize': (12, 8)})\n",
    "sns.kdeplot(data=results_val_df.sample(10000), x='predicted', y='sasa', hue='model')"
   ]
  },
  {
   "cell_type": "code",
   "execution_count": null,
   "id": "e44203ff-57f0-4fab-a322-e15c8fecf5ab",
   "metadata": {},
   "outputs": [],
   "source": [
    "rvd = results_val_df\n",
    "sns.set(rc={'figure.figsize': (15, 10)})\n",
    "\n",
    "f, axes = plt.subplots(4, 1)\n",
    " \n",
    "for index, model_name in enumerate(rvd['model'].unique()):\n",
    "    model_data = rvd[rvd['model'] == model_name]\n",
    "    bp = sns.boxplot(x=\"position\", y=\"abs_error\", data=model_data, ax=axes[index])\n",
    "    bp.set_title(f'Model {model_name}')\n",
    "    u.show_only_nth_ticklabel(bp, n=5)\n",
    "\n",
    "f.tight_layout()"
   ]
  },
  {
   "cell_type": "markdown",
   "id": "e7242575-d0a1-4d31-8e36-25a98b1f9f4e",
   "metadata": {},
   "source": [
    "**Compute dataframe with mean absolute error per sample and model:**"
   ]
  },
  {
   "cell_type": "code",
   "execution_count": null,
   "id": "84e22dc1-8e02-4cc0-946a-43001623b5c8",
   "metadata": {},
   "outputs": [],
   "source": [
    "mean_abs_errors_df = results_val_df.groupby(['id', 'model'])['abs_error'].mean().to_frame().reset_index()\n",
    "mean_abs_errors_df.head()"
   ]
  },
  {
   "cell_type": "code",
   "execution_count": null,
   "id": "6b8aaf6e-c817-4cb8-95f6-f9c137bcf39a",
   "metadata": {},
   "outputs": [],
   "source": [
    "sns.set(rc={'figure.figsize': (8, 4)})\n",
    "sns.violinplot(data=mean_abs_errors_df, x='model', y='abs_error')"
   ]
  },
  {
   "cell_type": "code",
   "execution_count": null,
   "id": "4efff1e7-7ba3-4ba9-9beb-2f9e65996c8a",
   "metadata": {},
   "outputs": [],
   "source": [
    "sns.set(rc={'figure.figsize': (8, 4)})\n",
    "sns.boxplot(data=mean_abs_errors_df, x='model', y='abs_error')"
   ]
  },
  {
   "cell_type": "markdown",
   "id": "df2b8461-99c9-4202-b8f0-8f42025eec33",
   "metadata": {
    "jp-MarkdownHeadingCollapsed": true,
    "tags": []
   },
   "source": [
    "### Individual sequences - case study"
   ]
  },
  {
   "cell_type": "markdown",
   "id": "5add5551-7f0a-408f-a729-902e0e14eda1",
   "metadata": {},
   "source": [
    "**We randomly pick few sequences from the validation set and display one scatterplot (groundtruth vs predicted) for each (model X sequence) combination.**"
   ]
  },
  {
   "cell_type": "markdown",
   "id": "a2e8aef5-b229-48f0-965a-252732f8643d",
   "metadata": {},
   "source": [
    "**Look at the columns (going from the top to the bottom) and see how the points are getting closer to the x=y line (show in red) as the model of choice changes:**"
   ]
  },
  {
   "cell_type": "code",
   "execution_count": null,
   "id": "c223b220-7e83-4830-99df-654035d00aa5",
   "metadata": {},
   "outputs": [],
   "source": [
    "rv = results_val_df\n",
    "N_RANDOM_SEQUENCES = 3\n",
    "N_BASELINE_MODELS = 4\n",
    "sequences = np.random.choice(results_val_df['id'].unique(), N_RANDOM_SEQUENCES)"
   ]
  },
  {
   "cell_type": "code",
   "execution_count": null,
   "id": "c60be89f-fde5-4aac-a351-d4bedbc71628",
   "metadata": {},
   "outputs": [],
   "source": [
    "fig, ax = plt.subplots(N_BASELINE_MODELS, N_RANDOM_SEQUENCES, sharex=True, sharey=True, figsize=(15, 10))\n",
    "for i, model_name in enumerate(results_val_df['model'].unique()):\n",
    "    for j, sequence in enumerate(sequences):\n",
    "        data = rv[(rv['id'] == sequence) & (rv['model'] == model_name)]\n",
    "        ax[i,j].scatter(data['predicted'], data['sasa'])\n",
    "        ax[i,j].set_title(f'{sequence}, {model_name}')\n",
    "        \n",
    "        line = mlines.Line2D([0, 1], [0, 1], color='red')\n",
    "        transform = ax[i,j].transAxes\n",
    "        line.set_transform(transform)\n",
    "        ax[i,j].add_line(line)"
   ]
  },
  {
   "cell_type": "markdown",
   "id": "7dcd49c6-54f1-40cd-9200-2a1286cce44a",
   "metadata": {
    "jp-MarkdownHeadingCollapsed": true,
    "tags": []
   },
   "source": [
    "### Average deviation per ANARCI position"
   ]
  },
  {
   "cell_type": "code",
   "execution_count": null,
   "id": "88fbb58c-dc01-4a78-be21-6d808b203da2",
   "metadata": {},
   "outputs": [],
   "source": [
    "devs = dict()\n",
    "for model_name in results_val_df['model'].unique():\n",
    "    dev = get_deviations_per_position(results_val_df[results_val_df['model'] == model_name],\n",
    "                                      model=model_name,\n",
    "                                      plot=True)\n",
    "    devs[model_name] = dev"
   ]
  },
  {
   "cell_type": "markdown",
   "id": "a5636b80-3c6e-49c4-be36-ef64f7271307",
   "metadata": {},
   "source": [
    "**Since the last two plots were fairly similar in shape, let us view the difference \\\n",
    "in their mean values by ANARCI position:**"
   ]
  },
  {
   "cell_type": "code",
   "execution_count": null,
   "id": "0fd34664-eadf-4c01-994b-7c05ba2c30f3",
   "metadata": {},
   "outputs": [],
   "source": [
    "diffs = devs['median_by_same_res_pos'] - devs['knn']\n",
    "diffs.index = sorted(diffs.index, key=u.anarci_column_sorter)"
   ]
  },
  {
   "cell_type": "code",
   "execution_count": null,
   "id": "7dae2701-e88b-48af-9831-d3c71e5a7b9f",
   "metadata": {},
   "outputs": [],
   "source": [
    "nice_sequence_bar_plot(diffs, \n",
    "                       xlabel='ANARCI position',\n",
    "                       ylabel='median avg2 - mean_knn (RSA units)',\n",
    "                       title=f'mean difference in deviations | median_by_same_res_pos vs. knn')"
   ]
  },
  {
   "cell_type": "markdown",
   "id": "772cbf0e-8707-4a60-992b-a1a9cac1cf87",
   "metadata": {},
   "source": [
    "**We see that for the majority of `ANARCI` positions the `knn` model performs better than `median_by_same_res_pos` model.**"
   ]
  },
  {
   "cell_type": "markdown",
   "id": "84b15e7c-be12-416d-ae45-6262fc39eecd",
   "metadata": {},
   "source": [
    "**However, there actually still is a lot of positions for which this is not the case, because usually their values are close to zero and thus not visible on the bar plot with linear y scale.**"
   ]
  },
  {
   "cell_type": "markdown",
   "id": "007c8b0c-3264-49de-94ba-35d0afa517d1",
   "metadata": {},
   "source": [
    "**Let us view counts and means of both positive and negative differences:**"
   ]
  },
  {
   "cell_type": "code",
   "execution_count": null,
   "id": "6aa79fd1-922b-4707-80c1-7160f827de90",
   "metadata": {},
   "outputs": [],
   "source": [
    "len(diffs[diffs < 0]), len(diffs[diffs > 0])"
   ]
  },
  {
   "cell_type": "code",
   "execution_count": null,
   "id": "f7b856ec-c242-4bcb-91ef-5c8ff90a7833",
   "metadata": {},
   "outputs": [],
   "source": [
    "diffs[diffs < 0].mean(), diffs[diffs > 0].mean()"
   ]
  },
  {
   "cell_type": "markdown",
   "id": "244be4e3-aaf9-40a4-ad6a-d344fe504da0",
   "metadata": {},
   "source": [
    "**While setting log scale on the y-axis, the plot looks a bit wild right now:**"
   ]
  },
  {
   "cell_type": "code",
   "execution_count": null,
   "id": "aecd159a-59df-402d-8330-35735d0d865e",
   "metadata": {},
   "outputs": [],
   "source": [
    "nice_sequence_bar_plot(diffs, \n",
    "                       xlabel='ANARCI position',\n",
    "                       ylabel='median avg2 - mean_knn (RSA units)',\n",
    "                       title=f'mean difference in deviations | median_by_same_res_pos vs. knn',\n",
    "                       ylogscale=True)"
   ]
  },
  {
   "cell_type": "markdown",
   "id": "7d32aa76-2251-467d-9f6f-42745dca08c1",
   "metadata": {},
   "source": [
    "---"
   ]
  },
  {
   "cell_type": "markdown",
   "id": "70393b95-0b98-481a-a2ee-005cd264a4f3",
   "metadata": {
    "tags": []
   },
   "source": [
    "## TRAIN vs. TEST"
   ]
  },
  {
   "cell_type": "markdown",
   "id": "0450963e-f10c-465b-81ad-50e28515890b",
   "metadata": {},
   "source": [
    "**Generate baseline model comparison grid (running this cell may take a while):**"
   ]
  },
  {
   "cell_type": "code",
   "execution_count": null,
   "id": "74378757-ad5f-432c-8727-c0ba87d35737",
   "metadata": {},
   "outputs": [],
   "source": [
    "make_baseline_hist_grid(train_x, train_y, test_x, test_y)"
   ]
  },
  {
   "cell_type": "markdown",
   "id": "2a6cc274-819d-48c1-80d2-df8cdc1a20e7",
   "metadata": {},
   "source": [
    "---"
   ]
  },
  {
   "cell_type": "markdown",
   "id": "8b1206bc-9807-461c-bd3c-5164c4408ae1",
   "metadata": {
    "jp-MarkdownHeadingCollapsed": true,
    "tags": []
   },
   "source": [
    "## Further ideas"
   ]
  },
  {
   "cell_type": "markdown",
   "id": "ee52b286-bc83-4ee8-80ae-196e61b9d198",
   "metadata": {},
   "source": [
    "- We see different results on different data sets (test vs val)..\n",
    "\n",
    "- maybe let us do bootstrap resampling + statistical testing \n",
    "to obtain more robust model comparison??"
   ]
  }
 ],
 "metadata": {
  "kernelspec": {
   "display_name": "Python 3 (ipykernel)",
   "language": "python",
   "name": "python3"
  },
  "language_info": {
   "codemirror_mode": {
    "name": "ipython",
    "version": 3
   },
   "file_extension": ".py",
   "mimetype": "text/x-python",
   "name": "python",
   "nbconvert_exporter": "python",
   "pygments_lexer": "ipython3",
   "version": "3.10.14"
  }
 },
 "nbformat": 4,
 "nbformat_minor": 5
}
