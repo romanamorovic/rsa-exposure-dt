{
 "cells": [
  {
   "cell_type": "markdown",
   "id": "122dfbc7-5b70-41d6-bb62-358eb3804a98",
   "metadata": {
    "tags": []
   },
   "source": [
    "# 00: List of models"
   ]
  },
  {
   "cell_type": "markdown",
   "id": "a962dcb5-1d5a-42d1-813c-a454cc5d8e06",
   "metadata": {},
   "source": [
    "## Setup"
   ]
  },
  {
   "cell_type": "code",
   "execution_count": 7,
   "id": "c33338f7-75dd-408b-9d5a-f1882385ccfb",
   "metadata": {},
   "outputs": [],
   "source": [
    "import pickle\n",
    "\n",
    "from sklearn.ensemble import AdaBoostRegressor, GradientBoostingRegressor, RandomForestRegressor\n",
    "from sklearn.gaussian_process import GaussianProcessRegressor\n",
    "from sklearn.isotonic import IsotonicRegression\n",
    "from sklearn.kernel_approximation import Nystroem\n",
    "from sklearn.kernel_ridge import KernelRidge\n",
    "from sklearn.linear_model import ElasticNet, Lars, Lasso, LinearRegression, MultiTaskLasso \n",
    "from sklearn.metrics import make_scorer, r2_score\n",
    "from sklearn.model_selection import cross_validate, LeaveOneGroupOut\n",
    "from sklearn.multioutput import MultiOutputRegressor, RegressorChain\n",
    "from sklearn.svm import SVR\n",
    "from sklearn.tree import DecisionTreeRegressor\n",
    "\n",
    "import bin.params as p\n",
    "import bin.utils as utils\n",
    "import bin.baseline_models as bm\n",
    "from bin.msvr.model.MSVR import MSVR"
   ]
  },
  {
   "cell_type": "code",
   "execution_count": 8,
   "id": "181b69d4-a446-49ba-8198-a6a60add5764",
   "metadata": {},
   "outputs": [],
   "source": [
    "# developer settings\n",
    "N_JOBS = -1\n",
    "VERBOSE = 0\n",
    "ERROR_SCORE = 'raise'\n",
    "RANDOM_STATE = 2"
   ]
  },
  {
   "cell_type": "code",
   "execution_count": 9,
   "id": "2683150f-02e8-4fed-8ae9-9281591cf851",
   "metadata": {},
   "outputs": [],
   "source": [
    "MODELS_FILE_PATH = f'{p.DATA_DIR}/pickles/models.p'"
   ]
  },
  {
   "cell_type": "markdown",
   "id": "ecc907f9-9b48-4af7-a197-b80ef5d8a9b7",
   "metadata": {},
   "source": [
    "---"
   ]
  },
  {
   "cell_type": "markdown",
   "id": "57ca3e4b-0088-4241-82ac-4f2fdb4c5a77",
   "metadata": {},
   "source": [
    "## Model definitions"
   ]
  },
  {
   "cell_type": "markdown",
   "id": "0ccc6e22-c784-491f-9bbb-acefcfc3e053",
   "metadata": {},
   "source": [
    "**Note: It is not possible `_` (underscore) character in model keys - that would confuse the Snakemake rule parser**"
   ]
  },
  {
   "cell_type": "code",
   "execution_count": 11,
   "id": "5e21c219-2ec9-4146-880f-2210cf421704",
   "metadata": {},
   "outputs": [],
   "source": [
    "adaboosts = {\n",
    "    1: AdaBoostRegressor(n_estimators=1, random_state=RANDOM_STATE),\n",
    "    2: AdaBoostRegressor(n_estimators=2, random_state=RANDOM_STATE),\n",
    "    4: AdaBoostRegressor(n_estimators=4, random_state=RANDOM_STATE),\n",
    "    5: AdaBoostRegressor(n_estimators=5, random_state=RANDOM_STATE),\n",
    "}\n",
    "gb = GradientBoostingRegressor(n_estimators=2, random_state=RANDOM_STATE)\n",
    "\n",
    "# ------\n",
    "# BEWARE - do not use _ character in the `models` dictionary keys!!!\n",
    "# Doing so would confuse Snakefile script and would result in errors\n",
    "# ------\n",
    "models = {\n",
    "    # baseline\n",
    "    'BLavgpos': bm.AverageForResidueAtPosition(),\n",
    "    'BLmeansamerespos': bm.StatisticForSameResidueAtPosition(statistic='mean'),\n",
    "    'BLmediansamerespos': bm.StatisticForSameResidueAtPosition(statistic='median'),\n",
    "    'BLknnwholeseqn3': bm.KNNWholeSequence(n_neighbors=3),\n",
    "    'BLknnwholeseqn10': bm.KNNWholeSequence(n_neighbors=10),\n",
    "    \n",
    "    # sklearn linear models\n",
    "    'linreg': LinearRegression(fit_intercept=True), # problem\n",
    "    'lars': Lars(), # problem\n",
    "    'elasticnet': ElasticNet(), # ???\n",
    "    'lasso': Lasso(), # problem\n",
    "    'multilasso': MultiTaskLasso(), # problem\n",
    "    \n",
    "    # misc\n",
    "    'kernelridge': KernelRidge(), # OK\n",
    "    'gaussianprocess': GaussianProcessRegressor(), # ??? dlho bezi\n",
    "\n",
    "    # svr\n",
    "    'svr': MSVR(), # https://github.com/Analytics-for-Forecasting/msvr # OK\n",
    "    'morsvr': MultiOutputRegressor(SVR(), n_jobs=N_JOBS), # ???\n",
    "    'isotonicreg': IsotonicRegression(), # problem\n",
    "    \n",
    "    # trees\n",
    "    'gradientboostingmor': MultiOutputRegressor(gb, n_jobs=N_JOBS),\n",
    "    'gradientboostingrc': RegressorChain(gb),\n",
    "    'randomforest': RandomForestRegressor(n_estimators=5, n_jobs=N_JOBS), # ok\n",
    "    'randomforest2': RandomForestRegressor(n_estimators=15, n_jobs=N_JOBS), # ok\n",
    "    'randomforest3': RandomForestRegressor(n_estimators=30, n_jobs=N_JOBS), # ok\n",
    "    'randomForestN2': RandomForestRegressor(n_estimators=2, n_jobs=N_JOBS), # ok\n",
    "    'randomForestN3': RandomForestRegressor(n_estimators=3, n_jobs=N_JOBS), # ok\n",
    "    'randomForestN5': RandomForestRegressor(n_estimators=5, n_jobs=N_JOBS), # ok\n",
    "    'randomForestN15': RandomForestRegressor(n_estimators=15, n_jobs=N_JOBS), # ok\n",
    "    'randomForestN30': RandomForestRegressor(n_estimators=30, n_jobs=N_JOBS), # ok\n",
    "    'decisiontree': DecisionTreeRegressor(), # ok\n",
    "    'adaboost': RegressorChain(adaboosts[1]), # hmmm\n",
    "    'adaboostmor': MultiOutputRegressor(adaboosts[1], n_jobs=N_JOBS), # hmm2\n",
    "    'adaboostmor5': MultiOutputRegressor(adaboosts[5], n_jobs=N_JOBS), # hmm2\n",
    "    'adaboostMorN2': MultiOutputRegressor(adaboosts[2], n_jobs=N_JOBS),\n",
    "    'adaboostMorN4': MultiOutputRegressor(adaboosts[4], n_jobs=N_JOBS),\n",
    "    'adaboostMorN5': MultiOutputRegressor(adaboosts[5], n_jobs=N_JOBS),\n",
    "}\n",
    "\n",
    "# check for invalid _ characters\n",
    "assert all('_' not in model_key for model_key in models.keys()), 'model keys cannot contain _ character, that would confuse Snakemake rule parser'\n",
    "\n",
    "# store the models\n",
    "with open(MODELS_FILE_PATH, 'wb') as models_file:\n",
    "    pickle.dump(models, models_file)"
   ]
  }
 ],
 "metadata": {
  "kernelspec": {
   "display_name": "Python 3 (ipykernel)",
   "language": "python",
   "name": "python3"
  },
  "language_info": {
   "codemirror_mode": {
    "name": "ipython",
    "version": 3
   },
   "file_extension": ".py",
   "mimetype": "text/x-python",
   "name": "python",
   "nbconvert_exporter": "python",
   "pygments_lexer": "ipython3",
   "version": "3.10.14"
  }
 },
 "nbformat": 4,
 "nbformat_minor": 5
}
