{
 "cells": [
  {
   "cell_type": "markdown",
   "id": "a20f0edb-af00-400a-9bcc-3c671f35f426",
   "metadata": {},
   "source": [
    "# One-Cluster-Out: Regional Simple"
   ]
  },
  {
   "cell_type": "code",
   "execution_count": 1,
   "id": "9bd9fc7d-ad1e-4f8d-8815-7f5e8b817a30",
   "metadata": {},
   "outputs": [],
   "source": [
    "import logging\n",
    "import os\n",
    "import pickle\n",
    "import sys \n",
    "from collections import defaultdict\n",
    "\n",
    "import abnumber\n",
    "import numpy as np\n",
    "import pandas as pd\n",
    "from sklearn.metrics import make_scorer\n",
    "from sklearn.model_selection import cross_validate, LeaveOneGroupOut\n",
    "from tqdm.notebook import tqdm \n",
    "\n",
    "import bin.baseline_models as bm\n",
    "import bin.feature_generators as fg\n",
    "import bin.params as p\n",
    "import bin.utils as utils"
   ]
  },
  {
   "cell_type": "code",
   "execution_count": 9,
   "id": "bfd02d66-2b86-478f-9197-448286d5e657",
   "metadata": {},
   "outputs": [],
   "source": [
    "# developer settings\n",
    "N_JOBS = -1 # parallel (production) \n",
    "# N_JOBS = 1 # sequential (development)\n",
    "VERBOSE = 0\n",
    "ERROR_SCORE = 'raise'\n",
    "RANDOM_STATE = 2"
   ]
  },
  {
   "cell_type": "code",
   "execution_count": 10,
   "id": "d994aec7-7593-4214-8256-e8f3ab4af5e0",
   "metadata": {
    "tags": [
     "parameters"
    ]
   },
   "outputs": [],
   "source": [
    "CHAINS = 'H'\n",
    "MODEL_NAME = 'decisiontree'\n",
    "INPUT_CLUSTER_FILE = f'{p.DATA_DIR}/csv/clustered_splits/sim80_{p.CLUSTERING_CHAINS}.csv'\n",
    "OUTPUT_FILE = f'{p.DATA_DIR}/csv/garbage/lco_regional_simple_region_sim80_randomforest2_{CHAINS}.csv'\n",
    "\n",
    "# possible values: region,position,chain,species (pick multiple options and separate by commas)\n",
    "#FEATURES = 'region,position,chain,species'\n",
    "FEATURES = 'region'"
   ]
  },
  {
   "cell_type": "code",
   "execution_count": 11,
   "id": "091a041e-463d-4b8c-95b6-d3a275094713",
   "metadata": {},
   "outputs": [],
   "source": [
    "EXPERIMENT_NAME = f'lco_regional_simple_{FEATURES}'\n",
    "PARAMS = {}"
   ]
  },
  {
   "cell_type": "code",
   "execution_count": 12,
   "id": "680d5f79-ae5a-4d9d-80a4-778bdbe7cfc6",
   "metadata": {},
   "outputs": [
    {
     "name": "stderr",
     "output_type": "stream",
     "text": [
      "INFO:papermill:model decisiontree input: ../../data/csv/clustered_splits/sim80_all.csv output: ../../data/csv/garbage/lco_regional_simple_region_sim80_randomforest2_H.csv\n"
     ]
    }
   ],
   "source": [
    "logger = utils.setup_logging(MODEL_NAME, INPUT_CLUSTER_FILE, OUTPUT_FILE)"
   ]
  },
  {
   "cell_type": "code",
   "execution_count": 13,
   "id": "603fc7c6-4f73-4066-b9c6-015edec36d31",
   "metadata": {
    "tags": []
   },
   "outputs": [
    {
     "data": {
      "text/plain": [
       "DecisionTreeRegressor()"
      ]
     },
     "execution_count": 13,
     "metadata": {},
     "output_type": "execute_result"
    }
   ],
   "source": [
    "with open('../../data/pickles/models.p', 'rb') as models_file:\n",
    "    models = pickle.load(models_file)\n",
    "    model = models[MODEL_NAME]\n",
    "model"
   ]
  },
  {
   "cell_type": "code",
   "execution_count": 14,
   "id": "b20b60a6-44a4-4b1d-925d-a1c3ba1e81bd",
   "metadata": {},
   "outputs": [],
   "source": [
    "clusters_df = pd.read_csv(INPUT_CLUSTER_FILE, index_col=0)"
   ]
  },
  {
   "cell_type": "code",
   "execution_count": 15,
   "id": "08e28830-b4ea-40aa-8828-ee9caa020fdf",
   "metadata": {},
   "outputs": [
    {
     "name": "stdout",
     "output_type": "stream",
     "text": [
      "c.shape (6572, 2) X.shape (2643, 165) Y.shape (2643, 165)\n",
      "after merge with clusters - c.shape (2643, 2) X.shape (2643, 165) Y.shape (2643, 165)\n",
      "X.shape (2643, 165) Y.shape (2643, 165)\n",
      "after transformation X.shape (2643, 165) Y.shape (2643, 165) c.shape (2643, 2)\n",
      "[FINAL] after one-hot encode X.shape (318124, 27) Y.shape (318124, 1)\n",
      "[FINAL] c.shape (318124, 2)\n"
     ]
    }
   ],
   "source": [
    "X, Y = utils.load_dataset(['train', 'val'], chains=CHAINS)\n",
    "X, Y, c = fg.generate(X, Y, c=clusters_df, model_name=MODEL_NAME, \n",
    "                      features=EXPERIMENT_NAME, params=PARAMS)"
   ]
  },
  {
   "cell_type": "code",
   "execution_count": 16,
   "id": "6477f9b7-cb1e-4daa-bb9f-24e6480563fe",
   "metadata": {},
   "outputs": [
    {
     "data": {
      "text/html": [
       "<div>\n",
       "<style scoped>\n",
       "    .dataframe tbody tr th:only-of-type {\n",
       "        vertical-align: middle;\n",
       "    }\n",
       "\n",
       "    .dataframe tbody tr th {\n",
       "        vertical-align: top;\n",
       "    }\n",
       "\n",
       "    .dataframe thead th {\n",
       "        text-align: right;\n",
       "    }\n",
       "</style>\n",
       "<table border=\"1\" class=\"dataframe\">\n",
       "  <thead>\n",
       "    <tr style=\"text-align: right;\">\n",
       "      <th></th>\n",
       "      <th>region_CDR1</th>\n",
       "      <th>region_CDR2</th>\n",
       "      <th>region_CDR3</th>\n",
       "      <th>region_FR1</th>\n",
       "      <th>region_FR2</th>\n",
       "      <th>region_FR3</th>\n",
       "      <th>region_FR4</th>\n",
       "      <th>residue_A</th>\n",
       "      <th>residue_C</th>\n",
       "      <th>residue_D</th>\n",
       "      <th>...</th>\n",
       "      <th>residue_M</th>\n",
       "      <th>residue_N</th>\n",
       "      <th>residue_P</th>\n",
       "      <th>residue_Q</th>\n",
       "      <th>residue_R</th>\n",
       "      <th>residue_S</th>\n",
       "      <th>residue_T</th>\n",
       "      <th>residue_V</th>\n",
       "      <th>residue_W</th>\n",
       "      <th>residue_Y</th>\n",
       "    </tr>\n",
       "  </thead>\n",
       "  <tbody>\n",
       "    <tr>\n",
       "      <th>0</th>\n",
       "      <td>0</td>\n",
       "      <td>0</td>\n",
       "      <td>0</td>\n",
       "      <td>1</td>\n",
       "      <td>0</td>\n",
       "      <td>0</td>\n",
       "      <td>0</td>\n",
       "      <td>0</td>\n",
       "      <td>0</td>\n",
       "      <td>0</td>\n",
       "      <td>...</td>\n",
       "      <td>0</td>\n",
       "      <td>0</td>\n",
       "      <td>0</td>\n",
       "      <td>0</td>\n",
       "      <td>0</td>\n",
       "      <td>0</td>\n",
       "      <td>0</td>\n",
       "      <td>0</td>\n",
       "      <td>0</td>\n",
       "      <td>0</td>\n",
       "    </tr>\n",
       "    <tr>\n",
       "      <th>1</th>\n",
       "      <td>0</td>\n",
       "      <td>0</td>\n",
       "      <td>0</td>\n",
       "      <td>1</td>\n",
       "      <td>0</td>\n",
       "      <td>0</td>\n",
       "      <td>0</td>\n",
       "      <td>0</td>\n",
       "      <td>0</td>\n",
       "      <td>0</td>\n",
       "      <td>...</td>\n",
       "      <td>0</td>\n",
       "      <td>0</td>\n",
       "      <td>0</td>\n",
       "      <td>0</td>\n",
       "      <td>0</td>\n",
       "      <td>0</td>\n",
       "      <td>0</td>\n",
       "      <td>1</td>\n",
       "      <td>0</td>\n",
       "      <td>0</td>\n",
       "    </tr>\n",
       "  </tbody>\n",
       "</table>\n",
       "<p>2 rows × 27 columns</p>\n",
       "</div>"
      ],
      "text/plain": [
       "   region_CDR1  region_CDR2  region_CDR3  region_FR1  region_FR2  region_FR3  \\\n",
       "0            0            0            0           1           0           0   \n",
       "1            0            0            0           1           0           0   \n",
       "\n",
       "   region_FR4  residue_A  residue_C  residue_D  ...  residue_M  residue_N  \\\n",
       "0           0          0          0          0  ...          0          0   \n",
       "1           0          0          0          0  ...          0          0   \n",
       "\n",
       "   residue_P  residue_Q  residue_R  residue_S  residue_T  residue_V  \\\n",
       "0          0          0          0          0          0          0   \n",
       "1          0          0          0          0          0          1   \n",
       "\n",
       "   residue_W  residue_Y  \n",
       "0          0          0  \n",
       "1          0          0  \n",
       "\n",
       "[2 rows x 27 columns]"
      ]
     },
     "execution_count": 16,
     "metadata": {},
     "output_type": "execute_result"
    }
   ],
   "source": [
    "X.head(n=2)"
   ]
  },
  {
   "cell_type": "code",
   "execution_count": 17,
   "id": "1d305112-d6d4-4a5e-8ba6-121c03d8d702",
   "metadata": {},
   "outputs": [
    {
     "data": {
      "text/plain": [
       "array([100. ,  36. ,  50.1, ...,   0.6,   2.1,  66.9])"
      ]
     },
     "execution_count": 17,
     "metadata": {},
     "output_type": "execute_result"
    }
   ],
   "source": [
    "Y.head(n=2) if hasattr(Y, 'head') else Y"
   ]
  },
  {
   "cell_type": "code",
   "execution_count": 18,
   "id": "a031e897-43b0-4910-ba8d-be6f192b8929",
   "metadata": {},
   "outputs": [
    {
     "data": {
      "text/html": [
       "<div>\n",
       "<style scoped>\n",
       "    .dataframe tbody tr th:only-of-type {\n",
       "        vertical-align: middle;\n",
       "    }\n",
       "\n",
       "    .dataframe tbody tr th {\n",
       "        vertical-align: top;\n",
       "    }\n",
       "\n",
       "    .dataframe thead th {\n",
       "        text-align: right;\n",
       "    }\n",
       "</style>\n",
       "<table border=\"1\" class=\"dataframe\">\n",
       "  <thead>\n",
       "    <tr style=\"text-align: right;\">\n",
       "      <th></th>\n",
       "      <th>c_sequence_id</th>\n",
       "      <th>c_cluster</th>\n",
       "    </tr>\n",
       "  </thead>\n",
       "  <tbody>\n",
       "    <tr>\n",
       "      <th>0</th>\n",
       "      <td>12E8:H</td>\n",
       "      <td>2</td>\n",
       "    </tr>\n",
       "    <tr>\n",
       "      <th>1</th>\n",
       "      <td>12E8:H</td>\n",
       "      <td>2</td>\n",
       "    </tr>\n",
       "  </tbody>\n",
       "</table>\n",
       "</div>"
      ],
      "text/plain": [
       "  c_sequence_id  c_cluster\n",
       "0        12E8:H          2\n",
       "1        12E8:H          2"
      ]
     },
     "execution_count": 18,
     "metadata": {},
     "output_type": "execute_result"
    }
   ],
   "source": [
    "c.head(n=2)"
   ]
  },
  {
   "cell_type": "markdown",
   "id": "f71ab3bb-f631-4f27-94e7-0e4c39dc571a",
   "metadata": {},
   "source": [
    "---"
   ]
  },
  {
   "cell_type": "markdown",
   "id": "eab3d96e-a98e-4cf6-905b-1d0f91432e41",
   "metadata": {},
   "source": [
    "**Following cell needs not to be ran:**"
   ]
  },
  {
   "cell_type": "raw",
   "id": "3b36a99a-557c-47fd-bb09-40edc56671fa",
   "metadata": {
    "jupyter": {
     "outputs_hidden": true
    },
    "tags": []
   },
   "source": [
    "# check if regions are conserved throughout the sequences\n",
    "regions_per_pos = defaultdict(set)\n",
    "for chain_full_id, chain_seq in tqdm(chains_dict.items()): \n",
    "    chain = abnumber.Chain(chain_seq, scheme='aho', cdr_definition='chothia')\n",
    "    for region, positions in chain.regions.items():\n",
    "        for position, residue in positions.items():\n",
    "            chain, pos_code = position.chain_type, position.format(chain_type=False)\n",
    "            regions_per_pos[pos_code].add(region)\n",
    "\n",
    "for position, regions in regions_per_pos.items():\n",
    "    if len(regions) > 1:\n",
    "        print(position, regions)\n",
    "        \n",
    "# apparently they are not, we need to annotate them using abnumber "
   ]
  },
  {
   "cell_type": "markdown",
   "id": "1c354eba-aa9f-4a6b-aa7d-34f5d8a50e72",
   "metadata": {},
   "source": [
    "---"
   ]
  },
  {
   "cell_type": "markdown",
   "id": "631ad1d4-f2f1-42cd-b287-3fb33fd0603e",
   "metadata": {},
   "source": [
    "## Clustered CV"
   ]
  },
  {
   "cell_type": "code",
   "execution_count": 19,
   "id": "e6bb2e80-68b3-4859-ba60-3ecec6cabec9",
   "metadata": {},
   "outputs": [
    {
     "data": {
      "text/plain": [
       "(318124,)"
      ]
     },
     "execution_count": 19,
     "metadata": {},
     "output_type": "execute_result"
    }
   ],
   "source": [
    "groups = c.loc[X.index, 'c_cluster']\n",
    "groups.shape"
   ]
  },
  {
   "cell_type": "code",
   "execution_count": 20,
   "id": "3cb64715-7894-417f-afc5-9c20df9c04ef",
   "metadata": {},
   "outputs": [],
   "source": [
    "split = LeaveOneGroupOut().split(X, Y, groups=groups)"
   ]
  },
  {
   "cell_type": "code",
   "execution_count": 21,
   "id": "5d03d27a-a18d-4353-a15b-c9f0053371ac",
   "metadata": {},
   "outputs": [],
   "source": [
    "loss = make_scorer(utils.avg_deviation, greater_is_better=False)"
   ]
  },
  {
   "cell_type": "code",
   "execution_count": 22,
   "id": "6c94771d-a6d3-4d4f-a6f5-896c94d18841",
   "metadata": {},
   "outputs": [],
   "source": [
    "scores = cross_validate(model, X, Y, \n",
    "                            groups=groups,\n",
    "                            n_jobs=N_JOBS,\n",
    "                            scoring=loss, \n",
    "                            verbose=VERBOSE, \n",
    "                            cv=split,\n",
    "                            return_train_score=True,\n",
    "                            return_estimator=True,\n",
    "                            error_score=ERROR_SCORE)"
   ]
  },
  {
   "cell_type": "markdown",
   "id": "f45e0030-035a-4b16-91ad-ac14b84e8298",
   "metadata": {},
   "source": [
    "___"
   ]
  },
  {
   "cell_type": "markdown",
   "id": "b5794361-1935-4180-8801-968564e8fa71",
   "metadata": {},
   "source": [
    "## Store results"
   ]
  },
  {
   "cell_type": "code",
   "execution_count": 26,
   "id": "c381b891-1c9b-4841-9a19-7eae359dd91b",
   "metadata": {
    "tags": []
   },
   "outputs": [],
   "source": [
    "scores_df = pd.DataFrame(scores).sort_index()\n",
    "# we have loss function for evaluating quality\n",
    "# https://stackoverflow.com/questions/21443865/scikit-learn-cross-validation-negative-values-with-mean-squared-error\n",
    "# using minus for loss metric is recommended way - otherwise all the scores will be negative!\n",
    "scores_df['train_score'] = -scores_df['train_score']\n",
    "scores_df['test_score'] = -scores_df['test_score']\n",
    "scores_df['cv_split_id'] = scores_df.index\n",
    "scores_df['model'] = MODEL_NAME"
   ]
  },
  {
   "cell_type": "code",
   "execution_count": 27,
   "id": "849958a3-35f1-414a-862a-937773259d44",
   "metadata": {
    "tags": []
   },
   "outputs": [
    {
     "data": {
      "text/html": [
       "<div>\n",
       "<style scoped>\n",
       "    .dataframe tbody tr th:only-of-type {\n",
       "        vertical-align: middle;\n",
       "    }\n",
       "\n",
       "    .dataframe tbody tr th {\n",
       "        vertical-align: top;\n",
       "    }\n",
       "\n",
       "    .dataframe thead th {\n",
       "        text-align: right;\n",
       "    }\n",
       "</style>\n",
       "<table border=\"1\" class=\"dataframe\">\n",
       "  <thead>\n",
       "    <tr style=\"text-align: right;\">\n",
       "      <th></th>\n",
       "      <th>fit_time</th>\n",
       "      <th>score_time</th>\n",
       "      <th>estimator</th>\n",
       "      <th>test_score</th>\n",
       "      <th>train_score</th>\n",
       "      <th>cv_split_id</th>\n",
       "      <th>model</th>\n",
       "    </tr>\n",
       "  </thead>\n",
       "  <tbody>\n",
       "    <tr>\n",
       "      <th>0</th>\n",
       "      <td>2.635499</td>\n",
       "      <td>0.023269</td>\n",
       "      <td>DecisionTreeRegressor()</td>\n",
       "      <td>14.640325</td>\n",
       "      <td>14.435588</td>\n",
       "      <td>0</td>\n",
       "      <td>decisiontree</td>\n",
       "    </tr>\n",
       "    <tr>\n",
       "      <th>1</th>\n",
       "      <td>1.161194</td>\n",
       "      <td>0.121765</td>\n",
       "      <td>DecisionTreeRegressor()</td>\n",
       "      <td>14.473530</td>\n",
       "      <td>14.599929</td>\n",
       "      <td>1</td>\n",
       "      <td>decisiontree</td>\n",
       "    </tr>\n",
       "    <tr>\n",
       "      <th>2</th>\n",
       "      <td>3.087378</td>\n",
       "      <td>0.007994</td>\n",
       "      <td>DecisionTreeRegressor()</td>\n",
       "      <td>15.013484</td>\n",
       "      <td>14.459733</td>\n",
       "      <td>2</td>\n",
       "      <td>decisiontree</td>\n",
       "    </tr>\n",
       "  </tbody>\n",
       "</table>\n",
       "</div>"
      ],
      "text/plain": [
       "   fit_time  score_time                estimator  test_score  train_score  \\\n",
       "0  2.635499    0.023269  DecisionTreeRegressor()   14.640325    14.435588   \n",
       "1  1.161194    0.121765  DecisionTreeRegressor()   14.473530    14.599929   \n",
       "2  3.087378    0.007994  DecisionTreeRegressor()   15.013484    14.459733   \n",
       "\n",
       "   cv_split_id         model  \n",
       "0            0  decisiontree  \n",
       "1            1  decisiontree  \n",
       "2            2  decisiontree  "
      ]
     },
     "execution_count": 27,
     "metadata": {},
     "output_type": "execute_result"
    }
   ],
   "source": [
    "scores_df.head(n=3)"
   ]
  },
  {
   "cell_type": "code",
   "execution_count": 25,
   "id": "8d93745d-c230-4f26-b216-6d3c05b13290",
   "metadata": {},
   "outputs": [],
   "source": [
    "scores_df.to_csv(OUTPUT_FILE)"
   ]
  },
  {
   "cell_type": "code",
   "execution_count": null,
   "id": "e385ce67-7ad9-418f-9cf9-12e17b904cd0",
   "metadata": {},
   "outputs": [],
   "source": []
  }
 ],
 "metadata": {
  "kernelspec": {
   "display_name": "Python 3 (ipykernel)",
   "language": "python",
   "name": "python3"
  },
  "language_info": {
   "codemirror_mode": {
    "name": "ipython",
    "version": 3
   },
   "file_extension": ".py",
   "mimetype": "text/x-python",
   "name": "python",
   "nbconvert_exporter": "python",
   "pygments_lexer": "ipython3",
   "version": "3.8.12"
  }
 },
 "nbformat": 4,
 "nbformat_minor": 5
}
