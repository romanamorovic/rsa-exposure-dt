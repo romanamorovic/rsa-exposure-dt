{
 "cells": [
  {
   "cell_type": "markdown",
   "id": "78945a96-5d30-4992-be61-971f1f1bf11c",
   "metadata": {
    "tags": []
   },
   "source": [
    "# 3b. Predict on the TEST set"
   ]
  },
  {
   "cell_type": "markdown",
   "id": "5a9e4907-3dc0-4340-a947-357ac60d0f5b",
   "metadata": {
    "tags": []
   },
   "source": [
    "## Setup"
   ]
  },
  {
   "cell_type": "code",
   "execution_count": 50,
   "id": "90b7176e-dc96-4af8-bb22-dd933d1947a9",
   "metadata": {},
   "outputs": [],
   "source": [
    "import sys\n",
    "sys.path.append('../..')\n",
    "\n",
    "import math\n",
    "import pickle\n",
    "import time\n",
    "\n",
    "#import abnumber\n",
    "import matplotlib.pyplot as plt\n",
    "import numpy as np\n",
    "import pandas as pd\n",
    "import seaborn as sns\n",
    "from tqdm.notebook import tqdm\n",
    "\n",
    "import bin.feature_generators as fg\n",
    "import bin.params as p\n",
    "import bin.utils as u"
   ]
  },
  {
   "cell_type": "code",
   "execution_count": 51,
   "id": "764d67e2-cf6b-4863-b809-d90c0f3f7130",
   "metadata": {},
   "outputs": [],
   "source": [
    "sns.set_theme()"
   ]
  },
  {
   "cell_type": "markdown",
   "id": "e7030b23-5e09-4b34-bdfe-ca9e4d73980b",
   "metadata": {},
   "source": [
    "**Papermill parameters:**"
   ]
  },
  {
   "cell_type": "code",
   "execution_count": 52,
   "id": "bccf39bd-73ab-4d13-b224-6404c17d677c",
   "metadata": {
    "tags": [
     "parameters"
    ]
   },
   "outputs": [],
   "source": [
    "MODEL_NAME = 'randomForestN5'\n",
    "FEATURES = 'lco_cont_window_r3_all_H'"
   ]
  },
  {
   "cell_type": "code",
   "execution_count": 53,
   "id": "25650b84-1f1d-497f-ae50-604afe3aa4e7",
   "metadata": {},
   "outputs": [],
   "source": [
    "PARAMS = {\n",
    "    'compress': False,\n",
    "    'preserve_seq_ids': True,\n",
    "}"
   ]
  },
  {
   "cell_type": "markdown",
   "id": "5a12e9d5-f9f6-4030-afdb-a48e48feb4f3",
   "metadata": {},
   "source": [
    "**Create directories to store results in:**"
   ]
  },
  {
   "cell_type": "code",
   "execution_count": 54,
   "id": "22d6322a-f75e-45f1-8d05-b8143a49f47e",
   "metadata": {},
   "outputs": [],
   "source": [
    "TEST_Y_RAW_DIR_PATH = f'{p.DATA_DIR}/csv/test/raw_y'\n",
    "command = f'mkdir -p {TEST_Y_RAW_DIR_PATH}'\n",
    "! $command"
   ]
  },
  {
   "cell_type": "code",
   "execution_count": 55,
   "id": "b5bb9020-1434-4ccc-b350-1eedcbea1000",
   "metadata": {},
   "outputs": [],
   "source": [
    "TEST_PREDICTIONS_RAW_DIR_PATH = f'{p.DATA_DIR}/csv/test/raw_predictions'\n",
    "command = f'mkdir -p {TEST_PREDICTIONS_RAW_DIR_PATH}'\n",
    "! $command"
   ]
  },
  {
   "cell_type": "code",
   "execution_count": 56,
   "id": "67f9498b-88d3-46a0-a1f7-2feaad0cb790",
   "metadata": {},
   "outputs": [],
   "source": [
    "TEST_PREDICTIONS_DIR_PATH = f'{p.DATA_DIR}/csv/test/predictions'\n",
    "command = f'mkdir -p {TEST_PREDICTIONS_DIR_PATH}'\n",
    "! $command"
   ]
  },
  {
   "cell_type": "markdown",
   "id": "9ba91c66-a4ff-4b74-9355-d92ff0c05b63",
   "metadata": {},
   "source": [
    "**Load the test dataset:**"
   ]
  },
  {
   "cell_type": "code",
   "execution_count": 57,
   "id": "1fcea967-59fd-4fd9-85f9-b932257320c3",
   "metadata": {},
   "outputs": [],
   "source": [
    "chains = FEATURES.split('_')[-1]\n",
    "X_orig, Y_orig = u.load_dataset('test', chains=chains)\n",
    "X, Y = X_orig.copy(), Y_orig.copy()"
   ]
  },
  {
   "cell_type": "markdown",
   "id": "6d39cf90-129d-4c5a-8a90-63528313746f",
   "metadata": {},
   "source": [
    "**Transform the data based on which feature representation did we choose:**"
   ]
  },
  {
   "cell_type": "code",
   "execution_count": 58,
   "id": "3aecec2c-6bc0-4378-ab38-887f79a5c081",
   "metadata": {},
   "outputs": [
    {
     "name": "stdout",
     "output_type": "stream",
     "text": [
      "lco_cont_window_r3_all_H\n",
      "X.shape (643, 165) Y.shape (643, 165)\n",
      "after drop_nondata_columns: X.shape (643, 164) Y.shape (643, 164)\n",
      "after _add_sequence_end: X.shape (643, 170) Y.shape (643, 170)\n",
      "after window transforms: X_window.shape (105452, 9) Y_window.shape (105452, 1)\n",
      "[FINAL] X.shape (105452, 156) Y.shape (105452, 1)\n"
     ]
    },
    {
     "data": {
      "text/plain": [
       "((105452, 155), (105452,), (105452,))"
      ]
     },
     "execution_count": 58,
     "metadata": {},
     "output_type": "execute_result"
    }
   ],
   "source": [
    "X, Y, _ = fg.generate(X, Y, c=None, model_name=MODEL_NAME, \n",
    "                   features=FEATURES, params=PARAMS)\n",
    "ids = X[X.columns[-1]].reset_index(drop=True)\n",
    "X.drop(columns = X.columns[-1], inplace=True)\n",
    "X.shape, Y.shape, ids.shape"
   ]
  },
  {
   "cell_type": "code",
   "execution_count": 63,
   "id": "6cfd77f5-e36d-4cdd-a920-3f1cd2fc0b29",
   "metadata": {},
   "outputs": [
    {
     "data": {
      "text/plain": [
       "(643, 164)"
      ]
     },
     "execution_count": 63,
     "metadata": {},
     "output_type": "execute_result"
    }
   ],
   "source": [
    "N_SEQUENCES = len(ids.unique())\n",
    "N_POSITIONS = len(X_orig.columns)-1 # -1 -> since ID column does not count\n",
    "N_SEQUENCES, N_POSITIONS"
   ]
  },
  {
   "cell_type": "code",
   "execution_count": 64,
   "id": "a548d092-8842-4295-bcc1-76007c5756c6",
   "metadata": {},
   "outputs": [
    {
     "data": {
      "text/html": [
       "<div>\n",
       "<style scoped>\n",
       "    .dataframe tbody tr th:only-of-type {\n",
       "        vertical-align: middle;\n",
       "    }\n",
       "\n",
       "    .dataframe tbody tr th {\n",
       "        vertical-align: top;\n",
       "    }\n",
       "\n",
       "    .dataframe thead th {\n",
       "        text-align: right;\n",
       "    }\n",
       "</style>\n",
       "<table border=\"1\" class=\"dataframe\">\n",
       "  <thead>\n",
       "    <tr style=\"text-align: right;\">\n",
       "      <th></th>\n",
       "      <th>0</th>\n",
       "      <th>1</th>\n",
       "      <th>2</th>\n",
       "      <th>3</th>\n",
       "      <th>4</th>\n",
       "      <th>5</th>\n",
       "      <th>6</th>\n",
       "      <th>7</th>\n",
       "      <th>8</th>\n",
       "      <th>9</th>\n",
       "      <th>...</th>\n",
       "      <th>145</th>\n",
       "      <th>146</th>\n",
       "      <th>147</th>\n",
       "      <th>148</th>\n",
       "      <th>149</th>\n",
       "      <th>150</th>\n",
       "      <th>151</th>\n",
       "      <th>152</th>\n",
       "      <th>153</th>\n",
       "      <th>154</th>\n",
       "    </tr>\n",
       "  </thead>\n",
       "  <tbody>\n",
       "    <tr>\n",
       "      <th>0</th>\n",
       "      <td>0</td>\n",
       "      <td>0</td>\n",
       "      <td>0</td>\n",
       "      <td>0</td>\n",
       "      <td>0</td>\n",
       "      <td>0</td>\n",
       "      <td>0</td>\n",
       "      <td>0</td>\n",
       "      <td>0</td>\n",
       "      <td>0</td>\n",
       "      <td>...</td>\n",
       "      <td>0</td>\n",
       "      <td>0</td>\n",
       "      <td>0</td>\n",
       "      <td>0</td>\n",
       "      <td>0</td>\n",
       "      <td>0</td>\n",
       "      <td>0</td>\n",
       "      <td>0</td>\n",
       "      <td>0</td>\n",
       "      <td>0.0</td>\n",
       "    </tr>\n",
       "  </tbody>\n",
       "</table>\n",
       "<p>1 rows × 155 columns</p>\n",
       "</div>"
      ],
      "text/plain": [
       "   0    1    2    3    4    5    6    7    8    9    ...  145  146  147  148  \\\n",
       "0    0    0    0    0    0    0    0    0    0    0  ...    0    0    0    0   \n",
       "\n",
       "   149  150  151  152  153  154  \n",
       "0    0    0    0    0    0  0.0  \n",
       "\n",
       "[1 rows x 155 columns]"
      ]
     },
     "execution_count": 64,
     "metadata": {},
     "output_type": "execute_result"
    }
   ],
   "source": [
    "X.head(n=1)"
   ]
  },
  {
   "cell_type": "code",
   "execution_count": 65,
   "id": "fb291e0e-c5ce-4b35-8bc3-62299f46f1da",
   "metadata": {},
   "outputs": [
    {
     "data": {
      "text/plain": [
       "array([-1. , -1. , -1. , ..., 58.8, 73.3, 71.5])"
      ]
     },
     "execution_count": 65,
     "metadata": {},
     "output_type": "execute_result"
    }
   ],
   "source": [
    "Y if type(Y) is np.ndarray else Y.head(n=1)"
   ]
  },
  {
   "cell_type": "code",
   "execution_count": 66,
   "id": "938fbc1b-4670-489b-9c0c-c063b4aa5ab5",
   "metadata": {},
   "outputs": [
    {
     "data": {
      "text/plain": [
       "0    6LCS:H\n",
       "1    6LDV:H\n",
       "2    6LDW:H\n",
       "Name: 156, dtype: object"
      ]
     },
     "execution_count": 66,
     "metadata": {},
     "output_type": "execute_result"
    }
   ],
   "source": [
    "ids.head(n=3)"
   ]
  },
  {
   "cell_type": "markdown",
   "id": "acbc5ad4-57f7-4773-9764-8996a3f45d55",
   "metadata": {},
   "source": [
    "**Load the trained model:**"
   ]
  },
  {
   "cell_type": "code",
   "execution_count": 67,
   "id": "eec2a1bd-685d-4b98-818e-402e95e0152d",
   "metadata": {},
   "outputs": [],
   "source": [
    "with open(f'{p.DATA_DIR}/pickles/trained-test-models/{FEATURES}_{MODEL_NAME}.p', \n",
    "          'rb') as trained_model_file:\n",
    "    model = pickle.load(trained_model_file)"
   ]
  },
  {
   "cell_type": "markdown",
   "id": "b974c345-0532-4037-b811-f39bcf8171bb",
   "metadata": {},
   "source": [
    "---"
   ]
  },
  {
   "cell_type": "markdown",
   "id": "f1b3bef6-94fe-4e74-9aef-31ba8408ae54",
   "metadata": {
    "tags": []
   },
   "source": [
    "## Predict"
   ]
  },
  {
   "cell_type": "code",
   "execution_count": 68,
   "id": "dbd66bbb-e5c5-436f-b43a-30d15bcea05f",
   "metadata": {},
   "outputs": [
    {
     "name": "stdout",
     "output_type": "stream",
     "text": [
      "Prediction took 0.16s, the result datatype is <class 'numpy.ndarray'> and shape (105452,)\n"
     ]
    }
   ],
   "source": [
    "predict_start = time.time()\n",
    "predictions = model.predict(X).round(2)\n",
    "predict_end = time.time()\n",
    "print(f'Prediction took {predict_end-predict_start:.2f}s, the result datatype is {type(predictions)} and shape {predictions.shape}')"
   ]
  },
  {
   "cell_type": "markdown",
   "id": "57cc5177-15b7-4b96-9da3-13c8a63e63aa",
   "metadata": {},
   "source": [
    "**If predictions are stored in `np.array`, perform the conversion to the `whole_sequence`-like dataframe:**"
   ]
  },
  {
   "cell_type": "code",
   "execution_count": 69,
   "id": "4ce250b6-cfba-4b50-9739-18feec94a49a",
   "metadata": {},
   "outputs": [
    {
     "data": {
      "text/plain": [
       "array([-1.        , -1.        , -1.        , ..., 72.12288016,\n",
       "       72.12288016, 72.12288016])"
      ]
     },
     "execution_count": 69,
     "metadata": {},
     "output_type": "execute_result"
    }
   ],
   "source": [
    "predictions"
   ]
  },
  {
   "cell_type": "code",
   "execution_count": 70,
   "id": "c89abbbe-808e-4f83-8c7f-9f73ef171d93",
   "metadata": {},
   "outputs": [
    {
     "data": {
      "application/vnd.jupyter.widget-view+json": {
       "model_id": "bebfe58c6f0e48f882ce7ba69e4d8a1c",
       "version_major": 2,
       "version_minor": 0
      },
      "text/plain": [
       "Processing individual predictions...:   0%|          | 0/105452 [00:00<?, ?it/s]"
      ]
     },
     "metadata": {},
     "output_type": "display_data"
    }
   ],
   "source": [
    "if type(predictions) is np.ndarray:\n",
    "    # convert to dataframe\n",
    "    Y_pred = Y_orig.copy()\n",
    "    Y_pred.index = Y_orig['Id']\n",
    "    Y_pred.drop(columns='Id', inplace=True)\n",
    "    for i, p in tqdm(enumerate(predictions), total=len(predictions), \n",
    "                     desc='Processing individual predictions...'):\n",
    "        seq_id = ids.iloc[i % N_SEQUENCES]\n",
    "        x_index = math.floor(i / N_SEQUENCES)\n",
    "        pos_id = X_orig.columns[x_index+1] # starting from 1 as 0 is 'id'\n",
    "        Y_pred.loc[seq_id, pos_id] = predictions[i]\n",
    "    Y_pred = Y_pred.replace(-1, np.nan)\n",
    "    predictions = Y_pred"
   ]
  },
  {
   "cell_type": "markdown",
   "id": "cf9475a3-dacf-4081-9998-99ddef42f490",
   "metadata": {},
   "source": [
    "**Replace `-1` values by `np.nan`:**"
   ]
  },
  {
   "cell_type": "code",
   "execution_count": 71,
   "id": "ca96988e-d72a-4e71-a89e-314f786b9c26",
   "metadata": {},
   "outputs": [],
   "source": [
    "predictions = predictions.replace(-1, np.nan)"
   ]
  },
  {
   "cell_type": "code",
   "execution_count": 72,
   "id": "ed6345b0-c234-4be1-8a35-78aef9bb4a5a",
   "metadata": {},
   "outputs": [
    {
     "data": {
      "text/html": [
       "<div>\n",
       "<style scoped>\n",
       "    .dataframe tbody tr th:only-of-type {\n",
       "        vertical-align: middle;\n",
       "    }\n",
       "\n",
       "    .dataframe tbody tr th {\n",
       "        vertical-align: top;\n",
       "    }\n",
       "\n",
       "    .dataframe thead th {\n",
       "        text-align: right;\n",
       "    }\n",
       "</style>\n",
       "<table border=\"1\" class=\"dataframe\">\n",
       "  <thead>\n",
       "    <tr style=\"text-align: right;\">\n",
       "      <th></th>\n",
       "      <th>1</th>\n",
       "      <th>2</th>\n",
       "      <th>3</th>\n",
       "      <th>4</th>\n",
       "      <th>5</th>\n",
       "      <th>6</th>\n",
       "      <th>7</th>\n",
       "      <th>8</th>\n",
       "      <th>9</th>\n",
       "      <th>10</th>\n",
       "      <th>...</th>\n",
       "      <th>141</th>\n",
       "      <th>142</th>\n",
       "      <th>143</th>\n",
       "      <th>143A</th>\n",
       "      <th>144</th>\n",
       "      <th>145</th>\n",
       "      <th>146</th>\n",
       "      <th>147</th>\n",
       "      <th>148</th>\n",
       "      <th>149</th>\n",
       "    </tr>\n",
       "    <tr>\n",
       "      <th>Id</th>\n",
       "      <th></th>\n",
       "      <th></th>\n",
       "      <th></th>\n",
       "      <th></th>\n",
       "      <th></th>\n",
       "      <th></th>\n",
       "      <th></th>\n",
       "      <th></th>\n",
       "      <th></th>\n",
       "      <th></th>\n",
       "      <th></th>\n",
       "      <th></th>\n",
       "      <th></th>\n",
       "      <th></th>\n",
       "      <th></th>\n",
       "      <th></th>\n",
       "      <th></th>\n",
       "      <th></th>\n",
       "      <th></th>\n",
       "      <th></th>\n",
       "      <th></th>\n",
       "    </tr>\n",
       "  </thead>\n",
       "  <tbody>\n",
       "    <tr>\n",
       "      <th>6LCS:H</th>\n",
       "      <td>NaN</td>\n",
       "      <td>68.277048</td>\n",
       "      <td>53.040889</td>\n",
       "      <td>9.399539</td>\n",
       "      <td>50.834599</td>\n",
       "      <td>7.490667</td>\n",
       "      <td>33.560932</td>\n",
       "      <td>NaN</td>\n",
       "      <td>52.820000</td>\n",
       "      <td>53.102129</td>\n",
       "      <td>...</td>\n",
       "      <td>61.015999</td>\n",
       "      <td>17.554905</td>\n",
       "      <td>7.922589</td>\n",
       "      <td>NaN</td>\n",
       "      <td>38.513904</td>\n",
       "      <td>1.080000</td>\n",
       "      <td>23.678614</td>\n",
       "      <td>2.840000</td>\n",
       "      <td>5.970000</td>\n",
       "      <td>55.14800</td>\n",
       "    </tr>\n",
       "    <tr>\n",
       "      <th>6LDV:H</th>\n",
       "      <td>NaN</td>\n",
       "      <td>89.613333</td>\n",
       "      <td>49.025000</td>\n",
       "      <td>6.660000</td>\n",
       "      <td>62.126667</td>\n",
       "      <td>6.738833</td>\n",
       "      <td>47.661058</td>\n",
       "      <td>NaN</td>\n",
       "      <td>43.780397</td>\n",
       "      <td>31.406057</td>\n",
       "      <td>...</td>\n",
       "      <td>59.251941</td>\n",
       "      <td>24.989066</td>\n",
       "      <td>12.517829</td>\n",
       "      <td>NaN</td>\n",
       "      <td>27.062260</td>\n",
       "      <td>1.131882</td>\n",
       "      <td>14.886999</td>\n",
       "      <td>4.798802</td>\n",
       "      <td>20.876986</td>\n",
       "      <td>72.12288</td>\n",
       "    </tr>\n",
       "  </tbody>\n",
       "</table>\n",
       "<p>2 rows × 164 columns</p>\n",
       "</div>"
      ],
      "text/plain": [
       "         1          2          3         4          5         6          7  \\\n",
       "Id                                                                           \n",
       "6LCS:H NaN  68.277048  53.040889  9.399539  50.834599  7.490667  33.560932   \n",
       "6LDV:H NaN  89.613333  49.025000  6.660000  62.126667  6.738833  47.661058   \n",
       "\n",
       "         8          9         10  ...        141        142        143  143A  \\\n",
       "Id                                ...                                          \n",
       "6LCS:H NaN  52.820000  53.102129  ...  61.015999  17.554905   7.922589   NaN   \n",
       "6LDV:H NaN  43.780397  31.406057  ...  59.251941  24.989066  12.517829   NaN   \n",
       "\n",
       "              144       145        146       147        148       149  \n",
       "Id                                                                     \n",
       "6LCS:H  38.513904  1.080000  23.678614  2.840000   5.970000  55.14800  \n",
       "6LDV:H  27.062260  1.131882  14.886999  4.798802  20.876986  72.12288  \n",
       "\n",
       "[2 rows x 164 columns]"
      ]
     },
     "execution_count": 72,
     "metadata": {},
     "output_type": "execute_result"
    }
   ],
   "source": [
    "predictions.head(n=2)"
   ]
  },
  {
   "cell_type": "markdown",
   "id": "e2ca1d56-e1a9-4092-949d-b3be05d3c64f",
   "metadata": {},
   "source": [
    "**Save raw `y` and `predictions` objects so we can use the raw data in other notebooks:**"
   ]
  },
  {
   "cell_type": "code",
   "execution_count": 73,
   "id": "1076f89a-c5a4-44aa-b678-247bc27c4dba",
   "metadata": {},
   "outputs": [],
   "source": [
    "raw_y_path = f'{TEST_Y_RAW_DIR_PATH}/{FEATURES}_{MODEL_NAME}.csv'\n",
    "Y_orig.to_csv(raw_y_path)"
   ]
  },
  {
   "cell_type": "code",
   "execution_count": 74,
   "id": "b4f8e152-e065-4fab-89c3-e56fa59f21d7",
   "metadata": {},
   "outputs": [],
   "source": [
    "raw_preds_path = f'{TEST_PREDICTIONS_RAW_DIR_PATH}/{FEATURES}_{MODEL_NAME}.csv'\n",
    "predictions.to_csv(raw_preds_path)"
   ]
  },
  {
   "cell_type": "markdown",
   "id": "ee0c4fa7-0d79-4831-aef5-a36ec448f8a8",
   "metadata": {},
   "source": [
    "**Generate `sequence/position/sasa_prediction` dataframe (very nice structure for processing the results later on):**"
   ]
  },
  {
   "cell_type": "code",
   "execution_count": 75,
   "id": "c129c9f5-ac29-4e48-bc82-a290b09e4fd7",
   "metadata": {},
   "outputs": [
    {
     "data": {
      "text/html": [
       "<div>\n",
       "<style scoped>\n",
       "    .dataframe tbody tr th:only-of-type {\n",
       "        vertical-align: middle;\n",
       "    }\n",
       "\n",
       "    .dataframe tbody tr th {\n",
       "        vertical-align: top;\n",
       "    }\n",
       "\n",
       "    .dataframe thead th {\n",
       "        text-align: right;\n",
       "    }\n",
       "</style>\n",
       "<table border=\"1\" class=\"dataframe\">\n",
       "  <thead>\n",
       "    <tr style=\"text-align: right;\">\n",
       "      <th></th>\n",
       "      <th>sequence_id</th>\n",
       "      <th>position</th>\n",
       "      <th>prediction</th>\n",
       "    </tr>\n",
       "  </thead>\n",
       "  <tbody>\n",
       "    <tr>\n",
       "      <th>0</th>\n",
       "      <td>6LCS:H</td>\n",
       "      <td>1</td>\n",
       "      <td>NaN</td>\n",
       "    </tr>\n",
       "    <tr>\n",
       "      <th>1</th>\n",
       "      <td>6LDV:H</td>\n",
       "      <td>1</td>\n",
       "      <td>NaN</td>\n",
       "    </tr>\n",
       "    <tr>\n",
       "      <th>2</th>\n",
       "      <td>6LDW:H</td>\n",
       "      <td>1</td>\n",
       "      <td>NaN</td>\n",
       "    </tr>\n",
       "    <tr>\n",
       "      <th>3</th>\n",
       "      <td>6LDX:H</td>\n",
       "      <td>1</td>\n",
       "      <td>97.143667</td>\n",
       "    </tr>\n",
       "    <tr>\n",
       "      <th>4</th>\n",
       "      <td>6LDY:H</td>\n",
       "      <td>1</td>\n",
       "      <td>NaN</td>\n",
       "    </tr>\n",
       "    <tr>\n",
       "      <th>...</th>\n",
       "      <td>...</td>\n",
       "      <td>...</td>\n",
       "      <td>...</td>\n",
       "    </tr>\n",
       "    <tr>\n",
       "      <th>105447</th>\n",
       "      <td>7WRV:H</td>\n",
       "      <td>149</td>\n",
       "      <td>NaN</td>\n",
       "    </tr>\n",
       "    <tr>\n",
       "      <th>105448</th>\n",
       "      <td>7X08:H</td>\n",
       "      <td>149</td>\n",
       "      <td>72.122880</td>\n",
       "    </tr>\n",
       "    <tr>\n",
       "      <th>105449</th>\n",
       "      <td>7X9E:H</td>\n",
       "      <td>149</td>\n",
       "      <td>72.122880</td>\n",
       "    </tr>\n",
       "    <tr>\n",
       "      <th>105450</th>\n",
       "      <td>7Z0X:H</td>\n",
       "      <td>149</td>\n",
       "      <td>72.122880</td>\n",
       "    </tr>\n",
       "    <tr>\n",
       "      <th>105451</th>\n",
       "      <td>7Z0Y:H</td>\n",
       "      <td>149</td>\n",
       "      <td>72.122880</td>\n",
       "    </tr>\n",
       "  </tbody>\n",
       "</table>\n",
       "<p>105452 rows × 3 columns</p>\n",
       "</div>"
      ],
      "text/plain": [
       "       sequence_id position  prediction\n",
       "0           6LCS:H        1         NaN\n",
       "1           6LDV:H        1         NaN\n",
       "2           6LDW:H        1         NaN\n",
       "3           6LDX:H        1   97.143667\n",
       "4           6LDY:H        1         NaN\n",
       "...            ...      ...         ...\n",
       "105447      7WRV:H      149         NaN\n",
       "105448      7X08:H      149   72.122880\n",
       "105449      7X9E:H      149   72.122880\n",
       "105450      7Z0X:H      149   72.122880\n",
       "105451      7Z0Y:H      149   72.122880\n",
       "\n",
       "[105452 rows x 3 columns]"
      ]
     },
     "execution_count": 75,
     "metadata": {},
     "output_type": "execute_result"
    }
   ],
   "source": [
    "res_df = u.positionize_sasa_df(predictions, ids)\n",
    "res_df"
   ]
  },
  {
   "cell_type": "markdown",
   "id": "591b847a-9c9f-46b6-8569-39c95fbece91",
   "metadata": {},
   "source": [
    "**Store it:**"
   ]
  },
  {
   "cell_type": "code",
   "execution_count": 76,
   "id": "75ab4892-3e5e-4239-8e81-6dcc292ac586",
   "metadata": {},
   "outputs": [],
   "source": [
    "preds_path = f'{TEST_PREDICTIONS_DIR_PATH}/{FEATURES}_{MODEL_NAME}.csv'\n",
    "res_df.to_csv(preds_path)"
   ]
  },
  {
   "cell_type": "code",
   "execution_count": null,
   "id": "a4fc6977-7c24-4a83-a3af-c6ef7596eccd",
   "metadata": {},
   "outputs": [],
   "source": []
  }
 ],
 "metadata": {
  "kernelspec": {
   "display_name": "Python 3 (ipykernel)",
   "language": "python",
   "name": "python3"
  },
  "language_info": {
   "codemirror_mode": {
    "name": "ipython",
    "version": 3
   },
   "file_extension": ".py",
   "mimetype": "text/x-python",
   "name": "python",
   "nbconvert_exporter": "python",
   "pygments_lexer": "ipython3",
   "version": "3.10.14"
  }
 },
 "nbformat": 4,
 "nbformat_minor": 5
}
