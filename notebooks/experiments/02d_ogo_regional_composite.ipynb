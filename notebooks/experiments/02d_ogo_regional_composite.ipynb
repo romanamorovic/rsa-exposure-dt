{
 "cells": [
  {
   "cell_type": "markdown",
   "id": "a20f0edb-af00-400a-9bcc-3c671f35f426",
   "metadata": {},
   "source": [
    "# One-Cluster-Out: Regional Composite"
   ]
  },
  {
   "cell_type": "markdown",
   "id": "e5483e53-eea7-43b3-b265-b653a7d107ca",
   "metadata": {},
   "source": [
    "Idea here is to firstly predict exposure using baseline `KNNwholeseqN3` model and use the prediction as feature for further prediction of the final exposure value using some of the more advanced models."
   ]
  },
  {
   "cell_type": "code",
   "execution_count": 1,
   "id": "9bd9fc7d-ad1e-4f8d-8815-7f5e8b817a30",
   "metadata": {},
   "outputs": [],
   "source": [
    "import logging\n",
    "import pickle\n",
    "import sys \n",
    "import pandas as pd\n",
    "from collections import defaultdict\n",
    "\n",
    "import abnumber\n",
    "from sklearn.metrics import make_scorer\n",
    "from sklearn.model_selection import cross_validate, LeaveOneGroupOut\n",
    "from tqdm.notebook import tqdm \n",
    "\n",
    "import bin.utils as utils"
   ]
  },
  {
   "cell_type": "code",
   "execution_count": 82,
   "id": "bfd02d66-2b86-478f-9197-448286d5e657",
   "metadata": {},
   "outputs": [],
   "source": [
    "# developer settings\n",
    "N_JOBS = -1 # parallel (production) \n",
    "# N_JOBS = 1 # sequential (development)\n",
    "VERBOSE = 1\n",
    "ERROR_SCORE = 'raise'\n",
    "RANDOM_STATE = 2"
   ]
  },
  {
   "cell_type": "code",
   "execution_count": 3,
   "id": "c92c32c4-afc4-47a6-84bc-1375857905a3",
   "metadata": {},
   "outputs": [
    {
     "data": {
      "text/plain": [
       "'mouse'"
      ]
     },
     "execution_count": 3,
     "metadata": {},
     "output_type": "execute_result"
    }
   ],
   "source": [
    "seq = 'DIVMTQSQKFMSTSVGDRVSITCKASQNVGTAVAWYQQKPGQSPKLMIYSASNRYTGVPDRFTGSGSGTDFTLTISNMQSEDLADYFCQQYSSYPLTFGAGTKLELK'\n",
    "chain = abnumber.Chain(seq, scheme='aho', cdr_definition='chothia', assign_germline=True)\n",
    "chain.species"
   ]
  },
  {
   "cell_type": "code",
   "execution_count": 10,
   "id": "d994aec7-7593-4214-8256-e8f3ab4af5e0",
   "metadata": {
    "tags": [
     "parameters"
    ]
   },
   "outputs": [],
   "source": [
    "MODEL_NAME = 'decisiontree'\n",
    "INPUT_CLUSTER_FILE = '../../data/csv/clustered_splits/sim80.csv'\n",
    "OUTPUT_FILE = '../../data/csv/lco_regional_simple/sim80_decisiontree.csv'\n",
    "\n",
    "# possible values: region,position,chain,species (separated by commas)\n",
    "FEATURES = 'region,position,chain,species'\n"
   ]
  },
  {
   "cell_type": "code",
   "execution_count": 11,
   "id": "680d5f79-ae5a-4d9d-80a4-778bdbe7cfc6",
   "metadata": {},
   "outputs": [
    {
     "name": "stderr",
     "output_type": "stream",
     "text": [
      "INFO:papermill:model decisiontree input: ../../data/csv/clustered_splits/sim80.csv output: ../../data/csv/lco_cont_window_4/sim80_decisiontree.csv\n"
     ]
    }
   ],
   "source": [
    "logger = utils.setup_logging(MODEL_NAME, INPUT_CLUSTER_FILE, OUTPUT_FILE)"
   ]
  },
  {
   "cell_type": "code",
   "execution_count": 12,
   "id": "603fc7c6-4f73-4066-b9c6-015edec36d31",
   "metadata": {
    "tags": []
   },
   "outputs": [
    {
     "data": {
      "text/plain": [
       "DecisionTreeRegressor()"
      ]
     },
     "execution_count": 12,
     "metadata": {},
     "output_type": "execute_result"
    }
   ],
   "source": [
    "with open('../../data/pickles/models.p', 'rb') as models_file:\n",
    "    models = pickle.load(models_file)\n",
    "    model = models[MODEL_NAME]\n",
    "\n",
    "model"
   ]
  },
  {
   "cell_type": "code",
   "execution_count": 5,
   "id": "b20b60a6-44a4-4b1d-925d-a1c3ba1e81bd",
   "metadata": {},
   "outputs": [],
   "source": [
    "clusters_df = pd.read_csv(INPUT_CLUSTER_FILE, index_col=0)\n",
    "X = pd.read_csv('../../data/csv/fasta_aho_L.csv')\n",
    "Y = pd.read_csv('../../data/csv/sasa_aligned_L.csv').rename(columns={'Unnamed: 0':'Id'})"
   ]
  },
  {
   "cell_type": "code",
   "execution_count": 6,
   "id": "2071d4aa-7152-4aef-95d9-ac389fbbcfda",
   "metadata": {},
   "outputs": [
    {
     "name": "stdout",
     "output_type": "stream",
     "text": [
      "Load datasets - X: (3414, 156), Y: (3414, 156)\n",
      "Join cluster datasets - c: (3414, 2) X: (3414, 156) Y: (3414, 156)\n"
     ]
    }
   ],
   "source": [
    "# do basic processing (records filtering, join cluster data...)\n",
    "X, Y = utils.load_dataset(['train', 'val'])\n",
    "print(f'Load datasets - X: {X.shape}, Y: {Y.shape}')\n",
    "\n",
    "c, X, Y = utils.include_clusters(clusters_df, X, Y)\n",
    "print(f'Join cluster datasets - c: {c.shape} X: {X.shape} Y: {Y.shape}')"
   ]
  },
  {
   "cell_type": "code",
   "execution_count": 13,
   "id": "62904371-dbf5-4c0c-9304-3eb56dcd8930",
   "metadata": {},
   "outputs": [],
   "source": [
    "features = FEATURES.split(',')"
   ]
  },
  {
   "cell_type": "code",
   "execution_count": 87,
   "id": "b612e48c-4afe-4850-a60b-b1a0b54bb28f",
   "metadata": {},
   "outputs": [
    {
     "data": {
      "application/vnd.jupyter.widget-view+json": {
       "model_id": "a7bdeafdf0bc41eca919f9164961a7b0",
       "version_major": 2,
       "version_minor": 0
      },
      "text/plain": [
       "  0%|          | 0/3414 [00:00<?, ?it/s]"
      ]
     },
     "metadata": {},
     "output_type": "display_data"
    }
   ],
   "source": [
    "# this may take a while\n",
    "X_clean = X.copy(); X_clean.index = X_clean['Id']\n",
    "X_records = X_clean.drop(columns='Id').to_dict(orient='records')\n",
    "chains_dict = dict()\n",
    "chain_data_pairs = list(zip(X['Id'], X_records))\n",
    "\n",
    "for chain_full_id, chain_dict in tqdm(chain_data_pairs):\n",
    "    sequence =  ''.join(chain_dict.values()).replace('-', '')\n",
    "    chain = abnumber.Chain(sequence, scheme='aho', cdr_definition='chothia', assign_germline=True)\n",
    "    chains_dict[chain_full_id] = chain\n",
    "# chains_dict = LFAQ: HAKBLKAGKLHLFHLAF (sequence) ..."
   ]
  },
  {
   "cell_type": "code",
   "execution_count": 85,
   "id": "6814cee9-5e2f-4855-ac5b-f63a1b7e0d24",
   "metadata": {},
   "outputs": [
    {
     "data": {
      "text/plain": [
       "DIVMTQSQKFMSTSVGDRVSITCKASQNVGTAVAWYQQKPGQSPKLMIYSASNRYTGVPDRFTGSGSGTDFTLTISNMQSEDLADYFCQQYSSYPLTFGAGTKLELK\n",
       "                       ^^^^^^^^^^^               ^^^^^^^                                ^^^^^^^^^          "
      ]
     },
     "execution_count": 85,
     "metadata": {},
     "output_type": "execute_result"
    }
   ],
   "source": [
    "chains_dict['12E8:L']"
   ]
  },
  {
   "cell_type": "raw",
   "id": "3b36a99a-557c-47fd-bb09-40edc56671fa",
   "metadata": {
    "jupyter": {
     "outputs_hidden": true
    },
    "tags": []
   },
   "source": [
    "# check if regions are conserved throughout the sequences\n",
    "regions_per_pos = defaultdict(set)\n",
    "for chain_full_id, chain_seq in tqdm(chains_dict.items()): \n",
    "    chain = abnumber.Chain(chain_seq, scheme='aho', cdr_definition='chothia')\n",
    "    for region, positions in chain.regions.items():\n",
    "        for position, residue in positions.items():\n",
    "            chain, pos_code = position.chain_type, position.format(chain_type=False)\n",
    "            regions_per_pos[pos_code].add(region)\n",
    "\n",
    "for position, regions in regions_per_pos.items():\n",
    "    if len(regions) > 1:\n",
    "        print(position, regions)\n",
    "        \n",
    "# apparently they are not, we need to annotate them using abnumber "
   ]
  },
  {
   "cell_type": "code",
   "execution_count": 43,
   "id": "f102bbfe-eee5-415b-962b-0e3519c06a7d",
   "metadata": {},
   "outputs": [
    {
     "data": {
      "application/vnd.jupyter.widget-view+json": {
       "model_id": "6a85a13b3f1e42aebaa7151b06273cee",
       "version_major": 2,
       "version_minor": 0
      },
      "text/plain": [
       "  0%|          | 0/3414 [00:00<?, ?it/s]"
      ]
     },
     "metadata": {},
     "output_type": "display_data"
    }
   ],
   "source": [
    "Y_clean = Y.copy(); Y_clean.index = Y_clean['Id']\n",
    "X_data, Y_data = defaultdict(list), defaultdict(list)\n",
    "\n",
    "for chain_full_id, chain in tqdm(chains_dict.items()): \n",
    "    for region, positions in chain.regions.items():\n",
    "        for position, residue in positions.items():\n",
    "            chain_type, pos_code = position.chain_type, position.format(chain_type=False)\n",
    "            if 'region' in features: X_data['region'].append(region)\n",
    "            if 'position' in features: X_data['position'].append(pos_code)\n",
    "            if 'chain' in features: X_data['chain'].append(chain_type)\n",
    "            if 'species' in features: X_data['species'].append(chain.species)\n",
    "            X_data['chain_full_id'].append(chain_full_id)\n",
    "            X_data['residue'].append(residue)\n",
    "            Y_data['sasa'].append(Y_clean.loc[chain_full_id, pos_code])"
   ]
  },
  {
   "cell_type": "code",
   "execution_count": 67,
   "id": "30c16286-5ef0-46dc-86be-e19cee175fef",
   "metadata": {},
   "outputs": [],
   "source": [
    "X_regional = pd.DataFrame(X_data) # .drop(columns='chain_full_id')\n",
    "Y_regional = pd.DataFrame(Y_data, index=range(len(Y_data['sasa'])))"
   ]
  },
  {
   "cell_type": "code",
   "execution_count": 68,
   "id": "7f7c2c7c-e2d8-4daf-adc2-d6b215914967",
   "metadata": {},
   "outputs": [
    {
     "data": {
      "text/html": [
       "<div>\n",
       "<style scoped>\n",
       "    .dataframe tbody tr th:only-of-type {\n",
       "        vertical-align: middle;\n",
       "    }\n",
       "\n",
       "    .dataframe tbody tr th {\n",
       "        vertical-align: top;\n",
       "    }\n",
       "\n",
       "    .dataframe thead th {\n",
       "        text-align: right;\n",
       "    }\n",
       "</style>\n",
       "<table border=\"1\" class=\"dataframe\">\n",
       "  <thead>\n",
       "    <tr style=\"text-align: right;\">\n",
       "      <th></th>\n",
       "      <th>region</th>\n",
       "      <th>position</th>\n",
       "      <th>chain</th>\n",
       "      <th>chain_full_id</th>\n",
       "      <th>residue</th>\n",
       "    </tr>\n",
       "  </thead>\n",
       "  <tbody>\n",
       "    <tr>\n",
       "      <th>0</th>\n",
       "      <td>FR1</td>\n",
       "      <td>1</td>\n",
       "      <td>K</td>\n",
       "      <td>12E8:L</td>\n",
       "      <td>D</td>\n",
       "    </tr>\n",
       "    <tr>\n",
       "      <th>1</th>\n",
       "      <td>FR1</td>\n",
       "      <td>2</td>\n",
       "      <td>K</td>\n",
       "      <td>12E8:L</td>\n",
       "      <td>I</td>\n",
       "    </tr>\n",
       "  </tbody>\n",
       "</table>\n",
       "</div>"
      ],
      "text/plain": [
       "  region position chain chain_full_id residue\n",
       "0    FR1        1     K        12E8:L       D\n",
       "1    FR1        2     K        12E8:L       I"
      ]
     },
     "execution_count": 68,
     "metadata": {},
     "output_type": "execute_result"
    }
   ],
   "source": [
    "X_regional.head(n=2)"
   ]
  },
  {
   "cell_type": "code",
   "execution_count": 65,
   "id": "bff04377-0875-4c8b-9eb3-d19ee4628888",
   "metadata": {},
   "outputs": [
    {
     "data": {
      "text/plain": [
       "((368947, 4), (368947, 1))"
      ]
     },
     "execution_count": 65,
     "metadata": {},
     "output_type": "execute_result"
    }
   ],
   "source": [
    "X_regional.shape, Y_regional.shape"
   ]
  },
  {
   "cell_type": "code",
   "execution_count": 70,
   "id": "ecc3615d-6795-4285-99b9-2661a3704b7f",
   "metadata": {},
   "outputs": [
    {
     "data": {
      "text/plain": [
       "0         2\n",
       "1         2\n",
       "2         2\n",
       "3         2\n",
       "4         2\n",
       "         ..\n",
       "368942    2\n",
       "368943    2\n",
       "368944    2\n",
       "368945    2\n",
       "368946    2\n",
       "Name: c_cluster, Length: 368947, dtype: int64"
      ]
     },
     "execution_count": 70,
     "metadata": {},
     "output_type": "execute_result"
    }
   ],
   "source": [
    "X_regional_c_df = X_regional.merge(c, left_on='chain_full_id', right_on='c_sequence_id')\n",
    "groups = X_regional_c_df['c_cluster']"
   ]
  },
  {
   "cell_type": "code",
   "execution_count": 61,
   "id": "ae493c46-258c-46d2-a8ae-ad09d536a0a1",
   "metadata": {},
   "outputs": [
    {
     "data": {
      "text/html": [
       "<div>\n",
       "<style scoped>\n",
       "    .dataframe tbody tr th:only-of-type {\n",
       "        vertical-align: middle;\n",
       "    }\n",
       "\n",
       "    .dataframe tbody tr th {\n",
       "        vertical-align: top;\n",
       "    }\n",
       "\n",
       "    .dataframe thead th {\n",
       "        text-align: right;\n",
       "    }\n",
       "</style>\n",
       "<table border=\"1\" class=\"dataframe\">\n",
       "  <thead>\n",
       "    <tr style=\"text-align: right;\">\n",
       "      <th></th>\n",
       "      <th>region_CDR1</th>\n",
       "      <th>region_CDR2</th>\n",
       "      <th>region_CDR3</th>\n",
       "      <th>region_FR1</th>\n",
       "      <th>region_FR2</th>\n",
       "      <th>region_FR3</th>\n",
       "      <th>region_FR4</th>\n",
       "      <th>position_1</th>\n",
       "      <th>position_10</th>\n",
       "      <th>position_100</th>\n",
       "      <th>...</th>\n",
       "      <th>residue_M</th>\n",
       "      <th>residue_N</th>\n",
       "      <th>residue_P</th>\n",
       "      <th>residue_Q</th>\n",
       "      <th>residue_R</th>\n",
       "      <th>residue_S</th>\n",
       "      <th>residue_T</th>\n",
       "      <th>residue_V</th>\n",
       "      <th>residue_W</th>\n",
       "      <th>residue_Y</th>\n",
       "    </tr>\n",
       "  </thead>\n",
       "  <tbody>\n",
       "    <tr>\n",
       "      <th>0</th>\n",
       "      <td>0</td>\n",
       "      <td>0</td>\n",
       "      <td>0</td>\n",
       "      <td>1</td>\n",
       "      <td>0</td>\n",
       "      <td>0</td>\n",
       "      <td>0</td>\n",
       "      <td>1</td>\n",
       "      <td>0</td>\n",
       "      <td>0</td>\n",
       "      <td>...</td>\n",
       "      <td>0</td>\n",
       "      <td>0</td>\n",
       "      <td>0</td>\n",
       "      <td>0</td>\n",
       "      <td>0</td>\n",
       "      <td>0</td>\n",
       "      <td>0</td>\n",
       "      <td>0</td>\n",
       "      <td>0</td>\n",
       "      <td>0</td>\n",
       "    </tr>\n",
       "    <tr>\n",
       "      <th>1</th>\n",
       "      <td>0</td>\n",
       "      <td>0</td>\n",
       "      <td>0</td>\n",
       "      <td>1</td>\n",
       "      <td>0</td>\n",
       "      <td>0</td>\n",
       "      <td>0</td>\n",
       "      <td>0</td>\n",
       "      <td>0</td>\n",
       "      <td>0</td>\n",
       "      <td>...</td>\n",
       "      <td>0</td>\n",
       "      <td>0</td>\n",
       "      <td>0</td>\n",
       "      <td>0</td>\n",
       "      <td>0</td>\n",
       "      <td>0</td>\n",
       "      <td>0</td>\n",
       "      <td>0</td>\n",
       "      <td>0</td>\n",
       "      <td>0</td>\n",
       "    </tr>\n",
       "  </tbody>\n",
       "</table>\n",
       "<p>2 rows × 166 columns</p>\n",
       "</div>"
      ],
      "text/plain": [
       "   region_CDR1  region_CDR2  region_CDR3  region_FR1  region_FR2  region_FR3  \\\n",
       "0            0            0            0           1           0           0   \n",
       "1            0            0            0           1           0           0   \n",
       "\n",
       "   region_FR4  position_1  position_10  position_100  ...  residue_M  \\\n",
       "0           0           1            0             0  ...          0   \n",
       "1           0           0            0             0  ...          0   \n",
       "\n",
       "   residue_N  residue_P  residue_Q  residue_R  residue_S  residue_T  \\\n",
       "0          0          0          0          0          0          0   \n",
       "1          0          0          0          0          0          0   \n",
       "\n",
       "   residue_V  residue_W  residue_Y  \n",
       "0          0          0          0  \n",
       "1          0          0          0  \n",
       "\n",
       "[2 rows x 166 columns]"
      ]
     },
     "execution_count": 61,
     "metadata": {},
     "output_type": "execute_result"
    }
   ],
   "source": [
    "X_regional_oh = pd.get_dummies(X_regional, prefix=features + ['residue'])\n",
    "X_regional_oh.head(n=2)"
   ]
  },
  {
   "cell_type": "markdown",
   "id": "631ad1d4-f2f1-42cd-b287-3fb33fd0603e",
   "metadata": {},
   "source": [
    "## Clustered CV"
   ]
  },
  {
   "cell_type": "code",
   "execution_count": 77,
   "id": "3cb64715-7894-417f-afc5-9c20df9c04ef",
   "metadata": {},
   "outputs": [],
   "source": [
    "split = LeaveOneGroupOut().split(X_regional, Y_regional, groups=groups)"
   ]
  },
  {
   "cell_type": "code",
   "execution_count": 78,
   "id": "a7b5d6d1-cc59-4e59-9362-fb07bba18944",
   "metadata": {},
   "outputs": [
    {
     "data": {
      "text/plain": [
       "((368947, 5), (368947, 1), (368947,))"
      ]
     },
     "execution_count": 78,
     "metadata": {},
     "output_type": "execute_result"
    }
   ],
   "source": [
    "X_regional.shape, Y_regional.shape, groups.shape"
   ]
  },
  {
   "cell_type": "code",
   "execution_count": 81,
   "id": "5d03d27a-a18d-4353-a15b-c9f0053371ac",
   "metadata": {},
   "outputs": [],
   "source": [
    "loss = make_scorer(utils.avg_deviation, greater_is_better=False)"
   ]
  },
  {
   "cell_type": "code",
   "execution_count": null,
   "id": "6c94771d-a6d3-4d4f-a6f5-896c94d18841",
   "metadata": {},
   "outputs": [
    {
     "name": "stderr",
     "output_type": "stream",
     "text": [
      "[Parallel(n_jobs=-1)]: Using backend LokyBackend with 56 concurrent workers.\n"
     ]
    }
   ],
   "source": [
    "scores = cross_validate(model, X_regional, Y_regional, \n",
    "                            groups=groups,\n",
    "                            n_jobs=N_JOBS,\n",
    "                            scoring=loss, \n",
    "                            verbose=VERBOSE, \n",
    "                            cv=split,\n",
    "                            return_train_score=True,\n",
    "                            return_estimator=True,\n",
    "                            error_score=ERROR_SCORE)"
   ]
  },
  {
   "cell_type": "markdown",
   "id": "b5794361-1935-4180-8801-968564e8fa71",
   "metadata": {},
   "source": [
    "## Store results"
   ]
  },
  {
   "cell_type": "code",
   "execution_count": 90,
   "id": "c381b891-1c9b-4841-9a19-7eae359dd91b",
   "metadata": {
    "tags": []
   },
   "outputs": [
    {
     "ename": "NameError",
     "evalue": "name 'scores' is not defined",
     "output_type": "error",
     "traceback": [
      "\u001b[0;31m---------------------------------------------------------------------------\u001b[0m",
      "\u001b[0;31mNameError\u001b[0m                                 Traceback (most recent call last)",
      "Input \u001b[0;32mIn [90]\u001b[0m, in \u001b[0;36m<module>\u001b[0;34m\u001b[0m\n\u001b[0;32m----> 1\u001b[0m scores_df \u001b[38;5;241m=\u001b[39m pd\u001b[38;5;241m.\u001b[39mDataFrame(\u001b[43mscores\u001b[49m)\u001b[38;5;241m.\u001b[39msort_index()\n\u001b[1;32m      2\u001b[0m \u001b[38;5;66;03m# we have loss function for evaluating quality\u001b[39;00m\n\u001b[1;32m      3\u001b[0m \u001b[38;5;66;03m# https://stackoverflow.com/questions/21443865/scikit-learn-cross-validation-negative-values-with-mean-squared-error\u001b[39;00m\n\u001b[1;32m      4\u001b[0m \u001b[38;5;66;03m# using minus for loss metric is recommended way - otherwise all the scores will be negative!\u001b[39;00m\n\u001b[1;32m      5\u001b[0m scores_df[\u001b[38;5;124m'\u001b[39m\u001b[38;5;124mtrain_score\u001b[39m\u001b[38;5;124m'\u001b[39m] \u001b[38;5;241m=\u001b[39m \u001b[38;5;241m-\u001b[39mscores_df[\u001b[38;5;124m'\u001b[39m\u001b[38;5;124mtrain_score\u001b[39m\u001b[38;5;124m'\u001b[39m]\n",
      "\u001b[0;31mNameError\u001b[0m: name 'scores' is not defined"
     ]
    }
   ],
   "source": [
    "scores_df = pd.DataFrame(scores).sort_index()\n",
    "# we have loss function for evaluating quality\n",
    "# https://stackoverflow.com/questions/21443865/scikit-learn-cross-validation-negative-values-with-mean-squared-error\n",
    "# using minus for loss metric is recommended way - otherwise all the scores will be negative!\n",
    "scores_df['train_score'] = -scores_df['train_score']\n",
    "scores_df['test_score'] = -scores_df['test_score']\n",
    "scores_df['cv_split_id'] = scores_df.index\n",
    "scores_df['model'] = MODEL_NAME"
   ]
  },
  {
   "cell_type": "code",
   "execution_count": 301,
   "id": "849958a3-35f1-414a-862a-937773259d44",
   "metadata": {
    "tags": []
   },
   "outputs": [
    {
     "data": {
      "text/html": [
       "<div>\n",
       "<style scoped>\n",
       "    .dataframe tbody tr th:only-of-type {\n",
       "        vertical-align: middle;\n",
       "    }\n",
       "\n",
       "    .dataframe tbody tr th {\n",
       "        vertical-align: top;\n",
       "    }\n",
       "\n",
       "    .dataframe thead th {\n",
       "        text-align: right;\n",
       "    }\n",
       "</style>\n",
       "<table border=\"1\" class=\"dataframe\">\n",
       "  <thead>\n",
       "    <tr style=\"text-align: right;\">\n",
       "      <th></th>\n",
       "      <th>fit_time</th>\n",
       "      <th>score_time</th>\n",
       "      <th>estimator</th>\n",
       "      <th>test_score</th>\n",
       "      <th>train_score</th>\n",
       "      <th>cv_split_id</th>\n",
       "      <th>model</th>\n",
       "    </tr>\n",
       "  </thead>\n",
       "  <tbody>\n",
       "    <tr>\n",
       "      <th>0</th>\n",
       "      <td>16.638938</td>\n",
       "      <td>0.157654</td>\n",
       "      <td>DecisionTreeRegressor()</td>\n",
       "      <td>4.165215</td>\n",
       "      <td>3.093821</td>\n",
       "      <td>0</td>\n",
       "      <td>decisiontree</td>\n",
       "    </tr>\n",
       "    <tr>\n",
       "      <th>1</th>\n",
       "      <td>3.933675</td>\n",
       "      <td>1.576109</td>\n",
       "      <td>DecisionTreeRegressor()</td>\n",
       "      <td>5.025148</td>\n",
       "      <td>2.858277</td>\n",
       "      <td>1</td>\n",
       "      <td>decisiontree</td>\n",
       "    </tr>\n",
       "    <tr>\n",
       "      <th>2</th>\n",
       "      <td>19.155970</td>\n",
       "      <td>0.011132</td>\n",
       "      <td>DecisionTreeRegressor()</td>\n",
       "      <td>5.572649</td>\n",
       "      <td>3.089625</td>\n",
       "      <td>2</td>\n",
       "      <td>decisiontree</td>\n",
       "    </tr>\n",
       "  </tbody>\n",
       "</table>\n",
       "</div>"
      ],
      "text/plain": [
       "    fit_time  score_time                estimator  test_score  train_score  \\\n",
       "0  16.638938    0.157654  DecisionTreeRegressor()    4.165215     3.093821   \n",
       "1   3.933675    1.576109  DecisionTreeRegressor()    5.025148     2.858277   \n",
       "2  19.155970    0.011132  DecisionTreeRegressor()    5.572649     3.089625   \n",
       "\n",
       "   cv_split_id         model  \n",
       "0            0  decisiontree  \n",
       "1            1  decisiontree  \n",
       "2            2  decisiontree  "
      ]
     },
     "execution_count": 301,
     "metadata": {},
     "output_type": "execute_result"
    }
   ],
   "source": [
    "scores_df.head(n=3)"
   ]
  },
  {
   "cell_type": "code",
   "execution_count": 299,
   "id": "8d93745d-c230-4f26-b216-6d3c05b13290",
   "metadata": {},
   "outputs": [],
   "source": [
    "scores_df.to_csv(OUTPUT_FILE)"
   ]
  }
 ],
 "metadata": {
  "kernelspec": {
   "display_name": "Python 3 (ipykernel)",
   "language": "python",
   "name": "python3"
  },
  "language_info": {
   "codemirror_mode": {
    "name": "ipython",
    "version": 3
   },
   "file_extension": ".py",
   "mimetype": "text/x-python",
   "name": "python",
   "nbconvert_exporter": "python",
   "pygments_lexer": "ipython3",
   "version": "3.8.12"
  }
 },
 "nbformat": 4,
 "nbformat_minor": 5
}
