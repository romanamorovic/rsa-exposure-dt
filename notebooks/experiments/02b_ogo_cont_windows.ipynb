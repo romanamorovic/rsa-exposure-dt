{
 "cells": [
  {
   "cell_type": "markdown",
   "id": "1cb35bfd-fbfc-477c-afc1-1876cfd40c72",
   "metadata": {
    "tags": []
   },
   "source": [
    "# One-Cluster-Out: Continuous Windows"
   ]
  },
  {
   "cell_type": "markdown",
   "id": "0ed4ba92-e90f-44f6-88ce-7cc480245b18",
   "metadata": {
    "tags": []
   },
   "source": [
    "## Setup"
   ]
  },
  {
   "cell_type": "code",
   "execution_count": 23,
   "id": "510f4947-24dd-44bf-9242-33f864217e09",
   "metadata": {},
   "outputs": [],
   "source": [
    "import logging\n",
    "import os\n",
    "import pickle\n",
    "import sys\n",
    "import warnings\n",
    "from collections import defaultdict\n",
    "\n",
    "import pandas as pd\n",
    "import numpy as np\n",
    "import seaborn as sns\n",
    "from sklearn.metrics import make_scorer\n",
    "from sklearn.model_selection import cross_validate, LeaveOneGroupOut\n",
    "from tqdm.notebook import tqdm\n",
    "\n",
    "import bin.baseline_models as bm\n",
    "import bin.feature_generators as fg\n",
    "import bin.params as p\n",
    "import bin.utils as utils"
   ]
  },
  {
   "cell_type": "code",
   "execution_count": 24,
   "id": "46b79672-39a0-4185-8466-bf6facc04631",
   "metadata": {},
   "outputs": [],
   "source": [
    "# developer settings\n",
    "N_JOBS = -1 # parallel (production) \n",
    "#N_JOBS = 1 # sequential (development)\n",
    "VERBOSE = 1\n",
    "ERROR_SCORE = 'raise'\n",
    "RANDOM_STATE = 2"
   ]
  },
  {
   "cell_type": "code",
   "execution_count": 25,
   "id": "5a280ff5-8053-4ee0-bfee-a48cc34bf968",
   "metadata": {
    "tags": [
     "parameters"
    ]
   },
   "outputs": [],
   "source": [
    "# parameters\n",
    "CHAINS = 'H'\n",
    "MODEL_NAME = 'decisiontree'\n",
    "INPUT_CLUSTER_FILE = f'{p.DATA_DIR}/csv/clustered_splits/sim80_all.csv'\n",
    "OUTPUT_FILE = f'{p.DATA_DIR}/csv/lco_cont_window_r1_all_H/sim80_decisiontree_r1_all_H.csv'\n",
    "WINDOW_RADIUS = 1"
   ]
  },
  {
   "cell_type": "code",
   "execution_count": 26,
   "id": "59589904-17cb-43d0-9c45-f1dfac785a7a",
   "metadata": {},
   "outputs": [
    {
     "name": "stderr",
     "output_type": "stream",
     "text": [
      "INFO:papermill:model decisiontree input: ../../data/csv/clustered_splits/sim80_all.csv output: ../../data/csv/lco_cont_window_r1_all_H/sim80_decisiontree_r1_all_H.csv\n"
     ]
    },
    {
     "data": {
      "text/plain": [
       "<Logger papermill (INFO)>"
      ]
     },
     "execution_count": 26,
     "metadata": {},
     "output_type": "execute_result"
    }
   ],
   "source": [
    "utils.setup_logging(MODEL_NAME, INPUT_CLUSTER_FILE, OUTPUT_FILE)"
   ]
  },
  {
   "cell_type": "markdown",
   "id": "a86ceb6c-8335-41cc-ae0d-10bf3e719b5b",
   "metadata": {},
   "source": [
    "**Load empty pickled model:**"
   ]
  },
  {
   "cell_type": "code",
   "execution_count": 27,
   "id": "502da8a3-2132-4236-8728-dd60ae3055af",
   "metadata": {
    "tags": []
   },
   "outputs": [
    {
     "data": {
      "text/plain": [
       "DecisionTreeRegressor()"
      ]
     },
     "execution_count": 27,
     "metadata": {},
     "output_type": "execute_result"
    }
   ],
   "source": [
    "with open(f'{p.DATA_DIR}/pickles/models.p', 'rb') as models_file:\n",
    "    models = pickle.load(models_file)\n",
    "    model = models[MODEL_NAME]\n",
    "    \n",
    "model"
   ]
  },
  {
   "cell_type": "code",
   "execution_count": 28,
   "id": "c2baa021-538f-43fe-b832-3a47dec77a31",
   "metadata": {},
   "outputs": [],
   "source": [
    "PARAMS = {'radius': WINDOW_RADIUS}\n",
    "FEATURES = f'lco_cont_window_r{WINDOW_RADIUS}'"
   ]
  },
  {
   "cell_type": "markdown",
   "id": "92a30739-541a-4378-8acb-a6038bfbf856",
   "metadata": {},
   "source": [
    "**Create the directory with experiment name to store results in:**"
   ]
  },
  {
   "cell_type": "code",
   "execution_count": 29,
   "id": "39da0054-d50e-4016-8a59-d52434ce3de8",
   "metadata": {},
   "outputs": [],
   "source": [
    "RESULTS_DIR_PATH = os.path.dirname(OUTPUT_FILE)\n",
    "command = f'mkdir -p {RESULTS_DIR_PATH}'\n",
    "! $command"
   ]
  },
  {
   "cell_type": "markdown",
   "id": "4c0cdde0-5f6b-4dbb-9540-9881a1b1152c",
   "metadata": {},
   "source": [
    "**Load the input data:**"
   ]
  },
  {
   "cell_type": "code",
   "execution_count": 30,
   "id": "cf756fb6-12ea-4d9f-9aa3-49fbc94bf416",
   "metadata": {},
   "outputs": [
    {
     "data": {
      "text/html": [
       "<div>\n",
       "<style scoped>\n",
       "    .dataframe tbody tr th:only-of-type {\n",
       "        vertical-align: middle;\n",
       "    }\n",
       "\n",
       "    .dataframe tbody tr th {\n",
       "        vertical-align: top;\n",
       "    }\n",
       "\n",
       "    .dataframe thead th {\n",
       "        text-align: right;\n",
       "    }\n",
       "</style>\n",
       "<table border=\"1\" class=\"dataframe\">\n",
       "  <thead>\n",
       "    <tr style=\"text-align: right;\">\n",
       "      <th></th>\n",
       "      <th>sequence_id</th>\n",
       "      <th>cluster</th>\n",
       "    </tr>\n",
       "  </thead>\n",
       "  <tbody>\n",
       "    <tr>\n",
       "      <th>0</th>\n",
       "      <td>12E8:L</td>\n",
       "      <td>2</td>\n",
       "    </tr>\n",
       "    <tr>\n",
       "      <th>1</th>\n",
       "      <td>15C8:L</td>\n",
       "      <td>2</td>\n",
       "    </tr>\n",
       "  </tbody>\n",
       "</table>\n",
       "</div>"
      ],
      "text/plain": [
       "  sequence_id  cluster\n",
       "0      12E8:L        2\n",
       "1      15C8:L        2"
      ]
     },
     "execution_count": 30,
     "metadata": {},
     "output_type": "execute_result"
    }
   ],
   "source": [
    "clusters_df = pd.read_csv(INPUT_CLUSTER_FILE, index_col=0)\n",
    "clusters_df.head(n=2)"
   ]
  },
  {
   "cell_type": "code",
   "execution_count": 31,
   "id": "5df11a79-b316-4aff-9960-b205e130f1bb",
   "metadata": {},
   "outputs": [
    {
     "name": "stdout",
     "output_type": "stream",
     "text": [
      "before merge with clusters X.shape (2643, 165) Y.shape (2643, 165) c.shape (6572, 2)\n",
      "after merge with clusters X.shape (2643, 165) Y.shape (2643, 165) c.shape (2643, 2)\n",
      "lco_cont_window_r1\n",
      "X.shape (2643, 165) Y.shape (2643, 165)\n",
      "after drop_nondata_columns: X.shape (2643, 164) Y.shape (2643, 164)\n",
      "after _add_sequence_end: X.shape (2643, 166) Y.shape (2643, 166)\n",
      "after window transforms: X_window.shape (433452, 5) Y_window.shape (433452, 1)\n",
      "c_window.shape (433452, 2)\n",
      "[FINAL] X.shape (433452, 67) Y.shape (433452, 1)\n",
      "[FINAL] c.shape (433452, 2)\n"
     ]
    }
   ],
   "source": [
    "X, Y = utils.load_dataset(['train', 'val'], chains=CHAINS)\n",
    "X, Y, c = fg.generate(X, Y, c=clusters_df, model_name=MODEL_NAME, \n",
    "                      features=FEATURES, params=PARAMS)"
   ]
  },
  {
   "cell_type": "code",
   "execution_count": 32,
   "id": "6b93027f-0b94-4684-852b-2f33310061a0",
   "metadata": {},
   "outputs": [
    {
     "data": {
      "text/html": [
       "<div>\n",
       "<style scoped>\n",
       "    .dataframe tbody tr th:only-of-type {\n",
       "        vertical-align: middle;\n",
       "    }\n",
       "\n",
       "    .dataframe tbody tr th {\n",
       "        vertical-align: top;\n",
       "    }\n",
       "\n",
       "    .dataframe thead th {\n",
       "        text-align: right;\n",
       "    }\n",
       "</style>\n",
       "<table border=\"1\" class=\"dataframe\">\n",
       "  <thead>\n",
       "    <tr style=\"text-align: right;\">\n",
       "      <th></th>\n",
       "      <th>0</th>\n",
       "      <th>1</th>\n",
       "      <th>2</th>\n",
       "      <th>3</th>\n",
       "      <th>4</th>\n",
       "      <th>5</th>\n",
       "      <th>6</th>\n",
       "      <th>7</th>\n",
       "      <th>8</th>\n",
       "      <th>9</th>\n",
       "      <th>...</th>\n",
       "      <th>57</th>\n",
       "      <th>58</th>\n",
       "      <th>59</th>\n",
       "      <th>60</th>\n",
       "      <th>61</th>\n",
       "      <th>62</th>\n",
       "      <th>63</th>\n",
       "      <th>64</th>\n",
       "      <th>65</th>\n",
       "      <th>66</th>\n",
       "    </tr>\n",
       "  </thead>\n",
       "  <tbody>\n",
       "    <tr>\n",
       "      <th>2641</th>\n",
       "      <td>0</td>\n",
       "      <td>0</td>\n",
       "      <td>0</td>\n",
       "      <td>0</td>\n",
       "      <td>0</td>\n",
       "      <td>0</td>\n",
       "      <td>0</td>\n",
       "      <td>0</td>\n",
       "      <td>0</td>\n",
       "      <td>0</td>\n",
       "      <td>...</td>\n",
       "      <td>0</td>\n",
       "      <td>0</td>\n",
       "      <td>0</td>\n",
       "      <td>0</td>\n",
       "      <td>0</td>\n",
       "      <td>0</td>\n",
       "      <td>0</td>\n",
       "      <td>0</td>\n",
       "      <td>0</td>\n",
       "      <td>0.993902</td>\n",
       "    </tr>\n",
       "    <tr>\n",
       "      <th>2642</th>\n",
       "      <td>0</td>\n",
       "      <td>0</td>\n",
       "      <td>0</td>\n",
       "      <td>0</td>\n",
       "      <td>0</td>\n",
       "      <td>0</td>\n",
       "      <td>0</td>\n",
       "      <td>0</td>\n",
       "      <td>0</td>\n",
       "      <td>0</td>\n",
       "      <td>...</td>\n",
       "      <td>0</td>\n",
       "      <td>0</td>\n",
       "      <td>0</td>\n",
       "      <td>0</td>\n",
       "      <td>0</td>\n",
       "      <td>0</td>\n",
       "      <td>0</td>\n",
       "      <td>0</td>\n",
       "      <td>0</td>\n",
       "      <td>0.993902</td>\n",
       "    </tr>\n",
       "  </tbody>\n",
       "</table>\n",
       "<p>2 rows × 67 columns</p>\n",
       "</div>"
      ],
      "text/plain": [
       "      0   1   2   3   4   5   6   7   8   9   ...  57  58  59  60  61  62  63  \\\n",
       "2641   0   0   0   0   0   0   0   0   0   0  ...   0   0   0   0   0   0   0   \n",
       "2642   0   0   0   0   0   0   0   0   0   0  ...   0   0   0   0   0   0   0   \n",
       "\n",
       "      64  65        66  \n",
       "2641   0   0  0.993902  \n",
       "2642   0   0  0.993902  \n",
       "\n",
       "[2 rows x 67 columns]"
      ]
     },
     "execution_count": 32,
     "metadata": {},
     "output_type": "execute_result"
    }
   ],
   "source": [
    "X.tail(n=2)"
   ]
  },
  {
   "cell_type": "code",
   "execution_count": 33,
   "id": "5412d94e-32fc-4993-9c5a-f11bf2115381",
   "metadata": {},
   "outputs": [
    {
     "data": {
      "text/plain": [
       "array([100. , 100. ,  -1. , ...,  -1. , 100. ,  66.9])"
      ]
     },
     "execution_count": 33,
     "metadata": {},
     "output_type": "execute_result"
    }
   ],
   "source": [
    "Y.head(n=2) if hasattr(Y, 'head') else Y"
   ]
  },
  {
   "cell_type": "code",
   "execution_count": 34,
   "id": "51609ad3-49fa-4836-876c-8ee9019b081f",
   "metadata": {},
   "outputs": [
    {
     "data": {
      "text/html": [
       "<div>\n",
       "<style scoped>\n",
       "    .dataframe tbody tr th:only-of-type {\n",
       "        vertical-align: middle;\n",
       "    }\n",
       "\n",
       "    .dataframe tbody tr th {\n",
       "        vertical-align: top;\n",
       "    }\n",
       "\n",
       "    .dataframe thead th {\n",
       "        text-align: right;\n",
       "    }\n",
       "</style>\n",
       "<table border=\"1\" class=\"dataframe\">\n",
       "  <thead>\n",
       "    <tr style=\"text-align: right;\">\n",
       "      <th></th>\n",
       "      <th>c_sequence_id</th>\n",
       "      <th>c_cluster</th>\n",
       "    </tr>\n",
       "  </thead>\n",
       "  <tbody>\n",
       "    <tr>\n",
       "      <th>0</th>\n",
       "      <td>12E8:H</td>\n",
       "      <td>2</td>\n",
       "    </tr>\n",
       "    <tr>\n",
       "      <th>1</th>\n",
       "      <td>15C8:H</td>\n",
       "      <td>2</td>\n",
       "    </tr>\n",
       "  </tbody>\n",
       "</table>\n",
       "</div>"
      ],
      "text/plain": [
       "  c_sequence_id  c_cluster\n",
       "0        12E8:H          2\n",
       "1        15C8:H          2"
      ]
     },
     "execution_count": 34,
     "metadata": {},
     "output_type": "execute_result"
    }
   ],
   "source": [
    "c.head(n=2)"
   ]
  },
  {
   "cell_type": "markdown",
   "id": "6aa74072-61df-4dac-9267-da200fd1fc20",
   "metadata": {},
   "source": [
    "---"
   ]
  },
  {
   "cell_type": "markdown",
   "id": "4ad4d312-0ea0-40d9-8915-7b602bbbe63a",
   "metadata": {},
   "source": [
    "## Clustered CV"
   ]
  },
  {
   "cell_type": "code",
   "execution_count": 35,
   "id": "6491437d-69a4-4da7-bf56-d01a3d7e060f",
   "metadata": {},
   "outputs": [],
   "source": [
    "loss = make_scorer(utils.avg_deviation, greater_is_better=False)"
   ]
  },
  {
   "cell_type": "code",
   "execution_count": 36,
   "id": "397ab836-3fb8-440e-9ae3-ddaf3466e221",
   "metadata": {},
   "outputs": [
    {
     "data": {
      "text/plain": [
       "(433452,)"
      ]
     },
     "execution_count": 36,
     "metadata": {},
     "output_type": "execute_result"
    }
   ],
   "source": [
    "groups = c.loc[X.index, 'c_cluster']\n",
    "groups.shape"
   ]
  },
  {
   "cell_type": "code",
   "execution_count": 37,
   "id": "c109c089-3b3f-48a9-8ef6-87308ab9b65a",
   "metadata": {},
   "outputs": [],
   "source": [
    "split = LeaveOneGroupOut().split(X, Y, groups=groups)"
   ]
  },
  {
   "cell_type": "code",
   "execution_count": 38,
   "id": "0874e9bd-cf6e-474e-86de-1ac411e5df09",
   "metadata": {},
   "outputs": [
    {
     "data": {
      "text/plain": [
       "((433452, 67), (433452,), (433452,))"
      ]
     },
     "execution_count": 38,
     "metadata": {},
     "output_type": "execute_result"
    }
   ],
   "source": [
    "X.shape, Y.shape, groups.shape"
   ]
  },
  {
   "cell_type": "code",
   "execution_count": 39,
   "id": "82c2dbc4-a0af-43ce-8833-54877c50c6f0",
   "metadata": {},
   "outputs": [],
   "source": [
    "if MODEL_NAME == 'kernelridge':\n",
    "    # Nystroem should enhance KR model performance\n",
    "    # Does not seem to help me much tho\n",
    "    from sklearn.pipeline import Pipeline\n",
    "    from sklearn.kernel_approximation import Nystroem\n",
    "    pipeline = Pipeline([\n",
    "        ('n', Nystroem()), \n",
    "        ('m', model)\n",
    "    ])\n",
    "    model = pipeline"
   ]
  },
  {
   "cell_type": "code",
   "execution_count": 40,
   "id": "b007b86a-4328-4108-bcb8-8f871f89963f",
   "metadata": {
    "tags": []
   },
   "outputs": [
    {
     "name": "stderr",
     "output_type": "stream",
     "text": [
      "[Parallel(n_jobs=-1)]: Using backend LokyBackend with 56 concurrent workers.\n",
      "[Parallel(n_jobs=-1)]: Done 132 out of 132 | elapsed:   48.6s finished\n"
     ]
    }
   ],
   "source": [
    "scores = cross_validate(model, X, Y, \n",
    "                            groups=groups,\n",
    "                            n_jobs=N_JOBS,\n",
    "                            scoring=loss, \n",
    "                            verbose=VERBOSE, \n",
    "                            cv=split,\n",
    "                            return_train_score=True,\n",
    "                            return_estimator=True,\n",
    "                            error_score=ERROR_SCORE)"
   ]
  },
  {
   "cell_type": "markdown",
   "id": "5461965f-96f5-4245-8d0d-9dc61134e3b2",
   "metadata": {},
   "source": [
    "___"
   ]
  },
  {
   "cell_type": "markdown",
   "id": "df5d898c-9cb7-4d82-8d44-bfbbb2464ee2",
   "metadata": {},
   "source": [
    "## Store results"
   ]
  },
  {
   "cell_type": "code",
   "execution_count": 41,
   "id": "2b69d4a2-6d85-4d8d-aea2-f5c24335b3ef",
   "metadata": {
    "tags": []
   },
   "outputs": [],
   "source": [
    "scores_df = pd.DataFrame(scores).sort_index()\n",
    "# we have loss function for evaluating quality\n",
    "# https://stackoverflow.com/questions/21443865/scikit-learn-cross-validation-negative-values-with-mean-squared-error\n",
    "# using minus for loss metric is recommended way - otherwise all the scores will be negative!\n",
    "scores_df['train_score'] = -scores_df['train_score']\n",
    "scores_df['test_score'] = -scores_df['test_score']\n",
    "scores_df['cv_split_id'] = scores_df.index\n",
    "scores_df['model'] = MODEL_NAME"
   ]
  },
  {
   "cell_type": "code",
   "execution_count": 42,
   "id": "f041fd6c-dbd3-4e16-8ea1-b9e4bdb49363",
   "metadata": {
    "tags": []
   },
   "outputs": [
    {
     "data": {
      "text/html": [
       "<div>\n",
       "<style scoped>\n",
       "    .dataframe tbody tr th:only-of-type {\n",
       "        vertical-align: middle;\n",
       "    }\n",
       "\n",
       "    .dataframe tbody tr th {\n",
       "        vertical-align: top;\n",
       "    }\n",
       "\n",
       "    .dataframe thead th {\n",
       "        text-align: right;\n",
       "    }\n",
       "</style>\n",
       "<table border=\"1\" class=\"dataframe\">\n",
       "  <thead>\n",
       "    <tr style=\"text-align: right;\">\n",
       "      <th></th>\n",
       "      <th>fit_time</th>\n",
       "      <th>score_time</th>\n",
       "      <th>estimator</th>\n",
       "      <th>test_score</th>\n",
       "      <th>train_score</th>\n",
       "      <th>cv_split_id</th>\n",
       "      <th>model</th>\n",
       "    </tr>\n",
       "  </thead>\n",
       "  <tbody>\n",
       "    <tr>\n",
       "      <th>0</th>\n",
       "      <td>6.550395</td>\n",
       "      <td>0.136296</td>\n",
       "      <td>DecisionTreeRegressor()</td>\n",
       "      <td>4.977038</td>\n",
       "      <td>3.261297</td>\n",
       "      <td>0</td>\n",
       "      <td>decisiontree</td>\n",
       "    </tr>\n",
       "    <tr>\n",
       "      <th>1</th>\n",
       "      <td>5.271857</td>\n",
       "      <td>0.939505</td>\n",
       "      <td>DecisionTreeRegressor()</td>\n",
       "      <td>4.689994</td>\n",
       "      <td>3.125527</td>\n",
       "      <td>1</td>\n",
       "      <td>decisiontree</td>\n",
       "    </tr>\n",
       "    <tr>\n",
       "      <th>2</th>\n",
       "      <td>9.185910</td>\n",
       "      <td>0.026530</td>\n",
       "      <td>DecisionTreeRegressor()</td>\n",
       "      <td>4.014081</td>\n",
       "      <td>3.308872</td>\n",
       "      <td>2</td>\n",
       "      <td>decisiontree</td>\n",
       "    </tr>\n",
       "  </tbody>\n",
       "</table>\n",
       "</div>"
      ],
      "text/plain": [
       "   fit_time  score_time                estimator  test_score  train_score  \\\n",
       "0  6.550395    0.136296  DecisionTreeRegressor()    4.977038     3.261297   \n",
       "1  5.271857    0.939505  DecisionTreeRegressor()    4.689994     3.125527   \n",
       "2  9.185910    0.026530  DecisionTreeRegressor()    4.014081     3.308872   \n",
       "\n",
       "   cv_split_id         model  \n",
       "0            0  decisiontree  \n",
       "1            1  decisiontree  \n",
       "2            2  decisiontree  "
      ]
     },
     "execution_count": 42,
     "metadata": {},
     "output_type": "execute_result"
    }
   ],
   "source": [
    "scores_df.head(n=3)"
   ]
  },
  {
   "cell_type": "code",
   "execution_count": 43,
   "id": "11938d87-ebff-4661-b8f9-b601be609c39",
   "metadata": {},
   "outputs": [],
   "source": [
    "scores_df.to_csv(OUTPUT_FILE)"
   ]
  }
 ],
 "metadata": {
  "kernelspec": {
   "display_name": "Python 3 (ipykernel)",
   "language": "python",
   "name": "python3"
  },
  "language_info": {
   "codemirror_mode": {
    "name": "ipython",
    "version": 3
   },
   "file_extension": ".py",
   "mimetype": "text/x-python",
   "name": "python",
   "nbconvert_exporter": "python",
   "pygments_lexer": "ipython3",
   "version": "3.10.14"
  }
 },
 "nbformat": 4,
 "nbformat_minor": 5
}
