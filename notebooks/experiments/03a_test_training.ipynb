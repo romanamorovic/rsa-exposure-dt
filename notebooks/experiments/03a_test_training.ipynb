{
 "cells": [
  {
   "cell_type": "markdown",
   "id": "045f4545-3327-4eaf-9619-680162c7e8da",
   "metadata": {},
   "source": [
    "# 3a. Train on the TRAIN+VAL sets"
   ]
  },
  {
   "cell_type": "markdown",
   "id": "914aa034-08c6-4a71-90c1-4b4428a3b577",
   "metadata": {
    "tags": []
   },
   "source": [
    "## Setup "
   ]
  },
  {
   "cell_type": "code",
   "execution_count": 202,
   "id": "96cabe7a-9bbc-40f5-98e9-3f13c2700e39",
   "metadata": {},
   "outputs": [],
   "source": [
    "import sys; sys.path.append('../..')\n",
    "import pickle\n",
    "import time\n",
    "\n",
    "import numpy as np\n",
    "import pandas as pd\n",
    "\n",
    "import bin.feature_generators as fg\n",
    "import bin.params as p\n",
    "import bin.utils as u"
   ]
  },
  {
   "cell_type": "markdown",
   "id": "65c6c0ff-bb37-4573-b9c7-115415f32e5c",
   "metadata": {},
   "source": [
    "**Papermill parameters:**"
   ]
  },
  {
   "cell_type": "code",
   "execution_count": 203,
   "id": "68661239-24d5-430a-818e-213f4cdd11d0",
   "metadata": {
    "tags": [
     "parameters"
    ]
   },
   "outputs": [],
   "source": [
    "MODEL_NAME = \"BLknnwholeseqn10\"\n",
    "FEATURES = \"lco_whole_sequence_all_H\""
   ]
  },
  {
   "cell_type": "code",
   "execution_count": 204,
   "id": "6d2e2240-0673-45e8-b8c5-9b268dc2f8a2",
   "metadata": {},
   "outputs": [],
   "source": [
    "PARAMS = {'compress': False}"
   ]
  },
  {
   "cell_type": "code",
   "execution_count": 205,
   "id": "0c0b8b23-9255-48f6-8e19-6dce59ef5cf8",
   "metadata": {},
   "outputs": [],
   "source": [
    "TRAINED_MODELS_DIR_PATH = f'{p.DATA_DIR}/pickles/trained-test-models'\n",
    "TRAINED_MODELS_LIST_FILE_PATH = f'{p.DATA_DIR}/pickles/models.p'"
   ]
  },
  {
   "cell_type": "markdown",
   "id": "cd892e74-754c-4946-bd57-7088e0eb5f7b",
   "metadata": {},
   "source": [
    "**Create a directory to store trained models in:**"
   ]
  },
  {
   "cell_type": "code",
   "execution_count": 206,
   "id": "b3b80750-068c-4042-a380-9cc9662703dd",
   "metadata": {},
   "outputs": [
    {
     "name": "stdout",
     "output_type": "stream",
     "text": [
      "trained models dir: ../../data/pickles/trained-test-models\n",
      "dir containing list of models to be trained: ../../data/pickles/models.p\n"
     ]
    }
   ],
   "source": [
    "print('trained models dir:', TRAINED_MODELS_DIR_PATH)\n",
    "print('dir containing list of models to be trained:', TRAINED_MODELS_LIST_FILE_PATH)\n",
    "command = f'mkdir -p {TRAINED_MODELS_DIR_PATH}'\n",
    "! $command"
   ]
  },
  {
   "cell_type": "markdown",
   "id": "dd8b182c-fae9-4457-9856-a63fb1cb1c97",
   "metadata": {},
   "source": [
    "**Load the empty model:**"
   ]
  },
  {
   "cell_type": "code",
   "execution_count": 207,
   "id": "2d4a9863-19fb-4e7d-ad7d-c1486d1af0f6",
   "metadata": {},
   "outputs": [
    {
     "name": "stdout",
     "output_type": "stream",
     "text": [
      "KNNWholeSequence(n_neighbors=10)\n"
     ]
    }
   ],
   "source": [
    "with open(TRAINED_MODELS_LIST_FILE_PATH, 'rb') as models_file:\n",
    "    models = pickle.load(models_file)\n",
    "    model = models[MODEL_NAME]\n",
    "    print(model)"
   ]
  },
  {
   "cell_type": "markdown",
   "id": "3e2be7fe-5b70-4c54-ad7e-8d227b6af662",
   "metadata": {},
   "source": [
    "**Load the train dataset:**"
   ]
  },
  {
   "cell_type": "code",
   "execution_count": 208,
   "id": "986587dd-a2b5-49b8-bbae-01fad7cf0371",
   "metadata": {},
   "outputs": [
    {
     "name": "stdout",
     "output_type": "stream",
     "text": [
      "load_dataset: ['train', 'val'], metadata file path: ../../data/csv/metadata/metadata_H.csv, chains: H, shape: (3286, 19)\n",
      "load_dataset: ['train', 'val'], X file path: ../../data/csv/fasta_aligned_cleaned/fasta_aho_H.csv, chains: H, shape: (3286, 165)\n",
      "load_dataset: ['train', 'val'], Y file path: ../../data/csv/sasa_aligned/sasa_H.csv, chains: H, shape: (3286, 165)\n"
     ]
    }
   ],
   "source": [
    "chains = FEATURES.split('_')[-1]\n",
    "X, Y = u.load_dataset(['train', 'val'], chains=chains)"
   ]
  },
  {
   "cell_type": "markdown",
   "id": "6e361574-31b4-485a-8ca5-086c5fe3b243",
   "metadata": {},
   "source": [
    "**Transform the data based on which feature representation did we choose:** (this may take a while)"
   ]
  },
  {
   "cell_type": "code",
   "execution_count": 209,
   "id": "bd74c77f-7844-4b7c-85d6-c76846e8e3d1",
   "metadata": {},
   "outputs": [
    {
     "name": "stdout",
     "output_type": "stream",
     "text": [
      "lco_whole_sequence_all_H\n",
      "X.shape (2643, 165) Y.shape (2643, 165)\n",
      "after non-data column drop: X.shape (2643, 164) Y.shape (2643, 164)\n",
      "[NOTE] Skipping one-hot encoding, since this is baseline model\n",
      "[FINAL] X.shape (2643, 164) Y.shape (2643, 164)\n",
      "chains: H | X.shape: (2643, 164) | Y.shape: (2643, 164)\n"
     ]
    }
   ],
   "source": [
    "X, Y, _ = fg.generate(X, Y, c=None, model_name=MODEL_NAME, \n",
    "                      features=FEATURES, params=PARAMS)\n",
    "print('chains:', chains, '| X.shape:', X.shape, '| Y.shape:', Y.shape)"
   ]
  },
  {
   "cell_type": "code",
   "execution_count": 210,
   "id": "89ea44ba-cd78-40da-9c83-ccc36912327f",
   "metadata": {},
   "outputs": [
    {
     "data": {
      "text/html": [
       "<div>\n",
       "<style scoped>\n",
       "    .dataframe tbody tr th:only-of-type {\n",
       "        vertical-align: middle;\n",
       "    }\n",
       "\n",
       "    .dataframe tbody tr th {\n",
       "        vertical-align: top;\n",
       "    }\n",
       "\n",
       "    .dataframe thead th {\n",
       "        text-align: right;\n",
       "    }\n",
       "</style>\n",
       "<table border=\"1\" class=\"dataframe\">\n",
       "  <thead>\n",
       "    <tr style=\"text-align: right;\">\n",
       "      <th></th>\n",
       "      <th>1</th>\n",
       "      <th>2</th>\n",
       "      <th>3</th>\n",
       "      <th>4</th>\n",
       "      <th>5</th>\n",
       "      <th>6</th>\n",
       "      <th>7</th>\n",
       "      <th>8</th>\n",
       "      <th>9</th>\n",
       "      <th>10</th>\n",
       "      <th>...</th>\n",
       "      <th>141</th>\n",
       "      <th>142</th>\n",
       "      <th>143</th>\n",
       "      <th>143A</th>\n",
       "      <th>144</th>\n",
       "      <th>145</th>\n",
       "      <th>146</th>\n",
       "      <th>147</th>\n",
       "      <th>148</th>\n",
       "      <th>149</th>\n",
       "    </tr>\n",
       "  </thead>\n",
       "  <tbody>\n",
       "    <tr>\n",
       "      <th>0</th>\n",
       "      <td>E</td>\n",
       "      <td>V</td>\n",
       "      <td>Q</td>\n",
       "      <td>L</td>\n",
       "      <td>Q</td>\n",
       "      <td>Q</td>\n",
       "      <td>S</td>\n",
       "      <td>-</td>\n",
       "      <td>G</td>\n",
       "      <td>A</td>\n",
       "      <td>...</td>\n",
       "      <td>Q</td>\n",
       "      <td>G</td>\n",
       "      <td>T</td>\n",
       "      <td>-</td>\n",
       "      <td>L</td>\n",
       "      <td>V</td>\n",
       "      <td>T</td>\n",
       "      <td>V</td>\n",
       "      <td>S</td>\n",
       "      <td>A</td>\n",
       "    </tr>\n",
       "  </tbody>\n",
       "</table>\n",
       "<p>1 rows × 164 columns</p>\n",
       "</div>"
      ],
      "text/plain": [
       "   1  2  3  4  5  6  7  8  9 10  ... 141 142 143 143A 144 145 146 147 148 149\n",
       "0  E  V  Q  L  Q  Q  S  -  G  A  ...   Q   G   T    -   L   V   T   V   S   A\n",
       "\n",
       "[1 rows x 164 columns]"
      ]
     },
     "execution_count": 210,
     "metadata": {},
     "output_type": "execute_result"
    }
   ],
   "source": [
    "X.head(n=1)"
   ]
  },
  {
   "cell_type": "code",
   "execution_count": 211,
   "id": "e4dfe125-0ebe-4826-ae81-40b0744dd32d",
   "metadata": {},
   "outputs": [
    {
     "name": "stdout",
     "output_type": "stream",
     "text": [
      "pd.dataFrame\n",
      "       1     2     3    4     5    6     7    8     9    10  ...   141   142  \\\n",
      "0  100.0  36.0  50.1  4.4  51.9  3.5  28.8 -1.0  68.3  71.2  ...  28.5  13.3   \n",
      "\n",
      "   143  143A   144  145   146  147   148   149  \n",
      "0  1.4  -1.0  30.0  2.2  19.3  4.3  14.3  75.0  \n",
      "\n",
      "[1 rows x 164 columns]\n"
     ]
    }
   ],
   "source": [
    "if isinstance(Y, pd.DataFrame):\n",
    "    print('pd.dataFrame')\n",
    "    print(Y.head(n=1))\n",
    "elif isinstance(Y, np.ndarray):\n",
    "    print('numpy array')\n",
    "    print(Y)\n",
    "else:\n",
    "    print('Y is of unknown type')"
   ]
  },
  {
   "cell_type": "markdown",
   "id": "3cd32032-cde0-4437-a0c9-5c08f4764547",
   "metadata": {},
   "source": [
    "---"
   ]
  },
  {
   "cell_type": "markdown",
   "id": "93f92c4e-37bb-40d9-91db-9fbd8537b3b8",
   "metadata": {
    "tags": []
   },
   "source": [
    "## Train the model"
   ]
  },
  {
   "cell_type": "markdown",
   "id": "8905df17-3f53-4c95-9bba-cbcd94fd5061",
   "metadata": {},
   "source": [
    "**This may take a while:**"
   ]
  },
  {
   "cell_type": "code",
   "execution_count": 212,
   "id": "8a21891a-aa84-4ae1-8e57-ba56f868a6c0",
   "metadata": {},
   "outputs": [
    {
     "name": "stdout",
     "output_type": "stream",
     "text": [
      "model: KNNWholeSequence(n_neighbors=10)\n",
      "model fitting took 0.05s\n"
     ]
    }
   ],
   "source": [
    "print('model:', model)\n",
    "fit_start = time.time()\n",
    "model.fit(X, Y)\n",
    "fit_end = time.time()\n",
    "print(f'model fitting took {fit_end-fit_start:.2f}s')"
   ]
  },
  {
   "cell_type": "markdown",
   "id": "64c00314-c3b8-456c-9ace-50b7d9b2338b",
   "metadata": {},
   "source": [
    "---"
   ]
  },
  {
   "cell_type": "markdown",
   "id": "a44743ca-546f-4597-8c67-462ddeedccbd",
   "metadata": {
    "tags": []
   },
   "source": [
    "## Save trained model"
   ]
  },
  {
   "cell_type": "markdown",
   "id": "a5101365-1ad1-4849-b883-3955a504698d",
   "metadata": {},
   "source": [
    "**Save the model to the `data/pickles/trained-test-models` directory:**"
   ]
  },
  {
   "cell_type": "code",
   "execution_count": 213,
   "id": "f98b8554-0173-42a7-9470-652fa9311083",
   "metadata": {},
   "outputs": [
    {
     "name": "stdout",
     "output_type": "stream",
     "text": [
      "saving the model to: ../../data/pickles/trained-test-models/lco_whole_sequence_all_H_BLknnwholeseqn10.p\n"
     ]
    }
   ],
   "source": [
    "saved_model_file_path = f'{TRAINED_MODELS_DIR_PATH}/{FEATURES}_{MODEL_NAME}.p'\n",
    "with open(saved_model_file_path, 'wb') as trained_model_file:\n",
    "    print('saving the model to:', saved_model_file_path)\n",
    "    pickle.dump(model, trained_model_file)"
   ]
  },
  {
   "cell_type": "code",
   "execution_count": null,
   "id": "4086afad-8387-4a7b-82c7-8be011c7d0fb",
   "metadata": {},
   "outputs": [],
   "source": []
  }
 ],
 "metadata": {
  "kernelspec": {
   "display_name": "Python 3 (ipykernel)",
   "language": "python",
   "name": "python3"
  },
  "language_info": {
   "codemirror_mode": {
    "name": "ipython",
    "version": 3
   },
   "file_extension": ".py",
   "mimetype": "text/x-python",
   "name": "python",
   "nbconvert_exporter": "python",
   "pygments_lexer": "ipython3",
   "version": "3.10.14"
  }
 },
 "nbformat": 4,
 "nbformat_minor": 5
}
